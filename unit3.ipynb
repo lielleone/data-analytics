{
 "cells": [
  {
   "cell_type": "markdown",
   "metadata": {
    "tags": []
   },
   "source": [
    "# Unit 3 - Missing values and Data statistics\n",
    "---\n",
    "\n",
    "1. [Find rows with missing values](#section1)\n",
    "2. [Remove missing values using dropna()](#section2)\n",
    "3. [Fill missing values using fillna()](#section3)\n",
    "4. [Fill missing values using interpolate()](#section4)\n",
    "5. [Replace values](#section5)\n",
    "5. [A note on slicing - copy()](#section6)\n",
    "6. [GroupBy()](#section7)\n",
    "\n",
    "\n",
    "\n"
   ]
  },
  {
   "cell_type": "code",
   "execution_count": 1,
   "metadata": {},
   "outputs": [],
   "source": [
    "import pandas as pd\n",
    "import numpy as np"
   ]
  },
  {
   "cell_type": "code",
   "execution_count": 2,
   "metadata": {},
   "outputs": [
    {
     "data": {
      "text/plain": [
       "(114892, 16)"
      ]
     },
     "execution_count": 2,
     "metadata": {},
     "output_type": "execute_result"
    }
   ],
   "source": [
    "url = 'https://raw.githubusercontent.com/owid/covid-19-data/master/public/data/vaccinations/vaccinations.csv'\n",
    "vacc_df = pd.read_csv(url)\n",
    "vacc_df.shape"
   ]
  },
  {
   "cell_type": "markdown",
   "metadata": {},
   "source": [
    "#### Treating missing values is optional. Sometimes we just leave the dataframe with missing values!!"
   ]
  },
  {
   "cell_type": "code",
   "execution_count": 17,
   "metadata": {},
   "outputs": [],
   "source": [
    "somedata = vacc_df.loc[(vacc_df.location == 'Zimbabwe')&(vacc_df.date < \"2021-02-28\") ]"
   ]
  },
  {
   "cell_type": "markdown",
   "metadata": {},
   "source": [
    "#### But sometimes we want to treat missing values. This graph for example:"
   ]
  },
  {
   "cell_type": "code",
   "execution_count": 31,
   "metadata": {},
   "outputs": [
    {
     "data": {
      "image/png": "[encoded data removed]",
      "text/plain": [
       "<Figure size 432x288 with 1 Axes>"
      ]
     },
     "metadata": {
      "needs_background": "light"
     },
     "output_type": "display_data"
    }
   ],
   "source": [
    "import seaborn as sns\n",
    "import matplotlib.pyplot as plt\n",
    "ax = sns.barplot(x = \"date\", y = \"total_vaccinations\", data = somedata)\n",
    "ax.set_xticklabels(ax.get_xticklabels(),rotation=90)\n",
    "ax.set_yscale(\"log\")\n",
    "plt.show()"
   ]
  },
  {
   "cell_type": "markdown",
   "metadata": {},
   "source": [
    "\n",
    "<a id='section1'></a>\n",
    "### 1. Find rows with missing values\n",
    "\n",
    "`null` / `na` - no value\n",
    "\n",
    "`NaN` - **N**ot **a** **N**umber - the value is missing. This value will be ignored in calculations such as `.mean()`"
   ]
  },
  {
   "cell_type": "markdown",
   "metadata": {},
   "source": [
    "`isnull()` is a pandas function, so either use it on a dataframe or call it through pd"
   ]
  },
  {
   "cell_type": "code",
   "execution_count": null,
   "metadata": {},
   "outputs": [],
   "source": [
    "vacc_df.head()"
   ]
  },
  {
   "cell_type": "code",
   "execution_count": null,
   "metadata": {},
   "outputs": [],
   "source": [
    "vacc_df.isnull().sum()"
   ]
  },
  {
   "cell_type": "markdown",
   "metadata": {},
   "source": [
    "##### call it through pandas:"
   ]
  },
  {
   "cell_type": "code",
   "execution_count": null,
   "metadata": {},
   "outputs": [],
   "source": [
    "pd.isnull(vacc_df).sum()"
   ]
  },
  {
   "cell_type": "markdown",
   "metadata": {},
   "source": [
    "##### View specific columns:"
   ]
  },
  {
   "cell_type": "code",
   "execution_count": null,
   "metadata": {},
   "outputs": [],
   "source": [
    "vacc_df[['daily_vaccinations', 'total_vaccinations']].notnull().sum()"
   ]
  },
  {
   "cell_type": "code",
   "execution_count": null,
   "metadata": {},
   "outputs": [],
   "source": [
    "vacc_df[['daily_vaccinations']].isnull().sum()"
   ]
  },
  {
   "cell_type": "markdown",
   "metadata": {},
   "source": [
    "##### Using numpy: `isnan` is a numpy function"
   ]
  },
  {
   "cell_type": "code",
   "execution_count": null,
   "metadata": {},
   "outputs": [],
   "source": [
    "np.isnan(vacc_df[['daily_vaccinations']]).sum()"
   ]
  },
  {
   "cell_type": "markdown",
   "metadata": {},
   "source": [
    "<a id='section2'></a>\n",
    "### 2. Remove missing values using dropna() "
   ]
  },
  {
   "cell_type": "markdown",
   "metadata": {},
   "source": [
    "##### Look at Zimbabwe for example. Zimbabwe contains missing values:"
   ]
  },
  {
   "cell_type": "code",
   "execution_count": 13,
   "metadata": {},
   "outputs": [
    {
     "data": {
      "text/html": [
       "<div>\n",
       "<style scoped>\n",
       "    .dataframe tbody tr th:only-of-type {\n",
       "        vertical-align: middle;\n",
       "    }\n",
       "\n",
       "    .dataframe tbody tr th {\n",
       "        vertical-align: top;\n",
       "    }\n",
       "\n",
       "    .dataframe thead th {\n",
       "        text-align: right;\n",
       "    }\n",
       "</style>\n",
       "<table border=\"1\" class=\"dataframe\">\n",
       "  <thead>\n",
       "    <tr style=\"text-align: right;\">\n",
       "      <th></th>\n",
       "      <th>location</th>\n",
       "      <th>iso_code</th>\n",
       "      <th>date</th>\n",
       "      <th>total_vaccinations</th>\n",
       "      <th>people_vaccinated</th>\n",
       "      <th>people_fully_vaccinated</th>\n",
       "      <th>total_boosters</th>\n",
       "      <th>daily_vaccinations_raw</th>\n",
       "      <th>daily_vaccinations</th>\n",
       "      <th>total_vaccinations_per_hundred</th>\n",
       "      <th>people_vaccinated_per_hundred</th>\n",
       "      <th>people_fully_vaccinated_per_hundred</th>\n",
       "      <th>total_boosters_per_hundred</th>\n",
       "      <th>daily_vaccinations_per_million</th>\n",
       "      <th>daily_people_vaccinated</th>\n",
       "      <th>daily_people_vaccinated_per_hundred</th>\n",
       "    </tr>\n",
       "  </thead>\n",
       "  <tbody>\n",
       "    <tr>\n",
       "      <th>114386</th>\n",
       "      <td>Zimbabwe</td>\n",
       "      <td>ZWE</td>\n",
       "      <td>2021-02-18</td>\n",
       "      <td>39.0</td>\n",
       "      <td>39.0</td>\n",
       "      <td>NaN</td>\n",
       "      <td>NaN</td>\n",
       "      <td>NaN</td>\n",
       "      <td>NaN</td>\n",
       "      <td>0.00</td>\n",
       "      <td>0.00</td>\n",
       "      <td>NaN</td>\n",
       "      <td>NaN</td>\n",
       "      <td>NaN</td>\n",
       "      <td>NaN</td>\n",
       "      <td>NaN</td>\n",
       "    </tr>\n",
       "    <tr>\n",
       "      <th>114387</th>\n",
       "      <td>Zimbabwe</td>\n",
       "      <td>ZWE</td>\n",
       "      <td>2021-02-19</td>\n",
       "      <td>NaN</td>\n",
       "      <td>NaN</td>\n",
       "      <td>NaN</td>\n",
       "      <td>NaN</td>\n",
       "      <td>NaN</td>\n",
       "      <td>425.0</td>\n",
       "      <td>NaN</td>\n",
       "      <td>NaN</td>\n",
       "      <td>NaN</td>\n",
       "      <td>NaN</td>\n",
       "      <td>27.0</td>\n",
       "      <td>425.0</td>\n",
       "      <td>0.003</td>\n",
       "    </tr>\n",
       "    <tr>\n",
       "      <th>114388</th>\n",
       "      <td>Zimbabwe</td>\n",
       "      <td>ZWE</td>\n",
       "      <td>2021-02-20</td>\n",
       "      <td>NaN</td>\n",
       "      <td>NaN</td>\n",
       "      <td>NaN</td>\n",
       "      <td>NaN</td>\n",
       "      <td>NaN</td>\n",
       "      <td>425.0</td>\n",
       "      <td>NaN</td>\n",
       "      <td>NaN</td>\n",
       "      <td>NaN</td>\n",
       "      <td>NaN</td>\n",
       "      <td>27.0</td>\n",
       "      <td>425.0</td>\n",
       "      <td>0.003</td>\n",
       "    </tr>\n",
       "    <tr>\n",
       "      <th>114389</th>\n",
       "      <td>Zimbabwe</td>\n",
       "      <td>ZWE</td>\n",
       "      <td>2021-02-21</td>\n",
       "      <td>1314.0</td>\n",
       "      <td>1314.0</td>\n",
       "      <td>NaN</td>\n",
       "      <td>NaN</td>\n",
       "      <td>NaN</td>\n",
       "      <td>425.0</td>\n",
       "      <td>0.01</td>\n",
       "      <td>0.01</td>\n",
       "      <td>NaN</td>\n",
       "      <td>NaN</td>\n",
       "      <td>27.0</td>\n",
       "      <td>425.0</td>\n",
       "      <td>0.003</td>\n",
       "    </tr>\n",
       "    <tr>\n",
       "      <th>114390</th>\n",
       "      <td>Zimbabwe</td>\n",
       "      <td>ZWE</td>\n",
       "      <td>2021-02-22</td>\n",
       "      <td>NaN</td>\n",
       "      <td>NaN</td>\n",
       "      <td>NaN</td>\n",
       "      <td>NaN</td>\n",
       "      <td>NaN</td>\n",
       "      <td>660.0</td>\n",
       "      <td>NaN</td>\n",
       "      <td>NaN</td>\n",
       "      <td>NaN</td>\n",
       "      <td>NaN</td>\n",
       "      <td>41.0</td>\n",
       "      <td>660.0</td>\n",
       "      <td>0.004</td>\n",
       "    </tr>\n",
       "    <tr>\n",
       "      <th>114391</th>\n",
       "      <td>Zimbabwe</td>\n",
       "      <td>ZWE</td>\n",
       "      <td>2021-02-23</td>\n",
       "      <td>4041.0</td>\n",
       "      <td>4041.0</td>\n",
       "      <td>NaN</td>\n",
       "      <td>NaN</td>\n",
       "      <td>NaN</td>\n",
       "      <td>800.0</td>\n",
       "      <td>0.03</td>\n",
       "      <td>0.03</td>\n",
       "      <td>NaN</td>\n",
       "      <td>NaN</td>\n",
       "      <td>50.0</td>\n",
       "      <td>800.0</td>\n",
       "      <td>0.005</td>\n",
       "    </tr>\n",
       "    <tr>\n",
       "      <th>114392</th>\n",
       "      <td>Zimbabwe</td>\n",
       "      <td>ZWE</td>\n",
       "      <td>2021-02-24</td>\n",
       "      <td>6115.0</td>\n",
       "      <td>6115.0</td>\n",
       "      <td>NaN</td>\n",
       "      <td>NaN</td>\n",
       "      <td>2074.0</td>\n",
       "      <td>1013.0</td>\n",
       "      <td>0.04</td>\n",
       "      <td>0.04</td>\n",
       "      <td>NaN</td>\n",
       "      <td>NaN</td>\n",
       "      <td>63.0</td>\n",
       "      <td>1013.0</td>\n",
       "      <td>0.006</td>\n",
       "    </tr>\n",
       "    <tr>\n",
       "      <th>114393</th>\n",
       "      <td>Zimbabwe</td>\n",
       "      <td>ZWE</td>\n",
       "      <td>2021-02-25</td>\n",
       "      <td>11264.0</td>\n",
       "      <td>11264.0</td>\n",
       "      <td>NaN</td>\n",
       "      <td>NaN</td>\n",
       "      <td>5149.0</td>\n",
       "      <td>1604.0</td>\n",
       "      <td>0.07</td>\n",
       "      <td>0.07</td>\n",
       "      <td>NaN</td>\n",
       "      <td>NaN</td>\n",
       "      <td>100.0</td>\n",
       "      <td>1604.0</td>\n",
       "      <td>0.010</td>\n",
       "    </tr>\n",
       "    <tr>\n",
       "      <th>114394</th>\n",
       "      <td>Zimbabwe</td>\n",
       "      <td>ZWE</td>\n",
       "      <td>2021-02-26</td>\n",
       "      <td>12836.0</td>\n",
       "      <td>12836.0</td>\n",
       "      <td>NaN</td>\n",
       "      <td>NaN</td>\n",
       "      <td>1572.0</td>\n",
       "      <td>1767.0</td>\n",
       "      <td>0.08</td>\n",
       "      <td>0.08</td>\n",
       "      <td>NaN</td>\n",
       "      <td>NaN</td>\n",
       "      <td>110.0</td>\n",
       "      <td>1767.0</td>\n",
       "      <td>0.011</td>\n",
       "    </tr>\n",
       "    <tr>\n",
       "      <th>114395</th>\n",
       "      <td>Zimbabwe</td>\n",
       "      <td>ZWE</td>\n",
       "      <td>2021-02-27</td>\n",
       "      <td>15962.0</td>\n",
       "      <td>15962.0</td>\n",
       "      <td>NaN</td>\n",
       "      <td>NaN</td>\n",
       "      <td>3126.0</td>\n",
       "      <td>2153.0</td>\n",
       "      <td>0.10</td>\n",
       "      <td>0.10</td>\n",
       "      <td>NaN</td>\n",
       "      <td>NaN</td>\n",
       "      <td>135.0</td>\n",
       "      <td>2153.0</td>\n",
       "      <td>0.013</td>\n",
       "    </tr>\n",
       "  </tbody>\n",
       "</table>\n",
       "</div>"
      ],
      "text/plain": [
       "        location iso_code        date  total_vaccinations  people_vaccinated  \\\n",
       "114386  Zimbabwe      ZWE  2021-02-18                39.0               39.0   \n",
       "114387  Zimbabwe      ZWE  2021-02-19                 NaN                NaN   \n",
       "114388  Zimbabwe      ZWE  2021-02-20                 NaN                NaN   \n",
       "114389  Zimbabwe      ZWE  2021-02-21              1314.0             1314.0   \n",
       "114390  Zimbabwe      ZWE  2021-02-22                 NaN                NaN   \n",
       "114391  Zimbabwe      ZWE  2021-02-23              4041.0             4041.0   \n",
       "114392  Zimbabwe      ZWE  2021-02-24              6115.0             6115.0   \n",
       "114393  Zimbabwe      ZWE  2021-02-25             11264.0            11264.0   \n",
       "114394  Zimbabwe      ZWE  2021-02-26             12836.0            12836.0   \n",
       "114395  Zimbabwe      ZWE  2021-02-27             15962.0            15962.0   \n",
       "\n",
       "        people_fully_vaccinated  total_boosters  daily_vaccinations_raw  \\\n",
       "114386                      NaN             NaN                     NaN   \n",
       "114387                      NaN             NaN                     NaN   \n",
       "114388                      NaN             NaN                     NaN   \n",
       "114389                      NaN             NaN                     NaN   \n",
       "114390                      NaN             NaN                     NaN   \n",
       "114391                      NaN             NaN                     NaN   \n",
       "114392                      NaN             NaN                  2074.0   \n",
       "114393                      NaN             NaN                  5149.0   \n",
       "114394                      NaN             NaN                  1572.0   \n",
       "114395                      NaN             NaN                  3126.0   \n",
       "\n",
       "        daily_vaccinations  total_vaccinations_per_hundred  \\\n",
       "114386                 NaN                            0.00   \n",
       "114387               425.0                             NaN   \n",
       "114388               425.0                             NaN   \n",
       "114389               425.0                            0.01   \n",
       "114390               660.0                             NaN   \n",
       "114391               800.0                            0.03   \n",
       "114392              1013.0                            0.04   \n",
       "114393              1604.0                            0.07   \n",
       "114394              1767.0                            0.08   \n",
       "114395              2153.0                            0.10   \n",
       "\n",
       "        people_vaccinated_per_hundred  people_fully_vaccinated_per_hundred  \\\n",
       "114386                           0.00                                  NaN   \n",
       "114387                            NaN                                  NaN   \n",
       "114388                            NaN                                  NaN   \n",
       "114389                           0.01                                  NaN   \n",
       "114390                            NaN                                  NaN   \n",
       "114391                           0.03                                  NaN   \n",
       "114392                           0.04                                  NaN   \n",
       "114393                           0.07                                  NaN   \n",
       "114394                           0.08                                  NaN   \n",
       "114395                           0.10                                  NaN   \n",
       "\n",
       "        total_boosters_per_hundred  daily_vaccinations_per_million  \\\n",
       "114386                         NaN                             NaN   \n",
       "114387                         NaN                            27.0   \n",
       "114388                         NaN                            27.0   \n",
       "114389                         NaN                            27.0   \n",
       "114390                         NaN                            41.0   \n",
       "114391                         NaN                            50.0   \n",
       "114392                         NaN                            63.0   \n",
       "114393                         NaN                           100.0   \n",
       "114394                         NaN                           110.0   \n",
       "114395                         NaN                           135.0   \n",
       "\n",
       "        daily_people_vaccinated  daily_people_vaccinated_per_hundred  \n",
       "114386                      NaN                                  NaN  \n",
       "114387                    425.0                                0.003  \n",
       "114388                    425.0                                0.003  \n",
       "114389                    425.0                                0.003  \n",
       "114390                    660.0                                0.004  \n",
       "114391                    800.0                                0.005  \n",
       "114392                   1013.0                                0.006  \n",
       "114393                   1604.0                                0.010  \n",
       "114394                   1767.0                                0.011  \n",
       "114395                   2153.0                                0.013  "
      ]
     },
     "execution_count": 13,
     "metadata": {},
     "output_type": "execute_result"
    }
   ],
   "source": [
    "zimbabwe = vacc_df.loc[vacc_df.location == 'Zimbabwe']\n",
    "zimbabwe.head(10)"
   ]
  },
  {
   "cell_type": "code",
   "execution_count": null,
   "metadata": {},
   "outputs": [],
   "source": [
    "zimbabwe[['total_vaccinations']].isnull().sum()"
   ]
  },
  {
   "cell_type": "code",
   "execution_count": null,
   "metadata": {},
   "outputs": [],
   "source": [
    "zimbabwe['total_vaccinations'].notnull().sum()"
   ]
  },
  {
   "cell_type": "markdown",
   "metadata": {},
   "source": [
    "##### We can see the difference when counting the number of values per row:"
   ]
  },
  {
   "cell_type": "code",
   "execution_count": null,
   "metadata": {},
   "outputs": [],
   "source": [
    "zimbabwe.count()"
   ]
  },
  {
   "cell_type": "markdown",
   "metadata": {},
   "source": [
    "##### Remove all rows that contain one or more missing values: "
   ]
  },
  {
   "cell_type": "code",
   "execution_count": null,
   "metadata": {},
   "outputs": [],
   "source": [
    "zimbabwe.dropna()"
   ]
  },
  {
   "cell_type": "markdown",
   "metadata": {},
   "source": [
    "Note: `dropna()`, like most other functions in the pandas API returns a new DataFrame \n",
    "(a copy of the original with changes) as the result, so you should assign it back if you want to see changes:"
   ]
  },
  {
   "cell_type": "code",
   "execution_count": null,
   "metadata": {},
   "outputs": [],
   "source": [
    "zimbabwe.head()"
   ]
  },
  {
   "cell_type": "markdown",
   "metadata": {},
   "source": [
    "assign it back:"
   ]
  },
  {
   "cell_type": "code",
   "execution_count": null,
   "metadata": {},
   "outputs": [],
   "source": [
    "zimbabwe = zimbabwe.dropna()\n",
    "zimbabwe"
   ]
  },
  {
   "cell_type": "markdown",
   "metadata": {},
   "source": [
    "Re-read the df so we have the NaNs again"
   ]
  },
  {
   "cell_type": "code",
   "execution_count": 159,
   "metadata": {},
   "outputs": [],
   "source": [
    "zimbabwe = vacc_df.loc[vacc_df.location == 'Zimbabwe']"
   ]
  },
  {
   "cell_type": "markdown",
   "metadata": {
    "tags": []
   },
   "source": [
    "# Remove all values for a specific column - using `subset`"
   ]
  },
  {
   "cell_type": "code",
   "execution_count": null,
   "metadata": {},
   "outputs": [],
   "source": [
    "zimbabwe.dropna(subset = ['total_vaccinations'])"
   ]
  },
  {
   "cell_type": "markdown",
   "metadata": {},
   "source": [
    "For more columns:"
   ]
  },
  {
   "cell_type": "code",
   "execution_count": null,
   "metadata": {},
   "outputs": [],
   "source": [
    "zimbabwe.dropna(subset = ['total_vaccinations', 'daily_vaccinations_per_million']).head()"
   ]
  },
  {
   "cell_type": "markdown",
   "metadata": {},
   "source": [
    "### We can now answer a question such as - which countries have the longest running vaccination programs?\n",
    "\n",
    "Remember -`date` in this data is never null\n",
    "\n",
    "Create a dataset that doesn't have null values for `people_vaccinated`\n"
   ]
  },
  {
   "cell_type": "code",
   "execution_count": null,
   "metadata": {},
   "outputs": [],
   "source": [
    "vacc_df_full = vacc_df.dropna(subset = ['people_vaccinated'])"
   ]
  },
  {
   "cell_type": "markdown",
   "metadata": {},
   "source": [
    "use `value counts` - count how many times each `location` shows up:"
   ]
  },
  {
   "cell_type": "code",
   "execution_count": null,
   "metadata": {},
   "outputs": [],
   "source": [
    "vacc_df_full[[\"location\"]].value_counts().head(10)"
   ]
  },
  {
   "cell_type": "markdown",
   "metadata": {},
   "source": [
    "Remove places that are not countries"
   ]
  },
  {
   "cell_type": "code",
   "execution_count": null,
   "metadata": {},
   "outputs": [],
   "source": [
    "vacc_df_full = vacc_df_full[(vacc_df_full.location != \"Europe\") & \n",
    "                            (vacc_df_full.location != \"High income\") &\n",
    "                            (vacc_df_full.location != \"World\") &\n",
    "                            (vacc_df_full.location != \"European Union\") &\n",
    "                            (vacc_df_full.location != \"North America\") &\n",
    "                            (vacc_df_full.location != \"Upper middle income\") &\n",
    "                            (vacc_df_full.location != \"Asia\") &\n",
    "                            (vacc_df_full.location != \"South America\")]"
   ]
  },
  {
   "cell_type": "markdown",
   "metadata": {},
   "source": [
    "Now we can finally see the countries with the longest running vaccination program"
   ]
  },
  {
   "cell_type": "code",
   "execution_count": null,
   "metadata": {},
   "outputs": [],
   "source": [
    "vacc_df_full[[\"location\"]].value_counts().head(10)"
   ]
  },
  {
   "cell_type": "markdown",
   "metadata": {},
   "source": [
    "Note: we alreay used `value_counts` in unit 2. What we added here is an additional step, we first removed missing values and then used value_counts\n",
    "\n",
    "The below contains missing values for countries such as Latvia and Russia"
   ]
  },
  {
   "cell_type": "code",
   "execution_count": null,
   "metadata": {},
   "outputs": [],
   "source": [
    "vacc_df[[\"location\"]].value_counts().head(10)"
   ]
  },
  {
   "cell_type": "markdown",
   "metadata": {},
   "source": [
    "---\n",
    ">A summary of the functions so far:\n",
    ">\n",
    ">* `.isnull()` - display rows that contain missing values\n",
    ">* `.notnull()` - display rows that don't contain missing values\n",
    ">* `.dropna()` - Remove rows with missing values according to parameters:\n",
    "    * `.dropna()` (default) - drops rows if at least one column has NaN\n",
    "    * `.dropna(subset = ['column_name'])` - drop rows that contain missing values in the subset of column names\n",
    "    * `.dropna(how='all')` - drops rows only if all of its columns have NaNs\n",
    "    * `.dropna(thresh = k)` - k how many non-null values you want to keep (k=3 means the row should contain at least 3 non-null values)\n",
    "    * `.dropna(axis=1)` - drop columns instead of rows\n",
    ">\n",
    "\n",
    "See documnetation [here.](https://pandas.pydata.org/pandas-docs/stable/reference/api/pandas.DataFrame.dropna.html)\n",
    "\n",
    "---\n"
   ]
  },
  {
   "cell_type": "markdown",
   "metadata": {},
   "source": [
    "<a id='section3'></a>\n",
    "### 3. Fill missing values using fillna()"
   ]
  },
  {
   "cell_type": "markdown",
   "metadata": {},
   "source": [
    "Use `.fillna()` to fill missing dataframe values with:\n",
    "* Whatever value you choose\n",
    "* Mean, median, mode\n",
    "\n",
    "This is called *imputation*"
   ]
  },
  {
   "cell_type": "markdown",
   "metadata": {},
   "source": [
    "Replace all NaNs with 0s"
   ]
  },
  {
   "cell_type": "code",
   "execution_count": null,
   "metadata": {},
   "outputs": [],
   "source": [
    "vacc_df.fillna(0, inplace = False )\n",
    "vacc_df"
   ]
  },
  {
   "cell_type": "markdown",
   "metadata": {},
   "source": [
    ">`inplace = False` is the default. This doesn't change the vacc_df dataframe. \n",
    ">\n",
    ">To change it you need:\n",
    ">\n",
    ">`vacc_df.fillna(0 , inplace = True)`\n",
    ">\n",
    ">or to assign:\n",
    ">\n",
    ">`vacc_df = vacc_df.fillna(0)`\n",
    ">\n",
    ">But we won't do that! This is where some **business understanding** comes in: it's not a good idea to fill a column like `total_vaccinations` with 0s. \n",
    ">\n",
    ">See what happens:"
   ]
  },
  {
   "cell_type": "code",
   "execution_count": null,
   "metadata": {},
   "outputs": [],
   "source": [
    "vacc_df.fillna(0).head(10)"
   ]
  },
  {
   "cell_type": "markdown",
   "metadata": {},
   "source": [
    "So we'll use 0's only for the daily_vaccinations columns, and perhaps for some other columns (which?)"
   ]
  },
  {
   "cell_type": "code",
   "execution_count": null,
   "metadata": {},
   "outputs": [],
   "source": [
    "vacc_df['daily_vaccinations'].fillna(0 , inplace = True)"
   ]
  },
  {
   "cell_type": "markdown",
   "metadata": {},
   "source": [
    "Other options - using central measures:"
   ]
  },
  {
   "cell_type": "code",
   "execution_count": 6,
   "metadata": {},
   "outputs": [],
   "source": [
    "# Using median\n",
    "vacc_df['daily_vaccinations'].fillna(vacc_df['daily_vaccinations'].median(), inplace=True)\n",
    "  \n",
    "# Using mean\n",
    "#vacc_df['daily_vaccinations'].fillna(vacc_df['daily_vaccinations'].mean(), inplace=True)\n",
    "  \n",
    "# Using mode\n",
    "#vacc_df['daily_vaccinations'].fillna(vacc_df['daily_vaccinations'].mode(), inplace=True)\n"
   ]
  },
  {
   "cell_type": "markdown",
   "metadata": {},
   "source": [
    "What about `total_vaccinations`? - there are some `NaN`s there as well:"
   ]
  },
  {
   "cell_type": "code",
   "execution_count": null,
   "metadata": {},
   "outputs": [],
   "source": [
    "vacc_df.iloc[52:62,[0,2,3]]"
   ]
  },
  {
   "cell_type": "markdown",
   "metadata": {},
   "source": [
    "For the `total_vaccinations` we'll use `ffill` which fills the missing values with first non-missing value that occurs before it.\n",
    "\n",
    "Yes, `bfill` exists as well. If does what you think it does :-)"
   ]
  },
  {
   "cell_type": "code",
   "execution_count": null,
   "metadata": {},
   "outputs": [],
   "source": [
    "vacc_df[['date','total_vaccinations']].fillna(method='ffill')[52:62]\n",
    "#vacc_df['total_vaccinations'][52:62]"
   ]
  },
  {
   "cell_type": "markdown",
   "metadata": {},
   "source": [
    "check it again - what happened?"
   ]
  },
  {
   "cell_type": "code",
   "execution_count": null,
   "metadata": {},
   "outputs": [],
   "source": [
    "vacc_df.iloc[52:62,[0,2,3]]"
   ]
  },
  {
   "cell_type": "markdown",
   "metadata": {},
   "source": [
    "The last value for some country might be NaN \n",
    "\n",
    "Business understanding: this isn't good enought! We need to aggregate by country!!"
   ]
  },
  {
   "cell_type": "code",
   "execution_count": null,
   "metadata": {},
   "outputs": [],
   "source": [
    "vacc_df['total_vacc_no_missing'] = vacc_df.groupby('location')[['total_vaccinations']].apply(lambda x: x.fillna(method='ffill'))\n",
    "vacc_df.iloc[375:385,[0,2,3,16]]"
   ]
  },
  {
   "cell_type": "markdown",
   "metadata": {},
   "source": [
    "##### Note: `fillna(inplace = True)` does not work when `.loc` is used. "
   ]
  },
  {
   "cell_type": "markdown",
   "metadata": {
    "tags": []
   },
   "source": [
    "<a id='section4'></a>\n",
    "### 4. Fill missing values using interpolate()"
   ]
  },
  {
   "cell_type": "code",
   "execution_count": null,
   "metadata": {},
   "outputs": [],
   "source": [
    "vacc_df['total_vacc_interpolate'] = vacc_df['total_vaccinations'].interpolate(method ='linear') \n",
    "vacc_df.iloc[44:62,[0,2,3,16, 17]]"
   ]
  },
  {
   "cell_type": "markdown",
   "metadata": {},
   "source": [
    "<a id='section5'></a>\n",
    "### 5. Replace values"
   ]
  },
  {
   "cell_type": "markdown",
   "metadata": {},
   "source": [
    "Sometime we need to replace values, not fill missing values.\n",
    "\n",
    "[replace documentation](https://pandas.pydata.org/docs/reference/api/pandas.DataFrame.replace.html)\n",
    "\n",
    "> you try!\n",
    ">\n",
    "> read the documentation and try to figure out how it's done"
   ]
  },
  {
   "cell_type": "code",
   "execution_count": null,
   "metadata": {},
   "outputs": [],
   "source": []
  },
  {
   "cell_type": "code",
   "execution_count": 11,
   "metadata": {},
   "outputs": [
    {
     "data": {
      "text/html": [
       "<div>\n",
       "<style scoped>\n",
       "    .dataframe tbody tr th:only-of-type {\n",
       "        vertical-align: middle;\n",
       "    }\n",
       "\n",
       "    .dataframe tbody tr th {\n",
       "        vertical-align: top;\n",
       "    }\n",
       "\n",
       "    .dataframe thead th {\n",
       "        text-align: right;\n",
       "    }\n",
       "</style>\n",
       "<table border=\"1\" class=\"dataframe\">\n",
       "  <thead>\n",
       "    <tr style=\"text-align: right;\">\n",
       "      <th></th>\n",
       "      <th>location</th>\n",
       "      <th>date</th>\n",
       "      <th>total_vaccinations</th>\n",
       "      <th>total_vacc_no_missing</th>\n",
       "      <th>total_vacc_interpolate</th>\n",
       "    </tr>\n",
       "  </thead>\n",
       "  <tbody>\n",
       "    <tr>\n",
       "      <th>44</th>\n",
       "      <td>Afghanistan</td>\n",
       "      <td>2021-04-07</td>\n",
       "      <td>120000.0</td>\n",
       "      <td>120000.0</td>\n",
       "      <td>120000.000000</td>\n",
       "    </tr>\n",
       "    <tr>\n",
       "      <th>45</th>\n",
       "      <td>Afghanistan</td>\n",
       "      <td>2021-04-08</td>\n",
       "      <td>NaN</td>\n",
       "      <td>120000.0</td>\n",
       "      <td>128000.000000</td>\n",
       "    </tr>\n",
       "    <tr>\n",
       "      <th>46</th>\n",
       "      <td>Afghanistan</td>\n",
       "      <td>2021-04-09</td>\n",
       "      <td>NaN</td>\n",
       "      <td>120000.0</td>\n",
       "      <td>136000.000000</td>\n",
       "    </tr>\n",
       "    <tr>\n",
       "      <th>47</th>\n",
       "      <td>Afghanistan</td>\n",
       "      <td>2021-04-10</td>\n",
       "      <td>NaN</td>\n",
       "      <td>120000.0</td>\n",
       "      <td>144000.000000</td>\n",
       "    </tr>\n",
       "    <tr>\n",
       "      <th>48</th>\n",
       "      <td>Afghanistan</td>\n",
       "      <td>2021-04-11</td>\n",
       "      <td>NaN</td>\n",
       "      <td>120000.0</td>\n",
       "      <td>152000.000000</td>\n",
       "    </tr>\n",
       "    <tr>\n",
       "      <th>49</th>\n",
       "      <td>Afghanistan</td>\n",
       "      <td>2021-04-12</td>\n",
       "      <td>NaN</td>\n",
       "      <td>120000.0</td>\n",
       "      <td>160000.000000</td>\n",
       "    </tr>\n",
       "    <tr>\n",
       "      <th>50</th>\n",
       "      <td>Afghanistan</td>\n",
       "      <td>2021-04-13</td>\n",
       "      <td>NaN</td>\n",
       "      <td>120000.0</td>\n",
       "      <td>168000.000000</td>\n",
       "    </tr>\n",
       "    <tr>\n",
       "      <th>51</th>\n",
       "      <td>Afghanistan</td>\n",
       "      <td>2021-04-14</td>\n",
       "      <td>NaN</td>\n",
       "      <td>120000.0</td>\n",
       "      <td>176000.000000</td>\n",
       "    </tr>\n",
       "    <tr>\n",
       "      <th>52</th>\n",
       "      <td>Afghanistan</td>\n",
       "      <td>2021-04-15</td>\n",
       "      <td>NaN</td>\n",
       "      <td>120000.0</td>\n",
       "      <td>184000.000000</td>\n",
       "    </tr>\n",
       "    <tr>\n",
       "      <th>53</th>\n",
       "      <td>Afghanistan</td>\n",
       "      <td>2021-04-16</td>\n",
       "      <td>NaN</td>\n",
       "      <td>120000.0</td>\n",
       "      <td>192000.000000</td>\n",
       "    </tr>\n",
       "    <tr>\n",
       "      <th>54</th>\n",
       "      <td>Afghanistan</td>\n",
       "      <td>2021-04-17</td>\n",
       "      <td>NaN</td>\n",
       "      <td>120000.0</td>\n",
       "      <td>200000.000000</td>\n",
       "    </tr>\n",
       "    <tr>\n",
       "      <th>55</th>\n",
       "      <td>Afghanistan</td>\n",
       "      <td>2021-04-18</td>\n",
       "      <td>NaN</td>\n",
       "      <td>120000.0</td>\n",
       "      <td>208000.000000</td>\n",
       "    </tr>\n",
       "    <tr>\n",
       "      <th>56</th>\n",
       "      <td>Afghanistan</td>\n",
       "      <td>2021-04-19</td>\n",
       "      <td>NaN</td>\n",
       "      <td>120000.0</td>\n",
       "      <td>216000.000000</td>\n",
       "    </tr>\n",
       "    <tr>\n",
       "      <th>57</th>\n",
       "      <td>Afghanistan</td>\n",
       "      <td>2021-04-20</td>\n",
       "      <td>NaN</td>\n",
       "      <td>120000.0</td>\n",
       "      <td>224000.000000</td>\n",
       "    </tr>\n",
       "    <tr>\n",
       "      <th>58</th>\n",
       "      <td>Afghanistan</td>\n",
       "      <td>2021-04-21</td>\n",
       "      <td>NaN</td>\n",
       "      <td>120000.0</td>\n",
       "      <td>232000.000000</td>\n",
       "    </tr>\n",
       "    <tr>\n",
       "      <th>59</th>\n",
       "      <td>Afghanistan</td>\n",
       "      <td>2021-04-22</td>\n",
       "      <td>240000.0</td>\n",
       "      <td>240000.0</td>\n",
       "      <td>240000.000000</td>\n",
       "    </tr>\n",
       "    <tr>\n",
       "      <th>60</th>\n",
       "      <td>Afghanistan</td>\n",
       "      <td>2021-04-23</td>\n",
       "      <td>NaN</td>\n",
       "      <td>240000.0</td>\n",
       "      <td>253921.157895</td>\n",
       "    </tr>\n",
       "    <tr>\n",
       "      <th>61</th>\n",
       "      <td>Afghanistan</td>\n",
       "      <td>2021-04-24</td>\n",
       "      <td>NaN</td>\n",
       "      <td>240000.0</td>\n",
       "      <td>267842.315789</td>\n",
       "    </tr>\n",
       "  </tbody>\n",
       "</table>\n",
       "</div>"
      ],
      "text/plain": [
       "       location        date  total_vaccinations  total_vacc_no_missing  \\\n",
       "44  Afghanistan  2021-04-07            120000.0               120000.0   \n",
       "45  Afghanistan  2021-04-08                 NaN               120000.0   \n",
       "46  Afghanistan  2021-04-09                 NaN               120000.0   \n",
       "47  Afghanistan  2021-04-10                 NaN               120000.0   \n",
       "48  Afghanistan  2021-04-11                 NaN               120000.0   \n",
       "49  Afghanistan  2021-04-12                 NaN               120000.0   \n",
       "50  Afghanistan  2021-04-13                 NaN               120000.0   \n",
       "51  Afghanistan  2021-04-14                 NaN               120000.0   \n",
       "52  Afghanistan  2021-04-15                 NaN               120000.0   \n",
       "53  Afghanistan  2021-04-16                 NaN               120000.0   \n",
       "54  Afghanistan  2021-04-17                 NaN               120000.0   \n",
       "55  Afghanistan  2021-04-18                 NaN               120000.0   \n",
       "56  Afghanistan  2021-04-19                 NaN               120000.0   \n",
       "57  Afghanistan  2021-04-20                 NaN               120000.0   \n",
       "58  Afghanistan  2021-04-21                 NaN               120000.0   \n",
       "59  Afghanistan  2021-04-22            240000.0               240000.0   \n",
       "60  Afghanistan  2021-04-23                 NaN               240000.0   \n",
       "61  Afghanistan  2021-04-24                 NaN               240000.0   \n",
       "\n",
       "    total_vacc_interpolate  \n",
       "44           120000.000000  \n",
       "45           128000.000000  \n",
       "46           136000.000000  \n",
       "47           144000.000000  \n",
       "48           152000.000000  \n",
       "49           160000.000000  \n",
       "50           168000.000000  \n",
       "51           176000.000000  \n",
       "52           184000.000000  \n",
       "53           192000.000000  \n",
       "54           200000.000000  \n",
       "55           208000.000000  \n",
       "56           216000.000000  \n",
       "57           224000.000000  \n",
       "58           232000.000000  \n",
       "59           240000.000000  \n",
       "60           253921.157895  \n",
       "61           267842.315789  "
      ]
     },
     "execution_count": 11,
     "metadata": {},
     "output_type": "execute_result"
    }
   ],
   "source": [
    "vacc_df['total_vacc_interpolate'] = vacc_df['total_vaccinations'].interpolate(method ='linear') \n",
    "vacc_df.iloc[44:62,[0,2,3,16, 17]]"
   ]
  },
  {
   "cell_type": "markdown",
   "metadata": {},
   "source": [
    "---\n",
    ">A summary of the functions so far:\n",
    ">\n",
    ">* `.fillna()` - fill missing values according to parameters:\n",
    "    * `.fillna('k')`  - with value k, create a new dataframe\n",
    "    * `.fillna('k', inplace = True)` - with value k, into the existing dataframe\n",
    "    * `.fillna(method='ffill')` - fill with first non-missing value that occurs before it \n",
    "    * `.fillna(method='bfill')` - fill with first non-missing value that occurs after it  \n",
    "> * `interpolate` - fill using some interpolation technique\n",
    "> * `replace(x,y)` - replace x with y\n",
    ">See documnetation:\n",
    ">\n",
    ">* [Missing data handling documentation](https://pandas-docs.github.io/pandas-docs-travis/reference/frame.html#missing-data-handling)\n",
    "---"
   ]
  },
  {
   "cell_type": "markdown",
   "metadata": {},
   "source": [
    "---\n",
    "<a id='section6'></a>\n",
    "\n",
    "## 6. A note on slicing\n",
    "\n",
    "Slicing is taking only part of a dataframe. For example - the slice we named zimbabwe:"
   ]
  },
  {
   "cell_type": "code",
   "execution_count": 27,
   "metadata": {},
   "outputs": [],
   "source": [
    "zimbabwe = vacc_df.loc[vacc_df.location == 'Zimbabwe']"
   ]
  },
  {
   "cell_type": "markdown",
   "metadata": {},
   "source": [
    "When we change data in a slice, we are changing the ORIGINAL dataframe. This will cause a warning to appear:"
   ]
  },
  {
   "cell_type": "code",
   "execution_count": 26,
   "metadata": {},
   "outputs": [
    {
     "name": "stderr",
     "output_type": "stream",
     "text": [
      "C:\\Users\\lihi\\AppData\\Local\\Temp/ipykernel_14064/1450805206.py:1: SettingWithCopyWarning: \n",
      "A value is trying to be set on a copy of a slice from a DataFrame\n",
      "\n",
      "See the caveats in the documentation: https://pandas.pydata.org/pandas-docs/stable/user_guide/indexing.html#returning-a-view-versus-a-copy\n",
      "  zimbabwe.fillna(0, inplace=True)\n"
     ]
    }
   ],
   "source": [
    "zimbabwe.fillna(0, inplace=True)"
   ]
  },
  {
   "cell_type": "markdown",
   "metadata": {},
   "source": [
    "It is only a warning, but this is bad practice. Best way to avoid it is to create a `copy` of the dataframe:"
   ]
  },
  {
   "cell_type": "code",
   "execution_count": null,
   "metadata": {},
   "outputs": [],
   "source": [
    "zimbabwe = vacc_df.loc[vacc_df.location == 'Zimbabwe'].copy()\n",
    "zimbabwe.fillna(0, inplace=True)"
   ]
  },
  {
   "cell_type": "markdown",
   "metadata": {},
   "source": [
    "This works fine, no warnings. Note - this won't change the original dataframe (which might be a good thing, if you didn't plan to change it, or a bad thing, if you did)"
   ]
  },
  {
   "cell_type": "markdown",
   "metadata": {},
   "source": [
    "What about changes in the original dataframe? They will not change the copy.\n",
    "\n",
    "If you do  want your copy to change, use a shallow copy:"
   ]
  },
  {
   "cell_type": "code",
   "execution_count": null,
   "metadata": {},
   "outputs": [],
   "source": [
    "small_example = pd.Series([1, 2], index=[\"a\", \"b\"])\n",
    "small_example"
   ]
  },
  {
   "cell_type": "markdown",
   "metadata": {},
   "source": [
    "deep copy is the default:"
   ]
  },
  {
   "cell_type": "code",
   "execution_count": null,
   "metadata": {},
   "outputs": [],
   "source": [
    "my_deep_copy = small_example.copy()\n",
    "my_deep_copy"
   ]
  },
  {
   "cell_type": "code",
   "execution_count": null,
   "metadata": {},
   "outputs": [],
   "source": [
    "my_shallow_copy = small_example.copy(deep=False)\n",
    "my_shallow_copy"
   ]
  },
  {
   "cell_type": "markdown",
   "metadata": {},
   "source": [
    "Make a change to the dataframe - where will it appear?"
   ]
  },
  {
   "cell_type": "code",
   "execution_count": null,
   "metadata": {},
   "outputs": [],
   "source": [
    "small_example[0] = -100\n",
    "small_example"
   ]
  },
  {
   "cell_type": "code",
   "execution_count": null,
   "metadata": {},
   "outputs": [],
   "source": [
    "my_deep_copy"
   ]
  },
  {
   "cell_type": "code",
   "execution_count": null,
   "metadata": {},
   "outputs": [],
   "source": [
    "my_shallow_copy"
   ]
  },
  {
   "cell_type": "markdown",
   "metadata": {},
   "source": [
    "---\n",
    ">A summary:\n",
    ">\n",
    ">* `.copy()` - creates a copy of the slice of the dataframe\n",
    ">\n",
    ">* `.copy(deep=False)` - updates to the original dataframe will show in the copy\n",
    "---"
   ]
  },
  {
   "cell_type": "markdown",
   "metadata": {},
   "source": [
    "---\n",
    "<a id='section7'></a>\n",
    "## 7. Groupby()\n",
    "\n"
   ]
  },
  {
   "cell_type": "markdown",
   "metadata": {},
   "source": [
    "#### How do we fill missing values for `total_vaccinations` according to the mean of each country?\n",
    "\n",
    "#### How do we fill missing values for `daily_vaccinations` according to the mean of each country each month?\n",
    "\n",
    "##### For this, we need to use groupby\n",
    "\n",
    "[groupby documentation](https://pandas.pydata.org/pandas-docs/stable/user_guide/groupby.html)"
   ]
  },
  {
   "cell_type": "markdown",
   "metadata": {},
   "source": [
    "#### Group according to something + select some columns + do something on the result\n",
    "\n",
    "The `mean` of `daily_vaccinations` according to `location`:\n"
   ]
  },
  {
   "cell_type": "code",
   "execution_count": null,
   "metadata": {},
   "outputs": [],
   "source": [
    "vacc_df.groupby('location')[['daily_vaccinations']].mean()"
   ]
  },
  {
   "cell_type": "markdown",
   "metadata": {},
   "source": [
    "Note that this format means `location` is now the index\n",
    "\n",
    "Try running the below commands:"
   ]
  },
  {
   "cell_type": "code",
   "execution_count": null,
   "metadata": {},
   "outputs": [],
   "source": [
    "df_by_loc = vacc_df.groupby('location')[['daily_vaccinations']].mean()\n",
    "#df_by_loc[['location']]   #this will result in an error\n",
    "#df_by_loc[['daily_vaccinations']]   #this is OK"
   ]
  },
  {
   "cell_type": "markdown",
   "metadata": {},
   "source": [
    "##### If you plan to continue using this data and need the index as an attribute:\n",
    "\n",
    "##### Two possible solutions: \n",
    "\n",
    "##### set `as_index=False` \n",
    "\n",
    "##### add `reset_index(inplace = True)`"
   ]
  },
  {
   "cell_type": "code",
   "execution_count": null,
   "metadata": {},
   "outputs": [],
   "source": [
    "#vacc_df.groupby('location', as_index = False)[['daily_vaccinations']].mean()\n",
    "df_by_loc.reset_index(inplace = True)\n",
    "df_by_loc.head()"
   ]
  },
  {
   "cell_type": "markdown",
   "metadata": {
    "tags": []
   },
   "source": [
    "##### Groupby two or more columns is possible\n",
    "\n",
    "For example: create a dataframe with the mean daily vaccinations per country per month\n",
    "\n",
    "First, change the `date` into a `datetime` object and extract the month"
   ]
  },
  {
   "cell_type": "code",
   "execution_count": null,
   "metadata": {},
   "outputs": [],
   "source": [
    "vacc_df[['date']]"
   ]
  },
  {
   "cell_type": "code",
   "execution_count": null,
   "metadata": {},
   "outputs": [],
   "source": [
    "vacc_df['date'] = pd.to_datetime(vacc_df['date'])\n",
    "vacc_df[['date']]"
   ]
  },
  {
   "cell_type": "code",
   "execution_count": null,
   "metadata": {},
   "outputs": [],
   "source": [
    "vacc_df['month'] = pd.DatetimeIndex(vacc_df['date']).month\n",
    "vacc_df[['month','date']] "
   ]
  },
  {
   "cell_type": "markdown",
   "metadata": {},
   "source": [
    "Now, groupby both `location` and `month`"
   ]
  },
  {
   "cell_type": "code",
   "execution_count": null,
   "metadata": {},
   "outputs": [],
   "source": [
    "vacc_df.groupby(['location','month'])[['daily_vaccinations', 'total_vaccinations']].mean().reset_index()"
   ]
  },
  {
   "cell_type": "markdown",
   "metadata": {},
   "source": [
    "what will happen if we swith the order of the indexes?\n",
    "\n",
    "try runing the follwing:"
   ]
  },
  {
   "cell_type": "code",
   "execution_count": null,
   "metadata": {},
   "outputs": [],
   "source": [
    "vacc_df.groupby(['month', 'location'])[['daily_vaccinations', 'total_vaccinations']].mean().reset_index()"
   ]
  },
  {
   "cell_type": "markdown",
   "metadata": {},
   "source": [
    "Still the same, but using a lambda function:"
   ]
  },
  {
   "cell_type": "code",
   "execution_count": null,
   "metadata": {},
   "outputs": [],
   "source": [
    "vacc_df.groupby(['location', 'month'])[['daily_vaccinations', 'total_vaccinations']].apply(lambda x: x.mean()).reset_index()"
   ]
  },
  {
   "cell_type": "markdown",
   "metadata": {},
   "source": [
    "-----\n",
    "##### So now we are ready to answer the questions:\n",
    "##### How do we fill missing values for `total_vaccinations` according to the mean of each country?\n",
    "\n",
    "We now understand this:"
   ]
  },
  {
   "cell_type": "code",
   "execution_count": null,
   "metadata": {},
   "outputs": [],
   "source": [
    "vacc_df['total_vacc_no_missing'] = vacc_df.groupby('location')[['total_vaccinations']].apply(lambda x: x.fillna(method='ffill'))"
   ]
  },
  {
   "cell_type": "code",
   "execution_count": null,
   "metadata": {},
   "outputs": [],
   "source": [
    "vacc_df[['total_vacc_no_missing','total_vaccinations']]"
   ]
  },
  {
   "cell_type": "markdown",
   "metadata": {},
   "source": [
    "### (More) Advanced: create your own function"
   ]
  },
  {
   "cell_type": "code",
   "execution_count": null,
   "metadata": {},
   "outputs": [],
   "source": [
    "vacc_df.groupby('location')[['people_vaccinated_per_hundred']].apply(lambda x: x.max() - x.min()).reset_index()"
   ]
  },
  {
   "cell_type": "markdown",
   "metadata": {},
   "source": [
    "### (More) Advanced: multiple functions using agg"
   ]
  },
  {
   "cell_type": "code",
   "execution_count": null,
   "metadata": {},
   "outputs": [],
   "source": [
    "vacc_group = vacc_df.groupby('location').agg({'daily_people_vaccinated': ['first', 'last' , 'mean', 'median', 'max'], 'total_vaccinations':['max']})\n",
    "vacc_group.reset_index(inplace = True)\n",
    "vacc_group"
   ]
  },
  {
   "cell_type": "markdown",
   "metadata": {},
   "source": [
    "if you want to access the data and not deal with a multi-index, flatten the data by dropping a level and rename the columns:"
   ]
  },
  {
   "cell_type": "code",
   "execution_count": null,
   "metadata": {},
   "outputs": [],
   "source": [
    "vacc_group.columns = vacc_group.columns.droplevel(0)\n",
    "vacc_group"
   ]
  },
  {
   "cell_type": "markdown",
   "metadata": {},
   "source": [
    "Change the column names:"
   ]
  },
  {
   "cell_type": "code",
   "execution_count": null,
   "metadata": {},
   "outputs": [],
   "source": [
    "vacc_group.columns = ['location','daily_first','daily_last','daily_mean','daily_median','daily_max','total_max']\n",
    "\n",
    "vacc_group"
   ]
  },
  {
   "cell_type": "markdown",
   "metadata": {},
   "source": [
    "---\n",
    ">A summary:\n",
    ">\n",
    ">* `.groupby()` - group according to the columns specified\n",
    ">\n",
    ">* `.reset_index()` or  set `as_index=False` - adds the current index as a column, adds a new numerical index\n",
    ">\n",
    ">* `pd.to_datetime(df['date'])` - changes the attribute type to datetime\n",
    ">\n",
    ">* `pd.DatetimeIndex(df['date']).month` - extracts the month from the datatime attribute\n",
    ">\n",
    ">* `apply` - applies a function on each row (axis =0) in the dataframe. Change to (axis = 1) to apply the function on each column [documentation](https://pandas.pydata.org/pandas-docs/stable/reference/api/pandas.DataFrame.apply.html#pandas.DataFrame.apply)\n",
    ">\n",
    ">* `lambda` - small anonymous function\n",
    ">\n",
    ">* `agg` - apply multiple functions at once, one for each specified column [documentation](https://pandas.pydata.org/pandas-docs/stable/reference/api/pandas.DataFrame.agg.html)\n",
    "---"
   ]
  },
  {
   "cell_type": "markdown",
   "metadata": {},
   "source": [
    "#### This was a lot of information.\n",
    "\n",
    "#### Keep your balance. Practice. You will make it.\n",
    "\n",
    "<div>\n",
    "<img src=\"images/balance.jpg\" width=\"500\"/>\n",
    "</div>\n",
    "\n",
    "Photo by <a href=\"https://unsplash.com/@martinsanchez?utm_source=unsplash&utm_medium=referral&utm_content=creditCopyText\">Martin Sanchez</a> on <a href=\"https://unsplash.com/s/photos/perfect-balance?utm_source=unsplash&utm_medium=referral&utm_content=creditCopyText\">Unsplash</a>\n",
    "  "
   ]
  }
 ],
 "metadata": {
  "kernelspec": {
   "display_name": "Python 3 (ipykernel)",
   "language": "python",
   "name": "python3"
  },
  "language_info": {
   "codemirror_mode": {
    "name": "ipython",
    "version": 3
   },
   "file_extension": ".py",
   "mimetype": "text/x-python",
   "name": "python",
   "nbconvert_exporter": "python",
   "pygments_lexer": "ipython3",
   "version": "3.8.8"
  }
 },
 "nbformat": 4,
 "nbformat_minor": 4
}
