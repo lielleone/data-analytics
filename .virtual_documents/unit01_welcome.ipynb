











print ('hello world')





2 + 2 # The result of this line will not be displayed
3 + 3 # The result of this line will be displayed, because it is the last line of the cell





# Pandas is a software library for data manipulation and analysis. You'll learn to use it later in this course.
import pandas as pd

df = pd.DataFrame({'a': [2, 4, 6, 8], 'b': [1, 3, 5, 7]})
df





%pylab inline
import matplotlib.pyplot as plt

xs = range(-30, 31)
ys = [x ** 2 for x in xs]

plt.scatter(xs, ys)











class_name = "Intro to Data Analysis"


message = class_name + " is great!!!!!!"


message





xxx= 77


xxx








help(len)


len?


L = [1, 2, 3] 
L.insert?


L?





def square(a):
    "Return the square of a."
    return a ** 2


square?





square??





len??





an_apple = 27

an_example = 42





#an_





str.*fi*?











import numpy as np


student1 = [100, 88, 97]
student2 = [100, 88, 60]


student1 == student2


student1 + student2


student1_np = np.array([100, 88, 97])
student2_np = np.array([100, 88, 60])


student1_np == student2_np


student1_np + student2_np


(student1_np + student2_np)/2





x = np.array([1,2,"cat"])
y = np.array([1,3,"cat"])


x==y











import pandas as pd








data = pd.Series([1,2,"cat"])
data


data.values


data.index





student1_s = pd.Series([100, 80, 90, 88], index=['math1', 'math2', 'physics', 'statistics'])


student1_s['math2']





student1_lst = [100, 99, 98, 99]
student2_lst = [100, 100, 99, 99]
subject_lst = ['math1', 'math2', 'physics', 'statistics']
df = pd.DataFrame({'subject': subject_lst,'student1': student1_lst, 'student2': student1_lst })
df





#student1_lst = [100, 99, 99]
#student2_lst = [100, 100, 99, 99]
#subject_lst = ['math1', 'math2', 'physics', 'statistics']
#df = pd.DataFrame({'subject': subject_lst,'student1': student1_lst, 'student2': student1_lst })
#df





student1_s = pd.Series([100, 80, 90, 88], index=['math1', 'math2', 'physics', 'statistics'])
student2_s = pd.Series([100, 80, 88], index=['math1', 'math2', 'statistics'])





data = {'student1': student1_s, 'student2': student2_s}
df = pd.concat(data, axis=1)
df





df['student1']


df.index


df.columns



