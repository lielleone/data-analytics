{
 "cells": [
  {
   "cell_type": "markdown",
   "id": "65aaa460-ab0f-4a1c-80ae-8604170168ac",
   "metadata": {},
   "source": [
    "# Unit 5 - Groupby\n",
    "---\n",
    "\n",
    "1. [Simple groupby](#section1)\n",
    "2. [Working with dates](#section2)\n",
    "3. [Groupby on two or more attributes](#section3)\n",
    "4. [Groupby with a lambda function](#section4)\n",
    "5. [Groupby with multiple functions](#section5)\n",
    "\n"
   ]
  },
  {
   "cell_type": "markdown",
   "id": "d34020e1-bf68-417e-9f64-4f6bfc7be0e3",
   "metadata": {},
   "source": [
    "##### One of the most useful functions\n",
    "\n",
    "[groupby documentation](https://pandas.pydata.org/pandas-docs/stable/user_guide/groupby.html)\n",
    "\n",
    "#### Split to groups by some criteria + do something with each group seperatly"
   ]
  },
  {
   "cell_type": "code",
   "execution_count": 1,
   "id": "72af8b5d-ba98-4ac4-abab-46b8fa06aa3e",
   "metadata": {
    "tags": []
   },
   "outputs": [],
   "source": [
    "import pandas as pd\n",
    "import numpy as np"
   ]
  },
  {
   "cell_type": "code",
   "execution_count": 2,
   "id": "53ca0574-3688-4678-b951-8dbf3ece531e",
   "metadata": {},
   "outputs": [],
   "source": [
    "url = 'https://raw.githubusercontent.com/owid/covid-19-data/master/public/data/vaccinations/vaccinations.csv'\n",
    "vacc_df = pd.read_csv(url)"
   ]
  },
  {
   "cell_type": "code",
   "execution_count": null,
   "id": "b1548b22-791b-4e6b-85fa-3fbbd6ff4067",
   "metadata": {},
   "outputs": [],
   "source": [
    "vacc_df"
   ]
  },
  {
   "cell_type": "markdown",
   "id": "fe8e661b-e868-4b8d-8968-239078194937",
   "metadata": {
    "tags": []
   },
   "source": [
    "## 1. Simple groupby"
   ]
  },
  {
   "cell_type": "markdown",
   "id": "3567000a-edde-4b53-814a-a5817152f836",
   "metadata": {},
   "source": [
    "We split the data into groups\\\n",
    "Nothing happens here, since we didn't indicate what to do with each group\\\n",
    "But: no error. The split is valid :-)"
   ]
  },
  {
   "cell_type": "code",
   "execution_count": null,
   "id": "9cefa8a2-36a7-498b-91e0-8828deca22b6",
   "metadata": {},
   "outputs": [],
   "source": [
    "grouped = vacc_df.groupby('location')\n",
    "grouped"
   ]
  },
  {
   "cell_type": "markdown",
   "id": "d90c164c-d091-4baa-863a-1a3dee18ad28",
   "metadata": {},
   "source": [
    "Now lets perform a split and then an apply of an aggregation function"
   ]
  },
  {
   "cell_type": "markdown",
   "id": "e00d22a2-06a1-4614-ae36-880686f83299",
   "metadata": {
    "tags": []
   },
   "source": [
    "The `median` of `daily_vaccinations` according to `location`:"
   ]
  },
  {
   "cell_type": "code",
   "execution_count": null,
   "id": "9bc3f335-2a9f-4da2-8bdb-f920c1cd5488",
   "metadata": {},
   "outputs": [],
   "source": [
    "med_df = vacc_df.groupby('location')[['daily_vaccinations']].median()\n",
    "med_df"
   ]
  },
  {
   "cell_type": "code",
   "execution_count": 6,
   "id": "e7f747df-22bd-4d5e-889b-5b4c7130871b",
   "metadata": {},
   "outputs": [],
   "source": [
    "#med_df[[\"location\"]]"
   ]
  },
  {
   "cell_type": "markdown",
   "id": "f5bafc8f-e94e-41d2-be3a-9b9bb27d8912",
   "metadata": {},
   "source": [
    "Note that this format means `location` is now the index\n",
    "\n",
    "this means `vacc_df[[\"location\"]]` won't work anymore"
   ]
  },
  {
   "cell_type": "markdown",
   "id": "4a3685b5-714f-4dc2-bc8b-306875258786",
   "metadata": {},
   "source": [
    "##### If you plan to continue using this data and need the index as an attribute:\n",
    "\n",
    "##### add `reset_index()` and then assign"
   ]
  },
  {
   "cell_type": "code",
   "execution_count": null,
   "id": "018defdd-25e4-416a-ac10-310671cfebdf",
   "metadata": {},
   "outputs": [],
   "source": [
    "med_df = med_df.reset_index()\n",
    "med_df\n",
    "#med_df[[\"location\"]]"
   ]
  },
  {
   "cell_type": "markdown",
   "id": "31f224b6-a491-4359-8c18-4cb1b84ebfe8",
   "metadata": {
    "tags": []
   },
   "source": [
    "-----\n",
    "##### So now we are ready to answer the questions:\n",
    "##### How do we fill missing values for `total_vaccinations` according to the mean of each country?\n",
    "\n",
    "We now understand this:"
   ]
  },
  {
   "cell_type": "code",
   "execution_count": null,
   "id": "e1ace621-42a9-4f45-9e01-53658f556b97",
   "metadata": {},
   "outputs": [],
   "source": [
    "x = vacc_df.groupby(['location'])[['total_vaccinations']].fillna(method='ffill')"
   ]
  },
  {
   "cell_type": "markdown",
   "id": "702645ef-358c-46c7-b0b9-8f7037f3a9be",
   "metadata": {},
   "source": [
    "Advanced comment: \\\n",
    "`.mean()` is a built-in **aggregation** function\\\n",
    "`.fillna()` is a built-in **transformation** function\\\n",
    "groupby allows you to aggregte, transform, or filter the data.\n"
   ]
  },
  {
   "cell_type": "code",
   "execution_count": null,
   "id": "29def05b-e0ef-47b8-9968-a380af095821",
   "metadata": {},
   "outputs": [],
   "source": []
  },
  {
   "cell_type": "markdown",
   "id": "2c70f941-0f9c-4569-add4-2cbfb7f9d6b1",
   "metadata": {
    "tags": []
   },
   "source": [
    "### <span style=\"color:blue\"> Exercise:</span>\n",
    "> What is the average (mean) of the `daily_vaccinations` in each location?\n",
    ">\n",
    "> If we do not reset the index, how can we call the `index`?\n"
   ]
  },
  {
   "cell_type": "code",
   "execution_count": null,
   "id": "c5cf76bd-c6f4-43ed-98a8-71ccc307b682",
   "metadata": {},
   "outputs": [],
   "source": []
  },
  {
   "cell_type": "code",
   "execution_count": null,
   "id": "d79e225e-e1d8-4d48-b12b-a08711e1b3bb",
   "metadata": {},
   "outputs": [],
   "source": []
  },
  {
   "cell_type": "markdown",
   "id": "23ef4391-adef-4c25-8f33-059f320aa491",
   "metadata": {
    "tags": []
   },
   "source": [
    "## 2. Working with dates"
   ]
  },
  {
   "cell_type": "markdown",
   "id": "2b0a87aa-d04a-4739-bf1f-72a392741a97",
   "metadata": {},
   "source": [
    "How do we extract the month? Currently `date` is an object:"
   ]
  },
  {
   "cell_type": "code",
   "execution_count": null,
   "id": "8cd75934-2216-4f4a-a3fb-fbc6cc2b7d7f",
   "metadata": {},
   "outputs": [],
   "source": [
    "vacc_df[['date']].info()"
   ]
  },
  {
   "cell_type": "markdown",
   "id": "e79be99d-3581-40cb-a269-e0bf556b135b",
   "metadata": {},
   "source": [
    "First, change the `date` into a `datetime` object and extract the month"
   ]
  },
  {
   "cell_type": "code",
   "execution_count": null,
   "id": "1e4e923a-fc13-43fc-b047-e05a8d6bfb82",
   "metadata": {},
   "outputs": [],
   "source": [
    "vacc_df['date'] = pd.to_datetime(vacc_df['date'])\n",
    "vacc_df[['date']].dtypes"
   ]
  },
  {
   "cell_type": "code",
   "execution_count": null,
   "id": "fed7d35f-09f8-407d-84d8-2af1bba0633c",
   "metadata": {},
   "outputs": [],
   "source": [
    "vacc_df['month'] = pd.DatetimeIndex(vacc_df['date']).month\n",
    "vacc_df[['location','month','date','daily_vaccinations']].head(3)"
   ]
  },
  {
   "cell_type": "markdown",
   "id": "899ad856-5057-4c58-9b1d-4d0126f80371",
   "metadata": {},
   "source": [
    "You can use any combination [from here](https://docs.python.org/3/library/datetime.html#strftime-and-strptime-behavior)"
   ]
  },
  {
   "cell_type": "code",
   "execution_count": null,
   "id": "05fd23d0-7be8-4d7c-9189-c7829ad3bed0",
   "metadata": {},
   "outputs": [],
   "source": [
    "vacc_df['year-month'] = pd.DatetimeIndex(vacc_df['date']).strftime('%y-%m')\n",
    "vacc_df[[\"year-month\",'date']]"
   ]
  },
  {
   "cell_type": "markdown",
   "id": "7dfcbb5a-d7b1-4610-89ce-b39ad59f0671",
   "metadata": {},
   "source": [
    "### <span style=\"color:blue\"> Exercise:</span>\n",
    "> Extract the `year` and add it as a new column called `year` in `vacc_df`\n",
    ">\n",
    "> Extract the name of the day and add it as a new column called `weekday` in `vacc_df`\n",
    ">\n",
    "> Run the sanity check: `vacc_df[[\"date\",\"year\",\"weekday\"]]` "
   ]
  },
  {
   "cell_type": "code",
   "execution_count": 17,
   "id": "fd3b20e0-5b1a-42ba-81e7-c2cde8ceb654",
   "metadata": {},
   "outputs": [],
   "source": []
  },
  {
   "cell_type": "code",
   "execution_count": null,
   "id": "853488d5-b3d9-4e4f-b6b5-8f064ccbde9a",
   "metadata": {},
   "outputs": [],
   "source": []
  },
  {
   "cell_type": "code",
   "execution_count": 37,
   "id": "8e1a9f53-a83a-4057-8914-b8faab0b1929",
   "metadata": {},
   "outputs": [],
   "source": [
    "# sanity check\n",
    "#vacc_df[[\"date\",\"year\",\"weekday\"]]"
   ]
  },
  {
   "cell_type": "markdown",
   "id": "f43c0b46-4857-4635-be4b-b46d994b58d8",
   "metadata": {},
   "source": [
    "## 3. Groupby on two or more attributes"
   ]
  },
  {
   "cell_type": "markdown",
   "id": "56fc6e80-4ca4-4302-96da-20b5742947d0",
   "metadata": {},
   "source": [
    "Now, groupby `location`, `month`, and `year`"
   ]
  },
  {
   "cell_type": "code",
   "execution_count": null,
   "id": "65721dbc-f260-451c-9f69-ae586faf4379",
   "metadata": {},
   "outputs": [],
   "source": [
    "vacc_df.groupby(['location','month','year'])[['daily_vaccinations', 'total_vaccinations']].mean().reset_index()"
   ]
  },
  {
   "cell_type": "markdown",
   "id": "e901aff9-85a3-4c5d-a112-a34a9cc0a818",
   "metadata": {},
   "source": [
    "### <span style=\"color:blue\"> Exercise:</span>\n",
    "> \n",
    "> what will happen if we switch the order of the indexes: `['month', 'location']`?"
   ]
  },
  {
   "cell_type": "code",
   "execution_count": null,
   "id": "51810d9a-33ed-4be4-8fda-35db7644616a",
   "metadata": {},
   "outputs": [],
   "source": []
  },
  {
   "cell_type": "markdown",
   "id": "e3145413-3b63-438e-805f-4612a7330a9f",
   "metadata": {
    "tags": []
   },
   "source": [
    "## 4. Aggregation with a user defined function"
   ]
  },
  {
   "cell_type": "markdown",
   "id": "39eebc78-34c1-41eb-8f61-2ecf53700137",
   "metadata": {},
   "source": [
    "Groupby the mean using a lambda function:"
   ]
  },
  {
   "cell_type": "code",
   "execution_count": null,
   "id": "f3fa071e-f917-4575-9a6b-dc67966e965d",
   "metadata": {},
   "outputs": [],
   "source": [
    "vacc_df.groupby(['location', 'month'])[['daily_vaccinations', 'total_vaccinations']].\\\n",
    "agg(lambda x: np.log(x.mean()) if x.mean()!=0 else 0).reset_index()"
   ]
  },
  {
   "cell_type": "markdown",
   "id": "d486f755-e3bf-4c52-853c-e146915e3cdf",
   "metadata": {},
   "source": [
    "### <span style=\"color:blue\"> Exercise:</span>\n",
    ">\n",
    "> Create your own lambda function that returns 1/x.sum()"
   ]
  },
  {
   "cell_type": "code",
   "execution_count": null,
   "id": "56ebfcd9-74e5-4a26-970c-d307cc6738f3",
   "metadata": {},
   "outputs": [],
   "source": []
  },
  {
   "cell_type": "markdown",
   "id": "4c0ac173-faad-40d6-bdaf-f8357ec4b617",
   "metadata": {
    "tags": []
   },
   "source": [
    "## 5. Multiple aggregations"
   ]
  },
  {
   "cell_type": "code",
   "execution_count": null,
   "id": "c9ce1b52-413b-442a-9d29-88c258458474",
   "metadata": {
    "tags": []
   },
   "outputs": [],
   "source": [
    "vacc_group = vacc_df.groupby('location').\\\n",
    "agg({'daily_people_vaccinated': ['first', 'last' , 'mean', 'median', 'max'],\\\n",
    "     'total_vaccinations':['max', lambda x: x.max()/1000000]     \n",
    "    })\n",
    "vacc_group = vacc_group.reset_index()\n",
    "vacc_group"
   ]
  },
  {
   "cell_type": "markdown",
   "id": "bb1a70a1-6bd0-4740-8961-2b8ce85eff4e",
   "metadata": {
    "tags": []
   },
   "source": [
    "## 6. Tidy your output\n",
    "\n"
   ]
  },
  {
   "cell_type": "markdown",
   "id": "2907b53e-571d-4e6e-b7b7-497814f5e8d1",
   "metadata": {},
   "source": [
    "If you want to access the data and not deal with a multi-index, flatten the data by dropping a level and rename the columns:"
   ]
  },
  {
   "cell_type": "code",
   "execution_count": null,
   "id": "ac269c62-313a-4238-a405-9732691b05bb",
   "metadata": {
    "jupyter": {
     "source_hidden": true
    }
   },
   "outputs": [],
   "source": [
    "vacc_group.columns"
   ]
  },
  {
   "cell_type": "markdown",
   "id": "6c431e3c-d3f2-46c3-ba7f-d50f21310d69",
   "metadata": {},
   "source": [
    "Each column currently has a multi-index, that is - several levels (two levels in our case).\n",
    "We use [droplevel](https://pandas.pydata.org/docs/reference/api/pandas.DataFrame.droplevel.html) to remove one of the indexes.\\\n",
    "`droplevel(level, axis=0)`\\\n",
    "`level` - the position of the index to drop. The topmost or leftmost index is 0.\\\n",
    "`axis` - 0 removes a level in the columns, 1 removes a level in the rows.\\\n",
    "In our case, we have two rows of index, so `axis = 1`."
   ]
  },
  {
   "cell_type": "code",
   "execution_count": null,
   "id": "53256919-3eea-47ea-87e7-86a3a040c9b1",
   "metadata": {},
   "outputs": [],
   "source": [
    "vacc_group = vacc_group.droplevel(0, axis=1) \n",
    "#vacc_group.columns = vacc_group.columns.droplevel(0)  #this is from older version of pandas\n",
    "vacc_group"
   ]
  },
  {
   "cell_type": "markdown",
   "id": "42e5ef1c-1c74-411e-a5b0-82b132edbd47",
   "metadata": {},
   "source": [
    "Rename the columns"
   ]
  },
  {
   "cell_type": "code",
   "execution_count": null,
   "id": "4362794d-90ea-4376-a7d5-f34df67fac9a",
   "metadata": {
    "scrolled": true
   },
   "outputs": [],
   "source": [
    "vacc_group.columns = ['location','daily_first','daily_last','daily_mean','daily_median','daily_max','total_max','total_max2']\n",
    "vacc_group"
   ]
  },
  {
   "cell_type": "markdown",
   "id": "99e55877-ca2f-4018-be74-286646053c01",
   "metadata": {},
   "source": [
    "`unstack` takes the innermost index and creates a column from it"
   ]
  },
  {
   "cell_type": "code",
   "execution_count": null,
   "id": "8f267182-4b9a-484e-b597-af77ab77861d",
   "metadata": {},
   "outputs": [],
   "source": [
    "vacc_df['year'] = pd.DatetimeIndex(vacc_df['date']).year"
   ]
  },
  {
   "cell_type": "code",
   "execution_count": null,
   "id": "8d03fd79-e485-430c-bd42-5c898f102c97",
   "metadata": {},
   "outputs": [],
   "source": [
    "yr_mn_grp = vacc_df.groupby(['month','year'])[['daily_vaccinations']].mean().unstack()\n",
    "yr_mn_grp "
   ]
  },
  {
   "cell_type": "markdown",
   "id": "e851a28a-0252-4568-bbe8-6fefc8afdfd9",
   "metadata": {},
   "source": [
    "tidy up the table so it can be further used:"
   ]
  },
  {
   "cell_type": "code",
   "execution_count": null,
   "id": "647f4907-e75a-4b11-85d3-0067e316b162",
   "metadata": {},
   "outputs": [],
   "source": [
    "#yr_mn_grp.columns = yr_mn_grp.columns.droplevel(0) #older version\n",
    "yr_mn_grp = yr_mn_grp.droplevel(0, axis=1) \n",
    "yr_mn_grp = yr_mn_grp.reset_index()\n",
    "yr_mn_grp = yr_mn_grp.rename_axis(None, axis=1)\n",
    "yr_mn_grp"
   ]
  },
  {
   "cell_type": "code",
   "execution_count": null,
   "id": "ff9b9fed-fe19-40ee-9ee9-9b61247332bd",
   "metadata": {},
   "outputs": [],
   "source": [
    "daily_grp = vacc_df.groupby(['year-month','location'])[['daily_vaccinations']].mean().unstack()\n",
    "daily_grp = daily_grp.transpose()\n",
    "daily_grp"
   ]
  },
  {
   "cell_type": "markdown",
   "id": "946aa325-2333-46f9-b467-315949ed3dbd",
   "metadata": {},
   "source": [
    "### <span style=\"color:blue\"> Exercise:</span>\n",
    ">\n",
    "> Remove the multi-index from `daily_grp`"
   ]
  },
  {
   "cell_type": "code",
   "execution_count": null,
   "id": "7ef5d800-b672-4315-a39b-0fd14726af76",
   "metadata": {},
   "outputs": [],
   "source": []
  },
  {
   "cell_type": "markdown",
   "id": "8a2d63bc-d0ed-4e52-91e1-b296dde736ca",
   "metadata": {},
   "source": [
    "---\n",
    ">A summary:\n",
    ">\n",
    ">* `groupby()` - group according to the columns specified\n",
    ">\n",
    ">* `reset_index()`  adds a numerical index\n",
    ">\n",
    ">* `pd.to_datetime(df['date'])` - changes the attribute type to datetime\n",
    ">\n",
    ">* `pd.DatetimeIndex(df['date']).month` - extracts the month from the datatime attribute\n",
    ">\n",
    ">* `apply` - applies a function on each row (axis =0) in the dataframe. Change to (axis = 1) to apply the function on each column [documentation](https://pandas.pydata.org/pandas-docs/stable/reference/api/pandas.DataFrame.apply.html#pandas.DataFrame.apply)\n",
    ">\n",
    ">* `lambda` - small anonymous function\n",
    ">\n",
    ">* `agg` - apply multiple functions at once, one for each specified column [documentation](https://pandas.pydata.org/pandas-docs/stable/reference/api/pandas.DataFrame.agg.html)\n",
    ">\n",
    ">* `unstack` - unstack the inner-most index onto a column\n",
    ">\n",
    ">* `droplevel(0, axis = 1)` - drops the highest (first) level in the column index of a multi-index dataframe\n",
    ">\n",
    ">* `transpose` - switch between columns and rows\n",
    "---"
   ]
  },
  {
   "cell_type": "markdown",
   "id": "bc6b8972-f126-4776-a60a-3ec231ba73ce",
   "metadata": {},
   "source": [
    "#### This was a lot of information.\n",
    "\n",
    "#### Keep your balance. Practice. You will make it.\n",
    "\n",
    "<div>\n",
    "<img src=\"https://raw.githubusercontent.com/nlihin/data-analytics/main/images/balance.jpg\" width=\"500\"/>\n",
    "</div>\n",
    "\n",
    "Photo by <a href=\"https://unsplash.com/@martinsanchez?utm_source=unsplash&utm_medium=referral&utm_content=creditCopyText\">Martin Sanchez</a> on <a href=\"https://unsplash.com/s/photos/perfect-balance?utm_source=unsplash&utm_medium=referral&utm_content=creditCopyText\">Unsplash</a>\n",
    "  "
   ]
  },
  {
   "cell_type": "code",
   "execution_count": null,
   "id": "7a9254d1-90b5-45ee-b96b-586132b2a886",
   "metadata": {},
   "outputs": [],
   "source": []
  }
 ],
 "metadata": {
  "kernelspec": {
   "display_name": "Python 3 (ipykernel)",
   "language": "python",
   "name": "python3"
  },
  "language_info": {
   "codemirror_mode": {
    "name": "ipython",
    "version": 3
   },
   "file_extension": ".py",
   "mimetype": "text/x-python",
   "name": "python",
   "nbconvert_exporter": "python",
   "pygments_lexer": "ipython3",
   "version": "3.11.0"
  }
 },
 "nbformat": 4,
 "nbformat_minor": 5
}
