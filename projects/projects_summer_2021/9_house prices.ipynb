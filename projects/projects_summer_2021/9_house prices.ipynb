{
 "cells": [
  {
   "cell_type": "markdown",
   "id": "9e314c55-b2d2-4a08-aa20-279ba028c727",
   "metadata": {},
   "source": [
    "# **<h3 align=\"center\">**חקר הגורמים המשפיעים על מחירי בתים**</h3>**\n",
    "# <h3 align=\"center\">**מגישות: שיר מרגולין, נואר מנאסרה, שיר בן צור, אלינור חיו**</h3>\n"
   ]
  },
  {
   "cell_type": "markdown",
   "id": "124862da-917f-4916-9d73-a55da8857f35",
   "metadata": {},
   "source": [
    "\n",
    "\n",
    "\n",
    "\n",
    "<center><img src=\"https://i-capital.co.il/wp-content/uploads/2021/06/%D7%94%D7%A9%D7%A7%D7%A2%D7%95%D7%AA-%D7%A0%D7%93%D7%9C%D7%9F-1024x682.jpg\" width=\"500\"/></center>\n",
    "\n",
    "\n",
    "                                              "
   ]
  },
  {
   "cell_type": "markdown",
   "id": "936bec30-67cb-4019-bf69-3ed3211f7e89",
   "metadata": {
    "tags": []
   },
   "source": [
    "השתמשנו בקובץ שמכיל פרטים אודות מכירות של בתים במדינת וושיטנגטון, ארה\"ב*\n",
    "\n",
    "https://www.kaggle.com/esratmaria/house-price-dataset-with-other-information"
   ]
  },
  {
   "cell_type": "markdown",
   "id": "6328dec4-d644-4ce6-a6ac-2abe243f6b2c",
   "metadata": {},
   "source": [
    "## ?שאלת המחקר: איך הגורמים הבלתי תלויים משפיעים על הגורם התלוי\n",
    "\n",
    "<u>הגורם התלוי</u>:מחיר הבית \n",
    "\n",
    "<u>הגורמים הבלתי תלוים:</u> מספר החדרים,שטח הבית הבנוי,שטח הבית הכולל,נוף,קרבה למקור מים,מיקוד \n"
   ]
  },
  {
   "cell_type": "markdown",
   "id": "f3e0d387-4dd0-4a93-9790-e4711598c126",
   "metadata": {
    "jp-MarkdownHeadingCollapsed": true,
    "tags": []
   },
   "source": [
    "## תוכן עניינים \n",
    "<a id='section0'></a>\n",
    "1. [בדיקת\\תיקון נתונים](#section1)\n",
    "2. [חקר קשרים](#section2)\n",
    "\n",
    "   2.1 [קשר בין מספר החדרים למחיר](#section2.1)\n",
    "   \n",
    "   2.2 [השפעת המיקוד על מחירי הבתים ](#section2.2)\n",
    "   \n",
    "   2.3 [הקשר בין מחיר הבית לשטח הבית הכולל ](#section2.3) \n",
    "   \n",
    "   2.4 [הקשר בין מחיר לשטח הבנוי](#section2.4) \n",
    "   \n",
    "   2.5 [ הקשר בין מחיר לשנת הבניה, הנוף, והקרבה למקור מים](section2.5)\n",
    "   \n",
    "   2.6 [הקשר בין הנוף למחיר הדירה ](section2.6)\n",
    "  \n",
    "3. [סיכום](#section3)\n",
    "\n"
   ]
  },
  {
   "cell_type": "markdown",
   "id": "d5a0ea7b-78ee-411f-9715-06a6f172013b",
   "metadata": {},
   "source": [
    "## <u style='background:yellow'> בדיקת\\תיקון נתונים.1 </u>\n"
   ]
  },
  {
   "cell_type": "markdown",
   "id": "5e1222c5-f6ab-4a33-a2b5-2b3105a16346",
   "metadata": {},
   "source": [
    "### הורדת ספריות "
   ]
  },
  {
   "cell_type": "code",
   "execution_count": 3,
   "id": "df1c0c5d-45b7-4dee-a794-42af8625fc09",
   "metadata": {},
   "outputs": [],
   "source": [
    "import pandas as pd\n",
    "import numpy as np\n",
    "import matplotlib.pyplot as plt\n",
    "import seaborn as sns"
   ]
  },
  {
   "cell_type": "markdown",
   "id": "9aa38baf-f274-4021-95ea-01a44e0209f3",
   "metadata": {},
   "source": [
    "### קישור קובץ"
   ]
  },
  {
   "cell_type": "code",
   "execution_count": 4,
   "id": "653e8183-614c-4a30-a52a-ac509c9bdce5",
   "metadata": {},
   "outputs": [
    {
     "data": {
      "text/html": [
       "<div>\n",
       "<style scoped>\n",
       "    .dataframe tbody tr th:only-of-type {\n",
       "        vertical-align: middle;\n",
       "    }\n",
       "\n",
       "    .dataframe tbody tr th {\n",
       "        vertical-align: top;\n",
       "    }\n",
       "\n",
       "    .dataframe thead th {\n",
       "        text-align: right;\n",
       "    }\n",
       "</style>\n",
       "<table border=\"1\" class=\"dataframe\">\n",
       "  <thead>\n",
       "    <tr style=\"text-align: right;\">\n",
       "      <th></th>\n",
       "      <th>id</th>\n",
       "      <th>date</th>\n",
       "      <th>price</th>\n",
       "      <th>bedrooms</th>\n",
       "      <th>bathrooms</th>\n",
       "      <th>sqft_living</th>\n",
       "      <th>sqft_lot</th>\n",
       "      <th>floors</th>\n",
       "      <th>waterfront</th>\n",
       "      <th>view</th>\n",
       "      <th>...</th>\n",
       "      <th>grade</th>\n",
       "      <th>sqft_above</th>\n",
       "      <th>sqft_basement</th>\n",
       "      <th>yr_built</th>\n",
       "      <th>yr_renovated</th>\n",
       "      <th>zipcode</th>\n",
       "      <th>lat</th>\n",
       "      <th>long</th>\n",
       "      <th>sqft_living15</th>\n",
       "      <th>sqft_lot15</th>\n",
       "    </tr>\n",
       "  </thead>\n",
       "  <tbody>\n",
       "    <tr>\n",
       "      <th>0</th>\n",
       "      <td>7129300520</td>\n",
       "      <td>20141013T000000</td>\n",
       "      <td>221900.0</td>\n",
       "      <td>3</td>\n",
       "      <td>1.00</td>\n",
       "      <td>1180</td>\n",
       "      <td>5650</td>\n",
       "      <td>1.0</td>\n",
       "      <td>0</td>\n",
       "      <td>0</td>\n",
       "      <td>...</td>\n",
       "      <td>7</td>\n",
       "      <td>1180</td>\n",
       "      <td>0</td>\n",
       "      <td>1955</td>\n",
       "      <td>0</td>\n",
       "      <td>98178</td>\n",
       "      <td>47.5112</td>\n",
       "      <td>-122.257</td>\n",
       "      <td>1340</td>\n",
       "      <td>5650</td>\n",
       "    </tr>\n",
       "    <tr>\n",
       "      <th>1</th>\n",
       "      <td>6414100192</td>\n",
       "      <td>20141209T000000</td>\n",
       "      <td>538000.0</td>\n",
       "      <td>3</td>\n",
       "      <td>2.25</td>\n",
       "      <td>2570</td>\n",
       "      <td>7242</td>\n",
       "      <td>2.0</td>\n",
       "      <td>0</td>\n",
       "      <td>0</td>\n",
       "      <td>...</td>\n",
       "      <td>7</td>\n",
       "      <td>2170</td>\n",
       "      <td>400</td>\n",
       "      <td>1951</td>\n",
       "      <td>1991</td>\n",
       "      <td>98125</td>\n",
       "      <td>47.7210</td>\n",
       "      <td>-122.319</td>\n",
       "      <td>1690</td>\n",
       "      <td>7639</td>\n",
       "    </tr>\n",
       "    <tr>\n",
       "      <th>2</th>\n",
       "      <td>5631500400</td>\n",
       "      <td>20150225T000000</td>\n",
       "      <td>180000.0</td>\n",
       "      <td>2</td>\n",
       "      <td>1.00</td>\n",
       "      <td>770</td>\n",
       "      <td>10000</td>\n",
       "      <td>1.0</td>\n",
       "      <td>0</td>\n",
       "      <td>0</td>\n",
       "      <td>...</td>\n",
       "      <td>6</td>\n",
       "      <td>770</td>\n",
       "      <td>0</td>\n",
       "      <td>1933</td>\n",
       "      <td>0</td>\n",
       "      <td>98028</td>\n",
       "      <td>47.7379</td>\n",
       "      <td>-122.233</td>\n",
       "      <td>2720</td>\n",
       "      <td>8062</td>\n",
       "    </tr>\n",
       "    <tr>\n",
       "      <th>3</th>\n",
       "      <td>2487200875</td>\n",
       "      <td>20141209T000000</td>\n",
       "      <td>604000.0</td>\n",
       "      <td>4</td>\n",
       "      <td>3.00</td>\n",
       "      <td>1960</td>\n",
       "      <td>5000</td>\n",
       "      <td>1.0</td>\n",
       "      <td>0</td>\n",
       "      <td>0</td>\n",
       "      <td>...</td>\n",
       "      <td>7</td>\n",
       "      <td>1050</td>\n",
       "      <td>910</td>\n",
       "      <td>1965</td>\n",
       "      <td>0</td>\n",
       "      <td>98136</td>\n",
       "      <td>47.5208</td>\n",
       "      <td>-122.393</td>\n",
       "      <td>1360</td>\n",
       "      <td>5000</td>\n",
       "    </tr>\n",
       "    <tr>\n",
       "      <th>4</th>\n",
       "      <td>1954400510</td>\n",
       "      <td>20150218T000000</td>\n",
       "      <td>510000.0</td>\n",
       "      <td>3</td>\n",
       "      <td>2.00</td>\n",
       "      <td>1680</td>\n",
       "      <td>8080</td>\n",
       "      <td>1.0</td>\n",
       "      <td>0</td>\n",
       "      <td>0</td>\n",
       "      <td>...</td>\n",
       "      <td>8</td>\n",
       "      <td>1680</td>\n",
       "      <td>0</td>\n",
       "      <td>1987</td>\n",
       "      <td>0</td>\n",
       "      <td>98074</td>\n",
       "      <td>47.6168</td>\n",
       "      <td>-122.045</td>\n",
       "      <td>1800</td>\n",
       "      <td>7503</td>\n",
       "    </tr>\n",
       "    <tr>\n",
       "      <th>5</th>\n",
       "      <td>7237550310</td>\n",
       "      <td>20140512T000000</td>\n",
       "      <td>1225000.0</td>\n",
       "      <td>4</td>\n",
       "      <td>4.50</td>\n",
       "      <td>5420</td>\n",
       "      <td>101930</td>\n",
       "      <td>1.0</td>\n",
       "      <td>0</td>\n",
       "      <td>0</td>\n",
       "      <td>...</td>\n",
       "      <td>11</td>\n",
       "      <td>3890</td>\n",
       "      <td>1530</td>\n",
       "      <td>2001</td>\n",
       "      <td>0</td>\n",
       "      <td>98053</td>\n",
       "      <td>47.6561</td>\n",
       "      <td>-122.005</td>\n",
       "      <td>4760</td>\n",
       "      <td>101930</td>\n",
       "    </tr>\n",
       "    <tr>\n",
       "      <th>6</th>\n",
       "      <td>1321400060</td>\n",
       "      <td>20140627T000000</td>\n",
       "      <td>257500.0</td>\n",
       "      <td>3</td>\n",
       "      <td>2.25</td>\n",
       "      <td>1715</td>\n",
       "      <td>6819</td>\n",
       "      <td>2.0</td>\n",
       "      <td>0</td>\n",
       "      <td>0</td>\n",
       "      <td>...</td>\n",
       "      <td>7</td>\n",
       "      <td>1715</td>\n",
       "      <td>0</td>\n",
       "      <td>1995</td>\n",
       "      <td>0</td>\n",
       "      <td>98003</td>\n",
       "      <td>47.3097</td>\n",
       "      <td>-122.327</td>\n",
       "      <td>2238</td>\n",
       "      <td>6819</td>\n",
       "    </tr>\n",
       "    <tr>\n",
       "      <th>7</th>\n",
       "      <td>2008000270</td>\n",
       "      <td>20150115T000000</td>\n",
       "      <td>291850.0</td>\n",
       "      <td>3</td>\n",
       "      <td>1.50</td>\n",
       "      <td>1060</td>\n",
       "      <td>9711</td>\n",
       "      <td>1.0</td>\n",
       "      <td>0</td>\n",
       "      <td>0</td>\n",
       "      <td>...</td>\n",
       "      <td>7</td>\n",
       "      <td>1060</td>\n",
       "      <td>0</td>\n",
       "      <td>1963</td>\n",
       "      <td>0</td>\n",
       "      <td>98198</td>\n",
       "      <td>47.4095</td>\n",
       "      <td>-122.315</td>\n",
       "      <td>1650</td>\n",
       "      <td>9711</td>\n",
       "    </tr>\n",
       "    <tr>\n",
       "      <th>8</th>\n",
       "      <td>2414600126</td>\n",
       "      <td>20150415T000000</td>\n",
       "      <td>229500.0</td>\n",
       "      <td>3</td>\n",
       "      <td>1.00</td>\n",
       "      <td>1780</td>\n",
       "      <td>7470</td>\n",
       "      <td>1.0</td>\n",
       "      <td>0</td>\n",
       "      <td>0</td>\n",
       "      <td>...</td>\n",
       "      <td>7</td>\n",
       "      <td>1050</td>\n",
       "      <td>730</td>\n",
       "      <td>1960</td>\n",
       "      <td>0</td>\n",
       "      <td>98146</td>\n",
       "      <td>47.5123</td>\n",
       "      <td>-122.337</td>\n",
       "      <td>1780</td>\n",
       "      <td>8113</td>\n",
       "    </tr>\n",
       "    <tr>\n",
       "      <th>9</th>\n",
       "      <td>3793500160</td>\n",
       "      <td>20150312T000000</td>\n",
       "      <td>323000.0</td>\n",
       "      <td>3</td>\n",
       "      <td>2.50</td>\n",
       "      <td>1890</td>\n",
       "      <td>6560</td>\n",
       "      <td>2.0</td>\n",
       "      <td>0</td>\n",
       "      <td>0</td>\n",
       "      <td>...</td>\n",
       "      <td>7</td>\n",
       "      <td>1890</td>\n",
       "      <td>0</td>\n",
       "      <td>2003</td>\n",
       "      <td>0</td>\n",
       "      <td>98038</td>\n",
       "      <td>47.3684</td>\n",
       "      <td>-122.031</td>\n",
       "      <td>2390</td>\n",
       "      <td>7570</td>\n",
       "    </tr>\n",
       "  </tbody>\n",
       "</table>\n",
       "<p>10 rows × 21 columns</p>\n",
       "</div>"
      ],
      "text/plain": [
       "           id             date      price  bedrooms  bathrooms  sqft_living  \\\n",
       "0  7129300520  20141013T000000   221900.0         3       1.00         1180   \n",
       "1  6414100192  20141209T000000   538000.0         3       2.25         2570   \n",
       "2  5631500400  20150225T000000   180000.0         2       1.00          770   \n",
       "3  2487200875  20141209T000000   604000.0         4       3.00         1960   \n",
       "4  1954400510  20150218T000000   510000.0         3       2.00         1680   \n",
       "5  7237550310  20140512T000000  1225000.0         4       4.50         5420   \n",
       "6  1321400060  20140627T000000   257500.0         3       2.25         1715   \n",
       "7  2008000270  20150115T000000   291850.0         3       1.50         1060   \n",
       "8  2414600126  20150415T000000   229500.0         3       1.00         1780   \n",
       "9  3793500160  20150312T000000   323000.0         3       2.50         1890   \n",
       "\n",
       "   sqft_lot  floors  waterfront  view  ...  grade  sqft_above  sqft_basement  \\\n",
       "0      5650     1.0           0     0  ...      7        1180              0   \n",
       "1      7242     2.0           0     0  ...      7        2170            400   \n",
       "2     10000     1.0           0     0  ...      6         770              0   \n",
       "3      5000     1.0           0     0  ...      7        1050            910   \n",
       "4      8080     1.0           0     0  ...      8        1680              0   \n",
       "5    101930     1.0           0     0  ...     11        3890           1530   \n",
       "6      6819     2.0           0     0  ...      7        1715              0   \n",
       "7      9711     1.0           0     0  ...      7        1060              0   \n",
       "8      7470     1.0           0     0  ...      7        1050            730   \n",
       "9      6560     2.0           0     0  ...      7        1890              0   \n",
       "\n",
       "   yr_built  yr_renovated  zipcode      lat     long  sqft_living15  \\\n",
       "0      1955             0    98178  47.5112 -122.257           1340   \n",
       "1      1951          1991    98125  47.7210 -122.319           1690   \n",
       "2      1933             0    98028  47.7379 -122.233           2720   \n",
       "3      1965             0    98136  47.5208 -122.393           1360   \n",
       "4      1987             0    98074  47.6168 -122.045           1800   \n",
       "5      2001             0    98053  47.6561 -122.005           4760   \n",
       "6      1995             0    98003  47.3097 -122.327           2238   \n",
       "7      1963             0    98198  47.4095 -122.315           1650   \n",
       "8      1960             0    98146  47.5123 -122.337           1780   \n",
       "9      2003             0    98038  47.3684 -122.031           2390   \n",
       "\n",
       "   sqft_lot15  \n",
       "0        5650  \n",
       "1        7639  \n",
       "2        8062  \n",
       "3        5000  \n",
       "4        7503  \n",
       "5      101930  \n",
       "6        6819  \n",
       "7        9711  \n",
       "8        8113  \n",
       "9        7570  \n",
       "\n",
       "[10 rows x 21 columns]"
      ]
     },
     "execution_count": 4,
     "metadata": {},
     "output_type": "execute_result"
    }
   ],
   "source": [
    "url='https://raw.githubusercontent.com/ElinorH/Final_Project/main/Houses%20Prices'\n",
    "house_prices_df=pd.read_csv(url)\n",
    "house_prices_df.head(10)"
   ]
  },
  {
   "cell_type": "markdown",
   "id": "d1215d17-2d59-49c1-b28b-9b2bdc8dd43e",
   "metadata": {},
   "source": [
    "### תיקון תאריך"
   ]
  },
  {
   "cell_type": "code",
   "execution_count": 5,
   "id": "d6526a72-1776-48ce-82aa-df75ca42b850",
   "metadata": {},
   "outputs": [],
   "source": [
    "house_prices_df['date'] = pd.DatetimeIndex(house_prices_df['date']).date"
   ]
  },
  {
   "cell_type": "markdown",
   "id": "ab31de5c-71d9-46fc-a2d4-990c98936e3c",
   "metadata": {},
   "source": [
    "### בדיקת ערכים חסרים"
   ]
  },
  {
   "cell_type": "code",
   "execution_count": 6,
   "id": "9b33d2fc-0631-4299-96ac-f0efe4298809",
   "metadata": {},
   "outputs": [
    {
     "data": {
      "text/plain": [
       "id               0\n",
       "date             0\n",
       "price            0\n",
       "bedrooms         0\n",
       "bathrooms        0\n",
       "sqft_living      0\n",
       "sqft_lot         0\n",
       "floors           0\n",
       "waterfront       0\n",
       "view             0\n",
       "condition        0\n",
       "grade            0\n",
       "sqft_above       0\n",
       "sqft_basement    0\n",
       "yr_built         0\n",
       "yr_renovated     0\n",
       "zipcode          0\n",
       "lat              0\n",
       "long             0\n",
       "sqft_living15    0\n",
       "sqft_lot15       0\n",
       "dtype: int64"
      ]
     },
     "execution_count": 6,
     "metadata": {},
     "output_type": "execute_result"
    }
   ],
   "source": [
    "null_counter= house_prices_df.isnull().sum()\n",
    "null_counter"
   ]
  },
  {
   "cell_type": "markdown",
   "id": "8d694c43-720f-4662-809f-e0f2d3df81ed",
   "metadata": {},
   "source": [
    "אין ערכים חסרים  <-"
   ]
  },
  {
   "cell_type": "markdown",
   "id": "0398ba01-4c34-4547-aa7c-4de0777b65a6",
   "metadata": {},
   "source": [
    "## <u>חקר הקשרים.2</u>"
   ]
  },
  {
   "cell_type": "markdown",
   "id": "8340f876-50ac-4784-ba78-a24ca455bfda",
   "metadata": {},
   "source": [
    "### <u style='background:yellow'> 2.1 הקשר בין מספר החדרים למחיר הדירה</u>"
   ]
  },
  {
   "cell_type": "markdown",
   "id": "13a8b2c1-d3a8-4899-a34f-267d6791e9e7",
   "metadata": {},
   "source": [
    "ניצור השמה חדשה עם העמודות:\n",
    "\n",
    "*מס חדרים\n",
    "\n",
    "*מחיר"
   ]
  },
  {
   "cell_type": "code",
   "execution_count": 7,
   "id": "86513bee-5d0a-4436-b51b-e7d118c05bf6",
   "metadata": {},
   "outputs": [
    {
     "data": {
      "text/html": [
       "<div>\n",
       "<style scoped>\n",
       "    .dataframe tbody tr th:only-of-type {\n",
       "        vertical-align: middle;\n",
       "    }\n",
       "\n",
       "    .dataframe tbody tr th {\n",
       "        vertical-align: top;\n",
       "    }\n",
       "\n",
       "    .dataframe thead th {\n",
       "        text-align: right;\n",
       "    }\n",
       "</style>\n",
       "<table border=\"1\" class=\"dataframe\">\n",
       "  <thead>\n",
       "    <tr style=\"text-align: right;\">\n",
       "      <th></th>\n",
       "      <th>bedrooms</th>\n",
       "      <th>price</th>\n",
       "    </tr>\n",
       "  </thead>\n",
       "  <tbody>\n",
       "    <tr>\n",
       "      <th>0</th>\n",
       "      <td>3</td>\n",
       "      <td>221900.0</td>\n",
       "    </tr>\n",
       "    <tr>\n",
       "      <th>1</th>\n",
       "      <td>3</td>\n",
       "      <td>538000.0</td>\n",
       "    </tr>\n",
       "    <tr>\n",
       "      <th>2</th>\n",
       "      <td>2</td>\n",
       "      <td>180000.0</td>\n",
       "    </tr>\n",
       "    <tr>\n",
       "      <th>3</th>\n",
       "      <td>4</td>\n",
       "      <td>604000.0</td>\n",
       "    </tr>\n",
       "    <tr>\n",
       "      <th>4</th>\n",
       "      <td>3</td>\n",
       "      <td>510000.0</td>\n",
       "    </tr>\n",
       "    <tr>\n",
       "      <th>5</th>\n",
       "      <td>4</td>\n",
       "      <td>1225000.0</td>\n",
       "    </tr>\n",
       "    <tr>\n",
       "      <th>6</th>\n",
       "      <td>3</td>\n",
       "      <td>257500.0</td>\n",
       "    </tr>\n",
       "    <tr>\n",
       "      <th>7</th>\n",
       "      <td>3</td>\n",
       "      <td>291850.0</td>\n",
       "    </tr>\n",
       "    <tr>\n",
       "      <th>8</th>\n",
       "      <td>3</td>\n",
       "      <td>229500.0</td>\n",
       "    </tr>\n",
       "    <tr>\n",
       "      <th>9</th>\n",
       "      <td>3</td>\n",
       "      <td>323000.0</td>\n",
       "    </tr>\n",
       "  </tbody>\n",
       "</table>\n",
       "</div>"
      ],
      "text/plain": [
       "   bedrooms      price\n",
       "0         3   221900.0\n",
       "1         3   538000.0\n",
       "2         2   180000.0\n",
       "3         4   604000.0\n",
       "4         3   510000.0\n",
       "5         4  1225000.0\n",
       "6         3   257500.0\n",
       "7         3   291850.0\n",
       "8         3   229500.0\n",
       "9         3   323000.0"
      ]
     },
     "execution_count": 7,
     "metadata": {},
     "output_type": "execute_result"
    }
   ],
   "source": [
    "bedrooms_and_prices= house_prices_df.loc[:,['bedrooms','price']].copy()\n",
    "bedrooms_and_prices.head(10)"
   ]
  },
  {
   "cell_type": "markdown",
   "id": "df0a8230-e8be-42b3-8169-5ed89f02920a",
   "metadata": {},
   "source": [
    "#### ערכים חריגים במספר חדרים"
   ]
  },
  {
   "cell_type": "code",
   "execution_count": 8,
   "id": "6621a47c-2035-4c86-b6ed-7443e112ff9b",
   "metadata": {},
   "outputs": [
    {
     "data": {
      "text/plain": [
       "<AxesSubplot:>"
      ]
     },
     "execution_count": 8,
     "metadata": {},
     "output_type": "execute_result"
    },
    {
     "data": {
      "image/png": "[encoded data removed]",
      "text/plain": [
       "<Figure size 432x288 with 1 Axes>"
      ]
     },
     "metadata": {
      "needs_background": "light"
     },
     "output_type": "display_data"
    }
   ],
   "source": [
    "bedrooms_and_prices.boxplot('bedrooms')"
   ]
  },
  {
   "cell_type": "markdown",
   "id": "2033c9f4-62c4-48ef-aa76-7a3893083cc7",
   "metadata": {},
   "source": [
    "\n",
    "ראינו שיש נתונים חריגים של מספר חדרים גדול מ-10 וקטן מ-1 ,לכן החלטנו להתעלם מתחום זה בשביל להתעסק בבתים ממוצעים ולקבל מידע מדוייק יותר עבורם \n",
    "\n",
    "מכוון שנתייחס לבתים בעלי חדר אחד עד עשרה חדרים,נסיר את הערכים החריגים "
   ]
  },
  {
   "cell_type": "code",
   "execution_count": 9,
   "id": "fe82319b-baf0-4609-9f42-5a3c6993d19e",
   "metadata": {},
   "outputs": [],
   "source": [
    "bedrooms_and_prices=bedrooms_and_prices.loc[(bedrooms_and_prices.bedrooms <= 10) & (bedrooms_and_prices.bedrooms > 0)]"
   ]
  },
  {
   "cell_type": "code",
   "execution_count": 10,
   "id": "c2658ccc-79fa-41f5-9814-0bae1f043a51",
   "metadata": {},
   "outputs": [
    {
     "data": {
      "text/plain": [
       "<AxesSubplot:>"
      ]
     },
     "execution_count": 10,
     "metadata": {},
     "output_type": "execute_result"
    },
    {
     "data": {
      "image/png": "[encoded data removed]",
      "text/plain": [
       "<Figure size 432x288 with 1 Axes>"
      ]
     },
     "metadata": {
      "needs_background": "light"
     },
     "output_type": "display_data"
    }
   ],
   "source": [
    "bedrooms_and_prices.boxplot('bedrooms')"
   ]
  },
  {
   "cell_type": "markdown",
   "id": "10b47327-32ad-4b4b-8410-600b43428004",
   "metadata": {},
   "source": [
    "#### ערכים חריגים במחיר "
   ]
  },
  {
   "cell_type": "code",
   "execution_count": 11,
   "id": "b8f178d2-32e2-4708-a105-523496a3774a",
   "metadata": {},
   "outputs": [
    {
     "data": {
      "text/plain": [
       "<AxesSubplot:>"
      ]
     },
     "execution_count": 11,
     "metadata": {},
     "output_type": "execute_result"
    },
    {
     "data": {
      "image/png": "[encoded data removed]",
      "text/plain": [
       "<Figure size 432x288 with 1 Axes>"
      ]
     },
     "metadata": {
      "needs_background": "light"
     },
     "output_type": "display_data"
    }
   ],
   "source": [
    "bedrooms_and_prices.boxplot('price')"
   ]
  },
  {
   "cell_type": "markdown",
   "id": "c6891a16-f4e5-4774-a0ed-7e024cf7430e",
   "metadata": {},
   "source": [
    "כרגע החלטנו לעבוד עם כל ערכי המחירים, בגלל שהם הגורם התלוי אותו אנו בודקות \n",
    "\n",
    "(הערכים הם במליון דולר)"
   ]
  },
  {
   "cell_type": "markdown",
   "id": "3d728a8c-fbf3-4b42-86df-c52af86db3bd",
   "metadata": {},
   "source": [
    "#### קו רגרסיה"
   ]
  },
  {
   "cell_type": "code",
   "execution_count": 12,
   "id": "e7051d22-5303-4f42-a4e6-520baaa99bd6",
   "metadata": {},
   "outputs": [
    {
     "data": {
      "image/png": "[encoded data removed]",
      "text/plain": [
       "<Figure size 432x288 with 1 Axes>"
      ]
     },
     "metadata": {
      "needs_background": "light"
     },
     "output_type": "display_data"
    }
   ],
   "source": [
    "sns.regplot(x='bedrooms', y='price', data=bedrooms_and_prices);"
   ]
  },
  {
   "cell_type": "markdown",
   "id": "20ce8ada-bbd6-45c0-b78d-cb5185d93517",
   "metadata": {
    "tags": []
   },
   "source": [
    " ניתן לראות קשר בין מספר החדרים למחיר אך קשר זה אינו משמעותי \n",
    " "
   ]
  },
  {
   "cell_type": "markdown",
   "id": "0d1872dc-e400-45ac-ac51-37d527967b65",
   "metadata": {},
   "source": [
    "#### קורלציה\n"
   ]
  },
  {
   "cell_type": "markdown",
   "id": "2e2f9036-1d59-4ce9-bf9d-e17ef0e136c8",
   "metadata": {},
   "source": [
    "הנתונים נורמלים, ולכן אפשר לעבוד עם קורלציה של פירסון\n",
    "\n"
   ]
  },
  {
   "cell_type": "code",
   "execution_count": 13,
   "id": "04428eca-4660-4bf6-9622-99df6ded10a5",
   "metadata": {},
   "outputs": [
    {
     "data": {
      "text/html": [
       "<div>\n",
       "<style scoped>\n",
       "    .dataframe tbody tr th:only-of-type {\n",
       "        vertical-align: middle;\n",
       "    }\n",
       "\n",
       "    .dataframe tbody tr th {\n",
       "        vertical-align: top;\n",
       "    }\n",
       "\n",
       "    .dataframe thead th {\n",
       "        text-align: right;\n",
       "    }\n",
       "</style>\n",
       "<table border=\"1\" class=\"dataframe\">\n",
       "  <thead>\n",
       "    <tr style=\"text-align: right;\">\n",
       "      <th></th>\n",
       "      <th>bedrooms</th>\n",
       "      <th>price</th>\n",
       "    </tr>\n",
       "  </thead>\n",
       "  <tbody>\n",
       "    <tr>\n",
       "      <th>bedrooms</th>\n",
       "      <td>1.000000</td>\n",
       "      <td>0.316602</td>\n",
       "    </tr>\n",
       "    <tr>\n",
       "      <th>price</th>\n",
       "      <td>0.316602</td>\n",
       "      <td>1.000000</td>\n",
       "    </tr>\n",
       "  </tbody>\n",
       "</table>\n",
       "</div>"
      ],
      "text/plain": [
       "          bedrooms     price\n",
       "bedrooms  1.000000  0.316602\n",
       "price     0.316602  1.000000"
      ]
     },
     "execution_count": 13,
     "metadata": {},
     "output_type": "execute_result"
    }
   ],
   "source": [
    "bedrooms_and_prices[['bedrooms', 'price']].corr(method='pearson')"
   ]
  },
  {
   "cell_type": "markdown",
   "id": "f0741a6e-357e-4963-97ad-34cd3c3685c0",
   "metadata": {},
   "source": [
    "\n",
    "הקורלציה יחסית נמוכה, לכן אפשר להסיק שיש נתונים אחרים שמשפיעים \n",
    "\n",
    "שלב א: איחוד עמודות "
   ]
  },
  {
   "cell_type": "code",
   "execution_count": 14,
   "id": "787e5ed1-05be-4d49-96e6-8712bead3683",
   "metadata": {},
   "outputs": [
    {
     "data": {
      "text/html": [
       "<div>\n",
       "<style scoped>\n",
       "    .dataframe tbody tr th:only-of-type {\n",
       "        vertical-align: middle;\n",
       "    }\n",
       "\n",
       "    .dataframe tbody tr th {\n",
       "        vertical-align: top;\n",
       "    }\n",
       "\n",
       "    .dataframe thead th {\n",
       "        text-align: right;\n",
       "    }\n",
       "</style>\n",
       "<table border=\"1\" class=\"dataframe\">\n",
       "  <thead>\n",
       "    <tr style=\"text-align: right;\">\n",
       "      <th></th>\n",
       "      <th>id</th>\n",
       "    </tr>\n",
       "    <tr>\n",
       "      <th>zipcode</th>\n",
       "      <th></th>\n",
       "    </tr>\n",
       "  </thead>\n",
       "  <tbody>\n",
       "    <tr>\n",
       "      <th>98103</th>\n",
       "      <td>602</td>\n",
       "    </tr>\n",
       "    <tr>\n",
       "      <th>98038</th>\n",
       "      <td>590</td>\n",
       "    </tr>\n",
       "    <tr>\n",
       "      <th>98115</th>\n",
       "      <td>583</td>\n",
       "    </tr>\n",
       "    <tr>\n",
       "      <th>98052</th>\n",
       "      <td>574</td>\n",
       "    </tr>\n",
       "    <tr>\n",
       "      <th>98117</th>\n",
       "      <td>553</td>\n",
       "    </tr>\n",
       "  </tbody>\n",
       "</table>\n",
       "</div>"
      ],
      "text/plain": [
       "          id\n",
       "zipcode     \n",
       "98103    602\n",
       "98038    590\n",
       "98115    583\n",
       "98052    574\n",
       "98117    553"
      ]
     },
     "execution_count": 14,
     "metadata": {},
     "output_type": "execute_result"
    }
   ],
   "source": [
    "house_prices_df.groupby('zipcode')[['id']].count().sort_values('id', ascending = False).head(5)"
   ]
  },
  {
   "cell_type": "markdown",
   "id": "fa706ac9-528d-4477-b9d6-d46e0e7273ee",
   "metadata": {},
   "source": [
    "שלב ב: נבחר שתי קבוצות ניסוי\n",
    "\n",
    "נבחר את הקבוצות שיש להן הכי הרבה נתונים"
   ]
  },
  {
   "cell_type": "markdown",
   "id": "ae30a93b-f26c-4815-ba8c-f27f82904079",
   "metadata": {},
   "source": [
    "### קבוצה 1\n",
    " מדינות עם מיקוד 98103"
   ]
  },
  {
   "cell_type": "code",
   "execution_count": 15,
   "id": "ccc23283-8730-472d-b1d3-d4d6b88b8a74",
   "metadata": {},
   "outputs": [
    {
     "data": {
      "text/html": [
       "<div>\n",
       "<style scoped>\n",
       "    .dataframe tbody tr th:only-of-type {\n",
       "        vertical-align: middle;\n",
       "    }\n",
       "\n",
       "    .dataframe tbody tr th {\n",
       "        vertical-align: top;\n",
       "    }\n",
       "\n",
       "    .dataframe thead th {\n",
       "        text-align: right;\n",
       "    }\n",
       "</style>\n",
       "<table border=\"1\" class=\"dataframe\">\n",
       "  <thead>\n",
       "    <tr style=\"text-align: right;\">\n",
       "      <th></th>\n",
       "      <th>bedrooms</th>\n",
       "      <th>price</th>\n",
       "      <th>zipcode</th>\n",
       "    </tr>\n",
       "  </thead>\n",
       "  <tbody>\n",
       "    <tr>\n",
       "      <th>17</th>\n",
       "      <td>4</td>\n",
       "      <td>485000.0</td>\n",
       "      <td>98103</td>\n",
       "    </tr>\n",
       "    <tr>\n",
       "      <th>111</th>\n",
       "      <td>3</td>\n",
       "      <td>570000.0</td>\n",
       "      <td>98103</td>\n",
       "    </tr>\n",
       "    <tr>\n",
       "      <th>116</th>\n",
       "      <td>3</td>\n",
       "      <td>518500.0</td>\n",
       "      <td>98103</td>\n",
       "    </tr>\n",
       "    <tr>\n",
       "      <th>128</th>\n",
       "      <td>5</td>\n",
       "      <td>822500.0</td>\n",
       "      <td>98103</td>\n",
       "    </tr>\n",
       "    <tr>\n",
       "      <th>149</th>\n",
       "      <td>3</td>\n",
       "      <td>511000.0</td>\n",
       "      <td>98103</td>\n",
       "    </tr>\n",
       "  </tbody>\n",
       "</table>\n",
       "</div>"
      ],
      "text/plain": [
       "     bedrooms     price  zipcode\n",
       "17          4  485000.0    98103\n",
       "111         3  570000.0    98103\n",
       "116         3  518500.0    98103\n",
       "128         5  822500.0    98103\n",
       "149         3  511000.0    98103"
      ]
     },
     "execution_count": 15,
     "metadata": {},
     "output_type": "execute_result"
    }
   ],
   "source": [
    "bedrooms_and_prices_98103= house_prices_df.loc[:,['bedrooms','price','zipcode']].copy()\n",
    "bedrooms_and_prices_98103=bedrooms_and_prices_98103[house_prices_df['zipcode']== 98103]\n",
    "bedrooms_and_prices_98103=bedrooms_and_prices_98103.loc[(bedrooms_and_prices_98103.bedrooms <= 10) & (bedrooms_and_prices_98103.bedrooms > 0)]\n",
    "bedrooms_and_prices_98103.head(5)"
   ]
  },
  {
   "cell_type": "code",
   "execution_count": 16,
   "id": "a22caaf3-2215-49b8-bbb1-85140635a6bc",
   "metadata": {},
   "outputs": [
    {
     "data": {
      "image/png": "[encoded data removed]",
      "text/plain": [
       "<Figure size 432x288 with 1 Axes>"
      ]
     },
     "metadata": {
      "needs_background": "light"
     },
     "output_type": "display_data"
    }
   ],
   "source": [
    "sns.regplot(x='bedrooms', y='price', data=bedrooms_and_prices_98103);"
   ]
  },
  {
   "cell_type": "markdown",
   "id": "730a2939-278a-422e-aef6-a9b101a25578",
   "metadata": {},
   "source": [
    "ניתן לראות קשר חיובי בין מספר החדרים למחיר  "
   ]
  },
  {
   "cell_type": "markdown",
   "id": "58678e86-658a-400a-a566-f235aa1d46c3",
   "metadata": {},
   "source": [
    "\n",
    "\n",
    "נבדוק  את הקורלציה(הנתונים לא נורמליים- ספרמן)*"
   ]
  },
  {
   "cell_type": "code",
   "execution_count": 17,
   "id": "e3ba3ad9-3121-4d23-9319-1a1a07e09cbd",
   "metadata": {},
   "outputs": [
    {
     "data": {
      "text/html": [
       "<div>\n",
       "<style scoped>\n",
       "    .dataframe tbody tr th:only-of-type {\n",
       "        vertical-align: middle;\n",
       "    }\n",
       "\n",
       "    .dataframe tbody tr th {\n",
       "        vertical-align: top;\n",
       "    }\n",
       "\n",
       "    .dataframe thead th {\n",
       "        text-align: right;\n",
       "    }\n",
       "</style>\n",
       "<table border=\"1\" class=\"dataframe\">\n",
       "  <thead>\n",
       "    <tr style=\"text-align: right;\">\n",
       "      <th></th>\n",
       "      <th>bedrooms</th>\n",
       "      <th>price</th>\n",
       "    </tr>\n",
       "  </thead>\n",
       "  <tbody>\n",
       "    <tr>\n",
       "      <th>bedrooms</th>\n",
       "      <td>1.000000</td>\n",
       "      <td>0.481884</td>\n",
       "    </tr>\n",
       "    <tr>\n",
       "      <th>price</th>\n",
       "      <td>0.481884</td>\n",
       "      <td>1.000000</td>\n",
       "    </tr>\n",
       "  </tbody>\n",
       "</table>\n",
       "</div>"
      ],
      "text/plain": [
       "          bedrooms     price\n",
       "bedrooms  1.000000  0.481884\n",
       "price     0.481884  1.000000"
      ]
     },
     "execution_count": 17,
     "metadata": {},
     "output_type": "execute_result"
    }
   ],
   "source": [
    "bedrooms_and_prices_98103[['bedrooms', 'price']].corr(method='spearman')"
   ]
  },
  {
   "cell_type": "markdown",
   "id": "e17e823f-18f2-415c-8273-edcd06055576",
   "metadata": {},
   "source": [
    "הקורלציה אומנם יותר גבוה מהמצב המקורי, אבל לא בצורה משמעותית כמו שחשבנו "
   ]
  },
  {
   "cell_type": "markdown",
   "id": "a349e7fd-5c38-46f1-b039-4d7ac81dffda",
   "metadata": {},
   "source": [
    "### קבוצה 2\n",
    " מדינות עם מיקוד 98038"
   ]
  },
  {
   "cell_type": "code",
   "execution_count": 18,
   "id": "149232d5-46f7-4617-b82b-cc03e7af9e96",
   "metadata": {},
   "outputs": [
    {
     "data": {
      "text/html": [
       "<div>\n",
       "<style scoped>\n",
       "    .dataframe tbody tr th:only-of-type {\n",
       "        vertical-align: middle;\n",
       "    }\n",
       "\n",
       "    .dataframe tbody tr th {\n",
       "        vertical-align: top;\n",
       "    }\n",
       "\n",
       "    .dataframe thead th {\n",
       "        text-align: right;\n",
       "    }\n",
       "</style>\n",
       "<table border=\"1\" class=\"dataframe\">\n",
       "  <thead>\n",
       "    <tr style=\"text-align: right;\">\n",
       "      <th></th>\n",
       "      <th>bedrooms</th>\n",
       "      <th>price</th>\n",
       "      <th>zipcode</th>\n",
       "    </tr>\n",
       "  </thead>\n",
       "  <tbody>\n",
       "    <tr>\n",
       "      <th>9</th>\n",
       "      <td>3</td>\n",
       "      <td>323000.0</td>\n",
       "      <td>98038</td>\n",
       "    </tr>\n",
       "    <tr>\n",
       "      <th>73</th>\n",
       "      <td>4</td>\n",
       "      <td>360000.0</td>\n",
       "      <td>98038</td>\n",
       "    </tr>\n",
       "    <tr>\n",
       "      <th>80</th>\n",
       "      <td>3</td>\n",
       "      <td>390000.0</td>\n",
       "      <td>98038</td>\n",
       "    </tr>\n",
       "    <tr>\n",
       "      <th>81</th>\n",
       "      <td>4</td>\n",
       "      <td>360000.0</td>\n",
       "      <td>98038</td>\n",
       "    </tr>\n",
       "    <tr>\n",
       "      <th>98</th>\n",
       "      <td>3</td>\n",
       "      <td>314000.0</td>\n",
       "      <td>98038</td>\n",
       "    </tr>\n",
       "  </tbody>\n",
       "</table>\n",
       "</div>"
      ],
      "text/plain": [
       "    bedrooms     price  zipcode\n",
       "9          3  323000.0    98038\n",
       "73         4  360000.0    98038\n",
       "80         3  390000.0    98038\n",
       "81         4  360000.0    98038\n",
       "98         3  314000.0    98038"
      ]
     },
     "execution_count": 18,
     "metadata": {},
     "output_type": "execute_result"
    }
   ],
   "source": [
    "bedrooms_and_prices_98038= house_prices_df.loc[:,['bedrooms','price','zipcode']].copy()\n",
    "bedrooms_and_prices_98038=bedrooms_and_prices_98038[house_prices_df['zipcode']== 98038]\n",
    "bedrooms_and_prices_98038=bedrooms_and_prices_98038.loc[(bedrooms_and_prices_98038.bedrooms <= 10) & (bedrooms_and_prices_98038.bedrooms > 0)]\n",
    "bedrooms_and_prices_98038.head(5)"
   ]
  },
  {
   "cell_type": "code",
   "execution_count": 19,
   "id": "63d043a9-ef33-4f7b-a07d-5bfe238a8709",
   "metadata": {},
   "outputs": [
    {
     "data": {
      "image/png": "[encoded data removed]",
      "text/plain": [
       "<Figure size 432x288 with 1 Axes>"
      ]
     },
     "metadata": {
      "needs_background": "light"
     },
     "output_type": "display_data"
    }
   ],
   "source": [
    "sns.regplot(x='bedrooms', y='price', data=bedrooms_and_prices_98038);"
   ]
  },
  {
   "cell_type": "markdown",
   "id": "b9bafa03-b96e-463e-bcf3-507690d0f0db",
   "metadata": {},
   "source": [
    "ניתן לראות קשר חיובי בין מספר החדרים למחיר "
   ]
  },
  {
   "cell_type": "markdown",
   "id": "5be19aa2-a8d0-4a01-a56a-317502adee2c",
   "metadata": {},
   "source": [
    "נבדוק  את הקורלציה(הנתונים לא נורמליים- ספרמן)"
   ]
  },
  {
   "cell_type": "code",
   "execution_count": 20,
   "id": "7cf61ffa-252c-4d00-9ad1-8950ee26f84c",
   "metadata": {},
   "outputs": [
    {
     "data": {
      "text/html": [
       "<div>\n",
       "<style scoped>\n",
       "    .dataframe tbody tr th:only-of-type {\n",
       "        vertical-align: middle;\n",
       "    }\n",
       "\n",
       "    .dataframe tbody tr th {\n",
       "        vertical-align: top;\n",
       "    }\n",
       "\n",
       "    .dataframe thead th {\n",
       "        text-align: right;\n",
       "    }\n",
       "</style>\n",
       "<table border=\"1\" class=\"dataframe\">\n",
       "  <thead>\n",
       "    <tr style=\"text-align: right;\">\n",
       "      <th></th>\n",
       "      <th>bedrooms</th>\n",
       "      <th>price</th>\n",
       "    </tr>\n",
       "  </thead>\n",
       "  <tbody>\n",
       "    <tr>\n",
       "      <th>bedrooms</th>\n",
       "      <td>1.000000</td>\n",
       "      <td>0.467142</td>\n",
       "    </tr>\n",
       "    <tr>\n",
       "      <th>price</th>\n",
       "      <td>0.467142</td>\n",
       "      <td>1.000000</td>\n",
       "    </tr>\n",
       "  </tbody>\n",
       "</table>\n",
       "</div>"
      ],
      "text/plain": [
       "          bedrooms     price\n",
       "bedrooms  1.000000  0.467142\n",
       "price     0.467142  1.000000"
      ]
     },
     "execution_count": 20,
     "metadata": {},
     "output_type": "execute_result"
    }
   ],
   "source": [
    "bedrooms_and_prices_98038[['bedrooms', 'price']].corr(method='spearman')"
   ]
  },
  {
   "cell_type": "markdown",
   "id": "3caaec66-25ef-4e0d-93c8-5300226a93d0",
   "metadata": {},
   "source": [
    "הקורלציה אומנם יותר גבוה מהמצב המקורי, אבל לא בצורה משמעותית כמו שחשבנו\n",
    "\n",
    "####  הצגת הקשר בין מספר החדרים למחיר"
   ]
  },
  {
   "cell_type": "code",
   "execution_count": 21,
   "id": "6a338762-302d-4e92-ad36-71b825b03dd2",
   "metadata": {},
   "outputs": [
    {
     "data": {
      "image/png": "[encoded data removed]",
      "text/plain": [
       "<Figure size 432x288 with 1 Axes>"
      ]
     },
     "metadata": {
      "needs_background": "light"
     },
     "output_type": "display_data"
    }
   ],
   "source": [
    "sns.barplot(x=\"zipcode\", y=\"price\", hue=\"bedrooms\",  data=bedrooms_and_prices_98038)\n",
    "plt.show()"
   ]
  },
  {
   "cell_type": "markdown",
   "id": "65212f37-32d5-4922-ada6-e4d178139d31",
   "metadata": {},
   "source": [
    "### **<u style='background:orange'>מסקנה ראשונה</u>**\n",
    "\n",
    "למרות ההגיון, הקשר בין מספר החדרים למחיר של אותו בית קיים אבל לא משמעותי במיוחד<-\n"
   ]
  },
  {
   "cell_type": "markdown",
   "id": "4d9c3e65-d309-4ff2-bb0a-1730636eb55b",
   "metadata": {},
   "source": [
    "### <u  style='background:yellow'>2.2 השפעת המיקוד על מחירי הבתים</u>\n",
    "\n",
    "\n"
   ]
  },
  {
   "cell_type": "markdown",
   "id": "ddbb062f-6479-4170-b828-0bcfada2547a",
   "metadata": {},
   "source": [
    "מיון מיקוד לפי מחיר ממוצע של הבתים באותו האיזור"
   ]
  },
  {
   "cell_type": "code",
   "execution_count": 22,
   "id": "547f3d4e-1d03-4a42-bc87-d996b8f77cab",
   "metadata": {},
   "outputs": [
    {
     "data": {
      "text/html": [
       "<div>\n",
       "<style scoped>\n",
       "    .dataframe tbody tr th:only-of-type {\n",
       "        vertical-align: middle;\n",
       "    }\n",
       "\n",
       "    .dataframe tbody tr th {\n",
       "        vertical-align: top;\n",
       "    }\n",
       "\n",
       "    .dataframe thead th {\n",
       "        text-align: right;\n",
       "    }\n",
       "</style>\n",
       "<table border=\"1\" class=\"dataframe\">\n",
       "  <thead>\n",
       "    <tr style=\"text-align: right;\">\n",
       "      <th></th>\n",
       "      <th>price</th>\n",
       "    </tr>\n",
       "    <tr>\n",
       "      <th>zipcode</th>\n",
       "      <th></th>\n",
       "    </tr>\n",
       "  </thead>\n",
       "  <tbody>\n",
       "    <tr>\n",
       "      <th>98039</th>\n",
       "      <td>2.160607e+06</td>\n",
       "    </tr>\n",
       "    <tr>\n",
       "      <th>98004</th>\n",
       "      <td>1.355927e+06</td>\n",
       "    </tr>\n",
       "    <tr>\n",
       "      <th>98040</th>\n",
       "      <td>1.194230e+06</td>\n",
       "    </tr>\n",
       "    <tr>\n",
       "      <th>98112</th>\n",
       "      <td>1.095499e+06</td>\n",
       "    </tr>\n",
       "    <tr>\n",
       "      <th>98102</th>\n",
       "      <td>9.012583e+05</td>\n",
       "    </tr>\n",
       "    <tr>\n",
       "      <th>...</th>\n",
       "      <td>...</td>\n",
       "    </tr>\n",
       "    <tr>\n",
       "      <th>98148</th>\n",
       "      <td>2.849086e+05</td>\n",
       "    </tr>\n",
       "    <tr>\n",
       "      <th>98001</th>\n",
       "      <td>2.808047e+05</td>\n",
       "    </tr>\n",
       "    <tr>\n",
       "      <th>98032</th>\n",
       "      <td>2.512962e+05</td>\n",
       "    </tr>\n",
       "    <tr>\n",
       "      <th>98168</th>\n",
       "      <td>2.403284e+05</td>\n",
       "    </tr>\n",
       "    <tr>\n",
       "      <th>98002</th>\n",
       "      <td>2.342840e+05</td>\n",
       "    </tr>\n",
       "  </tbody>\n",
       "</table>\n",
       "<p>70 rows × 1 columns</p>\n",
       "</div>"
      ],
      "text/plain": [
       "                price\n",
       "zipcode              \n",
       "98039    2.160607e+06\n",
       "98004    1.355927e+06\n",
       "98040    1.194230e+06\n",
       "98112    1.095499e+06\n",
       "98102    9.012583e+05\n",
       "...               ...\n",
       "98148    2.849086e+05\n",
       "98001    2.808047e+05\n",
       "98032    2.512962e+05\n",
       "98168    2.403284e+05\n",
       "98002    2.342840e+05\n",
       "\n",
       "[70 rows x 1 columns]"
      ]
     },
     "execution_count": 22,
     "metadata": {},
     "output_type": "execute_result"
    }
   ],
   "source": [
    "house_prices_df.groupby('zipcode')[['price']].mean().sort_values('price',ascending= False)"
   ]
  },
  {
   "cell_type": "markdown",
   "id": "a0233d07-5286-49ce-8d4e-f29c62d93dac",
   "metadata": {},
   "source": [
    "bedrooms_and_prices_MAXPRICE השמה לחמשת האיזורים עם המחיר הממוצע הכי גבוה בשם\n",
    " "
   ]
  },
  {
   "cell_type": "code",
   "execution_count": 23,
   "id": "ef0a0811-2ebb-4eed-91b3-0cf67321b14d",
   "metadata": {},
   "outputs": [
    {
     "data": {
      "text/html": [
       "<div>\n",
       "<style scoped>\n",
       "    .dataframe tbody tr th:only-of-type {\n",
       "        vertical-align: middle;\n",
       "    }\n",
       "\n",
       "    .dataframe tbody tr th {\n",
       "        vertical-align: top;\n",
       "    }\n",
       "\n",
       "    .dataframe thead th {\n",
       "        text-align: right;\n",
       "    }\n",
       "</style>\n",
       "<table border=\"1\" class=\"dataframe\">\n",
       "  <thead>\n",
       "    <tr style=\"text-align: right;\">\n",
       "      <th></th>\n",
       "      <th>bedrooms</th>\n",
       "      <th>price</th>\n",
       "      <th>zipcode</th>\n",
       "    </tr>\n",
       "  </thead>\n",
       "  <tbody>\n",
       "    <tr>\n",
       "      <th>21</th>\n",
       "      <td>3</td>\n",
       "      <td>2000000.0</td>\n",
       "      <td>98040</td>\n",
       "    </tr>\n",
       "    <tr>\n",
       "      <th>27</th>\n",
       "      <td>3</td>\n",
       "      <td>667000.0</td>\n",
       "      <td>98112</td>\n",
       "    </tr>\n",
       "    <tr>\n",
       "      <th>66</th>\n",
       "      <td>4</td>\n",
       "      <td>975000.0</td>\n",
       "      <td>98004</td>\n",
       "    </tr>\n",
       "  </tbody>\n",
       "</table>\n",
       "</div>"
      ],
      "text/plain": [
       "    bedrooms      price  zipcode\n",
       "21         3  2000000.0    98040\n",
       "27         3   667000.0    98112\n",
       "66         4   975000.0    98004"
      ]
     },
     "execution_count": 23,
     "metadata": {},
     "output_type": "execute_result"
    }
   ],
   "source": [
    "bedrooms_and_prices_MAXPRICE= house_prices_df.loc[:,['bedrooms','price','zipcode']].copy()\n",
    "bedrooms_and_prices_MAXPRICE=bedrooms_and_prices_MAXPRICE[(bedrooms_and_prices_MAXPRICE['zipcode']== 98039) |(bedrooms_and_prices_MAXPRICE['zipcode']== 98004 )|(bedrooms_and_prices_MAXPRICE['zipcode']== 98040)|(bedrooms_and_prices_MAXPRICE['zipcode']== 98112)|(bedrooms_and_prices_MAXPRICE['zipcode']== 98102)   ]\n",
    "bedrooms_and_prices_MAXPRICE=bedrooms_and_prices_MAXPRICE.loc[(bedrooms_and_prices_MAXPRICE.bedrooms <= 6) & (bedrooms_and_prices_MAXPRICE.bedrooms > 1)]\n",
    "bedrooms_and_prices_MAXPRICE.head(3)"
   ]
  },
  {
   "cell_type": "markdown",
   "id": "aaf264f1-c12c-4499-a19c-a1fcde067ec7",
   "metadata": {},
   "source": [
    "bedrooms_and_prices_MINIPRICE השמה לחמשת האיזורים עם המחיר הממוצע הכי קטן בשם\n"
   ]
  },
  {
   "cell_type": "code",
   "execution_count": 24,
   "id": "033bf5ca-99bc-477c-b0b4-cafa103acc51",
   "metadata": {},
   "outputs": [
    {
     "data": {
      "text/html": [
       "<div>\n",
       "<style scoped>\n",
       "    .dataframe tbody tr th:only-of-type {\n",
       "        vertical-align: middle;\n",
       "    }\n",
       "\n",
       "    .dataframe tbody tr th {\n",
       "        vertical-align: top;\n",
       "    }\n",
       "\n",
       "    .dataframe thead th {\n",
       "        text-align: right;\n",
       "    }\n",
       "</style>\n",
       "<table border=\"1\" class=\"dataframe\">\n",
       "  <thead>\n",
       "    <tr style=\"text-align: right;\">\n",
       "      <th></th>\n",
       "      <th>bedrooms</th>\n",
       "      <th>price</th>\n",
       "      <th>zipcode</th>\n",
       "    </tr>\n",
       "  </thead>\n",
       "  <tbody>\n",
       "    <tr>\n",
       "      <th>18</th>\n",
       "      <td>2</td>\n",
       "      <td>189000.0</td>\n",
       "      <td>98002</td>\n",
       "    </tr>\n",
       "    <tr>\n",
       "      <th>25</th>\n",
       "      <td>3</td>\n",
       "      <td>233000.0</td>\n",
       "      <td>98002</td>\n",
       "    </tr>\n",
       "    <tr>\n",
       "      <th>38</th>\n",
       "      <td>4</td>\n",
       "      <td>240000.0</td>\n",
       "      <td>98001</td>\n",
       "    </tr>\n",
       "  </tbody>\n",
       "</table>\n",
       "</div>"
      ],
      "text/plain": [
       "    bedrooms     price  zipcode\n",
       "18         2  189000.0    98002\n",
       "25         3  233000.0    98002\n",
       "38         4  240000.0    98001"
      ]
     },
     "execution_count": 24,
     "metadata": {},
     "output_type": "execute_result"
    }
   ],
   "source": [
    "bedrooms_and_prices_MINIPRICE= house_prices_df.loc[:,['bedrooms','price','zipcode']].copy()\n",
    "bedrooms_and_prices_MINIPRICE=bedrooms_and_prices_MINIPRICE[(bedrooms_and_prices_MINIPRICE['zipcode']== 98148) |(bedrooms_and_prices_MINIPRICE['zipcode']== 98001 )|(bedrooms_and_prices_MINIPRICE['zipcode']== 98032)|(bedrooms_and_prices_MINIPRICE['zipcode']== 98168)|(bedrooms_and_prices_MINIPRICE['zipcode']== 98002)   ]\n",
    "bedrooms_and_prices_MINIPRICE=bedrooms_and_prices_MINIPRICE.loc[(bedrooms_and_prices_MINIPRICE.bedrooms <= 6) & (bedrooms_and_prices_MINIPRICE.bedrooms > 1)]\n",
    "bedrooms_and_prices_MINIPRICE.head(3)"
   ]
  },
  {
   "cell_type": "markdown",
   "id": "9d30387f-1deb-4354-941d-d87dfff0c7db",
   "metadata": {},
   "source": [
    "#### נציג את המערכים בגרפים"
   ]
  },
  {
   "cell_type": "code",
   "execution_count": 25,
   "id": "117d1f58-e0ba-4563-a388-ed4605059e52",
   "metadata": {},
   "outputs": [
    {
     "data": {
      "image/png": "[encoded data removed]",
      "text/plain": [
       "<Figure size 1800x720 with 2 Axes>"
      ]
     },
     "metadata": {
      "needs_background": "light"
     },
     "output_type": "display_data"
    }
   ],
   "source": [
    "fig, axes = plt.subplots(figsize=(25, 10), ncols=2)\n",
    "ax0=sns.barplot(x=\"zipcode\", y=\"price\", hue=\"bedrooms\",  data=bedrooms_and_prices_MINIPRICE, ax = axes[0])\n",
    "ax0.title.set_text('Five zipdcodes with the lowest house prices')\n",
    "ax1=sns.barplot(x=\"zipcode\", y=\"price\", hue=\"bedrooms\",  data=bedrooms_and_prices_MAXPRICE,ax = axes[1])\n",
    "ax1.title.set_text('Five zipdcodes with the highest house prices')"
   ]
  },
  {
   "cell_type": "markdown",
   "id": "e72ff6e9-d912-43f7-9fbc-31536bdddf24",
   "metadata": {
    "tags": []
   },
   "source": [
    "### **<u style='background:orange'>מסקנה שנייה</u>**\n",
    "\n",
    "לפי הגרפים, ניתן לראות שבאיזורים מסויימים, מספר גדול מידי של חדרים(5 ומעלה) יכול לגרום להורדת ערך הבית\n",
    "\n",
    "אפשר להסיק שזה בגלל תחזוקה גבוה שבית גדול דורש או מספר נפשות שלא מתאים לבית עם מספר חדרים גדול."
   ]
  },
  {
   "cell_type": "markdown",
   "id": "b57a2054-980e-48e2-81dc-299d792a315b",
   "metadata": {},
   "source": [
    "### <u style='background:yellow'> 2.3 הקשר בין מחיר הבית לשטח הבית הכולל</u>\n",
    "אם הקשר בין מספר החדרים והמחיר לא כלך כך גבוה, אולי שטח הבית הוא משמעותי יותר מבחינת המחיר? נבדוק זאת"
   ]
  },
  {
   "cell_type": "markdown",
   "id": "7d92a5ca-5fbf-4a6c-8da1-acf18bee21f9",
   "metadata": {},
   "source": [
    "sqft_and_prices השמה של מערך המכיל את גודל הבית והמחיר בשם "
   ]
  },
  {
   "cell_type": "code",
   "execution_count": 26,
   "id": "53767ab3-3f47-46cf-a4eb-5e5c4a9d5f0f",
   "metadata": {},
   "outputs": [
    {
     "data": {
      "text/html": [
       "<div>\n",
       "<style scoped>\n",
       "    .dataframe tbody tr th:only-of-type {\n",
       "        vertical-align: middle;\n",
       "    }\n",
       "\n",
       "    .dataframe tbody tr th {\n",
       "        vertical-align: top;\n",
       "    }\n",
       "\n",
       "    .dataframe thead th {\n",
       "        text-align: right;\n",
       "    }\n",
       "</style>\n",
       "<table border=\"1\" class=\"dataframe\">\n",
       "  <thead>\n",
       "    <tr style=\"text-align: right;\">\n",
       "      <th></th>\n",
       "      <th>sqft_lot</th>\n",
       "      <th>price</th>\n",
       "    </tr>\n",
       "  </thead>\n",
       "  <tbody>\n",
       "    <tr>\n",
       "      <th>0</th>\n",
       "      <td>5650</td>\n",
       "      <td>221900.0</td>\n",
       "    </tr>\n",
       "    <tr>\n",
       "      <th>1</th>\n",
       "      <td>7242</td>\n",
       "      <td>538000.0</td>\n",
       "    </tr>\n",
       "    <tr>\n",
       "      <th>2</th>\n",
       "      <td>10000</td>\n",
       "      <td>180000.0</td>\n",
       "    </tr>\n",
       "    <tr>\n",
       "      <th>3</th>\n",
       "      <td>5000</td>\n",
       "      <td>604000.0</td>\n",
       "    </tr>\n",
       "    <tr>\n",
       "      <th>4</th>\n",
       "      <td>8080</td>\n",
       "      <td>510000.0</td>\n",
       "    </tr>\n",
       "  </tbody>\n",
       "</table>\n",
       "</div>"
      ],
      "text/plain": [
       "   sqft_lot     price\n",
       "0      5650  221900.0\n",
       "1      7242  538000.0\n",
       "2     10000  180000.0\n",
       "3      5000  604000.0\n",
       "4      8080  510000.0"
      ]
     },
     "execution_count": 26,
     "metadata": {},
     "output_type": "execute_result"
    }
   ],
   "source": [
    "sqft_and_prices= house_prices_df.loc[:,['sqft_lot','price']].copy()\n",
    "sqft_and_prices.head(5)"
   ]
  },
  {
   "cell_type": "markdown",
   "id": "5c88cced-18f0-49bc-8961-c3135cedc87a",
   "metadata": {},
   "source": [
    "#### ערכים חריגים בשטח הבית הכולל "
   ]
  },
  {
   "cell_type": "code",
   "execution_count": 27,
   "id": "73134c76-7547-4998-bcf3-33f52855972e",
   "metadata": {},
   "outputs": [
    {
     "data": {
      "text/plain": [
       "<AxesSubplot:>"
      ]
     },
     "execution_count": 27,
     "metadata": {},
     "output_type": "execute_result"
    },
    {
     "data": {
      "image/png": "[encoded data removed]",
      "text/plain": [
       "<Figure size 432x288 with 1 Axes>"
      ]
     },
     "metadata": {
      "needs_background": "light"
     },
     "output_type": "display_data"
    }
   ],
   "source": [
    "sqft_and_prices.boxplot('sqft_lot')"
   ]
  },
  {
   "cell_type": "markdown",
   "id": "863ede2d-cd28-4a66-bec5-560888ccb4d7",
   "metadata": {},
   "source": [
    "\n",
    "נתייחס לבתים בשטח 1000  עד 5000 \n",
    "כדי להתייחס  למידע ממוצע ללא פיזור"
   ]
  },
  {
   "cell_type": "code",
   "execution_count": 28,
   "id": "9ede30fa-58af-4dee-85f2-9bc29be6bff9",
   "metadata": {},
   "outputs": [],
   "source": [
    "sqft_and_prices=sqft_and_prices.loc[(sqft_and_prices.sqft_lot <= 5000) & (sqft_and_prices.sqft_lot > 1000)]"
   ]
  },
  {
   "cell_type": "code",
   "execution_count": 29,
   "id": "c115a0e8-d53c-4c2d-b618-4d31517fc739",
   "metadata": {},
   "outputs": [
    {
     "data": {
      "text/plain": [
       "<AxesSubplot:>"
      ]
     },
     "execution_count": 29,
     "metadata": {},
     "output_type": "execute_result"
    },
    {
     "data": {
      "image/png": "[encoded data removed]",
      "text/plain": [
       "<Figure size 432x288 with 1 Axes>"
      ]
     },
     "metadata": {
      "needs_background": "light"
     },
     "output_type": "display_data"
    }
   ],
   "source": [
    "sqft_and_prices.boxplot('sqft_lot')"
   ]
  },
  {
   "cell_type": "code",
   "execution_count": 30,
   "id": "1bb3370b-9c6c-4139-a994-38a15190a50f",
   "metadata": {},
   "outputs": [
    {
     "data": {
      "image/png": "[encoded data removed]",
      "text/plain": [
       "<Figure size 432x288 with 1 Axes>"
      ]
     },
     "metadata": {
      "needs_background": "light"
     },
     "output_type": "display_data"
    }
   ],
   "source": [
    "sns.regplot(x='sqft_lot', y='price', data=sqft_and_prices);"
   ]
  },
  {
   "cell_type": "code",
   "execution_count": 31,
   "id": "557d4a52-5517-4069-8ce8-b20db6c1b4e6",
   "metadata": {},
   "outputs": [
    {
     "data": {
      "text/plain": [
       "<AxesSubplot:xlabel='sqft_lot', ylabel='price'>"
      ]
     },
     "execution_count": 31,
     "metadata": {},
     "output_type": "execute_result"
    },
    {
     "data": {
      "image/png": "[encoded data removed]",
      "text/plain": [
       "<Figure size 432x288 with 1 Axes>"
      ]
     },
     "metadata": {
      "needs_background": "light"
     },
     "output_type": "display_data"
    }
   ],
   "source": [
    "sns.stripplot(x=\"sqft_lot\", y=\"price\", data=sqft_and_prices, jitter=0.02)\n"
   ]
  },
  {
   "cell_type": "markdown",
   "id": "11ceab01-d940-499f-8a45-530d0e5b1dbe",
   "metadata": {},
   "source": [
    "#### קורלציה\n",
    "נבדוק את הקורלציה(הנתונים לא נורמליים- ספרמן)"
   ]
  },
  {
   "cell_type": "code",
   "execution_count": 32,
   "id": "97dd3a43-3d6e-4dd8-a90f-f14082ec38ab",
   "metadata": {},
   "outputs": [
    {
     "data": {
      "text/html": [
       "<div>\n",
       "<style scoped>\n",
       "    .dataframe tbody tr th:only-of-type {\n",
       "        vertical-align: middle;\n",
       "    }\n",
       "\n",
       "    .dataframe tbody tr th {\n",
       "        vertical-align: top;\n",
       "    }\n",
       "\n",
       "    .dataframe thead th {\n",
       "        text-align: right;\n",
       "    }\n",
       "</style>\n",
       "<table border=\"1\" class=\"dataframe\">\n",
       "  <thead>\n",
       "    <tr style=\"text-align: right;\">\n",
       "      <th></th>\n",
       "      <th>sqft_lot</th>\n",
       "      <th>price</th>\n",
       "    </tr>\n",
       "  </thead>\n",
       "  <tbody>\n",
       "    <tr>\n",
       "      <th>sqft_lot</th>\n",
       "      <td>1.00000</td>\n",
       "      <td>0.14405</td>\n",
       "    </tr>\n",
       "    <tr>\n",
       "      <th>price</th>\n",
       "      <td>0.14405</td>\n",
       "      <td>1.00000</td>\n",
       "    </tr>\n",
       "  </tbody>\n",
       "</table>\n",
       "</div>"
      ],
      "text/plain": [
       "          sqft_lot    price\n",
       "sqft_lot   1.00000  0.14405\n",
       "price      0.14405  1.00000"
      ]
     },
     "execution_count": 32,
     "metadata": {},
     "output_type": "execute_result"
    }
   ],
   "source": [
    "sqft_and_prices[['sqft_lot', 'price']].corr(method='spearman')"
   ]
  },
  {
   "cell_type": "markdown",
   "id": "abc8c8da-39fb-4470-937e-03813f68ca5b",
   "metadata": {},
   "source": [
    "הקורלציה נמוכה מדי בשביל להעיד על קשר... נבדוק תת תחום- שטח בנוי\n",
    "\n",
    "### <u style='background:yellow'>2.4  הקשר בין מחיר הבתים לשטח הבנוי שלהם</u> \n"
   ]
  },
  {
   "cell_type": "markdown",
   "id": "5b6d342e-8645-4875-8d56-09c18e50d227",
   "metadata": {},
   "source": [
    "sqft_living_and_prices השמה של מערך המכיל את שטח הבית הבנוי והמחיר "
   ]
  },
  {
   "cell_type": "code",
   "execution_count": 33,
   "id": "e5d213eb-120b-49ce-a59e-017b014e68d9",
   "metadata": {},
   "outputs": [
    {
     "data": {
      "text/html": [
       "<div>\n",
       "<style scoped>\n",
       "    .dataframe tbody tr th:only-of-type {\n",
       "        vertical-align: middle;\n",
       "    }\n",
       "\n",
       "    .dataframe tbody tr th {\n",
       "        vertical-align: top;\n",
       "    }\n",
       "\n",
       "    .dataframe thead th {\n",
       "        text-align: right;\n",
       "    }\n",
       "</style>\n",
       "<table border=\"1\" class=\"dataframe\">\n",
       "  <thead>\n",
       "    <tr style=\"text-align: right;\">\n",
       "      <th></th>\n",
       "      <th>sqft_living</th>\n",
       "      <th>price</th>\n",
       "    </tr>\n",
       "  </thead>\n",
       "  <tbody>\n",
       "    <tr>\n",
       "      <th>0</th>\n",
       "      <td>1180</td>\n",
       "      <td>221900.0</td>\n",
       "    </tr>\n",
       "    <tr>\n",
       "      <th>1</th>\n",
       "      <td>2570</td>\n",
       "      <td>538000.0</td>\n",
       "    </tr>\n",
       "    <tr>\n",
       "      <th>2</th>\n",
       "      <td>770</td>\n",
       "      <td>180000.0</td>\n",
       "    </tr>\n",
       "    <tr>\n",
       "      <th>3</th>\n",
       "      <td>1960</td>\n",
       "      <td>604000.0</td>\n",
       "    </tr>\n",
       "    <tr>\n",
       "      <th>4</th>\n",
       "      <td>1680</td>\n",
       "      <td>510000.0</td>\n",
       "    </tr>\n",
       "    <tr>\n",
       "      <th>5</th>\n",
       "      <td>5420</td>\n",
       "      <td>1225000.0</td>\n",
       "    </tr>\n",
       "    <tr>\n",
       "      <th>6</th>\n",
       "      <td>1715</td>\n",
       "      <td>257500.0</td>\n",
       "    </tr>\n",
       "    <tr>\n",
       "      <th>7</th>\n",
       "      <td>1060</td>\n",
       "      <td>291850.0</td>\n",
       "    </tr>\n",
       "    <tr>\n",
       "      <th>8</th>\n",
       "      <td>1780</td>\n",
       "      <td>229500.0</td>\n",
       "    </tr>\n",
       "    <tr>\n",
       "      <th>9</th>\n",
       "      <td>1890</td>\n",
       "      <td>323000.0</td>\n",
       "    </tr>\n",
       "  </tbody>\n",
       "</table>\n",
       "</div>"
      ],
      "text/plain": [
       "   sqft_living      price\n",
       "0         1180   221900.0\n",
       "1         2570   538000.0\n",
       "2          770   180000.0\n",
       "3         1960   604000.0\n",
       "4         1680   510000.0\n",
       "5         5420  1225000.0\n",
       "6         1715   257500.0\n",
       "7         1060   291850.0\n",
       "8         1780   229500.0\n",
       "9         1890   323000.0"
      ]
     },
     "execution_count": 33,
     "metadata": {},
     "output_type": "execute_result"
    }
   ],
   "source": [
    "sqft_living_and_prices= house_prices_df.loc[:,['sqft_living','price']].copy()\n",
    "sqft_living_and_prices.head(10)"
   ]
  },
  {
   "cell_type": "markdown",
   "id": "0aba347e-93b3-49ac-a4b3-9e2d48ee492f",
   "metadata": {},
   "source": [
    "#### ערכים חריגים בשטח הבית הבנוי "
   ]
  },
  {
   "cell_type": "code",
   "execution_count": 34,
   "id": "cafff842-67ef-456f-9879-03be2c998f4c",
   "metadata": {},
   "outputs": [
    {
     "data": {
      "text/plain": [
       "<AxesSubplot:>"
      ]
     },
     "execution_count": 34,
     "metadata": {},
     "output_type": "execute_result"
    },
    {
     "data": {
      "image/png": "[encoded data removed]",
      "text/plain": [
       "<Figure size 432x288 with 1 Axes>"
      ]
     },
     "metadata": {
      "needs_background": "light"
     },
     "output_type": "display_data"
    }
   ],
   "source": [
    "sqft_living_and_prices.boxplot('sqft_living')"
   ]
  },
  {
   "cell_type": "markdown",
   "id": "cc72a295-af7c-4508-89f1-f97f23a8f8db",
   "metadata": {},
   "source": [
    "נתייחס לבתים בשטח 500  עד 4000 \n",
    "כדי להתייחס יותר למידע ממוצע ללא פיזור"
   ]
  },
  {
   "cell_type": "code",
   "execution_count": 35,
   "id": "8e1bd6c4-10d3-4f14-afcd-28851bd7580a",
   "metadata": {},
   "outputs": [],
   "source": [
    "sqft_living_and_prices=sqft_living_and_prices.loc[(sqft_living_and_prices.sqft_living <= 4000) & (sqft_living_and_prices.sqft_living > 500)]"
   ]
  },
  {
   "cell_type": "code",
   "execution_count": 36,
   "id": "d9d42d33-aaa0-40fa-9b98-08e9976b208f",
   "metadata": {},
   "outputs": [
    {
     "data": {
      "text/plain": [
       "<AxesSubplot:>"
      ]
     },
     "execution_count": 36,
     "metadata": {},
     "output_type": "execute_result"
    },
    {
     "data": {
      "image/png": "[encoded data removed]",
      "text/plain": [
       "<Figure size 432x288 with 1 Axes>"
      ]
     },
     "metadata": {
      "needs_background": "light"
     },
     "output_type": "display_data"
    }
   ],
   "source": [
    "sqft_living_and_prices.boxplot('sqft_living')"
   ]
  },
  {
   "cell_type": "code",
   "execution_count": 37,
   "id": "5899175c-9f01-406f-862c-1345e7f14e9f",
   "metadata": {},
   "outputs": [
    {
     "data": {
      "image/png": "[encoded data removed]",
      "text/plain": [
       "<Figure size 432x288 with 1 Axes>"
      ]
     },
     "metadata": {
      "needs_background": "light"
     },
     "output_type": "display_data"
    }
   ],
   "source": [
    "sns.regplot(x='sqft_living', y='price', data=sqft_living_and_prices);"
   ]
  },
  {
   "cell_type": "markdown",
   "id": "ed54ffdb-6b1f-4cfc-ae4a-8d1676df9169",
   "metadata": {},
   "source": [
    "#### קורלציה\n",
    "נבדוק  את הקורלציה (הנתונים לא נורמליים- ספרמן)"
   ]
  },
  {
   "cell_type": "code",
   "execution_count": 38,
   "id": "ca08f572-7439-4129-a959-96dff1667b4f",
   "metadata": {},
   "outputs": [
    {
     "data": {
      "text/html": [
       "<div>\n",
       "<style scoped>\n",
       "    .dataframe tbody tr th:only-of-type {\n",
       "        vertical-align: middle;\n",
       "    }\n",
       "\n",
       "    .dataframe tbody tr th {\n",
       "        vertical-align: top;\n",
       "    }\n",
       "\n",
       "    .dataframe thead th {\n",
       "        text-align: right;\n",
       "    }\n",
       "</style>\n",
       "<table border=\"1\" class=\"dataframe\">\n",
       "  <thead>\n",
       "    <tr style=\"text-align: right;\">\n",
       "      <th></th>\n",
       "      <th>sqft_living</th>\n",
       "      <th>price</th>\n",
       "    </tr>\n",
       "  </thead>\n",
       "  <tbody>\n",
       "    <tr>\n",
       "      <th>sqft_living</th>\n",
       "      <td>1.000000</td>\n",
       "      <td>0.607147</td>\n",
       "    </tr>\n",
       "    <tr>\n",
       "      <th>price</th>\n",
       "      <td>0.607147</td>\n",
       "      <td>1.000000</td>\n",
       "    </tr>\n",
       "  </tbody>\n",
       "</table>\n",
       "</div>"
      ],
      "text/plain": [
       "             sqft_living     price\n",
       "sqft_living     1.000000  0.607147\n",
       "price           0.607147  1.000000"
      ]
     },
     "execution_count": 38,
     "metadata": {},
     "output_type": "execute_result"
    }
   ],
   "source": [
    "sqft_living_and_prices[['sqft_living', 'price']].corr(method='spearman')"
   ]
  },
  {
   "cell_type": "markdown",
   "id": "32373c9a-6978-4558-87b3-87d01b72db6f",
   "metadata": {},
   "source": [
    "מהרגרסיה והקורלציה אפשר לראות קשר חיובי משמעותי בין השטח הבנוי של הבית למחיר שלו"
   ]
  },
  {
   "cell_type": "markdown",
   "id": "392f39a2-0309-445f-bb6e-f764f9ebf471",
   "metadata": {},
   "source": [
    "### **<u style='background:orange'>מסקנה שלישית</u>**\n",
    "מבין שלושה משתנים שונים(מספר חדרים, שטח הבית, שטח בנוי) המשפיעים על מחירי הבית,\n",
    "\n",
    "המשתנה של השטח הבנוי הוא בעל ההשפעה הגבוהה ביותר. \n",
    "  "
   ]
  },
  {
   "cell_type": "markdown",
   "id": "79020a05-ca54-40d1-8216-ccf8564fbee4",
   "metadata": {},
   "source": [
    "### <u style='background:yellow'>2.5 הקשר בין מחיר הבית לשנת הבניה, הנוף, והקרבה למקור מים</u>"
   ]
  },
  {
   "cell_type": "markdown",
   "id": "81241a7b-984e-4976-b917-3a8f15ecc847",
   "metadata": {},
   "source": [
    "yr_built_waterfront_view השמה של מערך המכיל את שנת הבניה, הקרבה למקור מים והמחיר בשם:"
   ]
  },
  {
   "cell_type": "code",
   "execution_count": 39,
   "id": "ca583659-0888-4a78-9c47-c92a8a24a26a",
   "metadata": {},
   "outputs": [
    {
     "data": {
      "text/html": [
       "<div>\n",
       "<style scoped>\n",
       "    .dataframe tbody tr th:only-of-type {\n",
       "        vertical-align: middle;\n",
       "    }\n",
       "\n",
       "    .dataframe tbody tr th {\n",
       "        vertical-align: top;\n",
       "    }\n",
       "\n",
       "    .dataframe thead th {\n",
       "        text-align: right;\n",
       "    }\n",
       "</style>\n",
       "<table border=\"1\" class=\"dataframe\">\n",
       "  <thead>\n",
       "    <tr style=\"text-align: right;\">\n",
       "      <th></th>\n",
       "      <th>yr_built</th>\n",
       "      <th>price</th>\n",
       "      <th>waterfront</th>\n",
       "      <th>view</th>\n",
       "    </tr>\n",
       "  </thead>\n",
       "  <tbody>\n",
       "    <tr>\n",
       "      <th>0</th>\n",
       "      <td>1955</td>\n",
       "      <td>221900.0</td>\n",
       "      <td>0</td>\n",
       "      <td>0</td>\n",
       "    </tr>\n",
       "    <tr>\n",
       "      <th>1</th>\n",
       "      <td>1951</td>\n",
       "      <td>538000.0</td>\n",
       "      <td>0</td>\n",
       "      <td>0</td>\n",
       "    </tr>\n",
       "    <tr>\n",
       "      <th>2</th>\n",
       "      <td>1933</td>\n",
       "      <td>180000.0</td>\n",
       "      <td>0</td>\n",
       "      <td>0</td>\n",
       "    </tr>\n",
       "    <tr>\n",
       "      <th>3</th>\n",
       "      <td>1965</td>\n",
       "      <td>604000.0</td>\n",
       "      <td>0</td>\n",
       "      <td>0</td>\n",
       "    </tr>\n",
       "  </tbody>\n",
       "</table>\n",
       "</div>"
      ],
      "text/plain": [
       "   yr_built     price  waterfront  view\n",
       "0      1955  221900.0           0     0\n",
       "1      1951  538000.0           0     0\n",
       "2      1933  180000.0           0     0\n",
       "3      1965  604000.0           0     0"
      ]
     },
     "execution_count": 39,
     "metadata": {},
     "output_type": "execute_result"
    }
   ],
   "source": [
    "yr_built_waterfront_view= house_prices_df.loc[:,['yr_built','price','waterfront','view']].copy()\n",
    "yr_built_waterfront_view.head(4)"
   ]
  },
  {
   "cell_type": "markdown",
   "id": "5816a824-eb0a-4be9-834b-9e3ca6d1224e",
   "metadata": {},
   "source": [
    "#### ערכים חריגים בשנת בניה, נוף, קרבה למים \n"
   ]
  },
  {
   "cell_type": "code",
   "execution_count": 40,
   "id": "1a28cd13-189d-4e36-90cf-e2e35ecd6321",
   "metadata": {},
   "outputs": [
    {
     "data": {
      "image/png": "[encoded data removed]",
      "text/plain": [
       "<Figure size 1440x2160 with 20 Axes>"
      ]
     },
     "metadata": {
      "needs_background": "light"
     },
     "output_type": "display_data"
    }
   ],
   "source": [
    "df_to_plot = yr_built_waterfront_view\n",
    "df_to_plot = df_to_plot.select_dtypes(include=np.number)\n",
    "df_to_plot.plot(subplots=True, layout=(5,4), kind='box', figsize=(20,30))\n",
    "plt.subplots_adjust(wspace=0.5);"
   ]
  },
  {
   "cell_type": "code",
   "execution_count": 41,
   "id": "9970f370-d20d-4c56-8839-25ffa3faeb97",
   "metadata": {},
   "outputs": [
    {
     "data": {
      "image/png": "[encoded data removed]",
      "text/plain": [
       "<Figure size 720x504 with 4 Axes>"
      ]
     },
     "metadata": {
      "needs_background": "light"
     },
     "output_type": "display_data"
    }
   ],
   "source": [
    "features = ['yr_built', 'waterfront','view','price']\n",
    "fig, axes = plt.subplots(2,2,figsize=(10,7))\n",
    "plt.subplots_adjust(wspace=0.5, hspace = 0.3)\n",
    "axes = axes.flatten()\n",
    "for i,att in enumerate(features):\n",
    "    sns.histplot(x=att, data=yr_built_waterfront_view,  ax=axes[i])"
   ]
  },
  {
   "cell_type": "markdown",
   "id": "2ab47e4a-63e5-4011-ae12-3d8749f9a118",
   "metadata": {},
   "source": [
    "#### קורלציה\n",
    "נתונים לא נורמלים- ספירמן"
   ]
  },
  {
   "cell_type": "code",
   "execution_count": 42,
   "id": "e505f7fa-a379-4cca-8f8c-ef4cf5efddf0",
   "metadata": {},
   "outputs": [
    {
     "data": {
      "text/plain": [
       "<AxesSubplot:>"
      ]
     },
     "execution_count": 42,
     "metadata": {},
     "output_type": "execute_result"
    },
    {
     "data": {
      "image/png": "[encoded data removed]",
      "text/plain": [
       "<Figure size 360x360 with 2 Axes>"
      ]
     },
     "metadata": {
      "needs_background": "light"
     },
     "output_type": "display_data"
    }
   ],
   "source": [
    "corrs = yr_built_waterfront_view.corr(method = 'spearman')\n",
    "plt.figure(figsize=(5,5))  #figure size\n",
    "sns.heatmap(corrs,  cmap='coolwarm', center =0, annot = True )"
   ]
  },
  {
   "cell_type": "markdown",
   "id": "a02b1581-b1ce-4a5b-bf00-caf20cf616fd",
   "metadata": {},
   "source": [
    "### **<u style='background:orange'>מסקנה רביעית </u>**\n",
    "מבין המשתנים השונים (נוף, קרבה לים, ושנת בניה) של הקורלציות ניתן לראות שגורם ההשפעה הגבוה ביותר על מחירי הבתים הוא הנוף. \n"
   ]
  },
  {
   "cell_type": "markdown",
   "id": "e5e8860a-a78b-4863-82fa-bd7f86e439fa",
   "metadata": {},
   "source": [
    "### <u style='background:yellow'>2.6 הקשר בין נוף למחיר הדירה </u>\n",
    "\n",
    "נדגום קבצים שמכילים רק את הבתים בשכונה הכי יוקרתית, והכי פחות יוקרתית(נשתמש ביוקרה כמשתנה שמעיד על מחיר הדירות)"
   ]
  },
  {
   "cell_type": "markdown",
   "id": "ad3ebb92-f25c-4ea1-961b-db820aa4d840",
   "metadata": {},
   "source": [
    "Medina העיר עם הבתים הכי יוקרתיים היא\n",
    "<center><img src=\"https://leadingestates.com/wp-content/uploads/2015/11/184-88-medina-01.jpg\" width=\"500\"/></center>\n"
   ]
  },
  {
   "cell_type": "code",
   "execution_count": 43,
   "id": "7d02c74a-a65d-46b9-919c-19082881e4c4",
   "metadata": {},
   "outputs": [
    {
     "data": {
      "text/html": [
       "<div>\n",
       "<style scoped>\n",
       "    .dataframe tbody tr th:only-of-type {\n",
       "        vertical-align: middle;\n",
       "    }\n",
       "\n",
       "    .dataframe tbody tr th {\n",
       "        vertical-align: top;\n",
       "    }\n",
       "\n",
       "    .dataframe thead th {\n",
       "        text-align: right;\n",
       "    }\n",
       "</style>\n",
       "<table border=\"1\" class=\"dataframe\">\n",
       "  <thead>\n",
       "    <tr style=\"text-align: right;\">\n",
       "      <th></th>\n",
       "      <th>view</th>\n",
       "      <th>zipcode</th>\n",
       "    </tr>\n",
       "  </thead>\n",
       "  <tbody>\n",
       "    <tr>\n",
       "      <th>2974</th>\n",
       "      <td>0</td>\n",
       "      <td>98039</td>\n",
       "    </tr>\n",
       "    <tr>\n",
       "      <th>3761</th>\n",
       "      <td>0</td>\n",
       "      <td>98039</td>\n",
       "    </tr>\n",
       "    <tr>\n",
       "      <th>4077</th>\n",
       "      <td>0</td>\n",
       "      <td>98039</td>\n",
       "    </tr>\n",
       "    <tr>\n",
       "      <th>4078</th>\n",
       "      <td>0</td>\n",
       "      <td>98039</td>\n",
       "    </tr>\n",
       "    <tr>\n",
       "      <th>4149</th>\n",
       "      <td>0</td>\n",
       "      <td>98039</td>\n",
       "    </tr>\n",
       "  </tbody>\n",
       "</table>\n",
       "</div>"
      ],
      "text/plain": [
       "      view  zipcode\n",
       "2974     0    98039\n",
       "3761     0    98039\n",
       "4077     0    98039\n",
       "4078     0    98039\n",
       "4149     0    98039"
      ]
     },
     "execution_count": 43,
     "metadata": {},
     "output_type": "execute_result"
    }
   ],
   "source": [
    "bedrooms_and_prices_98039= house_prices_df.loc[:,['view','zipcode']].copy()\n",
    "bedrooms_and_prices_98039=bedrooms_and_prices_98039[bedrooms_and_prices_98039['zipcode']== 98039]\n",
    "bedrooms_and_prices_98039.head(5)"
   ]
  },
  {
   "cell_type": "markdown",
   "id": "f61925dc-7c24-4ba9-9901-0f9eab41db38",
   "metadata": {},
   "source": [
    "Auburn העיר עם מחירי בתים הכי זולים היא\n",
    "<center><img src=\"https://upload.wikimedia.org/wikipedia/commons/0/0e/Auburn_station_plaza_from_garage.jpg\" width=\"500\"/></center>\n"
   ]
  },
  {
   "cell_type": "code",
   "execution_count": 44,
   "id": "7bb02f4c-c18d-4175-ba41-501341fd1edf",
   "metadata": {},
   "outputs": [
    {
     "data": {
      "text/html": [
       "<div>\n",
       "<style scoped>\n",
       "    .dataframe tbody tr th:only-of-type {\n",
       "        vertical-align: middle;\n",
       "    }\n",
       "\n",
       "    .dataframe tbody tr th {\n",
       "        vertical-align: top;\n",
       "    }\n",
       "\n",
       "    .dataframe thead th {\n",
       "        text-align: right;\n",
       "    }\n",
       "</style>\n",
       "<table border=\"1\" class=\"dataframe\">\n",
       "  <thead>\n",
       "    <tr style=\"text-align: right;\">\n",
       "      <th></th>\n",
       "      <th>view</th>\n",
       "      <th>zipcode</th>\n",
       "    </tr>\n",
       "  </thead>\n",
       "  <tbody>\n",
       "    <tr>\n",
       "      <th>38</th>\n",
       "      <td>0</td>\n",
       "      <td>98001</td>\n",
       "    </tr>\n",
       "    <tr>\n",
       "      <th>67</th>\n",
       "      <td>0</td>\n",
       "      <td>98001</td>\n",
       "    </tr>\n",
       "    <tr>\n",
       "      <th>114</th>\n",
       "      <td>3</td>\n",
       "      <td>98001</td>\n",
       "    </tr>\n",
       "    <tr>\n",
       "      <th>213</th>\n",
       "      <td>0</td>\n",
       "      <td>98001</td>\n",
       "    </tr>\n",
       "    <tr>\n",
       "      <th>292</th>\n",
       "      <td>0</td>\n",
       "      <td>98001</td>\n",
       "    </tr>\n",
       "  </tbody>\n",
       "</table>\n",
       "</div>"
      ],
      "text/plain": [
       "     view  zipcode\n",
       "38      0    98001\n",
       "67      0    98001\n",
       "114     3    98001\n",
       "213     0    98001\n",
       "292     0    98001"
      ]
     },
     "execution_count": 44,
     "metadata": {},
     "output_type": "execute_result"
    }
   ],
   "source": [
    "bedrooms_and_prices_98001= house_prices_df.loc[:,['view','zipcode']].copy()\n",
    "bedrooms_and_prices_98001=bedrooms_and_prices_98001[bedrooms_and_prices_98001['zipcode']== 98001]\n",
    "bedrooms_and_prices_98001.head(5)"
   ]
  },
  {
   "cell_type": "code",
   "execution_count": 45,
   "id": "462db6ef-c555-4668-af7a-dac45bee24eb",
   "metadata": {},
   "outputs": [
    {
     "data": {
      "image/png": "[encoded data removed]",
      "text/plain": [
       "<Figure size 2160x2160 with 2 Axes>"
      ]
     },
     "metadata": {},
     "output_type": "display_data"
    }
   ],
   "source": [
    "plt.figure(1, figsize=(30,30))\n",
    "plt.subplot(3,3,1)\n",
    "plt.title(\"View by the most expensive zipcode\")\n",
    "bedrooms_and_prices_98039['view'].value_counts().plot.pie(autopct=\"\") \n",
    "plt.subplot(3,3,2)\n",
    "plt.title(\"View by the least expensive zipcode\")\n",
    "bedrooms_and_prices_98001['view'].value_counts().plot.pie(autopct=\"\")\n",
    "plt.show()"
   ]
  },
  {
   "cell_type": "markdown",
   "id": "fe58af2d-b876-4a42-9296-5f8d04f0822f",
   "metadata": {},
   "source": [
    "### **<u style='background:orange'>מסקנה חמישית</u>**\n",
    "\n",
    "נוף הוא מצרך נדיר , אפשר לראות שבשכונות יוקרתיות יותר, יש נוף יותר טוב <-\n",
    "\n",
    "משמע נוף לא מרכיב חובה כשמדובר במחירי הדירות, אבל כשהוא קיים הוא אכן משפיע ומעלה את ערך הדירה"
   ]
  },
  {
   "cell_type": "markdown",
   "id": "b62ccf66-38df-4466-91a3-fab14d199034",
   "metadata": {},
   "source": [
    "# <u style='background:yellow'> סיכום.3 </u>\n"
   ]
  },
  {
   "cell_type": "markdown",
   "id": "b271ef32-6c79-4faf-a14f-bc22a236c4df",
   "metadata": {},
   "source": [
    "בעבודה, חקרנו את ההשפעה של משתנים שונים על מחירי בתים,\n",
    "במטרה להראות שמחירי בתים לא תמיד נקבעים דווקא ע\"פ המובן מאליו .\n",
    "ראינו שמספר החדרים לא תמיד משפיע על המחיר, ולפעמים אפילו גורע ממנו-\n",
    " באזורים מסוימים , בתים עם חמישה חדרים או יותר יהיה יותר זולים מאשר בתים עם פחות חדרים.\n",
    "כמו שאמרנו מוקדם יותר, יכול להיות שהתופעה הזאת נובעת מתחזוקת בית גבוהה שבתים עם מספר רב של חדרים דורשים.\n",
    "בנוסף לכך, לאחר מספר בדיקות הסקנו שלגודל השטח הבנוי ולנוף הבית יש יותר השפעה על המחיר מאשר גורמים בלתי תלויים אחרים.\n",
    "דבר נוסף, ראינו שהנוף בשכונות מסוימות נמוך מאשר בשכונות יוקרתיות בהן מחירי הדירות גבוהות יותר.\n"
   ]
  }
 ],
 "metadata": {
  "kernelspec": {
   "display_name": "Python 3 (ipykernel)",
   "language": "python",
   "name": "python3"
  },
  "language_info": {
   "codemirror_mode": {
    "name": "ipython",
    "version": 3
   },
   "file_extension": ".py",
   "mimetype": "text/x-python",
   "name": "python",
   "nbconvert_exporter": "python",
   "pygments_lexer": "ipython3",
   "version": "3.9.6"
  }
 },
 "nbformat": 4,
 "nbformat_minor": 5
}
