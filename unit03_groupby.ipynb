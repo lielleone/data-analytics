{
 "cells": [
  {
   "cell_type": "markdown",
   "id": "b17f7619-3ccc-4aee-b7df-3df25631d160",
   "metadata": {},
   "source": [
    "# Unit 3: Manipulation data - Groupby\n",
    "---\n",
    "\n",
    "1. [Working with dates](#section1)\n",
    "2. [Simple Groupby](#section2)\n",
    "3. [Sorting and filtering](#section3)\n",
    "4. [Two or more attributes](#section4)\n",
    "5. [Multiple aggregations](#section5)\n",
    "6. [Tidy up](#section6)"
   ]
  },
  {
   "cell_type": "code",
   "execution_count": 1,
   "id": "a57b16d5-ddcb-4d4d-8fa4-1066c2aabc8d",
   "metadata": {},
   "outputs": [],
   "source": [
    "import numpy as np\n",
    "import matplotlib.pyplot as plt\n",
    "import pandas as pd\n",
    "import seaborn as sns"
   ]
  },
  {
   "cell_type": "markdown",
   "id": "ff0411b4-aa54-4bce-b3ae-96bf483ddc7a",
   "metadata": {},
   "source": [
    "Still with airport wildlife strikes. \n",
    "[Some more info on the data](https://github.com/nlihin/data-analytics/blob/main/datasets/aircraft%20wildlife%20strikes%20fieldlist.pdf)"
   ]
  },
  {
   "cell_type": "markdown",
   "id": "7b9348d2-edea-4654-ba8a-ca69d9295f39",
   "metadata": {},
   "source": [
    "This time data from 2018-2023. This dataset was too big to upload to Github, so I split it into two parts:\\\n",
    "2018-2020\\\n",
    "2021-2023"
   ]
  },
  {
   "cell_type": "code",
   "execution_count": 3,
   "id": "f40b6c4a-150a-42f5-b199-65c536c77faf",
   "metadata": {},
   "outputs": [
    {
     "name": "stderr",
     "output_type": "stream",
     "text": [
      "C:\\Users\\lihin\\AppData\\Local\\Temp\\ipykernel_25792\\1453354056.py:3: DtypeWarning: Columns (28) have mixed types. Specify dtype option on import or set low_memory=False.\n",
      "  strike_df_18_20 = pd.read_csv(url1)\n",
      "C:\\Users\\lihin\\AppData\\Local\\Temp\\ipykernel_25792\\1453354056.py:4: DtypeWarning: Columns (3,4,28) have mixed types. Specify dtype option on import or set low_memory=False.\n",
      "  strike_df_21_23 = pd.read_csv(url2)\n"
     ]
    }
   ],
   "source": [
    "url1 = 'https://raw.githubusercontent.com/nlihin/data-analytics/main/datasets/aircraft%20wildlife%20strikes%202018-2020.csv'\n",
    "url2 = 'https://raw.githubusercontent.com/nlihin/data-analytics/main/datasets/aircraft%20wildlife%20strikes%202021-2023.csv'\n",
    "strike_df_18_20 = pd.read_csv(url1)\n",
    "strike_df_21_23 = pd.read_csv(url2)"
   ]
  },
  {
   "cell_type": "markdown",
   "id": "3c898b94-931c-45e9-87e4-a40e0fd7b816",
   "metadata": {},
   "source": [
    "#### Combine the two files into one:\n",
    "Since they have the same structure, `concat` can be used.\n",
    "You will learn other options next year in DB course, but if you're curious, [look here](https://pandas.pydata.org/docs/user_guide/merging.html)"
   ]
  },
  {
   "cell_type": "code",
   "execution_count": 4,
   "id": "5a8f0c11-dc70-4710-ad2f-8ac46ea3e041",
   "metadata": {},
   "outputs": [],
   "source": [
    "strike_df = pd.concat([strike_df_18_20 ,strike_df_21_23]).reset_index()"
   ]
  },
  {
   "cell_type": "markdown",
   "id": "3e90aa96-7de1-4650-9e85-951b68e28def",
   "metadata": {},
   "source": [
    "Note: `reset_index` is important here, or else you get the formar indices from both datasets (and then have multiple rows witht the same index)"
   ]
  },
  {
   "cell_type": "markdown",
   "id": "0dd84239-2497-412e-b80d-cb5b30afd450",
   "metadata": {},
   "source": [
    "### <span style=\"color:blue\"> Exercise:</span>\n",
    "> \n",
    "> How do you suggest to check that the files have been combined? (Sanity check)"
   ]
  },
  {
   "cell_type": "code",
   "execution_count": null,
   "id": "6c1cd0c9-754f-4dcd-b48b-a24e77d38ca9",
   "metadata": {},
   "outputs": [],
   "source": []
  },
  {
   "cell_type": "code",
   "execution_count": null,
   "id": "7c1cb91f-ad63-43e0-92c0-9cc482d20a13",
   "metadata": {},
   "outputs": [],
   "source": []
  },
  {
   "cell_type": "code",
   "execution_count": null,
   "id": "51da9392-c417-4141-855c-a8986ba40a3b",
   "metadata": {},
   "outputs": [],
   "source": []
  },
  {
   "cell_type": "markdown",
   "id": "cfe1759a-8505-4707-8680-3d2de6039edd",
   "metadata": {
    "tags": []
   },
   "source": [
    "<a id='section1'></a>\n",
    "## 1. Working with dates"
   ]
  },
  {
   "cell_type": "markdown",
   "id": "01252a9c-b963-4867-8ff1-e53e54295106",
   "metadata": {},
   "source": [
    "We have a cell that holds the dates:"
   ]
  },
  {
   "cell_type": "code",
   "execution_count": null,
   "id": "bbaaede6-5e02-4ad0-9e33-84898acc3e56",
   "metadata": {},
   "outputs": [],
   "source": [
    "strike_df[['INCIDENT_DATE']].tail()"
   ]
  },
  {
   "cell_type": "markdown",
   "id": "6adc76dc-3b67-4d82-9bdd-6dc4dbb53ae1",
   "metadata": {},
   "source": [
    "But it's currently of type object:"
   ]
  },
  {
   "cell_type": "code",
   "execution_count": null,
   "id": "54493c0b-63e5-4ab6-8712-f863a8b83dec",
   "metadata": {},
   "outputs": [],
   "source": [
    "strike_df[['INCIDENT_DATE']].dtypes"
   ]
  },
  {
   "cell_type": "markdown",
   "id": "959a904c-c687-4488-9024-e4f654214d9f",
   "metadata": {},
   "source": [
    "We will change 'INCIDENT_DATE' into a `datetime` object "
   ]
  },
  {
   "cell_type": "code",
   "execution_count": null,
   "id": "42caa110-4b89-4f02-af3b-280ba02baf1c",
   "metadata": {},
   "outputs": [],
   "source": [
    "strike_df['date'] = pd.to_datetime(strike_df['INCIDENT_DATE'],format='%d/%m/%Y')"
   ]
  },
  {
   "cell_type": "markdown",
   "id": "3b0f40b5-ae1e-463b-8c7d-b353c6bddc91",
   "metadata": {},
   "source": [
    "Did it work?"
   ]
  },
  {
   "cell_type": "code",
   "execution_count": null,
   "id": "0aad0603-03a8-44a6-b3f6-4e4c23bd8783",
   "metadata": {},
   "outputs": [],
   "source": [
    "strike_df[['date']].dtypes"
   ]
  },
  {
   "cell_type": "markdown",
   "id": "77670848-e9f9-4b47-b84e-1ca31def1619",
   "metadata": {},
   "source": [
    "Extract the month:"
   ]
  },
  {
   "cell_type": "code",
   "execution_count": null,
   "id": "638d37cc-67a3-4367-aaeb-9401fdd18edf",
   "metadata": {},
   "outputs": [],
   "source": [
    "strike_df['month'] = pd.DatetimeIndex(strike_df['date']).month"
   ]
  },
  {
   "cell_type": "code",
   "execution_count": null,
   "id": "44ab48c5-f363-4148-9af8-fabcc3b93802",
   "metadata": {},
   "outputs": [],
   "source": [
    "strike_df.loc[10:15,['date','month','struck_parts','SPECIES']]"
   ]
  },
  {
   "cell_type": "markdown",
   "id": "27ee2a6d-1113-412b-817f-ee67881bbf1a",
   "metadata": {},
   "source": [
    "You can use any combination [from here](https://docs.python.org/3/library/datetime.html#strftime-and-strptime-behavior)\n",
    "\n",
    "Another example:"
   ]
  },
  {
   "cell_type": "code",
   "execution_count": null,
   "id": "37c47f05-10c6-4080-a009-a3706ac41304",
   "metadata": {},
   "outputs": [],
   "source": [
    "strike_df['year-month'] = pd.DatetimeIndex(strike_df['date']).strftime('%y-%m')\n",
    "strike_df[[\"year-month\",'date']].iloc[10:12]"
   ]
  },
  {
   "cell_type": "markdown",
   "id": "946999c1-8d95-4f5e-837e-bc04c1c1250e",
   "metadata": {},
   "source": [
    "### <span style=\"color:blue\"> Exercise:</span>\n",
    "> Extract the `year` and add it as a new column called `year` in `strike_df`\n",
    ">\n",
    "> Extract the name of the day and add it as a new column called `weekday` in `strike_df`\n",
    ">\n",
    "> Run the sanity check: `strike_df[[\"date\",\"year\",\"weekday\"]]` "
   ]
  },
  {
   "cell_type": "code",
   "execution_count": null,
   "id": "fd3b20e0-5b1a-42ba-81e7-c2cde8ceb654",
   "metadata": {},
   "outputs": [],
   "source": []
  },
  {
   "cell_type": "code",
   "execution_count": null,
   "id": "853488d5-b3d9-4e4f-b6b5-8f064ccbde9a",
   "metadata": {},
   "outputs": [],
   "source": []
  },
  {
   "cell_type": "code",
   "execution_count": 12,
   "id": "8e1a9f53-a83a-4057-8914-b8faab0b1929",
   "metadata": {},
   "outputs": [],
   "source": [
    "# sanity check\n",
    "#strike_df[[\"date\",\"year\",\"weekday\"]]"
   ]
  },
  {
   "cell_type": "markdown",
   "id": "5a6cee48-44fa-40a5-ae7e-10adef4026ee",
   "metadata": {
    "jp-MarkdownHeadingCollapsed": true,
    "tags": []
   },
   "source": [
    "<a id='section2'></a>\n",
    "## 2. Simple groupby"
   ]
  },
  {
   "cell_type": "markdown",
   "id": "f4543035-3b45-4139-931a-1df429e3351e",
   "metadata": {},
   "source": [
    "[from pandas user guide:](https://pandas.pydata.org/docs/user_guide/groupby.html)\\\n",
    "By “group by” we are referring to a process involving one or more of the following steps:\n",
    "\n",
    "* Splitting the data into groups based on some criteria.\n",
    "\n",
    "* Applying a function to each group independently.\n",
    "\n",
    "* Combining the results into a data structure.\n",
    "\n"
   ]
  },
  {
   "cell_type": "raw",
   "id": "30c28268-a2e3-4df2-a15a-3d5ea4f7c36b",
   "metadata": {},
   "source": [
    "grouped = strike_df.groupby('month')\n",
    "grouped"
   ]
  },
  {
   "cell_type": "markdown",
   "id": "20093527-e2fb-4a33-a02b-11c035fc4ee0",
   "metadata": {},
   "source": [
    "The above split the data into groups\\\n",
    "Nothing happens here, since we didn't indicate what to do with each group\\\n",
    "But: no error. The split is valid :-)"
   ]
  },
  {
   "cell_type": "markdown",
   "id": "fc440d3b-b3ba-4382-880d-91a188ff2f75",
   "metadata": {},
   "source": [
    "Now lets perform a split and then an apply of an aggregation function"
   ]
  },
  {
   "cell_type": "markdown",
   "id": "48b82973-18af-4902-a333-16315be3de61",
   "metadata": {
    "tags": []
   },
   "source": [
    "Count the number of species that are encountered each month:"
   ]
  },
  {
   "cell_type": "code",
   "execution_count": null,
   "id": "0a7e8d2e-2339-4b71-8e06-ab2cd3ee4c79",
   "metadata": {},
   "outputs": [],
   "source": [
    "med_df = strike_df.groupby('month')[['SPECIES']].count() \n",
    "med_df"
   ]
  },
  {
   "cell_type": "code",
   "execution_count": 15,
   "id": "e7f747df-22bd-4d5e-889b-5b4c7130871b",
   "metadata": {},
   "outputs": [],
   "source": [
    "#med_df[[\"month\"]]"
   ]
  },
  {
   "cell_type": "markdown",
   "id": "822b091f-452c-4acd-9029-ac442288d292",
   "metadata": {},
   "source": [
    "Note that this format means `month` is now the index\n",
    "\n",
    "this means `strike_df[[\"month\"]]` won't work anymore"
   ]
  },
  {
   "cell_type": "markdown",
   "id": "d669be06-b3e4-4ea6-9550-1a0ccd34b380",
   "metadata": {},
   "source": [
    "##### If you plan to continue using this data and need the index as an attribute:\n",
    "\n",
    "##### add `reset_index()` and then assign"
   ]
  },
  {
   "cell_type": "code",
   "execution_count": null,
   "id": "9b17ebd8-8ccd-4c68-a2f3-acedad0a273b",
   "metadata": {},
   "outputs": [],
   "source": [
    "med_df = med_df.reset_index()\n",
    "med_df\n",
    "#med_df[[\"location\"]]"
   ]
  },
  {
   "cell_type": "markdown",
   "id": "6ca1b340-a3fa-4633-a549-12a05467203a",
   "metadata": {},
   "source": [
    "sum some data:"
   ]
  },
  {
   "cell_type": "code",
   "execution_count": 23,
   "id": "c7a57f51-009f-402a-b388-67638b822ba3",
   "metadata": {},
   "outputs": [],
   "source": [
    "strike_df[\"people_impact\"] = strike_df[['NR_INJURIES', 'NR_FATALITIES']].sum(axis=1)"
   ]
  },
  {
   "cell_type": "markdown",
   "id": "f134a169-3025-45d9-8cf0-978967cca26e",
   "metadata": {
    "tags": []
   },
   "source": [
    "### <span style=\"color:blue\"> Exercise:</span>\n",
    "> What is the total number of people impacted (the `people_impact`) in each month?\n",
    ">\n",
    "> What is the mean (average) of people impacted (the `people_impact`) each year?\n"
   ]
  },
  {
   "cell_type": "code",
   "execution_count": null,
   "id": "433ace37-9efa-4274-abbf-27f417fa0a67",
   "metadata": {},
   "outputs": [],
   "source": []
  },
  {
   "cell_type": "code",
   "execution_count": null,
   "id": "c5cf76bd-c6f4-43ed-98a8-71ccc307b682",
   "metadata": {},
   "outputs": [],
   "source": []
  },
  {
   "cell_type": "markdown",
   "id": "ba49a541-0bb1-4987-b34d-fd97df8a7721",
   "metadata": {},
   "source": [
    "Now let's see these on a graph:"
   ]
  },
  {
   "cell_type": "code",
   "execution_count": 25,
   "id": "d79e225e-e1d8-4d48-b12b-a08711e1b3bb",
   "metadata": {},
   "outputs": [
    {
     "data": {
      "text/plain": [
       "<AxesSubplot: xlabel='year', ylabel='people_impact'>"
      ]
     },
     "execution_count": 25,
     "metadata": {},
     "output_type": "execute_result"
    },
    {
     "data": {
      "image/png": "[encoded data removed]",
      "text/plain": [
       "<Figure size 640x480 with 1 Axes>"
      ]
     },
     "metadata": {},
     "output_type": "display_data"
    }
   ],
   "source": [
    "strike_df['year'] = pd.DatetimeIndex(strike_df['date']).year\n",
    "sns.barplot(data=strike_df, y ='people_impact', x = 'year',errorbar=None)"
   ]
  },
  {
   "cell_type": "code",
   "execution_count": 27,
   "id": "2771073f-be0c-4a8f-b045-98a5f2eb7ce8",
   "metadata": {},
   "outputs": [
    {
     "data": {
      "text/plain": [
       "<AxesSubplot: xlabel='month', ylabel='people_impact'>"
      ]
     },
     "execution_count": 27,
     "metadata": {},
     "output_type": "execute_result"
    },
    {
     "data": {
      "image/png": "[encoded data removed]",
      "text/plain": [
       "<Figure size 640x480 with 1 Axes>"
      ]
     },
     "metadata": {},
     "output_type": "display_data"
    }
   ],
   "source": [
    "sns.barplot(data=strike_df, y ='people_impact', x = 'month', estimator = sum, errorbar=None)"
   ]
  },
  {
   "cell_type": "markdown",
   "id": "6e961e0b-de6e-4e77-8a67-f50c10322b3a",
   "metadata": {
    "jp-MarkdownHeadingCollapsed": true
   },
   "source": [
    "<a id='section3'></a>\n",
    "## 3. Sorting and filtering"
   ]
  },
  {
   "cell_type": "markdown",
   "id": "be3258ac-a470-47ca-8199-72cc52d2c959",
   "metadata": {},
   "source": [
    "Which bird species impacted people (by injuring or killing them)? How many cases were there?"
   ]
  },
  {
   "cell_type": "code",
   "execution_count": null,
   "id": "616f2a2d-48c9-403d-9b52-89d2bc25fa8a",
   "metadata": {},
   "outputs": [],
   "source": [
    "strike_df.groupby(['SPECIES'])[['people_impact']].sum()\\\n",
    "                                                 .reset_index()\\\n",
    "                                                 .sort_values(by=\"people_impact\")"
   ]
  },
  {
   "cell_type": "markdown",
   "id": "33a6065b-8f2c-461a-ae93-4c3eb667b2e2",
   "metadata": {},
   "source": [
    "Most birds don't impact people. Filter out those who don't using `Filter`\\\n",
    "and then groupby again. You need to groupby twice:\n",
    "* for the filter\n",
    "* for the result after the filter"
   ]
  },
  {
   "cell_type": "code",
   "execution_count": null,
   "id": "093881c0-6823-4156-8ce7-053abdf8ec66",
   "metadata": {},
   "outputs": [],
   "source": [
    "bird_df = strike_df.groupby('SPECIES').filter(lambda x: x['people_impact'].sum() > 0) \\\n",
    "                            .groupby('SPECIES')[['people_impact']].sum() \\\n",
    "                            .reset_index() \\\n",
    "                            .sort_values(by=\"people_impact\", ascending = False ) \n",
    "bird_df"
   ]
  },
  {
   "cell_type": "markdown",
   "id": "96ce8363-ead8-4005-ad04-b000e802ac55",
   "metadata": {},
   "source": [
    "another way to reach the same result, no filter:"
   ]
  },
  {
   "cell_type": "code",
   "execution_count": 187,
   "id": "f5195804-f432-4aed-948a-8b39cd0db028",
   "metadata": {},
   "outputs": [
    {
     "data": {
      "text/html": [
       "<div>\n",
       "<style scoped>\n",
       "    .dataframe tbody tr th:only-of-type {\n",
       "        vertical-align: middle;\n",
       "    }\n",
       "\n",
       "    .dataframe tbody tr th {\n",
       "        vertical-align: top;\n",
       "    }\n",
       "\n",
       "    .dataframe thead th {\n",
       "        text-align: right;\n",
       "    }\n",
       "</style>\n",
       "<table border=\"1\" class=\"dataframe\">\n",
       "  <thead>\n",
       "    <tr style=\"text-align: right;\">\n",
       "      <th></th>\n",
       "      <th>SPECIES</th>\n",
       "      <th>people_impact</th>\n",
       "    </tr>\n",
       "  </thead>\n",
       "  <tbody>\n",
       "    <tr>\n",
       "      <th>840</th>\n",
       "      <td>Unknown bird</td>\n",
       "      <td>9.0</td>\n",
       "    </tr>\n",
       "    <tr>\n",
       "      <th>833</th>\n",
       "      <td>Turkey vulture</td>\n",
       "      <td>4.0</td>\n",
       "    </tr>\n",
       "    <tr>\n",
       "      <th>179</th>\n",
       "      <td>Canada goose</td>\n",
       "      <td>3.0</td>\n",
       "    </tr>\n",
       "    <tr>\n",
       "      <th>684</th>\n",
       "      <td>Red-tailed hawk</td>\n",
       "      <td>3.0</td>\n",
       "    </tr>\n",
       "    <tr>\n",
       "      <th>53</th>\n",
       "      <td>Bald eagle</td>\n",
       "      <td>3.0</td>\n",
       "    </tr>\n",
       "    <tr>\n",
       "      <th>...</th>\n",
       "      <td>...</td>\n",
       "      <td>...</td>\n",
       "    </tr>\n",
       "    <tr>\n",
       "      <th>333</th>\n",
       "      <td>Fox sparrow</td>\n",
       "      <td>0.0</td>\n",
       "    </tr>\n",
       "    <tr>\n",
       "      <th>334</th>\n",
       "      <td>Fox sparrow</td>\n",
       "      <td>0.0</td>\n",
       "    </tr>\n",
       "    <tr>\n",
       "      <th>335</th>\n",
       "      <td>Foxes</td>\n",
       "      <td>0.0</td>\n",
       "    </tr>\n",
       "    <tr>\n",
       "      <th>336</th>\n",
       "      <td>Franklin's gull</td>\n",
       "      <td>0.0</td>\n",
       "    </tr>\n",
       "    <tr>\n",
       "      <th>968</th>\n",
       "      <td>Zenaida dove</td>\n",
       "      <td>0.0</td>\n",
       "    </tr>\n",
       "  </tbody>\n",
       "</table>\n",
       "<p>969 rows × 2 columns</p>\n",
       "</div>"
      ],
      "text/plain": [
       "             SPECIES  people_impact\n",
       "840     Unknown bird            9.0\n",
       "833   Turkey vulture            4.0\n",
       "179     Canada goose            3.0\n",
       "684  Red-tailed hawk            3.0\n",
       "53        Bald eagle            3.0\n",
       "..               ...            ...\n",
       "333      Fox sparrow            0.0\n",
       "334     Fox sparrow             0.0\n",
       "335            Foxes            0.0\n",
       "336  Franklin's gull            0.0\n",
       "968     Zenaida dove            0.0\n",
       "\n",
       "[969 rows x 2 columns]"
      ]
     },
     "execution_count": 187,
     "metadata": {},
     "output_type": "execute_result"
    }
   ],
   "source": [
    "bird_df = strike_df.groupby('SPECIES')[['people_impact']].sum() \\\n",
    "                            .reset_index() \\\n",
    "                            .sort_values(by=\"people_impact\", ascending = False )\\\n",
    "                            .query('people_impact > 0')\n",
    "bird_df"
   ]
  },
  {
   "cell_type": "markdown",
   "id": "3df31be2-eb8a-449a-8c23-48571c1d6100",
   "metadata": {},
   "source": [
    "We cannot plot this figure without performing the groupby (and some sort of filter) first:"
   ]
  },
  {
   "cell_type": "code",
   "execution_count": null,
   "id": "2c9904e1-d738-4318-8123-f4b0ba8dcf6a",
   "metadata": {},
   "outputs": [],
   "source": [
    "sns.barplot(data = bird_df.head(6), x = \"SPECIES\", y = \"people_impact\")\n",
    "plt.xticks(rotation=45, ha='right')\n",
    "plt.show()"
   ]
  },
  {
   "cell_type": "markdown",
   "id": "7b4352fc-147a-4932-851c-ad3db0b50d4d",
   "metadata": {
    "jp-MarkdownHeadingCollapsed": true
   },
   "source": [
    "<a id='section4'></a>\n",
    "## 4. Groupby on two or more attributes"
   ]
  },
  {
   "cell_type": "markdown",
   "id": "9c145593-7302-446c-82f5-0a8a5c462798",
   "metadata": {},
   "source": [
    "Now, groupby `month` and `year`"
   ]
  },
  {
   "cell_type": "code",
   "execution_count": null,
   "id": "10f652f5-69cd-4958-a711-f6e1161e0fd3",
   "metadata": {},
   "outputs": [],
   "source": [
    "strike_grpd = strike_df.groupby(['month','year'])[['people_impact', 'struck_parts']].sum().reset_index()\n",
    "strike_grpd"
   ]
  },
  {
   "cell_type": "markdown",
   "id": "7cc31d92-8960-43e6-b7bf-9cb962ebc63e",
   "metadata": {},
   "source": [
    "### <span style=\"color:blue\"> Exercise:</span>\n",
    "> \n",
    "> 1. what will happen if we switch the order of the indexes: `['month', 'year']`?\n",
    ">\n",
    "> 2. Create a barplot for x=\"year\", y=\"people_impact\", alongside the lineplot (see the help below)"
   ]
  },
  {
   "cell_type": "code",
   "execution_count": null,
   "id": "51810d9a-33ed-4be4-8fda-35db7644616a",
   "metadata": {},
   "outputs": [],
   "source": []
  },
  {
   "cell_type": "markdown",
   "id": "f30d2a1a-fa10-47b2-810d-31fde661fa86",
   "metadata": {},
   "source": [
    "Some help with 2:"
   ]
  },
  {
   "cell_type": "code",
   "execution_count": 29,
   "id": "ff50acee-e330-4c18-918f-7a3e770a3667",
   "metadata": {},
   "outputs": [
    {
     "data": {
      "image/png": "[encoded data removed]",
      "text/plain": [
       "<Figure size 1200x400 with 2 Axes>"
      ]
     },
     "metadata": {},
     "output_type": "display_data"
    }
   ],
   "source": [
    "fig, axes = plt.subplots(figsize=(12, 4), ncols=2)\n",
    "### INSERT YOUR CODE HERE\n",
    "sns.lineplot(x=\"year\", y=\"struck_parts\",  data=strike_df,errorbar=None, estimator = sum, ax=axes[1])\n",
    "plt.show()"
   ]
  },
  {
   "cell_type": "markdown",
   "id": "d05bbb89-3e06-440d-ba6c-319f7cf2b909",
   "metadata": {
    "tags": []
   },
   "source": [
    "<a id='section5'></a>\n",
    "## 5. Multiple aggregations"
   ]
  },
  {
   "cell_type": "code",
   "execution_count": null,
   "id": "90cb7439-a090-44a7-869d-e7ff4857dddb",
   "metadata": {
    "tags": []
   },
   "outputs": [],
   "source": [
    "strike_group = strike_df.groupby('TIME_OF_DAY').\\\n",
    "agg({'people_impact': ['mean', 'median', 'max'], 'TIME_OF_DAY':['count'], 'AircraftOutOfService':['first', 'last', 'mean']})\n",
    "\n",
    "strike_group = strike_group.reset_index()\n",
    "strike_group"
   ]
  },
  {
   "cell_type": "markdown",
   "id": "9995ac92-60d0-4889-b1d9-8b01fa2851a4",
   "metadata": {
    "tags": []
   },
   "source": [
    "<a id='section6'></a>\n",
    "## 6. Tidy your output"
   ]
  },
  {
   "cell_type": "markdown",
   "id": "1544d515-f38c-4043-80b7-4224fd1907f4",
   "metadata": {},
   "source": [
    "If you want to access the data and not deal with a multi-index, flatten the data by dropping a level and rename the columns:"
   ]
  },
  {
   "cell_type": "code",
   "execution_count": null,
   "id": "fa0d20b2-755e-42d2-8e91-fdf81b1ea869",
   "metadata": {},
   "outputs": [],
   "source": [
    "strike_group.columns"
   ]
  },
  {
   "cell_type": "markdown",
   "id": "6cba7f4c-caf4-46a6-88c0-751286bc2a9c",
   "metadata": {},
   "source": [
    "Each column currently has a multi-index, that is - several levels (two levels in our case).\n",
    "We use [droplevel](https://pandas.pydata.org/docs/reference/api/pandas.DataFrame.droplevel.html) to remove one of the indexes.\\\n",
    "`droplevel(level, axis=0)`\\\n",
    "`level` - the position of the index to drop. The topmost or leftmost index is 0.\\\n",
    "`axis` - 0 removes a level in the columns, 1 removes a level in the rows.\\\n",
    "In our case, we have two rows of index, so `axis = 1`."
   ]
  },
  {
   "cell_type": "code",
   "execution_count": null,
   "id": "f5241842-f99e-4507-898d-103973b5f976",
   "metadata": {},
   "outputs": [],
   "source": [
    "strike_group = strike_group.droplevel(0, axis=1) \n",
    "strike_group"
   ]
  },
  {
   "cell_type": "markdown",
   "id": "cee18226-7b3f-4f96-ba1e-4e22ae3ec123",
   "metadata": {},
   "source": [
    "Rename the columns"
   ]
  },
  {
   "cell_type": "code",
   "execution_count": null,
   "id": "f3dce277-3d7b-4a50-a205-394f1251e254",
   "metadata": {
    "scrolled": true
   },
   "outputs": [],
   "source": [
    "strike_group.columns = ['time of day','impact_mean','impact_median','impact_max','time_of_day_count','AOS_first','AOS_last','AOS_mean']\n",
    "strike_group"
   ]
  },
  {
   "cell_type": "markdown",
   "id": "d9c950bc-2a8b-41f4-aeb7-b7467b1c87db",
   "metadata": {},
   "source": [
    "# Summary:"
   ]
  },
  {
   "cell_type": "markdown",
   "id": "d58b0276-e3a3-4605-900f-5959d1d7c432",
   "metadata": {},
   "source": [
    "\n",
    "---\n",
    "\n",
    ">* `concat()` - combine dataframes with overlapping columns [documentation](https://pandas.pydata.org/docs/reference/api/pandas.concat.html)\n",
    ">\n",
    ">* `dtypes` - returns the data type of a series (a column in a dataframe)\n",
    ">\n",
    ">* `pd.to_datetime(df['date'])` - changes the attribute type to datetime\n",
    ">\n",
    ">* `pd.DatetimeIndex(df['date']).month` - extracts the month from the datatime attribute\n",
    ">\n",
    ">*  `pd.DatetimeIndex(strike_df['date']).strftime('%y-%m-%w')` - create a string representing the time. use %y, %a, %A etc..  \n",
    ">\n",
    ">* `groupby()` - group according to the columns specified\n",
    ">\n",
    ">* `reset_index()`  adds a numerical index\n",
    ">\n",
    ">* `apply` - applies a function on each row (axis =0) in the dataframe. Change to (axis = 1) to apply the function on each column [documentation](https://pandas.pydata.org/pandas-docs/stable/reference/api/pandas.DataFrame.apply.html#pandas.DataFrame.apply)\n",
    ">\n",
    ">* `lambda` - small anonymous function\n",
    ">\n",
    ">* `agg` - apply multiple functions at once, one for each specified column [documentation](https://pandas.pydata.org/pandas-docs/stable/reference/api/pandas.DataFrame.agg.html)\n",
    ">\n",
    ">* `unstack` - unstack the inner-most index onto a column\n",
    ">\n",
    ">* `droplevel(0, axis = 1)` - drops the highest (first) level in the column index of a multi-index dataframe\n",
    ">\n",
    ">* `transpose` - switch between columns and rows\n",
    "---"
   ]
  },
  {
   "cell_type": "markdown",
   "id": "14eedf6a-150f-4c32-93a6-5079812cd18b",
   "metadata": {},
   "source": [
    "#### This was a lot of information.\n",
    "\n",
    "#### Keep your balance. Practice. You will make it.\n",
    "\n",
    "<div>\n",
    "<img src=\"https://raw.githubusercontent.com/nlihin/data-analytics/main/images/balance.jpg\" width=\"500\"/>\n",
    "</div>\n",
    "\n",
    "Photo by <a href=\"https://unsplash.com/@martinsanchez?utm_source=unsplash&utm_medium=referral&utm_content=creditCopyText\">Martin Sanchez</a> on <a href=\"https://unsplash.com/s/photos/perfect-balance?utm_source=unsplash&utm_medium=referral&utm_content=creditCopyText\">Unsplash</a>\n",
    "  "
   ]
  },
  {
   "cell_type": "code",
   "execution_count": null,
   "id": "7a9254d1-90b5-45ee-b96b-586132b2a886",
   "metadata": {},
   "outputs": [],
   "source": []
  }
 ],
 "metadata": {
  "kernelspec": {
   "display_name": "Python 3 (ipykernel)",
   "language": "python",
   "name": "python3"
  },
  "language_info": {
   "codemirror_mode": {
    "name": "ipython",
    "version": 3
   },
   "file_extension": ".py",
   "mimetype": "text/x-python",
   "name": "python",
   "nbconvert_exporter": "python",
   "pygments_lexer": "ipython3",
   "version": "3.11.0"
  }
 },
 "nbformat": 4,
 "nbformat_minor": 5
}
