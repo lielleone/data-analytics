{
 "cells": [
  {
   "cell_type": "markdown",
   "id": "86da87bd-00be-4638-b9c0-ab6967a91528",
   "metadata": {},
   "source": [
    "# Stress Analysis in Social Media"
   ]
  },
  {
   "cell_type": "markdown",
   "id": "05e54a6e-59a0-4a7e-bc9c-5105a5bb2437",
   "metadata": {},
   "source": [
    "# Group number- 13\n",
    "## Group members:\n",
    "Ariel Tzur,\n",
    "Yael Cohen,\n",
    "Nicole Ben Haim"
   ]
  },
  {
   "cell_type": "markdown",
   "id": "3409136e-049e-4aed-8783-cc43c9b24aca",
   "metadata": {},
   "source": [
    "Link- https://www.kaggle.com/code/gustavoliberado/stress-analysis-in-social-media/data?select=dreaddit-test.csv"
   ]
  },
  {
   "cell_type": "code",
   "execution_count": 6,
   "id": "0d9655c9-bc3e-4fcd-897e-46642c6232c8",
   "metadata": {},
   "outputs": [],
   "source": [
    "import pandas as pd\n",
    "import numpy as np \n",
    "import matplotlib.pyplot as plt\n",
    "import seaborn as sns\n",
    "%matplotlib inline\n",
    "import sklearn as sk\n",
    "from sklearn.model_selection import train_test_split\n",
    "from sklearn.tree import DecisionTreeRegressor\n",
    "from sklearn.metrics import mean_squared_error"
   ]
  },
  {
   "cell_type": "markdown",
   "id": "04d8013b-ea81-4be8-8dd9-b1a1882505e3",
   "metadata": {},
   "source": [
    "## About the survey:"
   ]
  },
  {
   "cell_type": "markdown",
   "id": "f7a30e0a-aca5-4232-8769-bf806cbb1315",
   "metadata": {},
   "source": [
    "We did a survey among those around us due to questions that came to us from the project."
   ]
  },
  {
   "cell_type": "code",
   "execution_count": 7,
   "id": "b193e397-095f-47a2-bf3f-446048201851",
   "metadata": {},
   "outputs": [],
   "source": [
    "df = pd.read_csv(\"https://raw.githubusercontent.com/NicoleBenHaim/My-Data/main/review_new.csv\")\n",
    "review=df.copy()"
   ]
  },
  {
   "cell_type": "markdown",
   "id": "71a061c4-2cd7-4c6c-8452-da405d17eb1b",
   "metadata": {},
   "source": [
    "### Arranging the data of the survey:"
   ]
  },
  {
   "cell_type": "code",
   "execution_count": 8,
   "id": "cd1996f4-a477-4c83-aa72-84d878ef1ac4",
   "metadata": {},
   "outputs": [],
   "source": [
    "review['frequency'].replace({\"כל יום\":1,\"אחת לשבוע\":2,\"אחת לחודש\":3,\"פעם במספר חודשים או יותר\":4}, inplace = True)\n",
    "review.replace({'לא':0,'כן במידה מועטה':1,'כן במידה רבה':1,'כן':1},inplace = True)\n",
    "list_exs = review[\"The causes of stress\"].str.split(\";\", n = 8, expand = True)\n",
    "review[\"choice1\"]= list_exs[0]\n",
    "review[\"choice2\"]= list_exs[1]\n",
    "review[\"choice3\"]= list_exs[2]\n",
    "review[\"choice4\"]= list_exs[3]\n",
    "review[\"choice5\"]= list_exs[4]\n",
    "review[\"choice6\"]= list_exs[5]\n",
    "review[\"choice7\"]= list_exs[6]\n",
    "review[\"choice8\"]= list_exs[7]\n",
    "review[\"choice9\"]= list_exs[8]\n",
    "melted_df = pd.melt(review, value_vars=['choice1','choice2', 'choice3', 'choice4','choice5', 'choice6', 'choice7','choice8'])\n",
    "melted_df.replace({'זוגיות' : 1, \"מצב כלכלי\" :2,\"לימודים\" :3,\"עבודה\" :4,\"בריאות\":5,\"הרצון להגיע להישיגים\":6,\"הפן החברתי\":7,\"דימוי גוף\":8,\"משפחה\" :9}, inplace = True)"
   ]
  },
  {
   "cell_type": "code",
   "execution_count": 9,
   "id": "8c4e9250-ef6d-4b22-bbeb-9317ab90cb73",
   "metadata": {},
   "outputs": [
    {
     "data": {
      "text/html": [
       "<div>\n",
       "<style scoped>\n",
       "    .dataframe tbody tr th:only-of-type {\n",
       "        vertical-align: middle;\n",
       "    }\n",
       "\n",
       "    .dataframe tbody tr th {\n",
       "        vertical-align: top;\n",
       "    }\n",
       "\n",
       "    .dataframe thead th {\n",
       "        text-align: right;\n",
       "    }\n",
       "</style>\n",
       "<table border=\"1\" class=\"dataframe\">\n",
       "  <thead>\n",
       "    <tr style=\"text-align: right;\">\n",
       "      <th></th>\n",
       "      <th>gender</th>\n",
       "      <th>age</th>\n",
       "      <th>Status in life</th>\n",
       "      <th>Relationships</th>\n",
       "      <th>The causes of stress</th>\n",
       "      <th>sharing</th>\n",
       "      <th>best sharing</th>\n",
       "      <th>frequency</th>\n",
       "      <th>Stress you have experienced in the past and affecting you today</th>\n",
       "      <th>Stress that affected your health</th>\n",
       "      <th>choice1</th>\n",
       "      <th>choice2</th>\n",
       "      <th>choice3</th>\n",
       "      <th>choice4</th>\n",
       "      <th>choice5</th>\n",
       "      <th>choice6</th>\n",
       "      <th>choice7</th>\n",
       "      <th>choice8</th>\n",
       "      <th>choice9</th>\n",
       "    </tr>\n",
       "  </thead>\n",
       "  <tbody>\n",
       "    <tr>\n",
       "      <th>0</th>\n",
       "      <td>1</td>\n",
       "      <td>18-28</td>\n",
       "      <td>1</td>\n",
       "      <td>1</td>\n",
       "      <td>זוגיות;מצב כלכלי;משפחה;בריאות;הרצון להגיע להיש...</td>\n",
       "      <td>0</td>\n",
       "      <td>1;2</td>\n",
       "      <td>1</td>\n",
       "      <td>0</td>\n",
       "      <td>0</td>\n",
       "      <td>זוגיות</td>\n",
       "      <td>מצב כלכלי</td>\n",
       "      <td>משפחה</td>\n",
       "      <td>בריאות</td>\n",
       "      <td>הרצון להגיע להישיגים</td>\n",
       "      <td>None</td>\n",
       "      <td>None</td>\n",
       "      <td>None</td>\n",
       "      <td>None</td>\n",
       "    </tr>\n",
       "    <tr>\n",
       "      <th>1</th>\n",
       "      <td>0</td>\n",
       "      <td>18-28</td>\n",
       "      <td>1</td>\n",
       "      <td>0</td>\n",
       "      <td>מצב כלכלי;לימודים</td>\n",
       "      <td>0</td>\n",
       "      <td>1</td>\n",
       "      <td>2</td>\n",
       "      <td>1</td>\n",
       "      <td>0</td>\n",
       "      <td>מצב כלכלי</td>\n",
       "      <td>לימודים</td>\n",
       "      <td>None</td>\n",
       "      <td>None</td>\n",
       "      <td>None</td>\n",
       "      <td>None</td>\n",
       "      <td>None</td>\n",
       "      <td>None</td>\n",
       "      <td>None</td>\n",
       "    </tr>\n",
       "    <tr>\n",
       "      <th>2</th>\n",
       "      <td>0</td>\n",
       "      <td>18-28</td>\n",
       "      <td>1</td>\n",
       "      <td>1</td>\n",
       "      <td>מצב כלכלי;לימודים;דימוי גוף</td>\n",
       "      <td>0</td>\n",
       "      <td>1;2</td>\n",
       "      <td>3</td>\n",
       "      <td>0</td>\n",
       "      <td>0</td>\n",
       "      <td>מצב כלכלי</td>\n",
       "      <td>לימודים</td>\n",
       "      <td>דימוי גוף</td>\n",
       "      <td>None</td>\n",
       "      <td>None</td>\n",
       "      <td>None</td>\n",
       "      <td>None</td>\n",
       "      <td>None</td>\n",
       "      <td>None</td>\n",
       "    </tr>\n",
       "    <tr>\n",
       "      <th>3</th>\n",
       "      <td>1</td>\n",
       "      <td>18-28</td>\n",
       "      <td>3</td>\n",
       "      <td>0</td>\n",
       "      <td>הפן החברתי;לימודים;הרצון להגיע להישיגים</td>\n",
       "      <td>0</td>\n",
       "      <td>1</td>\n",
       "      <td>2</td>\n",
       "      <td>1</td>\n",
       "      <td>1</td>\n",
       "      <td>הפן החברתי</td>\n",
       "      <td>לימודים</td>\n",
       "      <td>הרצון להגיע להישיגים</td>\n",
       "      <td>None</td>\n",
       "      <td>None</td>\n",
       "      <td>None</td>\n",
       "      <td>None</td>\n",
       "      <td>None</td>\n",
       "      <td>None</td>\n",
       "    </tr>\n",
       "    <tr>\n",
       "      <th>4</th>\n",
       "      <td>1</td>\n",
       "      <td>18-28</td>\n",
       "      <td>1</td>\n",
       "      <td>0</td>\n",
       "      <td>הרצון להגיע להישיגים</td>\n",
       "      <td>0</td>\n",
       "      <td>1</td>\n",
       "      <td>4</td>\n",
       "      <td>0</td>\n",
       "      <td>0</td>\n",
       "      <td>הרצון להגיע להישיגים</td>\n",
       "      <td>None</td>\n",
       "      <td>None</td>\n",
       "      <td>None</td>\n",
       "      <td>None</td>\n",
       "      <td>None</td>\n",
       "      <td>None</td>\n",
       "      <td>None</td>\n",
       "      <td>None</td>\n",
       "    </tr>\n",
       "  </tbody>\n",
       "</table>\n",
       "</div>"
      ],
      "text/plain": [
       "   gender    age  Status in life  Relationships  \\\n",
       "0       1  18-28               1              1   \n",
       "1       0  18-28               1              0   \n",
       "2       0  18-28               1              1   \n",
       "3       1  18-28               3              0   \n",
       "4       1  18-28               1              0   \n",
       "\n",
       "                                The causes of stress  sharing best sharing  \\\n",
       "0  זוגיות;מצב כלכלי;משפחה;בריאות;הרצון להגיע להיש...        0          1;2   \n",
       "1                                  מצב כלכלי;לימודים        0            1   \n",
       "2                        מצב כלכלי;לימודים;דימוי גוף        0          1;2   \n",
       "3            הפן החברתי;לימודים;הרצון להגיע להישיגים        0            1   \n",
       "4                               הרצון להגיע להישיגים        0            1   \n",
       "\n",
       "   frequency  Stress you have experienced in the past and affecting you today  \\\n",
       "0          1                                                  0                 \n",
       "1          2                                                  1                 \n",
       "2          3                                                  0                 \n",
       "3          2                                                  1                 \n",
       "4          4                                                  0                 \n",
       "\n",
       "   Stress that affected your health               choice1    choice2  \\\n",
       "0                                 0                זוגיות  מצב כלכלי   \n",
       "1                                 0             מצב כלכלי    לימודים   \n",
       "2                                 0             מצב כלכלי    לימודים   \n",
       "3                                 1            הפן החברתי    לימודים   \n",
       "4                                 0  הרצון להגיע להישיגים       None   \n",
       "\n",
       "                choice3 choice4               choice5 choice6 choice7 choice8  \\\n",
       "0                 משפחה  בריאות  הרצון להגיע להישיגים    None    None    None   \n",
       "1                  None    None                  None    None    None    None   \n",
       "2             דימוי גוף    None                  None    None    None    None   \n",
       "3  הרצון להגיע להישיגים    None                  None    None    None    None   \n",
       "4                  None    None                  None    None    None    None   \n",
       "\n",
       "  choice9  \n",
       "0    None  \n",
       "1    None  \n",
       "2    None  \n",
       "3    None  \n",
       "4    None  "
      ]
     },
     "execution_count": 9,
     "metadata": {},
     "output_type": "execute_result"
    }
   ],
   "source": [
    "review.head()"
   ]
  },
  {
   "cell_type": "code",
   "execution_count": 10,
   "id": "57f27c41-c699-43b8-bcb9-de920dbae067",
   "metadata": {},
   "outputs": [
    {
     "data": {
      "text/html": [
       "<div>\n",
       "<style scoped>\n",
       "    .dataframe tbody tr th:only-of-type {\n",
       "        vertical-align: middle;\n",
       "    }\n",
       "\n",
       "    .dataframe tbody tr th {\n",
       "        vertical-align: top;\n",
       "    }\n",
       "\n",
       "    .dataframe thead th {\n",
       "        text-align: right;\n",
       "    }\n",
       "</style>\n",
       "<table border=\"1\" class=\"dataframe\">\n",
       "  <thead>\n",
       "    <tr style=\"text-align: right;\">\n",
       "      <th></th>\n",
       "      <th>variable</th>\n",
       "      <th>value</th>\n",
       "    </tr>\n",
       "  </thead>\n",
       "  <tbody>\n",
       "    <tr>\n",
       "      <th>0</th>\n",
       "      <td>choice1</td>\n",
       "      <td>1.0</td>\n",
       "    </tr>\n",
       "    <tr>\n",
       "      <th>1</th>\n",
       "      <td>choice1</td>\n",
       "      <td>2.0</td>\n",
       "    </tr>\n",
       "    <tr>\n",
       "      <th>2</th>\n",
       "      <td>choice1</td>\n",
       "      <td>2.0</td>\n",
       "    </tr>\n",
       "    <tr>\n",
       "      <th>3</th>\n",
       "      <td>choice1</td>\n",
       "      <td>7.0</td>\n",
       "    </tr>\n",
       "    <tr>\n",
       "      <th>4</th>\n",
       "      <td>choice1</td>\n",
       "      <td>6.0</td>\n",
       "    </tr>\n",
       "  </tbody>\n",
       "</table>\n",
       "</div>"
      ],
      "text/plain": [
       "  variable  value\n",
       "0  choice1    1.0\n",
       "1  choice1    2.0\n",
       "2  choice1    2.0\n",
       "3  choice1    7.0\n",
       "4  choice1    6.0"
      ]
     },
     "execution_count": 10,
     "metadata": {},
     "output_type": "execute_result"
    }
   ],
   "source": [
    "melted_df.head()"
   ]
  },
  {
   "cell_type": "markdown",
   "id": "4d92d1e7-267e-436a-9159-301a8edd713d",
   "metadata": {},
   "source": [
    "# About the data:"
   ]
  },
  {
   "cell_type": "markdown",
   "id": "88e1178b-513a-4e52-aba7-f84c8bf66315",
   "metadata": {},
   "source": [
    "A dataset of lengthy multi-domain social media data for identifying stress from five different categories of Reddit communities.\n",
    "The columns in the data are measured by LIWC-Linguistic Inquiry and Word Count.\n",
    "LIWC reads a given text and compares each word in the text to the list of dictionary words and calculates the percentage of total words in the text that match each of the dictionary categories."
   ]
  },
  {
   "cell_type": "markdown",
   "id": "2bc73fad-4a94-4395-a2a5-680d75614265",
   "metadata": {},
   "source": [
    "************\n",
    "\n",
    "<div>\n",
    "<img src=\"https://raw.githubusercontent.com/NicoleBenHaim/My-Data/main/laptop-which-there-is-world-people-drawn-1.webp\" width=\"500\"\n",
    "</div>\n",
    "\n",
    "*************"
   ]
  },
  {
   "cell_type": "code",
   "execution_count": 11,
   "id": "53da5ca4-0f3c-46a2-af77-a0099cc8f6d4",
   "metadata": {},
   "outputs": [
    {
     "data": {
      "text/html": [
       "<div>\n",
       "<style scoped>\n",
       "    .dataframe tbody tr th:only-of-type {\n",
       "        vertical-align: middle;\n",
       "    }\n",
       "\n",
       "    .dataframe tbody tr th {\n",
       "        vertical-align: top;\n",
       "    }\n",
       "\n",
       "    .dataframe thead th {\n",
       "        text-align: right;\n",
       "    }\n",
       "</style>\n",
       "<table border=\"1\" class=\"dataframe\">\n",
       "  <thead>\n",
       "    <tr style=\"text-align: right;\">\n",
       "      <th></th>\n",
       "      <th>id</th>\n",
       "      <th>subreddit</th>\n",
       "      <th>post_id</th>\n",
       "      <th>sentence_range</th>\n",
       "      <th>text</th>\n",
       "      <th>label</th>\n",
       "      <th>confidence</th>\n",
       "      <th>social_timestamp</th>\n",
       "      <th>social_karma</th>\n",
       "      <th>syntax_ari</th>\n",
       "      <th>...</th>\n",
       "      <th>lex_dal_min_pleasantness</th>\n",
       "      <th>lex_dal_min_activation</th>\n",
       "      <th>lex_dal_min_imagery</th>\n",
       "      <th>lex_dal_avg_activation</th>\n",
       "      <th>lex_dal_avg_imagery</th>\n",
       "      <th>lex_dal_avg_pleasantness</th>\n",
       "      <th>social_upvote_ratio</th>\n",
       "      <th>social_num_comments</th>\n",
       "      <th>syntax_fk_grade</th>\n",
       "      <th>sentiment</th>\n",
       "    </tr>\n",
       "  </thead>\n",
       "  <tbody>\n",
       "    <tr>\n",
       "      <th>0</th>\n",
       "      <td>896</td>\n",
       "      <td>relationships</td>\n",
       "      <td>7nu7as</td>\n",
       "      <td>[50, 55]</td>\n",
       "      <td>Its like that, if you want or not.“ ME: I have...</td>\n",
       "      <td>0</td>\n",
       "      <td>0.8</td>\n",
       "      <td>1.514981e+09</td>\n",
       "      <td>22</td>\n",
       "      <td>-1.238793</td>\n",
       "      <td>...</td>\n",
       "      <td>1.0000</td>\n",
       "      <td>1.2000</td>\n",
       "      <td>1.0</td>\n",
       "      <td>1.65864</td>\n",
       "      <td>1.32245</td>\n",
       "      <td>1.80264</td>\n",
       "      <td>0.63</td>\n",
       "      <td>62</td>\n",
       "      <td>-0.148707</td>\n",
       "      <td>0.000000</td>\n",
       "    </tr>\n",
       "    <tr>\n",
       "      <th>1</th>\n",
       "      <td>19059</td>\n",
       "      <td>anxiety</td>\n",
       "      <td>680i6d</td>\n",
       "      <td>(5, 10)</td>\n",
       "      <td>I man the front desk and my title is HR Custom...</td>\n",
       "      <td>0</td>\n",
       "      <td>1.0</td>\n",
       "      <td>1.493348e+09</td>\n",
       "      <td>5</td>\n",
       "      <td>7.684583</td>\n",
       "      <td>...</td>\n",
       "      <td>1.4000</td>\n",
       "      <td>1.1250</td>\n",
       "      <td>1.0</td>\n",
       "      <td>1.69133</td>\n",
       "      <td>1.69180</td>\n",
       "      <td>1.97249</td>\n",
       "      <td>1.00</td>\n",
       "      <td>2</td>\n",
       "      <td>7.398222</td>\n",
       "      <td>-0.065909</td>\n",
       "    </tr>\n",
       "    <tr>\n",
       "      <th>2</th>\n",
       "      <td>7977</td>\n",
       "      <td>ptsd</td>\n",
       "      <td>8eeu1t</td>\n",
       "      <td>(5, 10)</td>\n",
       "      <td>We'd be saving so much money with this new hou...</td>\n",
       "      <td>1</td>\n",
       "      <td>1.0</td>\n",
       "      <td>1.524517e+09</td>\n",
       "      <td>10</td>\n",
       "      <td>2.360408</td>\n",
       "      <td>...</td>\n",
       "      <td>1.1429</td>\n",
       "      <td>1.0000</td>\n",
       "      <td>1.0</td>\n",
       "      <td>1.70974</td>\n",
       "      <td>1.52985</td>\n",
       "      <td>1.86108</td>\n",
       "      <td>1.00</td>\n",
       "      <td>8</td>\n",
       "      <td>3.149288</td>\n",
       "      <td>-0.036818</td>\n",
       "    </tr>\n",
       "    <tr>\n",
       "      <th>3</th>\n",
       "      <td>1214</td>\n",
       "      <td>ptsd</td>\n",
       "      <td>8d28vu</td>\n",
       "      <td>[2, 7]</td>\n",
       "      <td>My ex used to shoot back with \"Do you want me ...</td>\n",
       "      <td>1</td>\n",
       "      <td>0.5</td>\n",
       "      <td>1.524018e+09</td>\n",
       "      <td>5</td>\n",
       "      <td>5.997000</td>\n",
       "      <td>...</td>\n",
       "      <td>1.0000</td>\n",
       "      <td>1.3000</td>\n",
       "      <td>1.0</td>\n",
       "      <td>1.72615</td>\n",
       "      <td>1.52000</td>\n",
       "      <td>1.84909</td>\n",
       "      <td>1.00</td>\n",
       "      <td>7</td>\n",
       "      <td>6.606000</td>\n",
       "      <td>-0.066667</td>\n",
       "    </tr>\n",
       "    <tr>\n",
       "      <th>4</th>\n",
       "      <td>1965</td>\n",
       "      <td>relationships</td>\n",
       "      <td>7r1e85</td>\n",
       "      <td>[23, 28]</td>\n",
       "      <td>I haven’t said anything to him yet because I’m...</td>\n",
       "      <td>0</td>\n",
       "      <td>0.8</td>\n",
       "      <td>1.516200e+09</td>\n",
       "      <td>138</td>\n",
       "      <td>4.649418</td>\n",
       "      <td>...</td>\n",
       "      <td>1.1250</td>\n",
       "      <td>1.1429</td>\n",
       "      <td>1.0</td>\n",
       "      <td>1.75642</td>\n",
       "      <td>1.43582</td>\n",
       "      <td>1.91725</td>\n",
       "      <td>0.84</td>\n",
       "      <td>70</td>\n",
       "      <td>4.801869</td>\n",
       "      <td>0.141667</td>\n",
       "    </tr>\n",
       "  </tbody>\n",
       "</table>\n",
       "<p>5 rows × 116 columns</p>\n",
       "</div>"
      ],
      "text/plain": [
       "      id      subreddit post_id sentence_range  \\\n",
       "0    896  relationships  7nu7as       [50, 55]   \n",
       "1  19059        anxiety  680i6d        (5, 10)   \n",
       "2   7977           ptsd  8eeu1t        (5, 10)   \n",
       "3   1214           ptsd  8d28vu         [2, 7]   \n",
       "4   1965  relationships  7r1e85       [23, 28]   \n",
       "\n",
       "                                                text  label  confidence  \\\n",
       "0  Its like that, if you want or not.“ ME: I have...      0         0.8   \n",
       "1  I man the front desk and my title is HR Custom...      0         1.0   \n",
       "2  We'd be saving so much money with this new hou...      1         1.0   \n",
       "3  My ex used to shoot back with \"Do you want me ...      1         0.5   \n",
       "4  I haven’t said anything to him yet because I’m...      0         0.8   \n",
       "\n",
       "   social_timestamp  social_karma  syntax_ari  ...  lex_dal_min_pleasantness  \\\n",
       "0      1.514981e+09            22   -1.238793  ...                    1.0000   \n",
       "1      1.493348e+09             5    7.684583  ...                    1.4000   \n",
       "2      1.524517e+09            10    2.360408  ...                    1.1429   \n",
       "3      1.524018e+09             5    5.997000  ...                    1.0000   \n",
       "4      1.516200e+09           138    4.649418  ...                    1.1250   \n",
       "\n",
       "   lex_dal_min_activation  lex_dal_min_imagery  lex_dal_avg_activation  \\\n",
       "0                  1.2000                  1.0                 1.65864   \n",
       "1                  1.1250                  1.0                 1.69133   \n",
       "2                  1.0000                  1.0                 1.70974   \n",
       "3                  1.3000                  1.0                 1.72615   \n",
       "4                  1.1429                  1.0                 1.75642   \n",
       "\n",
       "   lex_dal_avg_imagery  lex_dal_avg_pleasantness  social_upvote_ratio  \\\n",
       "0              1.32245                   1.80264                 0.63   \n",
       "1              1.69180                   1.97249                 1.00   \n",
       "2              1.52985                   1.86108                 1.00   \n",
       "3              1.52000                   1.84909                 1.00   \n",
       "4              1.43582                   1.91725                 0.84   \n",
       "\n",
       "   social_num_comments  syntax_fk_grade  sentiment  \n",
       "0                   62        -0.148707   0.000000  \n",
       "1                    2         7.398222  -0.065909  \n",
       "2                    8         3.149288  -0.036818  \n",
       "3                    7         6.606000  -0.066667  \n",
       "4                   70         4.801869   0.141667  \n",
       "\n",
       "[5 rows x 116 columns]"
      ]
     },
     "execution_count": 11,
     "metadata": {},
     "output_type": "execute_result"
    }
   ],
   "source": [
    "data = pd.read_csv(\"https://raw.githubusercontent.com/NicoleBenHaim/My-Data/main/dreaddit-test.csv\")\n",
    "data.shape\n",
    "data.head()"
   ]
  },
  {
   "cell_type": "markdown",
   "id": "90f54ec3-87f5-45b6-be56-0265c93dd171",
   "metadata": {},
   "source": [
    "### We will check the data:\n",
    "- Treat missing values \n",
    "- Treat data types "
   ]
  },
  {
   "cell_type": "code",
   "execution_count": 12,
   "id": "b3ecb1ae-45e6-4dda-8187-5f9ef1333fa7",
   "metadata": {},
   "outputs": [],
   "source": [
    "col=['label','id','subreddit','lex_liwc_i','lex_liwc_we','lex_liwc_you','lex_liwc_shehe','lex_liwc_they','lex_liwc_negate','lex_liwc_compare','lex_liwc_posemo','lex_liwc_negemo','lex_liwc_anx','lex_liwc_anger','lex_liwc_sad','lex_liwc_family','lex_liwc_social','lex_liwc_friend','lex_liwc_female','lex_liwc_male','lex_liwc_differ','lex_liwc_see','lex_liwc_hear','lex_liwc_feel','lex_liwc_body','lex_liwc_health','lex_liwc_sexual','lex_liwc_ingest','lex_liwc_affiliation','lex_liwc_achieve','lex_liwc_power','lex_liwc_risk','lex_liwc_focuspast','lex_liwc_focuspresent','lex_liwc_focusfuture','lex_liwc_motion','lex_liwc_time','lex_liwc_work','lex_liwc_money','lex_liwc_death','lex_liwc_swear','lex_liwc_Parenth','lex_liwc_relig']\n",
    "data2= data[col].copy()"
   ]
  },
  {
   "cell_type": "markdown",
   "id": "8029e971-fcb5-418e-a703-062cc9a00b1b",
   "metadata": {},
   "source": [
    "### Treat missing values\n",
    "### Check if there are missing values:"
   ]
  },
  {
   "cell_type": "code",
   "execution_count": 13,
   "id": "5ce1583b-3035-41b9-8c6e-77e69180f2e3",
   "metadata": {},
   "outputs": [
    {
     "data": {
      "text/plain": [
       "label                    0\n",
       "lex_liwc_i               0\n",
       "lex_liwc_we              0\n",
       "lex_liwc_you             0\n",
       "lex_liwc_shehe           0\n",
       "lex_liwc_they            0\n",
       "lex_liwc_negate          0\n",
       "lex_liwc_compare         0\n",
       "lex_liwc_posemo          0\n",
       "lex_liwc_negemo          0\n",
       "lex_liwc_anx             0\n",
       "lex_liwc_anger           0\n",
       "lex_liwc_sad             0\n",
       "lex_liwc_family          0\n",
       "lex_liwc_social          0\n",
       "lex_liwc_friend          0\n",
       "lex_liwc_female          0\n",
       "lex_liwc_male            0\n",
       "lex_liwc_differ          0\n",
       "lex_liwc_see             0\n",
       "lex_liwc_hear            0\n",
       "lex_liwc_feel            0\n",
       "lex_liwc_body            0\n",
       "lex_liwc_health          0\n",
       "lex_liwc_sexual          0\n",
       "lex_liwc_ingest          0\n",
       "lex_liwc_affiliation     0\n",
       "lex_liwc_achieve         0\n",
       "lex_liwc_power           0\n",
       "lex_liwc_risk            0\n",
       "lex_liwc_focuspast       0\n",
       "lex_liwc_focuspresent    0\n",
       "lex_liwc_focusfuture     0\n",
       "lex_liwc_motion          0\n",
       "lex_liwc_time            0\n",
       "lex_liwc_work            0\n",
       "lex_liwc_money           0\n",
       "lex_liwc_death           0\n",
       "lex_liwc_swear           0\n",
       "lex_liwc_Parenth         0\n",
       "lex_liwc_relig           0\n",
       "dtype: int64"
      ]
     },
     "execution_count": 13,
     "metadata": {},
     "output_type": "execute_result"
    }
   ],
   "source": [
    "col_num=['label','lex_liwc_i','lex_liwc_we','lex_liwc_you','lex_liwc_shehe','lex_liwc_they','lex_liwc_negate','lex_liwc_compare','lex_liwc_posemo','lex_liwc_negemo','lex_liwc_anx','lex_liwc_anger','lex_liwc_sad','lex_liwc_family','lex_liwc_social','lex_liwc_friend','lex_liwc_female','lex_liwc_male','lex_liwc_differ','lex_liwc_see','lex_liwc_hear','lex_liwc_feel','lex_liwc_body','lex_liwc_health','lex_liwc_sexual','lex_liwc_ingest','lex_liwc_affiliation','lex_liwc_achieve','lex_liwc_power','lex_liwc_risk','lex_liwc_focuspast','lex_liwc_focuspresent','lex_liwc_focusfuture','lex_liwc_motion','lex_liwc_time','lex_liwc_work','lex_liwc_money','lex_liwc_death','lex_liwc_swear','lex_liwc_Parenth','lex_liwc_relig']\n",
    "num_data2= data[col_num].copy()\n",
    "num_data2.isnull().sum()"
   ]
  },
  {
   "cell_type": "markdown",
   "id": "73838d5f-1754-463e-848f-13fdf3372380",
   "metadata": {},
   "source": [
    "### Fixing data types\n",
    "### Check if any of the data types need to be fixed:"
   ]
  },
  {
   "cell_type": "code",
   "execution_count": 14,
   "id": "cf1ffe84-e5c7-42bc-9520-38f952554df1",
   "metadata": {},
   "outputs": [
    {
     "name": "stdout",
     "output_type": "stream",
     "text": [
      "<class 'pandas.core.frame.DataFrame'>\n",
      "RangeIndex: 715 entries, 0 to 714\n",
      "Data columns (total 41 columns):\n",
      " #   Column                 Non-Null Count  Dtype  \n",
      "---  ------                 --------------  -----  \n",
      " 0   label                  715 non-null    int64  \n",
      " 1   lex_liwc_i             715 non-null    float64\n",
      " 2   lex_liwc_we            715 non-null    float64\n",
      " 3   lex_liwc_you           715 non-null    float64\n",
      " 4   lex_liwc_shehe         715 non-null    float64\n",
      " 5   lex_liwc_they          715 non-null    float64\n",
      " 6   lex_liwc_negate        715 non-null    float64\n",
      " 7   lex_liwc_compare       715 non-null    float64\n",
      " 8   lex_liwc_posemo        715 non-null    float64\n",
      " 9   lex_liwc_negemo        715 non-null    float64\n",
      " 10  lex_liwc_anx           715 non-null    float64\n",
      " 11  lex_liwc_anger         715 non-null    float64\n",
      " 12  lex_liwc_sad           715 non-null    float64\n",
      " 13  lex_liwc_family        715 non-null    float64\n",
      " 14  lex_liwc_social        715 non-null    float64\n",
      " 15  lex_liwc_friend        715 non-null    float64\n",
      " 16  lex_liwc_female        715 non-null    float64\n",
      " 17  lex_liwc_male          715 non-null    float64\n",
      " 18  lex_liwc_differ        715 non-null    float64\n",
      " 19  lex_liwc_see           715 non-null    float64\n",
      " 20  lex_liwc_hear          715 non-null    float64\n",
      " 21  lex_liwc_feel          715 non-null    float64\n",
      " 22  lex_liwc_body          715 non-null    float64\n",
      " 23  lex_liwc_health        715 non-null    float64\n",
      " 24  lex_liwc_sexual        715 non-null    float64\n",
      " 25  lex_liwc_ingest        715 non-null    float64\n",
      " 26  lex_liwc_affiliation   715 non-null    float64\n",
      " 27  lex_liwc_achieve       715 non-null    float64\n",
      " 28  lex_liwc_power         715 non-null    float64\n",
      " 29  lex_liwc_risk          715 non-null    float64\n",
      " 30  lex_liwc_focuspast     715 non-null    float64\n",
      " 31  lex_liwc_focuspresent  715 non-null    float64\n",
      " 32  lex_liwc_focusfuture   715 non-null    float64\n",
      " 33  lex_liwc_motion        715 non-null    float64\n",
      " 34  lex_liwc_time          715 non-null    float64\n",
      " 35  lex_liwc_work          715 non-null    float64\n",
      " 36  lex_liwc_money         715 non-null    float64\n",
      " 37  lex_liwc_death         715 non-null    float64\n",
      " 38  lex_liwc_swear         715 non-null    float64\n",
      " 39  lex_liwc_Parenth       715 non-null    float64\n",
      " 40  lex_liwc_relig         715 non-null    float64\n",
      "dtypes: float64(40), int64(1)\n",
      "memory usage: 229.1 KB\n"
     ]
    },
    {
     "data": {
      "text/plain": [
       "(715, 41)"
      ]
     },
     "execution_count": 14,
     "metadata": {},
     "output_type": "execute_result"
    }
   ],
   "source": [
    "num_data2.info()\n",
    "num_data2.shape"
   ]
  },
  {
   "cell_type": "code",
   "execution_count": 15,
   "id": "1a85c6ec-c770-4d9a-a6a3-881078933724",
   "metadata": {},
   "outputs": [],
   "source": [
    "col_num_noLabel=['lex_liwc_i','lex_liwc_we','lex_liwc_you','lex_liwc_shehe','lex_liwc_they','lex_liwc_negate','lex_liwc_compare','lex_liwc_posemo','lex_liwc_negemo','lex_liwc_anx','lex_liwc_anger','lex_liwc_sad','lex_liwc_family','lex_liwc_social','lex_liwc_friend','lex_liwc_female','lex_liwc_male','lex_liwc_differ','lex_liwc_see','lex_liwc_hear','lex_liwc_feel','lex_liwc_body','lex_liwc_health','lex_liwc_sexual','lex_liwc_ingest','lex_liwc_affiliation','lex_liwc_achieve','lex_liwc_power','lex_liwc_risk','lex_liwc_focuspast','lex_liwc_focusfuture','lex_liwc_motion','lex_liwc_time','lex_liwc_work','lex_liwc_money','lex_liwc_death','lex_liwc_swear','lex_liwc_Parenth','lex_liwc_relig']\n",
    "no_label_num_data=num_data2[col_num_noLabel]"
   ]
  },
  {
   "cell_type": "markdown",
   "id": "90809222-961a-4df9-97b9-5a794b414f48",
   "metadata": {},
   "source": [
    "## Understanding the data:\n",
    "Check from all the data what percentage is diagnosed as stressed or not."
   ]
  },
  {
   "cell_type": "code",
   "execution_count": 16,
   "id": "1ca21d26-5cef-4941-a576-3f9383922114",
   "metadata": {},
   "outputs": [
    {
     "data": {
      "image/png": "[encoded data removed]",
      "text/plain": [
       "<Figure size 360x360 with 1 Axes>"
      ]
     },
     "metadata": {},
     "output_type": "display_data"
    }
   ],
   "source": [
    "data2['W_label']=data2['label'].replace({0 : 'Not Stress', 1 : 'Stress'})\n",
    "data2['W_label'].value_counts()\n",
    "plt.figure(1, figsize=(5,5))\n",
    "plt.title(\"Stress or No Stress\")\n",
    "data2['W_label'].value_counts().plot.pie(autopct=\"%1.1f%%\") \n",
    "plt.ylabel(\"\") \n",
    "plt.show()"
   ]
  },
  {
   "cell_type": "markdown",
   "id": "ef12c8ad-751b-4321-b6db-dacb2091c6f5",
   "metadata": {},
   "source": [
    "# Conclusion number 1\n",
    "## The most commonly used words among people who are diagnosed as stressed people.\n",
    "### Most people who are diagnosed as stressed people tend to formulate themselves as first-person pronouns."
   ]
  },
  {
   "cell_type": "code",
   "execution_count": 17,
   "id": "d8168a27-d872-4356-9471-e685a51d8fd3",
   "metadata": {},
   "outputs": [
    {
     "data": {
      "text/plain": [
       "lex_liwc_i              369\n",
       "lex_liwc_time           360\n",
       "lex_liwc_negemo         344\n",
       "lex_liwc_social         344\n",
       "lex_liwc_differ         337\n",
       "lex_liwc_focuspast      333\n",
       "lex_liwc_negate         313\n",
       "lex_liwc_power          308\n",
       "lex_liwc_compare        307\n",
       "lex_liwc_motion         266\n",
       "lex_liwc_posemo         263\n",
       "lex_liwc_affiliation    239\n",
       "lex_liwc_feel           222\n",
       "lex_liwc_achieve        221\n",
       "lex_liwc_anx            221\n",
       "lex_liwc_health         216\n",
       "lex_liwc_focusfuture    215\n",
       "lex_liwc_work           202\n",
       "lex_liwc_anger          197\n",
       "lex_liwc_shehe          188\n",
       "lex_liwc_risk           183\n",
       "lex_liwc_sad            173\n",
       "lex_liwc_male           167\n",
       "lex_liwc_body           151\n",
       "lex_liwc_female         125\n",
       "lex_liwc_family         118\n",
       "lex_liwc_friend         114\n",
       "lex_liwc_see            109\n",
       "lex_liwc_hear           108\n",
       "lex_liwc_they            91\n",
       "lex_liwc_we              90\n",
       "lex_liwc_Parenth         89\n",
       "lex_liwc_swear           84\n",
       "lex_liwc_money           81\n",
       "lex_liwc_ingest          70\n",
       "lex_liwc_you             61\n",
       "lex_liwc_sexual          55\n",
       "lex_liwc_death           44\n",
       "lex_liwc_relig           30\n",
       "dtype: int64"
      ]
     },
     "execution_count": 17,
     "metadata": {},
     "output_type": "execute_result"
    }
   ],
   "source": [
    "num_data_stress=no_label_num_data.loc[num_data2['label']==1]\n",
    "data_stress_count=num_data_stress[(num_data_stress[col_num_noLabel]!=0)].count()\n",
    "data_stress_count.sort_values(ascending=False)"
   ]
  },
  {
   "cell_type": "code",
   "execution_count": null,
   "id": "07699ecc-b547-4d6b-aa08-a57e45a30bc2",
   "metadata": {},
   "outputs": [],
   "source": []
  },
  {
   "cell_type": "markdown",
   "id": "a794cabe-083f-4d83-8683-b2e24756a67d",
   "metadata": {},
   "source": [
    "# Conclusion number 2"
   ]
  },
  {
   "cell_type": "markdown",
   "id": "fbaf80a8-60ab-4e2b-ac03-aa371b0218c7",
   "metadata": {},
   "source": [
    "## In the group of people diagnosed as stressed people, there are 90% who refer to the past in their texts."
   ]
  },
  {
   "cell_type": "code",
   "execution_count": 18,
   "id": "81ff6ac7-5a38-41a1-835b-e7ced8f639d1",
   "metadata": {},
   "outputs": [
    {
     "name": "stdout",
     "output_type": "stream",
     "text": [
      "The percent of people that talk about the past is: 90.2439024390244\n"
     ]
    }
   ],
   "source": [
    "focuspast_data = num_data_stress.loc[num_data_stress.lex_liwc_focuspast != 0]\n",
    "print(\"The percent of people that talk about the past is:\" ,(len(focuspast_data)/len(num_data_stress)*100))"
   ]
  },
  {
   "cell_type": "markdown",
   "id": "ef464418-874d-45d1-b991-a9ae00cec677",
   "metadata": {},
   "source": [
    "## Sub-conclusion\n",
    "### We can see by the survey data that the stress that people are dealing with coming from the things that happend in the past."
   ]
  },
  {
   "cell_type": "code",
   "execution_count": 19,
   "id": "943b79f2-f9b7-4bef-9e4d-e815d79d7055",
   "metadata": {},
   "outputs": [
    {
     "data": {
      "text/plain": [
       "61.36363636363637"
      ]
     },
     "execution_count": 19,
     "metadata": {},
     "output_type": "execute_result"
    }
   ],
   "source": [
    "number_stress_r=review['Stress you have experienced in the past and affecting you today'][review['Stress you have experienced in the past and affecting you today']==1].count()\n",
    "number_stress_r/len(review)*100"
   ]
  },
  {
   "cell_type": "code",
   "execution_count": 20,
   "id": "a5a1fc34-ca63-498c-98db-4e6c052c0244",
   "metadata": {},
   "outputs": [
    {
     "data": {
      "image/png": "[encoded data removed]",
      "text/plain": [
       "<Figure size 360x360 with 1 Axes>"
      ]
     },
     "metadata": {},
     "output_type": "display_data"
    }
   ],
   "source": [
    "plt.figure(1, figsize=(5,5))\n",
    "review['Stress you have experienced in the past and affecting you today'].replace({1:' Affected from the past',0:'Not affected from the past'}, inplace = True)\n",
    "plt.title('Stress you have experienced in the past and affecting you today')\n",
    "review['Stress you have experienced in the past and affecting you today'].value_counts().plot.pie(autopct=\"%1.1f%%\", colors =['m','c']) \n",
    "plt.ylabel(\"\") \n",
    "plt.show()"
   ]
  },
  {
   "cell_type": "code",
   "execution_count": null,
   "id": "ae77b646-2fa9-4245-9290-b16b56d7e572",
   "metadata": {},
   "outputs": [],
   "source": []
  },
  {
   "cell_type": "markdown",
   "id": "ca38e1cb-b041-49a5-96c1-47e4a54c19bc",
   "metadata": {},
   "source": [
    "# Conclusion number 3\n",
    "## The most common categories among people diagnosed as people with stress."
   ]
  },
  {
   "cell_type": "code",
   "execution_count": 21,
   "id": "9549bf08-5d76-4cd1-9382-0b5f9bc3b7c0",
   "metadata": {},
   "outputs": [],
   "source": [
    "data_stress=data2.loc[num_data2['label']==1]\n",
    "data_not_stress=data2.loc[num_data2['label']==0]"
   ]
  },
  {
   "cell_type": "code",
   "execution_count": 22,
   "id": "6df5a316-4ae6-46f6-a49b-b4eb81792556",
   "metadata": {},
   "outputs": [
    {
     "data": {
      "image/png": "[encoded data removed]",
      "text/plain": [
       "<Figure size 720x360 with 1 Axes>"
      ]
     },
     "metadata": {
      "needs_background": "light"
     },
     "output_type": "display_data"
    }
   ],
   "source": [
    "my_order=['anxiety','ptsd','relationships','domesticviolence','survivorsofabuse','assistance','homeless','almosthomeless','stress','food_pantry']\n",
    "fig, axes = plt.subplots(figsize=(10, 5))\n",
    "sns.countplot( x=\"subreddit\", data=data_stress, order=my_order)\n",
    "plt.title(\" \")\n",
    "plt.xticks(rotation=70)\n",
    "plt.show()"
   ]
  },
  {
   "cell_type": "markdown",
   "id": "5efd8818-fd8c-4258-b5ed-7cf1b5a93a71",
   "metadata": {},
   "source": [
    "# Sub-conclusion"
   ]
  },
  {
   "cell_type": "markdown",
   "id": "e7b24860-4858-4fcc-8716-80bdec4e4c12",
   "metadata": {},
   "source": [
    "Total amount of texts in each category"
   ]
  },
  {
   "cell_type": "code",
   "execution_count": 23,
   "id": "fe5f231f-dd60-4eb3-aef1-0513763ed5ce",
   "metadata": {},
   "outputs": [
    {
     "data": {
      "text/plain": [
       "anxiety             147\n",
       "relationships       142\n",
       "ptsd                127\n",
       "domesticviolence     72\n",
       "survivorsofabuse     70\n",
       "assistance           66\n",
       "homeless             52\n",
       "almosthomeless       19\n",
       "stress               14\n",
       "food_pantry           6\n",
       "Name: subreddit, dtype: int64"
      ]
     },
     "execution_count": 23,
     "metadata": {},
     "output_type": "execute_result"
    }
   ],
   "source": [
    "data2['subreddit'].value_counts()"
   ]
  },
  {
   "cell_type": "markdown",
   "id": "6b8ce78b-a239-487c-90e3-e8a9a902ea21",
   "metadata": {},
   "source": [
    "The total amount of texts in each category among the people diagnosed as people with stress"
   ]
  },
  {
   "cell_type": "code",
   "execution_count": 24,
   "id": "9d77647e-3658-426d-bec7-2be1c972844f",
   "metadata": {},
   "outputs": [
    {
     "data": {
      "text/plain": [
       "anxiety             85\n",
       "ptsd                82\n",
       "relationships       60\n",
       "domesticviolence    47\n",
       "survivorsofabuse    31\n",
       "assistance          21\n",
       "homeless            18\n",
       "almosthomeless      12\n",
       "stress              10\n",
       "food_pantry          3\n",
       "Name: subreddit, dtype: int64"
      ]
     },
     "execution_count": 24,
     "metadata": {},
     "output_type": "execute_result"
    }
   ],
   "source": [
    "data_stress['subreddit'].value_counts()"
   ]
  },
  {
   "cell_type": "markdown",
   "id": "833176fa-a035-461a-93fa-bc1736eb8121",
   "metadata": {},
   "source": [
    "Comparison of the number of people diagnosed as stressed versus non-stressed people"
   ]
  },
  {
   "cell_type": "code",
   "execution_count": 25,
   "id": "09cc1c6b-722c-4184-9b74-8d493b7011b9",
   "metadata": {},
   "outputs": [
    {
     "data": {
      "image/png": "[encoded data removed]",
      "text/plain": [
       "<Figure size 432x288 with 1 Axes>"
      ]
     },
     "metadata": {
      "needs_background": "light"
     },
     "output_type": "display_data"
    }
   ],
   "source": [
    "fig=sns.countplot(x=\"subreddit\", data=data2, hue = 'W_label', palette=\"BuPu\")\n",
    "plt.xticks(rotation=70)\n",
    "fig.set_title(\"subreddit: Stress / Not stress\")\n",
    "plt.legend(title='', loc=('upper right')) \n",
    "plt.show()"
   ]
  },
  {
   "cell_type": "markdown",
   "id": "51732e92-c097-4571-af5e-80278d99aa28",
   "metadata": {},
   "source": [
    "## From the servery we conducted:\n",
    "The amount of people who are under pressure in each category "
   ]
  },
  {
   "cell_type": "code",
   "execution_count": 26,
   "id": "acccff30-580a-4059-9f01-90a27e1a13a5",
   "metadata": {},
   "outputs": [
    {
     "data": {
      "text/plain": [
       "value        \n",
       "Studies          64\n",
       "financial        57\n",
       "achieve          44\n",
       "Working          30\n",
       "Relationships    25\n",
       "Body image       23\n",
       "Family           23\n",
       "health           22\n",
       "Friend status    10\n",
       "dtype: int64"
      ]
     },
     "execution_count": 26,
     "metadata": {},
     "output_type": "execute_result"
    }
   ],
   "source": [
    "melted_df.replace({1 : 'Relationships', 2 :'financial',3 :'Studies',4 :'Working',5:'health',6:'achieve',7:'Friend status',8:'Body image',9 :'Family'}, inplace = True)\n",
    "melted_df[['value']].value_counts()"
   ]
  },
  {
   "cell_type": "code",
   "execution_count": 27,
   "id": "a388e436-8891-4bec-b307-09704a648c4f",
   "metadata": {},
   "outputs": [
    {
     "data": {
      "image/png": "[encoded data removed]",
      "text/plain": [
       "<Figure size 432x288 with 1 Axes>"
      ]
     },
     "metadata": {
      "needs_background": "light"
     },
     "output_type": "display_data"
    }
   ],
   "source": [
    "my_order=['Studies','financial','achieve','Working','Relationships','Body image','Family','health','Friend status']\n",
    "fig=sns.countplot(x=\"value\", data=melted_df, palette=\"BuPu\",order=my_order)\n",
    "plt.xticks(rotation=70)\n",
    "fig.set_title(\"review data- The causes of stress\")\n",
    "fig.set_xlabel(\"\")\n",
    "plt.show()"
   ]
  },
  {
   "cell_type": "code",
   "execution_count": null,
   "id": "5a616ccc-117c-4582-9a03-9b6aa571a9cb",
   "metadata": {},
   "outputs": [],
   "source": []
  },
  {
   "cell_type": "markdown",
   "id": "5ae642e1-eec6-4b71-8698-b4c293846322",
   "metadata": {},
   "source": [
    "### It can be seen from the survey we conducted that there is a direct link between the mental stress we experience and our health. The more often we experience stress, the more our health is harmed"
   ]
  },
  {
   "cell_type": "code",
   "execution_count": 28,
   "id": "a35dd988-977a-482f-a177-bdd3eaec803e",
   "metadata": {},
   "outputs": [
    {
     "data": {
      "image/png": "[encoded data removed]",
      "text/plain": [
       "<Figure size 432x288 with 1 Axes>"
      ]
     },
     "metadata": {
      "needs_background": "light"
     },
     "output_type": "display_data"
    }
   ],
   "source": [
    "review['frequency'].replace({1:'every day',2:'once a week',3:'once a month',4:'once in a few months or more'}, inplace = True)\n",
    "fig = sns.barplot( y = 'Stress that affected your health',x = 'frequency', data = review,ci = None, palette='inferno');\n",
    "fig.set_title(\"\")\n",
    "plt.xticks(rotation=70)\n",
    "plt.show()"
   ]
  },
  {
   "cell_type": "markdown",
   "id": "9fad080b-052d-4a9e-a140-3da8898c6331",
   "metadata": {},
   "source": [
    "### רצינו להציג חיזוי לנתונים כדי לבדוק דרך כמות המילים בכל קטגוריה, האם האדם היה בלחץ בזמן הכתיבה או לא. אך החלטנו שלא לעשות משום שרמת הדיוק שמצאנו היתה רק 60% ולדעתנו זה לא מספיק למרות שהבייסליין באזור 50%, כלומר שהתחום שרצינו לבדוק מהווה כ50% מכלל הדאטה"
   ]
  },
  {
   "cell_type": "markdown",
   "id": "42909695-ce7e-4860-8bec-e83ca7e0f45b",
   "metadata": {},
   "source": [
    "# Thank you!"
   ]
  }
 ],
 "metadata": {
  "kernelspec": {
   "display_name": "Python 3 (ipykernel)",
   "language": "python",
   "name": "python3"
  },
  "language_info": {
   "codemirror_mode": {
    "name": "ipython",
    "version": 3
   },
   "file_extension": ".py",
   "mimetype": "text/x-python",
   "name": "python",
   "nbconvert_exporter": "python",
   "pygments_lexer": "ipython3",
   "version": "3.9.6"
  }
 },
 "nbformat": 4,
 "nbformat_minor": 5
}
