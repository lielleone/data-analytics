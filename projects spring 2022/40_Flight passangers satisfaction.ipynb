{
 "cells": [
  {
   "cell_type": "markdown",
   "id": "2274558a-b48e-4e82-af4d-40972ef7b500",
   "metadata": {},
   "source": [
    "# Final Project - 40: Flight Passenger Satisfaction (US Airline)\n",
    "\n",
    "### Presented by Tal Rahmany\n",
    "\n",
    "### Group #40\n",
    "\n",
    "#### Data source: https://www.kaggle.com/datasets/mahsataer/flight-passenger-satisfaction-us-airline\n",
    "#### My GitHub: https://github.com/TalRahmany/Data-Science/tree/main/Project"
   ]
  },
  {
   "cell_type": "markdown",
   "id": "b3918ba7-e098-46b8-abb8-afcb4251a2e3",
   "metadata": {},
   "source": [
    "    "
   ]
  },
  {
   "cell_type": "markdown",
   "id": "f1ec9c44-df99-46b8-a30a-6361b7a1bda2",
   "metadata": {},
   "source": [
    "  "
   ]
  },
  {
   "cell_type": "markdown",
   "id": "39578aba-8fce-4c39-9f8a-e7bf4a050c00",
   "metadata": {},
   "source": [
    "   "
   ]
  },
  {
   "cell_type": "markdown",
   "id": "459031b2-50aa-4c40-936f-b3b4c9b4639f",
   "metadata": {},
   "source": [
    "<div>\n",
    "<img src=\"https://github.com/TalRahmany/Data-Science/blob/main/Project/%D7%A0%D7%95%D7%A1%D7%A2%D7%99%D7%9D%20%D7%99%D7%95%D7%A9%D7%91%D7%99%D7%9D.png?raw=true\" width=\"800\"/>\n",
    "</div>"
   ]
  },
  {
   "cell_type": "markdown",
   "id": "c4e736af-538f-4ac4-96a1-24ee3828857a",
   "metadata": {},
   "source": [
    "     "
   ]
  },
  {
   "cell_type": "markdown",
   "id": "3d902957-4590-437d-90aa-bb1297e775e7",
   "metadata": {},
   "source": [
    "## Checking the data and arranging columns:"
   ]
  },
  {
   "cell_type": "code",
   "execution_count": 1,
   "id": "efabdbd9-64a3-4638-9297-dddd150a8c15",
   "metadata": {},
   "outputs": [],
   "source": [
    "import numpy as np\n",
    "import pandas as pd\n",
    "import seaborn as sns\n",
    "import matplotlib.pyplot as plt"
   ]
  },
  {
   "cell_type": "code",
   "execution_count": 2,
   "id": "d3f6b53c-699f-464f-bcf6-08693855aa4c",
   "metadata": {},
   "outputs": [
    {
     "data": {
      "text/html": [
       "<div>\n",
       "<style scoped>\n",
       "    .dataframe tbody tr th:only-of-type {\n",
       "        vertical-align: middle;\n",
       "    }\n",
       "\n",
       "    .dataframe tbody tr th {\n",
       "        vertical-align: top;\n",
       "    }\n",
       "\n",
       "    .dataframe thead th {\n",
       "        text-align: right;\n",
       "    }\n",
       "</style>\n",
       "<table border=\"1\" class=\"dataframe\">\n",
       "  <thead>\n",
       "    <tr style=\"text-align: right;\">\n",
       "      <th></th>\n",
       "      <th>id</th>\n",
       "      <th>Gender</th>\n",
       "      <th>CustomerType</th>\n",
       "      <th>Age</th>\n",
       "      <th>TypeOfTravel</th>\n",
       "      <th>Class</th>\n",
       "      <th>FlightDistance</th>\n",
       "      <th>InflightWifiservice</th>\n",
       "      <th>DepartureArrivalTimeCconvenient</th>\n",
       "      <th>EaseOfOnlineBooking</th>\n",
       "      <th>...</th>\n",
       "      <th>InflightEntertainment</th>\n",
       "      <th>OnBoardService</th>\n",
       "      <th>LegRoomService</th>\n",
       "      <th>BaggageHandling</th>\n",
       "      <th>CheckinService</th>\n",
       "      <th>InflightService</th>\n",
       "      <th>Cleanliness</th>\n",
       "      <th>DepartureDelayInMinutes</th>\n",
       "      <th>ArrivalDelayInMinutes</th>\n",
       "      <th>satisfaction</th>\n",
       "    </tr>\n",
       "  </thead>\n",
       "  <tbody>\n",
       "    <tr>\n",
       "      <th>0</th>\n",
       "      <td>19556</td>\n",
       "      <td>Female</td>\n",
       "      <td>Loyal Customer</td>\n",
       "      <td>52</td>\n",
       "      <td>Business travel</td>\n",
       "      <td>Eco</td>\n",
       "      <td>160</td>\n",
       "      <td>5</td>\n",
       "      <td>4</td>\n",
       "      <td>3</td>\n",
       "      <td>...</td>\n",
       "      <td>5</td>\n",
       "      <td>5</td>\n",
       "      <td>5</td>\n",
       "      <td>5</td>\n",
       "      <td>2</td>\n",
       "      <td>5</td>\n",
       "      <td>5</td>\n",
       "      <td>50</td>\n",
       "      <td>44.0</td>\n",
       "      <td>satisfied</td>\n",
       "    </tr>\n",
       "    <tr>\n",
       "      <th>1</th>\n",
       "      <td>90035</td>\n",
       "      <td>Female</td>\n",
       "      <td>Loyal Customer</td>\n",
       "      <td>36</td>\n",
       "      <td>Business travel</td>\n",
       "      <td>Business</td>\n",
       "      <td>2863</td>\n",
       "      <td>1</td>\n",
       "      <td>1</td>\n",
       "      <td>3</td>\n",
       "      <td>...</td>\n",
       "      <td>4</td>\n",
       "      <td>4</td>\n",
       "      <td>4</td>\n",
       "      <td>4</td>\n",
       "      <td>3</td>\n",
       "      <td>4</td>\n",
       "      <td>5</td>\n",
       "      <td>0</td>\n",
       "      <td>0.0</td>\n",
       "      <td>satisfied</td>\n",
       "    </tr>\n",
       "    <tr>\n",
       "      <th>2</th>\n",
       "      <td>12360</td>\n",
       "      <td>Male</td>\n",
       "      <td>disloyal Customer</td>\n",
       "      <td>20</td>\n",
       "      <td>Business travel</td>\n",
       "      <td>Eco</td>\n",
       "      <td>192</td>\n",
       "      <td>2</td>\n",
       "      <td>0</td>\n",
       "      <td>2</td>\n",
       "      <td>...</td>\n",
       "      <td>2</td>\n",
       "      <td>4</td>\n",
       "      <td>1</td>\n",
       "      <td>3</td>\n",
       "      <td>2</td>\n",
       "      <td>2</td>\n",
       "      <td>2</td>\n",
       "      <td>0</td>\n",
       "      <td>0.0</td>\n",
       "      <td>neutral or dissatisfied</td>\n",
       "    </tr>\n",
       "    <tr>\n",
       "      <th>3</th>\n",
       "      <td>36875</td>\n",
       "      <td>Female</td>\n",
       "      <td>Loyal Customer</td>\n",
       "      <td>49</td>\n",
       "      <td>Business travel</td>\n",
       "      <td>Eco</td>\n",
       "      <td>1182</td>\n",
       "      <td>2</td>\n",
       "      <td>3</td>\n",
       "      <td>4</td>\n",
       "      <td>...</td>\n",
       "      <td>2</td>\n",
       "      <td>2</td>\n",
       "      <td>2</td>\n",
       "      <td>2</td>\n",
       "      <td>4</td>\n",
       "      <td>2</td>\n",
       "      <td>4</td>\n",
       "      <td>0</td>\n",
       "      <td>20.0</td>\n",
       "      <td>satisfied</td>\n",
       "    </tr>\n",
       "    <tr>\n",
       "      <th>4</th>\n",
       "      <td>39177</td>\n",
       "      <td>Male</td>\n",
       "      <td>Loyal Customer</td>\n",
       "      <td>16</td>\n",
       "      <td>Business travel</td>\n",
       "      <td>Eco</td>\n",
       "      <td>311</td>\n",
       "      <td>3</td>\n",
       "      <td>3</td>\n",
       "      <td>3</td>\n",
       "      <td>...</td>\n",
       "      <td>5</td>\n",
       "      <td>4</td>\n",
       "      <td>3</td>\n",
       "      <td>1</td>\n",
       "      <td>1</td>\n",
       "      <td>2</td>\n",
       "      <td>5</td>\n",
       "      <td>0</td>\n",
       "      <td>0.0</td>\n",
       "      <td>satisfied</td>\n",
       "    </tr>\n",
       "  </tbody>\n",
       "</table>\n",
       "<p>5 rows × 24 columns</p>\n",
       "</div>"
      ],
      "text/plain": [
       "      id  Gender       CustomerType  Age     TypeOfTravel     Class  \\\n",
       "0  19556  Female     Loyal Customer   52  Business travel       Eco   \n",
       "1  90035  Female     Loyal Customer   36  Business travel  Business   \n",
       "2  12360    Male  disloyal Customer   20  Business travel       Eco   \n",
       "3  36875  Female     Loyal Customer   49  Business travel       Eco   \n",
       "4  39177    Male     Loyal Customer   16  Business travel       Eco   \n",
       "\n",
       "   FlightDistance  InflightWifiservice  DepartureArrivalTimeCconvenient  \\\n",
       "0             160                    5                                4   \n",
       "1            2863                    1                                1   \n",
       "2             192                    2                                0   \n",
       "3            1182                    2                                3   \n",
       "4             311                    3                                3   \n",
       "\n",
       "   EaseOfOnlineBooking  ...  InflightEntertainment  OnBoardService  \\\n",
       "0                    3  ...                      5               5   \n",
       "1                    3  ...                      4               4   \n",
       "2                    2  ...                      2               4   \n",
       "3                    4  ...                      2               2   \n",
       "4                    3  ...                      5               4   \n",
       "\n",
       "   LegRoomService  BaggageHandling  CheckinService  InflightService  \\\n",
       "0               5                5               2                5   \n",
       "1               4                4               3                4   \n",
       "2               1                3               2                2   \n",
       "3               2                2               4                2   \n",
       "4               3                1               1                2   \n",
       "\n",
       "   Cleanliness  DepartureDelayInMinutes  ArrivalDelayInMinutes  \\\n",
       "0            5                       50                   44.0   \n",
       "1            5                        0                    0.0   \n",
       "2            2                        0                    0.0   \n",
       "3            4                        0                   20.0   \n",
       "4            5                        0                    0.0   \n",
       "\n",
       "              satisfaction  \n",
       "0                satisfied  \n",
       "1                satisfied  \n",
       "2  neutral or dissatisfied  \n",
       "3                satisfied  \n",
       "4                satisfied  \n",
       "\n",
       "[5 rows x 24 columns]"
      ]
     },
     "execution_count": 2,
     "metadata": {},
     "output_type": "execute_result"
    }
   ],
   "source": [
    "url = 'https://raw.githubusercontent.com/TalRahmany/Data-Science/main/Project/Airline_Passenger_Satisfaction_Test_Cleaned.csv'\n",
    "Passenger_Satisfaction = pd.read_csv(url)\n",
    "Passenger_Satisfaction.head()"
   ]
  },
  {
   "cell_type": "code",
   "execution_count": 3,
   "id": "876130a0-70a2-479e-ac92-182c65642010",
   "metadata": {},
   "outputs": [],
   "source": [
    "#Passenger_Satisfaction.info()"
   ]
  },
  {
   "cell_type": "code",
   "execution_count": 4,
   "id": "c3eae2f7-3dc1-4346-ab4c-3bbc414a6271",
   "metadata": {},
   "outputs": [
    {
     "data": {
      "text/plain": [
       "id                                  0\n",
       "Gender                              0\n",
       "CustomerType                        0\n",
       "Age                                 0\n",
       "TypeOfTravel                        0\n",
       "Class                               0\n",
       "FlightDistance                      0\n",
       "InflightWifiservice                 0\n",
       "DepartureArrivalTimeCconvenient     0\n",
       "EaseOfOnlineBooking                 0\n",
       "GateLocation                        0\n",
       "FoodAndDrink                        0\n",
       "OnlineBoarding                      0\n",
       "SeatComfort                         0\n",
       "InflightEntertainment               0\n",
       "OnBoardService                      0\n",
       "LegRoomService                      0\n",
       "BaggageHandling                     0\n",
       "CheckinService                      0\n",
       "InflightService                     0\n",
       "Cleanliness                         0\n",
       "DepartureDelayInMinutes             0\n",
       "ArrivalDelayInMinutes              77\n",
       "satisfaction                        0\n",
       "dtype: int64"
      ]
     },
     "execution_count": 4,
     "metadata": {},
     "output_type": "execute_result"
    }
   ],
   "source": [
    "Passenger_Satisfaction.isnull().sum()"
   ]
  },
  {
   "cell_type": "code",
   "execution_count": 5,
   "id": "3a06d7bd-6c5f-4819-ba90-89359c29650d",
   "metadata": {},
   "outputs": [
    {
     "data": {
      "text/plain": [
       "id                                 0\n",
       "Gender                             0\n",
       "CustomerType                       0\n",
       "Age                                0\n",
       "TypeOfTravel                       0\n",
       "Class                              0\n",
       "FlightDistance                     0\n",
       "InflightWifiservice                0\n",
       "DepartureArrivalTimeCconvenient    0\n",
       "EaseOfOnlineBooking                0\n",
       "GateLocation                       0\n",
       "FoodAndDrink                       0\n",
       "OnlineBoarding                     0\n",
       "SeatComfort                        0\n",
       "InflightEntertainment              0\n",
       "OnBoardService                     0\n",
       "LegRoomService                     0\n",
       "BaggageHandling                    0\n",
       "CheckinService                     0\n",
       "InflightService                    0\n",
       "Cleanliness                        0\n",
       "DepartureDelayInMinutes            0\n",
       "ArrivalDelayInMinutes              0\n",
       "satisfaction                       0\n",
       "dtype: int64"
      ]
     },
     "execution_count": 5,
     "metadata": {},
     "output_type": "execute_result"
    }
   ],
   "source": [
    "Passenger_Satisfaction['ArrivalDelayInMinutes'].fillna(Passenger_Satisfaction['ArrivalDelayInMinutes'].median(), inplace=True)\n",
    "Passenger_Satisfaction.isnull().sum()"
   ]
  },
  {
   "cell_type": "code",
   "execution_count": 6,
   "id": "2d50a01a-8f08-4e38-a811-ff678b317648",
   "metadata": {},
   "outputs": [
    {
     "data": {
      "text/html": [
       "<div>\n",
       "<style scoped>\n",
       "    .dataframe tbody tr th:only-of-type {\n",
       "        vertical-align: middle;\n",
       "    }\n",
       "\n",
       "    .dataframe tbody tr th {\n",
       "        vertical-align: top;\n",
       "    }\n",
       "\n",
       "    .dataframe thead th {\n",
       "        text-align: right;\n",
       "    }\n",
       "</style>\n",
       "<table border=\"1\" class=\"dataframe\">\n",
       "  <thead>\n",
       "    <tr style=\"text-align: right;\">\n",
       "      <th></th>\n",
       "      <th>FlightDistance</th>\n",
       "      <th>FDistanceGroup</th>\n",
       "    </tr>\n",
       "  </thead>\n",
       "  <tbody>\n",
       "    <tr>\n",
       "      <th>0</th>\n",
       "      <td>160</td>\n",
       "      <td>0-999</td>\n",
       "    </tr>\n",
       "    <tr>\n",
       "      <th>1</th>\n",
       "      <td>2863</td>\n",
       "      <td>2000-2999</td>\n",
       "    </tr>\n",
       "    <tr>\n",
       "      <th>2</th>\n",
       "      <td>192</td>\n",
       "      <td>0-999</td>\n",
       "    </tr>\n",
       "    <tr>\n",
       "      <th>3</th>\n",
       "      <td>1182</td>\n",
       "      <td>1000-1999</td>\n",
       "    </tr>\n",
       "    <tr>\n",
       "      <th>4</th>\n",
       "      <td>311</td>\n",
       "      <td>0-999</td>\n",
       "    </tr>\n",
       "    <tr>\n",
       "      <th>5</th>\n",
       "      <td>2556</td>\n",
       "      <td>2000-2999</td>\n",
       "    </tr>\n",
       "    <tr>\n",
       "      <th>6</th>\n",
       "      <td>556</td>\n",
       "      <td>0-999</td>\n",
       "    </tr>\n",
       "    <tr>\n",
       "      <th>7</th>\n",
       "      <td>1744</td>\n",
       "      <td>1000-1999</td>\n",
       "    </tr>\n",
       "    <tr>\n",
       "      <th>8</th>\n",
       "      <td>1235</td>\n",
       "      <td>1000-1999</td>\n",
       "    </tr>\n",
       "    <tr>\n",
       "      <th>9</th>\n",
       "      <td>325</td>\n",
       "      <td>0-999</td>\n",
       "    </tr>\n",
       "  </tbody>\n",
       "</table>\n",
       "</div>"
      ],
      "text/plain": [
       "   FlightDistance FDistanceGroup\n",
       "0             160          0-999\n",
       "1            2863      2000-2999\n",
       "2             192          0-999\n",
       "3            1182      1000-1999\n",
       "4             311          0-999\n",
       "5            2556      2000-2999\n",
       "6             556          0-999\n",
       "7            1744      1000-1999\n",
       "8            1235      1000-1999\n",
       "9             325          0-999"
      ]
     },
     "execution_count": 6,
     "metadata": {},
     "output_type": "execute_result"
    }
   ],
   "source": [
    "Passenger_Satisfaction.loc[(Passenger_Satisfaction.FlightDistance > 0),  'FDistanceGroup'] = '4000+'\n",
    "Passenger_Satisfaction.loc[(Passenger_Satisfaction.FlightDistance < 4000),  'FDistanceGroup'] = '3000-3999'\n",
    "Passenger_Satisfaction.loc[(Passenger_Satisfaction.FlightDistance < 3000),  'FDistanceGroup'] = '2000-2999'\n",
    "Passenger_Satisfaction.loc[(Passenger_Satisfaction.FlightDistance < 2000),  'FDistanceGroup'] = '1000-1999'\n",
    "Passenger_Satisfaction.loc[(Passenger_Satisfaction.FlightDistance < 1000),  'FDistanceGroup'] = '0-999'\n",
    "Passenger_Satisfaction[['FlightDistance','FDistanceGroup']].head(10)"
   ]
  },
  {
   "cell_type": "code",
   "execution_count": 7,
   "id": "1f3ed73b-bb16-48d8-8dd8-c5f23e1bd813",
   "metadata": {},
   "outputs": [
    {
     "data": {
      "text/html": [
       "<div>\n",
       "<style scoped>\n",
       "    .dataframe tbody tr th:only-of-type {\n",
       "        vertical-align: middle;\n",
       "    }\n",
       "\n",
       "    .dataframe tbody tr th {\n",
       "        vertical-align: top;\n",
       "    }\n",
       "\n",
       "    .dataframe thead th {\n",
       "        text-align: right;\n",
       "    }\n",
       "</style>\n",
       "<table border=\"1\" class=\"dataframe\">\n",
       "  <thead>\n",
       "    <tr style=\"text-align: right;\">\n",
       "      <th></th>\n",
       "      <th>Age</th>\n",
       "      <th>AgeGroup</th>\n",
       "    </tr>\n",
       "  </thead>\n",
       "  <tbody>\n",
       "    <tr>\n",
       "      <th>0</th>\n",
       "      <td>52</td>\n",
       "      <td>50-59</td>\n",
       "    </tr>\n",
       "    <tr>\n",
       "      <th>1</th>\n",
       "      <td>36</td>\n",
       "      <td>30-39</td>\n",
       "    </tr>\n",
       "    <tr>\n",
       "      <th>2</th>\n",
       "      <td>20</td>\n",
       "      <td>19-29</td>\n",
       "    </tr>\n",
       "    <tr>\n",
       "      <th>3</th>\n",
       "      <td>49</td>\n",
       "      <td>40-49</td>\n",
       "    </tr>\n",
       "    <tr>\n",
       "      <th>4</th>\n",
       "      <td>16</td>\n",
       "      <td>0-18</td>\n",
       "    </tr>\n",
       "    <tr>\n",
       "      <th>5</th>\n",
       "      <td>43</td>\n",
       "      <td>40-49</td>\n",
       "    </tr>\n",
       "    <tr>\n",
       "      <th>6</th>\n",
       "      <td>47</td>\n",
       "      <td>40-49</td>\n",
       "    </tr>\n",
       "    <tr>\n",
       "      <th>7</th>\n",
       "      <td>46</td>\n",
       "      <td>40-49</td>\n",
       "    </tr>\n",
       "    <tr>\n",
       "      <th>8</th>\n",
       "      <td>47</td>\n",
       "      <td>40-49</td>\n",
       "    </tr>\n",
       "    <tr>\n",
       "      <th>9</th>\n",
       "      <td>33</td>\n",
       "      <td>30-39</td>\n",
       "    </tr>\n",
       "  </tbody>\n",
       "</table>\n",
       "</div>"
      ],
      "text/plain": [
       "   Age AgeGroup\n",
       "0   52    50-59\n",
       "1   36    30-39\n",
       "2   20    19-29\n",
       "3   49    40-49\n",
       "4   16     0-18\n",
       "5   43    40-49\n",
       "6   47    40-49\n",
       "7   46    40-49\n",
       "8   47    40-49\n",
       "9   33    30-39"
      ]
     },
     "execution_count": 7,
     "metadata": {},
     "output_type": "execute_result"
    }
   ],
   "source": [
    "Passenger_Satisfaction.loc[(Passenger_Satisfaction.Age < 100),  'AgeGroup'] = '60+'\n",
    "Passenger_Satisfaction.loc[(Passenger_Satisfaction.Age < 60),  'AgeGroup'] = '50-59'\n",
    "Passenger_Satisfaction.loc[(Passenger_Satisfaction.Age < 50),  'AgeGroup'] = '40-49'\n",
    "Passenger_Satisfaction.loc[(Passenger_Satisfaction.Age < 40),  'AgeGroup'] = '30-39'\n",
    "Passenger_Satisfaction.loc[(Passenger_Satisfaction.Age < 30),  'AgeGroup'] = '19-29'\n",
    "Passenger_Satisfaction.loc[(Passenger_Satisfaction.Age < 19),  'AgeGroup'] = '0-18'\n",
    "Passenger_Satisfaction[['Age','AgeGroup']].head(10)"
   ]
  },
  {
   "cell_type": "markdown",
   "id": "1596ee10-7d7e-44fa-afeb-d039bd326492",
   "metadata": {},
   "source": [
    "  "
   ]
  },
  {
   "cell_type": "markdown",
   "id": "8f90f887-e893-4dd7-81f1-2d8cbd291da8",
   "metadata": {},
   "source": [
    "## Preface: "
   ]
  },
  {
   "cell_type": "code",
   "execution_count": 8,
   "id": "bcbf9318-97b6-4172-a10d-1bf43156ed0a",
   "metadata": {},
   "outputs": [
    {
     "data": {
      "text/html": [
       "<div>\n",
       "<style scoped>\n",
       "    .dataframe tbody tr th:only-of-type {\n",
       "        vertical-align: middle;\n",
       "    }\n",
       "\n",
       "    .dataframe tbody tr th {\n",
       "        vertical-align: top;\n",
       "    }\n",
       "\n",
       "    .dataframe thead th {\n",
       "        text-align: right;\n",
       "    }\n",
       "</style>\n",
       "<table border=\"1\" class=\"dataframe\">\n",
       "  <thead>\n",
       "    <tr style=\"text-align: right;\">\n",
       "      <th></th>\n",
       "      <th>satisfaction</th>\n",
       "      <th>id</th>\n",
       "    </tr>\n",
       "  </thead>\n",
       "  <tbody>\n",
       "    <tr>\n",
       "      <th>0</th>\n",
       "      <td>neutral or dissatisfied</td>\n",
       "      <td>14193</td>\n",
       "    </tr>\n",
       "    <tr>\n",
       "      <th>1</th>\n",
       "      <td>satisfied</td>\n",
       "      <td>10139</td>\n",
       "    </tr>\n",
       "  </tbody>\n",
       "</table>\n",
       "</div>"
      ],
      "text/plain": [
       "              satisfaction     id\n",
       "0  neutral or dissatisfied  14193\n",
       "1                satisfied  10139"
      ]
     },
     "execution_count": 8,
     "metadata": {},
     "output_type": "execute_result"
    }
   ],
   "source": [
    "df_S =  Passenger_Satisfaction.groupby(['satisfaction'])['id' ].aggregate('count').reset_index()\n",
    "df_S"
   ]
  },
  {
   "cell_type": "code",
   "execution_count": 43,
   "id": "8e072261-a4dc-42b1-894c-70a71cbe71ac",
   "metadata": {},
   "outputs": [
    {
     "data": {
      "image/png": "[encoded data removed]",
      "text/plain": [
       "<Figure size 936x288 with 1 Axes>"
      ]
     },
     "metadata": {
      "needs_background": "light"
     },
     "output_type": "display_data"
    }
   ],
   "source": [
    "k=plt.barh(df_S['satisfaction'], df_S['id'], height = 0.3, color = '#cfc0fb')\n",
    "plt.xlabel('Total passengers', fontsize=15)\n",
    "plt.ylabel('satisfaction',fontsize=15)\n",
    "plt.gcf().set_size_inches(13, 4)\n",
    "plt.show()"
   ]
  },
  {
   "cell_type": "markdown",
   "id": "d15b9d74-120b-4603-adce-12153cb8b738",
   "metadata": {},
   "source": [
    "### לפי בדיקת שביעות הרצון של חברת התעופה ניתן לראות שפחות מ-50% מהלקוחות הביעו שביעות רצון"
   ]
  },
  {
   "cell_type": "markdown",
   "id": "032dd950-172b-45c1-b2b6-5cf3742f9727",
   "metadata": {},
   "source": [
    "   "
   ]
  },
  {
   "cell_type": "markdown",
   "id": "c5423655-4900-4ef2-946c-500b289f840d",
   "metadata": {},
   "source": [
    "   "
   ]
  },
  {
   "cell_type": "markdown",
   "id": "d7b39655-154a-49bd-871f-6ad6e8b7f62e",
   "metadata": {},
   "source": [
    "## 1. The connection betweenbetween class type and satisfaction"
   ]
  },
  {
   "cell_type": "code",
   "execution_count": 10,
   "id": "f736e2a2-1a30-4a2c-a659-a5162041016f",
   "metadata": {},
   "outputs": [
    {
     "data": {
      "image/png": "[encoded data removed]",
      "text/plain": [
       "<Figure size 720x432 with 1 Axes>"
      ]
     },
     "metadata": {
      "needs_background": "light"
     },
     "output_type": "display_data"
    }
   ],
   "source": [
    "order = ['Business','Eco','Eco Plus']\n",
    "sns.countplot(x='Class', data=Passenger_Satisfaction, order = order, palette='Pastel1')\n",
    "plt.title('Distribution of passengers by classes',fontsize=15)\n",
    "plt.ylabel('count of passengers',fontsize=15)\n",
    "plt.gcf().set_size_inches(10, 6)\n",
    "plt.show()"
   ]
  },
  {
   "cell_type": "code",
   "execution_count": 11,
   "id": "75c55a20-5303-497c-8b2e-74fa3c725b67",
   "metadata": {},
   "outputs": [],
   "source": [
    "Passenger_Satisfaction.loc[(Passenger_Satisfaction.Age < 200),  'HELP_COLUMN'] = '1'"
   ]
  },
  {
   "cell_type": "code",
   "execution_count": 12,
   "id": "1a79b177-0946-41f4-bfba-e4749abab755",
   "metadata": {},
   "outputs": [
    {
     "data": {
      "text/html": [
       "<div>\n",
       "<style scoped>\n",
       "    .dataframe tbody tr th:only-of-type {\n",
       "        vertical-align: middle;\n",
       "    }\n",
       "\n",
       "    .dataframe tbody tr th {\n",
       "        vertical-align: top;\n",
       "    }\n",
       "\n",
       "    .dataframe thead th {\n",
       "        text-align: right;\n",
       "    }\n",
       "</style>\n",
       "<table border=\"1\" class=\"dataframe\">\n",
       "  <thead>\n",
       "    <tr style=\"text-align: right;\">\n",
       "      <th>Class</th>\n",
       "      <th>HELP_COLUMN</th>\n",
       "      <th>Business</th>\n",
       "      <th>Eco</th>\n",
       "      <th>Eco Plus</th>\n",
       "    </tr>\n",
       "  </thead>\n",
       "  <tbody>\n",
       "    <tr>\n",
       "      <th>0</th>\n",
       "      <td>1</td>\n",
       "      <td>10865</td>\n",
       "      <td>11550</td>\n",
       "      <td>1917</td>\n",
       "    </tr>\n",
       "  </tbody>\n",
       "</table>\n",
       "</div>"
      ],
      "text/plain": [
       "Class HELP_COLUMN  Business    Eco  Eco Plus\n",
       "0               1     10865  11550      1917"
      ]
     },
     "execution_count": 12,
     "metadata": {},
     "output_type": "execute_result"
    }
   ],
   "source": [
    "df_Customer=Passenger_Satisfaction.pivot_table('id', index='HELP_COLUMN', columns='Class', aggfunc='count').reset_index()\n",
    "df_Customer"
   ]
  },
  {
   "cell_type": "code",
   "execution_count": 13,
   "id": "981b4bfd-8b09-489b-a2b7-06b12ba0d0f7",
   "metadata": {},
   "outputs": [
    {
     "data": {
      "image/png": "[encoded data removed]",
      "text/plain": [
       "<Figure size 1080x432 with 1 Axes>"
      ]
     },
     "metadata": {},
     "output_type": "display_data"
    }
   ],
   "source": [
    "Customer = np.array([df_Customer['Business'].sum(),df_Customer['Eco'].sum(),df_Customer['Eco Plus'].sum()])\n",
    "plt.pie(Customer)\n",
    "colors = ['#66b3ff','#99ff99','#ffcc99']\n",
    "plt.gcf().set_size_inches(15, 6)\n",
    "val1=[df_Customer['Business'].sum(),df_Customer['Eco'].sum(),df_Customer['Eco Plus'].sum()]\n",
    "mylabels = ['Business', 'Eco', 'Eco Plus']\n",
    "plt.pie(val1 ,labels = mylabels, autopct='%1.1f%%', startangle=90, colors=colors)\n",
    "plt.show() "
   ]
  },
  {
   "cell_type": "markdown",
   "id": "ad324321-7470-4c43-8fc2-0224296def53",
   "metadata": {},
   "source": [
    "### ניתן לראות מהגרף כי מעט מעל ה-50 אחוז טסים במחלקות התיירים "
   ]
  },
  {
   "cell_type": "code",
   "execution_count": 14,
   "id": "b11fd7f2-1cb0-422a-aa46-0d69b8938578",
   "metadata": {},
   "outputs": [
    {
     "data": {
      "text/html": [
       "<div>\n",
       "<style scoped>\n",
       "    .dataframe tbody tr th:only-of-type {\n",
       "        vertical-align: middle;\n",
       "    }\n",
       "\n",
       "    .dataframe tbody tr th {\n",
       "        vertical-align: top;\n",
       "    }\n",
       "\n",
       "    .dataframe thead th {\n",
       "        text-align: right;\n",
       "    }\n",
       "</style>\n",
       "<table border=\"1\" class=\"dataframe\">\n",
       "  <thead>\n",
       "    <tr style=\"text-align: right;\">\n",
       "      <th>Class</th>\n",
       "      <th>satisfaction</th>\n",
       "      <th>Business</th>\n",
       "      <th>Eco</th>\n",
       "      <th>Eco Plus</th>\n",
       "    </tr>\n",
       "  </thead>\n",
       "  <tbody>\n",
       "    <tr>\n",
       "      <th>1</th>\n",
       "      <td>satisfied</td>\n",
       "      <td>7423</td>\n",
       "      <td>2241</td>\n",
       "      <td>475</td>\n",
       "    </tr>\n",
       "    <tr>\n",
       "      <th>0</th>\n",
       "      <td>neutral or dissatisfied</td>\n",
       "      <td>3442</td>\n",
       "      <td>9309</td>\n",
       "      <td>1442</td>\n",
       "    </tr>\n",
       "  </tbody>\n",
       "</table>\n",
       "</div>"
      ],
      "text/plain": [
       "Class             satisfaction  Business   Eco  Eco Plus\n",
       "1                    satisfied      7423  2241       475\n",
       "0      neutral or dissatisfied      3442  9309      1442"
      ]
     },
     "execution_count": 14,
     "metadata": {},
     "output_type": "execute_result"
    }
   ],
   "source": [
    "class_Satisfaction =  Passenger_Satisfaction.groupby(['satisfaction','Class'])['id' ].aggregate('count').unstack().reset_index()\n",
    "class_Satisfaction=class_Satisfaction.iloc[::-1]\n",
    "class_Satisfaction"
   ]
  },
  {
   "cell_type": "code",
   "execution_count": 15,
   "id": "e6ef58f9-8882-4a53-b316-465068ddb140",
   "metadata": {},
   "outputs": [
    {
     "data": {
      "text/plain": [
       "Text(0.5, 1.0, 'Percent of Satisfaction by departments')"
      ]
     },
     "execution_count": 15,
     "metadata": {},
     "output_type": "execute_result"
    },
    {
     "data": {
      "image/png": "[encoded data removed]",
      "text/plain": [
       "<Figure size 792x432 with 1 Axes>"
      ]
     },
     "metadata": {
      "needs_background": "light"
     },
     "output_type": "display_data"
    }
   ],
   "source": [
    "class_Satisfaction['Business_s'] = (class_Satisfaction['Business'] / class_Satisfaction['Business'].sum() * 100)\n",
    "class_Satisfaction['Eco_S'] = (class_Satisfaction['Eco'] / class_Satisfaction['Eco'].sum() * 100)\n",
    "class_Satisfaction['Eco Plus_S'] = (class_Satisfaction['Eco Plus'] / class_Satisfaction['Eco Plus'].sum() * 100)\n",
    "graf = class_Satisfaction.set_index('satisfaction')[['Business_s', 'Eco_S','Eco Plus_S' ]].T.plot(kind='bar', stacked=True, color=['#99ff99','#ff9999'])\n",
    "plt.gcf().set_size_inches(11, 6)\n",
    "plt.title('Percent of Satisfaction by departments')"
   ]
  },
  {
   "cell_type": "markdown",
   "id": "a4fa2dc7-49a8-48e0-9bcb-b6b510d43eff",
   "metadata": {},
   "source": [
    "### אבל מרבית הנוסעים שטסים במחלקת התיירים והתיירים פלוס אינם מרוצים (שביעות הרצון שלהם עומדת על כ-20 אחוז)"
   ]
  },
  {
   "cell_type": "code",
   "execution_count": 16,
   "id": "4f47a5c0-eb63-4994-b959-edab18ec549e",
   "metadata": {},
   "outputs": [],
   "source": [
    "Business_pas=Passenger_Satisfaction.loc[(Passenger_Satisfaction.Class=='Business')]\n",
    "melted_Business_pas = pd.melt(Business_pas, id_vars=['id','satisfaction'], value_vars=['EaseOfOnlineBooking','InflightWifiservice','GateLocation', 'FoodAndDrink','OnlineBoarding','SeatComfort','InflightEntertainment','OnBoardService','LegRoomService','BaggageHandling','CheckinService','InflightService','Cleanliness'])\n",
    "melted_Business_pas\n",
    "\n",
    "Eco_pas=Passenger_Satisfaction.loc[(Passenger_Satisfaction.Class=='Eco Plus')|(Passenger_Satisfaction.Class=='Eco')]\n",
    "melted_Eco_pas = pd.melt(Eco_pas, id_vars=['id','satisfaction'], value_vars=['EaseOfOnlineBooking','InflightWifiservice','GateLocation', 'FoodAndDrink','OnlineBoarding','SeatComfort','InflightEntertainment','OnBoardService','LegRoomService','BaggageHandling','CheckinService','InflightService','Cleanliness'])\n",
    "melted_Eco_pas\n",
    "\n",
    "melted_Eco_pas = melted_Eco_pas.rename(columns={'variable':'category','value':'Score'})\n",
    "melted_Business_pas = melted_Business_pas.rename(columns={'variable':'category','value':'Score'})"
   ]
  },
  {
   "cell_type": "code",
   "execution_count": 17,
   "id": "d6444df4-061d-4ed2-a4ad-fdac1cc0f918",
   "metadata": {},
   "outputs": [
    {
     "data": {
      "image/png": "[encoded data removed]",
      "text/plain": [
       "<Figure size 1224x360 with 2 Axes>"
      ]
     },
     "metadata": {
      "needs_background": "light"
     },
     "output_type": "display_data"
    }
   ],
   "source": [
    "fig, axes = plt.subplots(figsize=(17, 5), ncols=2, sharey=True)\n",
    "plt.subplots_adjust(wspace = 0.3)\n",
    "ax1= sns.barplot(x='category', y='Score',data = melted_Business_pas ,ax=axes[0])\n",
    "for category in ax1.get_xticklabels():\n",
    "    category.set_rotation(90)\n",
    "    \n",
    "ax2=sns.barplot(x='category', y='Score', data = melted_Eco_pas,ax=axes[1] )\n",
    "for category in ax2.get_xticklabels():\n",
    "    category.set_rotation(90)\n",
    "    \n",
    "plt.ylim(ymax = 4, ymin =2.5)\n",
    "plt.show()\n"
   ]
  },
  {
   "cell_type": "markdown",
   "id": "c2e26570-16b8-4ffa-8247-d11ec8039966",
   "metadata": {
    "tags": []
   },
   "source": [
    "### לכן ביצעתי השווה בין דירוג הקטגוריות של מחלקת תיירים ותיירים פלוס למול מחלקת ביזנס\n",
    "### ניתן לראות מההשוואה שהציון הממוצע של התיירים נמוך מהציונים שניתנו בביזנס\n",
    "### בחלק מן הקטגוריות התוצאה ברורה (מזון ושתיה, נוחות של הכסא ועוד) הרי הם משלמים יותר בשביל זה\n",
    "### אבל יש מספר קטגוריות חריגות שאינן קשורות לתנאים במטוס: רכישת כרטיסים בקלות באינטרנט, קבלת כרטיס עלייה למטוס באינטרנט\n",
    "### ? המסקנה - יש צורך לבדוק את ממשק המשתמש, האם יש שוני בין הממשק של הביזנס לעומת התיירים\n",
    "### ? ואיך ניתן לשפר את הממשק על מנת לשפר את הנוחות עבור הלקוח "
   ]
  },
  {
   "cell_type": "markdown",
   "id": "ab0ca974-ab0b-4d05-998d-89e055720c9f",
   "metadata": {},
   "source": [
    "  "
   ]
  },
  {
   "cell_type": "markdown",
   "id": "625d4639-4850-4434-9825-985b2af42989",
   "metadata": {},
   "source": [
    "       "
   ]
  },
  {
   "cell_type": "markdown",
   "id": "1e99feff-6bff-449b-b450-91bcb2245d23",
   "metadata": {
    "tags": []
   },
   "source": [
    "## 2. Loyal Customer & Disloyal Customer"
   ]
  },
  {
   "cell_type": "code",
   "execution_count": 18,
   "id": "c1dedd30-0134-444c-a494-5dbd7b062b89",
   "metadata": {},
   "outputs": [
    {
     "data": {
      "text/html": [
       "<div>\n",
       "<style scoped>\n",
       "    .dataframe tbody tr th:only-of-type {\n",
       "        vertical-align: middle;\n",
       "    }\n",
       "\n",
       "    .dataframe tbody tr th {\n",
       "        vertical-align: top;\n",
       "    }\n",
       "\n",
       "    .dataframe thead th {\n",
       "        text-align: right;\n",
       "    }\n",
       "</style>\n",
       "<table border=\"1\" class=\"dataframe\">\n",
       "  <thead>\n",
       "    <tr style=\"text-align: right;\">\n",
       "      <th>satisfaction</th>\n",
       "      <th>CustomerType</th>\n",
       "      <th>neutral or dissatisfied</th>\n",
       "      <th>satisfied</th>\n",
       "    </tr>\n",
       "  </thead>\n",
       "  <tbody>\n",
       "    <tr>\n",
       "      <th>0</th>\n",
       "      <td>Loyal Customer</td>\n",
       "      <td>10608</td>\n",
       "      <td>8931</td>\n",
       "    </tr>\n",
       "    <tr>\n",
       "      <th>1</th>\n",
       "      <td>disloyal Customer</td>\n",
       "      <td>3585</td>\n",
       "      <td>1208</td>\n",
       "    </tr>\n",
       "  </tbody>\n",
       "</table>\n",
       "</div>"
      ],
      "text/plain": [
       "satisfaction       CustomerType  neutral or dissatisfied  satisfied\n",
       "0                Loyal Customer                    10608       8931\n",
       "1             disloyal Customer                     3585       1208"
      ]
     },
     "execution_count": 18,
     "metadata": {},
     "output_type": "execute_result"
    }
   ],
   "source": [
    "Type_Satisfaction =  Passenger_Satisfaction.groupby(['CustomerType','satisfaction'])['id' ].aggregate('count').unstack().reset_index()\n",
    "Type_Satisfaction"
   ]
  },
  {
   "cell_type": "code",
   "execution_count": 19,
   "id": "6967603a-ed92-4bcc-bc9c-6cf9a532e861",
   "metadata": {},
   "outputs": [
    {
     "data": {
      "image/png": "[encoded data removed]",
      "text/plain": [
       "<Figure size 432x288 with 1 Axes>"
      ]
     },
     "metadata": {
      "needs_background": "light"
     },
     "output_type": "display_data"
    }
   ],
   "source": [
    "Type_Satisfaction1=Passenger_Satisfaction.groupby(['CustomerType','satisfaction'])['id' ].aggregate('count').unstack().reset_index()\n",
    "Type_Satisfaction1['total']=Type_Satisfaction1['neutral or dissatisfied']+Type_Satisfaction1['satisfied']\n",
    "Type_Satisfaction1\n",
    "\n",
    "sns.barplot(data = Type_Satisfaction1, x='CustomerType', y='total')\n",
    "#plt.xticks(rotation=90)\n",
    "plt.show()\n"
   ]
  },
  {
   "cell_type": "markdown",
   "id": "77874bc6-2323-4bb1-8b07-d3e14d15366e",
   "metadata": {},
   "source": [
    "### ניתן לראות כי מרבית לקוחות החברה הם לקוחות קבועים"
   ]
  },
  {
   "cell_type": "code",
   "execution_count": 20,
   "id": "7d7a94bd-145a-4627-8a7d-9ab9b9488da2",
   "metadata": {},
   "outputs": [],
   "source": [
    "plot = Type_Satisfaction.loc[(Type_Satisfaction.CustomerType == 'Loyal Customer')]\n",
    "plot2 = Type_Satisfaction.loc[(Type_Satisfaction.CustomerType == 'disloyal Customer')]\n"
   ]
  },
  {
   "cell_type": "code",
   "execution_count": 21,
   "id": "21951390-237c-4c50-a744-3bc402d5f1cb",
   "metadata": {},
   "outputs": [
    {
     "data": {
      "image/png": "[encoded data removed]",
      "text/plain": [
       "<Figure size 1440x432 with 2 Axes>"
      ]
     },
     "metadata": {},
     "output_type": "display_data"
    }
   ],
   "source": [
    "fig = plt.figure(figsize=(10,3),dpi=144)\n",
    "ax1 = fig.add_subplot(121)\n",
    "\n",
    "colors = ['#99ff99','#ff9999']\n",
    "\n",
    "Loyal_Customer = np.array([plot['satisfied'].sum(),plot['neutral or dissatisfied'].sum()])\n",
    "ax1.pie(Loyal_Customer)\n",
    "ax1.set_title('Loyal Customer')\n",
    "val1=[plot['satisfied'].sum(),plot['neutral or dissatisfied'].sum()]\n",
    "mylabels = ['satisfied', 'neutral+dissatisfied']\n",
    "ax1.pie(val1,labels = mylabels, autopct='%1.1f%%', startangle=90, colors=colors)\n",
    "\n",
    "\n",
    "ax2 = fig.add_subplot(122)\n",
    "disloyal_Customer = np.array([plot2['satisfied'].sum(),plot2['neutral or dissatisfied'].sum()])\n",
    "ax2.pie(disloyal_Customer)\n",
    "ax2.set_title('disloyal Customer')\n",
    "val2=[plot2['satisfied'].sum(),plot2['neutral or dissatisfied'].sum()]\n",
    "mylabels2 = ['satisfied', 'neutral+dissatisfied']\n",
    "ax2.pie(val2,labels = mylabels2 ,autopct='%1.1f%%', startangle=90, colors=colors)\n",
    "\n",
    "#plt.legend()\n",
    "plt.show() "
   ]
  },
  {
   "cell_type": "markdown",
   "id": "17012c44-7624-4634-8a28-f50c5327f799",
   "metadata": {},
   "source": [
    "### רציתי לבדוק את שביעות הרצון של הלקוחות לפי סוג הלקוחות, קבועים/לא קבועים \n",
    "### ניתן לראות בפאי כי יותר מ50% מן הלקוחות הקבועים לא שבעי רצון לכן התמקדתי בהם (הלקוחות שאנו רוצים להמשיך לשמור אצלנו) "
   ]
  },
  {
   "cell_type": "code",
   "execution_count": 22,
   "id": "15a13ab3-8381-40c4-810f-7db7992b5792",
   "metadata": {},
   "outputs": [
    {
     "data": {
      "text/html": [
       "<div>\n",
       "<style scoped>\n",
       "    .dataframe tbody tr th:only-of-type {\n",
       "        vertical-align: middle;\n",
       "    }\n",
       "\n",
       "    .dataframe tbody tr th {\n",
       "        vertical-align: top;\n",
       "    }\n",
       "\n",
       "    .dataframe thead th {\n",
       "        text-align: right;\n",
       "    }\n",
       "</style>\n",
       "<table border=\"1\" class=\"dataframe\">\n",
       "  <thead>\n",
       "    <tr style=\"text-align: right;\">\n",
       "      <th></th>\n",
       "      <th>id</th>\n",
       "      <th>satisfaction</th>\n",
       "      <th>FDistanceGroup</th>\n",
       "    </tr>\n",
       "  </thead>\n",
       "  <tbody>\n",
       "    <tr>\n",
       "      <th>9</th>\n",
       "      <td>115550</td>\n",
       "      <td>neutral or dissatisfied</td>\n",
       "      <td>0-999</td>\n",
       "    </tr>\n",
       "    <tr>\n",
       "      <th>13</th>\n",
       "      <td>22470</td>\n",
       "      <td>neutral or dissatisfied</td>\n",
       "      <td>0-999</td>\n",
       "    </tr>\n",
       "    <tr>\n",
       "      <th>14</th>\n",
       "      <td>124915</td>\n",
       "      <td>neutral or dissatisfied</td>\n",
       "      <td>0-999</td>\n",
       "    </tr>\n",
       "    <tr>\n",
       "      <th>16</th>\n",
       "      <td>76872</td>\n",
       "      <td>neutral or dissatisfied</td>\n",
       "      <td>1000-1999</td>\n",
       "    </tr>\n",
       "    <tr>\n",
       "      <th>18</th>\n",
       "      <td>75855</td>\n",
       "      <td>neutral or dissatisfied</td>\n",
       "      <td>1000-1999</td>\n",
       "    </tr>\n",
       "    <tr>\n",
       "      <th>...</th>\n",
       "      <td>...</td>\n",
       "      <td>...</td>\n",
       "      <td>...</td>\n",
       "    </tr>\n",
       "    <tr>\n",
       "      <th>24320</th>\n",
       "      <td>111325</td>\n",
       "      <td>neutral or dissatisfied</td>\n",
       "      <td>0-999</td>\n",
       "    </tr>\n",
       "    <tr>\n",
       "      <th>24321</th>\n",
       "      <td>15949</td>\n",
       "      <td>neutral or dissatisfied</td>\n",
       "      <td>0-999</td>\n",
       "    </tr>\n",
       "    <tr>\n",
       "      <th>24324</th>\n",
       "      <td>86816</td>\n",
       "      <td>neutral or dissatisfied</td>\n",
       "      <td>0-999</td>\n",
       "    </tr>\n",
       "    <tr>\n",
       "      <th>24329</th>\n",
       "      <td>37675</td>\n",
       "      <td>neutral or dissatisfied</td>\n",
       "      <td>0-999</td>\n",
       "    </tr>\n",
       "    <tr>\n",
       "      <th>24331</th>\n",
       "      <td>34799</td>\n",
       "      <td>neutral or dissatisfied</td>\n",
       "      <td>0-999</td>\n",
       "    </tr>\n",
       "  </tbody>\n",
       "</table>\n",
       "<p>10608 rows × 3 columns</p>\n",
       "</div>"
      ],
      "text/plain": [
       "           id             satisfaction FDistanceGroup\n",
       "9      115550  neutral or dissatisfied          0-999\n",
       "13      22470  neutral or dissatisfied          0-999\n",
       "14     124915  neutral or dissatisfied          0-999\n",
       "16      76872  neutral or dissatisfied      1000-1999\n",
       "18      75855  neutral or dissatisfied      1000-1999\n",
       "...       ...                      ...            ...\n",
       "24320  111325  neutral or dissatisfied          0-999\n",
       "24321   15949  neutral or dissatisfied          0-999\n",
       "24324   86816  neutral or dissatisfied          0-999\n",
       "24329   37675  neutral or dissatisfied          0-999\n",
       "24331   34799  neutral or dissatisfied          0-999\n",
       "\n",
       "[10608 rows x 3 columns]"
      ]
     },
     "execution_count": 22,
     "metadata": {},
     "output_type": "execute_result"
    }
   ],
   "source": [
    "loyal_not_s= Passenger_Satisfaction.loc[(Passenger_Satisfaction.CustomerType == 'Loyal Customer')]\n",
    "loyal_not_s= loyal_not_s.loc[(loyal_not_s.satisfaction == 'neutral or dissatisfied')]\n",
    "line_G = loyal_not_s[['id','satisfaction','FDistanceGroup']]\n",
    "line_G"
   ]
  },
  {
   "cell_type": "code",
   "execution_count": 23,
   "id": "26383df2-3f22-4c71-8722-38ea9c17ba16",
   "metadata": {},
   "outputs": [
    {
     "data": {
      "text/html": [
       "<div>\n",
       "<style scoped>\n",
       "    .dataframe tbody tr th:only-of-type {\n",
       "        vertical-align: middle;\n",
       "    }\n",
       "\n",
       "    .dataframe tbody tr th {\n",
       "        vertical-align: top;\n",
       "    }\n",
       "\n",
       "    .dataframe thead th {\n",
       "        text-align: right;\n",
       "    }\n",
       "</style>\n",
       "<table border=\"1\" class=\"dataframe\">\n",
       "  <thead>\n",
       "    <tr style=\"text-align: right;\">\n",
       "      <th></th>\n",
       "      <th>FDistanceGroup</th>\n",
       "      <th>id</th>\n",
       "    </tr>\n",
       "  </thead>\n",
       "  <tbody>\n",
       "    <tr>\n",
       "      <th>0</th>\n",
       "      <td>0-999</td>\n",
       "      <td>7192</td>\n",
       "    </tr>\n",
       "    <tr>\n",
       "      <th>1</th>\n",
       "      <td>1000-1999</td>\n",
       "      <td>2277</td>\n",
       "    </tr>\n",
       "    <tr>\n",
       "      <th>2</th>\n",
       "      <td>2000-2999</td>\n",
       "      <td>1049</td>\n",
       "    </tr>\n",
       "    <tr>\n",
       "      <th>3</th>\n",
       "      <td>3000-3999</td>\n",
       "      <td>90</td>\n",
       "    </tr>\n",
       "  </tbody>\n",
       "</table>\n",
       "</div>"
      ],
      "text/plain": [
       "  FDistanceGroup    id\n",
       "0          0-999  7192\n",
       "1      1000-1999  2277\n",
       "2      2000-2999  1049\n",
       "3      3000-3999    90"
      ]
     },
     "execution_count": 23,
     "metadata": {},
     "output_type": "execute_result"
    }
   ],
   "source": [
    "line_G = line_G.groupby(['FDistanceGroup'])['id'].aggregate('count').reset_index()\n",
    "line_G"
   ]
  },
  {
   "cell_type": "code",
   "execution_count": 24,
   "id": "648570a9-4c23-4376-b236-9ecabf25f661",
   "metadata": {
    "tags": []
   },
   "outputs": [
    {
     "data": {
      "text/html": [
       "<div>\n",
       "<style scoped>\n",
       "    .dataframe tbody tr th:only-of-type {\n",
       "        vertical-align: middle;\n",
       "    }\n",
       "\n",
       "    .dataframe tbody tr th {\n",
       "        vertical-align: top;\n",
       "    }\n",
       "\n",
       "    .dataframe thead th {\n",
       "        text-align: right;\n",
       "    }\n",
       "</style>\n",
       "<table border=\"1\" class=\"dataframe\">\n",
       "  <thead>\n",
       "    <tr style=\"text-align: right;\">\n",
       "      <th></th>\n",
       "      <th>Flight distance</th>\n",
       "      <th>Total passengers</th>\n",
       "    </tr>\n",
       "  </thead>\n",
       "  <tbody>\n",
       "    <tr>\n",
       "      <th>0</th>\n",
       "      <td>0-999</td>\n",
       "      <td>7192</td>\n",
       "    </tr>\n",
       "    <tr>\n",
       "      <th>1</th>\n",
       "      <td>1000-1999</td>\n",
       "      <td>2277</td>\n",
       "    </tr>\n",
       "    <tr>\n",
       "      <th>2</th>\n",
       "      <td>2000-2999</td>\n",
       "      <td>1049</td>\n",
       "    </tr>\n",
       "    <tr>\n",
       "      <th>3</th>\n",
       "      <td>3000-3999</td>\n",
       "      <td>90</td>\n",
       "    </tr>\n",
       "  </tbody>\n",
       "</table>\n",
       "</div>"
      ],
      "text/plain": [
       "  Flight distance  Total passengers\n",
       "0           0-999              7192\n",
       "1       1000-1999              2277\n",
       "2       2000-2999              1049\n",
       "3       3000-3999                90"
      ]
     },
     "execution_count": 24,
     "metadata": {},
     "output_type": "execute_result"
    }
   ],
   "source": [
    "line_G = line_G.rename(columns={'id': 'Total passengers','FDistanceGroup': 'Flight distance'})\n",
    "line_G "
   ]
  },
  {
   "cell_type": "code",
   "execution_count": 25,
   "id": "15b4545a-fa66-4838-a4e0-6b48db9efd63",
   "metadata": {},
   "outputs": [
    {
     "data": {
      "image/png": "[encoded data removed]",
      "text/plain": [
       "<Figure size 1080x360 with 1 Axes>"
      ]
     },
     "metadata": {
      "needs_background": "light"
     },
     "output_type": "display_data"
    }
   ],
   "source": [
    "#F_D = line_G.plot(x='Flight distance', kind='area', stacked=False)\n",
    "#plt.gcf().set_size_inches(12, 5)\n",
    "\n",
    "k=plt.barh(line_G['Flight distance'], line_G['Total passengers'], height = 0.3, color = '#ffcc99')\n",
    "plt.xlabel(\"Total passengers\", fontsize=15)\n",
    "plt.ylabel(\"Flight distance\",fontsize=15)\n",
    "plt.gcf().set_size_inches(15, 5)\n",
    "plt.show()\n",
    "\n"
   ]
  },
  {
   "cell_type": "markdown",
   "id": "5d1865c6-5522-49e7-8ae8-11eb74333718",
   "metadata": {},
   "source": [
    "### ניתן לראות כי מרבית מהלקוחות הקבועים שאינם מרוצים טסים בטיסות קצרות לכן התמקדתי בטיסות קצרות\n",
    " "
   ]
  },
  {
   "cell_type": "code",
   "execution_count": 26,
   "id": "79489d40-0f1c-48d7-9e96-622eb6e4322a",
   "metadata": {},
   "outputs": [
    {
     "data": {
      "text/html": [
       "<div>\n",
       "<style scoped>\n",
       "    .dataframe tbody tr th:only-of-type {\n",
       "        vertical-align: middle;\n",
       "    }\n",
       "\n",
       "    .dataframe tbody tr th {\n",
       "        vertical-align: top;\n",
       "    }\n",
       "\n",
       "    .dataframe thead th {\n",
       "        text-align: right;\n",
       "    }\n",
       "</style>\n",
       "<table border=\"1\" class=\"dataframe\">\n",
       "  <thead>\n",
       "    <tr style=\"text-align: right;\">\n",
       "      <th></th>\n",
       "      <th>id</th>\n",
       "      <th>Gender</th>\n",
       "      <th>CustomerType</th>\n",
       "      <th>Age</th>\n",
       "      <th>TypeOfTravel</th>\n",
       "      <th>Class</th>\n",
       "      <th>FlightDistance</th>\n",
       "      <th>InflightWifiservice</th>\n",
       "      <th>DepartureArrivalTimeCconvenient</th>\n",
       "      <th>EaseOfOnlineBooking</th>\n",
       "      <th>...</th>\n",
       "      <th>BaggageHandling</th>\n",
       "      <th>CheckinService</th>\n",
       "      <th>InflightService</th>\n",
       "      <th>Cleanliness</th>\n",
       "      <th>DepartureDelayInMinutes</th>\n",
       "      <th>ArrivalDelayInMinutes</th>\n",
       "      <th>satisfaction</th>\n",
       "      <th>FDistanceGroup</th>\n",
       "      <th>AgeGroup</th>\n",
       "      <th>HELP_COLUMN</th>\n",
       "    </tr>\n",
       "  </thead>\n",
       "  <tbody>\n",
       "    <tr>\n",
       "      <th>9</th>\n",
       "      <td>115550</td>\n",
       "      <td>Female</td>\n",
       "      <td>Loyal Customer</td>\n",
       "      <td>33</td>\n",
       "      <td>Business travel</td>\n",
       "      <td>Business</td>\n",
       "      <td>325</td>\n",
       "      <td>2</td>\n",
       "      <td>5</td>\n",
       "      <td>5</td>\n",
       "      <td>...</td>\n",
       "      <td>2</td>\n",
       "      <td>3</td>\n",
       "      <td>2</td>\n",
       "      <td>4</td>\n",
       "      <td>18</td>\n",
       "      <td>7.0</td>\n",
       "      <td>neutral or dissatisfied</td>\n",
       "      <td>0-999</td>\n",
       "      <td>30-39</td>\n",
       "      <td>1</td>\n",
       "    </tr>\n",
       "    <tr>\n",
       "      <th>13</th>\n",
       "      <td>22470</td>\n",
       "      <td>Male</td>\n",
       "      <td>Loyal Customer</td>\n",
       "      <td>50</td>\n",
       "      <td>Personal Travel</td>\n",
       "      <td>Eco</td>\n",
       "      <td>83</td>\n",
       "      <td>3</td>\n",
       "      <td>4</td>\n",
       "      <td>0</td>\n",
       "      <td>...</td>\n",
       "      <td>4</td>\n",
       "      <td>4</td>\n",
       "      <td>5</td>\n",
       "      <td>2</td>\n",
       "      <td>5</td>\n",
       "      <td>2.0</td>\n",
       "      <td>neutral or dissatisfied</td>\n",
       "      <td>0-999</td>\n",
       "      <td>50-59</td>\n",
       "      <td>1</td>\n",
       "    </tr>\n",
       "    <tr>\n",
       "      <th>14</th>\n",
       "      <td>124915</td>\n",
       "      <td>Female</td>\n",
       "      <td>Loyal Customer</td>\n",
       "      <td>31</td>\n",
       "      <td>Business travel</td>\n",
       "      <td>Eco</td>\n",
       "      <td>728</td>\n",
       "      <td>2</td>\n",
       "      <td>5</td>\n",
       "      <td>5</td>\n",
       "      <td>...</td>\n",
       "      <td>3</td>\n",
       "      <td>4</td>\n",
       "      <td>3</td>\n",
       "      <td>2</td>\n",
       "      <td>2</td>\n",
       "      <td>0.0</td>\n",
       "      <td>neutral or dissatisfied</td>\n",
       "      <td>0-999</td>\n",
       "      <td>30-39</td>\n",
       "      <td>1</td>\n",
       "    </tr>\n",
       "    <tr>\n",
       "      <th>19</th>\n",
       "      <td>106181</td>\n",
       "      <td>Male</td>\n",
       "      <td>Loyal Customer</td>\n",
       "      <td>55</td>\n",
       "      <td>Personal Travel</td>\n",
       "      <td>Eco</td>\n",
       "      <td>302</td>\n",
       "      <td>1</td>\n",
       "      <td>2</td>\n",
       "      <td>4</td>\n",
       "      <td>...</td>\n",
       "      <td>2</td>\n",
       "      <td>4</td>\n",
       "      <td>3</td>\n",
       "      <td>4</td>\n",
       "      <td>0</td>\n",
       "      <td>0.0</td>\n",
       "      <td>neutral or dissatisfied</td>\n",
       "      <td>0-999</td>\n",
       "      <td>50-59</td>\n",
       "      <td>1</td>\n",
       "    </tr>\n",
       "    <tr>\n",
       "      <th>22</th>\n",
       "      <td>7823</td>\n",
       "      <td>Male</td>\n",
       "      <td>Loyal Customer</td>\n",
       "      <td>62</td>\n",
       "      <td>Personal Travel</td>\n",
       "      <td>Eco</td>\n",
       "      <td>710</td>\n",
       "      <td>3</td>\n",
       "      <td>5</td>\n",
       "      <td>3</td>\n",
       "      <td>...</td>\n",
       "      <td>5</td>\n",
       "      <td>4</td>\n",
       "      <td>4</td>\n",
       "      <td>2</td>\n",
       "      <td>0</td>\n",
       "      <td>0.0</td>\n",
       "      <td>neutral or dissatisfied</td>\n",
       "      <td>0-999</td>\n",
       "      <td>60+</td>\n",
       "      <td>1</td>\n",
       "    </tr>\n",
       "  </tbody>\n",
       "</table>\n",
       "<p>5 rows × 27 columns</p>\n",
       "</div>"
      ],
      "text/plain": [
       "        id  Gender    CustomerType  Age     TypeOfTravel     Class  \\\n",
       "9   115550  Female  Loyal Customer   33  Business travel  Business   \n",
       "13   22470    Male  Loyal Customer   50  Personal Travel       Eco   \n",
       "14  124915  Female  Loyal Customer   31  Business travel       Eco   \n",
       "19  106181    Male  Loyal Customer   55  Personal Travel       Eco   \n",
       "22    7823    Male  Loyal Customer   62  Personal Travel       Eco   \n",
       "\n",
       "    FlightDistance  InflightWifiservice  DepartureArrivalTimeCconvenient  \\\n",
       "9              325                    2                                5   \n",
       "13              83                    3                                4   \n",
       "14             728                    2                                5   \n",
       "19             302                    1                                2   \n",
       "22             710                    3                                5   \n",
       "\n",
       "    EaseOfOnlineBooking  ...  BaggageHandling  CheckinService  \\\n",
       "9                     5  ...                2               3   \n",
       "13                    0  ...                4               4   \n",
       "14                    5  ...                3               4   \n",
       "19                    4  ...                2               4   \n",
       "22                    3  ...                5               4   \n",
       "\n",
       "    InflightService  Cleanliness  DepartureDelayInMinutes  \\\n",
       "9                 2            4                       18   \n",
       "13                5            2                        5   \n",
       "14                3            2                        2   \n",
       "19                3            4                        0   \n",
       "22                4            2                        0   \n",
       "\n",
       "    ArrivalDelayInMinutes             satisfaction  FDistanceGroup  AgeGroup  \\\n",
       "9                     7.0  neutral or dissatisfied           0-999     30-39   \n",
       "13                    2.0  neutral or dissatisfied           0-999     50-59   \n",
       "14                    0.0  neutral or dissatisfied           0-999     30-39   \n",
       "19                    0.0  neutral or dissatisfied           0-999     50-59   \n",
       "22                    0.0  neutral or dissatisfied           0-999       60+   \n",
       "\n",
       "    HELP_COLUMN  \n",
       "9             1  \n",
       "13            1  \n",
       "14            1  \n",
       "19            1  \n",
       "22            1  \n",
       "\n",
       "[5 rows x 27 columns]"
      ]
     },
     "execution_count": 26,
     "metadata": {},
     "output_type": "execute_result"
    }
   ],
   "source": [
    "loyal_not_s=loyal_not_s.loc[(loyal_not_s.FDistanceGroup == '0-999')]\n",
    "loyal_not_s.head()"
   ]
  },
  {
   "cell_type": "code",
   "execution_count": 27,
   "id": "cbae9b07-dfad-4fc9-82e3-dce225514e5e",
   "metadata": {},
   "outputs": [],
   "source": [
    "#features = ['id','EaseOfOnlineBooking','InflightWifiservice','GateLocation', 'FoodAndDrink','OnlineBoarding','SeatComfort','InflightEntertainment','OnBoardService','LegRoomService','BaggageHandling','CheckinService','InflightService','Cleanliness','DepartureDelayInMinutes','ArrivalDelayInMinutes']\n",
    "#melted_loyal_not_s = pd.melt(loyal_not_s[features], id_vars = 'id', value_vars = features)\n",
    "\n",
    "\n",
    "#g = sns.FacetGrid(data = melted_loyal_not_s, col='variable', col_wrap=3, sharex=False, sharey=False)\n",
    "#g.map_dataframe(sns.histplot, x = \"value\")\n",
    "#plt.show()\n"
   ]
  },
  {
   "cell_type": "code",
   "execution_count": 28,
   "id": "0d3796ae-ec54-4e0c-b354-1d5cf1fa8d56",
   "metadata": {},
   "outputs": [
    {
     "data": {
      "text/plain": [
       "(0.0, 200.0)"
      ]
     },
     "execution_count": 28,
     "metadata": {},
     "output_type": "execute_result"
    },
    {
     "data": {
      "image/png": "[encoded data removed]",
      "text/plain": [
       "<Figure size 1440x360 with 2 Axes>"
      ]
     },
     "metadata": {
      "needs_background": "light"
     },
     "output_type": "display_data"
    }
   ],
   "source": [
    "fig, axes = plt.subplots(figsize=(20, 5), ncols=2)\n",
    "sns.scatterplot(data = loyal_not_s, x = 'DepartureDelayInMinutes', y = 'ArrivalDelayInMinutes', ax = axes[0])\n",
    "sns.scatterplot(data = loyal_not_s, x = 'DepartureDelayInMinutes', y = 'ArrivalDelayInMinutes', ax = axes[1])\n",
    "plt.xlim(xmax = 200, xmin = 0)\n",
    "plt.ylim(ymax = 200, ymin = 0)"
   ]
  },
  {
   "cell_type": "code",
   "execution_count": 29,
   "id": "1e4db058-b67f-488a-a72e-953255b0b596",
   "metadata": {},
   "outputs": [],
   "source": [
    "#fig, axes = plt.subplots(figsize=(25, 5), ncols=3 ,sharey=True)\n",
    "\n",
    "#ax1 = sns.histplot(loyal_not_s.BaggageHandling, ax = axes[0])\n",
    "#ax2 =sns.histplot(loyal_not_s.InflightService, ax = axes[1])\n",
    "#ax3 =sns.histplot(loyal_not_s.CheckinService, ax = axes[2])\n",
    "\n",
    "#plt.ylim(ymax = 2450, ymin =500)"
   ]
  },
  {
   "cell_type": "code",
   "execution_count": 30,
   "id": "613b4542-15ff-4f50-afe6-0b04c61f5beb",
   "metadata": {},
   "outputs": [
    {
     "data": {
      "text/plain": [
       "(500.0, 2450.0)"
      ]
     },
     "execution_count": 30,
     "metadata": {},
     "output_type": "execute_result"
    },
    {
     "data": {
      "image/png": "[encoded data removed]",
      "text/plain": [
       "<Figure size 1800x360 with 3 Axes>"
      ]
     },
     "metadata": {
      "needs_background": "light"
     },
     "output_type": "display_data"
    }
   ],
   "source": [
    "fig, axes = plt.subplots(figsize=(25, 5), ncols=3 ,sharey=True)\n",
    "\n",
    "ax1 = sns.countplot(data = loyal_not_s, x = 'BaggageHandling', ax=axes[0] ,palette='pink_r')\n",
    "\n",
    "ax2 = sns.countplot(data = loyal_not_s, x = 'InflightService', ax=axes[1] ,palette='pink_r')\n",
    "\n",
    "ax3 = sns.countplot(data = loyal_not_s, x = 'CheckinService', ax=axes[2] ,palette='pink_r')\n",
    "\n",
    "plt.ylim(ymax = 2450, ymin =500)"
   ]
  },
  {
   "cell_type": "markdown",
   "id": "e4825a3f-26af-4a97-bc20-3bff651fb91b",
   "metadata": {},
   "source": [
    "\n",
    "### למרות שהנוסעים המתמידים אינם מרוצים כל כך מחברת התעופה, הם ממשיכים להתמיד ולא עוברים לחברה אחרת\n",
    "### לפי נתוני ההמראות ונחיתות ניתן לראות כי מרבית הטיסות של החברה יוצאות ומגיעות בזמן ובמידה ויש עיכובים לרוב הם לא יותר משעה וחצי\n",
    "### כנראה שרמות הדיוק בזמינים משפיעה על הנוסעים וגורמים להם להישאר נאמנים לחברת התעופה - נקודה לשימור וחיזוק\n",
    "### בנוסף ניתן לראות כי אומנם הנוסעים אינם מרוצים לחלוטין מחווית הטיסה אך בין הקריטריונים הם דירגו את רמת השירות והתפעול בצורה גבוה"
   ]
  },
  {
   "cell_type": "markdown",
   "id": "dd8a96ec-c4a8-46b6-a75c-d76b41f8016c",
   "metadata": {},
   "source": [
    "  "
   ]
  },
  {
   "cell_type": "markdown",
   "id": "88ca16ca-b66e-4612-8ce6-a88f564e344b",
   "metadata": {},
   "source": [
    "  "
   ]
  },
  {
   "cell_type": "markdown",
   "id": "0b0b0956-683f-48fd-b08c-ae59a19ff7a9",
   "metadata": {},
   "source": [
    "## 3. Age of the Passenger"
   ]
  },
  {
   "cell_type": "code",
   "execution_count": 31,
   "id": "2cafa5e4-36b4-4f12-8c1e-e6e99447bc8c",
   "metadata": {},
   "outputs": [
    {
     "data": {
      "image/png": "[encoded data removed]",
      "text/plain": [
       "<Figure size 1080x504 with 1 Axes>"
      ]
     },
     "metadata": {
      "needs_background": "light"
     },
     "output_type": "display_data"
    }
   ],
   "source": [
    "myorder = ['satisfied', 'neutral or dissatisfied']\n",
    "order = ['60+','50-59','40-49','30-39','19-29','0-18']\n",
    "sns.countplot(x='satisfaction', hue='AgeGroup',hue_order=order, data=Passenger_Satisfaction, order = myorder, palette='BrBG')\n",
    "plt.title('Satisfaction by age group',fontsize=18)\n",
    "plt.ylabel('count of passengers',fontsize=15)\n",
    "plt.xlabel('satisfaction',fontsize=15)\n",
    "plt.gcf().set_size_inches(15, 7)\n",
    "plt.show()"
   ]
  },
  {
   "cell_type": "markdown",
   "id": "e44454da-5dc0-4009-bf9b-b9ec37f38169",
   "metadata": {},
   "source": [
    "### בגרף רואים כי מתוך ה\"לא מרוצים\" יש יותר נוסעים בגילאים הצעירים מאשר בגילאים המאוחרים יותר\n",
    "### והרוב מהאנשים המרוצים נמצא בגילאים המבוגרים יותר\n",
    "### על מנת לוודא זאת הכנתי פאי שמחלק את הגילאים ל-2 קבוצות"
   ]
  },
  {
   "cell_type": "code",
   "execution_count": 32,
   "id": "7da8d5d9-2508-44cf-81c7-735ef50453a7",
   "metadata": {},
   "outputs": [
    {
     "data": {
      "text/html": [
       "<div>\n",
       "<style scoped>\n",
       "    .dataframe tbody tr th:only-of-type {\n",
       "        vertical-align: middle;\n",
       "    }\n",
       "\n",
       "    .dataframe tbody tr th {\n",
       "        vertical-align: top;\n",
       "    }\n",
       "\n",
       "    .dataframe thead th {\n",
       "        text-align: right;\n",
       "    }\n",
       "</style>\n",
       "<table border=\"1\" class=\"dataframe\">\n",
       "  <thead>\n",
       "    <tr style=\"text-align: right;\">\n",
       "      <th></th>\n",
       "      <th>Age</th>\n",
       "      <th>AgeGroup2</th>\n",
       "    </tr>\n",
       "  </thead>\n",
       "  <tbody>\n",
       "    <tr>\n",
       "      <th>0</th>\n",
       "      <td>52</td>\n",
       "      <td>40+</td>\n",
       "    </tr>\n",
       "    <tr>\n",
       "      <th>1</th>\n",
       "      <td>36</td>\n",
       "      <td>0-39</td>\n",
       "    </tr>\n",
       "    <tr>\n",
       "      <th>2</th>\n",
       "      <td>20</td>\n",
       "      <td>0-39</td>\n",
       "    </tr>\n",
       "    <tr>\n",
       "      <th>3</th>\n",
       "      <td>49</td>\n",
       "      <td>40+</td>\n",
       "    </tr>\n",
       "    <tr>\n",
       "      <th>4</th>\n",
       "      <td>16</td>\n",
       "      <td>0-39</td>\n",
       "    </tr>\n",
       "  </tbody>\n",
       "</table>\n",
       "</div>"
      ],
      "text/plain": [
       "   Age AgeGroup2\n",
       "0   52       40+\n",
       "1   36      0-39\n",
       "2   20      0-39\n",
       "3   49       40+\n",
       "4   16      0-39"
      ]
     },
     "execution_count": 32,
     "metadata": {},
     "output_type": "execute_result"
    }
   ],
   "source": [
    "Passenger_Satisfaction.loc[(Passenger_Satisfaction.Age < 100),  'AgeGroup2'] = '40+'\n",
    "Passenger_Satisfaction.loc[(Passenger_Satisfaction.Age < 40),  'AgeGroup2'] = '0-39'\n",
    "\n",
    "Passenger_Satisfaction[['Age','AgeGroup2']].head(5)"
   ]
  },
  {
   "cell_type": "code",
   "execution_count": 33,
   "id": "85f96fa8-cc3f-4f89-9845-b6c9980e9c45",
   "metadata": {},
   "outputs": [
    {
     "data": {
      "text/html": [
       "<div>\n",
       "<style scoped>\n",
       "    .dataframe tbody tr th:only-of-type {\n",
       "        vertical-align: middle;\n",
       "    }\n",
       "\n",
       "    .dataframe tbody tr th {\n",
       "        vertical-align: top;\n",
       "    }\n",
       "\n",
       "    .dataframe thead th {\n",
       "        text-align: right;\n",
       "    }\n",
       "</style>\n",
       "<table border=\"1\" class=\"dataframe\">\n",
       "  <thead>\n",
       "    <tr style=\"text-align: right;\">\n",
       "      <th>AgeGroup2</th>\n",
       "      <th>satisfaction</th>\n",
       "      <th>0-39</th>\n",
       "      <th>40+</th>\n",
       "    </tr>\n",
       "  </thead>\n",
       "  <tbody>\n",
       "    <tr>\n",
       "      <th>0</th>\n",
       "      <td>neutral or dissatisfied</td>\n",
       "      <td>7989</td>\n",
       "      <td>6204</td>\n",
       "    </tr>\n",
       "    <tr>\n",
       "      <th>1</th>\n",
       "      <td>satisfied</td>\n",
       "      <td>4126</td>\n",
       "      <td>6013</td>\n",
       "    </tr>\n",
       "  </tbody>\n",
       "</table>\n",
       "</div>"
      ],
      "text/plain": [
       "AgeGroup2             satisfaction  0-39   40+\n",
       "0          neutral or dissatisfied  7989  6204\n",
       "1                        satisfied  4126  6013"
      ]
     },
     "execution_count": 33,
     "metadata": {},
     "output_type": "execute_result"
    }
   ],
   "source": [
    "Age_Satisfaction =  Passenger_Satisfaction.groupby(['satisfaction','AgeGroup2'])['id' ].aggregate('count').unstack().reset_index()\n",
    "Age_Satisfaction"
   ]
  },
  {
   "cell_type": "code",
   "execution_count": 34,
   "id": "9faf6694-5790-4b41-bd82-95f1b7dbaf3f",
   "metadata": {},
   "outputs": [],
   "source": [
    "p1 = Age_Satisfaction.loc[(Age_Satisfaction.satisfaction == 'satisfied')]\n",
    "p2 = Age_Satisfaction.loc[(Age_Satisfaction.satisfaction == 'neutral or dissatisfied')]"
   ]
  },
  {
   "cell_type": "code",
   "execution_count": 35,
   "id": "c8a24842-3279-473b-80b5-ed23935e67fa",
   "metadata": {},
   "outputs": [
    {
     "data": {
      "image/png": "[encoded data removed]",
      "text/plain": [
       "<Figure size 1440x432 with 2 Axes>"
      ]
     },
     "metadata": {},
     "output_type": "display_data"
    }
   ],
   "source": [
    "fig = plt.figure(figsize=(10,3),dpi=144)\n",
    "colors = ['#99ff99','#ff9999']\n",
    "\n",
    "ax1 = fig.add_subplot(121)\n",
    "satisfie = np.array([p1['0-39'].sum(),p1['40+'].sum()])\n",
    "ax1.pie(satisfie)\n",
    "ax1.set_title('Satisfied')\n",
    "val1=[p1['0-39'].sum(),p1['40+'].sum()]\n",
    "mylabels = ['Ages 0-39', 'Ages 40+']\n",
    "ax1.pie(val1,labels = mylabels, autopct='%1.1f%%', startangle=90, colors=colors)\n",
    "\n",
    "\n",
    "ax2 = fig.add_subplot(122)\n",
    "n_d = np.array([p2['0-39'].sum(),p2['40+'].sum()])\n",
    "ax2.pie(n_d)\n",
    "ax2.set_title('Neutral or Dissatisfied')\n",
    "val2=[p2['0-39'].sum(),p2['40+'].sum()]\n",
    "mylabels2 = ['Ages 0-39', 'Ages 40+']\n",
    "ax2.pie(val2,labels = mylabels2 ,autopct='%1.1f%%', startangle=90, colors=colors)\n",
    "\n",
    "#plt.legend()\n",
    "plt.show() "
   ]
  },
  {
   "cell_type": "code",
   "execution_count": 36,
   "id": "9508ea21-d5f5-4157-b10f-4ca5e36e4e4a",
   "metadata": {},
   "outputs": [],
   "source": [
    "Young_n_S= Passenger_Satisfaction.loc[(Passenger_Satisfaction.AgeGroup2 == '0-39')]\n",
    "Young_n_S= Young_n_S.loc[(Young_n_S.satisfaction == 'neutral or dissatisfied')]"
   ]
  },
  {
   "cell_type": "code",
   "execution_count": 37,
   "id": "739a20d6-178c-4672-a09d-3482e2007a53",
   "metadata": {},
   "outputs": [],
   "source": [
    "#features = ['id','EaseOfOnlineBooking','InflightWifiservice','GateLocation', 'FoodAndDrink','OnlineBoarding','SeatComfort','InflightEntertainment','OnBoardService','LegRoomService','BaggageHandling','CheckinService','InflightService','Cleanliness','DepartureDelayInMinutes','ArrivalDelayInMinutes']\n",
    "#melted_Young_n_S = pd.melt(Young_n_S[features], id_vars = 'id', value_vars = features)\n",
    "\n",
    "\n",
    "#g1 = sns.FacetGrid(data = melted_Young_n_S, col='variable', col_wrap=3, sharex=False, sharey=False)\n",
    "#g1.map_dataframe(sns.histplot, x = \"value\")\n",
    "#plt.show()\n"
   ]
  },
  {
   "cell_type": "code",
   "execution_count": 38,
   "id": "dd4dbeda-24ab-4f39-a6c0-c57fcc45dc8b",
   "metadata": {},
   "outputs": [],
   "source": [
    "#fig, axes = plt.subplots(figsize=(25, 5), ncols=3 ,sharey=True)\n",
    "\n",
    "#ax1 = sns.histplot(Young_n_S.InflightWifiservice, ax = axes[0])\n",
    "#ax2 =sns.histplot(Young_n_S.EaseOfOnlineBooking, ax = axes[1])\n",
    "#ax3 =sns.histplot(Young_n_S.OnlineBoarding, ax = axes[2])\n",
    "\n",
    "#plt.ylim(ymax = 2800, ymin =0)"
   ]
  },
  {
   "cell_type": "code",
   "execution_count": 44,
   "id": "70e5a9cf-610a-4947-b79d-bd42af329479",
   "metadata": {},
   "outputs": [
    {
     "data": {
      "text/plain": [
       "(0.0, 2800.0)"
      ]
     },
     "execution_count": 44,
     "metadata": {},
     "output_type": "execute_result"
    },
    {
     "data": {
      "image/png": "[encoded data removed]",
      "text/plain": [
       "<Figure size 1800x360 with 3 Axes>"
      ]
     },
     "metadata": {
      "needs_background": "light"
     },
     "output_type": "display_data"
    }
   ],
   "source": [
    "fig, axes = plt.subplots(figsize=(25, 5), ncols=3 ,sharey=True)\n",
    "\n",
    "ax1 = sns.countplot(data = Young_n_S, x = 'InflightWifiservice', ax=axes[0] ,palette='BuGn_r')\n",
    "\n",
    "ax2 = sns.countplot(data = Young_n_S, x = 'EaseOfOnlineBooking', ax=axes[1] ,palette='BuGn_r')\n",
    "\n",
    "ax3 = sns.countplot(data = Young_n_S, x = 'OnlineBoarding', ax=axes[2] ,palette='BuGn_r')\n",
    "\n",
    "plt.ylim(ymax = 2800, ymin =0)"
   ]
  },
  {
   "cell_type": "markdown",
   "id": "63c1a795-f297-4add-bf2a-d357929910aa",
   "metadata": {},
   "source": [
    "### בדקתי את התפלגות הציונים בכלל הקטגוריות שנתנו הנוסעים בגילאים 0-39 (הלא מרוצים)\n",
    "### ומצאתי 3 קטגוריות שהציונים בהם היו נמוכים וכמעט ולא קיבלו בהם את הציון המקסימלי\n",
    "### הקטגוריות האלה הן (איכות האינטרנט במטוס, רכישת כרטיסים בקלות באינטרנט, קבלת כרטיס עלייה למטוס באינטרנט)\n",
    "### ניתן לראות שהדברים שחשובים לגילאים הצעירים יותר קשורים ליכולת הגלישה באינטרנט במטוס, והשימוש באתר בביצוע פעולות "
   ]
  },
  {
   "cell_type": "markdown",
   "id": "9d7edc7e-2006-4688-9e56-45c5cd5e8fa2",
   "metadata": {},
   "source": [
    "   "
   ]
  },
  {
   "cell_type": "markdown",
   "id": "fc66ba0e-0086-42dd-a9a1-fa5a7ddde190",
   "metadata": {},
   "source": [
    "      "
   ]
  },
  {
   "cell_type": "markdown",
   "id": "fd430afc-7d32-4b8b-9774-83669343f5d8",
   "metadata": {},
   "source": [
    "## Scoring results by categories (all population) "
   ]
  },
  {
   "cell_type": "code",
   "execution_count": 40,
   "id": "d0f244bd-21ee-4e07-9af4-538fbdad55d4",
   "metadata": {},
   "outputs": [
    {
     "data": {
      "text/html": [
       "<div>\n",
       "<style scoped>\n",
       "    .dataframe tbody tr th:only-of-type {\n",
       "        vertical-align: middle;\n",
       "    }\n",
       "\n",
       "    .dataframe tbody tr th {\n",
       "        vertical-align: top;\n",
       "    }\n",
       "\n",
       "    .dataframe thead th {\n",
       "        text-align: right;\n",
       "    }\n",
       "</style>\n",
       "<table border=\"1\" class=\"dataframe\">\n",
       "  <thead>\n",
       "    <tr style=\"text-align: right;\">\n",
       "      <th></th>\n",
       "      <th>id</th>\n",
       "      <th>satisfaction</th>\n",
       "      <th>variable</th>\n",
       "      <th>value</th>\n",
       "    </tr>\n",
       "  </thead>\n",
       "  <tbody>\n",
       "    <tr>\n",
       "      <th>0</th>\n",
       "      <td>19556</td>\n",
       "      <td>satisfied</td>\n",
       "      <td>EaseOfOnlineBooking</td>\n",
       "      <td>3</td>\n",
       "    </tr>\n",
       "    <tr>\n",
       "      <th>1</th>\n",
       "      <td>90035</td>\n",
       "      <td>satisfied</td>\n",
       "      <td>EaseOfOnlineBooking</td>\n",
       "      <td>3</td>\n",
       "    </tr>\n",
       "    <tr>\n",
       "      <th>2</th>\n",
       "      <td>12360</td>\n",
       "      <td>neutral or dissatisfied</td>\n",
       "      <td>EaseOfOnlineBooking</td>\n",
       "      <td>2</td>\n",
       "    </tr>\n",
       "    <tr>\n",
       "      <th>3</th>\n",
       "      <td>36875</td>\n",
       "      <td>satisfied</td>\n",
       "      <td>EaseOfOnlineBooking</td>\n",
       "      <td>4</td>\n",
       "    </tr>\n",
       "    <tr>\n",
       "      <th>4</th>\n",
       "      <td>39177</td>\n",
       "      <td>satisfied</td>\n",
       "      <td>EaseOfOnlineBooking</td>\n",
       "      <td>3</td>\n",
       "    </tr>\n",
       "    <tr>\n",
       "      <th>...</th>\n",
       "      <td>...</td>\n",
       "      <td>...</td>\n",
       "      <td>...</td>\n",
       "      <td>...</td>\n",
       "    </tr>\n",
       "    <tr>\n",
       "      <th>316311</th>\n",
       "      <td>78463</td>\n",
       "      <td>neutral or dissatisfied</td>\n",
       "      <td>Cleanliness</td>\n",
       "      <td>4</td>\n",
       "    </tr>\n",
       "    <tr>\n",
       "      <th>316312</th>\n",
       "      <td>71167</td>\n",
       "      <td>satisfied</td>\n",
       "      <td>Cleanliness</td>\n",
       "      <td>4</td>\n",
       "    </tr>\n",
       "    <tr>\n",
       "      <th>316313</th>\n",
       "      <td>37675</td>\n",
       "      <td>neutral or dissatisfied</td>\n",
       "      <td>Cleanliness</td>\n",
       "      <td>2</td>\n",
       "    </tr>\n",
       "    <tr>\n",
       "      <th>316314</th>\n",
       "      <td>90086</td>\n",
       "      <td>satisfied</td>\n",
       "      <td>Cleanliness</td>\n",
       "      <td>4</td>\n",
       "    </tr>\n",
       "    <tr>\n",
       "      <th>316315</th>\n",
       "      <td>34799</td>\n",
       "      <td>neutral or dissatisfied</td>\n",
       "      <td>Cleanliness</td>\n",
       "      <td>1</td>\n",
       "    </tr>\n",
       "  </tbody>\n",
       "</table>\n",
       "<p>316316 rows × 4 columns</p>\n",
       "</div>"
      ],
      "text/plain": [
       "           id             satisfaction             variable  value\n",
       "0       19556                satisfied  EaseOfOnlineBooking      3\n",
       "1       90035                satisfied  EaseOfOnlineBooking      3\n",
       "2       12360  neutral or dissatisfied  EaseOfOnlineBooking      2\n",
       "3       36875                satisfied  EaseOfOnlineBooking      4\n",
       "4       39177                satisfied  EaseOfOnlineBooking      3\n",
       "...       ...                      ...                  ...    ...\n",
       "316311  78463  neutral or dissatisfied          Cleanliness      4\n",
       "316312  71167                satisfied          Cleanliness      4\n",
       "316313  37675  neutral or dissatisfied          Cleanliness      2\n",
       "316314  90086                satisfied          Cleanliness      4\n",
       "316315  34799  neutral or dissatisfied          Cleanliness      1\n",
       "\n",
       "[316316 rows x 4 columns]"
      ]
     },
     "execution_count": 40,
     "metadata": {},
     "output_type": "execute_result"
    }
   ],
   "source": [
    "melted_df = pd.melt(Passenger_Satisfaction, id_vars=['id','satisfaction'], value_vars=['EaseOfOnlineBooking','InflightWifiservice','GateLocation', 'FoodAndDrink','OnlineBoarding','SeatComfort','InflightEntertainment','OnBoardService','LegRoomService','BaggageHandling','CheckinService','InflightService','Cleanliness'])\n",
    "melted_df"
   ]
  },
  {
   "cell_type": "code",
   "execution_count": 41,
   "id": "d9621ae7-0947-415f-bbc2-2d4a828c03e6",
   "metadata": {},
   "outputs": [
    {
     "data": {
      "text/html": [
       "<div>\n",
       "<style scoped>\n",
       "    .dataframe tbody tr th:only-of-type {\n",
       "        vertical-align: middle;\n",
       "    }\n",
       "\n",
       "    .dataframe tbody tr th {\n",
       "        vertical-align: top;\n",
       "    }\n",
       "\n",
       "    .dataframe thead th {\n",
       "        text-align: right;\n",
       "    }\n",
       "</style>\n",
       "<table border=\"1\" class=\"dataframe\">\n",
       "  <thead>\n",
       "    <tr style=\"text-align: right;\">\n",
       "      <th></th>\n",
       "      <th>id</th>\n",
       "      <th>satisfaction</th>\n",
       "      <th>category</th>\n",
       "      <th>Score</th>\n",
       "    </tr>\n",
       "  </thead>\n",
       "  <tbody>\n",
       "    <tr>\n",
       "      <th>0</th>\n",
       "      <td>19556</td>\n",
       "      <td>satisfied</td>\n",
       "      <td>EaseOfOnlineBooking</td>\n",
       "      <td>3</td>\n",
       "    </tr>\n",
       "    <tr>\n",
       "      <th>1</th>\n",
       "      <td>90035</td>\n",
       "      <td>satisfied</td>\n",
       "      <td>EaseOfOnlineBooking</td>\n",
       "      <td>3</td>\n",
       "    </tr>\n",
       "    <tr>\n",
       "      <th>2</th>\n",
       "      <td>12360</td>\n",
       "      <td>neutral or dissatisfied</td>\n",
       "      <td>EaseOfOnlineBooking</td>\n",
       "      <td>2</td>\n",
       "    </tr>\n",
       "    <tr>\n",
       "      <th>3</th>\n",
       "      <td>36875</td>\n",
       "      <td>satisfied</td>\n",
       "      <td>EaseOfOnlineBooking</td>\n",
       "      <td>4</td>\n",
       "    </tr>\n",
       "    <tr>\n",
       "      <th>4</th>\n",
       "      <td>39177</td>\n",
       "      <td>satisfied</td>\n",
       "      <td>EaseOfOnlineBooking</td>\n",
       "      <td>3</td>\n",
       "    </tr>\n",
       "    <tr>\n",
       "      <th>...</th>\n",
       "      <td>...</td>\n",
       "      <td>...</td>\n",
       "      <td>...</td>\n",
       "      <td>...</td>\n",
       "    </tr>\n",
       "    <tr>\n",
       "      <th>316311</th>\n",
       "      <td>78463</td>\n",
       "      <td>neutral or dissatisfied</td>\n",
       "      <td>Cleanliness</td>\n",
       "      <td>4</td>\n",
       "    </tr>\n",
       "    <tr>\n",
       "      <th>316312</th>\n",
       "      <td>71167</td>\n",
       "      <td>satisfied</td>\n",
       "      <td>Cleanliness</td>\n",
       "      <td>4</td>\n",
       "    </tr>\n",
       "    <tr>\n",
       "      <th>316313</th>\n",
       "      <td>37675</td>\n",
       "      <td>neutral or dissatisfied</td>\n",
       "      <td>Cleanliness</td>\n",
       "      <td>2</td>\n",
       "    </tr>\n",
       "    <tr>\n",
       "      <th>316314</th>\n",
       "      <td>90086</td>\n",
       "      <td>satisfied</td>\n",
       "      <td>Cleanliness</td>\n",
       "      <td>4</td>\n",
       "    </tr>\n",
       "    <tr>\n",
       "      <th>316315</th>\n",
       "      <td>34799</td>\n",
       "      <td>neutral or dissatisfied</td>\n",
       "      <td>Cleanliness</td>\n",
       "      <td>1</td>\n",
       "    </tr>\n",
       "  </tbody>\n",
       "</table>\n",
       "<p>316316 rows × 4 columns</p>\n",
       "</div>"
      ],
      "text/plain": [
       "           id             satisfaction             category  Score\n",
       "0       19556                satisfied  EaseOfOnlineBooking      3\n",
       "1       90035                satisfied  EaseOfOnlineBooking      3\n",
       "2       12360  neutral or dissatisfied  EaseOfOnlineBooking      2\n",
       "3       36875                satisfied  EaseOfOnlineBooking      4\n",
       "4       39177                satisfied  EaseOfOnlineBooking      3\n",
       "...       ...                      ...                  ...    ...\n",
       "316311  78463  neutral or dissatisfied          Cleanliness      4\n",
       "316312  71167                satisfied          Cleanliness      4\n",
       "316313  37675  neutral or dissatisfied          Cleanliness      2\n",
       "316314  90086                satisfied          Cleanliness      4\n",
       "316315  34799  neutral or dissatisfied          Cleanliness      1\n",
       "\n",
       "[316316 rows x 4 columns]"
      ]
     },
     "execution_count": 41,
     "metadata": {},
     "output_type": "execute_result"
    }
   ],
   "source": [
    "melted_df = melted_df.rename(columns={'variable':'category','value':'Score'})\n",
    "melted_df"
   ]
  },
  {
   "cell_type": "code",
   "execution_count": 42,
   "id": "1a860547-5f33-4639-9543-cedb193067df",
   "metadata": {},
   "outputs": [
    {
     "data": {
      "image/png": "[encoded data removed]",
      "text/plain": [
       "<Figure size 720x360 with 1 Axes>"
      ]
     },
     "metadata": {
      "needs_background": "light"
     },
     "output_type": "display_data"
    }
   ],
   "source": [
    "fig, ax = plt.subplots(figsize=(10, 5))\n",
    "sns.barplot(data = melted_df, x='category', y='Score')\n",
    "plt.xticks(rotation=90)\n",
    "plt.ylim(ymax = 4, ymin =2.5)\n",
    "plt.show()"
   ]
  },
  {
   "cell_type": "markdown",
   "id": "803a9d92-563f-42e4-a448-e5ffc512c567",
   "metadata": {},
   "source": [
    "## Conclusions"
   ]
  },
  {
   "cell_type": "markdown",
   "id": "b3177d2d-2d1f-4e38-9bb3-7a79d5090c97",
   "metadata": {
    "tags": []
   },
   "source": [
    "#### מחלקות במטוס  - יש צורך לבדוק את ממשק המשתמש עבור מחלקת הביזנס למול מחלקת התיירות, האם יש שוני בין הממשקים ? ואיך ניתן לשפר את הממשק על מנת לשפר את הנוחות עבור הלקוח ? (במיקוד על מחלקת תיירות)"
   ]
  },
  {
   "cell_type": "markdown",
   "id": "865d6b8f-03ab-4265-960d-411b5ce093cf",
   "metadata": {},
   "source": [
    "   "
   ]
  },
  {
   "cell_type": "markdown",
   "id": "4af7a3f6-09b1-42ab-be35-db3f0e23ea3a",
   "metadata": {},
   "source": [
    "#### מרבית מלקוחות החברה הם לקוחות קבועים - מעל 50% מהלקוחות הקבועים אינם מרוצים לחלוטין מחוויית הטיסה אך בין הקריטריונים הם דירגו את רמת השירות והתפעול בצורה גבוה \n",
    "#### ניתן גם לראות שרוב הטיסות יוצאות ללא עיכובים במידה ויש עיכוב הוא אורך לרוב עד כ-שעה וחצי, סיבה נוספת הגורמת ללקוחות להמשיך לבחור בחברת התעופה\n"
   ]
  },
  {
   "cell_type": "markdown",
   "id": "18e9dc0d-9b96-4a7b-af30-0db5578e6a74",
   "metadata": {},
   "source": [
    "    "
   ]
  },
  {
   "cell_type": "markdown",
   "id": "8870845f-be3c-4f0a-bf89-7acfad03a70b",
   "metadata": {},
   "source": [
    "#### קהל הלקוחות הצעיר יותר פחות מרוצה בחוויית השירות - ניתן לראות שהדברים שחשובים לגילאים הצעירים יותר קשורים ליכולת הגלישה באינטרנט במטוס, והשימוש באתר בביצוע פעולות, ולכן יש לפעול לקידום תחום זה"
   ]
  },
  {
   "cell_type": "markdown",
   "id": "a05c40c0-a6c8-44d9-bbaf-10dc91ee1e7d",
   "metadata": {},
   "source": [
    "  "
   ]
  },
  {
   "cell_type": "markdown",
   "id": "f73c8827-7835-4f51-86b9-4d094368507c",
   "metadata": {},
   "source": [
    "#### באופן כללי סוגיית השיפור של האתר והגלישה במטוס משפיע על מספר קהלי יעד "
   ]
  },
  {
   "cell_type": "markdown",
   "id": "fa3a8f74-88fc-4d2c-9644-be263f344665",
   "metadata": {},
   "source": [
    "<div>\n",
    "<img src=\"https://github.com/TalRahmany/Data-Science/blob/main/Project/social-airline-passengers.jpeg?raw=true\" width=\"500\"/>\n",
    "</div>"
   ]
  }
 ],
 "metadata": {
  "kernelspec": {
   "display_name": "Python 3 (ipykernel)",
   "language": "python",
   "name": "python3"
  },
  "language_info": {
   "codemirror_mode": {
    "name": "ipython",
    "version": 3
   },
   "file_extension": ".py",
   "mimetype": "text/x-python",
   "name": "python",
   "nbconvert_exporter": "python",
   "pygments_lexer": "ipython3",
   "version": "3.9.6"
  }
 },
 "nbformat": 4,
 "nbformat_minor": 5
}
