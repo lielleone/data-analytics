{
 "cells": [
  {
   "cell_type": "markdown",
   "id": "fd70a491-4e4c-4bfc-9ed5-809b30f69981",
   "metadata": {
    "tags": []
   },
   "source": [
    "# Facebook Data"
   ]
  },
  {
   "cell_type": "markdown",
   "id": "a00f53c0-089d-4642-a392-7cb4c157c4af",
   "metadata": {
    "tags": []
   },
   "source": [
    "# Group 18\n",
    "- Gital Halal\n",
    "- Elizaveta Slobina\n",
    "- Moriya Mann\n",
    "- Tzlil Mines"
   ]
  },
  {
   "cell_type": "code",
   "execution_count": 3,
   "id": "941e36aa-e761-4b3b-a999-8af227a4d88d",
   "metadata": {},
   "outputs": [
    {
     "data": {
      "text/html": [
       "<img src=\"https://github.com/GitalLizaMoriyaTzlil/Facebook_Data/raw/main/tiny-business-people-with-smartphones-tablet-get-like-notifications-likes-addiction-thumbs-up-dependence-social-media-madness-concept-bright-vibrant-violet-isolated-illustration_335657-102.jpg\" width=\"900\" height=\"300\"/>"
      ],
      "text/plain": [
       "<IPython.core.display.Image object>"
      ]
     },
     "execution_count": 3,
     "metadata": {},
     "output_type": "execute_result"
    }
   ],
   "source": [
    "from IPython.core.display import Image\n",
    "Image(url= \"https://github.com/GitalLizaMoriyaTzlil/Facebook_Data/raw/main/tiny-business-people-with-smartphones-tablet-get-like-notifications-likes-addiction-thumbs-up-dependence-social-media-madness-concept-bright-vibrant-violet-isolated-illustration_335657-102.jpg\", width=900,height=300)"
   ]
  },
  {
   "cell_type": "code",
   "execution_count": 4,
   "id": "0d1d14d4-288b-4df2-978a-ae662ac2904e",
   "metadata": {},
   "outputs": [],
   "source": [
    "import pandas as pd\n",
    "import numpy as np\n",
    "import matplotlib.pyplot as plt\n",
    "import seaborn as sns"
   ]
  },
  {
   "cell_type": "markdown",
   "id": "77f99462-438e-48fe-9f37-40d34e034a16",
   "metadata": {
    "tags": []
   },
   "source": [
    "\n",
    "## contents:\n",
    "1. [The Dataset:](#section1)\n",
    "2. [Arranging the data:](#section2)\n",
    "3. [Presenting data and conclusions:](#section3)"
   ]
  },
  {
   "cell_type": "markdown",
   "id": "c01c9883-70cd-4e33-aa5e-ccbd3b37af54",
   "metadata": {
    "tags": []
   },
   "source": [
    "\n",
    "<a id='section1'></a>\n",
    "### The Dataset:\n",
    " This dataset contains information about Facebook users.\n",
    " Among others, We can see the age of users, the number of likes the user received and the number of likes he made, and even the number of days since the account was opened.\n",
    " This dataset contains 99903 entries with 15 columns.\n",
    " [link to the data source](https://www.kaggle.com/code/sumitupadhye12/facebook-data-eda/data) "
   ]
  },
  {
   "cell_type": "markdown",
   "id": "b923a334-0dc2-4020-9114-5eb7b78b9c67",
   "metadata": {},
   "source": [
    "We read the data from a github repository:"
   ]
  },
  {
   "cell_type": "code",
   "execution_count": 5,
   "id": "e95e6c76-c7ec-471e-82c3-3e9497bf6c66",
   "metadata": {},
   "outputs": [
    {
     "data": {
      "text/html": [
       "<div>\n",
       "<style scoped>\n",
       "    .dataframe tbody tr th:only-of-type {\n",
       "        vertical-align: middle;\n",
       "    }\n",
       "\n",
       "    .dataframe tbody tr th {\n",
       "        vertical-align: top;\n",
       "    }\n",
       "\n",
       "    .dataframe thead th {\n",
       "        text-align: right;\n",
       "    }\n",
       "</style>\n",
       "<table border=\"1\" class=\"dataframe\">\n",
       "  <thead>\n",
       "    <tr style=\"text-align: right;\">\n",
       "      <th></th>\n",
       "      <th>userid</th>\n",
       "      <th>age</th>\n",
       "      <th>dob_day</th>\n",
       "      <th>dob_year</th>\n",
       "      <th>dob_month</th>\n",
       "      <th>gender</th>\n",
       "      <th>tenure</th>\n",
       "      <th>friend_count</th>\n",
       "      <th>friendships_initiated</th>\n",
       "      <th>likes</th>\n",
       "      <th>likes_received</th>\n",
       "      <th>mobile_likes</th>\n",
       "      <th>mobile_likes_received</th>\n",
       "      <th>www_likes</th>\n",
       "      <th>www_likes_received</th>\n",
       "    </tr>\n",
       "  </thead>\n",
       "  <tbody>\n",
       "    <tr>\n",
       "      <th>0</th>\n",
       "      <td>2094382</td>\n",
       "      <td>14</td>\n",
       "      <td>19</td>\n",
       "      <td>1999</td>\n",
       "      <td>11</td>\n",
       "      <td>male</td>\n",
       "      <td>266.0</td>\n",
       "      <td>0</td>\n",
       "      <td>0</td>\n",
       "      <td>0</td>\n",
       "      <td>0</td>\n",
       "      <td>0</td>\n",
       "      <td>0</td>\n",
       "      <td>0</td>\n",
       "      <td>0</td>\n",
       "    </tr>\n",
       "    <tr>\n",
       "      <th>1</th>\n",
       "      <td>1192601</td>\n",
       "      <td>14</td>\n",
       "      <td>2</td>\n",
       "      <td>1999</td>\n",
       "      <td>11</td>\n",
       "      <td>female</td>\n",
       "      <td>6.0</td>\n",
       "      <td>0</td>\n",
       "      <td>0</td>\n",
       "      <td>0</td>\n",
       "      <td>0</td>\n",
       "      <td>0</td>\n",
       "      <td>0</td>\n",
       "      <td>0</td>\n",
       "      <td>0</td>\n",
       "    </tr>\n",
       "    <tr>\n",
       "      <th>2</th>\n",
       "      <td>2083884</td>\n",
       "      <td>14</td>\n",
       "      <td>16</td>\n",
       "      <td>1999</td>\n",
       "      <td>11</td>\n",
       "      <td>male</td>\n",
       "      <td>13.0</td>\n",
       "      <td>0</td>\n",
       "      <td>0</td>\n",
       "      <td>0</td>\n",
       "      <td>0</td>\n",
       "      <td>0</td>\n",
       "      <td>0</td>\n",
       "      <td>0</td>\n",
       "      <td>0</td>\n",
       "    </tr>\n",
       "    <tr>\n",
       "      <th>3</th>\n",
       "      <td>1203168</td>\n",
       "      <td>14</td>\n",
       "      <td>25</td>\n",
       "      <td>1999</td>\n",
       "      <td>12</td>\n",
       "      <td>female</td>\n",
       "      <td>93.0</td>\n",
       "      <td>0</td>\n",
       "      <td>0</td>\n",
       "      <td>0</td>\n",
       "      <td>0</td>\n",
       "      <td>0</td>\n",
       "      <td>0</td>\n",
       "      <td>0</td>\n",
       "      <td>0</td>\n",
       "    </tr>\n",
       "    <tr>\n",
       "      <th>4</th>\n",
       "      <td>1733186</td>\n",
       "      <td>14</td>\n",
       "      <td>4</td>\n",
       "      <td>1999</td>\n",
       "      <td>12</td>\n",
       "      <td>male</td>\n",
       "      <td>82.0</td>\n",
       "      <td>0</td>\n",
       "      <td>0</td>\n",
       "      <td>0</td>\n",
       "      <td>0</td>\n",
       "      <td>0</td>\n",
       "      <td>0</td>\n",
       "      <td>0</td>\n",
       "      <td>0</td>\n",
       "    </tr>\n",
       "    <tr>\n",
       "      <th>...</th>\n",
       "      <td>...</td>\n",
       "      <td>...</td>\n",
       "      <td>...</td>\n",
       "      <td>...</td>\n",
       "      <td>...</td>\n",
       "      <td>...</td>\n",
       "      <td>...</td>\n",
       "      <td>...</td>\n",
       "      <td>...</td>\n",
       "      <td>...</td>\n",
       "      <td>...</td>\n",
       "      <td>...</td>\n",
       "      <td>...</td>\n",
       "      <td>...</td>\n",
       "      <td>...</td>\n",
       "    </tr>\n",
       "    <tr>\n",
       "      <th>98998</th>\n",
       "      <td>1268299</td>\n",
       "      <td>68</td>\n",
       "      <td>4</td>\n",
       "      <td>1945</td>\n",
       "      <td>4</td>\n",
       "      <td>female</td>\n",
       "      <td>541.0</td>\n",
       "      <td>2118</td>\n",
       "      <td>341</td>\n",
       "      <td>3996</td>\n",
       "      <td>18089</td>\n",
       "      <td>3505</td>\n",
       "      <td>11887</td>\n",
       "      <td>491</td>\n",
       "      <td>6202</td>\n",
       "    </tr>\n",
       "    <tr>\n",
       "      <th>98999</th>\n",
       "      <td>1256153</td>\n",
       "      <td>18</td>\n",
       "      <td>12</td>\n",
       "      <td>1995</td>\n",
       "      <td>3</td>\n",
       "      <td>female</td>\n",
       "      <td>21.0</td>\n",
       "      <td>1968</td>\n",
       "      <td>1720</td>\n",
       "      <td>4401</td>\n",
       "      <td>13412</td>\n",
       "      <td>4399</td>\n",
       "      <td>10592</td>\n",
       "      <td>2</td>\n",
       "      <td>2820</td>\n",
       "    </tr>\n",
       "    <tr>\n",
       "      <th>99000</th>\n",
       "      <td>1195943</td>\n",
       "      <td>15</td>\n",
       "      <td>10</td>\n",
       "      <td>1998</td>\n",
       "      <td>5</td>\n",
       "      <td>female</td>\n",
       "      <td>111.0</td>\n",
       "      <td>2002</td>\n",
       "      <td>1524</td>\n",
       "      <td>11959</td>\n",
       "      <td>12554</td>\n",
       "      <td>11959</td>\n",
       "      <td>11462</td>\n",
       "      <td>0</td>\n",
       "      <td>1092</td>\n",
       "    </tr>\n",
       "    <tr>\n",
       "      <th>99001</th>\n",
       "      <td>1468023</td>\n",
       "      <td>23</td>\n",
       "      <td>11</td>\n",
       "      <td>1990</td>\n",
       "      <td>4</td>\n",
       "      <td>female</td>\n",
       "      <td>416.0</td>\n",
       "      <td>2560</td>\n",
       "      <td>185</td>\n",
       "      <td>4506</td>\n",
       "      <td>6516</td>\n",
       "      <td>4506</td>\n",
       "      <td>5760</td>\n",
       "      <td>0</td>\n",
       "      <td>756</td>\n",
       "    </tr>\n",
       "    <tr>\n",
       "      <th>99002</th>\n",
       "      <td>1397896</td>\n",
       "      <td>39</td>\n",
       "      <td>15</td>\n",
       "      <td>1974</td>\n",
       "      <td>5</td>\n",
       "      <td>female</td>\n",
       "      <td>397.0</td>\n",
       "      <td>2049</td>\n",
       "      <td>768</td>\n",
       "      <td>9410</td>\n",
       "      <td>12443</td>\n",
       "      <td>9410</td>\n",
       "      <td>9530</td>\n",
       "      <td>0</td>\n",
       "      <td>2913</td>\n",
       "    </tr>\n",
       "  </tbody>\n",
       "</table>\n",
       "<p>99003 rows × 15 columns</p>\n",
       "</div>"
      ],
      "text/plain": [
       "        userid  age  dob_day  dob_year  dob_month  gender  tenure  \\\n",
       "0      2094382   14       19      1999         11    male   266.0   \n",
       "1      1192601   14        2      1999         11  female     6.0   \n",
       "2      2083884   14       16      1999         11    male    13.0   \n",
       "3      1203168   14       25      1999         12  female    93.0   \n",
       "4      1733186   14        4      1999         12    male    82.0   \n",
       "...        ...  ...      ...       ...        ...     ...     ...   \n",
       "98998  1268299   68        4      1945          4  female   541.0   \n",
       "98999  1256153   18       12      1995          3  female    21.0   \n",
       "99000  1195943   15       10      1998          5  female   111.0   \n",
       "99001  1468023   23       11      1990          4  female   416.0   \n",
       "99002  1397896   39       15      1974          5  female   397.0   \n",
       "\n",
       "       friend_count  friendships_initiated  likes  likes_received  \\\n",
       "0                 0                      0      0               0   \n",
       "1                 0                      0      0               0   \n",
       "2                 0                      0      0               0   \n",
       "3                 0                      0      0               0   \n",
       "4                 0                      0      0               0   \n",
       "...             ...                    ...    ...             ...   \n",
       "98998          2118                    341   3996           18089   \n",
       "98999          1968                   1720   4401           13412   \n",
       "99000          2002                   1524  11959           12554   \n",
       "99001          2560                    185   4506            6516   \n",
       "99002          2049                    768   9410           12443   \n",
       "\n",
       "       mobile_likes  mobile_likes_received  www_likes  www_likes_received  \n",
       "0                 0                      0          0                   0  \n",
       "1                 0                      0          0                   0  \n",
       "2                 0                      0          0                   0  \n",
       "3                 0                      0          0                   0  \n",
       "4                 0                      0          0                   0  \n",
       "...             ...                    ...        ...                 ...  \n",
       "98998          3505                  11887        491                6202  \n",
       "98999          4399                  10592          2                2820  \n",
       "99000         11959                  11462          0                1092  \n",
       "99001          4506                   5760          0                 756  \n",
       "99002          9410                   9530          0                2913  \n",
       "\n",
       "[99003 rows x 15 columns]"
      ]
     },
     "execution_count": 5,
     "metadata": {},
     "output_type": "execute_result"
    }
   ],
   "source": [
    "url = 'https://github.com/GitalLizaMoriyaTzlil/Facebook_Data/raw/main/pseudo_facebook.csv'\n",
    "Facebook_data = pd.read_csv(url)\n",
    "Facebook_data"
   ]
  },
  {
   "cell_type": "markdown",
   "id": "50fab3da-3779-402c-8f7d-9da76303f6a2",
   "metadata": {},
   "source": [
    "Explain each column:"
   ]
  },
  {
   "cell_type": "code",
   "execution_count": 6,
   "id": "179d5a17-66d1-432f-91fb-e3d4a9f612c8",
   "metadata": {},
   "outputs": [
    {
     "data": {
      "text/html": [
       "<img src=\"https://raw.githubusercontent.com/GitalLizaMoriyaTzlil/Facebook_Data/main/WhatsApp%20Image%202022-05-19%20at%2018.44.38.jpeg\" width=\"900\" height=\"300\"/>"
      ],
      "text/plain": [
       "<IPython.core.display.Image object>"
      ]
     },
     "execution_count": 6,
     "metadata": {},
     "output_type": "execute_result"
    }
   ],
   "source": [
    "Image(url= \"https://raw.githubusercontent.com/GitalLizaMoriyaTzlil/Facebook_Data/main/WhatsApp%20Image%202022-05-19%20at%2018.44.38.jpeg\", width=900,height=300)"
   ]
  },
  {
   "cell_type": "code",
   "execution_count": 7,
   "id": "240d9493-686c-4f89-ad6b-8426b238be69",
   "metadata": {},
   "outputs": [],
   "source": [
    "new_Facebook_data = Facebook_data.copy()"
   ]
  },
  {
   "cell_type": "markdown",
   "id": "5dde2045-eb36-42e9-a7f3-84c9c0507c09",
   "metadata": {
    "tags": []
   },
   "source": [
    "<a id='section2'></a>\n",
    "### Arranging the data:\n",
    "We chose to refer to users between the ages of 13 and 92, Because you can sign up for Facebook from the age of 13, And we assumed it was unlikely that those aged 92 and over would sign up for Facebook, Apparently these are users who faked their year of birth when registering."
   ]
  },
  {
   "cell_type": "code",
   "execution_count": 8,
   "id": "93ed686d-2887-4760-9db3-2846ff992f45",
   "metadata": {},
   "outputs": [],
   "source": [
    "new_Facebook_data = new_Facebook_data.loc[new_Facebook_data.age<=92]"
   ]
  },
  {
   "cell_type": "markdown",
   "id": "b41d73dd-d72f-4272-8c02-5d0cd7e2b0eb",
   "metadata": {
    "tags": []
   },
   "source": [
    "#### Check missing values:"
   ]
  },
  {
   "cell_type": "code",
   "execution_count": 9,
   "id": "0d3c4446-d5b1-4dc7-a739-3d6a3e858478",
   "metadata": {},
   "outputs": [
    {
     "data": {
      "text/plain": [
       "gender                   115\n",
       "tenure                     1\n",
       "userid                     0\n",
       "age                        0\n",
       "dob_day                    0\n",
       "dob_year                   0\n",
       "dob_month                  0\n",
       "friend_count               0\n",
       "friendships_initiated      0\n",
       "likes                      0\n",
       "likes_received             0\n",
       "mobile_likes               0\n",
       "mobile_likes_received      0\n",
       "www_likes                  0\n",
       "www_likes_received         0\n",
       "dtype: int64"
      ]
     },
     "execution_count": 9,
     "metadata": {},
     "output_type": "execute_result"
    }
   ],
   "source": [
    "new_Facebook_data.isnull().sum().sort_values(ascending=False)"
   ]
  },
  {
   "cell_type": "markdown",
   "id": "0fd043f0-7961-4797-80fa-7f0267fc7098",
   "metadata": {},
   "source": [
    "We'll fill in the missing values under category tenure at 0:"
   ]
  },
  {
   "cell_type": "code",
   "execution_count": 10,
   "id": "701b3a1b-81c3-44ba-a155-c6d0d903f340",
   "metadata": {},
   "outputs": [],
   "source": [
    "new_Facebook_data.tenure.fillna('0', inplace = True )"
   ]
  },
  {
   "cell_type": "markdown",
   "id": "a2c21639-db40-4822-8754-3c500e306497",
   "metadata": {},
   "source": [
    "Fill in the missing values under gender category with 'another':"
   ]
  },
  {
   "cell_type": "code",
   "execution_count": 11,
   "id": "0000f1da-0c52-4dc4-9883-ae306c1438f0",
   "metadata": {},
   "outputs": [],
   "source": [
    "new_Facebook_data.gender.fillna('another', inplace = True )"
   ]
  },
  {
   "cell_type": "markdown",
   "id": "eea82439-9110-4e2f-87ab-c3a4c5406608",
   "metadata": {},
   "source": [
    "We assumed that users who didn't fill out the gender category probably missed it when signing up or didn't define their sexuality as a man or a woman."
   ]
  },
  {
   "cell_type": "markdown",
   "id": "0759c8e8-ed67-4f6d-b154-18ef453724a7",
   "metadata": {},
   "source": [
    "#### Fixing data types\n",
    " Check if any of the data types need to be fixed:"
   ]
  },
  {
   "cell_type": "code",
   "execution_count": 12,
   "id": "06e6ec41-f14d-4f67-bcfa-cfee23c29a7d",
   "metadata": {},
   "outputs": [
    {
     "data": {
      "text/plain": [
       "userid                    int64\n",
       "age                       int64\n",
       "dob_day                   int64\n",
       "dob_year                  int64\n",
       "dob_month                 int64\n",
       "gender                   object\n",
       "tenure                   object\n",
       "friend_count              int64\n",
       "friendships_initiated     int64\n",
       "likes                     int64\n",
       "likes_received            int64\n",
       "mobile_likes              int64\n",
       "mobile_likes_received     int64\n",
       "www_likes                 int64\n",
       "www_likes_received        int64\n",
       "dtype: object"
      ]
     },
     "execution_count": 12,
     "metadata": {},
     "output_type": "execute_result"
    }
   ],
   "source": [
    "new_Facebook_data.dtypes"
   ]
  },
  {
   "cell_type": "markdown",
   "id": "7e34a4e4-666f-4ae0-ac17-35308339f670",
   "metadata": {},
   "source": [
    "We'll leave them as objects for now, but might change them later, depending on what we will want to do"
   ]
  },
  {
   "cell_type": "markdown",
   "id": "9e51afb7-d399-4860-ac4f-cf9aee87e6de",
   "metadata": {},
   "source": [
    "Converting tenure values to int:"
   ]
  },
  {
   "cell_type": "code",
   "execution_count": 13,
   "id": "10cd308e-735e-4686-be1d-1f15cf84fd5f",
   "metadata": {},
   "outputs": [],
   "source": [
    "new_Facebook_data.tenure=new_Facebook_data.tenure.astype('int')"
   ]
  },
  {
   "cell_type": "markdown",
   "id": "eaf5eb30-6bce-4c07-a001-6726c8762b23",
   "metadata": {},
   "source": [
    "Arranging ages by groups:"
   ]
  },
  {
   "cell_type": "code",
   "execution_count": 14,
   "id": "902cbee7-d9d9-46c9-a500-34df11de0456",
   "metadata": {},
   "outputs": [],
   "source": [
    "lables1 = ['13-32','33-53','53-72','73-92']\n",
    "new_Facebook_data['age_group'] = pd.cut(new_Facebook_data['age'], bins = [13,33,53,73,93], labels = lables1, right=False)"
   ]
  },
  {
   "cell_type": "markdown",
   "id": "22df5ded-7dbb-4025-a7df-37b5bc4304e1",
   "metadata": {},
   "source": [
    "Create a new column - the number of years on Facebook:"
   ]
  },
  {
   "cell_type": "code",
   "execution_count": 15,
   "id": "d3ba70b1-a266-4ef6-8f6b-95f00d96b13e",
   "metadata": {},
   "outputs": [],
   "source": [
    "lables2 = ['0-1 year','1-2 years','2-3 years','3-4 years','4-5 years','5-6 years','6-7 years','7-8 years','8-9 years']\n",
    "new_Facebook_data['tenure_per_year'] = pd.cut(new_Facebook_data['tenure'], bins = [0,365,730,1095,1460,1825,2190,2555,2920,3285], labels = lables2, right=False)"
   ]
  },
  {
   "cell_type": "markdown",
   "id": "036e57ba-24b0-4ba2-86cb-33f5df1ac387",
   "metadata": {
    "tags": []
   },
   "source": [
    "<a id='section3'></a>\n",
    "### Presenting data and conclusions:"
   ]
  },
  {
   "cell_type": "markdown",
   "id": "3eda1fae-498c-44ea-a005-72f0136c0da8",
   "metadata": {},
   "source": [
    "- Facebook Users by Gender:"
   ]
  },
  {
   "cell_type": "code",
   "execution_count": 16,
   "id": "7000ea1f-efbf-4adf-ba96-49f860cea6d1",
   "metadata": {},
   "outputs": [
    {
     "data": {
      "image/png": "[encoded data removed]",
      "text/plain": [
       "<Figure size 432x432 with 1 Axes>"
      ]
     },
     "metadata": {},
     "output_type": "display_data"
    }
   ],
   "source": [
    "plt.figure(1, figsize=(6,6))\n",
    "plt.title(\"Distribution of gender:\")\n",
    "new_Facebook_data['gender'].value_counts().plot.pie(autopct=\"%1.1f%%\",colors = ['blue', 'pink','black'])\n",
    "plt.ylabel(\"\")\n",
    "plt.show()"
   ]
  },
  {
   "cell_type": "markdown",
   "id": "458e866c-dead-4d2f-baa7-b3a4142f7772",
   "metadata": {},
   "source": [
    "You can see that the \"other\" category is a very small part of the population so they will have little effect on our data analysis, so we will remove them from the data."
   ]
  },
  {
   "cell_type": "code",
   "execution_count": 17,
   "id": "495a6236-a8d1-4bc9-a121-1e056c5ebd12",
   "metadata": {},
   "outputs": [],
   "source": [
    "new_Facebook_data = new_Facebook_data.loc[new_Facebook_data.gender != 'another']"
   ]
  },
  {
   "cell_type": "code",
   "execution_count": 18,
   "id": "07241fe3-b9c1-4dc5-b036-ec5e44426609",
   "metadata": {},
   "outputs": [
    {
     "data": {
      "text/html": [
       "<div>\n",
       "<style scoped>\n",
       "    .dataframe tbody tr th:only-of-type {\n",
       "        vertical-align: middle;\n",
       "    }\n",
       "\n",
       "    .dataframe tbody tr th {\n",
       "        vertical-align: top;\n",
       "    }\n",
       "\n",
       "    .dataframe thead th {\n",
       "        text-align: right;\n",
       "    }\n",
       "</style>\n",
       "<table border=\"1\" class=\"dataframe\">\n",
       "  <thead>\n",
       "    <tr style=\"text-align: right;\">\n",
       "      <th></th>\n",
       "      <th>userid</th>\n",
       "      <th>age</th>\n",
       "      <th>dob_day</th>\n",
       "      <th>dob_year</th>\n",
       "      <th>dob_month</th>\n",
       "      <th>gender</th>\n",
       "      <th>tenure</th>\n",
       "      <th>friend_count</th>\n",
       "      <th>friendships_initiated</th>\n",
       "      <th>likes</th>\n",
       "      <th>likes_received</th>\n",
       "      <th>mobile_likes</th>\n",
       "      <th>mobile_likes_received</th>\n",
       "      <th>www_likes</th>\n",
       "      <th>www_likes_received</th>\n",
       "      <th>age_group</th>\n",
       "      <th>tenure_per_year</th>\n",
       "    </tr>\n",
       "  </thead>\n",
       "  <tbody>\n",
       "  </tbody>\n",
       "</table>\n",
       "</div>"
      ],
      "text/plain": [
       "Empty DataFrame\n",
       "Columns: [userid, age, dob_day, dob_year, dob_month, gender, tenure, friend_count, friendships_initiated, likes, likes_received, mobile_likes, mobile_likes_received, www_likes, www_likes_received, age_group, tenure_per_year]\n",
       "Index: []"
      ]
     },
     "execution_count": 18,
     "metadata": {},
     "output_type": "execute_result"
    }
   ],
   "source": [
    "new_Facebook_data.loc[new_Facebook_data.gender == 'another']"
   ]
  },
  {
   "cell_type": "markdown",
   "id": "89437ab7-b294-4c4b-8c5f-bf5894238ffe",
   "metadata": {},
   "source": [
    "- How many friend_count?"
   ]
  },
  {
   "cell_type": "code",
   "execution_count": 19,
   "id": "c7dcf409-17b3-404c-b71b-32d9265912e6",
   "metadata": {},
   "outputs": [
    {
     "data": {
      "text/plain": [
       "17545186"
      ]
     },
     "execution_count": 19,
     "metadata": {},
     "output_type": "execute_result"
    }
   ],
   "source": [
    "new_Facebook_data['friend_count'].sum()"
   ]
  },
  {
   "cell_type": "code",
   "execution_count": 20,
   "id": "d6f963f7-e7f5-458d-a76b-dd594d2223b6",
   "metadata": {},
   "outputs": [
    {
     "data": {
      "text/html": [
       "<div>\n",
       "<style scoped>\n",
       "    .dataframe tbody tr th:only-of-type {\n",
       "        vertical-align: middle;\n",
       "    }\n",
       "\n",
       "    .dataframe tbody tr th {\n",
       "        vertical-align: top;\n",
       "    }\n",
       "\n",
       "    .dataframe thead th {\n",
       "        text-align: right;\n",
       "    }\n",
       "</style>\n",
       "<table border=\"1\" class=\"dataframe\">\n",
       "  <thead>\n",
       "    <tr style=\"text-align: right;\">\n",
       "      <th></th>\n",
       "      <th>gender</th>\n",
       "      <th>friend_count</th>\n",
       "      <th>friendships_initiated</th>\n",
       "    </tr>\n",
       "  </thead>\n",
       "  <tbody>\n",
       "    <tr>\n",
       "      <th>0</th>\n",
       "      <td>female</td>\n",
       "      <td>8966245</td>\n",
       "      <td>4290632</td>\n",
       "    </tr>\n",
       "    <tr>\n",
       "      <th>1</th>\n",
       "      <td>male</td>\n",
       "      <td>8578941</td>\n",
       "      <td>5433924</td>\n",
       "    </tr>\n",
       "  </tbody>\n",
       "</table>\n",
       "</div>"
      ],
      "text/plain": [
       "   gender  friend_count  friendships_initiated\n",
       "0  female       8966245                4290632\n",
       "1    male       8578941                5433924"
      ]
     },
     "execution_count": 20,
     "metadata": {},
     "output_type": "execute_result"
    }
   ],
   "source": [
    "new_Facebook_data.groupby('gender')[['friend_count','friendships_initiated']].sum().reset_index()"
   ]
  },
  {
   "cell_type": "markdown",
   "id": "f77f345d-4534-413b-ba88-03ac41ac4916",
   "metadata": {},
   "source": [
    "#### Conclusion 1:"
   ]
  },
  {
   "cell_type": "markdown",
   "id": "ff33ab90-6ec6-40c3-94b6-f44d8738b970",
   "metadata": {},
   "source": [
    "- Average comparison by age group versus number of members and number of membership requests that the user initiated himself"
   ]
  },
  {
   "cell_type": "code",
   "execution_count": 21,
   "id": "ada5f516-f152-466e-be8e-82c9d1ab247b",
   "metadata": {},
   "outputs": [
    {
     "data": {
      "image/png": "[encoded data removed]",
      "text/plain": [
       "<Figure size 1440x576 with 2 Axes>"
      ]
     },
     "metadata": {
      "needs_background": "light"
     },
     "output_type": "display_data"
    }
   ],
   "source": [
    "fig, axes = plt.subplots(figsize=(20,8), ncols=2)\n",
    "sns.barplot(x = 'gender', y = 'friend_count', hue = 'age_group', data =new_Facebook_data ,palette = 'rainbow_r', order = ['male', 'female'], ci = None, ax = axes[0]);\n",
    "sns.barplot(x = 'gender', y = 'friendships_initiated', hue = 'age_group', data =new_Facebook_data ,palette = 'rainbow_r', order = ['male', 'female'], ci = None ,ax = axes[1]);"
   ]
  },
  {
   "cell_type": "markdown",
   "id": "08558a54-2a3a-4ac7-bdb1-f3c45ba0d81f",
   "metadata": {},
   "source": [
    "in the pie chart we have seen that there are more male users than female. We would think that men are more enterprising than women in everyday life and especially on Facebook, but from the two graphs you can see the exact opposite. We've accepted that women initiate more offers of friendship than men, so they probably have more friends. In addition, it can be seen from the graph that the age at which there is more number of members is 13-32, so when we want to advertise a product or anything else, we prefer to contact the women community aged 13-32 because there will be more exposure for advertising."
   ]
  },
  {
   "cell_type": "markdown",
   "id": "2331addb-7dda-418e-b258-880d058bd6bb",
   "metadata": {},
   "source": [
    "#### Conclusion 2: correlations"
   ]
  },
  {
   "cell_type": "code",
   "execution_count": 22,
   "id": "e04ea7a6-f2f1-4511-ac68-7777e97a9138",
   "metadata": {},
   "outputs": [
    {
     "data": {
      "text/html": [
       "<img src=\"https://github.com/GitalLizaMoriyaTzlil/Facebook_Data/raw/main/smartphone-with-social-media-ui-phone-template-interaction-people-through-social-networks-social-network-user-interface-with-new-likes-comments-followers-vector-illustration-3d-style_4519.webp\" width=\"1000\" height=\"300\"/>"
      ],
      "text/plain": [
       "<IPython.core.display.Image object>"
      ]
     },
     "execution_count": 22,
     "metadata": {},
     "output_type": "execute_result"
    }
   ],
   "source": [
    "from IPython.core.display import Image\n",
    "Image(url=\"https://github.com/GitalLizaMoriyaTzlil/Facebook_Data/raw/main/smartphone-with-social-media-ui-phone-template-interaction-people-through-social-networks-social-network-user-interface-with-new-likes-comments-followers-vector-illustration-3d-style_4519.webp\", width=1000,height=300)"
   ]
  },
  {
   "cell_type": "code",
   "execution_count": 23,
   "id": "543fc802-20c6-42e4-ab2e-5c3ea07618f5",
   "metadata": {},
   "outputs": [
    {
     "data": {
      "text/html": [
       "<div>\n",
       "<style scoped>\n",
       "    .dataframe tbody tr th:only-of-type {\n",
       "        vertical-align: middle;\n",
       "    }\n",
       "\n",
       "    .dataframe tbody tr th {\n",
       "        vertical-align: top;\n",
       "    }\n",
       "\n",
       "    .dataframe thead th {\n",
       "        text-align: right;\n",
       "    }\n",
       "</style>\n",
       "<table border=\"1\" class=\"dataframe\">\n",
       "  <thead>\n",
       "    <tr style=\"text-align: right;\">\n",
       "      <th></th>\n",
       "      <th>gender</th>\n",
       "      <th>friend_count</th>\n",
       "      <th>friendships_initiated</th>\n",
       "      <th>likes</th>\n",
       "      <th>likes_received</th>\n",
       "    </tr>\n",
       "  </thead>\n",
       "  <tbody>\n",
       "    <tr>\n",
       "      <th>0</th>\n",
       "      <td>female</td>\n",
       "      <td>8966245</td>\n",
       "      <td>4290632</td>\n",
       "      <td>10125718</td>\n",
       "      <td>9824409</td>\n",
       "    </tr>\n",
       "    <tr>\n",
       "      <th>1</th>\n",
       "      <td>male</td>\n",
       "      <td>8578941</td>\n",
       "      <td>5433924</td>\n",
       "      <td>4580532</td>\n",
       "      <td>3651241</td>\n",
       "    </tr>\n",
       "  </tbody>\n",
       "</table>\n",
       "</div>"
      ],
      "text/plain": [
       "   gender  friend_count  friendships_initiated     likes  likes_received\n",
       "0  female       8966245                4290632  10125718         9824409\n",
       "1    male       8578941                5433924   4580532         3651241"
      ]
     },
     "execution_count": 23,
     "metadata": {},
     "output_type": "execute_result"
    }
   ],
   "source": [
    "new_Facebook_data.groupby('gender')[['friend_count','friendships_initiated','likes', 'likes_received']].sum().reset_index()"
   ]
  },
  {
   "cell_type": "markdown",
   "id": "f429eae3-2ec5-4239-ad07-55c479164a11",
   "metadata": {},
   "source": [
    "Correlation test between likes I've made and likes I've received:"
   ]
  },
  {
   "cell_type": "code",
   "execution_count": 24,
   "id": "08ec7392-f611-444b-bf8d-108b60af19d0",
   "metadata": {},
   "outputs": [
    {
     "data": {
      "text/plain": [
       "<AxesSubplot:>"
      ]
     },
     "execution_count": 24,
     "metadata": {},
     "output_type": "execute_result"
    },
    {
     "data": {
      "image/png": "[encoded data removed]",
      "text/plain": [
       "<Figure size 1080x360 with 3 Axes>"
      ]
     },
     "metadata": {
      "needs_background": "light"
     },
     "output_type": "display_data"
    }
   ],
   "source": [
    "fig, axes = plt.subplots(figsize=(15, 5), ncols=2)\n",
    "sns.regplot(data = new_Facebook_data, x = 'likes', y = 'likes_received',ax=axes[0])\n",
    "correlation_matrix = new_Facebook_data[['likes', 'likes_received']].corr(method='kendall')\n",
    "sns.heatmap(data=correlation_matrix,cmap='Greens', annot=True, ax=axes[1])"
   ]
  },
  {
   "cell_type": "markdown",
   "id": "57d7775c-798b-4ab2-a19a-8116d9ec7124",
   "metadata": {},
   "source": [
    "You can see by heatmap and regression model that there's a relatively strong correlation between the number of likes a user has made and likes a user has received. \n",
    "From this it can be assumed that a user likes another user according to the likes they have made to him and vice versa. You could even say it's about ego games between users."
   ]
  },
  {
   "cell_type": "markdown",
   "id": "d318d190-ab90-42e8-a5a6-d9732c57d0b4",
   "metadata": {},
   "source": [
    "We'll see now if there's a connection between the likes a user made and the likes they received based on gender:"
   ]
  },
  {
   "cell_type": "code",
   "execution_count": 25,
   "id": "188e89b3-1da2-484f-b573-fb671f064b48",
   "metadata": {},
   "outputs": [
    {
     "data": {
      "text/plain": [
       "<AxesSubplot:ylabel='gender-None'>"
      ]
     },
     "execution_count": 25,
     "metadata": {},
     "output_type": "execute_result"
    },
    {
     "data": {
      "image/png": "[encoded data removed]",
      "text/plain": [
       "<Figure size 432x288 with 2 Axes>"
      ]
     },
     "metadata": {
      "needs_background": "light"
     },
     "output_type": "display_data"
    }
   ],
   "source": [
    "corr_gender = new_Facebook_data.groupby('gender')[['likes', 'likes_received']].corr(method = 'kendall')\n",
    "sns.heatmap(data=corr_gender,cmap='Greens', annot=True)"
   ]
  },
  {
   "cell_type": "markdown",
   "id": "857c25dc-2296-4634-88cb-7bbd2ca1dea2",
   "metadata": {},
   "source": [
    "You can see that in men the correlation is weaker. \n",
    "We can conclude that on men it's less influential. They're less ego-driven."
   ]
  },
  {
   "cell_type": "markdown",
   "id": "f1ac5f5e-3560-4567-99e6-761132b3647c",
   "metadata": {},
   "source": [
    "Let's now look at the likes a user received against the memberships he initiated:"
   ]
  },
  {
   "cell_type": "code",
   "execution_count": 26,
   "id": "9e681952-bc16-49ec-8ad1-318f67f5112b",
   "metadata": {},
   "outputs": [
    {
     "data": {
      "text/plain": [
       "<AxesSubplot:>"
      ]
     },
     "execution_count": 26,
     "metadata": {},
     "output_type": "execute_result"
    },
    {
     "data": {
      "image/png": "[encoded data removed]",
      "text/plain": [
       "<Figure size 432x288 with 2 Axes>"
      ]
     },
     "metadata": {
      "needs_background": "light"
     },
     "output_type": "display_data"
    }
   ],
   "source": [
    "correlation_matrix = new_Facebook_data[['likes', 'friendships_initiated']].corr(method='kendall')\n",
    "sns.heatmap(data=correlation_matrix,cmap='Greens', annot=True)"
   ]
  },
  {
   "cell_type": "markdown",
   "id": "0a44ff3f-2623-46c0-981b-414edb84e7e2",
   "metadata": {},
   "source": [
    "We would expect to see a relatively strong correlation\n",
    "Because once you initiate friendships, you increase the exposure to your posts. But we got the exact opposite. \n",
    "We can conclude that just because you initiate friendships doesn't necessarily mean you get more likes."
   ]
  },
  {
   "cell_type": "code",
   "execution_count": 27,
   "id": "356fc153-3260-4dfd-af25-5f95faaf3307",
   "metadata": {},
   "outputs": [
    {
     "data": {
      "text/html": [
       "<img src=\"https://github.com/GitalLizaMoriyaTzlil/Facebook_Data/raw/main/facebook-mobile-smartphone-ss-1920.webp\" width=\"900\" height=\"300\"/>"
      ],
      "text/plain": [
       "<IPython.core.display.Image object>"
      ]
     },
     "execution_count": 27,
     "metadata": {},
     "output_type": "execute_result"
    }
   ],
   "source": [
    "Image(url= \"https://github.com/GitalLizaMoriyaTzlil/Facebook_Data/raw/main/facebook-mobile-smartphone-ss-1920.webp\", width=900,height=300)"
   ]
  },
  {
   "cell_type": "markdown",
   "id": "dfcf5acd-5b2d-4661-bd23-fa7a95cbe18a",
   "metadata": {},
   "source": [
    "#### Conclusion 3:"
   ]
  },
  {
   "cell_type": "markdown",
   "id": "4df35768-d579-4791-8ecd-c4148ed44e98",
   "metadata": {},
   "source": [
    "- Checking Facebook usage from phone vs computer:"
   ]
  },
  {
   "cell_type": "code",
   "execution_count": 28,
   "id": "f7572fa6-32e0-452a-9284-0236d3765412",
   "metadata": {},
   "outputs": [],
   "source": [
    "new_Facebook_data['total_mobile_likes'] = new_Facebook_data[['mobile_likes', 'mobile_likes_received']].sum(axis=1)\n",
    "new_Facebook_data['total_www_likes'] = new_Facebook_data[['www_likes', 'www_likes_received']].sum(axis=1)"
   ]
  },
  {
   "cell_type": "code",
   "execution_count": 29,
   "id": "5459ffb7-0410-4dee-8beb-bf93b0220c2a",
   "metadata": {},
   "outputs": [
    {
     "data": {
      "text/plain": [
       "17962292"
      ]
     },
     "execution_count": 29,
     "metadata": {},
     "output_type": "execute_result"
    }
   ],
   "source": [
    "new_Facebook_data['total_mobile_likes'].sum()"
   ]
  },
  {
   "cell_type": "code",
   "execution_count": 30,
   "id": "bf25b5df-0d19-4959-bf0d-fc0851418475",
   "metadata": {},
   "outputs": [
    {
     "data": {
      "text/plain": [
       "10219599"
      ]
     },
     "execution_count": 30,
     "metadata": {},
     "output_type": "execute_result"
    }
   ],
   "source": [
    "new_Facebook_data['total_www_likes'].sum()"
   ]
  },
  {
   "cell_type": "code",
   "execution_count": 31,
   "id": "afb79c06-fd86-42ff-8450-b969e954145e",
   "metadata": {},
   "outputs": [
    {
     "data": {
      "image/png": "[encoded data removed]",
      "text/plain": [
       "<Figure size 864x648 with 1 Axes>"
      ]
     },
     "metadata": {},
     "output_type": "display_data"
    }
   ],
   "source": [
    "labels = 'total_mobile_likes', 'total_www_likes'\n",
    "sizes = [17962292, 10219599]\n",
    "fig1, ax1 = plt.subplots(1, figsize=(12,9))\n",
    "plt.title(\"Mobile likes vs www likes:\")\n",
    "ax1.pie(sizes, labels=labels , autopct='%1.1f%%',startangle=90,colors = ['blue', 'Purple'])\n",
    "ax1.axis('equal')  \n",
    "plt.show()"
   ]
  },
  {
   "cell_type": "markdown",
   "id": "e081f2ed-c248-46d3-b87b-bc2753268bef",
   "metadata": {},
   "source": [
    "It can be seen that using a phone is bigger than using a computer. it was obvious and did not give us any innovation or conclusion."
   ]
  },
  {
   "cell_type": "markdown",
   "id": "caf9af01-93ee-4ae8-8141-d7181e4cc42f",
   "metadata": {},
   "source": [
    "We'll check for each user what age they opened Facebook:"
   ]
  },
  {
   "cell_type": "code",
   "execution_count": 32,
   "id": "7c1036d4-6788-4020-9210-05e515061d5e",
   "metadata": {},
   "outputs": [],
   "source": [
    "new_Facebook_data['years_of_use'] = new_Facebook_data[['tenure']].apply(lambda x: x/365 )\n",
    "new_Facebook_data.years_of_use=new_Facebook_data.years_of_use.astype('int')\n",
    "new_Facebook_data['sing_up_age'] = new_Facebook_data['age'] - new_Facebook_data['years_of_use']"
   ]
  },
  {
   "cell_type": "code",
   "execution_count": 33,
   "id": "84cc22aa-dfa4-49cf-8859-49cfc2c5de01",
   "metadata": {},
   "outputs": [
    {
     "data": {
      "image/png": "[encoded data removed]",
      "text/plain": [
       "<Figure size 216x360 with 1 Axes>"
      ]
     },
     "metadata": {
      "needs_background": "light"
     },
     "output_type": "display_data"
    }
   ],
   "source": [
    "plt.figure(figsize=(3,5))\n",
    "sns.boxplot(data = new_Facebook_data[['sing_up_age']]);"
   ]
  },
  {
   "cell_type": "code",
   "execution_count": 34,
   "id": "f0f52f43-bee7-4e9b-aca2-a4e8c1eb1eb1",
   "metadata": {},
   "outputs": [
    {
     "data": {
      "text/plain": [
       "32.951684199341194"
      ]
     },
     "execution_count": 34,
     "metadata": {},
     "output_type": "execute_result"
    }
   ],
   "source": [
    "new_Facebook_data['sing_up_age'].mean()"
   ]
  },
  {
   "cell_type": "code",
   "execution_count": 35,
   "id": "87290f87-b68b-458c-8f71-f7dc9341993b",
   "metadata": {},
   "outputs": [
    {
     "data": {
      "text/plain": [
       "27.0"
      ]
     },
     "execution_count": 35,
     "metadata": {},
     "output_type": "execute_result"
    }
   ],
   "source": [
    "new_Facebook_data['sing_up_age'].median()"
   ]
  },
  {
   "cell_type": "markdown",
   "id": "e0aa296c-8cae-413a-baf5-0bbc70e59f12",
   "metadata": {
    "tags": []
   },
   "source": [
    "According to the chart, it can be seen that the median age at which you sign up for Facebook is in the age range of 27.\n",
    "It can be seen that there are quite a few exceptions in relation to the median age of the registrants\n",
    "In our hypothesis, these exceptions may indeed be people of the age in question,\n",
    "Or young children who have not reached the age where you can sign up for Facebook and fake a year of birth so they can sign up. \n",
    " \n",
    "According to an examination we conducted the facebook registration in 2013 and even now it is possible from the age of 13 \n",
    "https://www.facebook.com/help/157793540954833"
   ]
  }
 ],
 "metadata": {
  "kernelspec": {
   "display_name": "Python 3 (ipykernel)",
   "language": "python",
   "name": "python3"
  },
  "language_info": {
   "codemirror_mode": {
    "name": "ipython",
    "version": 3
   },
   "file_extension": ".py",
   "mimetype": "text/x-python",
   "name": "python",
   "nbconvert_exporter": "python",
   "pygments_lexer": "ipython3",
   "version": "3.9.6"
  }
 },
 "nbformat": 4,
 "nbformat_minor": 5
}
