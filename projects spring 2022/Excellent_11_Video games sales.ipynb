{
 "cells": [
  {
   "cell_type": "markdown",
   "id": "32526dda-51e1-47aa-ab71-96e3588bedde",
   "metadata": {
    "tags": []
   },
   "source": [
    "# Final Project - Video Games Sales"
   ]
  },
  {
   "cell_type": "markdown",
   "id": "b802b84a-a437-437c-8410-b57b5b9c8b88",
   "metadata": {
    "tags": []
   },
   "source": [
    "---\n",
    "## Group #11\n",
    "### Members:\n",
    "\n",
    "- Moshe Goldzand\n",
    "\n",
    "- Rotem Dahan\n",
    "\n",
    "- Ariel Ben Porat\n",
    "\n",
    "- Guy Uliel\n",
    "\n",
    "___"
   ]
  },
  {
   "cell_type": "markdown",
   "id": "4545721b-f304-4de8-b6f6-3e5fa9a63e0e",
   "metadata": {},
   "source": [
    "##### Link: https://www.kaggle.com/datasets/sidtwr/videogames-sales-dataset?select=Video_Games_Sales_as_at_22_Dec_2016.csv\n",
    "___"
   ]
  },
  {
   "cell_type": "markdown",
   "id": "a431fc9d-2c30-469f-965b-5ff893eb57a0",
   "metadata": {},
   "source": [
    "<div>\n",
    "<img src=\"https://raw.githubusercontent.com/guyuliel/Data-Science/main/image1.png\" width=\"1000\"/>\n",
    "</div>"
   ]
  },
  {
   "cell_type": "code",
   "execution_count": 139,
   "id": "d0902fdd-0019-407d-90b8-55ac3693aa12",
   "metadata": {},
   "outputs": [],
   "source": [
    "import pandas as pd\n",
    "import numpy as np\n",
    "import seaborn as sns\n",
    "import matplotlib.pyplot as plt"
   ]
  },
  {
   "cell_type": "markdown",
   "id": "6040d407-48f8-441b-8fff-09f771b674cd",
   "metadata": {},
   "source": [
    "# **Introduction**\n",
    "This dataset contains a list of video games with sales greater than 100,000 copies."
   ]
  },
  {
   "cell_type": "code",
   "execution_count": 140,
   "id": "10227a3b-dac1-492a-a58c-2ef0e67c56fa",
   "metadata": {},
   "outputs": [
    {
     "data": {
      "text/html": [
       "<div>\n",
       "<style scoped>\n",
       "    .dataframe tbody tr th:only-of-type {\n",
       "        vertical-align: middle;\n",
       "    }\n",
       "\n",
       "    .dataframe tbody tr th {\n",
       "        vertical-align: top;\n",
       "    }\n",
       "\n",
       "    .dataframe thead th {\n",
       "        text-align: right;\n",
       "    }\n",
       "</style>\n",
       "<table border=\"1\" class=\"dataframe\">\n",
       "  <thead>\n",
       "    <tr style=\"text-align: right;\">\n",
       "      <th></th>\n",
       "      <th>Name</th>\n",
       "      <th>Platform</th>\n",
       "      <th>Year_of_Release</th>\n",
       "      <th>Genre</th>\n",
       "      <th>Publisher</th>\n",
       "      <th>NA_Sales</th>\n",
       "      <th>EU_Sales</th>\n",
       "      <th>JP_Sales</th>\n",
       "      <th>Other_Sales</th>\n",
       "      <th>Global_Sales</th>\n",
       "      <th>Critic_Score</th>\n",
       "      <th>Critic_Count</th>\n",
       "      <th>User_Score</th>\n",
       "      <th>User_Count</th>\n",
       "      <th>Developer</th>\n",
       "      <th>Rating</th>\n",
       "    </tr>\n",
       "  </thead>\n",
       "  <tbody>\n",
       "    <tr>\n",
       "      <th>0</th>\n",
       "      <td>Wii Sports</td>\n",
       "      <td>Wii</td>\n",
       "      <td>2006.0</td>\n",
       "      <td>Sports</td>\n",
       "      <td>Nintendo</td>\n",
       "      <td>41.36</td>\n",
       "      <td>28.96</td>\n",
       "      <td>3.77</td>\n",
       "      <td>8.45</td>\n",
       "      <td>82.53</td>\n",
       "      <td>76.0</td>\n",
       "      <td>51.0</td>\n",
       "      <td>8.0</td>\n",
       "      <td>322.0</td>\n",
       "      <td>Nintendo</td>\n",
       "      <td>E</td>\n",
       "    </tr>\n",
       "    <tr>\n",
       "      <th>1</th>\n",
       "      <td>Super Mario Bros.</td>\n",
       "      <td>NES</td>\n",
       "      <td>1985.0</td>\n",
       "      <td>Platform</td>\n",
       "      <td>Nintendo</td>\n",
       "      <td>29.08</td>\n",
       "      <td>3.58</td>\n",
       "      <td>6.81</td>\n",
       "      <td>0.77</td>\n",
       "      <td>40.24</td>\n",
       "      <td>NaN</td>\n",
       "      <td>NaN</td>\n",
       "      <td>NaN</td>\n",
       "      <td>NaN</td>\n",
       "      <td>NaN</td>\n",
       "      <td>NaN</td>\n",
       "    </tr>\n",
       "    <tr>\n",
       "      <th>2</th>\n",
       "      <td>Mario Kart Wii</td>\n",
       "      <td>Wii</td>\n",
       "      <td>2008.0</td>\n",
       "      <td>Racing</td>\n",
       "      <td>Nintendo</td>\n",
       "      <td>15.68</td>\n",
       "      <td>12.76</td>\n",
       "      <td>3.79</td>\n",
       "      <td>3.29</td>\n",
       "      <td>35.52</td>\n",
       "      <td>82.0</td>\n",
       "      <td>73.0</td>\n",
       "      <td>8.3</td>\n",
       "      <td>709.0</td>\n",
       "      <td>Nintendo</td>\n",
       "      <td>E</td>\n",
       "    </tr>\n",
       "    <tr>\n",
       "      <th>3</th>\n",
       "      <td>Wii Sports Resort</td>\n",
       "      <td>Wii</td>\n",
       "      <td>2009.0</td>\n",
       "      <td>Sports</td>\n",
       "      <td>Nintendo</td>\n",
       "      <td>15.61</td>\n",
       "      <td>10.93</td>\n",
       "      <td>3.28</td>\n",
       "      <td>2.95</td>\n",
       "      <td>32.77</td>\n",
       "      <td>80.0</td>\n",
       "      <td>73.0</td>\n",
       "      <td>8.0</td>\n",
       "      <td>192.0</td>\n",
       "      <td>Nintendo</td>\n",
       "      <td>E</td>\n",
       "    </tr>\n",
       "    <tr>\n",
       "      <th>4</th>\n",
       "      <td>Pokemon Red/Pokemon Blue</td>\n",
       "      <td>GB</td>\n",
       "      <td>1996.0</td>\n",
       "      <td>Role-Playing</td>\n",
       "      <td>Nintendo</td>\n",
       "      <td>11.27</td>\n",
       "      <td>8.89</td>\n",
       "      <td>10.22</td>\n",
       "      <td>1.00</td>\n",
       "      <td>31.37</td>\n",
       "      <td>NaN</td>\n",
       "      <td>NaN</td>\n",
       "      <td>NaN</td>\n",
       "      <td>NaN</td>\n",
       "      <td>NaN</td>\n",
       "      <td>NaN</td>\n",
       "    </tr>\n",
       "  </tbody>\n",
       "</table>\n",
       "</div>"
      ],
      "text/plain": [
       "                       Name Platform  Year_of_Release         Genre Publisher  \\\n",
       "0                Wii Sports      Wii           2006.0        Sports  Nintendo   \n",
       "1         Super Mario Bros.      NES           1985.0      Platform  Nintendo   \n",
       "2            Mario Kart Wii      Wii           2008.0        Racing  Nintendo   \n",
       "3         Wii Sports Resort      Wii           2009.0        Sports  Nintendo   \n",
       "4  Pokemon Red/Pokemon Blue       GB           1996.0  Role-Playing  Nintendo   \n",
       "\n",
       "   NA_Sales  EU_Sales  JP_Sales  Other_Sales  Global_Sales  Critic_Score  \\\n",
       "0     41.36     28.96      3.77         8.45         82.53          76.0   \n",
       "1     29.08      3.58      6.81         0.77         40.24           NaN   \n",
       "2     15.68     12.76      3.79         3.29         35.52          82.0   \n",
       "3     15.61     10.93      3.28         2.95         32.77          80.0   \n",
       "4     11.27      8.89     10.22         1.00         31.37           NaN   \n",
       "\n",
       "   Critic_Count  User_Score  User_Count Developer Rating  \n",
       "0          51.0         8.0       322.0  Nintendo      E  \n",
       "1           NaN         NaN         NaN       NaN    NaN  \n",
       "2          73.0         8.3       709.0  Nintendo      E  \n",
       "3          73.0         8.0       192.0  Nintendo      E  \n",
       "4           NaN         NaN         NaN       NaN    NaN  "
      ]
     },
     "execution_count": 140,
     "metadata": {},
     "output_type": "execute_result"
    }
   ],
   "source": [
    "url = \"https://raw.githubusercontent.com/guyuliel/Data-Science/main/Video_Games_Sales_as_at_22_Dec_2016.csv\"\n",
    "myfile = pd.read_csv(url)\n",
    "myfile.head()"
   ]
  },
  {
   "cell_type": "markdown",
   "id": "57ed0027-b98d-4cf7-a333-7476f75d072c",
   "metadata": {},
   "source": [
    "##### ##The sales categories are displayed in Millions##"
   ]
  },
  {
   "cell_type": "code",
   "execution_count": 141,
   "id": "188e6c8c-a2fc-4bf7-ae19-fcdf0693aa43",
   "metadata": {},
   "outputs": [
    {
     "data": {
      "text/plain": [
       "Name                  2\n",
       "Platform              0\n",
       "Year_of_Release     269\n",
       "Genre                 2\n",
       "Publisher            54\n",
       "NA_Sales              0\n",
       "EU_Sales              0\n",
       "JP_Sales              0\n",
       "Other_Sales           0\n",
       "Global_Sales          0\n",
       "Critic_Score       8582\n",
       "Critic_Count       8582\n",
       "User_Score         9129\n",
       "User_Count         9129\n",
       "Developer          6623\n",
       "Rating             6769\n",
       "dtype: int64"
      ]
     },
     "execution_count": 141,
     "metadata": {},
     "output_type": "execute_result"
    }
   ],
   "source": [
    "myfile.isnull().sum()"
   ]
  },
  {
   "cell_type": "markdown",
   "id": "cf729093-f0ce-4be4-9119-fda1de7cb923",
   "metadata": {},
   "source": [
    "As we can see, there are 6 columns that contains more than 6500 missing values. Therefore, we chose to remove them from our data frame"
   ]
  },
  {
   "cell_type": "code",
   "execution_count": 142,
   "id": "58cb9dd5-6ff4-4afd-9e54-1bf99b0ace72",
   "metadata": {},
   "outputs": [
    {
     "data": {
      "text/plain": [
       "Name                 2\n",
       "Platform             0\n",
       "Year_of_Release    269\n",
       "Genre                2\n",
       "Publisher           54\n",
       "NA_Sales             0\n",
       "EU_Sales             0\n",
       "JP_Sales             0\n",
       "Other_Sales          0\n",
       "Global_Sales         0\n",
       "dtype: int64"
      ]
     },
     "execution_count": 142,
     "metadata": {},
     "output_type": "execute_result"
    }
   ],
   "source": [
    "myfile = myfile.iloc[:,0:10]\n",
    "myfile.isnull().sum()"
   ]
  },
  {
   "cell_type": "markdown",
   "id": "78a9d75a-7b4c-4dfc-99a8-bc44c26f7977",
   "metadata": {},
   "source": [
    "we want to find out the indexes of the mising names:"
   ]
  },
  {
   "cell_type": "code",
   "execution_count": 143,
   "id": "334bf9b9-f800-4159-a05f-343dee603504",
   "metadata": {},
   "outputs": [
    {
     "data": {
      "text/plain": [
       "[659, 14246]"
      ]
     },
     "execution_count": 143,
     "metadata": {},
     "output_type": "execute_result"
    }
   ],
   "source": [
    "name_nan = myfile[[\"Name\"]]\n",
    "rows_with_nan = []\n",
    "for index, row in name_nan.iterrows():\n",
    "    is_nan_series = row.isnull()\n",
    "    if is_nan_series.any():\n",
    "        rows_with_nan.append(index)\n",
    "rows_with_nan"
   ]
  },
  {
   "cell_type": "code",
   "execution_count": 144,
   "id": "0bd0458a-e831-4fcf-995a-18e330b23cec",
   "metadata": {},
   "outputs": [
    {
     "data": {
      "text/plain": [
       "(16719, 10)"
      ]
     },
     "execution_count": 144,
     "metadata": {},
     "output_type": "execute_result"
    }
   ],
   "source": [
    "myfile.shape"
   ]
  },
  {
   "cell_type": "code",
   "execution_count": 145,
   "id": "80772eb9-c8d2-4554-9e33-1b5c3cba1779",
   "metadata": {},
   "outputs": [
    {
     "data": {
      "text/html": [
       "<div>\n",
       "<style scoped>\n",
       "    .dataframe tbody tr th:only-of-type {\n",
       "        vertical-align: middle;\n",
       "    }\n",
       "\n",
       "    .dataframe tbody tr th {\n",
       "        vertical-align: top;\n",
       "    }\n",
       "\n",
       "    .dataframe thead th {\n",
       "        text-align: right;\n",
       "    }\n",
       "</style>\n",
       "<table border=\"1\" class=\"dataframe\">\n",
       "  <thead>\n",
       "    <tr style=\"text-align: right;\">\n",
       "      <th></th>\n",
       "      <th>Name</th>\n",
       "      <th>Platform</th>\n",
       "      <th>Year_of_Release</th>\n",
       "      <th>Genre</th>\n",
       "      <th>Publisher</th>\n",
       "      <th>NA_Sales</th>\n",
       "      <th>EU_Sales</th>\n",
       "      <th>JP_Sales</th>\n",
       "      <th>Other_Sales</th>\n",
       "      <th>Global_Sales</th>\n",
       "    </tr>\n",
       "  </thead>\n",
       "  <tbody>\n",
       "    <tr>\n",
       "      <th>659</th>\n",
       "      <td>NaN</td>\n",
       "      <td>GEN</td>\n",
       "      <td>1993.0</td>\n",
       "      <td>NaN</td>\n",
       "      <td>Acclaim Entertainment</td>\n",
       "      <td>1.78</td>\n",
       "      <td>0.53</td>\n",
       "      <td>0.00</td>\n",
       "      <td>0.08</td>\n",
       "      <td>2.39</td>\n",
       "    </tr>\n",
       "    <tr>\n",
       "      <th>14246</th>\n",
       "      <td>NaN</td>\n",
       "      <td>GEN</td>\n",
       "      <td>1993.0</td>\n",
       "      <td>NaN</td>\n",
       "      <td>Acclaim Entertainment</td>\n",
       "      <td>0.00</td>\n",
       "      <td>0.00</td>\n",
       "      <td>0.03</td>\n",
       "      <td>0.00</td>\n",
       "      <td>0.03</td>\n",
       "    </tr>\n",
       "  </tbody>\n",
       "</table>\n",
       "</div>"
      ],
      "text/plain": [
       "      Name Platform  Year_of_Release Genre              Publisher  NA_Sales  \\\n",
       "659    NaN      GEN           1993.0   NaN  Acclaim Entertainment      1.78   \n",
       "14246  NaN      GEN           1993.0   NaN  Acclaim Entertainment      0.00   \n",
       "\n",
       "       EU_Sales  JP_Sales  Other_Sales  Global_Sales  \n",
       "659        0.53      0.00         0.08          2.39  \n",
       "14246      0.00      0.03         0.00          0.03  "
      ]
     },
     "execution_count": 145,
     "metadata": {},
     "output_type": "execute_result"
    }
   ],
   "source": [
    "myfile.iloc[[659,14246]]"
   ]
  },
  {
   "cell_type": "markdown",
   "id": "34ecae56-08b7-4803-a44c-a31148a1959b",
   "metadata": {},
   "source": [
    "we found out that there are only two rows with NAN and also they contains the genre NAN's,so we decided to remove those 2 rows."
   ]
  },
  {
   "cell_type": "code",
   "execution_count": 146,
   "id": "93a25171-8961-43fc-9a04-b58bc45ff94f",
   "metadata": {},
   "outputs": [
    {
     "data": {
      "text/plain": [
       "(16717, 10)"
      ]
     },
     "execution_count": 146,
     "metadata": {},
     "output_type": "execute_result"
    }
   ],
   "source": [
    "myfile.dropna(subset = \"Name\",inplace = True)\n",
    "myfile.shape"
   ]
  },
  {
   "cell_type": "code",
   "execution_count": 147,
   "id": "5aab1d11-7e4b-4a3f-b8e0-06c29bff298f",
   "metadata": {},
   "outputs": [
    {
     "data": {
      "text/plain": [
       "Name                 0\n",
       "Platform             0\n",
       "Year_of_Release    269\n",
       "Genre                0\n",
       "Publisher           54\n",
       "NA_Sales             0\n",
       "EU_Sales             0\n",
       "JP_Sales             0\n",
       "Other_Sales          0\n",
       "Global_Sales         0\n",
       "dtype: int64"
      ]
     },
     "execution_count": 147,
     "metadata": {},
     "output_type": "execute_result"
    }
   ],
   "source": [
    "myfile.isnull().sum()"
   ]
  },
  {
   "cell_type": "markdown",
   "id": "1a2c669f-53f1-4097-acaf-652826d4971e",
   "metadata": {},
   "source": [
    "for the publiher missing values, we intend to look for a publisher whose name is: \"Unknown\""
   ]
  },
  {
   "cell_type": "code",
   "execution_count": 148,
   "id": "e746dbc0-1032-4f7f-b126-ced8e353064d",
   "metadata": {},
   "outputs": [
    {
     "data": {
      "text/plain": [
       "Publisher    201\n",
       "dtype: int64"
      ]
     },
     "execution_count": 148,
     "metadata": {},
     "output_type": "execute_result"
    }
   ],
   "source": [
    "publisher_colunm = myfile[[\"Publisher\"]]\n",
    "publisher_colunm.loc[publisher_colunm[\"Publisher\"]==\"Unknown\"].count()"
   ]
  },
  {
   "cell_type": "markdown",
   "id": "b37bd2c6-92e6-4b56-9e55-030ab96299f7",
   "metadata": {},
   "source": [
    "we found out that there are 201 games without a known publisher. \n",
    "We will classify all 54 games with missing values, to the existing \"Unknown\" publisher"
   ]
  },
  {
   "cell_type": "code",
   "execution_count": 149,
   "id": "80262166-c866-450a-94fd-36403c52a248",
   "metadata": {},
   "outputs": [],
   "source": [
    "myfile[\"Publisher\"].fillna(\"Unknown\",inplace = True)"
   ]
  },
  {
   "cell_type": "code",
   "execution_count": 150,
   "id": "68ef0ec4-81bf-4891-b8e1-b91c24898d66",
   "metadata": {},
   "outputs": [
    {
     "data": {
      "text/plain": [
       "Publisher    255\n",
       "dtype: int64"
      ]
     },
     "execution_count": 150,
     "metadata": {},
     "output_type": "execute_result"
    }
   ],
   "source": [
    "publisher_colunm1 = myfile[[\"Publisher\"]]\n",
    "publisher_colunm1.loc[publisher_colunm1[\"Publisher\"]==\"Unknown\"].count()"
   ]
  },
  {
   "cell_type": "code",
   "execution_count": 151,
   "id": "671c6895-e7d3-4050-ad4e-4f7cf88009a6",
   "metadata": {},
   "outputs": [
    {
     "data": {
      "text/plain": [
       "Name                 0\n",
       "Platform             0\n",
       "Year_of_Release    269\n",
       "Genre                0\n",
       "Publisher            0\n",
       "NA_Sales             0\n",
       "EU_Sales             0\n",
       "JP_Sales             0\n",
       "Other_Sales          0\n",
       "Global_Sales         0\n",
       "dtype: int64"
      ]
     },
     "execution_count": 151,
     "metadata": {},
     "output_type": "execute_result"
    }
   ],
   "source": [
    "myfile.isnull().sum()"
   ]
  },
  {
   "cell_type": "markdown",
   "id": "2ea4df06-9ed8-4bbb-a7d1-51748e3a9de4",
   "metadata": {},
   "source": [
    "The last category left to fix is the year of release colunm.\n",
    "as we can see we have got 269 missing years.\n",
    "therefore, We decided to produce a fictitious year (2020) that would incorporate all the missing years\n"
   ]
  },
  {
   "cell_type": "markdown",
   "id": "44918df0-df46-4142-9e17-88ee3e4c0b10",
   "metadata": {},
   "source": [
    "before that, we wanted to make sure all the values(except of the missing values), are numeric"
   ]
  },
  {
   "cell_type": "code",
   "execution_count": 152,
   "id": "b4231a01-de4d-432a-9673-630a00e80270",
   "metadata": {},
   "outputs": [
    {
     "data": {
      "text/plain": [
       "array([2006., 1985., 2008., 2009., 1996., 1989., 1984., 2005., 1999.,\n",
       "       2007., 2010., 2013., 2004., 1990., 1988., 2002., 2001., 2011.,\n",
       "       1998., 2015., 2012., 2014., 1992., 1997., 1993., 1994., 1982.,\n",
       "       2016., 2003., 1986., 2000.,   nan, 1995., 1991., 1981., 1987.,\n",
       "       1980., 1983., 2020., 2017.])"
      ]
     },
     "execution_count": 152,
     "metadata": {},
     "output_type": "execute_result"
    }
   ],
   "source": [
    "myfile[\"Year_of_Release\"].unique()"
   ]
  },
  {
   "cell_type": "markdown",
   "id": "0b459a3b-9041-43c3-861a-cb22278f0e96",
   "metadata": {},
   "source": [
    "**Yes ! They are indeed numerical values.**"
   ]
  },
  {
   "cell_type": "code",
   "execution_count": 153,
   "id": "15bce5de-70f4-4309-b0a4-11afd80390c7",
   "metadata": {},
   "outputs": [
    {
     "name": "stdout",
     "output_type": "stream",
     "text": [
      "<class 'pandas.core.frame.DataFrame'>\n",
      "Int64Index: 16717 entries, 0 to 16718\n",
      "Data columns (total 10 columns):\n",
      " #   Column           Non-Null Count  Dtype  \n",
      "---  ------           --------------  -----  \n",
      " 0   Name             16717 non-null  object \n",
      " 1   Platform         16717 non-null  object \n",
      " 2   Year_of_Release  16448 non-null  float64\n",
      " 3   Genre            16717 non-null  object \n",
      " 4   Publisher        16717 non-null  object \n",
      " 5   NA_Sales         16717 non-null  float64\n",
      " 6   EU_Sales         16717 non-null  float64\n",
      " 7   JP_Sales         16717 non-null  float64\n",
      " 8   Other_Sales      16717 non-null  float64\n",
      " 9   Global_Sales     16717 non-null  float64\n",
      "dtypes: float64(6), object(4)\n",
      "memory usage: 1.4+ MB\n"
     ]
    }
   ],
   "source": [
    "myfile.info()"
   ]
  },
  {
   "cell_type": "markdown",
   "id": "2c839b0c-e2c7-4480-9465-9e178241eafc",
   "metadata": {},
   "source": [
    "we are going to convert the year's type from float to an int"
   ]
  },
  {
   "cell_type": "code",
   "execution_count": 154,
   "id": "86a7150e-9b6e-4761-8e9b-5278a27ee8a3",
   "metadata": {
    "tags": []
   },
   "outputs": [
    {
     "name": "stdout",
     "output_type": "stream",
     "text": [
      "<class 'pandas.core.frame.DataFrame'>\n",
      "Int64Index: 16717 entries, 0 to 16718\n",
      "Data columns (total 10 columns):\n",
      " #   Column           Non-Null Count  Dtype  \n",
      "---  ------           --------------  -----  \n",
      " 0   Name             16717 non-null  object \n",
      " 1   Platform         16717 non-null  object \n",
      " 2   Year_of_Release  16717 non-null  int32  \n",
      " 3   Genre            16717 non-null  object \n",
      " 4   Publisher        16717 non-null  object \n",
      " 5   NA_Sales         16717 non-null  float64\n",
      " 6   EU_Sales         16717 non-null  float64\n",
      " 7   JP_Sales         16717 non-null  float64\n",
      " 8   Other_Sales      16717 non-null  float64\n",
      " 9   Global_Sales     16717 non-null  float64\n",
      "dtypes: float64(5), int32(1), object(4)\n",
      "memory usage: 1.3+ MB\n"
     ]
    }
   ],
   "source": [
    "myfile['Year_of_Release'].fillna(\"2020\", inplace = True)\n",
    "myfile['Year_of_Release']=myfile['Year_of_Release'].astype(int)\n",
    "myfile.info()"
   ]
  },
  {
   "cell_type": "code",
   "execution_count": 155,
   "id": "f66eb999-608d-4bd8-b89e-abbce921d37f",
   "metadata": {
    "tags": []
   },
   "outputs": [
    {
     "data": {
      "text/plain": [
       "Name               0\n",
       "Platform           0\n",
       "Year_of_Release    0\n",
       "Genre              0\n",
       "Publisher          0\n",
       "NA_Sales           0\n",
       "EU_Sales           0\n",
       "JP_Sales           0\n",
       "Other_Sales        0\n",
       "Global_Sales       0\n",
       "dtype: int64"
      ]
     },
     "execution_count": 155,
     "metadata": {},
     "output_type": "execute_result"
    }
   ],
   "source": [
    "myfile.isnull().sum()"
   ]
  },
  {
   "cell_type": "markdown",
   "id": "779574c8-625c-427c-9a9d-bf505559e175",
   "metadata": {},
   "source": [
    "### Fixed Data :"
   ]
  },
  {
   "cell_type": "code",
   "execution_count": 156,
   "id": "4ffc14ec-67b0-4f90-93d4-11cec8c43128",
   "metadata": {
    "tags": []
   },
   "outputs": [
    {
     "data": {
      "text/html": [
       "<div>\n",
       "<style scoped>\n",
       "    .dataframe tbody tr th:only-of-type {\n",
       "        vertical-align: middle;\n",
       "    }\n",
       "\n",
       "    .dataframe tbody tr th {\n",
       "        vertical-align: top;\n",
       "    }\n",
       "\n",
       "    .dataframe thead th {\n",
       "        text-align: right;\n",
       "    }\n",
       "</style>\n",
       "<table border=\"1\" class=\"dataframe\">\n",
       "  <thead>\n",
       "    <tr style=\"text-align: right;\">\n",
       "      <th></th>\n",
       "      <th>Name</th>\n",
       "      <th>Platform</th>\n",
       "      <th>Year_of_Release</th>\n",
       "      <th>Genre</th>\n",
       "      <th>Publisher</th>\n",
       "      <th>NA_Sales</th>\n",
       "      <th>EU_Sales</th>\n",
       "      <th>JP_Sales</th>\n",
       "      <th>Other_Sales</th>\n",
       "      <th>Global_Sales</th>\n",
       "    </tr>\n",
       "  </thead>\n",
       "  <tbody>\n",
       "    <tr>\n",
       "      <th>0</th>\n",
       "      <td>Wii Sports</td>\n",
       "      <td>Wii</td>\n",
       "      <td>2006</td>\n",
       "      <td>Sports</td>\n",
       "      <td>Nintendo</td>\n",
       "      <td>41.36</td>\n",
       "      <td>28.96</td>\n",
       "      <td>3.77</td>\n",
       "      <td>8.45</td>\n",
       "      <td>82.53</td>\n",
       "    </tr>\n",
       "    <tr>\n",
       "      <th>1</th>\n",
       "      <td>Super Mario Bros.</td>\n",
       "      <td>NES</td>\n",
       "      <td>1985</td>\n",
       "      <td>Platform</td>\n",
       "      <td>Nintendo</td>\n",
       "      <td>29.08</td>\n",
       "      <td>3.58</td>\n",
       "      <td>6.81</td>\n",
       "      <td>0.77</td>\n",
       "      <td>40.24</td>\n",
       "    </tr>\n",
       "    <tr>\n",
       "      <th>2</th>\n",
       "      <td>Mario Kart Wii</td>\n",
       "      <td>Wii</td>\n",
       "      <td>2008</td>\n",
       "      <td>Racing</td>\n",
       "      <td>Nintendo</td>\n",
       "      <td>15.68</td>\n",
       "      <td>12.76</td>\n",
       "      <td>3.79</td>\n",
       "      <td>3.29</td>\n",
       "      <td>35.52</td>\n",
       "    </tr>\n",
       "    <tr>\n",
       "      <th>3</th>\n",
       "      <td>Wii Sports Resort</td>\n",
       "      <td>Wii</td>\n",
       "      <td>2009</td>\n",
       "      <td>Sports</td>\n",
       "      <td>Nintendo</td>\n",
       "      <td>15.61</td>\n",
       "      <td>10.93</td>\n",
       "      <td>3.28</td>\n",
       "      <td>2.95</td>\n",
       "      <td>32.77</td>\n",
       "    </tr>\n",
       "    <tr>\n",
       "      <th>4</th>\n",
       "      <td>Pokemon Red/Pokemon Blue</td>\n",
       "      <td>GB</td>\n",
       "      <td>1996</td>\n",
       "      <td>Role-Playing</td>\n",
       "      <td>Nintendo</td>\n",
       "      <td>11.27</td>\n",
       "      <td>8.89</td>\n",
       "      <td>10.22</td>\n",
       "      <td>1.00</td>\n",
       "      <td>31.37</td>\n",
       "    </tr>\n",
       "    <tr>\n",
       "      <th>...</th>\n",
       "      <td>...</td>\n",
       "      <td>...</td>\n",
       "      <td>...</td>\n",
       "      <td>...</td>\n",
       "      <td>...</td>\n",
       "      <td>...</td>\n",
       "      <td>...</td>\n",
       "      <td>...</td>\n",
       "      <td>...</td>\n",
       "      <td>...</td>\n",
       "    </tr>\n",
       "    <tr>\n",
       "      <th>16714</th>\n",
       "      <td>Samurai Warriors: Sanada Maru</td>\n",
       "      <td>PS3</td>\n",
       "      <td>2016</td>\n",
       "      <td>Action</td>\n",
       "      <td>Tecmo Koei</td>\n",
       "      <td>0.00</td>\n",
       "      <td>0.00</td>\n",
       "      <td>0.01</td>\n",
       "      <td>0.00</td>\n",
       "      <td>0.01</td>\n",
       "    </tr>\n",
       "    <tr>\n",
       "      <th>16715</th>\n",
       "      <td>LMA Manager 2007</td>\n",
       "      <td>X360</td>\n",
       "      <td>2006</td>\n",
       "      <td>Sports</td>\n",
       "      <td>Codemasters</td>\n",
       "      <td>0.00</td>\n",
       "      <td>0.01</td>\n",
       "      <td>0.00</td>\n",
       "      <td>0.00</td>\n",
       "      <td>0.01</td>\n",
       "    </tr>\n",
       "    <tr>\n",
       "      <th>16716</th>\n",
       "      <td>Haitaka no Psychedelica</td>\n",
       "      <td>PSV</td>\n",
       "      <td>2016</td>\n",
       "      <td>Adventure</td>\n",
       "      <td>Idea Factory</td>\n",
       "      <td>0.00</td>\n",
       "      <td>0.00</td>\n",
       "      <td>0.01</td>\n",
       "      <td>0.00</td>\n",
       "      <td>0.01</td>\n",
       "    </tr>\n",
       "    <tr>\n",
       "      <th>16717</th>\n",
       "      <td>Spirits &amp; Spells</td>\n",
       "      <td>GBA</td>\n",
       "      <td>2003</td>\n",
       "      <td>Platform</td>\n",
       "      <td>Wanadoo</td>\n",
       "      <td>0.01</td>\n",
       "      <td>0.00</td>\n",
       "      <td>0.00</td>\n",
       "      <td>0.00</td>\n",
       "      <td>0.01</td>\n",
       "    </tr>\n",
       "    <tr>\n",
       "      <th>16718</th>\n",
       "      <td>Winning Post 8 2016</td>\n",
       "      <td>PSV</td>\n",
       "      <td>2016</td>\n",
       "      <td>Simulation</td>\n",
       "      <td>Tecmo Koei</td>\n",
       "      <td>0.00</td>\n",
       "      <td>0.00</td>\n",
       "      <td>0.01</td>\n",
       "      <td>0.00</td>\n",
       "      <td>0.01</td>\n",
       "    </tr>\n",
       "  </tbody>\n",
       "</table>\n",
       "<p>16717 rows × 10 columns</p>\n",
       "</div>"
      ],
      "text/plain": [
       "                                Name Platform  Year_of_Release         Genre  \\\n",
       "0                         Wii Sports      Wii             2006        Sports   \n",
       "1                  Super Mario Bros.      NES             1985      Platform   \n",
       "2                     Mario Kart Wii      Wii             2008        Racing   \n",
       "3                  Wii Sports Resort      Wii             2009        Sports   \n",
       "4           Pokemon Red/Pokemon Blue       GB             1996  Role-Playing   \n",
       "...                              ...      ...              ...           ...   \n",
       "16714  Samurai Warriors: Sanada Maru      PS3             2016        Action   \n",
       "16715               LMA Manager 2007     X360             2006        Sports   \n",
       "16716        Haitaka no Psychedelica      PSV             2016     Adventure   \n",
       "16717               Spirits & Spells      GBA             2003      Platform   \n",
       "16718            Winning Post 8 2016      PSV             2016    Simulation   \n",
       "\n",
       "          Publisher  NA_Sales  EU_Sales  JP_Sales  Other_Sales  Global_Sales  \n",
       "0          Nintendo     41.36     28.96      3.77         8.45         82.53  \n",
       "1          Nintendo     29.08      3.58      6.81         0.77         40.24  \n",
       "2          Nintendo     15.68     12.76      3.79         3.29         35.52  \n",
       "3          Nintendo     15.61     10.93      3.28         2.95         32.77  \n",
       "4          Nintendo     11.27      8.89     10.22         1.00         31.37  \n",
       "...             ...       ...       ...       ...          ...           ...  \n",
       "16714    Tecmo Koei      0.00      0.00      0.01         0.00          0.01  \n",
       "16715   Codemasters      0.00      0.01      0.00         0.00          0.01  \n",
       "16716  Idea Factory      0.00      0.00      0.01         0.00          0.01  \n",
       "16717       Wanadoo      0.01      0.00      0.00         0.00          0.01  \n",
       "16718    Tecmo Koei      0.00      0.00      0.01         0.00          0.01  \n",
       "\n",
       "[16717 rows x 10 columns]"
      ]
     },
     "execution_count": 156,
     "metadata": {},
     "output_type": "execute_result"
    }
   ],
   "source": [
    "myfile"
   ]
  },
  {
   "cell_type": "markdown",
   "id": "670eb551-bf9f-489a-a973-c9572cf24338",
   "metadata": {},
   "source": [
    "---"
   ]
  },
  {
   "cell_type": "markdown",
   "id": "5fc3499f-67a5-4c11-8393-fa08ab59b698",
   "metadata": {},
   "source": [
    "# **Publisher's sales**\n",
    "## ***Observation 1***"
   ]
  },
  {
   "cell_type": "markdown",
   "id": "81f135b5-1261-47ae-8fdc-fc41b5d49693",
   "metadata": {},
   "source": [
    "##### It is important to note that Nintendo is presented in our data frame as a publisher, but further ahaed we present all the consoles belonging to the Nintendo company(Not the publisher)"
   ]
  },
  {
   "cell_type": "markdown",
   "id": "4d8bfa36-daed-482f-8384-c74e57a8a4a1",
   "metadata": {},
   "source": [
    "### Initially, we will research and focus on the publisher's global sales \n",
    "#####  we'll see the amount of games published and the total global sales(by milions), for each publisher\n",
    "\n"
   ]
  },
  {
   "cell_type": "code",
   "execution_count": 157,
   "id": "9d878fe8-7d52-49d9-aeda-04c8d97e6430",
   "metadata": {},
   "outputs": [
    {
     "data": {
      "text/html": [
       "<div>\n",
       "<style scoped>\n",
       "    .dataframe tbody tr th:only-of-type {\n",
       "        vertical-align: middle;\n",
       "    }\n",
       "\n",
       "    .dataframe tbody tr th {\n",
       "        vertical-align: top;\n",
       "    }\n",
       "\n",
       "    .dataframe thead th {\n",
       "        text-align: right;\n",
       "    }\n",
       "</style>\n",
       "<table border=\"1\" class=\"dataframe\">\n",
       "  <thead>\n",
       "    <tr style=\"text-align: right;\">\n",
       "      <th></th>\n",
       "      <th>Publisher</th>\n",
       "      <th>Num_of_Games_of_Publisher</th>\n",
       "      <th>Global_Sales</th>\n",
       "    </tr>\n",
       "  </thead>\n",
       "  <tbody>\n",
       "    <tr>\n",
       "      <th>0</th>\n",
       "      <td>Electronic Arts</td>\n",
       "      <td>1356</td>\n",
       "      <td>1116.96</td>\n",
       "    </tr>\n",
       "    <tr>\n",
       "      <th>1</th>\n",
       "      <td>Activision</td>\n",
       "      <td>985</td>\n",
       "      <td>731.16</td>\n",
       "    </tr>\n",
       "    <tr>\n",
       "      <th>2</th>\n",
       "      <td>Namco Bandai Games</td>\n",
       "      <td>939</td>\n",
       "      <td>254.62</td>\n",
       "    </tr>\n",
       "    <tr>\n",
       "      <th>3</th>\n",
       "      <td>Ubisoft</td>\n",
       "      <td>933</td>\n",
       "      <td>471.61</td>\n",
       "    </tr>\n",
       "    <tr>\n",
       "      <th>4</th>\n",
       "      <td>Konami Digital Entertainment</td>\n",
       "      <td>834</td>\n",
       "      <td>282.39</td>\n",
       "    </tr>\n",
       "    <tr>\n",
       "      <th>5</th>\n",
       "      <td>THQ</td>\n",
       "      <td>715</td>\n",
       "      <td>338.44</td>\n",
       "    </tr>\n",
       "    <tr>\n",
       "      <th>6</th>\n",
       "      <td>Nintendo</td>\n",
       "      <td>706</td>\n",
       "      <td>1788.81</td>\n",
       "    </tr>\n",
       "  </tbody>\n",
       "</table>\n",
       "</div>"
      ],
      "text/plain": [
       "                      Publisher  Num_of_Games_of_Publisher  Global_Sales\n",
       "0               Electronic Arts                       1356       1116.96\n",
       "1                    Activision                        985        731.16\n",
       "2            Namco Bandai Games                        939        254.62\n",
       "3                       Ubisoft                        933        471.61\n",
       "4  Konami Digital Entertainment                        834        282.39\n",
       "5                           THQ                        715        338.44\n",
       "6                      Nintendo                        706       1788.81"
      ]
     },
     "execution_count": 157,
     "metadata": {},
     "output_type": "execute_result"
    }
   ],
   "source": [
    "count_Pub = myfile.groupby([\"Publisher\"])[[\"Global_Sales\"]].count().sort_values(by = \"Publisher\",ascending = False).reset_index()\n",
    "count_Pub.rename(columns = {'Global_Sales':'Num_of_Games_of_Publisher'}, inplace = True)\n",
    "count_Pub[\"Global_Sales\"] = myfile.groupby([\"Publisher\"])[[\"Global_Sales\"]].sum().sort_values(by = \"Publisher\",ascending = False).reset_index().iloc[:, 1:2]\n",
    "count_Pub = count_Pub.sort_values(by = \"Num_of_Games_of_Publisher\",ascending = False).reset_index().drop(['index'], axis = 1)\n",
    "count_Pub.head(7)"
   ]
  },
  {
   "cell_type": "markdown",
   "id": "4ff4b67c-eb3d-4aa7-b772-ba72afe90d70",
   "metadata": {},
   "source": [
    "##### From our perspective, The critical information is the ratio between the amount of games released and the amount of its global sales over the years. \n",
    "##### **or in another words**, the sales per game (for each publisher who sold more than 150 copies)"
   ]
  },
  {
   "cell_type": "code",
   "execution_count": 158,
   "id": "2821d791-4c04-4636-987d-25cb5123d2ee",
   "metadata": {},
   "outputs": [
    {
     "data": {
      "text/html": [
       "<div>\n",
       "<style scoped>\n",
       "    .dataframe tbody tr th:only-of-type {\n",
       "        vertical-align: middle;\n",
       "    }\n",
       "\n",
       "    .dataframe tbody tr th {\n",
       "        vertical-align: top;\n",
       "    }\n",
       "\n",
       "    .dataframe thead th {\n",
       "        text-align: right;\n",
       "    }\n",
       "</style>\n",
       "<table border=\"1\" class=\"dataframe\">\n",
       "  <thead>\n",
       "    <tr style=\"text-align: right;\">\n",
       "      <th></th>\n",
       "      <th>Publisher</th>\n",
       "      <th>Num_of_Games_of_Publisher</th>\n",
       "      <th>Global_Sales</th>\n",
       "      <th>Sales_Per_Game</th>\n",
       "    </tr>\n",
       "  </thead>\n",
       "  <tbody>\n",
       "    <tr>\n",
       "      <th>6</th>\n",
       "      <td>Nintendo</td>\n",
       "      <td>706</td>\n",
       "      <td>1788.81</td>\n",
       "      <td>2.533725</td>\n",
       "    </tr>\n",
       "    <tr>\n",
       "      <th>20</th>\n",
       "      <td>Microsoft Game Studios</td>\n",
       "      <td>191</td>\n",
       "      <td>248.32</td>\n",
       "      <td>1.300105</td>\n",
       "    </tr>\n",
       "    <tr>\n",
       "      <th>9</th>\n",
       "      <td>Take-Two Interactive</td>\n",
       "      <td>422</td>\n",
       "      <td>403.82</td>\n",
       "      <td>0.956919</td>\n",
       "    </tr>\n",
       "    <tr>\n",
       "      <th>7</th>\n",
       "      <td>Sony Computer Entertainment</td>\n",
       "      <td>687</td>\n",
       "      <td>606.48</td>\n",
       "      <td>0.882795</td>\n",
       "    </tr>\n",
       "    <tr>\n",
       "      <th>0</th>\n",
       "      <td>Electronic Arts</td>\n",
       "      <td>1356</td>\n",
       "      <td>1116.96</td>\n",
       "      <td>0.823717</td>\n",
       "    </tr>\n",
       "  </tbody>\n",
       "</table>\n",
       "</div>"
      ],
      "text/plain": [
       "                      Publisher  Num_of_Games_of_Publisher  Global_Sales  \\\n",
       "6                      Nintendo                        706       1788.81   \n",
       "20       Microsoft Game Studios                        191        248.32   \n",
       "9          Take-Two Interactive                        422        403.82   \n",
       "7   Sony Computer Entertainment                        687        606.48   \n",
       "0               Electronic Arts                       1356       1116.96   \n",
       "\n",
       "    Sales_Per_Game  \n",
       "6         2.533725  \n",
       "20        1.300105  \n",
       "9         0.956919  \n",
       "7         0.882795  \n",
       "0         0.823717  "
      ]
     },
     "execution_count": 158,
     "metadata": {},
     "output_type": "execute_result"
    }
   ],
   "source": [
    "count_Pub_sale=count_Pub.loc[(count_Pub.Num_of_Games_of_Publisher >150)].copy()\n",
    "count_Pub_sale[\"Sales_Per_Game\"] = count_Pub_sale[\"Global_Sales\"]/count_Pub_sale[\"Num_of_Games_of_Publisher\"]\n",
    "count_Pub_sale = count_Pub_sale.sort_values(by = \"Sales_Per_Game\",ascending = False)\n",
    "count_Pub_sale.head()"
   ]
  },
  {
   "cell_type": "markdown",
   "id": "6dd227be-925c-4e7c-aca6-083b716b5a0c",
   "metadata": {},
   "source": [
    "##### Even thogh Nintendo(publisher) ranked **7th** in the amount of games released, they are leading the \"Sales_Per_Game\" category,by a significant margin ! "
   ]
  },
  {
   "cell_type": "markdown",
   "id": "68bfc53b-d092-4fec-8e46-524100c97a17",
   "metadata": {},
   "source": [
    "###### This can be clearly seen from the graph below"
   ]
  },
  {
   "cell_type": "code",
   "execution_count": 159,
   "id": "c1c26576-7427-4a4f-9373-ffcf39917e56",
   "metadata": {},
   "outputs": [
    {
     "data": {
      "image/png": "[encoded data removed]",
      "text/plain": [
       "<Figure size 1440x576 with 1 Axes>"
      ]
     },
     "metadata": {},
     "output_type": "display_data"
    }
   ],
   "source": [
    "plt.figure(figsize=(20,8))\n",
    "sns.barplot(data = count_Pub_sale, x='Publisher',y='Sales_Per_Game').set_title('   Sales Per Game \\n(Publisher)' ,size = 25,fontweight =\"bold\")\n",
    "plt.xticks(rotation=75)\n",
    "plt.show()"
   ]
  },
  {
   "cell_type": "markdown",
   "id": "ad7b81d3-c8f6-4ae2-b8a3-82798739f715",
   "metadata": {},
   "source": [
    "### **Conclusion**\n",
    "#### ***Nintendo*** has the highest ratio of sales per game.An average of 2.5 million copies for each game they publish.Almost more than twice from the second place"
   ]
  },
  {
   "cell_type": "code",
   "execution_count": 160,
   "id": "46c129c9-3d44-4eed-8f3d-56e4bd536be9",
   "metadata": {},
   "outputs": [
    {
     "data": {
      "text/plain": [
       "<AxesSubplot:>"
      ]
     },
     "execution_count": 160,
     "metadata": {},
     "output_type": "execute_result"
    },
    {
     "data": {
      "image/png": "[encoded data removed]",
      "text/plain": [
       "<Figure size 576x648 with 1 Axes>"
      ]
     },
     "metadata": {},
     "output_type": "display_data"
    }
   ],
   "source": [
    "plt.figure(figsize=(8,9))\n",
    "sns.boxplot(data = count_Pub_sale[['Sales_Per_Game']])"
   ]
  },
  {
   "cell_type": "markdown",
   "id": "0300605c-7a98-40c6-9a5e-5b21a9ff8fb9",
   "metadata": {},
   "source": [
    "##### It can be seen that the median is at 0.5. It can also be seen that Nintendo is positioned in a very exceptional location, which symbolizes its success."
   ]
  },
  {
   "cell_type": "markdown",
   "id": "29dec588-d31d-48c3-8883-bd3a998da318",
   "metadata": {},
   "source": [
    "<div>\n",
    "<img src=\"https://raw.githubusercontent.com/guyuliel/Data-Science/main/Nintendo-ha-adquirido-SRD-Co-Ltd-780x470.jpg\" width=\"500\"/>\n",
    "</div>"
   ]
  },
  {
   "cell_type": "markdown",
   "id": "07f2766b-c180-4b80-a965-af27a02b4cb6",
   "metadata": {},
   "source": [
    "---"
   ]
  },
  {
   "cell_type": "markdown",
   "id": "ceca9dfb-631d-48a1-83eb-5ab3ddc25eae",
   "metadata": {},
   "source": [
    "# **Platform comparison**\n",
    "## ***Observation 2***\n"
   ]
  },
  {
   "cell_type": "markdown",
   "id": "2528aaeb-5e86-4309-8746-ecfb1285670b",
   "metadata": {},
   "source": [
    "#### #1 Mobile comparison\n",
    "#### #2 Stationary comparison"
   ]
  },
  {
   "cell_type": "markdown",
   "id": "cf120ee7-e2a3-4846-acf3-315e9b4a12df",
   "metadata": {
    "tags": []
   },
   "source": [
    "### Comparison between the mobile devices of Nintendo(company) and Sony"
   ]
  },
  {
   "cell_type": "markdown",
   "id": "c8459459-8d99-4066-b3ca-835ceb1d9157",
   "metadata": {},
   "source": [
    "##### We want to find out what are the differences between Sony and Nintendo in total global sales over the years"
   ]
  },
  {
   "cell_type": "code",
   "execution_count": 161,
   "id": "1dec1248-a61d-4b10-9702-27709d786bfc",
   "metadata": {},
   "outputs": [],
   "source": [
    "PS_mobile= myfile.loc[(myfile.Platform == 'PSP') | (myfile.Platform == 'PSV')]\n",
    "NIN_mobile= myfile.loc[(myfile.Platform == 'GB') | (myfile.Platform == 'GBA') | (myfile.Platform == 'DS') | (myfile.Platform == '3DS')]"
   ]
  },
  {
   "cell_type": "code",
   "execution_count": 162,
   "id": "c3ec9cff-d064-4374-8707-ac34f05c5985",
   "metadata": {},
   "outputs": [
    {
     "data": {
      "text/html": [
       "<div>\n",
       "<style scoped>\n",
       "    .dataframe tbody tr th:only-of-type {\n",
       "        vertical-align: middle;\n",
       "    }\n",
       "\n",
       "    .dataframe tbody tr th {\n",
       "        vertical-align: top;\n",
       "    }\n",
       "\n",
       "    .dataframe thead th {\n",
       "        text-align: right;\n",
       "    }\n",
       "</style>\n",
       "<table border=\"1\" class=\"dataframe\">\n",
       "  <thead>\n",
       "    <tr style=\"text-align: right;\">\n",
       "      <th></th>\n",
       "      <th>EU_Sales</th>\n",
       "      <th>JP_Sales</th>\n",
       "      <th>NA_Sales</th>\n",
       "      <th>Other_Sales</th>\n",
       "      <th>Global_Sales</th>\n",
       "    </tr>\n",
       "    <tr>\n",
       "      <th>Platform</th>\n",
       "      <th></th>\n",
       "      <th></th>\n",
       "      <th></th>\n",
       "      <th></th>\n",
       "      <th></th>\n",
       "    </tr>\n",
       "  </thead>\n",
       "  <tbody>\n",
       "    <tr>\n",
       "      <th>PSP</th>\n",
       "      <td>66.68</td>\n",
       "      <td>76.78</td>\n",
       "      <td>109.17</td>\n",
       "      <td>41.42</td>\n",
       "      <td>294.30</td>\n",
       "    </tr>\n",
       "    <tr>\n",
       "      <th>PSV</th>\n",
       "      <td>13.12</td>\n",
       "      <td>21.93</td>\n",
       "      <td>12.58</td>\n",
       "      <td>6.46</td>\n",
       "      <td>54.12</td>\n",
       "    </tr>\n",
       "  </tbody>\n",
       "</table>\n",
       "</div>"
      ],
      "text/plain": [
       "          EU_Sales  JP_Sales  NA_Sales  Other_Sales  Global_Sales\n",
       "Platform                                                         \n",
       "PSP          66.68     76.78    109.17        41.42        294.30\n",
       "PSV          13.12     21.93     12.58         6.46         54.12"
      ]
     },
     "execution_count": 162,
     "metadata": {},
     "output_type": "execute_result"
    }
   ],
   "source": [
    "sum_psmob1=PS_mobile.groupby('Platform')[['EU_Sales','JP_Sales','NA_Sales','Other_Sales','Global_Sales']].sum()\n",
    "sum_psmob1.sort_values(by= 'Global_Sales',ascending=False)"
   ]
  },
  {
   "cell_type": "code",
   "execution_count": 163,
   "id": "1dbad458-f8ec-4988-82b3-96323f210285",
   "metadata": {},
   "outputs": [
    {
     "data": {
      "text/html": [
       "<div>\n",
       "<style scoped>\n",
       "    .dataframe tbody tr th:only-of-type {\n",
       "        vertical-align: middle;\n",
       "    }\n",
       "\n",
       "    .dataframe tbody tr th {\n",
       "        vertical-align: top;\n",
       "    }\n",
       "\n",
       "    .dataframe thead th {\n",
       "        text-align: right;\n",
       "    }\n",
       "</style>\n",
       "<table border=\"1\" class=\"dataframe\">\n",
       "  <thead>\n",
       "    <tr style=\"text-align: right;\">\n",
       "      <th></th>\n",
       "      <th>Platform</th>\n",
       "      <th>Global_Sales</th>\n",
       "    </tr>\n",
       "  </thead>\n",
       "  <tbody>\n",
       "    <tr>\n",
       "      <th>0</th>\n",
       "      <td>Sony mobile devices</td>\n",
       "      <td>348.42</td>\n",
       "    </tr>\n",
       "  </tbody>\n",
       "</table>\n",
       "</div>"
      ],
      "text/plain": [
       "              Platform  Global_Sales\n",
       "0  Sony mobile devices        348.42"
      ]
     },
     "execution_count": 163,
     "metadata": {},
     "output_type": "execute_result"
    }
   ],
   "source": [
    "psmob = PS_mobile[[\"Platform\",\"Global_Sales\"]].reset_index().iloc[:,1:3]\n",
    "\n",
    "df2 = pd.DataFrame({'Platform': ['Sony mobile devices'], 'Global_Sales': [psmob['Global_Sales'].sum()]})\n",
    "psmob = pd.concat([psmob,df2],ignore_index = False,axis = 0)\n",
    "psmob = psmob.tail(1)\n",
    "psmob"
   ]
  },
  {
   "cell_type": "code",
   "execution_count": 164,
   "id": "3f20c653-a303-4b2d-b824-bc88d01c2815",
   "metadata": {},
   "outputs": [
    {
     "data": {
      "text/html": [
       "<div>\n",
       "<style scoped>\n",
       "    .dataframe tbody tr th:only-of-type {\n",
       "        vertical-align: middle;\n",
       "    }\n",
       "\n",
       "    .dataframe tbody tr th {\n",
       "        vertical-align: top;\n",
       "    }\n",
       "\n",
       "    .dataframe thead th {\n",
       "        text-align: right;\n",
       "    }\n",
       "</style>\n",
       "<table border=\"1\" class=\"dataframe\">\n",
       "  <thead>\n",
       "    <tr style=\"text-align: right;\">\n",
       "      <th></th>\n",
       "      <th>EU_Sales</th>\n",
       "      <th>JP_Sales</th>\n",
       "      <th>NA_Sales</th>\n",
       "      <th>Other_Sales</th>\n",
       "      <th>Global_Sales</th>\n",
       "    </tr>\n",
       "    <tr>\n",
       "      <th>Platform</th>\n",
       "      <th></th>\n",
       "      <th></th>\n",
       "      <th></th>\n",
       "      <th></th>\n",
       "      <th></th>\n",
       "    </tr>\n",
       "  </thead>\n",
       "  <tbody>\n",
       "    <tr>\n",
       "      <th>DS</th>\n",
       "      <td>188.89</td>\n",
       "      <td>175.57</td>\n",
       "      <td>382.67</td>\n",
       "      <td>59.28</td>\n",
       "      <td>807.10</td>\n",
       "    </tr>\n",
       "    <tr>\n",
       "      <th>GBA</th>\n",
       "      <td>75.25</td>\n",
       "      <td>47.33</td>\n",
       "      <td>187.54</td>\n",
       "      <td>7.73</td>\n",
       "      <td>318.50</td>\n",
       "    </tr>\n",
       "    <tr>\n",
       "      <th>3DS</th>\n",
       "      <td>61.48</td>\n",
       "      <td>100.67</td>\n",
       "      <td>83.49</td>\n",
       "      <td>13.36</td>\n",
       "      <td>259.09</td>\n",
       "    </tr>\n",
       "    <tr>\n",
       "      <th>GB</th>\n",
       "      <td>47.82</td>\n",
       "      <td>85.12</td>\n",
       "      <td>114.32</td>\n",
       "      <td>8.20</td>\n",
       "      <td>255.45</td>\n",
       "    </tr>\n",
       "  </tbody>\n",
       "</table>\n",
       "</div>"
      ],
      "text/plain": [
       "          EU_Sales  JP_Sales  NA_Sales  Other_Sales  Global_Sales\n",
       "Platform                                                         \n",
       "DS          188.89    175.57    382.67        59.28        807.10\n",
       "GBA          75.25     47.33    187.54         7.73        318.50\n",
       "3DS          61.48    100.67     83.49        13.36        259.09\n",
       "GB           47.82     85.12    114.32         8.20        255.45"
      ]
     },
     "execution_count": 164,
     "metadata": {},
     "output_type": "execute_result"
    }
   ],
   "source": [
    "sum_ninmob1=NIN_mobile.groupby('Platform')[['EU_Sales','JP_Sales','NA_Sales','Other_Sales','Global_Sales']].sum()\n",
    "sum_ninmob1.sort_values(by= 'Global_Sales',ascending=False)"
   ]
  },
  {
   "cell_type": "code",
   "execution_count": 165,
   "id": "96aa0cb9-b951-4453-bb1f-144a2e282f22",
   "metadata": {},
   "outputs": [
    {
     "data": {
      "text/html": [
       "<div>\n",
       "<style scoped>\n",
       "    .dataframe tbody tr th:only-of-type {\n",
       "        vertical-align: middle;\n",
       "    }\n",
       "\n",
       "    .dataframe tbody tr th {\n",
       "        vertical-align: top;\n",
       "    }\n",
       "\n",
       "    .dataframe thead th {\n",
       "        text-align: right;\n",
       "    }\n",
       "</style>\n",
       "<table border=\"1\" class=\"dataframe\">\n",
       "  <thead>\n",
       "    <tr style=\"text-align: right;\">\n",
       "      <th></th>\n",
       "      <th>Platform</th>\n",
       "      <th>Global_Sales</th>\n",
       "    </tr>\n",
       "  </thead>\n",
       "  <tbody>\n",
       "    <tr>\n",
       "      <th>1</th>\n",
       "      <td>Nintendo mobile devices</td>\n",
       "      <td>1640.14</td>\n",
       "    </tr>\n",
       "  </tbody>\n",
       "</table>\n",
       "</div>"
      ],
      "text/plain": [
       "                  Platform  Global_Sales\n",
       "1  Nintendo mobile devices       1640.14"
      ]
     },
     "execution_count": 165,
     "metadata": {},
     "output_type": "execute_result"
    }
   ],
   "source": [
    "ninmob = NIN_mobile[[\"Platform\",\"Global_Sales\"]].reset_index().iloc[:,1:3]\n",
    "\n",
    "df2 = pd.DataFrame({'Platform': ['Nintendo mobile devices'], 'Global_Sales': [ninmob['Global_Sales'].sum()]})\n",
    "ninmob = pd.concat([psmob,df2],ignore_index = True,axis = 0)\n",
    "ninmob = ninmob.tail(1)\n",
    "ninmob"
   ]
  },
  {
   "cell_type": "code",
   "execution_count": 166,
   "id": "ff643cca-0781-4156-b558-45ffdd3b8f16",
   "metadata": {},
   "outputs": [
    {
     "data": {
      "text/html": [
       "<div>\n",
       "<style scoped>\n",
       "    .dataframe tbody tr th:only-of-type {\n",
       "        vertical-align: middle;\n",
       "    }\n",
       "\n",
       "    .dataframe tbody tr th {\n",
       "        vertical-align: top;\n",
       "    }\n",
       "\n",
       "    .dataframe thead th {\n",
       "        text-align: right;\n",
       "    }\n",
       "</style>\n",
       "<table border=\"1\" class=\"dataframe\">\n",
       "  <thead>\n",
       "    <tr style=\"text-align: right;\">\n",
       "      <th></th>\n",
       "      <th>Platform</th>\n",
       "      <th>Global_Sales</th>\n",
       "    </tr>\n",
       "  </thead>\n",
       "  <tbody>\n",
       "    <tr>\n",
       "      <th>0</th>\n",
       "      <td>Sony mobile devices</td>\n",
       "      <td>348.42</td>\n",
       "    </tr>\n",
       "    <tr>\n",
       "      <th>1</th>\n",
       "      <td>Nintendo mobile devices</td>\n",
       "      <td>1640.14</td>\n",
       "    </tr>\n",
       "  </tbody>\n",
       "</table>\n",
       "</div>"
      ],
      "text/plain": [
       "                  Platform  Global_Sales\n",
       "0      Sony mobile devices        348.42\n",
       "1  Nintendo mobile devices       1640.14"
      ]
     },
     "execution_count": 166,
     "metadata": {},
     "output_type": "execute_result"
    }
   ],
   "source": [
    "frames1 = [psmob, ninmob]\n",
    "  \n",
    "all_mobile = pd.concat(frames1)\n",
    "all_mobile"
   ]
  },
  {
   "cell_type": "code",
   "execution_count": 167,
   "id": "fa248c8c-1b76-49c9-92b3-58492fe04feb",
   "metadata": {},
   "outputs": [
    {
     "data": {
      "image/png": "[encoded data removed]",
      "text/plain": [
       "<Figure size 792x504 with 1 Axes>"
      ]
     },
     "metadata": {},
     "output_type": "display_data"
    }
   ],
   "source": [
    "plt.figure(figsize=(11,7))\n",
    "sns.barplot(x=\"Platform\",y=\"Global_Sales\", data=all_mobile).set_title('    Sony VS Nintendo \\n(Mobile)',size = 20,fontweight =\"bold\")\n",
    "plt.show()"
   ]
  },
  {
   "cell_type": "markdown",
   "id": "831ef0b6-44c4-44d4-8e06-c908b171cc1f",
   "metadata": {},
   "source": [
    "##### The significant gap between Sony and Nintendo can be clearly seen !\n",
    "##### Nintendo's mobile devices sold over 1.5 billion games copies compared to Sony's mobile devices that sold just 350 million games copies.\n",
    "# <font color='firebrick'>K.O</font> for Sony PlayStation !"
   ]
  },
  {
   "cell_type": "markdown",
   "id": "ef03c0fe-0eeb-4b52-9040-ec22b61c92f0",
   "metadata": {},
   "source": [
    "<div>\n",
    "<img src=\"https://raw.githubusercontent.com/guyuliel/Data-Science/main/image%203.jpg\" width=\"450\"/>\n",
    "</div>"
   ]
  },
  {
   "cell_type": "markdown",
   "id": "f7fbd9bb-a9f6-4054-a8f7-fc3dd64415ff",
   "metadata": {},
   "source": [
    "### In addition, we are interested in testing whether Sony mobile devices has also failed in relation to the other platforms"
   ]
  },
  {
   "cell_type": "code",
   "execution_count": 168,
   "id": "ed51da15-8a17-4c34-ab1e-377a58d80ae4",
   "metadata": {},
   "outputs": [
    {
     "data": {
      "text/html": [
       "<div>\n",
       "<style scoped>\n",
       "    .dataframe tbody tr th:only-of-type {\n",
       "        vertical-align: middle;\n",
       "    }\n",
       "\n",
       "    .dataframe tbody tr th {\n",
       "        vertical-align: top;\n",
       "    }\n",
       "\n",
       "    .dataframe thead th {\n",
       "        text-align: right;\n",
       "    }\n",
       "</style>\n",
       "<table border=\"1\" class=\"dataframe\">\n",
       "  <thead>\n",
       "    <tr style=\"text-align: right;\">\n",
       "      <th></th>\n",
       "      <th>Platform</th>\n",
       "      <th>Num_of_Games</th>\n",
       "      <th>Global_Sales</th>\n",
       "    </tr>\n",
       "  </thead>\n",
       "  <tbody>\n",
       "    <tr>\n",
       "      <th>0</th>\n",
       "      <td>PS2</td>\n",
       "      <td>2161</td>\n",
       "      <td>1255.64</td>\n",
       "    </tr>\n",
       "    <tr>\n",
       "      <th>1</th>\n",
       "      <td>DS</td>\n",
       "      <td>2152</td>\n",
       "      <td>807.10</td>\n",
       "    </tr>\n",
       "    <tr>\n",
       "      <th>2</th>\n",
       "      <td>PS3</td>\n",
       "      <td>1331</td>\n",
       "      <td>939.43</td>\n",
       "    </tr>\n",
       "    <tr>\n",
       "      <th>3</th>\n",
       "      <td>Wii</td>\n",
       "      <td>1320</td>\n",
       "      <td>908.13</td>\n",
       "    </tr>\n",
       "    <tr>\n",
       "      <th>4</th>\n",
       "      <td>X360</td>\n",
       "      <td>1262</td>\n",
       "      <td>971.63</td>\n",
       "    </tr>\n",
       "  </tbody>\n",
       "</table>\n",
       "</div>"
      ],
      "text/plain": [
       "  Platform  Num_of_Games  Global_Sales\n",
       "0      PS2          2161       1255.64\n",
       "1       DS          2152        807.10\n",
       "2      PS3          1331        939.43\n",
       "3      Wii          1320        908.13\n",
       "4     X360          1262        971.63"
      ]
     },
     "execution_count": 168,
     "metadata": {},
     "output_type": "execute_result"
    }
   ],
   "source": [
    "count_comp_sale = myfile.groupby([\"Platform\"])[[\"Global_Sales\"]].count().sort_values(by = \"Platform\",ascending = False).reset_index()\n",
    "count_comp_sale.rename(columns = {'Global_Sales':'Num_of_Games'}, inplace = True)\n",
    "count_comp_sale[\"Global_Sales\"] = myfile.groupby([\"Platform\"])[[\"Global_Sales\"]].sum().sort_values(by = \"Platform\",ascending = False).reset_index().iloc[:, 1:2]\n",
    "count_comp_sale = count_comp_sale.sort_values(by = \"Num_of_Games\",ascending = False).reset_index().drop(['index'], axis = 1)\n",
    "count_comp_sale.head()"
   ]
  },
  {
   "cell_type": "markdown",
   "id": "a0ce2b86-e55e-42a5-bf9a-f8b32325ae29",
   "metadata": {},
   "source": [
    "##### We will investigate the correlation between the amount of games released and the amount of sales of each platform"
   ]
  },
  {
   "cell_type": "code",
   "execution_count": 169,
   "id": "45404c38-c80d-465e-8094-4e5d84e42a89",
   "metadata": {},
   "outputs": [
    {
     "data": {
      "image/png": "[encoded data removed]",
      "text/plain": [
       "<Figure size 2160x1008 with 1 Axes>"
      ]
     },
     "metadata": {},
     "output_type": "display_data"
    }
   ],
   "source": [
    "countcomp1 = count_comp_sale.sort_values(by = \"Num_of_Games\",ascending = True).reset_index().drop(['index'], axis = 1)\n",
    "colors = [\"deepskyblue\" if x!=294.30 and x!= 54.12  else \"red\" for x in countcomp1.Global_Sales]\n",
    "ax = sns.barplot(data = countcomp1,x = \"Platform\",y = \"Global_Sales\",palette =colors)\n",
    "sns.set(rc = {'figure.figsize':(30,14)})"
   ]
  },
  {
   "cell_type": "markdown",
   "id": "ae28ee3f-663b-4008-ad75-bea96b7bb49d",
   "metadata": {},
   "source": [
    "##### The graph shows all left-to-right platforms in ascending order, according to the number of games sold over the years.\n",
    "##### PSV and PSP marked in red and We notice that The bar's height of PSV and PSP is very low in relation to the amount of games they had created."
   ]
  },
  {
   "cell_type": "markdown",
   "id": "15fbb765-68d0-4697-9c41-ef05fd2c5e02",
   "metadata": {},
   "source": [
    "### **Conclusion**\n",
    "#### Sony's mobile devices have failed miserably over the years in relation to all platforms !\n",
    "#####\n"
   ]
  },
  {
   "cell_type": "markdown",
   "id": "55ebd3bb-dc6c-47bd-a0f7-aa34b14b0aea",
   "metadata": {},
   "source": [
    "so let's continue to the stationary devices.."
   ]
  },
  {
   "cell_type": "markdown",
   "id": "9b91167e-536c-4495-99d6-09907ff805fd",
   "metadata": {},
   "source": [
    "### Comparison between the stationary consoles of Nintendo, Sony and Xbox\n",
    "#### We want to find out what are the differences between Nintendo, Sony and Xbox in total global sales over the years"
   ]
  },
  {
   "cell_type": "code",
   "execution_count": 170,
   "id": "8e4a59d4-82d1-4bf3-abbf-96ea7920ff6c",
   "metadata": {},
   "outputs": [],
   "source": [
    "PS_staionary= myfile.loc[(myfile.Platform == 'PS') | (myfile.Platform == 'PS2') | (myfile.Platform == 'PS3') | (myfile.Platform == 'PS4')]\n",
    "NIN_staionary= myfile.loc[(myfile.Platform == 'Wii') | (myfile.Platform == 'WiiU') | (myfile.Platform == 'NES') | (myfile.Platform == 'SNES') | (myfile.Platform == 'N64') | (myfile.Platform == 'GC')]\n",
    "XB_staionary= myfile.loc[(myfile.Platform == 'XB') | (myfile.Platform == 'X360') | (myfile.Platform == 'XOne')]"
   ]
  },
  {
   "cell_type": "code",
   "execution_count": 171,
   "id": "5b63863f-6e32-41b5-8b67-d986a8a4096b",
   "metadata": {},
   "outputs": [
    {
     "data": {
      "text/html": [
       "<div>\n",
       "<style scoped>\n",
       "    .dataframe tbody tr th:only-of-type {\n",
       "        vertical-align: middle;\n",
       "    }\n",
       "\n",
       "    .dataframe tbody tr th {\n",
       "        vertical-align: top;\n",
       "    }\n",
       "\n",
       "    .dataframe thead th {\n",
       "        text-align: right;\n",
       "    }\n",
       "</style>\n",
       "<table border=\"1\" class=\"dataframe\">\n",
       "  <thead>\n",
       "    <tr style=\"text-align: right;\">\n",
       "      <th></th>\n",
       "      <th>EU_Sales</th>\n",
       "      <th>JP_Sales</th>\n",
       "      <th>NA_Sales</th>\n",
       "      <th>Other_Sales</th>\n",
       "      <th>Global_Sales</th>\n",
       "    </tr>\n",
       "    <tr>\n",
       "      <th>Platform</th>\n",
       "      <th></th>\n",
       "      <th></th>\n",
       "      <th></th>\n",
       "      <th></th>\n",
       "      <th></th>\n",
       "    </tr>\n",
       "  </thead>\n",
       "  <tbody>\n",
       "    <tr>\n",
       "      <th>PS2</th>\n",
       "      <td>339.29</td>\n",
       "      <td>139.20</td>\n",
       "      <td>583.84</td>\n",
       "      <td>193.44</td>\n",
       "      <td>1255.64</td>\n",
       "    </tr>\n",
       "    <tr>\n",
       "      <th>PS3</th>\n",
       "      <td>330.29</td>\n",
       "      <td>80.19</td>\n",
       "      <td>393.49</td>\n",
       "      <td>135.68</td>\n",
       "      <td>939.43</td>\n",
       "    </tr>\n",
       "    <tr>\n",
       "      <th>PS</th>\n",
       "      <td>213.61</td>\n",
       "      <td>139.82</td>\n",
       "      <td>336.52</td>\n",
       "      <td>40.91</td>\n",
       "      <td>730.68</td>\n",
       "    </tr>\n",
       "    <tr>\n",
       "      <th>PS4</th>\n",
       "      <td>141.09</td>\n",
       "      <td>16.00</td>\n",
       "      <td>108.74</td>\n",
       "      <td>48.35</td>\n",
       "      <td>314.23</td>\n",
       "    </tr>\n",
       "  </tbody>\n",
       "</table>\n",
       "</div>"
      ],
      "text/plain": [
       "          EU_Sales  JP_Sales  NA_Sales  Other_Sales  Global_Sales\n",
       "Platform                                                         \n",
       "PS2         339.29    139.20    583.84       193.44       1255.64\n",
       "PS3         330.29     80.19    393.49       135.68        939.43\n",
       "PS          213.61    139.82    336.52        40.91        730.68\n",
       "PS4         141.09     16.00    108.74        48.35        314.23"
      ]
     },
     "execution_count": 171,
     "metadata": {},
     "output_type": "execute_result"
    }
   ],
   "source": [
    "sum_psst1=PS_staionary.groupby('Platform')[['EU_Sales','JP_Sales','NA_Sales','Other_Sales','Global_Sales']].sum()\n",
    "sum_psst1.sort_values(by= 'Global_Sales',ascending=False)"
   ]
  },
  {
   "cell_type": "code",
   "execution_count": 172,
   "id": "e5c56a0e-1718-467c-8e15-3a1399c39ca4",
   "metadata": {},
   "outputs": [
    {
     "data": {
      "text/html": [
       "<div>\n",
       "<style scoped>\n",
       "    .dataframe tbody tr th:only-of-type {\n",
       "        vertical-align: middle;\n",
       "    }\n",
       "\n",
       "    .dataframe tbody tr th {\n",
       "        vertical-align: top;\n",
       "    }\n",
       "\n",
       "    .dataframe thead th {\n",
       "        text-align: right;\n",
       "    }\n",
       "</style>\n",
       "<table border=\"1\" class=\"dataframe\">\n",
       "  <thead>\n",
       "    <tr style=\"text-align: right;\">\n",
       "      <th></th>\n",
       "      <th>Platform</th>\n",
       "      <th>Global_Sales</th>\n",
       "    </tr>\n",
       "  </thead>\n",
       "  <tbody>\n",
       "    <tr>\n",
       "      <th>0</th>\n",
       "      <td>Sony staionary devices</td>\n",
       "      <td>3239.98</td>\n",
       "    </tr>\n",
       "  </tbody>\n",
       "</table>\n",
       "</div>"
      ],
      "text/plain": [
       "                 Platform  Global_Sales\n",
       "0  Sony staionary devices       3239.98"
      ]
     },
     "execution_count": 172,
     "metadata": {},
     "output_type": "execute_result"
    }
   ],
   "source": [
    "psst = PS_staionary[[\"Platform\",\"Global_Sales\"]].reset_index().iloc[:,1:3]\n",
    "\n",
    "\n",
    "df2 = pd.DataFrame({'Platform': ['Sony staionary devices'], 'Global_Sales': [psst['Global_Sales'].sum()]})\n",
    "psst = pd.concat([psst,df2],ignore_index = False ,axis = 0)\n",
    "psst = psst.tail(1)\n",
    "psst"
   ]
  },
  {
   "cell_type": "code",
   "execution_count": 173,
   "id": "439dd654-310f-41aa-a2a0-b1848eb3d38f",
   "metadata": {},
   "outputs": [
    {
     "data": {
      "text/html": [
       "<div>\n",
       "<style scoped>\n",
       "    .dataframe tbody tr th:only-of-type {\n",
       "        vertical-align: middle;\n",
       "    }\n",
       "\n",
       "    .dataframe tbody tr th {\n",
       "        vertical-align: top;\n",
       "    }\n",
       "\n",
       "    .dataframe thead th {\n",
       "        text-align: right;\n",
       "    }\n",
       "</style>\n",
       "<table border=\"1\" class=\"dataframe\">\n",
       "  <thead>\n",
       "    <tr style=\"text-align: right;\">\n",
       "      <th></th>\n",
       "      <th>EU_Sales</th>\n",
       "      <th>JP_Sales</th>\n",
       "      <th>NA_Sales</th>\n",
       "      <th>Other_Sales</th>\n",
       "      <th>Global_Sales</th>\n",
       "    </tr>\n",
       "    <tr>\n",
       "      <th>Platform</th>\n",
       "      <th></th>\n",
       "      <th></th>\n",
       "      <th></th>\n",
       "      <th></th>\n",
       "      <th></th>\n",
       "    </tr>\n",
       "  </thead>\n",
       "  <tbody>\n",
       "    <tr>\n",
       "      <th>Wii</th>\n",
       "      <td>262.21</td>\n",
       "      <td>69.33</td>\n",
       "      <td>496.90</td>\n",
       "      <td>79.07</td>\n",
       "      <td>908.13</td>\n",
       "    </tr>\n",
       "    <tr>\n",
       "      <th>NES</th>\n",
       "      <td>21.15</td>\n",
       "      <td>98.65</td>\n",
       "      <td>125.94</td>\n",
       "      <td>5.31</td>\n",
       "      <td>251.07</td>\n",
       "    </tr>\n",
       "    <tr>\n",
       "      <th>N64</th>\n",
       "      <td>41.06</td>\n",
       "      <td>34.22</td>\n",
       "      <td>139.02</td>\n",
       "      <td>4.38</td>\n",
       "      <td>218.88</td>\n",
       "    </tr>\n",
       "    <tr>\n",
       "      <th>SNES</th>\n",
       "      <td>19.04</td>\n",
       "      <td>116.55</td>\n",
       "      <td>61.23</td>\n",
       "      <td>3.22</td>\n",
       "      <td>200.05</td>\n",
       "    </tr>\n",
       "    <tr>\n",
       "      <th>GC</th>\n",
       "      <td>38.71</td>\n",
       "      <td>21.58</td>\n",
       "      <td>133.46</td>\n",
       "      <td>5.18</td>\n",
       "      <td>199.36</td>\n",
       "    </tr>\n",
       "    <tr>\n",
       "      <th>WiiU</th>\n",
       "      <td>25.13</td>\n",
       "      <td>13.01</td>\n",
       "      <td>38.10</td>\n",
       "      <td>5.95</td>\n",
       "      <td>82.16</td>\n",
       "    </tr>\n",
       "  </tbody>\n",
       "</table>\n",
       "</div>"
      ],
      "text/plain": [
       "          EU_Sales  JP_Sales  NA_Sales  Other_Sales  Global_Sales\n",
       "Platform                                                         \n",
       "Wii         262.21     69.33    496.90        79.07        908.13\n",
       "NES          21.15     98.65    125.94         5.31        251.07\n",
       "N64          41.06     34.22    139.02         4.38        218.88\n",
       "SNES         19.04    116.55     61.23         3.22        200.05\n",
       "GC           38.71     21.58    133.46         5.18        199.36\n",
       "WiiU         25.13     13.01     38.10         5.95         82.16"
      ]
     },
     "execution_count": 173,
     "metadata": {},
     "output_type": "execute_result"
    }
   ],
   "source": [
    "sum_ninst1=NIN_staionary.groupby('Platform')[['EU_Sales','JP_Sales','NA_Sales','Other_Sales','Global_Sales']].sum()\n",
    "sum_ninst1.sort_values(by= 'Global_Sales',ascending=False)"
   ]
  },
  {
   "cell_type": "code",
   "execution_count": 174,
   "id": "72598ead-16ae-4fb2-a901-62558d922af7",
   "metadata": {},
   "outputs": [
    {
     "data": {
      "text/html": [
       "<div>\n",
       "<style scoped>\n",
       "    .dataframe tbody tr th:only-of-type {\n",
       "        vertical-align: middle;\n",
       "    }\n",
       "\n",
       "    .dataframe tbody tr th {\n",
       "        vertical-align: top;\n",
       "    }\n",
       "\n",
       "    .dataframe thead th {\n",
       "        text-align: right;\n",
       "    }\n",
       "</style>\n",
       "<table border=\"1\" class=\"dataframe\">\n",
       "  <thead>\n",
       "    <tr style=\"text-align: right;\">\n",
       "      <th></th>\n",
       "      <th>Platform</th>\n",
       "      <th>Global_Sales</th>\n",
       "    </tr>\n",
       "  </thead>\n",
       "  <tbody>\n",
       "    <tr>\n",
       "      <th>1</th>\n",
       "      <td>Nintendo staionary devices</td>\n",
       "      <td>1859.65</td>\n",
       "    </tr>\n",
       "  </tbody>\n",
       "</table>\n",
       "</div>"
      ],
      "text/plain": [
       "                     Platform  Global_Sales\n",
       "1  Nintendo staionary devices       1859.65"
      ]
     },
     "execution_count": 174,
     "metadata": {},
     "output_type": "execute_result"
    }
   ],
   "source": [
    "ninst = NIN_staionary[[\"Platform\",\"Global_Sales\"]].reset_index().iloc[:,1:3]\n",
    "\n",
    "df2 = pd.DataFrame({'Platform': ['Nintendo staionary devices'], 'Global_Sales': [ninst['Global_Sales'].sum()]})\n",
    "ninst = pd.concat([psst,df2],ignore_index = True,axis = 0)\n",
    "ninst = ninst.tail(1)\n",
    "ninst"
   ]
  },
  {
   "cell_type": "code",
   "execution_count": 175,
   "id": "5fae2fa9-de35-473b-a20b-7b182fbf07fc",
   "metadata": {},
   "outputs": [
    {
     "data": {
      "text/html": [
       "<div>\n",
       "<style scoped>\n",
       "    .dataframe tbody tr th:only-of-type {\n",
       "        vertical-align: middle;\n",
       "    }\n",
       "\n",
       "    .dataframe tbody tr th {\n",
       "        vertical-align: top;\n",
       "    }\n",
       "\n",
       "    .dataframe thead th {\n",
       "        text-align: right;\n",
       "    }\n",
       "</style>\n",
       "<table border=\"1\" class=\"dataframe\">\n",
       "  <thead>\n",
       "    <tr style=\"text-align: right;\">\n",
       "      <th></th>\n",
       "      <th>EU_Sales</th>\n",
       "      <th>JP_Sales</th>\n",
       "      <th>NA_Sales</th>\n",
       "      <th>Other_Sales</th>\n",
       "      <th>Global_Sales</th>\n",
       "    </tr>\n",
       "    <tr>\n",
       "      <th>Platform</th>\n",
       "      <th></th>\n",
       "      <th></th>\n",
       "      <th></th>\n",
       "      <th></th>\n",
       "      <th></th>\n",
       "    </tr>\n",
       "  </thead>\n",
       "  <tbody>\n",
       "    <tr>\n",
       "      <th>X360</th>\n",
       "      <td>270.76</td>\n",
       "      <td>12.43</td>\n",
       "      <td>602.47</td>\n",
       "      <td>85.76</td>\n",
       "      <td>971.63</td>\n",
       "    </tr>\n",
       "    <tr>\n",
       "      <th>XB</th>\n",
       "      <td>60.95</td>\n",
       "      <td>1.38</td>\n",
       "      <td>186.69</td>\n",
       "      <td>8.72</td>\n",
       "      <td>258.26</td>\n",
       "    </tr>\n",
       "    <tr>\n",
       "      <th>XOne</th>\n",
       "      <td>51.59</td>\n",
       "      <td>0.34</td>\n",
       "      <td>93.12</td>\n",
       "      <td>14.27</td>\n",
       "      <td>159.44</td>\n",
       "    </tr>\n",
       "  </tbody>\n",
       "</table>\n",
       "</div>"
      ],
      "text/plain": [
       "          EU_Sales  JP_Sales  NA_Sales  Other_Sales  Global_Sales\n",
       "Platform                                                         \n",
       "X360        270.76     12.43    602.47        85.76        971.63\n",
       "XB           60.95      1.38    186.69         8.72        258.26\n",
       "XOne         51.59      0.34     93.12        14.27        159.44"
      ]
     },
     "execution_count": 175,
     "metadata": {},
     "output_type": "execute_result"
    }
   ],
   "source": [
    "sum_xbst1=XB_staionary.groupby('Platform')[['EU_Sales','JP_Sales','NA_Sales','Other_Sales','Global_Sales']].sum()\n",
    "sum_xbst1.sort_values(by= 'Global_Sales',ascending=False)"
   ]
  },
  {
   "cell_type": "code",
   "execution_count": 176,
   "id": "c726ed08-c71f-4b2e-b95e-c2beb49eeef8",
   "metadata": {},
   "outputs": [
    {
     "data": {
      "text/html": [
       "<div>\n",
       "<style scoped>\n",
       "    .dataframe tbody tr th:only-of-type {\n",
       "        vertical-align: middle;\n",
       "    }\n",
       "\n",
       "    .dataframe tbody tr th {\n",
       "        vertical-align: top;\n",
       "    }\n",
       "\n",
       "    .dataframe thead th {\n",
       "        text-align: right;\n",
       "    }\n",
       "</style>\n",
       "<table border=\"1\" class=\"dataframe\">\n",
       "  <thead>\n",
       "    <tr style=\"text-align: right;\">\n",
       "      <th></th>\n",
       "      <th>Platform</th>\n",
       "      <th>Global_Sales</th>\n",
       "    </tr>\n",
       "  </thead>\n",
       "  <tbody>\n",
       "    <tr>\n",
       "      <th>2</th>\n",
       "      <td>Xbox staionary devices</td>\n",
       "      <td>1389.33</td>\n",
       "    </tr>\n",
       "  </tbody>\n",
       "</table>\n",
       "</div>"
      ],
      "text/plain": [
       "                 Platform  Global_Sales\n",
       "2  Xbox staionary devices       1389.33"
      ]
     },
     "execution_count": 176,
     "metadata": {},
     "output_type": "execute_result"
    }
   ],
   "source": [
    "xbst = XB_staionary[[\"Platform\",\"Global_Sales\"]].reset_index().iloc[:,1:3]\n",
    "\n",
    "\n",
    "df2 = pd.DataFrame({'Platform': ['Xbox staionary devices'], 'Global_Sales': [xbst['Global_Sales'].sum()]})\n",
    "xbst = pd.concat([psst,ninst,df2],ignore_index = True,axis = 0)\n",
    "xbst = xbst.tail(1)\n",
    "xbst"
   ]
  },
  {
   "cell_type": "code",
   "execution_count": 177,
   "id": "bbd82125-7bad-4d83-99cb-2c3c7b94321a",
   "metadata": {},
   "outputs": [
    {
     "data": {
      "text/html": [
       "<div>\n",
       "<style scoped>\n",
       "    .dataframe tbody tr th:only-of-type {\n",
       "        vertical-align: middle;\n",
       "    }\n",
       "\n",
       "    .dataframe tbody tr th {\n",
       "        vertical-align: top;\n",
       "    }\n",
       "\n",
       "    .dataframe thead th {\n",
       "        text-align: right;\n",
       "    }\n",
       "</style>\n",
       "<table border=\"1\" class=\"dataframe\">\n",
       "  <thead>\n",
       "    <tr style=\"text-align: right;\">\n",
       "      <th></th>\n",
       "      <th>Platform</th>\n",
       "      <th>Global_Sales</th>\n",
       "    </tr>\n",
       "  </thead>\n",
       "  <tbody>\n",
       "    <tr>\n",
       "      <th>0</th>\n",
       "      <td>Sony staionary devices</td>\n",
       "      <td>3239.98</td>\n",
       "    </tr>\n",
       "    <tr>\n",
       "      <th>1</th>\n",
       "      <td>Nintendo staionary devices</td>\n",
       "      <td>1859.65</td>\n",
       "    </tr>\n",
       "    <tr>\n",
       "      <th>2</th>\n",
       "      <td>Xbox staionary devices</td>\n",
       "      <td>1389.33</td>\n",
       "    </tr>\n",
       "  </tbody>\n",
       "</table>\n",
       "</div>"
      ],
      "text/plain": [
       "                     Platform  Global_Sales\n",
       "0      Sony staionary devices       3239.98\n",
       "1  Nintendo staionary devices       1859.65\n",
       "2      Xbox staionary devices       1389.33"
      ]
     },
     "execution_count": 177,
     "metadata": {},
     "output_type": "execute_result"
    }
   ],
   "source": [
    "frames2 = [psst, ninst,xbst]\n",
    "  \n",
    "all_staionary = pd.concat(frames2)\n",
    "all_staionary"
   ]
  },
  {
   "cell_type": "code",
   "execution_count": 178,
   "id": "1feecc4a-641e-4eaf-bea6-3d1d573e9bca",
   "metadata": {},
   "outputs": [
    {
     "data": {
      "image/png": "[encoded data removed]",
      "text/plain": [
       "<Figure size 720x360 with 1 Axes>"
      ]
     },
     "metadata": {},
     "output_type": "display_data"
    }
   ],
   "source": [
    "plt.figure(figsize=(10,5))\n",
    "sns.barplot(x=\"Platform\",y=\"Global_Sales\", data=all_staionary).set_title('    Sony VS Nintendo VS Xbox \\nStationary',size = 20,fontweight =\"bold\")\n",
    "plt.show()"
   ]
  },
  {
   "cell_type": "markdown",
   "id": "f46ff5cf-32f8-4322-bf42-b3d5d808725a",
   "metadata": {},
   "source": [
    "##### It can be seen that ***Sony stationary consoles are the leading platform*** in the global sales market. We also conclude that Xbox does not constitute real competition."
   ]
  },
  {
   "cell_type": "markdown",
   "id": "915d2559-d41c-48b7-8126-0f9450882775",
   "metadata": {},
   "source": [
    "<div>\n",
    "<img src=\"https://raw.githubusercontent.com/guyuliel/Data-Science/main/tekken%205.jpg\" width=\"300\"/>   \n",
    "</div>"
   ]
  },
  {
   "cell_type": "markdown",
   "id": "34ff20f7-b28b-426a-b96f-6749fac25d83",
   "metadata": {},
   "source": [
    "### We will check the amount of all global sales between the stationary consoles of Sony and Nintendo ***for each year separately***.\n",
    "#### Between 1994-2016"
   ]
  },
  {
   "cell_type": "code",
   "execution_count": 179,
   "id": "0fc15319-9097-4f46-bfa4-65db323da6be",
   "metadata": {},
   "outputs": [],
   "source": [
    "ninfile = myfile.loc[(myfile.Platform == 'Wii') | (myfile.Platform == 'WiiU') | (myfile.Platform == 'NES') | (myfile.Platform == 'SNES') | (myfile.Platform == 'N64') | (myfile.Platform == 'GC')]\n",
    "nin_group = ninfile.groupby(\"Year_of_Release\")[['Global_Sales']].sum().reset_index()\n",
    "nin_group.rename(columns = {'Global_Sales':'Total_NIN'},inplace= True)\n",
    "nin_group = nin_group.iloc[11:34].reset_index()\n",
    "nin_group = nin_group.iloc[:,1:]"
   ]
  },
  {
   "cell_type": "code",
   "execution_count": 180,
   "id": "7274fa8e-1e3f-4f5d-8502-b339a0aac5f3",
   "metadata": {},
   "outputs": [],
   "source": [
    "psfile = myfile[(myfile[\"Platform\"]==\"PS\")|(myfile[\"Platform\"]== \"PS2\") | (myfile[\"Platform\"]==\"PS3\") |(myfile[\"Platform\"]==\"PS4\")]\n",
    "ps_group = psfile.groupby(\"Year_of_Release\")[['Global_Sales']].sum().reset_index()\n",
    "ps_group.rename(columns = {'Global_Sales':'Total_PS'}, inplace = True)"
   ]
  },
  {
   "cell_type": "code",
   "execution_count": 181,
   "id": "0dc0a7c6-68cb-4964-af2b-a216ccc60d69",
   "metadata": {},
   "outputs": [
    {
     "data": {
      "text/html": [
       "<div>\n",
       "<style scoped>\n",
       "    .dataframe tbody tr th:only-of-type {\n",
       "        vertical-align: middle;\n",
       "    }\n",
       "\n",
       "    .dataframe tbody tr th {\n",
       "        vertical-align: top;\n",
       "    }\n",
       "\n",
       "    .dataframe thead th {\n",
       "        text-align: right;\n",
       "    }\n",
       "</style>\n",
       "<table border=\"1\" class=\"dataframe\">\n",
       "  <thead>\n",
       "    <tr style=\"text-align: right;\">\n",
       "      <th></th>\n",
       "      <th>Year_of_Release</th>\n",
       "      <th>Total_PS</th>\n",
       "      <th>Total_NIN</th>\n",
       "    </tr>\n",
       "  </thead>\n",
       "  <tbody>\n",
       "    <tr>\n",
       "      <th>18</th>\n",
       "      <td>2012</td>\n",
       "      <td>107.27</td>\n",
       "      <td>39.25</td>\n",
       "    </tr>\n",
       "    <tr>\n",
       "      <th>19</th>\n",
       "      <td>2013</td>\n",
       "      <td>139.14</td>\n",
       "      <td>30.28</td>\n",
       "    </tr>\n",
       "    <tr>\n",
       "      <th>20</th>\n",
       "      <td>2014</td>\n",
       "      <td>147.60</td>\n",
       "      <td>25.78</td>\n",
       "    </tr>\n",
       "    <tr>\n",
       "      <th>21</th>\n",
       "      <td>2015</td>\n",
       "      <td>135.83</td>\n",
       "      <td>17.47</td>\n",
       "    </tr>\n",
       "    <tr>\n",
       "      <th>22</th>\n",
       "      <td>2016</td>\n",
       "      <td>72.87</td>\n",
       "      <td>4.76</td>\n",
       "    </tr>\n",
       "  </tbody>\n",
       "</table>\n",
       "</div>"
      ],
      "text/plain": [
       "    Year_of_Release  Total_PS  Total_NIN\n",
       "18             2012    107.27      39.25\n",
       "19             2013    139.14      30.28\n",
       "20             2014    147.60      25.78\n",
       "21             2015    135.83      17.47\n",
       "22             2016     72.87       4.76"
      ]
     },
     "execution_count": 181,
     "metadata": {},
     "output_type": "execute_result"
    }
   ],
   "source": [
    "ps_nin = ps_group\n",
    "ps_nin = ps_nin.reset_index()\n",
    "ps_nin = ps_nin[[\"Year_of_Release\",\"Total_PS\"]]\n",
    "ps_nin[\"Total_NIN\"] = nin_group[[\"Total_NIN\"]]\n",
    "ps_nin = ps_nin.fillna(0).iloc[:23]\n",
    "ps_nin.tail()"
   ]
  },
  {
   "cell_type": "code",
   "execution_count": 182,
   "id": "a0138c48-56f5-4422-a78b-79bc33a3aa06",
   "metadata": {},
   "outputs": [
    {
     "data": {
      "image/png": "[encoded data removed]",
      "text/plain": [
       "<Figure size 1728x720 with 1 Axes>"
      ]
     },
     "metadata": {},
     "output_type": "display_data"
    }
   ],
   "source": [
    "ps_nin=ps_nin.groupby('Year_of_Release')[['Total_PS','Total_NIN']].sum()\n",
    "ax = ps_nin.plot.bar(figsize=(24,10))\n",
    "ax.set_title('SONY VS NINTENDO',size=25,fontweight =\"bold\")\n",
    "plt.legend(fontsize = 20)\n",
    "\n",
    "def change_width(ax, new_value) :\n",
    "    for patch in ax.patches :\n",
    "        current_width = patch.get_width()\n",
    "        diff = current_width - new_value\n",
    "\n",
    "        patch.set_width(new_value)\n",
    "\n",
    "        patch.set_x(patch.get_x() + diff * .5)\n",
    "\n",
    "change_width(ax, .55)\n",
    "plt.show()"
   ]
  },
  {
   "cell_type": "code",
   "execution_count": 183,
   "id": "5ae90b12-17cc-4ce9-a55b-188aa9be8bf8",
   "metadata": {},
   "outputs": [
    {
     "data": {
      "text/plain": [
       "2006"
      ]
     },
     "execution_count": 183,
     "metadata": {},
     "output_type": "execute_result"
    }
   ],
   "source": [
    "Wii_file = myfile.loc[(myfile.Platform == 'Wii')]\n",
    "Wii_file['Year_of_Release'].min()"
   ]
  },
  {
   "cell_type": "markdown",
   "id": "e6fffe02-da74-444f-b7c3-9e90c276dfd7",
   "metadata": {},
   "source": [
    "### **Conclusion**"
   ]
  },
  {
   "cell_type": "markdown",
   "id": "01a4bae6-7599-4af4-bc33-19482d7ef556",
   "metadata": {},
   "source": [
    "#### 1. since SonyPlaystation started to release video games for stores, it can be seen that it was gifted with great success, and its total global sales were much higher than Nintendo.\n",
    "#### 2. therefore we notice from the graph, that in 2006 there is a significant raise in Nintendo's global sales. That is because in 2006 WII console was released, that raised the global sales volume and even passed SonyPlaystation between the years 2006-2009\n",
    "#####"
   ]
  },
  {
   "cell_type": "markdown",
   "id": "2b94c0b8-9962-4960-b3eb-bd9a15ae2221",
   "metadata": {},
   "source": [
    "### *In order to determine the battle between those 2 video games giants, we will merge the global sales data of the mobile devices with the stationary consoles.*\n",
    "##### we can't wait to see the results.... "
   ]
  },
  {
   "cell_type": "code",
   "execution_count": 130,
   "id": "3d16cbf5-48f2-441b-9a82-e8f39c34af88",
   "metadata": {
    "tags": []
   },
   "outputs": [],
   "source": [
    "group_sales = myfile.groupby(\"Platform\")[[\"Global_Sales\"]].sum().sort_values(by = \"Global_Sales\",ascending = False).reset_index()"
   ]
  },
  {
   "cell_type": "code",
   "execution_count": 184,
   "id": "c2a1f82a-513c-4348-afbe-be37271b265e",
   "metadata": {},
   "outputs": [
    {
     "data": {
      "text/html": [
       "<div>\n",
       "<style scoped>\n",
       "    .dataframe tbody tr th:only-of-type {\n",
       "        vertical-align: middle;\n",
       "    }\n",
       "\n",
       "    .dataframe tbody tr th {\n",
       "        vertical-align: top;\n",
       "    }\n",
       "\n",
       "    .dataframe thead th {\n",
       "        text-align: right;\n",
       "    }\n",
       "</style>\n",
       "<table border=\"1\" class=\"dataframe\">\n",
       "  <thead>\n",
       "    <tr style=\"text-align: right;\">\n",
       "      <th></th>\n",
       "      <th>Platform</th>\n",
       "      <th>Global_Sales</th>\n",
       "      <th>%Global_Sales%</th>\n",
       "    </tr>\n",
       "  </thead>\n",
       "  <tbody>\n",
       "    <tr>\n",
       "      <th>0</th>\n",
       "      <td>PS2</td>\n",
       "      <td>1255.64</td>\n",
       "      <td>0.140800</td>\n",
       "    </tr>\n",
       "    <tr>\n",
       "      <th>1</th>\n",
       "      <td>X360</td>\n",
       "      <td>971.63</td>\n",
       "      <td>0.108953</td>\n",
       "    </tr>\n",
       "    <tr>\n",
       "      <th>2</th>\n",
       "      <td>PS3</td>\n",
       "      <td>939.43</td>\n",
       "      <td>0.105342</td>\n",
       "    </tr>\n",
       "    <tr>\n",
       "      <th>3</th>\n",
       "      <td>Wii</td>\n",
       "      <td>908.13</td>\n",
       "      <td>0.101832</td>\n",
       "    </tr>\n",
       "    <tr>\n",
       "      <th>4</th>\n",
       "      <td>DS</td>\n",
       "      <td>807.10</td>\n",
       "      <td>0.090504</td>\n",
       "    </tr>\n",
       "  </tbody>\n",
       "</table>\n",
       "</div>"
      ],
      "text/plain": [
       "  Platform  Global_Sales  %Global_Sales%\n",
       "0      PS2       1255.64        0.140800\n",
       "1     X360        971.63        0.108953\n",
       "2      PS3        939.43        0.105342\n",
       "3      Wii        908.13        0.101832\n",
       "4       DS        807.10        0.090504"
      ]
     },
     "execution_count": 184,
     "metadata": {},
     "output_type": "execute_result"
    }
   ],
   "source": [
    "tot_sales = group_sales[\"Global_Sales\"].sum()\n",
    "group_sales[\"%Global_Sales%\"] = (group_sales[\"Global_Sales\"])/tot_sales.copy()\n",
    "group_sales.head()"
   ]
  },
  {
   "cell_type": "code",
   "execution_count": 185,
   "id": "506aecc6-ecc2-49bc-9954-09493c8095df",
   "metadata": {},
   "outputs": [
    {
     "data": {
      "text/plain": [
       "0.402"
      ]
     },
     "execution_count": 185,
     "metadata": {},
     "output_type": "execute_result"
    }
   ],
   "source": [
    "psfile1 = group_sales[(group_sales[\"Platform\"]==\"PS\")|(group_sales[\"Platform\"]== \"PS2\") | (group_sales[\"Platform\"]==\"PS3\") |(group_sales[\"Platform\"]==\"PS4\") |(group_sales[\"Platform\"]==\"PSP\") | (group_sales[\"Platform\"]==\"PSV\")]\n",
    "psfile1[\"%Global_Sales%\"].sum().round(3)"
   ]
  },
  {
   "cell_type": "code",
   "execution_count": 186,
   "id": "300d811b-8702-4e31-bbe9-3cfc6586fc2c",
   "metadata": {},
   "outputs": [
    {
     "data": {
      "text/plain": [
       "0.392"
      ]
     },
     "execution_count": 186,
     "metadata": {},
     "output_type": "execute_result"
    }
   ],
   "source": [
    "ninfile1 = group_sales[(group_sales[\"Platform\"]==\"Wii\")|(group_sales[\"Platform\"]== \"DS\") | (group_sales[\"Platform\"]==\"WiiU\") |(group_sales[\"Platform\"]==\"NES\") |(group_sales[\"Platform\"]==\"SNES\") | (group_sales[\"Platform\"]==\"N64\")|(group_sales[\"Platform\"]== \"GBA\") |(group_sales[\"Platform\"]== \"3DS\") |(group_sales[\"Platform\"]== \"GC\") |(group_sales[\"Platform\"]== \"GB\")]\n",
    "ninfile1[\"%Global_Sales%\"].sum().round(3)"
   ]
  },
  {
   "cell_type": "code",
   "execution_count": 187,
   "id": "3c9b43da-1385-4dcb-b794-c9f54bc3005b",
   "metadata": {},
   "outputs": [
    {
     "data": {
      "image/png": "[encoded data removed]",
      "text/plain": [
       "<Figure size 1080x864 with 2 Axes>"
      ]
     },
     "metadata": {},
     "output_type": "display_data"
    }
   ],
   "source": [
    "plt.subplot(1,2,1)\n",
    "def autopct(pct): \n",
    "    return ('%.1f%%' % pct) if pct > 3 else\"\"\n",
    "explode = (0.07,0,0.07,0,0,0.07,0,0.07,0.07,0,0,0,0,0,0,0,0,0,0,0,0.07,0,0,0,0,0,0,0,0,0,0)\n",
    "plt.title(\"Global Sales Sony %\",fontweight =\"bold\",fontsize=25)\n",
    "colors = [\"deepskyblue\" if (x!=\"PS\" and x!=\"PS2\" and x!=\"PS3\" and x!=\"PS4\" and x!=\"PSP\" and x!=\"PSV\") else 'red' for x in group_sales.Platform]\n",
    "ax = group_sales[\"Global_Sales\"].plot(kind='pie', figsize=(15,12), autopct=autopct,labels=group_sales[\"Platform\"],explode = explode,colors = colors)\n",
    "\n",
    "\n",
    "plt.subplot(1,2,2)\n",
    "def autopct(pct): \n",
    "    return ('%.1f%%' % pct) if pct > 0.7 else\"\"\n",
    "explode = (0,0,0,0.07,0.07,0,0.07,0,0,0,0.07,0,0.07,0.07,0.07,0.07,0.07,0,0,0.07,0,0,0,0,0,0,0,0,0,0,0)\n",
    "plt.title(\" %Global Sales Nintendo\",fontweight =\"bold\",fontsize=25)\n",
    "colors = [\"orange\" if (x!=\"Wii\" and x!=\"DS\" and x!=\"WiiU\" and x!=\"NES\" and x!=\"SNES\" and x!= \"N64\" and x!=\"GBA\" and x!=\"3DS\" and x!=\"GB\" and x!=\"GC\") else 'limegreen' for x in group_sales.Platform]\n",
    "ax = group_sales[\"Global_Sales\"].plot(kind='pie', figsize=(15,12), autopct=autopct,labels=group_sales[\"Platform\"],explode = explode,colors = colors)\n",
    "plt.show()"
   ]
  },
  {
   "cell_type": "markdown",
   "id": "bd8a4de3-7f73-4a5d-9397-57eb4d5d1dbc",
   "metadata": {},
   "source": [
    "### **Conclusion** \n",
    "#### ****it's a TIE!!!**** almost...\n",
    "##### The Total Global Sales of Sony constitutes **40.02%** of the total global sales.\n",
    "##### The Total Global Sales of Nintendo constitutes **39.2%** percent of the total global sales\n",
    "\n",
    "### Both companies are Originally from ***Japan***\n",
    "\n",
    "### Sony and Nintendo are The most succesfull companies for video games (make up about ***80%*** of the global market share)"
   ]
  },
  {
   "cell_type": "markdown",
   "id": "762f6966-d5ae-4ca7-8b6f-860e5974460e",
   "metadata": {},
   "source": [
    "<div>\n",
    "<img src=\"https://raw.githubusercontent.com/guyuliel/Data-Science/main/image%205.jpg\" width=\"500\"/>\n",
    "</div>"
   ]
  },
  {
   "cell_type": "markdown",
   "id": "48663edc-8d56-4129-adac-f696de6227c0",
   "metadata": {},
   "source": [
    "---"
   ]
  },
  {
   "cell_type": "markdown",
   "id": "68cbf297-f383-4c70-8920-95a5fed1dfec",
   "metadata": {},
   "source": [
    "# **Comparison between areas**\n",
    "## ***Observation 3***"
   ]
  },
  {
   "cell_type": "markdown",
   "id": "58d18ec2-2074-47e7-be01-0db383ed2fd6",
   "metadata": {},
   "source": [
    "### We will examine differences in purchases by genres divided into purchase areas:\n"
   ]
  },
  {
   "cell_type": "code",
   "execution_count": 188,
   "id": "a237d179-4d44-4735-b731-833fcd7536c8",
   "metadata": {},
   "outputs": [],
   "source": [
    "features = myfile[['Genre', 'NA_Sales', 'EU_Sales', 'JP_Sales', 'Other_Sales', 'Global_Sales']]\n",
    "All_Sales = features.groupby('Genre').sum().reset_index()\n",
    "All_Sales[\"Precent_NA_Sales\"]=((All_Sales[\"NA_Sales\"])/(All_Sales[\"Global_Sales\"])*100).round(3)\n",
    "All_Sales[\"Precent_EU_Sales\"]=((All_Sales[\"EU_Sales\"])/(All_Sales[\"Global_Sales\"])*100).round(3)\n",
    "All_Sales[\"Precent_JP_Sales\"]=((All_Sales[\"JP_Sales\"])/(All_Sales[\"Global_Sales\"])*100).round(3)\n",
    "All_Sales[\"Precent_Other_Sales_Sales\"]=((All_Sales[\"Other_Sales\"])/(All_Sales[\"Global_Sales\"])*100).round(3)"
   ]
  },
  {
   "cell_type": "code",
   "execution_count": 199,
   "id": "dadc8e07-915e-4e59-9d4b-d39088356f49",
   "metadata": {},
   "outputs": [
    {
     "data": {
      "image/png": "[encoded data removed]",
      "text/plain": [
       "<Figure size 1584x576 with 1 Axes>"
      ]
     },
     "metadata": {},
     "output_type": "display_data"
    }
   ],
   "source": [
    "illustration=All_Sales.groupby('Genre')[[\"Precent_NA_Sales\",\"Precent_EU_Sales\",\"Precent_JP_Sales\",\"Precent_Other_Sales_Sales\"]].sum()\n",
    "ax = illustration.plot.bar(figsize=(22,8))\n",
    "plt.legend(fontsize = 12)\n",
    "def change_width(ax, new_value) :\n",
    "    for patch in ax.patches :\n",
    "        current_width = patch.get_width()\n",
    "        diff = current_width - new_value\n",
    "\n",
    "        patch.set_width(new_value)\n",
    "\n",
    "        patch.set_x(patch.get_x() + diff * .5)\n",
    "\n",
    "change_width(ax, .25)\n",
    "plt.show()"
   ]
  },
  {
   "cell_type": "markdown",
   "id": "07dbd088-5abb-4747-bc73-1545d1ed5ff9",
   "metadata": {},
   "source": [
    "##### From this plot we can understand the size of the American market. it constitutes a huge part of the total global sales. it noticeable in every genre. almost 50% of all sales except in one genre"
   ]
  },
  {
   "cell_type": "markdown",
   "id": "3ed5a3cd-a21e-4f95-984d-3086dd2202f3",
   "metadata": {},
   "source": [
    "### Once we understood the size of the US market we will continue to go into the depths of this market and we will get more insights on it"
   ]
  },
  {
   "cell_type": "code",
   "execution_count": 190,
   "id": "04fbbe89-df2f-4053-bcb2-dc46bc157a60",
   "metadata": {},
   "outputs": [],
   "source": [
    "Most_Sale_Platform_Global_Sales = myfile[['Platform','Global_Sales']].groupby('Platform').sum().sort_values('Global_Sales',ascending= False).reset_index()\n",
    "Most_Sale_Platform_Global_Sales = Most_Sale_Platform_Global_Sales.head()\n",
    "Most_Sale_Platform_NA = myfile[['Platform','NA_Sales']].groupby('Platform').sum().sort_values('NA_Sales',ascending= False).reset_index()\n",
    "Most_Sale_Platform_NA = Most_Sale_Platform_NA.head()"
   ]
  },
  {
   "cell_type": "code",
   "execution_count": 191,
   "id": "1ac4ce4e-7f21-423a-963b-2c556c476ecf",
   "metadata": {},
   "outputs": [
    {
     "data": {
      "image/png": "[encoded data removed]",
      "text/plain": [
       "<Figure size 1440x360 with 2 Axes>"
      ]
     },
     "metadata": {},
     "output_type": "display_data"
    }
   ],
   "source": [
    "fig, axes = plt.subplots(figsize=(20,5), ncols=2)\n",
    "fig.suptitle(\"The Most Platform - Global_Sales VS NA_Sale\",fontweight =\"bold\")\n",
    "sns.barplot(ax=axes[0],data=Most_Sale_Platform_Global_Sales, x='Platform',y='Global_Sales')\n",
    "sns.barplot(ax=axes[1],data=Most_Sale_Platform_NA, x='Platform',y='NA_Sales')\n",
    "plt.show()"
   ]
  },
  {
   "cell_type": "markdown",
   "id": "aa2f9cd2-ebcf-461f-b824-9caf80dad9fa",
   "metadata": {},
   "source": [
    "##### After realizing that the US market is considered a large share (50%) of all global sales we wanted to check if this percentage also overlaps with the best selling consoles in the world. and the answer is **yes**! we can see from the graphs that the best selling consoles in the world are the same consoles who sold in the US. that insight clearly illustrates the impact of the American market on the world "
   ]
  },
  {
   "cell_type": "markdown",
   "id": "fb97d0cc-5978-4bf0-973e-d7fd00796d20",
   "metadata": {},
   "source": [
    "### We want to check whether there is a difference in the popularity of the genres between the Eastern culture and Western culture"
   ]
  },
  {
   "cell_type": "code",
   "execution_count": 192,
   "id": "721870b6-d798-470b-9abf-9b1052b0479f",
   "metadata": {},
   "outputs": [
    {
     "data": {
      "text/html": [
       "<style type=\"text/css\">\n",
       "#T_86637_row0_col0, #T_86637_row0_col1, #T_86637_row0_col2, #T_86637_row1_col0, #T_86637_row1_col1, #T_86637_row1_col2, #T_86637_row2_col0, #T_86637_row2_col1, #T_86637_row2_col2 {\n",
       "  background-color: turquoise;\n",
       "}\n",
       "#T_86637_row3_col0, #T_86637_row3_col1, #T_86637_row3_col2, #T_86637_row4_col0, #T_86637_row4_col1, #T_86637_row4_col2, #T_86637_row5_col0, #T_86637_row5_col1, #T_86637_row5_col2, #T_86637_row6_col0, #T_86637_row6_col1, #T_86637_row6_col2, #T_86637_row7_col0, #T_86637_row7_col1, #T_86637_row7_col2, #T_86637_row8_col0, #T_86637_row8_col1, #T_86637_row8_col2, #T_86637_row9_col0, #T_86637_row9_col1, #T_86637_row9_col2, #T_86637_row10_col0, #T_86637_row10_col1, #T_86637_row10_col2, #T_86637_row11_col0, #T_86637_row11_col1, #T_86637_row11_col2 {\n",
       "  background-color: white;\n",
       "}\n",
       "</style>\n",
       "<table id=\"T_86637\">\n",
       "  <thead>\n",
       "    <tr>\n",
       "      <th class=\"blank level0\" >&nbsp;</th>\n",
       "      <th id=\"T_86637_level0_col0\" class=\"col_heading level0 col0\" >Genre</th>\n",
       "      <th id=\"T_86637_level0_col1\" class=\"col_heading level0 col1\" >NA_Sales</th>\n",
       "      <th id=\"T_86637_level0_col2\" class=\"col_heading level0 col2\" >Division by genre in %</th>\n",
       "    </tr>\n",
       "  </thead>\n",
       "  <tbody>\n",
       "    <tr>\n",
       "      <th id=\"T_86637_level0_row0\" class=\"row_heading level0 row0\" >0</th>\n",
       "      <td id=\"T_86637_row0_col0\" class=\"data row0 col0\" >Action</td>\n",
       "      <td id=\"T_86637_row0_col1\" class=\"data row0 col1\" >879.010000</td>\n",
       "      <td id=\"T_86637_row0_col2\" class=\"data row0 col2\" >19.974000</td>\n",
       "    </tr>\n",
       "    <tr>\n",
       "      <th id=\"T_86637_level0_row1\" class=\"row_heading level0 row1\" >1</th>\n",
       "      <td id=\"T_86637_row1_col0\" class=\"data row1 col0\" >Sports</td>\n",
       "      <td id=\"T_86637_row1_col1\" class=\"data row1 col1\" >684.430000</td>\n",
       "      <td id=\"T_86637_row1_col2\" class=\"data row1 col2\" >15.552000</td>\n",
       "    </tr>\n",
       "    <tr>\n",
       "      <th id=\"T_86637_level0_row2\" class=\"row_heading level0 row2\" >2</th>\n",
       "      <td id=\"T_86637_row2_col0\" class=\"data row2 col0\" >Shooter</td>\n",
       "      <td id=\"T_86637_row2_col1\" class=\"data row2 col1\" >592.240000</td>\n",
       "      <td id=\"T_86637_row2_col2\" class=\"data row2 col2\" >13.457000</td>\n",
       "    </tr>\n",
       "    <tr>\n",
       "      <th id=\"T_86637_level0_row3\" class=\"row_heading level0 row3\" >3</th>\n",
       "      <td id=\"T_86637_row3_col0\" class=\"data row3 col0\" >Platform</td>\n",
       "      <td id=\"T_86637_row3_col1\" class=\"data row3 col1\" >445.500000</td>\n",
       "      <td id=\"T_86637_row3_col2\" class=\"data row3 col2\" >10.123000</td>\n",
       "    </tr>\n",
       "    <tr>\n",
       "      <th id=\"T_86637_level0_row4\" class=\"row_heading level0 row4\" >4</th>\n",
       "      <td id=\"T_86637_row4_col0\" class=\"data row4 col0\" >Misc</td>\n",
       "      <td id=\"T_86637_row4_col1\" class=\"data row4 col1\" >407.270000</td>\n",
       "      <td id=\"T_86637_row4_col2\" class=\"data row4 col2\" >9.254000</td>\n",
       "    </tr>\n",
       "    <tr>\n",
       "      <th id=\"T_86637_level0_row5\" class=\"row_heading level0 row5\" >5</th>\n",
       "      <td id=\"T_86637_row5_col0\" class=\"data row5 col0\" >Racing</td>\n",
       "      <td id=\"T_86637_row5_col1\" class=\"data row5 col1\" >359.350000</td>\n",
       "      <td id=\"T_86637_row5_col2\" class=\"data row5 col2\" >8.165000</td>\n",
       "    </tr>\n",
       "    <tr>\n",
       "      <th id=\"T_86637_level0_row6\" class=\"row_heading level0 row6\" >6</th>\n",
       "      <td id=\"T_86637_row6_col0\" class=\"data row6 col0\" >Role-Playing</td>\n",
       "      <td id=\"T_86637_row6_col1\" class=\"data row6 col1\" >330.810000</td>\n",
       "      <td id=\"T_86637_row6_col2\" class=\"data row6 col2\" >7.517000</td>\n",
       "    </tr>\n",
       "    <tr>\n",
       "      <th id=\"T_86637_level0_row7\" class=\"row_heading level0 row7\" >7</th>\n",
       "      <td id=\"T_86637_row7_col0\" class=\"data row7 col0\" >Fighting</td>\n",
       "      <td id=\"T_86637_row7_col1\" class=\"data row7 col1\" >223.360000</td>\n",
       "      <td id=\"T_86637_row7_col2\" class=\"data row7 col2\" >5.075000</td>\n",
       "    </tr>\n",
       "    <tr>\n",
       "      <th id=\"T_86637_level0_row8\" class=\"row_heading level0 row8\" >8</th>\n",
       "      <td id=\"T_86637_row8_col0\" class=\"data row8 col0\" >Simulation</td>\n",
       "      <td id=\"T_86637_row8_col1\" class=\"data row8 col1\" >182.190000</td>\n",
       "      <td id=\"T_86637_row8_col2\" class=\"data row8 col2\" >4.140000</td>\n",
       "    </tr>\n",
       "    <tr>\n",
       "      <th id=\"T_86637_level0_row9\" class=\"row_heading level0 row9\" >9</th>\n",
       "      <td id=\"T_86637_row9_col0\" class=\"data row9 col0\" >Puzzle</td>\n",
       "      <td id=\"T_86637_row9_col1\" class=\"data row9 col1\" >122.870000</td>\n",
       "      <td id=\"T_86637_row9_col2\" class=\"data row9 col2\" >2.792000</td>\n",
       "    </tr>\n",
       "    <tr>\n",
       "      <th id=\"T_86637_level0_row10\" class=\"row_heading level0 row10\" >10</th>\n",
       "      <td id=\"T_86637_row10_col0\" class=\"data row10 col0\" >Adventure</td>\n",
       "      <td id=\"T_86637_row10_col1\" class=\"data row10 col1\" >105.260000</td>\n",
       "      <td id=\"T_86637_row10_col2\" class=\"data row10 col2\" >2.392000</td>\n",
       "    </tr>\n",
       "    <tr>\n",
       "      <th id=\"T_86637_level0_row11\" class=\"row_heading level0 row11\" >11</th>\n",
       "      <td id=\"T_86637_row11_col0\" class=\"data row11 col0\" >Strategy</td>\n",
       "      <td id=\"T_86637_row11_col1\" class=\"data row11 col1\" >68.550000</td>\n",
       "      <td id=\"T_86637_row11_col2\" class=\"data row11 col2\" >1.558000</td>\n",
       "    </tr>\n",
       "  </tbody>\n",
       "</table>\n"
      ],
      "text/plain": [
       "<pandas.io.formats.style.Styler at 0x230f7705f00>"
      ]
     },
     "execution_count": 192,
     "metadata": {},
     "output_type": "execute_result"
    }
   ],
   "source": [
    "NA_Sales_Genre = myfile[[\"Genre\",\"NA_Sales\"]].groupby(\"Genre\").sum().reset_index()\n",
    "NA_Sales_Sum = NA_Sales_Genre[\"NA_Sales\"].sum()\n",
    "NA_Sales_Genre['Division by genre in %']=(((NA_Sales_Genre[\"NA_Sales\"])/NA_Sales_Sum)*100).round(3)\n",
    "NA_Sales_Genre=NA_Sales_Genre.sort_values(by = 'Division by genre in %',ascending = False).reset_index().iloc[:,1:]\n",
    "\n",
    "def Top3(s):\n",
    "    if s.loc[\"Division by genre in %\"] > 13:\n",
    "        return ['background-color: turquoise']*3\n",
    "    else:\n",
    "        return ['background-color: white']*3\n",
    "\n",
    "NA_Sales_Genre.style.apply(Top3, axis=1)"
   ]
  },
  {
   "cell_type": "code",
   "execution_count": 193,
   "id": "a0b5854b-5ae0-4659-a364-4fa80c1f5d4a",
   "metadata": {},
   "outputs": [
    {
     "data": {
      "text/html": [
       "<style type=\"text/css\">\n",
       "#T_e2ba8_row0_col0, #T_e2ba8_row0_col1, #T_e2ba8_row0_col2, #T_e2ba8_row1_col0, #T_e2ba8_row1_col1, #T_e2ba8_row1_col2, #T_e2ba8_row2_col0, #T_e2ba8_row2_col1, #T_e2ba8_row2_col2 {\n",
       "  background-color: turquoise;\n",
       "}\n",
       "#T_e2ba8_row3_col0, #T_e2ba8_row3_col1, #T_e2ba8_row3_col2, #T_e2ba8_row4_col0, #T_e2ba8_row4_col1, #T_e2ba8_row4_col2, #T_e2ba8_row5_col0, #T_e2ba8_row5_col1, #T_e2ba8_row5_col2, #T_e2ba8_row6_col0, #T_e2ba8_row6_col1, #T_e2ba8_row6_col2, #T_e2ba8_row7_col0, #T_e2ba8_row7_col1, #T_e2ba8_row7_col2, #T_e2ba8_row8_col0, #T_e2ba8_row8_col1, #T_e2ba8_row8_col2, #T_e2ba8_row9_col0, #T_e2ba8_row9_col1, #T_e2ba8_row9_col2, #T_e2ba8_row10_col0, #T_e2ba8_row10_col1, #T_e2ba8_row10_col2, #T_e2ba8_row11_col0, #T_e2ba8_row11_col1, #T_e2ba8_row11_col2 {\n",
       "  background-color: white;\n",
       "}\n",
       "</style>\n",
       "<table id=\"T_e2ba8\">\n",
       "  <thead>\n",
       "    <tr>\n",
       "      <th class=\"blank level0\" >&nbsp;</th>\n",
       "      <th id=\"T_e2ba8_level0_col0\" class=\"col_heading level0 col0\" >Genre</th>\n",
       "      <th id=\"T_e2ba8_level0_col1\" class=\"col_heading level0 col1\" >EU_Sales</th>\n",
       "      <th id=\"T_e2ba8_level0_col2\" class=\"col_heading level0 col2\" >Division by genre in %</th>\n",
       "    </tr>\n",
       "  </thead>\n",
       "  <tbody>\n",
       "    <tr>\n",
       "      <th id=\"T_e2ba8_level0_row0\" class=\"row_heading level0 row0\" >0</th>\n",
       "      <td id=\"T_e2ba8_row0_col0\" class=\"data row0 col0\" >Action</td>\n",
       "      <td id=\"T_e2ba8_row0_col1\" class=\"data row0 col1\" >519.130000</td>\n",
       "      <td id=\"T_e2ba8_row0_col2\" class=\"data row0 col2\" >21.415000</td>\n",
       "    </tr>\n",
       "    <tr>\n",
       "      <th id=\"T_e2ba8_level0_row1\" class=\"row_heading level0 row1\" >1</th>\n",
       "      <td id=\"T_e2ba8_row1_col0\" class=\"data row1 col0\" >Sports</td>\n",
       "      <td id=\"T_e2ba8_row1_col1\" class=\"data row1 col1\" >376.790000</td>\n",
       "      <td id=\"T_e2ba8_row1_col2\" class=\"data row1 col2\" >15.543000</td>\n",
       "    </tr>\n",
       "    <tr>\n",
       "      <th id=\"T_e2ba8_level0_row2\" class=\"row_heading level0 row2\" >2</th>\n",
       "      <td id=\"T_e2ba8_row2_col0\" class=\"data row2 col0\" >Shooter</td>\n",
       "      <td id=\"T_e2ba8_row2_col1\" class=\"data row2 col1\" >317.340000</td>\n",
       "      <td id=\"T_e2ba8_row2_col2\" class=\"data row2 col2\" >13.091000</td>\n",
       "    </tr>\n",
       "    <tr>\n",
       "      <th id=\"T_e2ba8_level0_row3\" class=\"row_heading level0 row3\" >3</th>\n",
       "      <td id=\"T_e2ba8_row3_col0\" class=\"data row3 col0\" >Racing</td>\n",
       "      <td id=\"T_e2ba8_row3_col1\" class=\"data row3 col1\" >236.510000</td>\n",
       "      <td id=\"T_e2ba8_row3_col2\" class=\"data row3 col2\" >9.756000</td>\n",
       "    </tr>\n",
       "    <tr>\n",
       "      <th id=\"T_e2ba8_level0_row4\" class=\"row_heading level0 row4\" >4</th>\n",
       "      <td id=\"T_e2ba8_row4_col0\" class=\"data row4 col0\" >Misc</td>\n",
       "      <td id=\"T_e2ba8_row4_col1\" class=\"data row4 col1\" >212.740000</td>\n",
       "      <td id=\"T_e2ba8_row4_col2\" class=\"data row4 col2\" >8.776000</td>\n",
       "    </tr>\n",
       "    <tr>\n",
       "      <th id=\"T_e2ba8_level0_row5\" class=\"row_heading level0 row5\" >5</th>\n",
       "      <td id=\"T_e2ba8_row5_col0\" class=\"data row5 col0\" >Platform</td>\n",
       "      <td id=\"T_e2ba8_row5_col1\" class=\"data row5 col1\" >200.350000</td>\n",
       "      <td id=\"T_e2ba8_row5_col2\" class=\"data row5 col2\" >8.265000</td>\n",
       "    </tr>\n",
       "    <tr>\n",
       "      <th id=\"T_e2ba8_level0_row6\" class=\"row_heading level0 row6\" >6</th>\n",
       "      <td id=\"T_e2ba8_row6_col0\" class=\"data row6 col0\" >Role-Playing</td>\n",
       "      <td id=\"T_e2ba8_row6_col1\" class=\"data row6 col1\" >188.710000</td>\n",
       "      <td id=\"T_e2ba8_row6_col2\" class=\"data row6 col2\" >7.785000</td>\n",
       "    </tr>\n",
       "    <tr>\n",
       "      <th id=\"T_e2ba8_level0_row7\" class=\"row_heading level0 row7\" >7</th>\n",
       "      <td id=\"T_e2ba8_row7_col0\" class=\"data row7 col0\" >Simulation</td>\n",
       "      <td id=\"T_e2ba8_row7_col1\" class=\"data row7 col1\" >113.520000</td>\n",
       "      <td id=\"T_e2ba8_row7_col2\" class=\"data row7 col2\" >4.683000</td>\n",
       "    </tr>\n",
       "    <tr>\n",
       "      <th id=\"T_e2ba8_level0_row8\" class=\"row_heading level0 row8\" >8</th>\n",
       "      <td id=\"T_e2ba8_row8_col0\" class=\"data row8 col0\" >Fighting</td>\n",
       "      <td id=\"T_e2ba8_row8_col1\" class=\"data row8 col1\" >100.330000</td>\n",
       "      <td id=\"T_e2ba8_row8_col2\" class=\"data row8 col2\" >4.139000</td>\n",
       "    </tr>\n",
       "    <tr>\n",
       "      <th id=\"T_e2ba8_level0_row9\" class=\"row_heading level0 row9\" >9</th>\n",
       "      <td id=\"T_e2ba8_row9_col0\" class=\"data row9 col0\" >Adventure</td>\n",
       "      <td id=\"T_e2ba8_row9_col1\" class=\"data row9 col1\" >63.540000</td>\n",
       "      <td id=\"T_e2ba8_row9_col2\" class=\"data row9 col2\" >2.621000</td>\n",
       "    </tr>\n",
       "    <tr>\n",
       "      <th id=\"T_e2ba8_level0_row10\" class=\"row_heading level0 row10\" >10</th>\n",
       "      <td id=\"T_e2ba8_row10_col0\" class=\"data row10 col0\" >Puzzle</td>\n",
       "      <td id=\"T_e2ba8_row10_col1\" class=\"data row10 col1\" >50.010000</td>\n",
       "      <td id=\"T_e2ba8_row10_col2\" class=\"data row10 col2\" >2.063000</td>\n",
       "    </tr>\n",
       "    <tr>\n",
       "      <th id=\"T_e2ba8_level0_row11\" class=\"row_heading level0 row11\" >11</th>\n",
       "      <td id=\"T_e2ba8_row11_col0\" class=\"data row11 col0\" >Strategy</td>\n",
       "      <td id=\"T_e2ba8_row11_col1\" class=\"data row11 col1\" >45.170000</td>\n",
       "      <td id=\"T_e2ba8_row11_col2\" class=\"data row11 col2\" >1.863000</td>\n",
       "    </tr>\n",
       "  </tbody>\n",
       "</table>\n"
      ],
      "text/plain": [
       "<pandas.io.formats.style.Styler at 0x230f7d77970>"
      ]
     },
     "execution_count": 193,
     "metadata": {},
     "output_type": "execute_result"
    }
   ],
   "source": [
    "EU_Sales_Genre = myfile[[\"Genre\",\"EU_Sales\"]].groupby(\"Genre\").sum().reset_index()\n",
    "EU_Sales_Sum = EU_Sales_Genre[\"EU_Sales\"].sum()\n",
    "EU_Sales_Genre['Division by genre in %']=(((EU_Sales_Genre[\"EU_Sales\"])/EU_Sales_Sum)*100).round(3)\n",
    "EU_Sales_Genre=EU_Sales_Genre.sort_values(by = 'Division by genre in %',ascending = False).reset_index().iloc[:,1:]\n",
    "\n",
    "def Top3(s):\n",
    "    if s.loc[\"Division by genre in %\"] > 13:\n",
    "        return ['background-color: turquoise']*3\n",
    "    else:\n",
    "        return ['background-color: white']*3\n",
    "\n",
    "EU_Sales_Genre.style.apply(Top3, axis=1)"
   ]
  },
  {
   "cell_type": "code",
   "execution_count": 194,
   "id": "a856d342-4900-489b-828d-b7244d608008",
   "metadata": {},
   "outputs": [
    {
     "data": {
      "text/html": [
       "<style type=\"text/css\">\n",
       "#T_e1e3a_row0_col0, #T_e1e3a_row0_col1, #T_e1e3a_row0_col2, #T_e1e3a_row1_col0, #T_e1e3a_row1_col1, #T_e1e3a_row1_col2, #T_e1e3a_row2_col0, #T_e1e3a_row2_col1, #T_e1e3a_row2_col2 {\n",
       "  background-color: turquoise;\n",
       "}\n",
       "#T_e1e3a_row3_col0, #T_e1e3a_row3_col1, #T_e1e3a_row3_col2, #T_e1e3a_row4_col0, #T_e1e3a_row4_col1, #T_e1e3a_row4_col2, #T_e1e3a_row5_col0, #T_e1e3a_row5_col1, #T_e1e3a_row5_col2, #T_e1e3a_row6_col0, #T_e1e3a_row6_col1, #T_e1e3a_row6_col2, #T_e1e3a_row7_col0, #T_e1e3a_row7_col1, #T_e1e3a_row7_col2, #T_e1e3a_row8_col0, #T_e1e3a_row8_col1, #T_e1e3a_row8_col2, #T_e1e3a_row9_col0, #T_e1e3a_row9_col1, #T_e1e3a_row9_col2, #T_e1e3a_row10_col0, #T_e1e3a_row10_col1, #T_e1e3a_row10_col2, #T_e1e3a_row11_col0, #T_e1e3a_row11_col1, #T_e1e3a_row11_col2 {\n",
       "  background-color: white;\n",
       "}\n",
       "</style>\n",
       "<table id=\"T_e1e3a\">\n",
       "  <thead>\n",
       "    <tr>\n",
       "      <th class=\"blank level0\" >&nbsp;</th>\n",
       "      <th id=\"T_e1e3a_level0_col0\" class=\"col_heading level0 col0\" >Genre</th>\n",
       "      <th id=\"T_e1e3a_level0_col1\" class=\"col_heading level0 col1\" >JP_Sales</th>\n",
       "      <th id=\"T_e1e3a_level0_col2\" class=\"col_heading level0 col2\" >Division by genre in %</th>\n",
       "    </tr>\n",
       "  </thead>\n",
       "  <tbody>\n",
       "    <tr>\n",
       "      <th id=\"T_e1e3a_level0_row0\" class=\"row_heading level0 row0\" >0</th>\n",
       "      <td id=\"T_e1e3a_row0_col0\" class=\"data row0 col0\" >Role-Playing</td>\n",
       "      <td id=\"T_e1e3a_row0_col1\" class=\"data row0 col1\" >355.460000</td>\n",
       "      <td id=\"T_e1e3a_row0_col2\" class=\"data row0 col2\" >27.398000</td>\n",
       "    </tr>\n",
       "    <tr>\n",
       "      <th id=\"T_e1e3a_level0_row1\" class=\"row_heading level0 row1\" >1</th>\n",
       "      <td id=\"T_e1e3a_row1_col0\" class=\"data row1 col0\" >Action</td>\n",
       "      <td id=\"T_e1e3a_row1_col1\" class=\"data row1 col1\" >161.440000</td>\n",
       "      <td id=\"T_e1e3a_row1_col2\" class=\"data row1 col2\" >12.443000</td>\n",
       "    </tr>\n",
       "    <tr>\n",
       "      <th id=\"T_e1e3a_level0_row2\" class=\"row_heading level0 row2\" >2</th>\n",
       "      <td id=\"T_e1e3a_row2_col0\" class=\"data row2 col0\" >Sports</td>\n",
       "      <td id=\"T_e1e3a_row2_col1\" class=\"data row2 col1\" >135.540000</td>\n",
       "      <td id=\"T_e1e3a_row2_col2\" class=\"data row2 col2\" >10.447000</td>\n",
       "    </tr>\n",
       "    <tr>\n",
       "      <th id=\"T_e1e3a_level0_row3\" class=\"row_heading level0 row3\" >3</th>\n",
       "      <td id=\"T_e1e3a_row3_col0\" class=\"data row3 col0\" >Platform</td>\n",
       "      <td id=\"T_e1e3a_row3_col1\" class=\"data row3 col1\" >130.830000</td>\n",
       "      <td id=\"T_e1e3a_row3_col2\" class=\"data row3 col2\" >10.084000</td>\n",
       "    </tr>\n",
       "    <tr>\n",
       "      <th id=\"T_e1e3a_level0_row4\" class=\"row_heading level0 row4\" >4</th>\n",
       "      <td id=\"T_e1e3a_row4_col0\" class=\"data row4 col0\" >Misc</td>\n",
       "      <td id=\"T_e1e3a_row4_col1\" class=\"data row4 col1\" >108.110000</td>\n",
       "      <td id=\"T_e1e3a_row4_col2\" class=\"data row4 col2\" >8.333000</td>\n",
       "    </tr>\n",
       "    <tr>\n",
       "      <th id=\"T_e1e3a_level0_row5\" class=\"row_heading level0 row5\" >5</th>\n",
       "      <td id=\"T_e1e3a_row5_col0\" class=\"data row5 col0\" >Fighting</td>\n",
       "      <td id=\"T_e1e3a_row5_col1\" class=\"data row5 col1\" >87.480000</td>\n",
       "      <td id=\"T_e1e3a_row5_col2\" class=\"data row5 col2\" >6.743000</td>\n",
       "    </tr>\n",
       "    <tr>\n",
       "      <th id=\"T_e1e3a_level0_row6\" class=\"row_heading level0 row6\" >6</th>\n",
       "      <td id=\"T_e1e3a_row6_col0\" class=\"data row6 col0\" >Simulation</td>\n",
       "      <td id=\"T_e1e3a_row6_col1\" class=\"data row6 col1\" >63.800000</td>\n",
       "      <td id=\"T_e1e3a_row6_col2\" class=\"data row6 col2\" >4.918000</td>\n",
       "    </tr>\n",
       "    <tr>\n",
       "      <th id=\"T_e1e3a_level0_row7\" class=\"row_heading level0 row7\" >7</th>\n",
       "      <td id=\"T_e1e3a_row7_col0\" class=\"data row7 col0\" >Puzzle</td>\n",
       "      <td id=\"T_e1e3a_row7_col1\" class=\"data row7 col1\" >57.310000</td>\n",
       "      <td id=\"T_e1e3a_row7_col2\" class=\"data row7 col2\" >4.417000</td>\n",
       "    </tr>\n",
       "    <tr>\n",
       "      <th id=\"T_e1e3a_level0_row8\" class=\"row_heading level0 row8\" >8</th>\n",
       "      <td id=\"T_e1e3a_row8_col0\" class=\"data row8 col0\" >Racing</td>\n",
       "      <td id=\"T_e1e3a_row8_col1\" class=\"data row8 col1\" >56.710000</td>\n",
       "      <td id=\"T_e1e3a_row8_col2\" class=\"data row8 col2\" >4.371000</td>\n",
       "    </tr>\n",
       "    <tr>\n",
       "      <th id=\"T_e1e3a_level0_row9\" class=\"row_heading level0 row9\" >9</th>\n",
       "      <td id=\"T_e1e3a_row9_col0\" class=\"data row9 col0\" >Adventure</td>\n",
       "      <td id=\"T_e1e3a_row9_col1\" class=\"data row9 col1\" >52.300000</td>\n",
       "      <td id=\"T_e1e3a_row9_col2\" class=\"data row9 col2\" >4.031000</td>\n",
       "    </tr>\n",
       "    <tr>\n",
       "      <th id=\"T_e1e3a_level0_row10\" class=\"row_heading level0 row10\" >10</th>\n",
       "      <td id=\"T_e1e3a_row10_col0\" class=\"data row10 col0\" >Strategy</td>\n",
       "      <td id=\"T_e1e3a_row10_col1\" class=\"data row10 col1\" >49.660000</td>\n",
       "      <td id=\"T_e1e3a_row10_col2\" class=\"data row10 col2\" >3.828000</td>\n",
       "    </tr>\n",
       "    <tr>\n",
       "      <th id=\"T_e1e3a_level0_row11\" class=\"row_heading level0 row11\" >11</th>\n",
       "      <td id=\"T_e1e3a_row11_col0\" class=\"data row11 col0\" >Shooter</td>\n",
       "      <td id=\"T_e1e3a_row11_col1\" class=\"data row11 col1\" >38.760000</td>\n",
       "      <td id=\"T_e1e3a_row11_col2\" class=\"data row11 col2\" >2.988000</td>\n",
       "    </tr>\n",
       "  </tbody>\n",
       "</table>\n"
      ],
      "text/plain": [
       "<pandas.io.formats.style.Styler at 0x230f3c7e350>"
      ]
     },
     "execution_count": 194,
     "metadata": {},
     "output_type": "execute_result"
    }
   ],
   "source": [
    "JP_Sales_Genre = myfile[[\"Genre\",\"JP_Sales\"]].groupby(\"Genre\").sum().reset_index()\n",
    "JP_Sales_Sum = JP_Sales_Genre[\"JP_Sales\"].sum()\n",
    "JP_Sales_Genre['Division by genre in %']=(((JP_Sales_Genre[\"JP_Sales\"])/JP_Sales_Sum)*100).round(3)\n",
    "JP_Sales_Genre=JP_Sales_Genre.sort_values(by = 'Division by genre in %',ascending = False).reset_index().iloc[:,1:]\n",
    "\n",
    "def Top3(s):\n",
    "    if s.loc[\"Division by genre in %\"] > 10.4:\n",
    "        return ['background-color: turquoise']*3\n",
    "    else:\n",
    "        return ['background-color: white']*3\n",
    "\n",
    "JP_Sales_Genre.style.apply(Top3, axis=1)"
   ]
  },
  {
   "cell_type": "markdown",
   "id": "cdc817fb-7910-45ba-ad0a-962ee54fa2a5",
   "metadata": {},
   "source": [
    "### **Conclusion**"
   ]
  },
  {
   "cell_type": "markdown",
   "id": "ef431eed-a88d-4c19-a7dd-f6844e1e81bb",
   "metadata": {},
   "source": [
    "#### It can be seen that there are significant differences in the choice of genre in the West (Europe and USA) and the East (Japan)\n",
    "#### as we can see,in north america and europe the users like to be \"active\" while they playing,so they prefer games with action and movement and less \"thinking games\". However the japanese defenetly prefer \"role-playing\" games with \"connection to the game character\" and much more thinking."
   ]
  },
  {
   "cell_type": "markdown",
   "id": "3d85a9a1-fcf8-4e0a-9eb8-4bb398f6a9a4",
   "metadata": {},
   "source": [
    "## ***The Subprime crisis***"
   ]
  },
  {
   "cell_type": "code",
   "execution_count": 195,
   "id": "ee9f32c0-3a50-42ad-839f-4cf8ef80e835",
   "metadata": {},
   "outputs": [
    {
     "data": {
      "text/plain": [
       "<AxesSubplot:xlabel='Year_of_Release'>"
      ]
     },
     "execution_count": 195,
     "metadata": {},
     "output_type": "execute_result"
    },
    {
     "data": {
      "image/png": "[encoded data removed]",
      "text/plain": [
       "<Figure size 1440x720 with 1 Axes>"
      ]
     },
     "metadata": {},
     "output_type": "display_data"
    }
   ],
   "source": [
    "Global_Sales_Year = myfile.groupby('Year_of_Release')[['Global_Sales','NA_Sales','EU_Sales','JP_Sales', 'Other_Sales']].sum()\n",
    "Global_Sales_Year = Global_Sales_Year.iloc[:-1]\n",
    "Global_Sales_Year.plot(figsize = (20,10))"
   ]
  },
  {
   "cell_type": "markdown",
   "id": "d4d418e6-fd9b-41f9-87f6-aa2528aa0d9f",
   "metadata": {},
   "source": [
    "##### From the above graph it can be seen that there was a change in the trend of purchasing video games in 2008-2009."
   ]
  },
  {
   "cell_type": "markdown",
   "id": "9945c027-51ac-4098-a34a-9c0b8e6d60cb",
   "metadata": {},
   "source": [
    "### **Conclusion**\n",
    "#### After an in-depth study, we realized that the Subprime crisis in 2008 had a profound effect on the whole world. It can be seen that the sharper changes were in the US but also in the rest of the world."
   ]
  },
  {
   "cell_type": "markdown",
   "id": "52483879-41f8-4a86-899f-0823f670dff7",
   "metadata": {},
   "source": [
    "___"
   ]
  },
  {
   "cell_type": "markdown",
   "id": "a704807e-17cf-4b81-a168-1f3bbe8aa018",
   "metadata": {},
   "source": [
    "<div>\n",
    "<img src=\"https://raw.githubusercontent.com/guyuliel/Data-Science/main/milan%20fifa%20photo.jpg\" width=\"700\"/>    \n",
    "<img src=\"https://raw.githubusercontent.com/guyuliel/Data-Science/main/image%20-%20hatul.jpeg\" width=\"700\"/>\n",
    "</div>\n",
    "<div>"
   ]
  }
 ],
 "metadata": {
  "kernelspec": {
   "display_name": "Python 3 (ipykernel)",
   "language": "python",
   "name": "python3"
  },
  "language_info": {
   "codemirror_mode": {
    "name": "ipython",
    "version": 3
   },
   "file_extension": ".py",
   "mimetype": "text/x-python",
   "name": "python",
   "nbconvert_exporter": "python",
   "pygments_lexer": "ipython3",
   "version": "3.9.6"
  },
  "toc-autonumbering": false,
  "toc-showcode": false,
  "toc-showmarkdowntxt": true
 },
 "nbformat": 4,
 "nbformat_minor": 5
}
