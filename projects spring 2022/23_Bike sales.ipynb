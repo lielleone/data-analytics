{
 "cells": [
  {
   "cell_type": "markdown",
   "id": "8211d534-3f87-49cc-bb07-bb969b48d5ab",
   "metadata": {
    "tags": []
   },
   "source": [
    "# Bike Store Sales, 23 "
   ]
  },
  {
   "cell_type": "markdown",
   "id": "49a04090-3087-4b16-ab64-46d9f2d6a268",
   "metadata": {
    "tags": []
   },
   "source": [
    "בר אלמקיס,\n",
    "גל דוידי,\n",
    "דניאל גולדשמיד,\n",
    "אורי ינון ביטון"
   ]
  },
  {
   "cell_type": "markdown",
   "id": "ea95ff6d-c1b6-49e5-9551-f9c12c3dbee8",
   "metadata": {
    "tags": []
   },
   "source": [
    "<div>\n",
    "<img src= \"https://raw.githubusercontent.com/gdavidi/my-project/main/Biker1.jpg\" width=\"550\"/>\n",
    "</div>"
   ]
  },
  {
   "cell_type": "code",
   "execution_count": 121,
   "id": "108ce384-836a-4059-a8c9-c790220883a0",
   "metadata": {},
   "outputs": [],
   "source": [
    "import numpy as np\n",
    "import pandas as pd\n",
    "import seaborn as sns\n",
    "import matplotlib.pyplot as plt"
   ]
  },
  {
   "cell_type": "code",
   "execution_count": 122,
   "id": "19508791-0e47-4c61-a7c2-0e9158917e3f",
   "metadata": {},
   "outputs": [
    {
     "data": {
      "text/html": [
       "<div>\n",
       "<style scoped>\n",
       "    .dataframe tbody tr th:only-of-type {\n",
       "        vertical-align: middle;\n",
       "    }\n",
       "\n",
       "    .dataframe tbody tr th {\n",
       "        vertical-align: top;\n",
       "    }\n",
       "\n",
       "    .dataframe thead th {\n",
       "        text-align: right;\n",
       "    }\n",
       "</style>\n",
       "<table border=\"1\" class=\"dataframe\">\n",
       "  <thead>\n",
       "    <tr style=\"text-align: right;\">\n",
       "      <th></th>\n",
       "      <th>Date</th>\n",
       "      <th>Day</th>\n",
       "      <th>Month</th>\n",
       "      <th>Year</th>\n",
       "      <th>Customer_Age</th>\n",
       "      <th>Age_Group</th>\n",
       "      <th>Customer_Gender</th>\n",
       "      <th>Country</th>\n",
       "      <th>State</th>\n",
       "      <th>Product_Category</th>\n",
       "      <th>Sub_Category</th>\n",
       "      <th>Product</th>\n",
       "      <th>Order_Quantity</th>\n",
       "      <th>Unit_Cost</th>\n",
       "      <th>Unit_Price</th>\n",
       "      <th>Profit</th>\n",
       "      <th>Cost</th>\n",
       "      <th>Revenue</th>\n",
       "    </tr>\n",
       "  </thead>\n",
       "  <tbody>\n",
       "    <tr>\n",
       "      <th>0</th>\n",
       "      <td>2013-11-26</td>\n",
       "      <td>26</td>\n",
       "      <td>November</td>\n",
       "      <td>2013</td>\n",
       "      <td>19</td>\n",
       "      <td>Youth (&lt;25)</td>\n",
       "      <td>M</td>\n",
       "      <td>Canada</td>\n",
       "      <td>British Columbia</td>\n",
       "      <td>Accessories</td>\n",
       "      <td>Bike Racks</td>\n",
       "      <td>Hitch Rack - 4-Bike</td>\n",
       "      <td>8</td>\n",
       "      <td>45</td>\n",
       "      <td>120</td>\n",
       "      <td>590</td>\n",
       "      <td>360</td>\n",
       "      <td>950</td>\n",
       "    </tr>\n",
       "    <tr>\n",
       "      <th>1</th>\n",
       "      <td>2015-11-26</td>\n",
       "      <td>26</td>\n",
       "      <td>November</td>\n",
       "      <td>2015</td>\n",
       "      <td>19</td>\n",
       "      <td>Youth (&lt;25)</td>\n",
       "      <td>M</td>\n",
       "      <td>Canada</td>\n",
       "      <td>British Columbia</td>\n",
       "      <td>Accessories</td>\n",
       "      <td>Bike Racks</td>\n",
       "      <td>Hitch Rack - 4-Bike</td>\n",
       "      <td>8</td>\n",
       "      <td>45</td>\n",
       "      <td>120</td>\n",
       "      <td>590</td>\n",
       "      <td>360</td>\n",
       "      <td>950</td>\n",
       "    </tr>\n",
       "    <tr>\n",
       "      <th>2</th>\n",
       "      <td>2014-03-23</td>\n",
       "      <td>23</td>\n",
       "      <td>March</td>\n",
       "      <td>2014</td>\n",
       "      <td>49</td>\n",
       "      <td>Adults (35-64)</td>\n",
       "      <td>M</td>\n",
       "      <td>Australia</td>\n",
       "      <td>New South Wales</td>\n",
       "      <td>Accessories</td>\n",
       "      <td>Bike Racks</td>\n",
       "      <td>Hitch Rack - 4-Bike</td>\n",
       "      <td>23</td>\n",
       "      <td>45</td>\n",
       "      <td>120</td>\n",
       "      <td>1366</td>\n",
       "      <td>1035</td>\n",
       "      <td>2401</td>\n",
       "    </tr>\n",
       "    <tr>\n",
       "      <th>3</th>\n",
       "      <td>2016-03-23</td>\n",
       "      <td>23</td>\n",
       "      <td>March</td>\n",
       "      <td>2016</td>\n",
       "      <td>49</td>\n",
       "      <td>Adults (35-64)</td>\n",
       "      <td>M</td>\n",
       "      <td>Australia</td>\n",
       "      <td>New South Wales</td>\n",
       "      <td>Accessories</td>\n",
       "      <td>Bike Racks</td>\n",
       "      <td>Hitch Rack - 4-Bike</td>\n",
       "      <td>20</td>\n",
       "      <td>45</td>\n",
       "      <td>120</td>\n",
       "      <td>1188</td>\n",
       "      <td>900</td>\n",
       "      <td>2088</td>\n",
       "    </tr>\n",
       "    <tr>\n",
       "      <th>4</th>\n",
       "      <td>2014-05-15</td>\n",
       "      <td>15</td>\n",
       "      <td>May</td>\n",
       "      <td>2014</td>\n",
       "      <td>47</td>\n",
       "      <td>Adults (35-64)</td>\n",
       "      <td>F</td>\n",
       "      <td>Australia</td>\n",
       "      <td>New South Wales</td>\n",
       "      <td>Accessories</td>\n",
       "      <td>Bike Racks</td>\n",
       "      <td>Hitch Rack - 4-Bike</td>\n",
       "      <td>4</td>\n",
       "      <td>45</td>\n",
       "      <td>120</td>\n",
       "      <td>238</td>\n",
       "      <td>180</td>\n",
       "      <td>418</td>\n",
       "    </tr>\n",
       "  </tbody>\n",
       "</table>\n",
       "</div>"
      ],
      "text/plain": [
       "         Date  Day     Month  Year  Customer_Age       Age_Group  \\\n",
       "0  2013-11-26   26  November  2013            19     Youth (<25)   \n",
       "1  2015-11-26   26  November  2015            19     Youth (<25)   \n",
       "2  2014-03-23   23     March  2014            49  Adults (35-64)   \n",
       "3  2016-03-23   23     March  2016            49  Adults (35-64)   \n",
       "4  2014-05-15   15       May  2014            47  Adults (35-64)   \n",
       "\n",
       "  Customer_Gender    Country             State Product_Category Sub_Category  \\\n",
       "0               M     Canada  British Columbia      Accessories   Bike Racks   \n",
       "1               M     Canada  British Columbia      Accessories   Bike Racks   \n",
       "2               M  Australia   New South Wales      Accessories   Bike Racks   \n",
       "3               M  Australia   New South Wales      Accessories   Bike Racks   \n",
       "4               F  Australia   New South Wales      Accessories   Bike Racks   \n",
       "\n",
       "               Product  Order_Quantity  Unit_Cost  Unit_Price  Profit  Cost  \\\n",
       "0  Hitch Rack - 4-Bike               8         45         120     590   360   \n",
       "1  Hitch Rack - 4-Bike               8         45         120     590   360   \n",
       "2  Hitch Rack - 4-Bike              23         45         120    1366  1035   \n",
       "3  Hitch Rack - 4-Bike              20         45         120    1188   900   \n",
       "4  Hitch Rack - 4-Bike               4         45         120     238   180   \n",
       "\n",
       "   Revenue  \n",
       "0      950  \n",
       "1      950  \n",
       "2     2401  \n",
       "3     2088  \n",
       "4      418  "
      ]
     },
     "execution_count": 122,
     "metadata": {},
     "output_type": "execute_result"
    }
   ],
   "source": [
    "url = 'https://raw.githubusercontent.com/gdavidi/my-project/main/Sales.csv'\n",
    "df = pd.read_csv(url)\n",
    "df.head()"
   ]
  },
  {
   "cell_type": "code",
   "execution_count": 123,
   "id": "ac676793-72de-4875-b5bf-738755da7061",
   "metadata": {},
   "outputs": [
    {
     "data": {
      "text/plain": [
       "array(['Youth (<25)', 'Adults (35-64)', 'Young Adults (25-34)',\n",
       "       'Seniors (64+)'], dtype=object)"
      ]
     },
     "execution_count": 123,
     "metadata": {},
     "output_type": "execute_result"
    }
   ],
   "source": [
    "df['Age_Group'].unique()"
   ]
  },
  {
   "cell_type": "code",
   "execution_count": 124,
   "id": "7caf0b8a-0cfa-49cf-a2d6-e246eb89070f",
   "metadata": {},
   "outputs": [
    {
     "data": {
      "text/plain": [
       "array(['Accessories', 'Clothing', 'Bikes'], dtype=object)"
      ]
     },
     "execution_count": 124,
     "metadata": {},
     "output_type": "execute_result"
    }
   ],
   "source": [
    "df['Product_Category'].unique()"
   ]
  },
  {
   "cell_type": "code",
   "execution_count": 125,
   "id": "f38abc72-82a5-49c8-85bc-a95e04f73a83",
   "metadata": {},
   "outputs": [
    {
     "data": {
      "text/plain": [
       "array(['Bike Racks', 'Bike Stands', 'Bottles and Cages', 'Caps',\n",
       "       'Cleaners', 'Fenders', 'Gloves', 'Helmets', 'Hydration Packs',\n",
       "       'Jerseys', 'Mountain Bikes', 'Road Bikes', 'Shorts', 'Socks',\n",
       "       'Tires and Tubes', 'Touring Bikes', 'Vests'], dtype=object)"
      ]
     },
     "execution_count": 125,
     "metadata": {},
     "output_type": "execute_result"
    }
   ],
   "source": [
    "df['Sub_Category'].unique()"
   ]
  },
  {
   "cell_type": "code",
   "execution_count": 126,
   "id": "41fc91d6-e830-47bf-b7a4-ff8f81e5ba05",
   "metadata": {},
   "outputs": [
    {
     "data": {
      "text/plain": [
       "Date                0\n",
       "Day                 0\n",
       "Month               0\n",
       "Year                0\n",
       "Customer_Age        0\n",
       "Age_Group           0\n",
       "Customer_Gender     0\n",
       "Country             0\n",
       "State               0\n",
       "Product_Category    0\n",
       "Sub_Category        0\n",
       "Product             0\n",
       "Order_Quantity      0\n",
       "Unit_Cost           0\n",
       "Unit_Price          0\n",
       "Profit              0\n",
       "Cost                0\n",
       "Revenue             0\n",
       "dtype: int64"
      ]
     },
     "execution_count": 126,
     "metadata": {},
     "output_type": "execute_result"
    }
   ],
   "source": [
    "df.isnull().sum()"
   ]
  },
  {
   "cell_type": "code",
   "execution_count": 127,
   "id": "6300207e-419d-40cf-992e-a20971d7a4e7",
   "metadata": {},
   "outputs": [
    {
     "data": {
      "text/plain": [
       "Date                object\n",
       "Day                  int64\n",
       "Month               object\n",
       "Year                 int64\n",
       "Customer_Age         int64\n",
       "Age_Group           object\n",
       "Customer_Gender     object\n",
       "Country             object\n",
       "State               object\n",
       "Product_Category    object\n",
       "Sub_Category        object\n",
       "Product             object\n",
       "Order_Quantity       int64\n",
       "Unit_Cost            int64\n",
       "Unit_Price           int64\n",
       "Profit               int64\n",
       "Cost                 int64\n",
       "Revenue              int64\n",
       "dtype: object"
      ]
     },
     "execution_count": 127,
     "metadata": {},
     "output_type": "execute_result"
    }
   ],
   "source": [
    "df.dtypes"
   ]
  },
  {
   "cell_type": "markdown",
   "id": "759fc08c-e6de-4f46-b8e8-38f4e44e1d95",
   "metadata": {
    "tags": []
   },
   "source": [
    "**מטעמי נוחות שינינו את שמות העמודות**"
   ]
  },
  {
   "cell_type": "code",
   "execution_count": 128,
   "id": "a91aa493-2160-4859-aad9-a152dfd4bf61",
   "metadata": {},
   "outputs": [
    {
     "data": {
      "text/html": [
       "<div>\n",
       "<style scoped>\n",
       "    .dataframe tbody tr th:only-of-type {\n",
       "        vertical-align: middle;\n",
       "    }\n",
       "\n",
       "    .dataframe tbody tr th {\n",
       "        vertical-align: top;\n",
       "    }\n",
       "\n",
       "    .dataframe thead th {\n",
       "        text-align: right;\n",
       "    }\n",
       "</style>\n",
       "<table border=\"1\" class=\"dataframe\">\n",
       "  <thead>\n",
       "    <tr style=\"text-align: right;\">\n",
       "      <th></th>\n",
       "      <th>Date</th>\n",
       "      <th>Day</th>\n",
       "      <th>Month</th>\n",
       "      <th>Year</th>\n",
       "      <th>Age</th>\n",
       "      <th>Age_Group</th>\n",
       "      <th>Gender</th>\n",
       "      <th>Country</th>\n",
       "      <th>State</th>\n",
       "      <th>Product_Category</th>\n",
       "      <th>Sub_Category</th>\n",
       "      <th>Product</th>\n",
       "      <th>Order_Quantity</th>\n",
       "      <th>Unit_Cost</th>\n",
       "      <th>Unit_Price</th>\n",
       "      <th>Profit</th>\n",
       "      <th>Cost</th>\n",
       "      <th>Revenue</th>\n",
       "    </tr>\n",
       "  </thead>\n",
       "  <tbody>\n",
       "    <tr>\n",
       "      <th>0</th>\n",
       "      <td>2013-11-26</td>\n",
       "      <td>26</td>\n",
       "      <td>November</td>\n",
       "      <td>2013</td>\n",
       "      <td>19</td>\n",
       "      <td>Youth (&lt;25)</td>\n",
       "      <td>M</td>\n",
       "      <td>Canada</td>\n",
       "      <td>British Columbia</td>\n",
       "      <td>Accessories</td>\n",
       "      <td>Bike Racks</td>\n",
       "      <td>Hitch Rack - 4-Bike</td>\n",
       "      <td>8</td>\n",
       "      <td>45</td>\n",
       "      <td>120</td>\n",
       "      <td>590</td>\n",
       "      <td>360</td>\n",
       "      <td>950</td>\n",
       "    </tr>\n",
       "    <tr>\n",
       "      <th>1</th>\n",
       "      <td>2015-11-26</td>\n",
       "      <td>26</td>\n",
       "      <td>November</td>\n",
       "      <td>2015</td>\n",
       "      <td>19</td>\n",
       "      <td>Youth (&lt;25)</td>\n",
       "      <td>M</td>\n",
       "      <td>Canada</td>\n",
       "      <td>British Columbia</td>\n",
       "      <td>Accessories</td>\n",
       "      <td>Bike Racks</td>\n",
       "      <td>Hitch Rack - 4-Bike</td>\n",
       "      <td>8</td>\n",
       "      <td>45</td>\n",
       "      <td>120</td>\n",
       "      <td>590</td>\n",
       "      <td>360</td>\n",
       "      <td>950</td>\n",
       "    </tr>\n",
       "    <tr>\n",
       "      <th>2</th>\n",
       "      <td>2014-03-23</td>\n",
       "      <td>23</td>\n",
       "      <td>March</td>\n",
       "      <td>2014</td>\n",
       "      <td>49</td>\n",
       "      <td>Adults (35-64)</td>\n",
       "      <td>M</td>\n",
       "      <td>Australia</td>\n",
       "      <td>New South Wales</td>\n",
       "      <td>Accessories</td>\n",
       "      <td>Bike Racks</td>\n",
       "      <td>Hitch Rack - 4-Bike</td>\n",
       "      <td>23</td>\n",
       "      <td>45</td>\n",
       "      <td>120</td>\n",
       "      <td>1366</td>\n",
       "      <td>1035</td>\n",
       "      <td>2401</td>\n",
       "    </tr>\n",
       "    <tr>\n",
       "      <th>3</th>\n",
       "      <td>2016-03-23</td>\n",
       "      <td>23</td>\n",
       "      <td>March</td>\n",
       "      <td>2016</td>\n",
       "      <td>49</td>\n",
       "      <td>Adults (35-64)</td>\n",
       "      <td>M</td>\n",
       "      <td>Australia</td>\n",
       "      <td>New South Wales</td>\n",
       "      <td>Accessories</td>\n",
       "      <td>Bike Racks</td>\n",
       "      <td>Hitch Rack - 4-Bike</td>\n",
       "      <td>20</td>\n",
       "      <td>45</td>\n",
       "      <td>120</td>\n",
       "      <td>1188</td>\n",
       "      <td>900</td>\n",
       "      <td>2088</td>\n",
       "    </tr>\n",
       "    <tr>\n",
       "      <th>4</th>\n",
       "      <td>2014-05-15</td>\n",
       "      <td>15</td>\n",
       "      <td>May</td>\n",
       "      <td>2014</td>\n",
       "      <td>47</td>\n",
       "      <td>Adults (35-64)</td>\n",
       "      <td>F</td>\n",
       "      <td>Australia</td>\n",
       "      <td>New South Wales</td>\n",
       "      <td>Accessories</td>\n",
       "      <td>Bike Racks</td>\n",
       "      <td>Hitch Rack - 4-Bike</td>\n",
       "      <td>4</td>\n",
       "      <td>45</td>\n",
       "      <td>120</td>\n",
       "      <td>238</td>\n",
       "      <td>180</td>\n",
       "      <td>418</td>\n",
       "    </tr>\n",
       "  </tbody>\n",
       "</table>\n",
       "</div>"
      ],
      "text/plain": [
       "         Date  Day     Month  Year  Age       Age_Group Gender    Country  \\\n",
       "0  2013-11-26   26  November  2013   19     Youth (<25)      M     Canada   \n",
       "1  2015-11-26   26  November  2015   19     Youth (<25)      M     Canada   \n",
       "2  2014-03-23   23     March  2014   49  Adults (35-64)      M  Australia   \n",
       "3  2016-03-23   23     March  2016   49  Adults (35-64)      M  Australia   \n",
       "4  2014-05-15   15       May  2014   47  Adults (35-64)      F  Australia   \n",
       "\n",
       "              State Product_Category Sub_Category              Product  \\\n",
       "0  British Columbia      Accessories   Bike Racks  Hitch Rack - 4-Bike   \n",
       "1  British Columbia      Accessories   Bike Racks  Hitch Rack - 4-Bike   \n",
       "2   New South Wales      Accessories   Bike Racks  Hitch Rack - 4-Bike   \n",
       "3   New South Wales      Accessories   Bike Racks  Hitch Rack - 4-Bike   \n",
       "4   New South Wales      Accessories   Bike Racks  Hitch Rack - 4-Bike   \n",
       "\n",
       "   Order_Quantity  Unit_Cost  Unit_Price  Profit  Cost  Revenue  \n",
       "0               8         45         120     590   360      950  \n",
       "1               8         45         120     590   360      950  \n",
       "2              23         45         120    1366  1035     2401  \n",
       "3              20         45         120    1188   900     2088  \n",
       "4               4         45         120     238   180      418  "
      ]
     },
     "execution_count": 128,
     "metadata": {},
     "output_type": "execute_result"
    }
   ],
   "source": [
    "df.rename(columns = {'Customer_Age':'Age'}, inplace = True)\n",
    "df.rename(columns = {'Customer_Gender':'Gender'}, inplace = True)\n",
    "df.head()"
   ]
  },
  {
   "cell_type": "markdown",
   "id": "fb234232-44a7-4d71-b337-edd2543694e7",
   "metadata": {
    "tags": []
   },
   "source": [
    "****************************************"
   ]
  },
  {
   "cell_type": "markdown",
   "id": "95c2cdf1-f9f7-4795-97ae-b50cff036fd1",
   "metadata": {
    "tags": []
   },
   "source": [
    "# בדיקה כללית של הדאטה"
   ]
  },
  {
   "cell_type": "markdown",
   "id": "53a81550-1583-48f4-89ef-88ab695ff153",
   "metadata": {
    "tags": []
   },
   "source": [
    "**טווח גילאי הלקוחות**"
   ]
  },
  {
   "cell_type": "code",
   "execution_count": 129,
   "id": "3004e4d4-23e7-430c-b8ff-3236fd55b6a7",
   "metadata": {},
   "outputs": [
    {
     "data": {
      "image/png": "[encoded data removed]",
      "text/plain": [
       "<Figure size 432x288 with 1 Axes>"
      ]
     },
     "metadata": {
      "needs_background": "light"
     },
     "output_type": "display_data"
    }
   ],
   "source": [
    "sns.boxplot(data = df['Age']) \n",
    "plt.show()"
   ]
  },
  {
   "cell_type": "markdown",
   "id": "f8d8d5c9-1e6a-4fe7-bdea-a47b12a67781",
   "metadata": {
    "tags": []
   },
   "source": [
    "**ניתן לראות כי טווח גילאי הלקוחות השכיח ביותר נע בין 27 ל45**"
   ]
  },
  {
   "cell_type": "code",
   "execution_count": 130,
   "id": "e9bbec2d-a8e1-4ddb-a9f2-f568c40712e5",
   "metadata": {},
   "outputs": [
    {
     "data": {
      "text/plain": [
       "730"
      ]
     },
     "execution_count": 130,
     "metadata": {},
     "output_type": "execute_result"
    }
   ],
   "source": [
    "len(df.loc[df.Age_Group == 'Seniors (64+)']) #מספר האנשים שמעל גיל 64"
   ]
  },
  {
   "cell_type": "markdown",
   "id": "ec666cc0-620e-4ada-b824-632bd35aaaaf",
   "metadata": {
    "tags": []
   },
   "source": [
    "**המדינה הרווחית ביותר**"
   ]
  },
  {
   "cell_type": "code",
   "execution_count": 131,
   "id": "a4908039-e5e6-47e9-a5d1-73cbef7ddf9e",
   "metadata": {},
   "outputs": [
    {
     "data": {
      "image/png": "[encoded data removed]",
      "text/plain": [
       "<Figure size 504x504 with 1 Axes>"
      ]
     },
     "metadata": {
      "needs_background": "light"
     },
     "output_type": "display_data"
    }
   ],
   "source": [
    "plt.figure(figsize = (7,7))\n",
    "bar = df.groupby('Country')['Profit'].sum().copy().reset_index()\n",
    "sns.barplot(data = bar, x = 'Country', y = 'Profit', palette = 'colorblind')\n",
    "plt.xticks(rotation = 60)\n",
    "plt.xlabel(\"\")\n",
    "plt.show()"
   ]
  },
  {
   "cell_type": "markdown",
   "id": "12730edd-418c-478d-9c00-360c2e1fea98",
   "metadata": {
    "tags": []
   },
   "source": [
    "**בדיקת הקטגורייה הרווחית ביותר, הנמכרת ביותר והיקרה ביותר**"
   ]
  },
  {
   "cell_type": "code",
   "execution_count": 132,
   "id": "5f50335e-bd80-4bb5-a29f-fc5d84f94810",
   "metadata": {},
   "outputs": [],
   "source": [
    "df_prof_quan = df.groupby('Product_Category')[['Order_Quantity' ,'Unit_Cost', 'Unit_Price']].sum().copy().reset_index()\n",
    "df_prof_quan['Profit_Percent'] = 1 - df_prof_quan['Unit_Cost'] / df_prof_quan['Unit_Price']\n",
    "df_unit_cost_mean = df.groupby('Product_Category')['Unit_Cost'].mean().copy().reset_index()"
   ]
  },
  {
   "cell_type": "code",
   "execution_count": 133,
   "id": "f88bdad7-31d4-469e-8d0b-4dd8d536e770",
   "metadata": {},
   "outputs": [
    {
     "data": {
      "image/png": "[encoded data removed]",
      "text/plain": [
       "<Figure size 1080x576 with 3 Axes>"
      ]
     },
     "metadata": {
      "needs_background": "light"
     },
     "output_type": "display_data"
    }
   ],
   "source": [
    "fig, axes = plt.subplots(figsize = (15,8), ncols = 3)\n",
    "sns.barplot(data = df_prof_quan, x = 'Product_Category', y = 'Profit_Percent', ax = axes[0])\n",
    "sns.barplot(data = df_prof_quan, x = 'Product_Category', y = 'Order_Quantity', ax = axes[1])\n",
    "scale_change = sns.barplot(data = df_unit_cost_mean, x = 'Product_Category', y = 'Unit_Cost', ax = axes[2])\n",
    "plt.subplots_adjust(wspace = 0.4)\n",
    "scale_change.set_yscale('log')"
   ]
  },
  {
   "cell_type": "markdown",
   "id": "05969402-8346-4549-a857-401c4415550b",
   "metadata": {
    "tags": []
   },
   "source": [
    "*************************************"
   ]
  },
  {
   "cell_type": "markdown",
   "id": "8fd1c57c-ee4b-4dc4-bc42-1318223540b8",
   "metadata": {
    "tags": []
   },
   "source": [
    "**רצינו לבדוק מה הפער בין גברים לנשים בקניית אופניים**"
   ]
  },
  {
   "cell_type": "code",
   "execution_count": 134,
   "id": "6bc3c5ca-059f-4cb9-9fe3-3a2aba8fc0d2",
   "metadata": {},
   "outputs": [
    {
     "data": {
      "image/png": "[encoded data removed]",
      "text/plain": [
       "<Figure size 576x576 with 1 Axes>"
      ]
     },
     "metadata": {
      "needs_background": "light"
     },
     "output_type": "display_data"
    }
   ],
   "source": [
    "Bikes = df.loc[df.Product_Category == 'Bikes'].copy()\n",
    "plt.figure(figsize = (8,8))\n",
    "d = sns.countplot(data = Bikes, x = 'Sub_Category', hue = 'Gender', hue_order = ['F','M'])\n",
    "d.set(xlabel=\"\", ylabel=\"Quantity\")\n",
    "plt.show()"
   ]
  },
  {
   "cell_type": "markdown",
   "id": "9f0c6007-9dd0-4eb9-bba7-b0b441f4213f",
   "metadata": {
    "tags": []
   },
   "source": [
    "**קיבוץ לפי מגדר מכירת אופני הרים**"
   ]
  },
  {
   "cell_type": "code",
   "execution_count": 135,
   "id": "50789f69-8f01-4659-a4ec-aff88f7ea9f9",
   "metadata": {},
   "outputs": [],
   "source": [
    "mountain_bikes = Bikes.loc[Bikes.Sub_Category == 'Mountain Bikes']\n",
    "mbikes_sold_per_gender = pd.DataFrame(mountain_bikes.groupby(\"Gender\")[\"Order_Quantity\"].sum()).reset_index()"
   ]
  },
  {
   "cell_type": "markdown",
   "id": "22e9e225-f363-45ff-84ba-e2997a04b29b",
   "metadata": {
    "tags": []
   },
   "source": [
    "**השוואת כמות רכישות של אופני הרים/שטח בין גברים ונשים והשוואה כוללת של כמות הנשים והגברים שרכשו בחנות**"
   ]
  },
  {
   "cell_type": "code",
   "execution_count": 136,
   "id": "7acbc7c8-a74a-4d5b-b0e1-77881bec2b5d",
   "metadata": {},
   "outputs": [
    {
     "data": {
      "text/html": [
       "<div>\n",
       "<style scoped>\n",
       "    .dataframe tbody tr th:only-of-type {\n",
       "        vertical-align: middle;\n",
       "    }\n",
       "\n",
       "    .dataframe tbody tr th {\n",
       "        vertical-align: top;\n",
       "    }\n",
       "\n",
       "    .dataframe thead th {\n",
       "        text-align: right;\n",
       "    }\n",
       "</style>\n",
       "<table border=\"1\" class=\"dataframe\">\n",
       "  <thead>\n",
       "    <tr style=\"text-align: right;\">\n",
       "      <th></th>\n",
       "      <th>Gender</th>\n",
       "      <th>Mountain Bikes Purchased</th>\n",
       "      <th>Gender_Count</th>\n",
       "    </tr>\n",
       "  </thead>\n",
       "  <tbody>\n",
       "    <tr>\n",
       "      <th>0</th>\n",
       "      <td>F</td>\n",
       "      <td>6060</td>\n",
       "      <td>54724</td>\n",
       "    </tr>\n",
       "    <tr>\n",
       "      <th>1</th>\n",
       "      <td>M</td>\n",
       "      <td>5932</td>\n",
       "      <td>58312</td>\n",
       "    </tr>\n",
       "  </tbody>\n",
       "</table>\n",
       "</div>"
      ],
      "text/plain": [
       "  Gender  Mountain Bikes Purchased  Gender_Count\n",
       "0      F                      6060         54724\n",
       "1      M                      5932         58312"
      ]
     },
     "execution_count": 136,
     "metadata": {},
     "output_type": "execute_result"
    }
   ],
   "source": [
    "male_count = len(df.loc[df.Gender == 'M'])\n",
    "female_count = len(df.loc[df.Gender == 'F'])\n",
    "helpdf=pd.DataFrame({'count_gender':[female_count,male_count]})\n",
    "mbikes_sold_per_gender['Gender_Count']=helpdf\n",
    "mbikes_sold_per_gender.rename(columns = {'Order_Quantity':'Mountain Bikes Purchased'}, inplace = True)\n",
    "mbikes_sold_per_gender"
   ]
  },
  {
   "cell_type": "markdown",
   "id": "695e6914-baaf-408f-9b4a-5c10af08e1a4",
   "metadata": {
    "tags": []
   },
   "source": [
    "**הצגת התובנה בגרפים**"
   ]
  },
  {
   "cell_type": "code",
   "execution_count": 137,
   "id": "4e95b579-2871-4880-9bc7-af02a9143bb2",
   "metadata": {},
   "outputs": [
    {
     "data": {
      "image/png": "[encoded data removed]",
      "text/plain": [
       "<Figure size 864x504 with 2 Axes>"
      ]
     },
     "metadata": {
      "needs_background": "light"
     },
     "output_type": "display_data"
    }
   ],
   "source": [
    "fig, axes = plt.subplots(figsize=(12, 7), ncols=2)\n",
    "sns.barplot(data = mbikes_sold_per_gender, x='Gender', y = \"Mountain Bikes Purchased\", ax = axes[0])\n",
    "mbikes_sold_per_gender[['Gender_Count']].plot.pie(y = 'Gender_Count', autopct='%.0f%%', labels = ['F', 'M'], ax = axes[1])\n",
    "plt.title('Female and Male count by percentage')\n",
    "plt.ylabel('')\n",
    "plt.show()"
   ]
  },
  {
   "cell_type": "markdown",
   "id": "6aba663a-1dbb-47df-9d0b-2a112a9bb827",
   "metadata": {
    "tags": []
   },
   "source": [
    "#### תובנה 1: ניתן לראות שכמות הנשים שרכשו אופני הרים בחנות גדולה מכמות אופני ההרים שרכשו הגברים, אף על פי שכמות הגברים שביצעו רכישה בחנות עולה על כמות הנשים "
   ]
  },
  {
   "cell_type": "markdown",
   "id": "4faa2d22-eb32-4d80-ba22-017d71d34c99",
   "metadata": {
    "tags": []
   },
   "source": [
    "***************************************"
   ]
  },
  {
   "cell_type": "markdown",
   "id": "0b3e43a4-ccf7-41c6-b232-edb86c267f04",
   "metadata": {
    "tags": []
   },
   "source": [
    "**רצינו לבדוק כמה מכירות אופניים בוצעו בכל חודש** "
   ]
  },
  {
   "cell_type": "code",
   "execution_count": 138,
   "id": "e954c310-9359-4e34-a1ac-ae72c2d1a949",
   "metadata": {},
   "outputs": [
    {
     "data": {
      "image/png": "[encoded data removed]",
      "text/plain": [
       "<Figure size 504x432 with 1 Axes>"
      ]
     },
     "metadata": {
      "needs_background": "light"
     },
     "output_type": "display_data"
    }
   ],
   "source": [
    "plt.figure(figsize = (7,6))\n",
    "m_Order = ['January', 'February', 'March', 'April', 'May', 'June', 'July', 'August', 'September', 'October', 'November', 'December']\n",
    "df_m = Bikes.groupby('Month')[['Order_Quantity']].sum().copy().reset_index()\n",
    "sns.barplot(data = df_m, x = 'Month', y = 'Order_Quantity', order = m_Order)\n",
    "plt.xticks(rotation = 70)\n",
    "plt.xlabel('')\n",
    "plt.ylabel('Orders')\n",
    "plt.show()"
   ]
  },
  {
   "cell_type": "markdown",
   "id": "01a056ec-6fad-4760-8881-b3c1514eba84",
   "metadata": {
    "tags": []
   },
   "source": [
    "**ראינו מהגרף שבחודשי החורף המכירות גבוהות יחסית, תהינו האם כמות המכירות בחורף גבוהות מכמות המכירות בקיץ**"
   ]
  },
  {
   "cell_type": "markdown",
   "id": "5778cc6f-de64-47e6-a15b-d42db5e4aecb",
   "metadata": {
    "tags": []
   },
   "source": [
    "**ראשית בדקנו את חודשי הקיץ והחורף בכל אחת מהמדינות, וראינו שלמעט אוסטרליה ( שהיא מדינה לא מייצגת מכיוון שיורד שם גשם כל השנה )\n",
    "חודשי הקיץ הם: יוני - אוגוסט\n",
    "וחודשי החורף הם : דצמבר - פברואר**"
   ]
  },
  {
   "cell_type": "code",
   "execution_count": 139,
   "id": "d0e2cace-4128-47d3-8144-82e2e4078978",
   "metadata": {},
   "outputs": [],
   "source": [
    "Bikes_No_Aus = Bikes.loc[Bikes.Country != 'Australia'] # הורדת אוסטרליה\n",
    "Summer = Bikes_No_Aus.loc[(Bikes_No_Aus.Month == 'August') | (Bikes_No_Aus.Month == 'July') | (Bikes_No_Aus.Month == 'June')].copy()\n",
    "Winter = Bikes_No_Aus.loc[(Bikes_No_Aus.Month == 'December') | (Bikes_No_Aus.Month == 'January') | (Bikes_No_Aus.Month == 'February')].copy()\n",
    "Summer['Season'] = 'Summer'\n",
    "Winter['Season'] = 'Winter'\n",
    "result = pd.concat([Summer, Winter]).reset_index().drop('index', axis = 1)"
   ]
  },
  {
   "cell_type": "markdown",
   "id": "b19d4539-b4e4-44d4-a85e-ccca0c12fca9",
   "metadata": {
    "tags": []
   },
   "source": [
    "**ביצענו טבלת השוואה בין כמות רכישות האופניים בחודשי הקיץ והחורף**"
   ]
  },
  {
   "cell_type": "code",
   "execution_count": 140,
   "id": "f174806f-89af-4b38-a330-0bb409deafef",
   "metadata": {},
   "outputs": [
    {
     "data": {
      "text/html": [
       "<div>\n",
       "<style scoped>\n",
       "    .dataframe tbody tr th:only-of-type {\n",
       "        vertical-align: middle;\n",
       "    }\n",
       "\n",
       "    .dataframe tbody tr th {\n",
       "        vertical-align: top;\n",
       "    }\n",
       "\n",
       "    .dataframe thead th {\n",
       "        text-align: right;\n",
       "    }\n",
       "</style>\n",
       "<table border=\"1\" class=\"dataframe\">\n",
       "  <thead>\n",
       "    <tr style=\"text-align: right;\">\n",
       "      <th></th>\n",
       "      <th>Season</th>\n",
       "      <th>Bikes Purchased</th>\n",
       "    </tr>\n",
       "  </thead>\n",
       "  <tbody>\n",
       "    <tr>\n",
       "      <th>0</th>\n",
       "      <td>Summer</td>\n",
       "      <td>6473</td>\n",
       "    </tr>\n",
       "    <tr>\n",
       "      <th>1</th>\n",
       "      <td>Winter</td>\n",
       "      <td>7162</td>\n",
       "    </tr>\n",
       "  </tbody>\n",
       "</table>\n",
       "</div>"
      ],
      "text/plain": [
       "   Season  Bikes Purchased\n",
       "0  Summer             6473\n",
       "1  Winter             7162"
      ]
     },
     "execution_count": 140,
     "metadata": {},
     "output_type": "execute_result"
    }
   ],
   "source": [
    "filtered_result = result.groupby('Season')[['Order_Quantity']].sum().reset_index()\n",
    "filtered_result.rename(columns = {'Order_Quantity':'Bikes Purchased'}, inplace = True)\n",
    "filtered_result"
   ]
  },
  {
   "cell_type": "code",
   "execution_count": 141,
   "id": "a06ec37a-66dd-4867-8f0a-08a6d0e8fcd6",
   "metadata": {},
   "outputs": [
    {
     "data": {
      "image/png": "[encoded data removed]",
      "text/plain": [
       "<Figure size 432x432 with 1 Axes>"
      ]
     },
     "metadata": {
      "needs_background": "light"
     },
     "output_type": "display_data"
    }
   ],
   "source": [
    "plt.figure(figsize = (6,6))\n",
    "sns.barplot(data = filtered_result, x = 'Season', y = 'Bikes Purchased', palette = 'deep', order = ['Winter', 'Summer'])\n",
    "plt.ylabel('Bikes Purchased')\n",
    "plt.xlabel(' ')\n",
    "plt.show()"
   ]
  },
  {
   "cell_type": "markdown",
   "id": "6bf6f317-66e1-4e5f-bb6f-207f7118510d",
   "metadata": {
    "tags": []
   },
   "source": [
    "**תובנה 2: הופתענו לגלות שכמות רכישות האופניים בחורף עולה על כמות הרכישות בקיץ, בניגוד לדעה הרווחת**"
   ]
  },
  {
   "cell_type": "markdown",
   "id": "c8011e58-2f4f-4b12-8ae7-2f90a6af0944",
   "metadata": {
    "tags": []
   },
   "source": [
    "******************"
   ]
  },
  {
   "cell_type": "markdown",
   "id": "10bee225-db05-4bd2-a3b8-cd0488cee1d5",
   "metadata": {
    "tags": []
   },
   "source": [
    "**רצינו לבדוק האם קיימת מגמת עליה ברכישת אופניים בין שנה לשנה**"
   ]
  },
  {
   "cell_type": "code",
   "execution_count": 142,
   "id": "67532fa5-a8d7-4562-833b-e5ab1853e175",
   "metadata": {},
   "outputs": [
    {
     "data": {
      "text/html": [
       "<div>\n",
       "<style scoped>\n",
       "    .dataframe tbody tr th:only-of-type {\n",
       "        vertical-align: middle;\n",
       "    }\n",
       "\n",
       "    .dataframe tbody tr th {\n",
       "        vertical-align: top;\n",
       "    }\n",
       "\n",
       "    .dataframe thead th {\n",
       "        text-align: right;\n",
       "    }\n",
       "</style>\n",
       "<table border=\"1\" class=\"dataframe\">\n",
       "  <thead>\n",
       "    <tr style=\"text-align: right;\">\n",
       "      <th></th>\n",
       "      <th>Year</th>\n",
       "      <th>Order_Quantity</th>\n",
       "    </tr>\n",
       "  </thead>\n",
       "  <tbody>\n",
       "    <tr>\n",
       "      <th>0</th>\n",
       "      <td>2011</td>\n",
       "      <td>5260</td>\n",
       "    </tr>\n",
       "    <tr>\n",
       "      <th>1</th>\n",
       "      <td>2012</td>\n",
       "      <td>5354</td>\n",
       "    </tr>\n",
       "    <tr>\n",
       "      <th>2</th>\n",
       "      <td>2013</td>\n",
       "      <td>5710</td>\n",
       "    </tr>\n",
       "    <tr>\n",
       "      <th>3</th>\n",
       "      <td>2014</td>\n",
       "      <td>4604</td>\n",
       "    </tr>\n",
       "    <tr>\n",
       "      <th>4</th>\n",
       "      <td>2015</td>\n",
       "      <td>8556</td>\n",
       "    </tr>\n",
       "    <tr>\n",
       "      <th>5</th>\n",
       "      <td>2016</td>\n",
       "      <td>6927</td>\n",
       "    </tr>\n",
       "  </tbody>\n",
       "</table>\n",
       "</div>"
      ],
      "text/plain": [
       "   Year  Order_Quantity\n",
       "0  2011            5260\n",
       "1  2012            5354\n",
       "2  2013            5710\n",
       "3  2014            4604\n",
       "4  2015            8556\n",
       "5  2016            6927"
      ]
     },
     "execution_count": 142,
     "metadata": {},
     "output_type": "execute_result"
    }
   ],
   "source": [
    "Bikes_Orders_With_Aus = Bikes.groupby('Year')[['Order_Quantity']].sum().reset_index()\n",
    "Bikes_Orders_With_Aus"
   ]
  },
  {
   "cell_type": "code",
   "execution_count": 143,
   "id": "e7fcf46a-c6cc-4c62-95f2-d0e952c2b635",
   "metadata": {},
   "outputs": [
    {
     "data": {
      "text/html": [
       "<div>\n",
       "<style scoped>\n",
       "    .dataframe tbody tr th:only-of-type {\n",
       "        vertical-align: middle;\n",
       "    }\n",
       "\n",
       "    .dataframe tbody tr th {\n",
       "        vertical-align: top;\n",
       "    }\n",
       "\n",
       "    .dataframe thead th {\n",
       "        text-align: right;\n",
       "    }\n",
       "</style>\n",
       "<table border=\"1\" class=\"dataframe\">\n",
       "  <thead>\n",
       "    <tr style=\"text-align: right;\">\n",
       "      <th></th>\n",
       "      <th>Year</th>\n",
       "      <th>Order_Quantity</th>\n",
       "    </tr>\n",
       "  </thead>\n",
       "  <tbody>\n",
       "    <tr>\n",
       "      <th>Year</th>\n",
       "      <td>1.000000</td>\n",
       "      <td>0.625085</td>\n",
       "    </tr>\n",
       "    <tr>\n",
       "      <th>Order_Quantity</th>\n",
       "      <td>0.625085</td>\n",
       "      <td>1.000000</td>\n",
       "    </tr>\n",
       "  </tbody>\n",
       "</table>\n",
       "</div>"
      ],
      "text/plain": [
       "                    Year  Order_Quantity\n",
       "Year            1.000000        0.625085\n",
       "Order_Quantity  0.625085        1.000000"
      ]
     },
     "execution_count": 143,
     "metadata": {},
     "output_type": "execute_result"
    },
    {
     "data": {
      "image/png": "[encoded data removed]",
      "text/plain": [
       "<Figure size 432x288 with 1 Axes>"
      ]
     },
     "metadata": {
      "needs_background": "light"
     },
     "output_type": "display_data"
    }
   ],
   "source": [
    "sns.regplot(data = Bikes_Orders_With_Aus, x = 'Year', y = 'Order_Quantity')\n",
    "Bikes_Orders_With_Aus.corr()"
   ]
  },
  {
   "cell_type": "markdown",
   "id": "bcb6f38f-c820-413c-a162-363936be5456",
   "metadata": {
    "tags": []
   },
   "source": [
    "<div>\n",
    "<img src=\"https://raw.githubusercontent.com/gdavidi/my-project/main/2014.png\" width=\"700\"/>\n",
    "</div>"
   ]
  },
  {
   "cell_type": "markdown",
   "id": "ecdaabb6-2926-4c79-850c-17f513c717b3",
   "metadata": {
    "tags": []
   },
   "source": [
    "**על מנת לחזק את הטענה כי קיים קשר בין השנים לכמות רכישות האופניים, נוריד את אוסטרליה מהמשוואה, כיוון והיא מדינה עם מערכת אקלים קיצונית וחריגה בהשוואה לשאר המדינות המופיעות בקובץ נצפה שהיחס יתחזק**"
   ]
  },
  {
   "cell_type": "code",
   "execution_count": 144,
   "id": "30a17136-ff3e-4bb4-979b-c821aaca5895",
   "metadata": {},
   "outputs": [
    {
     "data": {
      "text/html": [
       "<div>\n",
       "<style scoped>\n",
       "    .dataframe tbody tr th:only-of-type {\n",
       "        vertical-align: middle;\n",
       "    }\n",
       "\n",
       "    .dataframe tbody tr th {\n",
       "        vertical-align: top;\n",
       "    }\n",
       "\n",
       "    .dataframe thead th {\n",
       "        text-align: right;\n",
       "    }\n",
       "</style>\n",
       "<table border=\"1\" class=\"dataframe\">\n",
       "  <thead>\n",
       "    <tr style=\"text-align: right;\">\n",
       "      <th></th>\n",
       "      <th>Year</th>\n",
       "      <th>Order_Quantity</th>\n",
       "    </tr>\n",
       "  </thead>\n",
       "  <tbody>\n",
       "    <tr>\n",
       "      <th>0</th>\n",
       "      <td>2011</td>\n",
       "      <td>3553</td>\n",
       "    </tr>\n",
       "    <tr>\n",
       "      <th>1</th>\n",
       "      <td>2012</td>\n",
       "      <td>3636</td>\n",
       "    </tr>\n",
       "    <tr>\n",
       "      <th>2</th>\n",
       "      <td>2013</td>\n",
       "      <td>4023</td>\n",
       "    </tr>\n",
       "    <tr>\n",
       "      <th>3</th>\n",
       "      <td>2014</td>\n",
       "      <td>3618</td>\n",
       "    </tr>\n",
       "    <tr>\n",
       "      <th>4</th>\n",
       "      <td>2015</td>\n",
       "      <td>5995</td>\n",
       "    </tr>\n",
       "    <tr>\n",
       "      <th>5</th>\n",
       "      <td>2016</td>\n",
       "      <td>5430</td>\n",
       "    </tr>\n",
       "  </tbody>\n",
       "</table>\n",
       "</div>"
      ],
      "text/plain": [
       "   Year  Order_Quantity\n",
       "0  2011            3553\n",
       "1  2012            3636\n",
       "2  2013            4023\n",
       "3  2014            3618\n",
       "4  2015            5995\n",
       "5  2016            5430"
      ]
     },
     "execution_count": 144,
     "metadata": {},
     "output_type": "execute_result"
    }
   ],
   "source": [
    "Bikes_Orders_No_Aus = Bikes_No_Aus.groupby('Year')[['Order_Quantity']].sum().reset_index()\n",
    "Bikes_Orders_No_Aus"
   ]
  },
  {
   "cell_type": "code",
   "execution_count": 145,
   "id": "3dfb6d21-6fee-4b8f-a671-989e07a53da6",
   "metadata": {},
   "outputs": [
    {
     "data": {
      "text/html": [
       "<div>\n",
       "<style scoped>\n",
       "    .dataframe tbody tr th:only-of-type {\n",
       "        vertical-align: middle;\n",
       "    }\n",
       "\n",
       "    .dataframe tbody tr th {\n",
       "        vertical-align: top;\n",
       "    }\n",
       "\n",
       "    .dataframe thead th {\n",
       "        text-align: right;\n",
       "    }\n",
       "</style>\n",
       "<table border=\"1\" class=\"dataframe\">\n",
       "  <thead>\n",
       "    <tr style=\"text-align: right;\">\n",
       "      <th></th>\n",
       "      <th>Year</th>\n",
       "      <th>Order_Quantity</th>\n",
       "    </tr>\n",
       "  </thead>\n",
       "  <tbody>\n",
       "    <tr>\n",
       "      <th>Year</th>\n",
       "      <td>1.000000</td>\n",
       "      <td>0.806963</td>\n",
       "    </tr>\n",
       "    <tr>\n",
       "      <th>Order_Quantity</th>\n",
       "      <td>0.806963</td>\n",
       "      <td>1.000000</td>\n",
       "    </tr>\n",
       "  </tbody>\n",
       "</table>\n",
       "</div>"
      ],
      "text/plain": [
       "                    Year  Order_Quantity\n",
       "Year            1.000000        0.806963\n",
       "Order_Quantity  0.806963        1.000000"
      ]
     },
     "execution_count": 145,
     "metadata": {},
     "output_type": "execute_result"
    },
    {
     "data": {
      "image/png": "[encoded data removed]",
      "text/plain": [
       "<Figure size 432x288 with 1 Axes>"
      ]
     },
     "metadata": {
      "needs_background": "light"
     },
     "output_type": "display_data"
    }
   ],
   "source": [
    "sns.regplot(data = Bikes_Orders_No_Aus, x = 'Year', y = 'Order_Quantity')\n",
    "Bikes_Orders_No_Aus.corr()"
   ]
  },
  {
   "cell_type": "markdown",
   "id": "f7317656-1906-4013-9d83-e7f015a5ecda",
   "metadata": {
    "tags": []
   },
   "source": [
    "**תובנה 3: ניתן לראות כי הקורולציה אכן התחזקה וכי קיים קשר חזק בין השנים לכמות רכישות האופניים**"
   ]
  },
  {
   "cell_type": "markdown",
   "id": "1daf2697-5014-4733-86e2-807bd127747d",
   "metadata": {
    "tags": []
   },
   "source": [
    "***************************************"
   ]
  },
  {
   "cell_type": "markdown",
   "id": "e81aa317-cec5-4461-b8e7-f4d0be4ce390",
   "metadata": {
    "tags": []
   },
   "source": [
    "**:תובנות עיקריות**\n",
    "- נשים רוכשות יותר אופני הרים מגברים\n",
    "- רוכשים יותר אופניים בחודשי החורף מאשר בחודשי הקיץ\n",
    "- יש קשר חזק בין השנה לכמות מכירות האופניים\n",
    "\n",
    "**:בעקבות ניתוח הקובץ הגענו לכמה מסקנות שיכולות לעניין את גורמי ההנהלה בחברה**\n",
    "- קהל היעד העיקרי נע בין טווח גילאי 25-45. לפיכך נמליץ לפרסם ברפורמות הפונות לטווח גילאים זה (פייסבוק/טוויטר)\n",
    "- בארצות הברית הרווח הוא הגבוה ביותר. לפיכך נמליץ לפתוח סניפים נוספים שם\n",
    "- הקטגורייה הרווחית והנמכרת ביותר היא אביזרים נלווים, יתר על כך הם גם הזולים והדחופים ביותר. לפיכך נמליץ להחזיק במלאי בכמות גבוהה"
   ]
  }
 ],
 "metadata": {
  "kernelspec": {
   "display_name": "Python 3 (ipykernel)",
   "language": "python",
   "name": "python3"
  },
  "language_info": {
   "codemirror_mode": {
    "name": "ipython",
    "version": 3
   },
   "file_extension": ".py",
   "mimetype": "text/x-python",
   "name": "python",
   "nbconvert_exporter": "python",
   "pygments_lexer": "ipython3",
   "version": "3.9.6"
  }
 },
 "nbformat": 4,
 "nbformat_minor": 5
}
