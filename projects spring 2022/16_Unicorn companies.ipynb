{
 "cells": [
  {
   "cell_type": "markdown",
   "metadata": {
    "id": "WNzHCqhyMCt6",
    "jp-MarkdownHeadingCollapsed": true,
    "tags": []
   },
   "source": [
    "# team 16\n",
    "# Unicorn companies EDA\n",
    "\n"
   ]
  },
  {
   "cell_type": "markdown",
   "metadata": {
    "id": "69UIcu_IkKys"
   },
   "source": [
    "<div>\n",
    "<img src=\"https://raw.githubusercontent.com/ronro5353/DataAriel/main/unicorn.jpg\" width=\"800\"/>\n",
    "</div>"
   ]
  },
  {
   "cell_type": "markdown",
   "metadata": {
    "tags": []
   },
   "source": [
    "# What is Unicorn\n",
    "A unicorn, in an investment context, is a tech startup that is assessed at a valuation of  1 billion dollar or more; companies valued at more than 10 billion dollar are sometimes called decacorns and those valued over 100 billion dollar are called super unicorns.\n",
    "\n",
    "According to March 2022 the number of active unicorn companies 1037.\n"
   ]
  },
  {
   "cell_type": "code",
   "execution_count": 43,
   "metadata": {
    "id": "xUWxU-zmP_zQ"
   },
   "outputs": [],
   "source": [
    "name_student_1 = \"Roee Brown\"\n",
    "name_student_2 = \"Ron Ohayon\"\n",
    "name_student_3 = \"Aharon Shnevise\"\n",
    "name_student_4 = \"Bnaya Daniel\""
   ]
  },
  {
   "cell_type": "code",
   "execution_count": 2,
   "metadata": {
    "id": "4_ZqKY9HQVQa"
   },
   "outputs": [],
   "source": [
    "import numpy as np\n",
    "import pandas as pd\n",
    "import seaborn as sns\n",
    "import matplotlib.pyplot as plt\n",
    "import matplotlib as mpl"
   ]
  },
  {
   "cell_type": "markdown",
   "metadata": {
    "id": "ZdPFNCgIRjhy",
    "tags": []
   },
   "source": [
    "# **The dataset:**\n",
    "The dataset contains information about unicorn companies until March 2022\n"
   ]
  },
  {
   "cell_type": "code",
   "execution_count": 3,
   "metadata": {
    "colab": {
     "base_uri": "https://localhost:8080/",
     "height": 354
    },
    "id": "paAHIrM-Rhvp",
    "outputId": "809cd58c-a803-48e4-872c-7c76c4201c33"
   },
   "outputs": [
    {
     "data": {
      "text/html": [
       "<div>\n",
       "<style scoped>\n",
       "    .dataframe tbody tr th:only-of-type {\n",
       "        vertical-align: middle;\n",
       "    }\n",
       "\n",
       "    .dataframe tbody tr th {\n",
       "        vertical-align: top;\n",
       "    }\n",
       "\n",
       "    .dataframe thead th {\n",
       "        text-align: right;\n",
       "    }\n",
       "</style>\n",
       "<table border=\"1\" class=\"dataframe\">\n",
       "  <thead>\n",
       "    <tr style=\"text-align: right;\">\n",
       "      <th></th>\n",
       "      <th>Company</th>\n",
       "      <th>Valuation ($B)</th>\n",
       "      <th>Date Joined</th>\n",
       "      <th>Country</th>\n",
       "      <th>City</th>\n",
       "      <th>Industry</th>\n",
       "      <th>Select Inverstors</th>\n",
       "      <th>Founded Year</th>\n",
       "      <th>Total Raised</th>\n",
       "      <th>Financial Stage</th>\n",
       "      <th>Investors Count</th>\n",
       "      <th>Deal Terms</th>\n",
       "      <th>Portfolio Exits</th>\n",
       "    </tr>\n",
       "  </thead>\n",
       "  <tbody>\n",
       "    <tr>\n",
       "      <th>0</th>\n",
       "      <td>Bytedance</td>\n",
       "      <td>$140</td>\n",
       "      <td>4/7/2017</td>\n",
       "      <td>China</td>\n",
       "      <td>Beijing</td>\n",
       "      <td>Artificial intelligence</td>\n",
       "      <td>Sequoia Capital China, SIG Asia Investments, S...</td>\n",
       "      <td>2012</td>\n",
       "      <td>$7.44B</td>\n",
       "      <td>IPO</td>\n",
       "      <td>28</td>\n",
       "      <td>8</td>\n",
       "      <td>5</td>\n",
       "    </tr>\n",
       "    <tr>\n",
       "      <th>1</th>\n",
       "      <td>SpaceX</td>\n",
       "      <td>$100.3</td>\n",
       "      <td>12/1/2012</td>\n",
       "      <td>United States</td>\n",
       "      <td>Hawthorne</td>\n",
       "      <td>Other</td>\n",
       "      <td>Founders Fund, Draper Fisher Jurvetson, Rothen...</td>\n",
       "      <td>2002</td>\n",
       "      <td>$6.874B</td>\n",
       "      <td>None</td>\n",
       "      <td>29</td>\n",
       "      <td>12</td>\n",
       "      <td>None</td>\n",
       "    </tr>\n",
       "    <tr>\n",
       "      <th>2</th>\n",
       "      <td>Stripe</td>\n",
       "      <td>$95</td>\n",
       "      <td>1/23/2014</td>\n",
       "      <td>United States</td>\n",
       "      <td>San Francisco</td>\n",
       "      <td>Fintech</td>\n",
       "      <td>Khosla Ventures, LowercaseCapital, capitalG</td>\n",
       "      <td>2010</td>\n",
       "      <td>$2.901B</td>\n",
       "      <td>Asset</td>\n",
       "      <td>39</td>\n",
       "      <td>12</td>\n",
       "      <td>1</td>\n",
       "    </tr>\n",
       "    <tr>\n",
       "      <th>3</th>\n",
       "      <td>Klarna</td>\n",
       "      <td>$45.6</td>\n",
       "      <td>12/12/2011</td>\n",
       "      <td>Sweden</td>\n",
       "      <td>Stockholm</td>\n",
       "      <td>Fintech</td>\n",
       "      <td>Institutional Venture Partners, Sequoia Capita...</td>\n",
       "      <td>2005</td>\n",
       "      <td>$3.472B</td>\n",
       "      <td>Acquired</td>\n",
       "      <td>56</td>\n",
       "      <td>13</td>\n",
       "      <td>1</td>\n",
       "    </tr>\n",
       "    <tr>\n",
       "      <th>4</th>\n",
       "      <td>Epic Games</td>\n",
       "      <td>$42</td>\n",
       "      <td>10/26/2018</td>\n",
       "      <td>United States</td>\n",
       "      <td>Cary</td>\n",
       "      <td>Other</td>\n",
       "      <td>Tencent Holdings, KKR, Smash Ventures</td>\n",
       "      <td>1991</td>\n",
       "      <td>$4.377B</td>\n",
       "      <td>Acquired</td>\n",
       "      <td>25</td>\n",
       "      <td>5</td>\n",
       "      <td>2</td>\n",
       "    </tr>\n",
       "  </tbody>\n",
       "</table>\n",
       "</div>"
      ],
      "text/plain": [
       "      Company Valuation ($B) Date Joined        Country           City  \\\n",
       "0   Bytedance           $140    4/7/2017          China        Beijing   \n",
       "1      SpaceX         $100.3   12/1/2012  United States      Hawthorne   \n",
       "2      Stripe            $95   1/23/2014  United States  San Francisco   \n",
       "3      Klarna          $45.6  12/12/2011         Sweden      Stockholm   \n",
       "4  Epic Games            $42  10/26/2018  United States           Cary   \n",
       "\n",
       "                  Industry                                  Select Inverstors  \\\n",
       "0  Artificial intelligence  Sequoia Capital China, SIG Asia Investments, S...   \n",
       "1                    Other  Founders Fund, Draper Fisher Jurvetson, Rothen...   \n",
       "2                  Fintech        Khosla Ventures, LowercaseCapital, capitalG   \n",
       "3                  Fintech  Institutional Venture Partners, Sequoia Capita...   \n",
       "4                    Other              Tencent Holdings, KKR, Smash Ventures   \n",
       "\n",
       "  Founded Year Total Raised Financial Stage Investors Count Deal Terms  \\\n",
       "0         2012       $7.44B             IPO              28          8   \n",
       "1         2002      $6.874B            None              29         12   \n",
       "2         2010      $2.901B           Asset              39         12   \n",
       "3         2005      $3.472B        Acquired              56         13   \n",
       "4         1991      $4.377B        Acquired              25          5   \n",
       "\n",
       "  Portfolio Exits  \n",
       "0               5  \n",
       "1            None  \n",
       "2               1  \n",
       "3               1  \n",
       "4               2  "
      ]
     },
     "execution_count": 3,
     "metadata": {},
     "output_type": "execute_result"
    }
   ],
   "source": [
    "url='https://raw.githubusercontent.com/ronro5353/DataAriel/main/Unicorn_Companies.csv'\n",
    "unicorn_df = pd.read_csv(url)\n",
    "unicorn_df.head()"
   ]
  },
  {
   "cell_type": "markdown",
   "metadata": {
    "id": "hJJk5SJgV5nI"
   },
   "source": [
    "There are 13 columns in the dataset providing the information about the unicorn company.\n",
    "\n",
    "1.Company: The name of the company\n",
    "\n",
    "2.Valuation ($B): Economic value of the company in the digit of billion US dollar.\n",
    "\n",
    "3.Date Joined: The date that company become the unicorn company.\n",
    "\n",
    "4.Country: The country where company was established\n",
    "\n",
    "5.City: The city where company was established\n",
    "\n",
    "6.Industry: The industry of company\n",
    "\n",
    "7.Select Inverstors: List of selected companies that invest during founding stage in the unicorn company\n",
    "\n",
    "8.Founded Year: The launch year of the company.\n",
    "\n",
    "9.Total Raised: The full deal size of an investment.\n",
    "\n",
    "10.Financial Stage: The current financial stage of the company\n",
    "\n",
    "11.Investors count: The total number of investors\n",
    "\n",
    "12.Deal Terms\n",
    "\n",
    "13.Portfolio Exits\n",
    "\n",
    "\n",
    "\n",
    "\n",
    "\n"
   ]
  },
  {
   "cell_type": "markdown",
   "metadata": {
    "id": "EcPhGu65SENS"
   },
   "source": [
    "# Data Cleaning and Transformation"
   ]
  },
  {
   "cell_type": "code",
   "execution_count": 4,
   "metadata": {
    "colab": {
     "base_uri": "https://localhost:8080/"
    },
    "id": "JKvDFP3gjpCa",
    "outputId": "90caff7b-ef3d-4a6a-9745-67b7f7d57977"
   },
   "outputs": [],
   "source": [
    "unicorn_df['Valuation ($B)'] = unicorn_df['Valuation ($B)'].str.replace('$','',regex=True)\n",
    "unicorn_df['Valuation ($B)'] = unicorn_df['Valuation ($B)'].astype('float')\n",
    "unicorn_df['Total Raised'] = unicorn_df['Total Raised'].str.replace('$','',regex=True)\n",
    "unicorn_df['Total Raised'] = unicorn_df['Total Raised'].str.replace('B','')\n",
    "unicorn_df['Total Raised'] = unicorn_df['Total Raised'].str.replace('M','')\n",
    "unicorn_df['Total Raised'] = unicorn_df['Total Raised'].str.replace('K','')\n",
    "unicorn_df['Total Raised'] = unicorn_df['Total Raised'].replace('None',np.nan)\n",
    "unicorn_df['Investors Count'] = unicorn_df['Investors Count'].replace('None', np.nan)\n",
    "unicorn_df['Total Raised'] = unicorn_df['Total Raised'].astype('float')\n",
    "unicorn_df.loc[unicorn_df['Industry'] == 'Finttech', 'Industry'] = 'Fintech'\n",
    "unicorn_df.loc[unicorn_df['Industry'] == 'Artificial intelligence', 'Industry'] = 'Artificial Intelligence'\n",
    "sns.set_style(\"darkgrid\")\n"
   ]
  },
  {
   "cell_type": "markdown",
   "metadata": {
    "id": "hju9v6L3XhXf",
    "tags": []
   },
   "source": [
    "# Data Visualization"
   ]
  },
  {
   "cell_type": "markdown",
   "metadata": {
    "id": "mCKFBTVFEmHH"
   },
   "source": [
    "Lets warm up...\n"
   ]
  },
  {
   "cell_type": "code",
   "execution_count": 6,
   "metadata": {
    "colab": {
     "base_uri": "https://localhost:8080/",
     "height": 571
    },
    "id": "7-MsG4I73Ir2",
    "outputId": "3735d4cd-785a-4557-be24-4761773c9ad9"
   },
   "outputs": [
    {
     "data": {
      "image/png": "[encoded data removed]",
      "text/plain": [
       "<Figure size 1080x432 with 1 Axes>"
      ]
     },
     "metadata": {},
     "output_type": "display_data"
    }
   ],
   "source": [
    "industries = unicorn_df['Industry'].value_counts()[:15]\n",
    "industries = industries.index.tolist()\n",
    "unicorn_df = unicorn_df[unicorn_df['Industry'].isin(industries)]\n",
    "industry_val = unicorn_df.groupby('Industry')[['Valuation ($B)']].sum().reset_index().sort_values('Valuation ($B)', ascending= False)\n",
    "plt.figure(figsize= (15, 6))\n",
    "sns.barplot(x= 'Industry',y= 'Valuation ($B)',data= industry_val)           \n",
    "plt.ylabel('Valuation ($B)')\n",
    "plt.xticks(rotation=90)\n",
    "plt.title('Top valuation industries',fontsize=20)\n",
    "plt.show()"
   ]
  },
  {
   "cell_type": "markdown",
   "metadata": {
    "id": "RxhQ2yDmDu6w"
   },
   "source": [
    "The most valuable industry is \"Financial Technology\" \n",
    "\n",
    "# What is Fintech?\n",
    "<div>\n",
    "<img src=\"https://raw.githubusercontent.com/ronro5353/DataAriel/main/Fintech2.jpeg\" width=\"800\"/>\n",
    "</div>"
   ]
  },
  {
   "cell_type": "markdown",
   "metadata": {
    "id": "Ss5IytniR9Vq"
   },
   "source": [
    "# Lets talk about years\n",
    "1.In what years most of the companies were founded\n",
    "\n",
    "2.In what years most companies became unicorn?\n",
    "\n",
    "3.And the most important thing,how much time does it take to beacame a unicorn?\n",
    "\n",
    "\n",
    "\n",
    "\n"
   ]
  },
  {
   "cell_type": "code",
   "execution_count": 48,
   "metadata": {
    "colab": {
     "base_uri": "https://localhost:8080/",
     "height": 424
    },
    "id": "cuaX_U8P6k5H",
    "outputId": "a1206545-b7e3-4ef0-8f96-a12fd8e45fcb"
   },
   "outputs": [
    {
     "data": {
      "text/html": [
       "<div>\n",
       "<style scoped>\n",
       "    .dataframe tbody tr th:only-of-type {\n",
       "        vertical-align: middle;\n",
       "    }\n",
       "\n",
       "    .dataframe tbody tr th {\n",
       "        vertical-align: top;\n",
       "    }\n",
       "\n",
       "    .dataframe thead th {\n",
       "        text-align: right;\n",
       "    }\n",
       "</style>\n",
       "<table border=\"1\" class=\"dataframe\">\n",
       "  <thead>\n",
       "    <tr style=\"text-align: right;\">\n",
       "      <th></th>\n",
       "      <th>Company</th>\n",
       "      <th>Valuation ($B)</th>\n",
       "      <th>Date Joined</th>\n",
       "      <th>Country</th>\n",
       "      <th>City</th>\n",
       "      <th>Industry</th>\n",
       "      <th>Select Inverstors</th>\n",
       "      <th>Founded Year</th>\n",
       "      <th>Total Raised</th>\n",
       "      <th>Financial Stage</th>\n",
       "      <th>Investors Count</th>\n",
       "      <th>Deal Terms</th>\n",
       "      <th>Portfolio Exits</th>\n",
       "      <th>Year Joined</th>\n",
       "      <th>Years To Unicorn</th>\n",
       "    </tr>\n",
       "  </thead>\n",
       "  <tbody>\n",
       "    <tr>\n",
       "      <th>1032</th>\n",
       "      <td>Timescale</td>\n",
       "      <td>1.0</td>\n",
       "      <td>2022-02-22</td>\n",
       "      <td>United States</td>\n",
       "      <td>New York</td>\n",
       "      <td>Internet software &amp; services</td>\n",
       "      <td>New Enterprise Associates, Benchmark, Two Sigm...</td>\n",
       "      <td>2015.0</td>\n",
       "      <td>181.06</td>\n",
       "      <td>None</td>\n",
       "      <td>7</td>\n",
       "      <td>2</td>\n",
       "      <td>None</td>\n",
       "      <td>2022</td>\n",
       "      <td>7.0</td>\n",
       "    </tr>\n",
       "    <tr>\n",
       "      <th>1033</th>\n",
       "      <td>Scalapay</td>\n",
       "      <td>1.0</td>\n",
       "      <td>2022-02-23</td>\n",
       "      <td>Italy</td>\n",
       "      <td>Milan</td>\n",
       "      <td>Fintech</td>\n",
       "      <td>Fasanara Capital, Tiger Global Management, Bal...</td>\n",
       "      <td>2019.0</td>\n",
       "      <td>700.00</td>\n",
       "      <td>None</td>\n",
       "      <td>10</td>\n",
       "      <td>2</td>\n",
       "      <td>None</td>\n",
       "      <td>2022</td>\n",
       "      <td>3.0</td>\n",
       "    </tr>\n",
       "    <tr>\n",
       "      <th>1034</th>\n",
       "      <td>Omada Health</td>\n",
       "      <td>1.0</td>\n",
       "      <td>2022-02-23</td>\n",
       "      <td>United States</td>\n",
       "      <td>San Francisco</td>\n",
       "      <td>Health</td>\n",
       "      <td>U.S. Venture Partners, dRx Capital, Andreessen...</td>\n",
       "      <td>2011.0</td>\n",
       "      <td>449.72</td>\n",
       "      <td>None</td>\n",
       "      <td>30</td>\n",
       "      <td>6</td>\n",
       "      <td>None</td>\n",
       "      <td>2022</td>\n",
       "      <td>11.0</td>\n",
       "    </tr>\n",
       "    <tr>\n",
       "      <th>1035</th>\n",
       "      <td>BlueVoyant</td>\n",
       "      <td>1.0</td>\n",
       "      <td>2022-02-23</td>\n",
       "      <td>United States</td>\n",
       "      <td>New York</td>\n",
       "      <td>Cybersecurity</td>\n",
       "      <td>8VC, Liberty Strategic Capital, Eden Global Pa...</td>\n",
       "      <td>2017.0</td>\n",
       "      <td>525.50</td>\n",
       "      <td>None</td>\n",
       "      <td>6</td>\n",
       "      <td>2</td>\n",
       "      <td>None</td>\n",
       "      <td>2022</td>\n",
       "      <td>5.0</td>\n",
       "    </tr>\n",
       "    <tr>\n",
       "      <th>1036</th>\n",
       "      <td>Veev</td>\n",
       "      <td>1.0</td>\n",
       "      <td>2022-02-24</td>\n",
       "      <td>United States</td>\n",
       "      <td>San Mateo</td>\n",
       "      <td>Internet software &amp; services</td>\n",
       "      <td>Zeev Ventures, Bond, Fifth Wall Ventures</td>\n",
       "      <td>2008.0</td>\n",
       "      <td>604.50</td>\n",
       "      <td>None</td>\n",
       "      <td>11</td>\n",
       "      <td>1</td>\n",
       "      <td>None</td>\n",
       "      <td>2022</td>\n",
       "      <td>14.0</td>\n",
       "    </tr>\n",
       "  </tbody>\n",
       "</table>\n",
       "</div>"
      ],
      "text/plain": [
       "           Company  Valuation ($B) Date Joined        Country           City  \\\n",
       "1032     Timescale             1.0  2022-02-22  United States       New York   \n",
       "1033      Scalapay             1.0  2022-02-23          Italy          Milan   \n",
       "1034  Omada Health             1.0  2022-02-23  United States  San Francisco   \n",
       "1035    BlueVoyant             1.0  2022-02-23  United States       New York   \n",
       "1036          Veev             1.0  2022-02-24  United States      San Mateo   \n",
       "\n",
       "                          Industry  \\\n",
       "1032  Internet software & services   \n",
       "1033                       Fintech   \n",
       "1034                        Health   \n",
       "1035                 Cybersecurity   \n",
       "1036  Internet software & services   \n",
       "\n",
       "                                      Select Inverstors  Founded Year  \\\n",
       "1032  New Enterprise Associates, Benchmark, Two Sigm...        2015.0   \n",
       "1033  Fasanara Capital, Tiger Global Management, Bal...        2019.0   \n",
       "1034  U.S. Venture Partners, dRx Capital, Andreessen...        2011.0   \n",
       "1035  8VC, Liberty Strategic Capital, Eden Global Pa...        2017.0   \n",
       "1036           Zeev Ventures, Bond, Fifth Wall Ventures        2008.0   \n",
       "\n",
       "      Total Raised Financial Stage Investors Count Deal Terms Portfolio Exits  \\\n",
       "1032        181.06            None               7          2            None   \n",
       "1033        700.00            None              10          2            None   \n",
       "1034        449.72            None              30          6            None   \n",
       "1035        525.50            None               6          2            None   \n",
       "1036        604.50            None              11          1            None   \n",
       "\n",
       "      Year Joined  Years To Unicorn  \n",
       "1032         2022               7.0  \n",
       "1033         2022               3.0  \n",
       "1034         2022              11.0  \n",
       "1035         2022               5.0  \n",
       "1036         2022              14.0  "
      ]
     },
     "execution_count": 48,
     "metadata": {},
     "output_type": "execute_result"
    }
   ],
   "source": [
    "unicorn_df['Date Joined'] =unicorn_df['Date Joined'].replace('None',np.nan)\n",
    "unicorn_df['Date Joined'] = pd.to_datetime(unicorn_df['Date Joined'], format='%m/%d/%Y')\n",
    "\n",
    "unicorn_df['Founded Year'] = unicorn_df['Founded Year'].replace('None',np.nan)\n",
    "unicorn_df['Founded Year'] = unicorn_df['Founded Year'].astype('float')\n",
    "\n",
    "unicorn_df['Year Joined'] = unicorn_df['Date Joined'].dt.year\n",
    "unicorn_df['Years To Unicorn'] = unicorn_df['Year Joined'] - unicorn_df['Founded Year']\n",
    "unicorn_df.tail()"
   ]
  },
  {
   "cell_type": "code",
   "execution_count": 49,
   "metadata": {
    "colab": {
     "base_uri": "https://localhost:8080/",
     "height": 499
    },
    "id": "ZfMSQEfxFlKj",
    "outputId": "ed015bff-ccf6-4b7b-d0c8-c341009560a0"
   },
   "outputs": [
    {
     "data": {
      "image/png": "[encoded data removed]",
      "text/plain": [
       "<Figure size 1152x576 with 2 Axes>"
      ]
     },
     "metadata": {},
     "output_type": "display_data"
    }
   ],
   "source": [
    "fig, ax = plt.subplots(nrows=1 ,ncols=2)\n",
    "sns.boxplot(data=unicorn_df[['Founded Year']],ax=ax[0])\n",
    "sns.boxplot(data=unicorn_df[['Year Joined']],ax = ax[1],color='Yellow')\n",
    "ax[0].set_title(\"Founded year\",fontsize=20)\n",
    "ax[1].set_title(\"Year joined to unicorn\",fontsize=20)\n",
    "plt.show()"
   ]
  },
  {
   "cell_type": "markdown",
   "metadata": {},
   "source": [
    "As we can see in the boxplot of \"Founded year\" most of the companies have founded between 2010-2018\n",
    "and in the boxplot of  \"year joined to unicorn\" most of the companies have joined between 2019-2021.\n",
    "\n",
    "Note that most of the joinings have happened in recent years!\n"
   ]
  },
  {
   "cell_type": "code",
   "execution_count": 50,
   "metadata": {
    "colab": {
     "base_uri": "https://localhost:8080/",
     "height": 487
    },
    "id": "Sfn8rp94tGjz",
    "outputId": "515cf10e-a320-42a4-a52d-2702e1f4f536"
   },
   "outputs": [
    {
     "data": {
      "image/png": "[encoded data removed]",
      "text/plain": [
       "<Figure size 1152x576 with 1 Axes>"
      ]
     },
     "metadata": {},
     "output_type": "display_data"
    }
   ],
   "source": [
    "ax = plt.subplot()\n",
    "sns.boxplot(y=unicorn_df.loc[unicorn_df[\"Years To Unicorn\"] > 0,\"Years To Unicorn\"],color='Green')\n",
    "plt.yscale('log',base=2)\n",
    "ax.yaxis.set_major_formatter(mpl.ticker.FormatStrFormatter(\"%d\"))\n",
    "plt.title(\"Years to Unicorn\",fontsize=20)\n",
    "ax.set_ylabel(\"Years\")\n",
    "plt.show()"
   ]
  },
  {
   "cell_type": "markdown",
   "metadata": {
    "id": "KzS6DgQcT3Q6"
   },
   "source": [
    "The distribution of years to become unicorn companies graph shows that most companies use 4 - 12 years to become the unicorn companies.\n"
   ]
  },
  {
   "cell_type": "markdown",
   "metadata": {
    "id": "vRDEnnTOggQL"
   },
   "source": [
    "<div>\n",
    "<img src=\"https://raw.githubusercontent.com/ronro5353/DataAriel/main/18119218_826340724209225_586800860337657134_n.png\" width=\"300\"/>\n",
    "</div>\n",
    "\n"
   ]
  },
  {
   "cell_type": "markdown",
   "metadata": {
    "id": "mHN5cinBX8hm"
   },
   "source": [
    "# investors count\n",
    "\n",
    "How does investor count affect valuation?\n"
   ]
  },
  {
   "cell_type": "code",
   "execution_count": 51,
   "metadata": {
    "colab": {
     "base_uri": "https://localhost:8080/",
     "height": 514
    },
    "id": "jrhEjGz2ZnQ0",
    "outputId": "b38eb80d-d508-48ff-f4ff-2b8fdab03c91"
   },
   "outputs": [
    {
     "data": {
      "text/plain": [
       "<AxesSubplot:xlabel='Investors Count', ylabel='Valuation ($B)'>"
      ]
     },
     "execution_count": 51,
     "metadata": {},
     "output_type": "execute_result"
    },
    {
     "data": {
      "image/png": "[encoded data removed]",
      "text/plain": [
       "<Figure size 1152x576 with 1 Axes>"
      ]
     },
     "metadata": {},
     "output_type": "display_data"
    }
   ],
   "source": [
    "unicorn_df['Investors Count'] = unicorn_df['Investors Count'].astype('float')\n",
    "sns.scatterplot(data = unicorn_df, x = 'Investors Count', y = 'Valuation ($B)')"
   ]
  },
  {
   "cell_type": "markdown",
   "metadata": {
    "id": "kstxs0sHZGVo"
   },
   "source": [
    "As we can see there is a lot of companies between 0 to 40 investors that them value is between 0 to 20 so the there is no significant effect on the value of the company.\n"
   ]
  },
  {
   "cell_type": "markdown",
   "metadata": {
    "id": "adA7mFjFaPXc"
   },
   "source": [
    "# Countries\n",
    "\n",
    "in this part we will talk about countries with unicorn companies."
   ]
  },
  {
   "cell_type": "code",
   "execution_count": 52,
   "metadata": {
    "colab": {
     "base_uri": "https://localhost:8080/",
     "height": 602
    },
    "id": "pioscBwkfYA3",
    "outputId": "00a873ef-9b4e-4b5b-a6cb-ffc6d1a5c5bb"
   },
   "outputs": [
    {
     "data": {
      "text/plain": [
       "Text(0, 0.5, 'Valuation ($B)')"
      ]
     },
     "execution_count": 52,
     "metadata": {},
     "output_type": "execute_result"
    },
    {
     "data": {
      "image/png": "[encoded data removed]",
      "text/plain": [
       "<Figure size 1152x576 with 1 Axes>"
      ]
     },
     "metadata": {},
     "output_type": "display_data"
    }
   ],
   "source": [
    "plt.rcParams['figure.figsize'] = (16,8)\n",
    "plt.title('Top 10 Countries by valuation',fontsize=15)\n",
    "plt.xticks(rotation=60)\n",
    "country_df = unicorn_df.groupby(\"Country\")\n",
    "country_df[\"Valuation ($B)\"].sum().sort_values(ascending=False)[:10].plot(kind='bar')\n",
    "plt.xticks(rotation=45)\n",
    "plt.ylabel('Valuation ($B)')\n",
    "\n"
   ]
  },
  {
   "cell_type": "code",
   "execution_count": 53,
   "metadata": {
    "colab": {
     "base_uri": "https://localhost:8080/",
     "height": 504
    },
    "id": "C7HuQkrWmFT3",
    "outputId": "2bc2ecb2-f0c1-48fa-cfa7-211c9a3efc6f"
   },
   "outputs": [
    {
     "data": {
      "text/plain": [
       "Text(0.5, 1.0, 'Top 10 Countries by amount of companies')"
      ]
     },
     "execution_count": 53,
     "metadata": {},
     "output_type": "execute_result"
    },
    {
     "data": {
      "image/png": "[encoded data removed]",
      "text/plain": [
       "<Figure size 1152x576 with 1 Axes>"
      ]
     },
     "metadata": {},
     "output_type": "display_data"
    }
   ],
   "source": [
    "pie_data=unicorn_df[\"Country\"].value_counts()[:10]\n",
    "pie_data.plot.pie(autopct='%1.1f%%')\n",
    "plt. ylabel(\"\") \n",
    "plt.title('Top 10 Countries by amount of companies',fontsize=20)\n"
   ]
  },
  {
   "cell_type": "markdown",
   "metadata": {
    "id": "4I9ZRg_BcAi-"
   },
   "source": [
    "We see that the United States is a powerful country of Unicorn companies.\n",
    "\n",
    "But look at this!\n",
    "\n",
    "Israel is inside the graphs,lets see how powerful country is israel."
   ]
  },
  {
   "cell_type": "markdown",
   "metadata": {
    "id": "WxOiXYzWg_UH"
   },
   "source": [
    "# Israel\n"
   ]
  },
  {
   "cell_type": "code",
   "execution_count": 54,
   "metadata": {
    "colab": {
     "base_uri": "https://localhost:8080/",
     "height": 406
    },
    "id": "lZQEX9c17esk",
    "outputId": "cef8f13d-97fb-4932-cd5e-a93dac2c84d4"
   },
   "outputs": [
    {
     "data": {
      "text/html": [
       "<div>\n",
       "<style scoped>\n",
       "    .dataframe tbody tr th:only-of-type {\n",
       "        vertical-align: middle;\n",
       "    }\n",
       "\n",
       "    .dataframe tbody tr th {\n",
       "        vertical-align: top;\n",
       "    }\n",
       "\n",
       "    .dataframe thead th {\n",
       "        text-align: right;\n",
       "    }\n",
       "</style>\n",
       "<table border=\"1\" class=\"dataframe\">\n",
       "  <thead>\n",
       "    <tr style=\"text-align: right;\">\n",
       "      <th></th>\n",
       "      <th>Company</th>\n",
       "      <th>Valuation ($B)</th>\n",
       "      <th>Date Joined</th>\n",
       "      <th>Country</th>\n",
       "      <th>City</th>\n",
       "      <th>Industry</th>\n",
       "      <th>Select Inverstors</th>\n",
       "      <th>Founded Year</th>\n",
       "      <th>Total Raised</th>\n",
       "      <th>Financial Stage</th>\n",
       "      <th>Investors Count</th>\n",
       "      <th>Deal Terms</th>\n",
       "      <th>Portfolio Exits</th>\n",
       "      <th>Year Joined</th>\n",
       "      <th>Years To Unicorn</th>\n",
       "    </tr>\n",
       "  </thead>\n",
       "  <tbody>\n",
       "    <tr>\n",
       "      <th>872</th>\n",
       "      <td>DriveNets</td>\n",
       "      <td>1.0</td>\n",
       "      <td>2021-01-27</td>\n",
       "      <td>Israel</td>\n",
       "      <td>Ra'anana</td>\n",
       "      <td>Internet software &amp; services</td>\n",
       "      <td>Bessemer Venture Partners, Pitango Venture Cap...</td>\n",
       "      <td>2015.0</td>\n",
       "      <td>325.0</td>\n",
       "      <td>None</td>\n",
       "      <td>10.0</td>\n",
       "      <td>1</td>\n",
       "      <td>None</td>\n",
       "      <td>2021</td>\n",
       "      <td>6.0</td>\n",
       "    </tr>\n",
       "    <tr>\n",
       "      <th>881</th>\n",
       "      <td>Aqua Security</td>\n",
       "      <td>1.0</td>\n",
       "      <td>2021-03-10</td>\n",
       "      <td>Israel</td>\n",
       "      <td>Ramat Gan</td>\n",
       "      <td>Cybersecurity</td>\n",
       "      <td>TLV Partners, Lightspeed Venture Partners, M12</td>\n",
       "      <td>2015.0</td>\n",
       "      <td>265.0</td>\n",
       "      <td>None</td>\n",
       "      <td>9.0</td>\n",
       "      <td>3</td>\n",
       "      <td>None</td>\n",
       "      <td>2021</td>\n",
       "      <td>6.0</td>\n",
       "    </tr>\n",
       "    <tr>\n",
       "      <th>918</th>\n",
       "      <td>Bringg</td>\n",
       "      <td>1.0</td>\n",
       "      <td>2021-06-16</td>\n",
       "      <td>Israel</td>\n",
       "      <td>Tel Aviv</td>\n",
       "      <td>Supply chain, logistics, &amp; delivery</td>\n",
       "      <td>Salesforce Ventures, next47, Pereg Ventures</td>\n",
       "      <td>2013.0</td>\n",
       "      <td>184.5</td>\n",
       "      <td>None</td>\n",
       "      <td>14.0</td>\n",
       "      <td>3</td>\n",
       "      <td>None</td>\n",
       "      <td>2021</td>\n",
       "      <td>8.0</td>\n",
       "    </tr>\n",
       "    <tr>\n",
       "      <th>920</th>\n",
       "      <td>JoyTunes</td>\n",
       "      <td>1.0</td>\n",
       "      <td>2021-06-21</td>\n",
       "      <td>Israel</td>\n",
       "      <td>Tel Aviv</td>\n",
       "      <td>Edtech</td>\n",
       "      <td>Genesis Partners, Aleph, Insight Partners</td>\n",
       "      <td>2011.0</td>\n",
       "      <td>91.5</td>\n",
       "      <td>None</td>\n",
       "      <td>10.0</td>\n",
       "      <td>3</td>\n",
       "      <td>None</td>\n",
       "      <td>2021</td>\n",
       "      <td>10.0</td>\n",
       "    </tr>\n",
       "    <tr>\n",
       "      <th>1019</th>\n",
       "      <td>Pentera</td>\n",
       "      <td>1.0</td>\n",
       "      <td>2022-01-11</td>\n",
       "      <td>Israel</td>\n",
       "      <td>Petah Tikva</td>\n",
       "      <td>Cybersecurity</td>\n",
       "      <td>AWZ Ventures, Blackstone, Insight Partners</td>\n",
       "      <td>2015.0</td>\n",
       "      <td>185.0</td>\n",
       "      <td>None</td>\n",
       "      <td>6.0</td>\n",
       "      <td>1</td>\n",
       "      <td>None</td>\n",
       "      <td>2022</td>\n",
       "      <td>7.0</td>\n",
       "    </tr>\n",
       "  </tbody>\n",
       "</table>\n",
       "</div>"
      ],
      "text/plain": [
       "            Company  Valuation ($B) Date Joined Country         City  \\\n",
       "872       DriveNets             1.0  2021-01-27  Israel     Ra'anana   \n",
       "881   Aqua Security             1.0  2021-03-10  Israel    Ramat Gan   \n",
       "918          Bringg             1.0  2021-06-16  Israel     Tel Aviv   \n",
       "920        JoyTunes             1.0  2021-06-21  Israel     Tel Aviv   \n",
       "1019        Pentera             1.0  2022-01-11  Israel  Petah Tikva   \n",
       "\n",
       "                                 Industry  \\\n",
       "872          Internet software & services   \n",
       "881                         Cybersecurity   \n",
       "918   Supply chain, logistics, & delivery   \n",
       "920                                Edtech   \n",
       "1019                        Cybersecurity   \n",
       "\n",
       "                                      Select Inverstors  Founded Year  \\\n",
       "872   Bessemer Venture Partners, Pitango Venture Cap...        2015.0   \n",
       "881      TLV Partners, Lightspeed Venture Partners, M12        2015.0   \n",
       "918         Salesforce Ventures, next47, Pereg Ventures        2013.0   \n",
       "920           Genesis Partners, Aleph, Insight Partners        2011.0   \n",
       "1019         AWZ Ventures, Blackstone, Insight Partners        2015.0   \n",
       "\n",
       "      Total Raised Financial Stage  Investors Count Deal Terms  \\\n",
       "872          325.0            None             10.0          1   \n",
       "881          265.0            None              9.0          3   \n",
       "918          184.5            None             14.0          3   \n",
       "920           91.5            None             10.0          3   \n",
       "1019         185.0            None              6.0          1   \n",
       "\n",
       "     Portfolio Exits  Year Joined  Years To Unicorn  \n",
       "872             None         2021               6.0  \n",
       "881             None         2021               6.0  \n",
       "918             None         2021               8.0  \n",
       "920             None         2021              10.0  \n",
       "1019            None         2022               7.0  "
      ]
     },
     "execution_count": 54,
     "metadata": {},
     "output_type": "execute_result"
    }
   ],
   "source": [
    "israel_df=unicorn_df.loc[(unicorn_df.Country=='Israel')]\n",
    "israel_df.tail()"
   ]
  },
  {
   "cell_type": "code",
   "execution_count": 55,
   "metadata": {
    "colab": {
     "base_uri": "https://localhost:8080/",
     "height": 409
    },
    "id": "9wrMlfur8jqM",
    "outputId": "d3839baa-293f-4da1-db4b-723b39d9d112"
   },
   "outputs": [
    {
     "data": {
      "image/png": "[encoded data removed]",
      "text/plain": [
       "<Figure size 1152x432 with 1 Axes>"
      ]
     },
     "metadata": {},
     "output_type": "display_data"
    }
   ],
   "source": [
    "plt.figure(figsize= (16, 6))\n",
    "sns.countplot(y='Industry',data= israel_df,palette=\"Blues_d\",order = israel_df['Industry'].value_counts().index)  \n",
    "plt.ylabel('')\n",
    "plt.xlabel('Amount of companies')\n",
    "plt.title('Israel top unicorn industries',fontsize=20)\n",
    "plt.show()"
   ]
  },
  {
   "cell_type": "markdown",
   "metadata": {
    "id": "HbsJM9j9eO7I"
   },
   "source": [
    "Unlike the rest of the world in Israel, the most powerful industries are Cyber secuirty and Artificial intelligence.\n",
    "\n",
    "<div>\n",
    "<img src=\"https://raw.githubusercontent.com/ronro5353/DataAriel/main/cyber.jpg\" width=\"800\"/>\n",
    "</div>"
   ]
  },
  {
   "cell_type": "code",
   "execution_count": 56,
   "metadata": {
    "colab": {
     "base_uri": "https://localhost:8080/",
     "height": 514
    },
    "id": "dI0ZsrU92v-0",
    "outputId": "7290ee85-e0af-464b-9ba2-219df283fecc"
   },
   "outputs": [
    {
     "data": {
      "text/plain": [
       "<AxesSubplot:xlabel='Valuation ($B)', ylabel='Company'>"
      ]
     },
     "execution_count": 56,
     "metadata": {},
     "output_type": "execute_result"
    },
    {
     "data": {
      "image/png": "[encoded data removed]",
      "text/plain": [
       "<Figure size 1152x576 with 1 Axes>"
      ]
     },
     "metadata": {},
     "output_type": "display_data"
    }
   ],
   "source": [
    "sns.barplot(data=israel_df,x='Valuation ($B)',y='Company',palette=\"viridis\")"
   ]
  },
  {
   "cell_type": "markdown",
   "metadata": {
    "id": "SDytJ7szh_1n"
   },
   "source": [
    "The leading company in Israel is Wiz.\n",
    "\n",
    "Wiz is a start-up company for securing activity in the cloud computing, and its the Israeli company that has become a \"unicorn\" in the shortest period of time since its establishment."
   ]
  },
  {
   "cell_type": "markdown",
   "metadata": {
    "id": "skZEIPRjk9Tu"
   },
   "source": [
    "# Country quality"
   ]
  },
  {
   "cell_type": "code",
   "execution_count": 57,
   "metadata": {
    "colab": {
     "base_uri": "https://localhost:8080/",
     "height": 363
    },
    "id": "x1W7OJVihMhL",
    "outputId": "4f6db1fd-350a-4f19-dfe6-86b7994d02f6"
   },
   "outputs": [
    {
     "data": {
      "text/html": [
       "<div>\n",
       "<style scoped>\n",
       "    .dataframe tbody tr th:only-of-type {\n",
       "        vertical-align: middle;\n",
       "    }\n",
       "\n",
       "    .dataframe tbody tr th {\n",
       "        vertical-align: top;\n",
       "    }\n",
       "\n",
       "    .dataframe thead th {\n",
       "        text-align: right;\n",
       "    }\n",
       "</style>\n",
       "<table border=\"1\" class=\"dataframe\">\n",
       "  <thead>\n",
       "    <tr style=\"text-align: right;\">\n",
       "      <th></th>\n",
       "      <th>Country</th>\n",
       "      <th>Valuation ($B)</th>\n",
       "    </tr>\n",
       "  </thead>\n",
       "  <tbody>\n",
       "    <tr>\n",
       "      <th>42</th>\n",
       "      <td>United States</td>\n",
       "      <td>1829.74</td>\n",
       "    </tr>\n",
       "    <tr>\n",
       "      <th>8</th>\n",
       "      <td>China</td>\n",
       "      <td>572.69</td>\n",
       "    </tr>\n",
       "    <tr>\n",
       "      <th>18</th>\n",
       "      <td>India</td>\n",
       "      <td>187.05</td>\n",
       "    </tr>\n",
       "    <tr>\n",
       "      <th>41</th>\n",
       "      <td>United Kingdom</td>\n",
       "      <td>177.68</td>\n",
       "    </tr>\n",
       "    <tr>\n",
       "      <th>16</th>\n",
       "      <td>Germany</td>\n",
       "      <td>66.70</td>\n",
       "    </tr>\n",
       "    <tr>\n",
       "      <th>36</th>\n",
       "      <td>Sweden</td>\n",
       "      <td>60.52</td>\n",
       "    </tr>\n",
       "    <tr>\n",
       "      <th>1</th>\n",
       "      <td>Australia</td>\n",
       "      <td>50.60</td>\n",
       "    </tr>\n",
       "    <tr>\n",
       "      <th>15</th>\n",
       "      <td>France</td>\n",
       "      <td>49.87</td>\n",
       "    </tr>\n",
       "    <tr>\n",
       "      <th>6</th>\n",
       "      <td>Canada</td>\n",
       "      <td>49.03</td>\n",
       "    </tr>\n",
       "    <tr>\n",
       "      <th>21</th>\n",
       "      <td>Israel</td>\n",
       "      <td>38.42</td>\n",
       "    </tr>\n",
       "  </tbody>\n",
       "</table>\n",
       "</div>"
      ],
      "text/plain": [
       "           Country  Valuation ($B)\n",
       "42   United States         1829.74\n",
       "8            China          572.69\n",
       "18           India          187.05\n",
       "41  United Kingdom          177.68\n",
       "16         Germany           66.70\n",
       "36          Sweden           60.52\n",
       "1        Australia           50.60\n",
       "15          France           49.87\n",
       "6           Canada           49.03\n",
       "21          Israel           38.42"
      ]
     },
     "execution_count": 57,
     "metadata": {},
     "output_type": "execute_result"
    }
   ],
   "source": [
    "top_country_val = unicorn_df.groupby('Country')[['Valuation ($B)']].sum().reset_index().sort_values('Valuation ($B)', ascending= False)\n",
    "top_country_val=top_country_val.head(10)\n",
    "top_country_val"
   ]
  },
  {
   "cell_type": "code",
   "execution_count": 58,
   "metadata": {
    "colab": {
     "base_uri": "https://localhost:8080/",
     "height": 206
    },
    "id": "hHQ72P55tkKv",
    "outputId": "c56a1069-b840-4cd7-a9f9-4dde8c849a1c"
   },
   "outputs": [
    {
     "data": {
      "text/html": [
       "<div>\n",
       "<style scoped>\n",
       "    .dataframe tbody tr th:only-of-type {\n",
       "        vertical-align: middle;\n",
       "    }\n",
       "\n",
       "    .dataframe tbody tr th {\n",
       "        vertical-align: top;\n",
       "    }\n",
       "\n",
       "    .dataframe thead th {\n",
       "        text-align: right;\n",
       "    }\n",
       "</style>\n",
       "<table border=\"1\" class=\"dataframe\">\n",
       "  <thead>\n",
       "    <tr style=\"text-align: right;\">\n",
       "      <th></th>\n",
       "      <th>iso_code</th>\n",
       "      <th>country</th>\n",
       "      <th>2022_last_updated</th>\n",
       "      <th>2020_population</th>\n",
       "      <th>area</th>\n",
       "      <th>density_sq_km</th>\n",
       "      <th>growth_rate</th>\n",
       "      <th>world_%</th>\n",
       "      <th>rank</th>\n",
       "    </tr>\n",
       "  </thead>\n",
       "  <tbody>\n",
       "    <tr>\n",
       "      <th>0</th>\n",
       "      <td>CHN</td>\n",
       "      <td>China</td>\n",
       "      <td>1,447,775,627</td>\n",
       "      <td>1,439,323,776</td>\n",
       "      <td>9,706,961 sq_km</td>\n",
       "      <td>149/sq_km</td>\n",
       "      <td>0.29%</td>\n",
       "      <td>18.21%</td>\n",
       "      <td>1</td>\n",
       "    </tr>\n",
       "    <tr>\n",
       "      <th>1</th>\n",
       "      <td>IND</td>\n",
       "      <td>India</td>\n",
       "      <td>1,404,483,085</td>\n",
       "      <td>1,380,004,385</td>\n",
       "      <td>3,287,590 sq_km</td>\n",
       "      <td>428/sq_km</td>\n",
       "      <td>0.95%</td>\n",
       "      <td>17.68%</td>\n",
       "      <td>2</td>\n",
       "    </tr>\n",
       "    <tr>\n",
       "      <th>2</th>\n",
       "      <td>USA</td>\n",
       "      <td>United States</td>\n",
       "      <td>334,494,490</td>\n",
       "      <td>331,002,651</td>\n",
       "      <td>9,372,610 sq_km</td>\n",
       "      <td>36/sq_km</td>\n",
       "      <td>0.57%</td>\n",
       "      <td>4.21%</td>\n",
       "      <td>3</td>\n",
       "    </tr>\n",
       "    <tr>\n",
       "      <th>3</th>\n",
       "      <td>IDN</td>\n",
       "      <td>Indonesia</td>\n",
       "      <td>278,682,431</td>\n",
       "      <td>273,523,615</td>\n",
       "      <td>1,904,569 sq_km</td>\n",
       "      <td>147/sq_km</td>\n",
       "      <td>1.00%</td>\n",
       "      <td>3.51%</td>\n",
       "      <td>4</td>\n",
       "    </tr>\n",
       "    <tr>\n",
       "      <th>4</th>\n",
       "      <td>PAK</td>\n",
       "      <td>Pakistan</td>\n",
       "      <td>228,793,102</td>\n",
       "      <td>220,892,340</td>\n",
       "      <td>881,912 sq_km</td>\n",
       "      <td>260/sq_km</td>\n",
       "      <td>1.90%</td>\n",
       "      <td>2.89%</td>\n",
       "      <td>5</td>\n",
       "    </tr>\n",
       "  </tbody>\n",
       "</table>\n",
       "</div>"
      ],
      "text/plain": [
       "  iso_code        country 2022_last_updated 2020_population             area  \\\n",
       "0      CHN          China     1,447,775,627   1,439,323,776  9,706,961 sq_km   \n",
       "1      IND          India     1,404,483,085   1,380,004,385  3,287,590 sq_km   \n",
       "2      USA  United States       334,494,490     331,002,651  9,372,610 sq_km   \n",
       "3      IDN      Indonesia       278,682,431     273,523,615  1,904,569 sq_km   \n",
       "4      PAK       Pakistan       228,793,102     220,892,340    881,912 sq_km   \n",
       "\n",
       "  density_sq_km growth_rate world_%  rank  \n",
       "0     149/sq_km       0.29%  18.21%     1  \n",
       "1     428/sq_km       0.95%  17.68%     2  \n",
       "2      36/sq_km       0.57%   4.21%     3  \n",
       "3     147/sq_km       1.00%   3.51%     4  \n",
       "4     260/sq_km       1.90%   2.89%     5  "
      ]
     },
     "execution_count": 58,
     "metadata": {},
     "output_type": "execute_result"
    }
   ],
   "source": [
    "url2='https://raw.githubusercontent.com/ronro5353/DataAriel/main/2022_population.csv'\n",
    "population_df = pd.read_csv(url2)\n",
    "population_df.head()"
   ]
  },
  {
   "cell_type": "code",
   "execution_count": 59,
   "metadata": {
    "colab": {
     "base_uri": "https://localhost:8080/",
     "height": 424
    },
    "id": "v4pXvS-elfX2",
    "outputId": "02ddcec7-4b9c-47bd-f392-2ab814a6413a"
   },
   "outputs": [
    {
     "data": {
      "text/html": [
       "<div>\n",
       "<style scoped>\n",
       "    .dataframe tbody tr th:only-of-type {\n",
       "        vertical-align: middle;\n",
       "    }\n",
       "\n",
       "    .dataframe tbody tr th {\n",
       "        vertical-align: top;\n",
       "    }\n",
       "\n",
       "    .dataframe thead th {\n",
       "        text-align: right;\n",
       "    }\n",
       "</style>\n",
       "<table border=\"1\" class=\"dataframe\">\n",
       "  <thead>\n",
       "    <tr style=\"text-align: right;\">\n",
       "      <th></th>\n",
       "      <th>Country</th>\n",
       "      <th>2022_population</th>\n",
       "    </tr>\n",
       "  </thead>\n",
       "  <tbody>\n",
       "    <tr>\n",
       "      <th>0</th>\n",
       "      <td>China</td>\n",
       "      <td>1,447,775,627</td>\n",
       "    </tr>\n",
       "    <tr>\n",
       "      <th>1</th>\n",
       "      <td>India</td>\n",
       "      <td>1,404,483,085</td>\n",
       "    </tr>\n",
       "    <tr>\n",
       "      <th>2</th>\n",
       "      <td>United States</td>\n",
       "      <td>334,494,490</td>\n",
       "    </tr>\n",
       "    <tr>\n",
       "      <th>3</th>\n",
       "      <td>Indonesia</td>\n",
       "      <td>278,682,431</td>\n",
       "    </tr>\n",
       "    <tr>\n",
       "      <th>4</th>\n",
       "      <td>Pakistan</td>\n",
       "      <td>228,793,102</td>\n",
       "    </tr>\n",
       "    <tr>\n",
       "      <th>...</th>\n",
       "      <td>...</td>\n",
       "      <td>...</td>\n",
       "    </tr>\n",
       "    <tr>\n",
       "      <th>219</th>\n",
       "      <td>Montserrat</td>\n",
       "      <td>4,965</td>\n",
       "    </tr>\n",
       "    <tr>\n",
       "      <th>220</th>\n",
       "      <td>Falkland Islands</td>\n",
       "      <td>3,539</td>\n",
       "    </tr>\n",
       "    <tr>\n",
       "      <th>221</th>\n",
       "      <td>Niue</td>\n",
       "      <td>1,622</td>\n",
       "    </tr>\n",
       "    <tr>\n",
       "      <th>222</th>\n",
       "      <td>Tokelau</td>\n",
       "      <td>1,378</td>\n",
       "    </tr>\n",
       "    <tr>\n",
       "      <th>223</th>\n",
       "      <td>Vatican City</td>\n",
       "      <td>799</td>\n",
       "    </tr>\n",
       "  </tbody>\n",
       "</table>\n",
       "<p>224 rows × 2 columns</p>\n",
       "</div>"
      ],
      "text/plain": [
       "              Country 2022_population\n",
       "0               China   1,447,775,627\n",
       "1               India   1,404,483,085\n",
       "2       United States     334,494,490\n",
       "3           Indonesia     278,682,431\n",
       "4            Pakistan     228,793,102\n",
       "..                ...             ...\n",
       "219        Montserrat           4,965\n",
       "220  Falkland Islands           3,539\n",
       "221              Niue           1,622\n",
       "222           Tokelau           1,378\n",
       "223      Vatican City             799\n",
       "\n",
       "[224 rows x 2 columns]"
      ]
     },
     "execution_count": 59,
     "metadata": {},
     "output_type": "execute_result"
    }
   ],
   "source": [
    "population_df.rename(columns = {'country':'Country','2022_last_updated':'2022_population'}, inplace = True)\n",
    "pop_df=population_df[['Country','2022_population']]\n",
    "pop_df"
   ]
  },
  {
   "cell_type": "code",
   "execution_count": 60,
   "metadata": {
    "id": "h5_fV4XklQtc"
   },
   "outputs": [],
   "source": [
    "merged_df = top_country_val.merge(pop_df, on='Country')"
   ]
  },
  {
   "cell_type": "code",
   "execution_count": 61,
   "metadata": {
    "colab": {
     "base_uri": "https://localhost:8080/",
     "height": 206
    },
    "id": "VlvAS_c4ymtz",
    "outputId": "5a588191-f7ef-4695-aada-43c415753e6a"
   },
   "outputs": [
    {
     "data": {
      "text/html": [
       "<div>\n",
       "<style scoped>\n",
       "    .dataframe tbody tr th:only-of-type {\n",
       "        vertical-align: middle;\n",
       "    }\n",
       "\n",
       "    .dataframe tbody tr th {\n",
       "        vertical-align: top;\n",
       "    }\n",
       "\n",
       "    .dataframe thead th {\n",
       "        text-align: right;\n",
       "    }\n",
       "</style>\n",
       "<table border=\"1\" class=\"dataframe\">\n",
       "  <thead>\n",
       "    <tr style=\"text-align: right;\">\n",
       "      <th></th>\n",
       "      <th>Country</th>\n",
       "      <th>Valuation ($B)</th>\n",
       "      <th>2022_population</th>\n",
       "      <th>Country_Qual</th>\n",
       "    </tr>\n",
       "  </thead>\n",
       "  <tbody>\n",
       "    <tr>\n",
       "      <th>0</th>\n",
       "      <td>United States</td>\n",
       "      <td>1829.74</td>\n",
       "      <td>3.344945e+08</td>\n",
       "      <td>5470.0</td>\n",
       "    </tr>\n",
       "    <tr>\n",
       "      <th>1</th>\n",
       "      <td>China</td>\n",
       "      <td>572.69</td>\n",
       "      <td>1.447776e+09</td>\n",
       "      <td>395.0</td>\n",
       "    </tr>\n",
       "    <tr>\n",
       "      <th>2</th>\n",
       "      <td>India</td>\n",
       "      <td>187.05</td>\n",
       "      <td>1.404483e+09</td>\n",
       "      <td>133.0</td>\n",
       "    </tr>\n",
       "    <tr>\n",
       "      <th>3</th>\n",
       "      <td>United Kingdom</td>\n",
       "      <td>177.68</td>\n",
       "      <td>6.844861e+07</td>\n",
       "      <td>2595.0</td>\n",
       "    </tr>\n",
       "    <tr>\n",
       "      <th>4</th>\n",
       "      <td>Germany</td>\n",
       "      <td>66.70</td>\n",
       "      <td>8.387765e+07</td>\n",
       "      <td>795.0</td>\n",
       "    </tr>\n",
       "  </tbody>\n",
       "</table>\n",
       "</div>"
      ],
      "text/plain": [
       "          Country  Valuation ($B)  2022_population  Country_Qual\n",
       "0   United States         1829.74     3.344945e+08        5470.0\n",
       "1           China          572.69     1.447776e+09         395.0\n",
       "2           India          187.05     1.404483e+09         133.0\n",
       "3  United Kingdom          177.68     6.844861e+07        2595.0\n",
       "4         Germany           66.70     8.387765e+07         795.0"
      ]
     },
     "execution_count": 61,
     "metadata": {},
     "output_type": "execute_result"
    }
   ],
   "source": [
    "merged_df[\"2022_population\"] = merged_df[\"2022_population\"].str.replace(',','')\n",
    "merged_df =merged_df.astype({\"2022_population\": float})\n",
    "merged_df.dtypes\n",
    "merged_df['Country_Qual']=merged_df['Valuation ($B)']*(10**9)//merged_df['2022_population']\n",
    "merged_df.head()"
   ]
  },
  {
   "cell_type": "code",
   "execution_count": 62,
   "metadata": {
    "id": "kkCeYO6F56sL"
   },
   "outputs": [],
   "source": [
    "merged_df=merged_df.sort_values('Country_Qual',ascending=False)"
   ]
  },
  {
   "cell_type": "code",
   "execution_count": 63,
   "metadata": {
    "colab": {
     "base_uri": "https://localhost:8080/",
     "height": 453
    },
    "id": "qPMqnaUA951b",
    "outputId": "cac42267-4c18-4643-8dbe-097a6978a489"
   },
   "outputs": [
    {
     "data": {
      "image/png": "[encoded data removed]",
      "text/plain": [
       "<Figure size 864x432 with 1 Axes>"
      ]
     },
     "metadata": {},
     "output_type": "display_data"
    }
   ],
   "source": [
    "plt.figure(figsize= (12, 6))\n",
    "sns.barplot(x= 'Country',y= 'Country_Qual',data= merged_df)           \n",
    "plt.ylabel('Country Quality')\n",
    "plt.xticks(rotation=60)\n",
    "plt.show()"
   ]
  },
  {
   "cell_type": "markdown",
   "metadata": {
    "id": "sVVV98KNnThI"
   },
   "source": [
    "$WOW!$\n",
    "\n",
    "israel is in the top 3 countries in the quality index"
   ]
  },
  {
   "cell_type": "markdown",
   "metadata": {
    "id": "kBHTXcrMmI56"
   },
   "source": [
    "<div>\n",
    "<img src=\"https://raw.githubusercontent.com/ronro5353/DataAriel/main/Flag_of_Israel.svg\" width=\"300\"/>\n",
    "</div>"
   ]
  },
  {
   "cell_type": "markdown",
   "metadata": {
    "id": "HQzVWP66nyIZ"
   },
   "source": [
    "# conclusion\n",
    "\n",
    "1.The industry with the highest value in the world is fintech industry, and in Israel it is cyber security industry.\n",
    "\n",
    "2.Most of the companies have become unicorn within 4 to 12 years.\n",
    "\n",
    "3.According to the data, there has been a crazy prosperity of Unicorn companies in recent years.\n",
    "\n",
    "4.Israel is a leading country in establishment of Unicorn companies.\n"
   ]
  },
  {
   "cell_type": "markdown",
   "metadata": {
    "id": "WqH95ErTuiKG"
   },
   "source": [
    "# Thanks for listening"
   ]
  }
 ],
 "metadata": {
  "colab": {
   "collapsed_sections": [],
   "name": "Project.ipynb",
   "provenance": []
  },
  "kernelspec": {
   "display_name": "Python 3 (ipykernel)",
   "language": "python",
   "name": "python3"
  },
  "language_info": {
   "codemirror_mode": {
    "name": "ipython",
    "version": 3
   },
   "file_extension": ".py",
   "mimetype": "text/x-python",
   "name": "python",
   "nbconvert_exporter": "python",
   "pygments_lexer": "ipython3",
   "version": "3.9.6"
  }
 },
 "nbformat": 4,
 "nbformat_minor": 4
}
