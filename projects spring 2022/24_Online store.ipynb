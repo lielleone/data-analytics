{
 "cells": [
  {
   "cell_type": "markdown",
   "id": "e24b6d8d-1bcb-4c67-85ab-c43fde05c9f8",
   "metadata": {},
   "source": [
    "# Online store customer data\n",
    "### Yuval Bar Brunshtein  -   Osher Dighorkar  -   Rahamaim Ben Talker  -   Daniel Sara Hagai\n",
    "#### 24 (Group number)\n",
    "#### Link: https://www.kaggle.com/datasets/mountboy/online-store-customer-data"
   ]
  },
  {
   "cell_type": "markdown",
   "id": "e6928e52-8bd0-43ec-beef-c0feab10052d",
   "metadata": {},
   "source": [
    "\n",
    "\n",
    "************\n",
    "\n",
    "<div>\n",
    "<img src=\"https://raw.githubusercontent.com/RBTA123/first.r/main/WhatsApp%20Image%202022-05-17%20at%2019.30.28.jpeg\" width=\"500\"/>\n",
    "</div>\n",
    "\n",
    "*************"
   ]
  },
  {
   "cell_type": "markdown",
   "id": "eb5a0e5a",
   "metadata": {},
   "source": [
    "## מבוא:\n",
    "####  פרויקט זה נכתב מקובץ נתונים המצביע על קניות ברשת בין השנים 2019 - 2021 \n",
    "####  בארצות הברית \n",
    "#### בפרויקט זה אנו נראה תובנות מעניינות שנובעות מנתונים אלה שאולי אפילו יפתיעו אתכם. \n",
    "#### לאחר שחקרנו את קובץ נתונים זה רצינו לראות מה המצב בארץ \n",
    "#### ולכן ערכנו סקר כדי לגלות זאת.\n",
    "#### אז בואו נתחיל"
   ]
  },
  {
   "cell_type": "code",
   "execution_count": 73,
   "id": "18790b38-28c8-4bd0-bd95-3a2b62de7f79",
   "metadata": {},
   "outputs": [],
   "source": [
    "import pandas as pd\n",
    "import numpy as np\n",
    "import matplotlib.pyplot as plt\n",
    "import seaborn as sns\n",
    "from IPython.core.display import HTML"
   ]
  },
  {
   "cell_type": "code",
   "execution_count": 74,
   "id": "3c3cc175-639d-4253-aece-3dfb545b1fff",
   "metadata": {},
   "outputs": [
    {
     "data": {
      "text/plain": [
       "(2512, 11)"
      ]
     },
     "execution_count": 74,
     "metadata": {},
     "output_type": "execute_result"
    }
   ],
   "source": [
    "online_store_customer = 'https://raw.githubusercontent.com/RBTA123/first.r/main/online_store_customer_data.csv'\n",
    "data_online = pd.read_csv(online_store_customer)\n",
    "data_online.shape"
   ]
  },
  {
   "cell_type": "markdown",
   "id": "aae38b48-5760-4d64-9490-15e985ee7e29",
   "metadata": {},
   "source": [
    "**מטרה ראשונה לצפות האם יש מידע חסר שנוכל לתקן**"
   ]
  },
  {
   "cell_type": "code",
   "execution_count": 75,
   "id": "0301572c-9b3c-485e-991c-455f68281120",
   "metadata": {},
   "outputs": [
    {
     "data": {
      "text/plain": [
       "Transaction_date      0\n",
       "Transaction_ID        0\n",
       "Gender               28\n",
       "Age                  42\n",
       "Marital_status        0\n",
       "State_names           0\n",
       "Segment               0\n",
       "Employees_status     26\n",
       "Payment_method        0\n",
       "Referal             155\n",
       "Amount_spent        242\n",
       "dtype: int64"
      ]
     },
     "execution_count": 75,
     "metadata": {},
     "output_type": "execute_result"
    }
   ],
   "source": [
    "data_online.isnull().sum()"
   ]
  },
  {
   "cell_type": "markdown",
   "id": "bbd7f0ed-7b9a-4d12-83bb-4e6e7c116ad5",
   "metadata": {},
   "source": [
    "**בנוסף, נתרגם את העמודה שמייצגת את זמן העסקה, לזמן שאפשר להתעסק איתו**"
   ]
  },
  {
   "cell_type": "code",
   "execution_count": 76,
   "id": "5b0b2fc8-153a-4d8e-a0cc-63f753dd259d",
   "metadata": {},
   "outputs": [
    {
     "data": {
      "text/plain": [
       "0      2019-01-01\n",
       "1      2019-01-01\n",
       "2      2019-01-01\n",
       "3      2019-01-01\n",
       "4      2019-01-01\n",
       "          ...    \n",
       "2507   2021-05-01\n",
       "2508   2021-05-01\n",
       "2509   2021-05-01\n",
       "2510   2021-05-01\n",
       "2511   2021-05-01\n",
       "Name: Transaction_date, Length: 2512, dtype: datetime64[ns]"
      ]
     },
     "execution_count": 76,
     "metadata": {},
     "output_type": "execute_result"
    }
   ],
   "source": [
    "data_online['Transaction_date'] = pd.to_datetime(data_online['Transaction_date'])\n",
    "data_online['Transaction_date']"
   ]
  },
  {
   "cell_type": "markdown",
   "id": "673c1dde-9baf-4368-a5bb-ee8f8992abdc",
   "metadata": {},
   "source": [
    "**על מנת שלא לפגום במידע המיקורי יצרנו העתק שבו נערוך את השינויים**"
   ]
  },
  {
   "cell_type": "code",
   "execution_count": 77,
   "id": "795aee63-67a8-4abb-99fc-9d307aedf147",
   "metadata": {},
   "outputs": [
    {
     "data": {
      "text/html": [
       "<div>\n",
       "<style scoped>\n",
       "    .dataframe tbody tr th:only-of-type {\n",
       "        vertical-align: middle;\n",
       "    }\n",
       "\n",
       "    .dataframe tbody tr th {\n",
       "        vertical-align: top;\n",
       "    }\n",
       "\n",
       "    .dataframe thead th {\n",
       "        text-align: right;\n",
       "    }\n",
       "</style>\n",
       "<table border=\"1\" class=\"dataframe\">\n",
       "  <thead>\n",
       "    <tr style=\"text-align: right;\">\n",
       "      <th></th>\n",
       "      <th>Transaction_date</th>\n",
       "      <th>Transaction_ID</th>\n",
       "      <th>Gender</th>\n",
       "      <th>Age</th>\n",
       "      <th>Marital_status</th>\n",
       "      <th>State_names</th>\n",
       "      <th>Segment</th>\n",
       "      <th>Employees_status</th>\n",
       "      <th>Payment_method</th>\n",
       "      <th>Referal</th>\n",
       "      <th>Amount_spent</th>\n",
       "    </tr>\n",
       "  </thead>\n",
       "  <tbody>\n",
       "    <tr>\n",
       "      <th>0</th>\n",
       "      <td>2019-01-01</td>\n",
       "      <td>151200</td>\n",
       "      <td>Female</td>\n",
       "      <td>19.0</td>\n",
       "      <td>Single</td>\n",
       "      <td>Kansas</td>\n",
       "      <td>Basic</td>\n",
       "      <td>Unemployment</td>\n",
       "      <td>Other</td>\n",
       "      <td>1.0</td>\n",
       "      <td>2051.36</td>\n",
       "    </tr>\n",
       "    <tr>\n",
       "      <th>1</th>\n",
       "      <td>2019-01-01</td>\n",
       "      <td>151201</td>\n",
       "      <td>Male</td>\n",
       "      <td>49.0</td>\n",
       "      <td>Single</td>\n",
       "      <td>Illinois</td>\n",
       "      <td>Basic</td>\n",
       "      <td>self-employed</td>\n",
       "      <td>Card</td>\n",
       "      <td>0.0</td>\n",
       "      <td>544.04</td>\n",
       "    </tr>\n",
       "    <tr>\n",
       "      <th>2</th>\n",
       "      <td>2019-01-01</td>\n",
       "      <td>151202</td>\n",
       "      <td>Male</td>\n",
       "      <td>63.0</td>\n",
       "      <td>Married</td>\n",
       "      <td>New Mexico</td>\n",
       "      <td>Basic</td>\n",
       "      <td>workers</td>\n",
       "      <td>PayPal</td>\n",
       "      <td>1.0</td>\n",
       "      <td>1572.60</td>\n",
       "    </tr>\n",
       "    <tr>\n",
       "      <th>3</th>\n",
       "      <td>2019-01-01</td>\n",
       "      <td>151203</td>\n",
       "      <td>NaN</td>\n",
       "      <td>18.0</td>\n",
       "      <td>Single</td>\n",
       "      <td>Virginia</td>\n",
       "      <td>Platinum</td>\n",
       "      <td>workers</td>\n",
       "      <td>Card</td>\n",
       "      <td>1.0</td>\n",
       "      <td>1199.79</td>\n",
       "    </tr>\n",
       "    <tr>\n",
       "      <th>4</th>\n",
       "      <td>2019-01-01</td>\n",
       "      <td>151204</td>\n",
       "      <td>Male</td>\n",
       "      <td>27.0</td>\n",
       "      <td>Single</td>\n",
       "      <td>Connecticut</td>\n",
       "      <td>Basic</td>\n",
       "      <td>self-employed</td>\n",
       "      <td>Card</td>\n",
       "      <td>0.0</td>\n",
       "      <td>NaN</td>\n",
       "    </tr>\n",
       "    <tr>\n",
       "      <th>...</th>\n",
       "      <td>...</td>\n",
       "      <td>...</td>\n",
       "      <td>...</td>\n",
       "      <td>...</td>\n",
       "      <td>...</td>\n",
       "      <td>...</td>\n",
       "      <td>...</td>\n",
       "      <td>...</td>\n",
       "      <td>...</td>\n",
       "      <td>...</td>\n",
       "      <td>...</td>\n",
       "    </tr>\n",
       "    <tr>\n",
       "      <th>2507</th>\n",
       "      <td>2021-05-01</td>\n",
       "      <td>153695</td>\n",
       "      <td>Female</td>\n",
       "      <td>57.0</td>\n",
       "      <td>Single</td>\n",
       "      <td>South Carolina</td>\n",
       "      <td>Platinum</td>\n",
       "      <td>self-employed</td>\n",
       "      <td>Card</td>\n",
       "      <td>0.0</td>\n",
       "      <td>150.10</td>\n",
       "    </tr>\n",
       "    <tr>\n",
       "      <th>2508</th>\n",
       "      <td>2021-05-01</td>\n",
       "      <td>153696</td>\n",
       "      <td>Female</td>\n",
       "      <td>36.0</td>\n",
       "      <td>Married</td>\n",
       "      <td>Hawaii</td>\n",
       "      <td>Silver</td>\n",
       "      <td>self-employed</td>\n",
       "      <td>PayPal</td>\n",
       "      <td>1.0</td>\n",
       "      <td>708.88</td>\n",
       "    </tr>\n",
       "    <tr>\n",
       "      <th>2509</th>\n",
       "      <td>2021-05-01</td>\n",
       "      <td>153697</td>\n",
       "      <td>Male</td>\n",
       "      <td>22.0</td>\n",
       "      <td>Single</td>\n",
       "      <td>South Carolina</td>\n",
       "      <td>Basic</td>\n",
       "      <td>workers</td>\n",
       "      <td>PayPal</td>\n",
       "      <td>1.0</td>\n",
       "      <td>2030.07</td>\n",
       "    </tr>\n",
       "    <tr>\n",
       "      <th>2510</th>\n",
       "      <td>2021-05-01</td>\n",
       "      <td>153698</td>\n",
       "      <td>NaN</td>\n",
       "      <td>44.0</td>\n",
       "      <td>Single</td>\n",
       "      <td>New York</td>\n",
       "      <td>Basic</td>\n",
       "      <td>Employees</td>\n",
       "      <td>PayPal</td>\n",
       "      <td>0.0</td>\n",
       "      <td>1909.77</td>\n",
       "    </tr>\n",
       "    <tr>\n",
       "      <th>2511</th>\n",
       "      <td>2021-05-01</td>\n",
       "      <td>153699</td>\n",
       "      <td>Male</td>\n",
       "      <td>48.0</td>\n",
       "      <td>Single</td>\n",
       "      <td>California</td>\n",
       "      <td>Silver</td>\n",
       "      <td>workers</td>\n",
       "      <td>PayPal</td>\n",
       "      <td>1.0</td>\n",
       "      <td>1073.15</td>\n",
       "    </tr>\n",
       "  </tbody>\n",
       "</table>\n",
       "<p>2512 rows × 11 columns</p>\n",
       "</div>"
      ],
      "text/plain": [
       "     Transaction_date  Transaction_ID  Gender   Age Marital_status  \\\n",
       "0          2019-01-01          151200  Female  19.0         Single   \n",
       "1          2019-01-01          151201    Male  49.0         Single   \n",
       "2          2019-01-01          151202    Male  63.0        Married   \n",
       "3          2019-01-01          151203     NaN  18.0         Single   \n",
       "4          2019-01-01          151204    Male  27.0         Single   \n",
       "...               ...             ...     ...   ...            ...   \n",
       "2507       2021-05-01          153695  Female  57.0         Single   \n",
       "2508       2021-05-01          153696  Female  36.0        Married   \n",
       "2509       2021-05-01          153697    Male  22.0         Single   \n",
       "2510       2021-05-01          153698     NaN  44.0         Single   \n",
       "2511       2021-05-01          153699    Male  48.0         Single   \n",
       "\n",
       "         State_names   Segment Employees_status Payment_method  Referal  \\\n",
       "0             Kansas     Basic     Unemployment          Other      1.0   \n",
       "1           Illinois     Basic    self-employed           Card      0.0   \n",
       "2         New Mexico     Basic          workers         PayPal      1.0   \n",
       "3           Virginia  Platinum          workers           Card      1.0   \n",
       "4        Connecticut     Basic    self-employed           Card      0.0   \n",
       "...              ...       ...              ...            ...      ...   \n",
       "2507  South Carolina  Platinum    self-employed           Card      0.0   \n",
       "2508          Hawaii    Silver    self-employed         PayPal      1.0   \n",
       "2509  South Carolina     Basic          workers         PayPal      1.0   \n",
       "2510        New York     Basic        Employees         PayPal      0.0   \n",
       "2511      California    Silver          workers         PayPal      1.0   \n",
       "\n",
       "      Amount_spent  \n",
       "0          2051.36  \n",
       "1           544.04  \n",
       "2          1572.60  \n",
       "3          1199.79  \n",
       "4              NaN  \n",
       "...            ...  \n",
       "2507        150.10  \n",
       "2508        708.88  \n",
       "2509       2030.07  \n",
       "2510       1909.77  \n",
       "2511       1073.15  \n",
       "\n",
       "[2512 rows x 11 columns]"
      ]
     },
     "execution_count": 77,
     "metadata": {},
     "output_type": "execute_result"
    }
   ],
   "source": [
    "my_deep_copy= data_online.copy()\n",
    "my_deep_copy"
   ]
  },
  {
   "cell_type": "markdown",
   "id": "37b3af9f-1d5a-4e11-a3d6-af34e5e35ade",
   "metadata": {},
   "source": [
    "**הערכים של מגדר, סכום הוצאה, גיל, קישור, ומצב סטטוס שלא ניתן להעריך בהם כיצד לתקן נמחקו**"
   ]
  },
  {
   "cell_type": "code",
   "execution_count": 78,
   "id": "7f841d1d-563d-421d-94af-05ae493d9f78",
   "metadata": {
    "scrolled": true
   },
   "outputs": [
    {
     "data": {
      "text/html": [
       "<div>\n",
       "<style scoped>\n",
       "    .dataframe tbody tr th:only-of-type {\n",
       "        vertical-align: middle;\n",
       "    }\n",
       "\n",
       "    .dataframe tbody tr th {\n",
       "        vertical-align: top;\n",
       "    }\n",
       "\n",
       "    .dataframe thead th {\n",
       "        text-align: right;\n",
       "    }\n",
       "</style>\n",
       "<table border=\"1\" class=\"dataframe\">\n",
       "  <thead>\n",
       "    <tr style=\"text-align: right;\">\n",
       "      <th></th>\n",
       "      <th>Transaction_date</th>\n",
       "      <th>Transaction_ID</th>\n",
       "      <th>Gender</th>\n",
       "      <th>Age</th>\n",
       "      <th>Marital_status</th>\n",
       "      <th>State_names</th>\n",
       "      <th>Segment</th>\n",
       "      <th>Employees_status</th>\n",
       "      <th>Payment_method</th>\n",
       "      <th>Referal</th>\n",
       "      <th>Amount_spent</th>\n",
       "    </tr>\n",
       "  </thead>\n",
       "  <tbody>\n",
       "    <tr>\n",
       "      <th>0</th>\n",
       "      <td>2019-01-01</td>\n",
       "      <td>151200</td>\n",
       "      <td>Female</td>\n",
       "      <td>19.0</td>\n",
       "      <td>Single</td>\n",
       "      <td>Kansas</td>\n",
       "      <td>Basic</td>\n",
       "      <td>Unemployment</td>\n",
       "      <td>Other</td>\n",
       "      <td>1.0</td>\n",
       "      <td>2051.36</td>\n",
       "    </tr>\n",
       "    <tr>\n",
       "      <th>1</th>\n",
       "      <td>2019-01-01</td>\n",
       "      <td>151201</td>\n",
       "      <td>Male</td>\n",
       "      <td>49.0</td>\n",
       "      <td>Single</td>\n",
       "      <td>Illinois</td>\n",
       "      <td>Basic</td>\n",
       "      <td>self-employed</td>\n",
       "      <td>Card</td>\n",
       "      <td>0.0</td>\n",
       "      <td>544.04</td>\n",
       "    </tr>\n",
       "    <tr>\n",
       "      <th>2</th>\n",
       "      <td>2019-01-01</td>\n",
       "      <td>151202</td>\n",
       "      <td>Male</td>\n",
       "      <td>63.0</td>\n",
       "      <td>Married</td>\n",
       "      <td>New Mexico</td>\n",
       "      <td>Basic</td>\n",
       "      <td>workers</td>\n",
       "      <td>PayPal</td>\n",
       "      <td>1.0</td>\n",
       "      <td>1572.60</td>\n",
       "    </tr>\n",
       "    <tr>\n",
       "      <th>5</th>\n",
       "      <td>2019-01-03</td>\n",
       "      <td>151205</td>\n",
       "      <td>Male</td>\n",
       "      <td>71.0</td>\n",
       "      <td>Single</td>\n",
       "      <td>Hawaii</td>\n",
       "      <td>Basic</td>\n",
       "      <td>Employees</td>\n",
       "      <td>PayPal</td>\n",
       "      <td>1.0</td>\n",
       "      <td>2922.66</td>\n",
       "    </tr>\n",
       "    <tr>\n",
       "      <th>6</th>\n",
       "      <td>2019-01-03</td>\n",
       "      <td>151206</td>\n",
       "      <td>Female</td>\n",
       "      <td>34.0</td>\n",
       "      <td>Married</td>\n",
       "      <td>New Mexico</td>\n",
       "      <td>Platinum</td>\n",
       "      <td>Employees</td>\n",
       "      <td>PayPal</td>\n",
       "      <td>1.0</td>\n",
       "      <td>1481.42</td>\n",
       "    </tr>\n",
       "    <tr>\n",
       "      <th>...</th>\n",
       "      <td>...</td>\n",
       "      <td>...</td>\n",
       "      <td>...</td>\n",
       "      <td>...</td>\n",
       "      <td>...</td>\n",
       "      <td>...</td>\n",
       "      <td>...</td>\n",
       "      <td>...</td>\n",
       "      <td>...</td>\n",
       "      <td>...</td>\n",
       "      <td>...</td>\n",
       "    </tr>\n",
       "    <tr>\n",
       "      <th>2506</th>\n",
       "      <td>2021-04-30</td>\n",
       "      <td>153694</td>\n",
       "      <td>Male</td>\n",
       "      <td>34.0</td>\n",
       "      <td>Single</td>\n",
       "      <td>Florida</td>\n",
       "      <td>Missing</td>\n",
       "      <td>Employees</td>\n",
       "      <td>Other</td>\n",
       "      <td>1.0</td>\n",
       "      <td>286.82</td>\n",
       "    </tr>\n",
       "    <tr>\n",
       "      <th>2507</th>\n",
       "      <td>2021-05-01</td>\n",
       "      <td>153695</td>\n",
       "      <td>Female</td>\n",
       "      <td>57.0</td>\n",
       "      <td>Single</td>\n",
       "      <td>South Carolina</td>\n",
       "      <td>Platinum</td>\n",
       "      <td>self-employed</td>\n",
       "      <td>Card</td>\n",
       "      <td>0.0</td>\n",
       "      <td>150.10</td>\n",
       "    </tr>\n",
       "    <tr>\n",
       "      <th>2508</th>\n",
       "      <td>2021-05-01</td>\n",
       "      <td>153696</td>\n",
       "      <td>Female</td>\n",
       "      <td>36.0</td>\n",
       "      <td>Married</td>\n",
       "      <td>Hawaii</td>\n",
       "      <td>Silver</td>\n",
       "      <td>self-employed</td>\n",
       "      <td>PayPal</td>\n",
       "      <td>1.0</td>\n",
       "      <td>708.88</td>\n",
       "    </tr>\n",
       "    <tr>\n",
       "      <th>2509</th>\n",
       "      <td>2021-05-01</td>\n",
       "      <td>153697</td>\n",
       "      <td>Male</td>\n",
       "      <td>22.0</td>\n",
       "      <td>Single</td>\n",
       "      <td>South Carolina</td>\n",
       "      <td>Basic</td>\n",
       "      <td>workers</td>\n",
       "      <td>PayPal</td>\n",
       "      <td>1.0</td>\n",
       "      <td>2030.07</td>\n",
       "    </tr>\n",
       "    <tr>\n",
       "      <th>2511</th>\n",
       "      <td>2021-05-01</td>\n",
       "      <td>153699</td>\n",
       "      <td>Male</td>\n",
       "      <td>48.0</td>\n",
       "      <td>Single</td>\n",
       "      <td>California</td>\n",
       "      <td>Silver</td>\n",
       "      <td>workers</td>\n",
       "      <td>PayPal</td>\n",
       "      <td>1.0</td>\n",
       "      <td>1073.15</td>\n",
       "    </tr>\n",
       "  </tbody>\n",
       "</table>\n",
       "<p>2044 rows × 11 columns</p>\n",
       "</div>"
      ],
      "text/plain": [
       "     Transaction_date  Transaction_ID  Gender   Age Marital_status  \\\n",
       "0          2019-01-01          151200  Female  19.0         Single   \n",
       "1          2019-01-01          151201    Male  49.0         Single   \n",
       "2          2019-01-01          151202    Male  63.0        Married   \n",
       "5          2019-01-03          151205    Male  71.0         Single   \n",
       "6          2019-01-03          151206  Female  34.0        Married   \n",
       "...               ...             ...     ...   ...            ...   \n",
       "2506       2021-04-30          153694    Male  34.0         Single   \n",
       "2507       2021-05-01          153695  Female  57.0         Single   \n",
       "2508       2021-05-01          153696  Female  36.0        Married   \n",
       "2509       2021-05-01          153697    Male  22.0         Single   \n",
       "2511       2021-05-01          153699    Male  48.0         Single   \n",
       "\n",
       "         State_names   Segment Employees_status Payment_method  Referal  \\\n",
       "0             Kansas     Basic     Unemployment          Other      1.0   \n",
       "1           Illinois     Basic    self-employed           Card      0.0   \n",
       "2         New Mexico     Basic          workers         PayPal      1.0   \n",
       "5             Hawaii     Basic        Employees         PayPal      1.0   \n",
       "6         New Mexico  Platinum        Employees         PayPal      1.0   \n",
       "...              ...       ...              ...            ...      ...   \n",
       "2506         Florida   Missing        Employees          Other      1.0   \n",
       "2507  South Carolina  Platinum    self-employed           Card      0.0   \n",
       "2508          Hawaii    Silver    self-employed         PayPal      1.0   \n",
       "2509  South Carolina     Basic          workers         PayPal      1.0   \n",
       "2511      California    Silver          workers         PayPal      1.0   \n",
       "\n",
       "      Amount_spent  \n",
       "0          2051.36  \n",
       "1           544.04  \n",
       "2          1572.60  \n",
       "5          2922.66  \n",
       "6          1481.42  \n",
       "...            ...  \n",
       "2506        286.82  \n",
       "2507        150.10  \n",
       "2508        708.88  \n",
       "2509       2030.07  \n",
       "2511       1073.15  \n",
       "\n",
       "[2044 rows x 11 columns]"
      ]
     },
     "execution_count": 78,
     "metadata": {},
     "output_type": "execute_result"
    }
   ],
   "source": [
    "my_deep_copy_1=my_deep_copy.dropna(subset = ['Gender','Amount_spent','Age','Employees_status','Referal'] )\n",
    "my_deep_copy_1"
   ]
  },
  {
   "cell_type": "code",
   "execution_count": 79,
   "id": "8614dce0",
   "metadata": {},
   "outputs": [
    {
     "data": {
      "text/plain": [
       "(2044, 11)"
      ]
     },
     "execution_count": 79,
     "metadata": {},
     "output_type": "execute_result"
    }
   ],
   "source": [
    "my_deep_copy_1.shape"
   ]
  },
  {
   "cell_type": "markdown",
   "id": "03126884",
   "metadata": {},
   "source": [
    "***"
   ]
  },
  {
   "cell_type": "markdown",
   "id": "4fae8b0e-50f9-4486-b905-9d1ac18a1567",
   "metadata": {},
   "source": [
    "***Transaction_date - Transaction date***"
   ]
  },
  {
   "cell_type": "markdown",
   "id": "8b53fb1d-b1c0-4fa7-9fae-78afdcf1b545",
   "metadata": {},
   "source": [
    "***Transaction_ID - This is a unique transaction id***"
   ]
  },
  {
   "cell_type": "markdown",
   "id": "8d507134-ae29-4c51-a6ca-fac0f59efda0",
   "metadata": {},
   "source": [
    "***Gender - Customer Gender***"
   ]
  },
  {
   "cell_type": "markdown",
   "id": "19b8d7a9-19b5-43f4-b9c7-040aa344c694",
   "metadata": {},
   "source": [
    "***Age - Customer Age***"
   ]
  },
  {
   "cell_type": "markdown",
   "id": "1d680be6-37a7-4fbe-a87a-c40d6b2c7d3e",
   "metadata": {},
   "source": [
    "***Marital_status - Marital status about customer***"
   ]
  },
  {
   "cell_type": "markdown",
   "id": "f636a018-6129-4b36-84b5-9e3c82fd12fe",
   "metadata": {},
   "source": [
    "***State_names - Customer location of State.***"
   ]
  },
  {
   "cell_type": "markdown",
   "id": "2994f4e1-f483-4c9b-89ab-7a5d2b7aab67",
   "metadata": {},
   "source": [
    "***Segment - Customer membership (Missing = No membership)***"
   ]
  },
  {
   "cell_type": "markdown",
   "id": "9eb60ffd-8996-4f80-b2ac-2a7363949832",
   "metadata": {},
   "source": [
    "***Employees_status - Customer employment status***"
   ]
  },
  {
   "cell_type": "markdown",
   "id": "7636fc68-dc9d-4435-9289-915868ab7865",
   "metadata": {},
   "source": [
    "***Payment_method - Payment method used by customer***"
   ]
  },
  {
   "cell_type": "markdown",
   "id": "b233cf55-fd27-4293-bfd8-1d735a97c9ab",
   "metadata": {},
   "source": [
    "***Referal - Customer coming from referral link or not***"
   ]
  },
  {
   "cell_type": "markdown",
   "id": "24dccbe0-e70e-458f-8aa8-ae004ef01c6b",
   "metadata": {},
   "source": [
    "***Amount_spent - Amount spent by customer per transaction*** "
   ]
  },
  {
   "cell_type": "markdown",
   "id": "937d1c8a-d4a6-4030-8243-10064c4a052a",
   "metadata": {},
   "source": [
    "**********************************************"
   ]
  },
  {
   "cell_type": "markdown",
   "id": "6b4c08ef-78c1-4358-ba8e-4d65a217b6f0",
   "metadata": {},
   "source": [
    "**********************************************"
   ]
  },
  {
   "cell_type": "markdown",
   "id": "4d87d045-6305-4c7a-98c0-e1fdf519c954",
   "metadata": {},
   "source": [
    "**חיפוש קורלציות בנתונים עצמם, אך נתקלנו בבעיה שלא נמצאו קורלציות**"
   ]
  },
  {
   "cell_type": "code",
   "execution_count": 80,
   "id": "36c42037-f2c0-4340-a8d0-738467bfda43",
   "metadata": {},
   "outputs": [
    {
     "data": {
      "text/plain": [
       "<AxesSubplot:>"
      ]
     },
     "execution_count": 80,
     "metadata": {},
     "output_type": "execute_result"
    },
    {
     "data": {
      "image/png": "[encoded data removed]",
      "text/plain": [
       "<Figure size 576x576 with 2 Axes>"
      ]
     },
     "metadata": {
      "needs_background": "light"
     },
     "output_type": "display_data"
    }
   ],
   "source": [
    "correlation_map = my_deep_copy_1[['Age', 'Amount_spent','Referal']].corr()\n",
    "plt.figure(figsize=(8,8))\n",
    "sns.heatmap(data=correlation_map,cmap='Blues', annot=True)"
   ]
  },
  {
   "cell_type": "markdown",
   "id": "74cf3e68",
   "metadata": {},
   "source": [
    "**********************************************"
   ]
  },
  {
   "cell_type": "markdown",
   "id": "d1efa946-73c4-40ed-b11b-c7c69b3c4844",
   "metadata": {},
   "source": [
    "**:חיפשנו התפלגות בין המגדר לגילאים השונים**"
   ]
  },
  {
   "cell_type": "code",
   "execution_count": 81,
   "id": "ffb477b4-a349-4351-b8bf-8cf5c21b577d",
   "metadata": {},
   "outputs": [
    {
     "data": {
      "image/png": "[encoded data removed]",
      "text/plain": [
       "<Figure size 432x288 with 1 Axes>"
      ]
     },
     "metadata": {
      "needs_background": "light"
     },
     "output_type": "display_data"
    }
   ],
   "source": [
    "sns.countplot( x=\"Gender\", data=my_deep_copy_1 , edgecolor = 'black', palette = \"rainbow\");\n"
   ]
  },
  {
   "cell_type": "markdown",
   "id": "7d542eea-989a-4a46-9f13-34d17f7d18c9",
   "metadata": {},
   "source": [
    "**ניתן להסיק מהמימצאים הראשונים כי לנשים יש נוכחות חזקה יותר מאשר לגברים**\n",
    "*********************"
   ]
  },
  {
   "cell_type": "markdown",
   "id": "fda24d8c-09da-486c-ac50-4cf319f80a2f",
   "metadata": {},
   "source": [
    "**?השאלה הראשונה שעולה היא האם הביטוי \"נשים בזבזניות יותר מאשר גברים\" נכון**"
   ]
  },
  {
   "cell_type": "code",
   "execution_count": 82,
   "id": "676e2553-258c-4b85-aad9-32c4b1a275e0",
   "metadata": {},
   "outputs": [
    {
     "data": {
      "image/png": "[encoded data removed]",
      "text/plain": [
       "<Figure size 432x288 with 1 Axes>"
      ]
     },
     "metadata": {
      "needs_background": "light"
     },
     "output_type": "display_data"
    }
   ],
   "source": [
    "sns.boxplot(x='Gender', y='Amount_spent', data=my_deep_copy_1)\n",
    "plt.show()"
   ]
  },
  {
   "cell_type": "markdown",
   "id": "29aa9255-ddba-4ade-b62b-52115267199f",
   "metadata": {},
   "source": [
    "***המסקנה: היא שכמעט ואין שוני בין המגדר כמות הכסף שהמגדרים מבזבזים***"
   ]
  },
  {
   "cell_type": "markdown",
   "id": "5a97334f-c168-401c-8db1-1e75af861bcc",
   "metadata": {},
   "source": [
    "# :תובנה מספר 1 \n",
    "\n",
    "***ניתן לראות כי יש יותר נשים מגברים באופן מפתיע. למה מפתיע?  השווינו את התפלגות ההוצאות וגילינו כי אין כמעט שום הבדל בין ההוצאות של גברים בקניות באינטרנט להוצאות של נשים. דבר זה מפתיע ביותר כי על פי הגרף ניתן לראות כי גברים עורכים יותר קניות באינטרנט ובשל כך גם מבזבזים יותר כסף באינטרנט מאשר נשים, דבר זה מתנגד לנורמה החברתית אשר ידוע בתור נשים קונות יותר ומוציאות יותר כסף ולכן מסקנה זאת היא מסקנה מפתיעה ומעניינת***"
   ]
  },
  {
   "cell_type": "markdown",
   "id": "7a1e14e0-ffdf-4d53-8704-d91ed0d3942d",
   "metadata": {},
   "source": [
    "************************"
   ]
  },
  {
   "cell_type": "markdown",
   "id": "22df6665-4d43-4639-94bf-96ff0d5e6caf",
   "metadata": {},
   "source": [
    "**:חיפשנו אם יש השפעה על כמות הבזבוזים, אם נכנסת עם קישור או בלי קישור**"
   ]
  },
  {
   "cell_type": "code",
   "execution_count": 83,
   "id": "c894f790-4e4c-418e-b1d0-c99e55166d1e",
   "metadata": {},
   "outputs": [
    {
     "data": {
      "image/png": "[encoded data removed]",
      "text/plain": [
       "<Figure size 432x288 with 1 Axes>"
      ]
     },
     "metadata": {
      "needs_background": "light"
     },
     "output_type": "display_data"
    }
   ],
   "source": [
    "sns.histplot(data=my_deep_copy_1, x='Amount_spent', stat='count', hue='Referal', multiple = 'dodge');"
   ]
  },
  {
   "cell_type": "markdown",
   "id": "73c0338c-952d-497b-a5da-b863497a5a1f",
   "metadata": {},
   "source": [
    "# :תובנה  מספר 2\n",
    "\n",
    "\n",
    "***ניתן לראות כי אנשים בארצות הברית משתמשים יותר בקישורים, מדבר זה ניתן להעסיק כי אנשים חולקים עם חבריהם קישורים של מוצרים שקנו ברשת. מסקנה זו היא מסקנה מעניינת מכיון שבישראל\n",
    "המצב איננו זהה ואף הפוך לגמרי. נראה זאת בהמשך הקובץ בעזרת סקר שערכנו***"
   ]
  },
  {
   "cell_type": "markdown",
   "id": "54b835c5",
   "metadata": {},
   "source": [
    "***"
   ]
  },
  {
   "cell_type": "code",
   "execution_count": 84,
   "id": "18216cf5-f885-46d3-8fc0-7ffaaff922c9",
   "metadata": {},
   "outputs": [],
   "source": [
    "my_deep_copy[\"year\"] = pd.DatetimeIndex(my_deep_copy[\"Transaction_date\"]).year\n",
    "my_deep_copy[\"month\"] = pd.DatetimeIndex(my_deep_copy[\"Transaction_date\"]).month\n",
    "online_shopping_2020 = my_deep_copy.loc[my_deep_copy.year == 2020]\n",
    "online_shopping_2019 = my_deep_copy.loc[my_deep_copy.year == 2019]\n",
    "online_shopping_2021 = my_deep_copy.loc[my_deep_copy.year== 2021]"
   ]
  },
  {
   "cell_type": "markdown",
   "id": "95429c85",
   "metadata": {},
   "source": [
    "***"
   ]
  },
  {
   "cell_type": "markdown",
   "id": "ba4bf777-91c6-42c2-bf33-d2b27ea03c98",
   "metadata": {},
   "source": [
    "**:רצינו לבדוק מהי ההתפלגות בשנים 2019-2021 בחודשים ינואר ,פברואר ומרץ**"
   ]
  },
  {
   "cell_type": "code",
   "execution_count": 85,
   "id": "4918cb08-e87f-40a0-953f-410061d00b40",
   "metadata": {},
   "outputs": [
    {
     "data": {
      "image/png": "[encoded data removed]",
      "text/plain": [
       "<Figure size 1440x360 with 3 Axes>"
      ]
     },
     "metadata": {
      "needs_background": "light"
     },
     "output_type": "display_data"
    }
   ],
   "source": [
    "fig, axes = plt.subplots(figsize=(20, 5), ncols=3)\n",
    "plt.subplots_adjust(wspace = 0.3)\n",
    "year2019=sns.boxplot(x='month', y='Amount_spent', data=online_shopping_2019, ax = axes[0])\n",
    "year2020=sns.boxplot(x='month', y='Amount_spent', data=online_shopping_2020, ax = axes[1])\n",
    "year2021=sns.boxplot(x='month', y='Amount_spent', data=online_shopping_2021, ax = axes[2])\n",
    "\n",
    "\n",
    "year2019.set_title(\"Year 2019\");\n",
    "year2020.set_title(\"Year 2020\");\n",
    "year2021.set_title(\"Year 2021\");"
   ]
  },
  {
   "cell_type": "markdown",
   "id": "c642f9ef-b4e4-4ed1-bf9f-ef42e615f2ef",
   "metadata": {},
   "source": []
  },
  {
   "cell_type": "markdown",
   "id": "33c677cc-feee-41f6-9df4-93efa849328b",
   "metadata": {},
   "source": [
    "\n",
    "************\n",
    "\n",
    "<div>\n",
    "<img src=\"https://raw.githubusercontent.com/RBTA123/first.r/main/2019-2022.JPG\" width=\"650\"/>\n",
    "</div>\n",
    "\n",
    "*************\n"
   ]
  },
  {
   "cell_type": "markdown",
   "id": "c4fd90c6-f51d-4f4e-bef5-90cca00f92f0",
   "metadata": {},
   "source": [
    "************\n",
    "\n",
    "<div>\n",
    "<img src=\"https://raw.githubusercontent.com/RBTA123/first.r/main/online.JPG\" width=\"1500\"/>\n",
    "</div>\n",
    "\n",
    "*************\n"
   ]
  },
  {
   "cell_type": "markdown",
   "id": "5eab2780",
   "metadata": {},
   "source": [
    "# :תובנה מספר 3 \n",
    "\n",
    "***ניתן לראות כי ב 2020 יש זינוק ניכר בעליה בקניות בחודשים ינואר - אפריל. עלייה זאת מצופה מכיוון שבדיוק בחודשים אלה הקורונה הייתה בשיאה ואנשים העדיפו שלא לצאת מהבית ובשל כך קנו יותר דברים מהרשת.***"
   ]
  },
  {
   "cell_type": "markdown",
   "id": "d6aa9fc8",
   "metadata": {},
   "source": [
    "***"
   ]
  },
  {
   "cell_type": "markdown",
   "id": "019e48a6-d3d6-4f85-a96f-2dbf9df7e40a",
   "metadata": {},
   "source": [
    "**עניין אותנו לדעת באיזה הכרטיס השתמשו רוב אנשים**"
   ]
  },
  {
   "cell_type": "code",
   "execution_count": 88,
   "id": "943dcd73-3cac-4c50-8a74-ad93b90c609c",
   "metadata": {},
   "outputs": [
    {
     "data": {
      "image/png": "[encoded data removed]",
      "text/plain": [
       "<Figure size 360x360 with 1 Axes>"
      ]
     },
     "metadata": {},
     "output_type": "display_data"
    }
   ],
   "source": [
    "plt.figure(1, figsize=(5,5))\n",
    "plt.title(\"What type of payment methods are the most common around American online shoppers\")\n",
    "my_deep_copy_1['Payment_method'].value_counts().plot.pie(autopct=\"%1.1f%%\") \n",
    "plt.ylabel(\"\")  \n",
    "plt.show()"
   ]
  },
  {
   "cell_type": "markdown",
   "id": "eb0a5f14-17bc-4a5a-9146-17259eafe0bb",
   "metadata": {},
   "source": [
    "<div>\n",
    "<img src=\"https://raw.githubusercontent.com/RBTA123/first.r/main/IMG-20220520-WA0023.jpg\" width=\"500\"/>\n",
    "</div>"
   ]
  },
  {
   "cell_type": "markdown",
   "id": "1e6548ad",
   "metadata": {},
   "source": [
    "# :תובנה מספר 4 \n",
    "\n",
    "***רוב האנשים מעדיפים לבצע קניות ברשת דרך פאייפאל זאת תוצאה שאנחנו מצפים לראות מכיוון שידוע שפאייפאל זאת דרך קנייה יותר בטוחה ברשת מאשר כרטיסי אשראי\n",
    "ניתן לראות בתמונה למעלה \n",
    "השוואה של קנייה בכרטיס אשראי מול קנייה בעזרת פאייפאל***\n",
    "\n"
   ]
  },
  {
   "cell_type": "markdown",
   "id": "7fc52947",
   "metadata": {},
   "source": [
    "***"
   ]
  },
  {
   "cell_type": "code",
   "execution_count": 90,
   "id": "9a546f2b-967f-4bd2-9694-8be374953dbd",
   "metadata": {},
   "outputs": [],
   "source": [
    "url_shopping =  \"https://raw.githubusercontent.com/RBTA123/first.r/main/Survey%2Bon%2BBuy%2BOnline.csv \"\n",
    "online_shop_israel = pd.read_csv(url_shopping)"
   ]
  },
  {
   "cell_type": "code",
   "execution_count": 91,
   "id": "795815f0-34be-47e2-aed0-3e39a9abc467",
   "metadata": {},
   "outputs": [
    {
     "data": {
      "image/png": "[encoded data removed]",
      "text/plain": [
       "<Figure size 360x360 with 1 Axes>"
      ]
     },
     "metadata": {},
     "output_type": "display_data"
    }
   ],
   "source": [
    "plt.figure(1, figsize=(5,5))\n",
    "plt.title(\"How often do people in Israel use links to make online purchases\")\n",
    "online_shop_israel['If so, how often do you make a purchase that results from the link / advertisement?'].value_counts().plot.pie(autopct=\"%1.1f%%\") \n",
    "plt.ylabel(\"\")  \n",
    "plt.show()"
   ]
  },
  {
   "cell_type": "markdown",
   "id": "2c0c6bbf",
   "metadata": {},
   "source": [
    "***ניתן לראות כי בניגוד לארצות הברית בישראל אנשים מעדיפים שלא להיכנס ללינקים ולקנות דרך לינקים שחולקים איתם***"
   ]
  },
  {
   "cell_type": "code",
   "execution_count": 92,
   "id": "eac0a58c-3ab6-4aed-9f9b-a6fbd96e3bba",
   "metadata": {},
   "outputs": [
    {
     "data": {
      "image/png": "[encoded data removed]",
      "text/plain": [
       "<Figure size 360x360 with 1 Axes>"
      ]
     },
     "metadata": {},
     "output_type": "display_data"
    }
   ],
   "source": [
    "plt.figure(1, figsize=(5,5))\n",
    "plt.title(\"How often do people purchase through links in the United States\")\n",
    "my_deep_copy_1['Referal'].value_counts().plot.pie(autopct=\"%1.1f%%\") \n",
    "plt.ylabel(\"\")  \n",
    "plt.show()\n"
   ]
  },
  {
   "cell_type": "markdown",
   "id": "1560abb8-9f2f-49f7-a0aa-ccf173aec6df",
   "metadata": {},
   "source": [
    "# :תובנה מספר 5 \n",
    "\n",
    "***ניתן לראות כי בישראל \n",
    "אנשים נוטים שלא לקנות מלינקים שנשלחו אליהם \n",
    "בעוד שבארצות הברית ניתן לראות בדיוק ההפך. רוב האנשים דווקא כן עושים את הקניות שלהם מלינקים שנשלחו אליהם\n",
    "מה שמראה על השוני בין תרבויות הקנייה ברשת  של ישראלים מול אמריקאים*** "
   ]
  },
  {
   "cell_type": "markdown",
   "id": "3dc71700",
   "metadata": {},
   "source": [
    "***"
   ]
  },
  {
   "cell_type": "code",
   "execution_count": 93,
   "id": "6cbfa754-a3b5-46ad-8602-60cff10142b0",
   "metadata": {},
   "outputs": [
    {
     "data": {
      "image/png": "[encoded data removed]",
      "text/plain": [
       "<Figure size 360x360 with 1 Axes>"
      ]
     },
     "metadata": {},
     "output_type": "display_data"
    }
   ],
   "source": [
    "plt.figure(1, figsize=(5,5))\n",
    "plt.title(\"How many people purchase with a membership ? (Missing = no membership )\" )\n",
    "my_deep_copy_1['Segment'].value_counts().plot.pie(autopct=\"%1.1f%%\") \n",
    "plt.ylabel(\"\")  \n",
    "plt.show()\n",
    "\n"
   ]
  },
  {
   "cell_type": "markdown",
   "id": "8add56d5",
   "metadata": {},
   "source": [
    " ***ניתן לראות כי רוב האנשים העורכים קניות הם עורכים קניות עם מנוי כלשהו***"
   ]
  },
  {
   "cell_type": "markdown",
   "id": "e62882f6",
   "metadata": {},
   "source": [
    "***"
   ]
  },
  {
   "cell_type": "code",
   "execution_count": 94,
   "id": "916f4ffa-2b9f-4f4d-a79e-0094a805d65f",
   "metadata": {},
   "outputs": [
    {
     "data": {
      "image/png": "[encoded data removed]",
      "text/plain": [
       "<Figure size 432x288 with 1 Axes>"
      ]
     },
     "metadata": {
      "needs_background": "light"
     },
     "output_type": "display_data"
    }
   ],
   "source": [
    "sns.boxplot(x='Segment', y='Amount_spent', data=my_deep_copy_1);"
   ]
  },
  {
   "cell_type": "markdown",
   "id": "8aa0d06b",
   "metadata": {},
   "source": [
    "# :תובנה מספר 6 \n",
    "\n",
    "\n",
    "***ניתן לראות באופן מפתיע כי אנשים בלי מנויים מבזבזים יותר כסף מאשר אנשים עם מנויים. דבר זה מפתיע מכיוון שאנחנו מצפים שאנשים שיש להם מנויים יקנו בתדירות גבוהה יותר ולכן אפשר לצפות מהם שיוציאו גם יותר כסף. אבל, על פי הגרף ניתן לראות כי המצב הוא בדיוק ההפך, מה  שמפתיע ומה שמביא אותנו למסקנה שאנשים שאין להם מנויים מבזבזים יותר כסף***"
   ]
  },
  {
   "cell_type": "markdown",
   "id": "30f885bc",
   "metadata": {},
   "source": [
    "***"
   ]
  },
  {
   "cell_type": "markdown",
   "id": "84d3374d",
   "metadata": {},
   "source": [
    "***"
   ]
  },
  {
   "cell_type": "markdown",
   "id": "dfabf231",
   "metadata": {},
   "source": [
    "## אז מה המוצר האהוב  עליכם לקנייה ברשת? "
   ]
  }
 ],
 "metadata": {
  "kernelspec": {
   "display_name": "Python 3 (ipykernel)",
   "language": "python",
   "name": "python3"
  },
  "language_info": {
   "codemirror_mode": {
    "name": "ipython",
    "version": 3
   },
   "file_extension": ".py",
   "mimetype": "text/x-python",
   "name": "python",
   "nbconvert_exporter": "python",
   "pygments_lexer": "ipython3",
   "version": "3.9.6"
  }
 },
 "nbformat": 4,
 "nbformat_minor": 5
}
