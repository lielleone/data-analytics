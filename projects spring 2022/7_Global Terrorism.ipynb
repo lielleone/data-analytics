{
 "cells": [
  {
   "cell_type": "markdown",
   "id": "58f24c6d-0512-42a3-a102-12cd6c04a6a9",
   "metadata": {},
   "source": [
    "***\n",
    "# <span style=\"color:red\">_Global Terrorism_</span>\n",
    "## <span style=\"color:red\">Group 7: Yaron Richter, Tal Davidi, Adi Cohen, Lior Ben-Ishai</span>\n",
    "<img src=\"https://user-images.githubusercontent.com/103241195/169303775-edbe5792-f63f-4613-ae89-273c9a12d6b7.jpg\" height=\"300px\" width=\"300px\">"
   ]
  },
  {
   "cell_type": "markdown",
   "id": "1ce5aa2e-76ea-418f-8f3f-d865ccf7a763",
   "metadata": {},
   "source": [
    "### <span style=\"color:red\">The source of the data frame: https://www.start.umd.edu/</span>\n",
    "***"
   ]
  },
  {
   "cell_type": "markdown",
   "id": "ea6ef97f-470c-4e94-935b-c39e99fe27e2",
   "metadata": {},
   "source": [
    "# <span style=\"color:red\">The project reserach question: What is the cause of injures from terror occations in the world? Does it relevant also to Israel or is there another cause?</span>\n",
    "***"
   ]
  },
  {
   "cell_type": "code",
   "execution_count": 1,
   "id": "d10b0fef-606a-42bd-bb13-906fe1688095",
   "metadata": {},
   "outputs": [],
   "source": [
    "import pandas as pd\n",
    "import numpy as np\n",
    "import seaborn as sns\n",
    "import matplotlib.pyplot as plt\n",
    "import datetime"
   ]
  },
  {
   "cell_type": "code",
   "execution_count": 2,
   "id": "9acf76be-7059-45ae-b44d-8cb9d057c07b",
   "metadata": {},
   "outputs": [],
   "source": [
    "url1 = 'https://raw.githubusercontent.com/YaronRic/Project-DS-2022/main/global_terrorism_csv1.csv'\n",
    "url2 = 'https://raw.githubusercontent.com/YaronRic/Project-DS-2022/main/global_terrorism_csv2.csv'"
   ]
  },
  {
   "cell_type": "code",
   "execution_count": 3,
   "id": "f1f65cbf-627e-4fa0-a27d-a2a5b8c0c300",
   "metadata": {},
   "outputs": [],
   "source": [
    "df = pd.read_csv(url1)\n",
    "csv2 = pd.read_csv(url2)"
   ]
  },
  {
   "cell_type": "markdown",
   "id": "6abf99af-3161-49a7-ae26-3fb158fed1d5",
   "metadata": {
    "tags": []
   },
   "source": [
    "***\n",
    "# <span style=\"color:green\">_Order The Data Frame_</span>\n",
    "<img src=\"https://user-images.githubusercontent.com/103241195/169314786-e9295d95-72e2-4f7f-a666-ac5f03f29d3b.jpg\" height=\"100px\" width=\"100px\">\n",
    "\n",
    "***"
   ]
  },
  {
   "cell_type": "markdown",
   "id": "ba076b72-be51-4a73-97b0-8b55b6a7050f",
   "metadata": {},
   "source": [
    "#### <span style=\"color:purple\">At first, we needed to order the data frame to be more convinient and clear.</span>"
   ]
  },
  {
   "cell_type": "markdown",
   "id": "cb979814-a5fb-4482-b5c8-a929b991162d",
   "metadata": {},
   "source": [
    "> ##### We have **renamed the titles** of selected columns in the data:"
   ]
  },
  {
   "cell_type": "code",
   "execution_count": 4,
   "id": "adc31898-fc62-40af-9bc6-0a70683f9e52",
   "metadata": {},
   "outputs": [],
   "source": [
    "df.rename(columns={'index':'index', 'country_txt':'country','region_txt':'region','suicide':'is_suicide',\n",
    "                     'attacktype1_txt':'attack_type','targtype1_txt':'target_type','targsubtype1_txt':'target_subtype'}, inplace = True)"
   ]
  },
  {
   "cell_type": "markdown",
   "id": "48d2657a-c47c-4119-b690-d02f6ade8724",
   "metadata": {},
   "source": [
    "> ##### We have added some **more relevant columns** to our data from another data:"
   ]
  },
  {
   "cell_type": "code",
   "execution_count": 5,
   "id": "3b6739cf-8372-4787-b353-da26859026c6",
   "metadata": {},
   "outputs": [],
   "source": [
    "df['weapon_type'] = csv2['weaptype1_txt']\n",
    "df['wounded'] = csv2['nwound']\n",
    "df['killed'] = csv2['nkill']"
   ]
  },
  {
   "cell_type": "markdown",
   "id": "59285551-e9ec-4e13-9ff6-7bb076594c12",
   "metadata": {},
   "source": [
    "> ##### We have extract the **years** of every occation to a new column:"
   ]
  },
  {
   "cell_type": "code",
   "execution_count": 6,
   "id": "cefcf814-044f-4f17-9345-fba1f7f12bd8",
   "metadata": {},
   "outputs": [],
   "source": [
    "df['date'] = pd.to_datetime(df.date)              # convert to datetime\n",
    "df['year'] = pd.DatetimeIndex(df.date).year       # extract year"
   ]
  },
  {
   "cell_type": "markdown",
   "id": "d5597c93-713b-40e1-ab46-0a7f5911c0e7",
   "metadata": {},
   "source": [
    "> ##### We needed to deal with the occations in the data which don't contain a precise date **(NaN)**. For the year of each of those occations we have set the year of the **following occation**:"
   ]
  },
  {
   "cell_type": "code",
   "execution_count": 7,
   "id": "710c58f9-6957-4dcd-9479-f25b48deb8c5",
   "metadata": {},
   "outputs": [],
   "source": [
    "df['year'].fillna(method='bfill', inplace = True) # change NaNs in 'year' to the following values\n",
    "df['year'] = df['year'].astype({'year': 'int'})   # convert the column to int"
   ]
  },
  {
   "cell_type": "markdown",
   "id": "2a3a526c-5046-4ff8-876e-d15b5a5de50f",
   "metadata": {},
   "source": [
    "> ##### We wanted the **'year'** column to be the 1st column in the data:"
   ]
  },
  {
   "cell_type": "code",
   "execution_count": 8,
   "id": "35b185ee-0806-4cf8-b2fc-5cc056d119a1",
   "metadata": {},
   "outputs": [],
   "source": [
    "column_to_move = df.pop(\"year\")       # pop 'year' col\n",
    "df.insert(1, \"year\", column_to_move)  # insert 'year' col in col 0"
   ]
  },
  {
   "cell_type": "markdown",
   "id": "b88a6ce7-8f18-4043-82a4-6aed78b40e8f",
   "metadata": {},
   "source": [
    "***\n",
    "# <span style=\"color:green\">_Operation of Global Terror Occations VS Israel_ Occations</span>\n",
    "<img src=\"https://user-images.githubusercontent.com/103241195/169316191-9c27c2ea-b0ed-4da5-8935-289836521887.jpg\" height=\"100px\" width=\"100px\">\n",
    "\n",
    "***"
   ]
  },
  {
   "cell_type": "markdown",
   "id": "b84e3f38-9d2a-4d8e-99f9-b5bc59e1050f",
   "metadata": {},
   "source": [
    "#### <span style=\"color:purple\">We wanted to see the scope of the worldwide terror occations and the magnitude of Israel terror occation compared with worldwide numbers.</span>"
   ]
  },
  {
   "cell_type": "markdown",
   "id": "b81dd266-eb0e-4d25-ab91-12f53428a08d",
   "metadata": {},
   "source": [
    "> ##### Before we started the operation we wanted to get a big picture of the data.\n",
    "> ##### We have created two graphs that display the <span style=\"color:red\">trend</span> of occations **by years** for both <span style=\"color:red\">worldwide</span> and  <span style=\"color:red\">Israel</span>:"
   ]
  },
  {
   "cell_type": "markdown",
   "id": "74c902c4-0f35-4518-88d7-30bf4d30dce8",
   "metadata": {},
   "source": [
    "### <span style=\"color:blue\">_Worldwide_</span>: "
   ]
  },
  {
   "cell_type": "code",
   "execution_count": 9,
   "id": "f20bbaa0-ef63-48c9-af3f-238cf04b3c76",
   "metadata": {},
   "outputs": [
    {
     "data": {
      "image/png": "[encoded data removed]",
      "text/plain": [
       "<Figure size 1440x216 with 1 Axes>"
      ]
     },
     "metadata": {
      "needs_background": "light"
     },
     "output_type": "display_data"
    }
   ],
   "source": [
    "plt.subplots(figsize=(20,3))\n",
    "ax = sns.countplot(x = 'year', data = df, palette = 'gist_rainbow', edgecolor = sns.color_palette('dark'))\n",
    "plt.xticks(rotation = 70)\n",
    "plt.title('Trend of worldwide occations by years')\n",
    "plt.show()"
   ]
  },
  {
   "cell_type": "markdown",
   "id": "908fe5c2-df56-4cf2-a304-dd0c8d7ba3f8",
   "metadata": {},
   "source": [
    "### <span style=\"color:blue\">_Israel_</span>: "
   ]
  },
  {
   "cell_type": "code",
   "execution_count": 10,
   "id": "d6b1236b-bef4-4d8e-8ff5-87f646a8787e",
   "metadata": {},
   "outputs": [
    {
     "data": {
      "image/png": "[encoded data removed]",
      "text/plain": [
       "<Figure size 1440x216 with 1 Axes>"
      ]
     },
     "metadata": {
      "needs_background": "light"
     },
     "output_type": "display_data"
    }
   ],
   "source": [
    "df_israel = df.loc[df.country == 'Israel']\n",
    "plt.subplots(figsize=(20,3))\n",
    "ax = sns.countplot(x = 'year', data = df_israel, palette = 'rainbow', edgecolor = sns.color_palette('dark'))\n",
    "plt.xticks(rotation = 70)\n",
    "plt.title('Trend of Israel occations by years')\n",
    "plt.show()"
   ]
  },
  {
   "cell_type": "markdown",
   "id": "afd8f4fb-d38b-4b25-a37c-be120ed9f1ca",
   "metadata": {},
   "source": [
    "#### <span style=\"color:purple\">We can see from those graphs that the trends are different, especially in the last years.</span>\n",
    "#### <span style=\"color:purple\">Hence, let's check the weight of Israel terror occations of those of worldwide.</span>"
   ]
  },
  {
   "cell_type": "markdown",
   "id": "68fa7251-0f0e-41d6-9797-ddee48de9931",
   "metadata": {},
   "source": [
    "> ##### We have found the <span style=\"color:red\">numbers</span> of both **worldwide** and  **Israel** <span style=\"color:red\">terror occations</span>:"
   ]
  },
  {
   "cell_type": "code",
   "execution_count": 11,
   "id": "964d3b6f-4df4-4212-b5d9-24f32cb9d332",
   "metadata": {},
   "outputs": [
    {
     "name": "stdout",
     "output_type": "stream",
     "text": [
      "The numbers of terrorism occations in the world: 174199\n",
      "The numbers of terrorism occations in Israel: 1718\n"
     ]
    }
   ],
   "source": [
    "num_terr = df['year'].count()                                      # num of worldwide terror occations\n",
    "num_terr_israel = df['year'].loc[df.country == 'Israel'].count()   # num of Israel terror occations\n",
    "print(f'The numbers of terrorism occations in the world: {num_terr}')\n",
    "print(f'The numbers of terrorism occations in Israel: {num_terr_israel}')"
   ]
  },
  {
   "cell_type": "markdown",
   "id": "e5b562bb-7221-4702-9585-95f3703c1095",
   "metadata": {},
   "source": [
    "> ##### Then, we have found the <span style=\"color:red\">percents</span> of terror occations in **Israel** of the **global occations**:"
   ]
  },
  {
   "cell_type": "code",
   "execution_count": 12,
   "id": "4c9037b7-2ce5-4160-a5ec-6aa36d740b98",
   "metadata": {},
   "outputs": [],
   "source": [
    "percent_terr_israel_vs_world = num_terr_israel / num_terr          # The percent of terror occations in Israel of the global occations"
   ]
  },
  {
   "cell_type": "code",
   "execution_count": 13,
   "id": "e2343414-5f22-4bbe-a9bd-0b4a2b605ccc",
   "metadata": {},
   "outputs": [
    {
     "name": "stdout",
     "output_type": "stream",
     "text": [
      "The percent of terrorism occations in Israel of the world: 0.99%\n"
     ]
    }
   ],
   "source": [
    "print(f'The percent of terrorism occations in Israel of the world: {((percent_terr_israel_vs_world)*100).round(2)}%')"
   ]
  },
  {
   "cell_type": "markdown",
   "id": "7b0eee0f-371f-42ca-9bfe-d7c348847021",
   "metadata": {},
   "source": [
    "##### <span style=\"color:purple\">* A mark which may be worrisome...</span>.\n",
    "### <span style=\"color:purple\">We can see that the numbers of **Israel terror occations** are tending to **one percent** of all the worldwide terror occations!</span>"
   ]
  },
  {
   "cell_type": "markdown",
   "id": "b11a0208-8442-41d8-b978-932dd84f08a4",
   "metadata": {},
   "source": [
    "##### We have found the number of both **worldwide** and  **Israel** <span style=\"color:red\">suicide</span> terror occations:"
   ]
  },
  {
   "cell_type": "code",
   "execution_count": 14,
   "id": "eb61ced0-1b82-472c-b502-3368b4b0530e",
   "metadata": {},
   "outputs": [
    {
     "name": "stdout",
     "output_type": "stream",
     "text": [
      "The numbers of suicide terror occations in the world: 7244\n",
      "The numbers of suicide terror occations in Israel: 123\n"
     ]
    }
   ],
   "source": [
    "num_suicide = df['is_suicide'].sum()                                     # num of global suicide terror\n",
    "num_suicide_israel = df['is_suicide'].loc[df.country == 'Israel'].sum()  # num of suicide terror in Israel\n",
    "print(f'The numbers of suicide terror occations in the world: {num_suicide}')\n",
    "print(f'The numbers of suicide terror occations in Israel: {num_suicide_israel}')"
   ]
  },
  {
   "cell_type": "markdown",
   "id": "4d2a438a-f4a5-41e8-9c41-63d73e7a2c5c",
   "metadata": {},
   "source": [
    "##### We have found the <span style=\"color:red\">percent</span> of <span style=\"color:red\">suicide</span> terror occations in **Israel** of the **global occations**:"
   ]
  },
  {
   "cell_type": "code",
   "execution_count": 15,
   "id": "e6e3cff0-2404-4637-9de0-bc0f5ed17cac",
   "metadata": {},
   "outputs": [],
   "source": [
    "percent_suicide_israel_vs_world = num_suicide_israel / num_suicide       # percent of suicide terror in Israel from the global suicide terror"
   ]
  },
  {
   "cell_type": "code",
   "execution_count": 16,
   "id": "96ba0224-1244-4844-ba8a-a14c4bfc0fa6",
   "metadata": {},
   "outputs": [
    {
     "name": "stdout",
     "output_type": "stream",
     "text": [
      "The percent of suicide terror occations in Israel of the world: 1.7%\n"
     ]
    }
   ],
   "source": [
    "print(f'The percent of suicide terror occations in Israel of the world: {((percent_suicide_israel_vs_world)*100).round(2)}%')"
   ]
  },
  {
   "cell_type": "markdown",
   "id": "1f20b408-b486-40ad-8ae2-149b0d5cf1bd",
   "metadata": {},
   "source": [
    "##### <span style=\"color:purple\">* An another mark which may be worrisome...</span>.\n",
    "### <span style=\"color:purple\">We can see that the numbers of **Israel terror occations** are tending to **two percents** of all the worldwide terror occations!</span>"
   ]
  },
  {
   "cell_type": "markdown",
   "id": "4a859590-1f2e-49bf-af5a-a96d57030c50",
   "metadata": {},
   "source": [
    "<img src=\"https://user-images.githubusercontent.com/103241195/169381919-1e94288e-90ce-4d4b-b0af-d746100aa61d.png\" height=\"100px\" width=\"300px\" align=\"right\">"
   ]
  },
  {
   "cell_type": "markdown",
   "id": "b870e334-10ba-4f3a-806e-0285856376f4",
   "metadata": {},
   "source": [
    "***\n",
    "# <span style=\"color:green\">_Correllations_</span>\n",
    "<img src=\"https://user-images.githubusercontent.com/103241195/169318405-4e3b45f9-3d34-42d1-98d6-a089c2dcae14.png\" height=\"100px\" width=\"100px\">\n",
    "\n",
    "***"
   ]
  },
  {
   "cell_type": "markdown",
   "id": "c0275dc4-c536-4b8b-a44f-dfbc02e4048d",
   "metadata": {},
   "source": [
    "#### <span style=\"color:purple\">In this chapter we wanted to search for the reason of the numbers of people that have been injured from the terror occations.</span>\n",
    "###### <span style=\"color:purple\">* injured = wounded + killed</span>"
   ]
  },
  {
   "cell_type": "markdown",
   "id": "5120b253-9676-4a85-85da-6fb3de6a297e",
   "metadata": {},
   "source": [
    "> ##### First, we have searched the **correlations** between <span style=\"color:red\">'occations'</span>, <span style=\"color:red\">'wounded'</span> and <span style=\"color:red\">'killed'</span> for both worldwide and Israel:"
   ]
  },
  {
   "cell_type": "markdown",
   "id": "32a4ed68-6e61-45d1-a17b-fe8c44bec12d",
   "metadata": {},
   "source": [
    "### <span style=\"color:blue\">_Worldwide_</span>: \n",
    "<img src=\"https://user-images.githubusercontent.com/103241195/169509214-25fae14e-4877-49e8-a128-b9d95160a3a9.png\" height=\"50px\" width=\"50px\">\n"
   ]
  },
  {
   "cell_type": "markdown",
   "id": "a9e50823-2b03-4538-a861-6b03cd1f8215",
   "metadata": {},
   "source": [
    "> ##### We have created a data frame of <span style=\"color:blue\">**worldwide**</span> which contains the <span style=\"color:red\">numbers of occations, wounded and killed</span> **by years**:"
   ]
  },
  {
   "cell_type": "code",
   "execution_count": 17,
   "id": "1e6479ba-dbc9-4dd3-a56c-d52e9c889c2b",
   "metadata": {},
   "outputs": [],
   "source": [
    "df_years = df.groupby('year').agg({'index':'count', 'wounded':'sum', 'killed':'sum'}).reset_index()\n",
    "df_years.rename(columns = {'index':'occations'}, inplace = True)"
   ]
  },
  {
   "cell_type": "markdown",
   "id": "bf29525f-27e1-43dd-90ed-8392db8b32ee",
   "metadata": {},
   "source": [
    "> ##### In addition, we have checked the correlations while delving into <span style=\"color:red\">**occations-wounded**</span> and <span style=\"color:red\">**occations-killed**</span>:"
   ]
  },
  {
   "cell_type": "code",
   "execution_count": 18,
   "id": "7705a0a4-2ae2-49db-a901-e9a3f735316b",
   "metadata": {},
   "outputs": [
    {
     "data": {
      "text/html": [
       "<div>\n",
       "<style scoped>\n",
       "    .dataframe tbody tr th:only-of-type {\n",
       "        vertical-align: middle;\n",
       "    }\n",
       "\n",
       "    .dataframe tbody tr th {\n",
       "        vertical-align: top;\n",
       "    }\n",
       "\n",
       "    .dataframe thead th {\n",
       "        text-align: right;\n",
       "    }\n",
       "</style>\n",
       "<table border=\"1\" class=\"dataframe\">\n",
       "  <thead>\n",
       "    <tr style=\"text-align: right;\">\n",
       "      <th></th>\n",
       "      <th>occations</th>\n",
       "      <th>wounded</th>\n",
       "      <th>killed</th>\n",
       "    </tr>\n",
       "  </thead>\n",
       "  <tbody>\n",
       "    <tr>\n",
       "      <th>occations</th>\n",
       "      <td>1.000000</td>\n",
       "      <td>0.632019</td>\n",
       "      <td>0.882353</td>\n",
       "    </tr>\n",
       "    <tr>\n",
       "      <th>wounded</th>\n",
       "      <td>0.632019</td>\n",
       "      <td>1.000000</td>\n",
       "      <td>0.778409</td>\n",
       "    </tr>\n",
       "    <tr>\n",
       "      <th>killed</th>\n",
       "      <td>0.882353</td>\n",
       "      <td>0.778409</td>\n",
       "      <td>1.000000</td>\n",
       "    </tr>\n",
       "  </tbody>\n",
       "</table>\n",
       "</div>"
      ],
      "text/plain": [
       "           occations   wounded    killed\n",
       "occations   1.000000  0.632019  0.882353\n",
       "wounded     0.632019  1.000000  0.778409\n",
       "killed      0.882353  0.778409  1.000000"
      ]
     },
     "execution_count": 18,
     "metadata": {},
     "output_type": "execute_result"
    }
   ],
   "source": [
    "features = ['occations', 'wounded', 'killed']\n",
    "corr_matrix = df_years[features].corr(method = 'spearman')\n",
    "corr_matrix"
   ]
  },
  {
   "cell_type": "markdown",
   "id": "3a0e4394-a757-4e48-8454-e8608f8c4aef",
   "metadata": {},
   "source": [
    "> ##### Let's see those <span style=\"color:blue\">worldwide</span> findings by a <span style=\"color:red\">plot</span>:"
   ]
  },
  {
   "cell_type": "code",
   "execution_count": 19,
   "id": "31a2d7eb-76dc-4436-88f0-be49ec578690",
   "metadata": {},
   "outputs": [
    {
     "data": {
      "image/png": "[encoded data removed]",
      "text/plain": [
       "<Figure size 720x360 with 2 Axes>"
      ]
     },
     "metadata": {
      "needs_background": "light"
     },
     "output_type": "display_data"
    }
   ],
   "source": [
    "plt.figure(figsize = (10, 5))\n",
    "ax = sns.heatmap(data = corr_matrix, cmap = 'Reds', annot = True)\n",
    "ax.set_title(\"Worldwide Correlations\")\n",
    "plt.show()"
   ]
  },
  {
   "cell_type": "markdown",
   "id": "80106df4-e1f4-44f5-9342-1abdb761469a",
   "metadata": {},
   "source": [
    "### <span style=\"color:purple\">Those percents point on a correlation...</span>\n",
    "### <span style=\"color:purple\">So: less occations = less injures ?</span>\n",
    "#### <span style=\"color:purple\">Let's see the possibility of this idea in Israel...</span>"
   ]
  },
  {
   "cell_type": "markdown",
   "id": "bc034bf8-03d2-4901-80f1-14b8f9691c6b",
   "metadata": {},
   "source": [
    "***"
   ]
  },
  {
   "cell_type": "markdown",
   "id": "abd344b2-5c53-405f-940d-1374d41ed5a0",
   "metadata": {},
   "source": [
    "### <span style=\"color:blue\">_Israel_</span>: \n",
    "<img src=\"https://user-images.githubusercontent.com/103241195/169508890-c97c6d08-f647-412b-89b7-a3a0de0ee991.png\" height=\"50px\" width=\"50px\">"
   ]
  },
  {
   "cell_type": "markdown",
   "id": "29899d1e-c251-4cfa-aec7-48528072c222",
   "metadata": {},
   "source": [
    "> ##### To check the possibility of correlation beteween number of occation to number of injures, We have created a data frame of <span style=\"color:blue\">**Israel**</span> which contains the <span style=\"color:red\">numbers of occations, wounded and killed</span> **by years**:"
   ]
  },
  {
   "cell_type": "code",
   "execution_count": 20,
   "id": "7d05b2b4-cb30-4387-9f4c-9067e6e43e44",
   "metadata": {},
   "outputs": [],
   "source": [
    "df_israel = df.loc[df.country == 'Israel']"
   ]
  },
  {
   "cell_type": "code",
   "execution_count": 21,
   "id": "67999a45-fa92-4ad5-b8ad-5186bea8252e",
   "metadata": {},
   "outputs": [],
   "source": [
    "df_years_israel = df_israel.groupby('year').agg({'index':'count', 'wounded':'sum', 'killed':'sum'}).reset_index()\n",
    "df_years_israel.rename(columns = {'index':'occations'}, inplace = True)"
   ]
  },
  {
   "cell_type": "markdown",
   "id": "329a2e57-5345-4824-ab37-d33910452c79",
   "metadata": {},
   "source": [
    "> ##### Then, we have checked the correlations while delving into <span style=\"color:red\">**occations-wounded**</span> and <span style=\"color:red\">**occations-killed**</span>:"
   ]
  },
  {
   "cell_type": "code",
   "execution_count": 22,
   "id": "c2ddfa68-aa44-4d0e-b2d3-f7595e438eda",
   "metadata": {},
   "outputs": [
    {
     "data": {
      "text/html": [
       "<div>\n",
       "<style scoped>\n",
       "    .dataframe tbody tr th:only-of-type {\n",
       "        vertical-align: middle;\n",
       "    }\n",
       "\n",
       "    .dataframe tbody tr th {\n",
       "        vertical-align: top;\n",
       "    }\n",
       "\n",
       "    .dataframe thead th {\n",
       "        text-align: right;\n",
       "    }\n",
       "</style>\n",
       "<table border=\"1\" class=\"dataframe\">\n",
       "  <thead>\n",
       "    <tr style=\"text-align: right;\">\n",
       "      <th></th>\n",
       "      <th>occations</th>\n",
       "      <th>wounded</th>\n",
       "      <th>killed</th>\n",
       "    </tr>\n",
       "  </thead>\n",
       "  <tbody>\n",
       "    <tr>\n",
       "      <th>occations</th>\n",
       "      <td>1.000000</td>\n",
       "      <td>0.113462</td>\n",
       "      <td>0.312061</td>\n",
       "    </tr>\n",
       "    <tr>\n",
       "      <th>wounded</th>\n",
       "      <td>0.113462</td>\n",
       "      <td>1.000000</td>\n",
       "      <td>0.815834</td>\n",
       "    </tr>\n",
       "    <tr>\n",
       "      <th>killed</th>\n",
       "      <td>0.312061</td>\n",
       "      <td>0.815834</td>\n",
       "      <td>1.000000</td>\n",
       "    </tr>\n",
       "  </tbody>\n",
       "</table>\n",
       "</div>"
      ],
      "text/plain": [
       "           occations   wounded    killed\n",
       "occations   1.000000  0.113462  0.312061\n",
       "wounded     0.113462  1.000000  0.815834\n",
       "killed      0.312061  0.815834  1.000000"
      ]
     },
     "execution_count": 22,
     "metadata": {},
     "output_type": "execute_result"
    }
   ],
   "source": [
    "features = ['occations', 'wounded', 'killed']\n",
    "corr_matrix = df_years_israel[features].corr(method = 'spearman')\n",
    "corr_matrix"
   ]
  },
  {
   "cell_type": "markdown",
   "id": "60d894a8-b619-4645-874e-5b445fea42eb",
   "metadata": {},
   "source": [
    "> ##### Let's see those <span style=\"color:blue\">Israel</span> findings by a <span style=\"color:red\">plot</span>:"
   ]
  },
  {
   "cell_type": "code",
   "execution_count": 23,
   "id": "e010790c-5db7-4531-bb95-152eec110d1a",
   "metadata": {},
   "outputs": [
    {
     "data": {
      "image/png": "[encoded data removed]",
      "text/plain": [
       "<Figure size 720x360 with 2 Axes>"
      ]
     },
     "metadata": {
      "needs_background": "light"
     },
     "output_type": "display_data"
    }
   ],
   "source": [
    "plt.figure(figsize = (10, 5))\n",
    "ax = sns.heatmap(data = corr_matrix, cmap = 'Oranges', annot = True)\n",
    "ax.set_title(\"Israel Correlations\")\n",
    "plt.show()"
   ]
  },
  {
   "cell_type": "markdown",
   "id": "96f6a8c3-580e-4154-ae33-c0bfb9845e06",
   "metadata": {},
   "source": [
    "##### <span style=\"color:purple\">* Those percents are high for a cheese, not for correlation...</span><img src=\"https://user-images.githubusercontent.com/103241195/169521906-4ce545a1-2020-4f0e-82eb-12419d986fd6.png\" height=\"50px\" width=\"50px\">\n",
    "### <span style=\"color:purple\">According to those results we have **rejected** the possibility that the number of the injures (wounded and killed) depends on the number of occations in **Israel**.</span>\n",
    "\n",
    "#### <span style=\"color:purple\">Why there are differences between the correlations data of worldwide and Israel?</span>\n",
    "#### <span style=\"color:purple\">After we have sat and blessed on this complex that we have eaten, we have decided to check the features of Israel occations.</span>"
   ]
  },
  {
   "cell_type": "markdown",
   "id": "ec7d7477-8040-4a5b-aaf2-7e4888f85f48",
   "metadata": {},
   "source": [
    "***\n",
    "# <span style=\"color:green\">_Type attack_</span>\n",
    "<img src=\"https://user-images.githubusercontent.com/103241195/169322499-404f4106-0572-470b-888a-81781bc3ee5c.png\" height=\"100px\" width=\"100px\">\n",
    "\n",
    "***"
   ]
  },
  {
   "cell_type": "markdown",
   "id": "e01b43e5-b5b3-404d-933a-0fb346d38278",
   "metadata": {},
   "source": [
    "#### <span style=\"color:purple\">In the search of the cause of the injures number in Israel, we decided to exam the types of the terror attacks in **Israel**.</span>"
   ]
  },
  {
   "cell_type": "markdown",
   "id": "7cbb705b-51de-4c7f-b87e-4e04b6592c05",
   "metadata": {},
   "source": [
    "> ##### We have found the <span style=\"color:red\">most common attack type</span> in every **year** in <span style=\"color:blue\">Israel</span>:"
   ]
  },
  {
   "cell_type": "code",
   "execution_count": 24,
   "id": "5f8e3c61-23d5-4dd1-a00a-d274c262188c",
   "metadata": {},
   "outputs": [
    {
     "data": {
      "text/html": [
       "<style  type=\"text/css\" >\n",
       "#T_3f421de6_da02_11ec_9fd0_d4d252ee7ca2row0_col28,#T_3f421de6_da02_11ec_9fd0_d4d252ee7ca2row0_col29,#T_3f421de6_da02_11ec_9fd0_d4d252ee7ca2row1_col4,#T_3f421de6_da02_11ec_9fd0_d4d252ee7ca2row1_col5,#T_3f421de6_da02_11ec_9fd0_d4d252ee7ca2row1_col6,#T_3f421de6_da02_11ec_9fd0_d4d252ee7ca2row1_col7,#T_3f421de6_da02_11ec_9fd0_d4d252ee7ca2row2_col0,#T_3f421de6_da02_11ec_9fd0_d4d252ee7ca2row2_col1,#T_3f421de6_da02_11ec_9fd0_d4d252ee7ca2row2_col2,#T_3f421de6_da02_11ec_9fd0_d4d252ee7ca2row2_col3,#T_3f421de6_da02_11ec_9fd0_d4d252ee7ca2row2_col8,#T_3f421de6_da02_11ec_9fd0_d4d252ee7ca2row2_col9,#T_3f421de6_da02_11ec_9fd0_d4d252ee7ca2row2_col10,#T_3f421de6_da02_11ec_9fd0_d4d252ee7ca2row2_col11,#T_3f421de6_da02_11ec_9fd0_d4d252ee7ca2row2_col12,#T_3f421de6_da02_11ec_9fd0_d4d252ee7ca2row2_col13,#T_3f421de6_da02_11ec_9fd0_d4d252ee7ca2row2_col14,#T_3f421de6_da02_11ec_9fd0_d4d252ee7ca2row2_col15,#T_3f421de6_da02_11ec_9fd0_d4d252ee7ca2row2_col16,#T_3f421de6_da02_11ec_9fd0_d4d252ee7ca2row2_col17,#T_3f421de6_da02_11ec_9fd0_d4d252ee7ca2row2_col18,#T_3f421de6_da02_11ec_9fd0_d4d252ee7ca2row2_col19,#T_3f421de6_da02_11ec_9fd0_d4d252ee7ca2row2_col20,#T_3f421de6_da02_11ec_9fd0_d4d252ee7ca2row2_col21,#T_3f421de6_da02_11ec_9fd0_d4d252ee7ca2row2_col22,#T_3f421de6_da02_11ec_9fd0_d4d252ee7ca2row2_col23,#T_3f421de6_da02_11ec_9fd0_d4d252ee7ca2row2_col24,#T_3f421de6_da02_11ec_9fd0_d4d252ee7ca2row2_col25,#T_3f421de6_da02_11ec_9fd0_d4d252ee7ca2row2_col26,#T_3f421de6_da02_11ec_9fd0_d4d252ee7ca2row2_col27,#T_3f421de6_da02_11ec_9fd0_d4d252ee7ca2row2_col30,#T_3f421de6_da02_11ec_9fd0_d4d252ee7ca2row2_col31,#T_3f421de6_da02_11ec_9fd0_d4d252ee7ca2row2_col32{\n",
       "            background-color:  pink;\n",
       "        }</style><table id=\"T_3f421de6_da02_11ec_9fd0_d4d252ee7ca2\" ><thead>    <tr>        <th class=\"index_name level0\" >year</th>        <th class=\"col_heading level0 col0\" >1986</th>        <th class=\"col_heading level0 col1\" >1987</th>        <th class=\"col_heading level0 col2\" >1988</th>        <th class=\"col_heading level0 col3\" >1989</th>        <th class=\"col_heading level0 col4\" >1990</th>        <th class=\"col_heading level0 col5\" >1991</th>        <th class=\"col_heading level0 col6\" >1992</th>        <th class=\"col_heading level0 col7\" >1994</th>        <th class=\"col_heading level0 col8\" >1995</th>        <th class=\"col_heading level0 col9\" >1996</th>        <th class=\"col_heading level0 col10\" >1997</th>        <th class=\"col_heading level0 col11\" >1998</th>        <th class=\"col_heading level0 col12\" >1999</th>        <th class=\"col_heading level0 col13\" >2000</th>        <th class=\"col_heading level0 col14\" >2001</th>        <th class=\"col_heading level0 col15\" >2002</th>        <th class=\"col_heading level0 col16\" >2003</th>        <th class=\"col_heading level0 col17\" >2004</th>        <th class=\"col_heading level0 col18\" >2005</th>        <th class=\"col_heading level0 col19\" >2006</th>        <th class=\"col_heading level0 col20\" >2007</th>        <th class=\"col_heading level0 col21\" >2008</th>        <th class=\"col_heading level0 col22\" >2009</th>        <th class=\"col_heading level0 col23\" >2010</th>        <th class=\"col_heading level0 col24\" >2011</th>        <th class=\"col_heading level0 col25\" >2012</th>        <th class=\"col_heading level0 col26\" >2013</th>        <th class=\"col_heading level0 col27\" >2014</th>        <th class=\"col_heading level0 col28\" >2015</th>        <th class=\"col_heading level0 col29\" >2016</th>        <th class=\"col_heading level0 col30\" >2017</th>        <th class=\"col_heading level0 col31\" >2018</th>        <th class=\"col_heading level0 col32\" >2019</th>    </tr>    <tr>        <th class=\"index_name level0\" >attack_type</th>        <th class=\"blank\" ></th>        <th class=\"blank\" ></th>        <th class=\"blank\" ></th>        <th class=\"blank\" ></th>        <th class=\"blank\" ></th>        <th class=\"blank\" ></th>        <th class=\"blank\" ></th>        <th class=\"blank\" ></th>        <th class=\"blank\" ></th>        <th class=\"blank\" ></th>        <th class=\"blank\" ></th>        <th class=\"blank\" ></th>        <th class=\"blank\" ></th>        <th class=\"blank\" ></th>        <th class=\"blank\" ></th>        <th class=\"blank\" ></th>        <th class=\"blank\" ></th>        <th class=\"blank\" ></th>        <th class=\"blank\" ></th>        <th class=\"blank\" ></th>        <th class=\"blank\" ></th>        <th class=\"blank\" ></th>        <th class=\"blank\" ></th>        <th class=\"blank\" ></th>        <th class=\"blank\" ></th>        <th class=\"blank\" ></th>        <th class=\"blank\" ></th>        <th class=\"blank\" ></th>        <th class=\"blank\" ></th>        <th class=\"blank\" ></th>        <th class=\"blank\" ></th>        <th class=\"blank\" ></th>        <th class=\"blank\" ></th>    </tr></thead><tbody>\n",
       "                <tr>\n",
       "                        <th id=\"T_3f421de6_da02_11ec_9fd0_d4d252ee7ca2level0_row0\" class=\"row_heading level0 row0\" >Armed Assault</th>\n",
       "                        <td id=\"T_3f421de6_da02_11ec_9fd0_d4d252ee7ca2row0_col0\" class=\"data row0 col0\" >3</td>\n",
       "                        <td id=\"T_3f421de6_da02_11ec_9fd0_d4d252ee7ca2row0_col1\" class=\"data row0 col1\" >2</td>\n",
       "                        <td id=\"T_3f421de6_da02_11ec_9fd0_d4d252ee7ca2row0_col2\" class=\"data row0 col2\" >7</td>\n",
       "                        <td id=\"T_3f421de6_da02_11ec_9fd0_d4d252ee7ca2row0_col3\" class=\"data row0 col3\" >9</td>\n",
       "                        <td id=\"T_3f421de6_da02_11ec_9fd0_d4d252ee7ca2row0_col4\" class=\"data row0 col4\" >13</td>\n",
       "                        <td id=\"T_3f421de6_da02_11ec_9fd0_d4d252ee7ca2row0_col5\" class=\"data row0 col5\" >10</td>\n",
       "                        <td id=\"T_3f421de6_da02_11ec_9fd0_d4d252ee7ca2row0_col6\" class=\"data row0 col6\" >6</td>\n",
       "                        <td id=\"T_3f421de6_da02_11ec_9fd0_d4d252ee7ca2row0_col7\" class=\"data row0 col7\" >7</td>\n",
       "                        <td id=\"T_3f421de6_da02_11ec_9fd0_d4d252ee7ca2row0_col8\" class=\"data row0 col8\" >2</td>\n",
       "                        <td id=\"T_3f421de6_da02_11ec_9fd0_d4d252ee7ca2row0_col9\" class=\"data row0 col9\" >5</td>\n",
       "                        <td id=\"T_3f421de6_da02_11ec_9fd0_d4d252ee7ca2row0_col10\" class=\"data row0 col10\" >4</td>\n",
       "                        <td id=\"T_3f421de6_da02_11ec_9fd0_d4d252ee7ca2row0_col11\" class=\"data row0 col11\" >2</td>\n",
       "                        <td id=\"T_3f421de6_da02_11ec_9fd0_d4d252ee7ca2row0_col12\" class=\"data row0 col12\" >1</td>\n",
       "                        <td id=\"T_3f421de6_da02_11ec_9fd0_d4d252ee7ca2row0_col13\" class=\"data row0 col13\" >0</td>\n",
       "                        <td id=\"T_3f421de6_da02_11ec_9fd0_d4d252ee7ca2row0_col14\" class=\"data row0 col14\" >15</td>\n",
       "                        <td id=\"T_3f421de6_da02_11ec_9fd0_d4d252ee7ca2row0_col15\" class=\"data row0 col15\" >11</td>\n",
       "                        <td id=\"T_3f421de6_da02_11ec_9fd0_d4d252ee7ca2row0_col16\" class=\"data row0 col16\" >4</td>\n",
       "                        <td id=\"T_3f421de6_da02_11ec_9fd0_d4d252ee7ca2row0_col17\" class=\"data row0 col17\" >0</td>\n",
       "                        <td id=\"T_3f421de6_da02_11ec_9fd0_d4d252ee7ca2row0_col18\" class=\"data row0 col18\" >6</td>\n",
       "                        <td id=\"T_3f421de6_da02_11ec_9fd0_d4d252ee7ca2row0_col19\" class=\"data row0 col19\" >3</td>\n",
       "                        <td id=\"T_3f421de6_da02_11ec_9fd0_d4d252ee7ca2row0_col20\" class=\"data row0 col20\" >1</td>\n",
       "                        <td id=\"T_3f421de6_da02_11ec_9fd0_d4d252ee7ca2row0_col21\" class=\"data row0 col21\" >5</td>\n",
       "                        <td id=\"T_3f421de6_da02_11ec_9fd0_d4d252ee7ca2row0_col22\" class=\"data row0 col22\" >0</td>\n",
       "                        <td id=\"T_3f421de6_da02_11ec_9fd0_d4d252ee7ca2row0_col23\" class=\"data row0 col23\" >0</td>\n",
       "                        <td id=\"T_3f421de6_da02_11ec_9fd0_d4d252ee7ca2row0_col24\" class=\"data row0 col24\" >3</td>\n",
       "                        <td id=\"T_3f421de6_da02_11ec_9fd0_d4d252ee7ca2row0_col25\" class=\"data row0 col25\" >3</td>\n",
       "                        <td id=\"T_3f421de6_da02_11ec_9fd0_d4d252ee7ca2row0_col26\" class=\"data row0 col26\" >5</td>\n",
       "                        <td id=\"T_3f421de6_da02_11ec_9fd0_d4d252ee7ca2row0_col27\" class=\"data row0 col27\" >16</td>\n",
       "                        <td id=\"T_3f421de6_da02_11ec_9fd0_d4d252ee7ca2row0_col28\" class=\"data row0 col28\" >35</td>\n",
       "                        <td id=\"T_3f421de6_da02_11ec_9fd0_d4d252ee7ca2row0_col29\" class=\"data row0 col29\" >24</td>\n",
       "                        <td id=\"T_3f421de6_da02_11ec_9fd0_d4d252ee7ca2row0_col30\" class=\"data row0 col30\" >16</td>\n",
       "                        <td id=\"T_3f421de6_da02_11ec_9fd0_d4d252ee7ca2row0_col31\" class=\"data row0 col31\" >11</td>\n",
       "                        <td id=\"T_3f421de6_da02_11ec_9fd0_d4d252ee7ca2row0_col32\" class=\"data row0 col32\" >7</td>\n",
       "            </tr>\n",
       "            <tr>\n",
       "                        <th id=\"T_3f421de6_da02_11ec_9fd0_d4d252ee7ca2level0_row1\" class=\"row_heading level0 row1\" >Assassination</th>\n",
       "                        <td id=\"T_3f421de6_da02_11ec_9fd0_d4d252ee7ca2row1_col0\" class=\"data row1 col0\" >6</td>\n",
       "                        <td id=\"T_3f421de6_da02_11ec_9fd0_d4d252ee7ca2row1_col1\" class=\"data row1 col1\" >4</td>\n",
       "                        <td id=\"T_3f421de6_da02_11ec_9fd0_d4d252ee7ca2row1_col2\" class=\"data row1 col2\" >2</td>\n",
       "                        <td id=\"T_3f421de6_da02_11ec_9fd0_d4d252ee7ca2row1_col3\" class=\"data row1 col3\" >24</td>\n",
       "                        <td id=\"T_3f421de6_da02_11ec_9fd0_d4d252ee7ca2row1_col4\" class=\"data row1 col4\" >32</td>\n",
       "                        <td id=\"T_3f421de6_da02_11ec_9fd0_d4d252ee7ca2row1_col5\" class=\"data row1 col5\" >23</td>\n",
       "                        <td id=\"T_3f421de6_da02_11ec_9fd0_d4d252ee7ca2row1_col6\" class=\"data row1 col6\" >28</td>\n",
       "                        <td id=\"T_3f421de6_da02_11ec_9fd0_d4d252ee7ca2row1_col7\" class=\"data row1 col7\" >17</td>\n",
       "                        <td id=\"T_3f421de6_da02_11ec_9fd0_d4d252ee7ca2row1_col8\" class=\"data row1 col8\" >3</td>\n",
       "                        <td id=\"T_3f421de6_da02_11ec_9fd0_d4d252ee7ca2row1_col9\" class=\"data row1 col9\" >1</td>\n",
       "                        <td id=\"T_3f421de6_da02_11ec_9fd0_d4d252ee7ca2row1_col10\" class=\"data row1 col10\" >1</td>\n",
       "                        <td id=\"T_3f421de6_da02_11ec_9fd0_d4d252ee7ca2row1_col11\" class=\"data row1 col11\" >0</td>\n",
       "                        <td id=\"T_3f421de6_da02_11ec_9fd0_d4d252ee7ca2row1_col12\" class=\"data row1 col12\" >0</td>\n",
       "                        <td id=\"T_3f421de6_da02_11ec_9fd0_d4d252ee7ca2row1_col13\" class=\"data row1 col13\" >0</td>\n",
       "                        <td id=\"T_3f421de6_da02_11ec_9fd0_d4d252ee7ca2row1_col14\" class=\"data row1 col14\" >0</td>\n",
       "                        <td id=\"T_3f421de6_da02_11ec_9fd0_d4d252ee7ca2row1_col15\" class=\"data row1 col15\" >0</td>\n",
       "                        <td id=\"T_3f421de6_da02_11ec_9fd0_d4d252ee7ca2row1_col16\" class=\"data row1 col16\" >0</td>\n",
       "                        <td id=\"T_3f421de6_da02_11ec_9fd0_d4d252ee7ca2row1_col17\" class=\"data row1 col17\" >0</td>\n",
       "                        <td id=\"T_3f421de6_da02_11ec_9fd0_d4d252ee7ca2row1_col18\" class=\"data row1 col18\" >0</td>\n",
       "                        <td id=\"T_3f421de6_da02_11ec_9fd0_d4d252ee7ca2row1_col19\" class=\"data row1 col19\" >0</td>\n",
       "                        <td id=\"T_3f421de6_da02_11ec_9fd0_d4d252ee7ca2row1_col20\" class=\"data row1 col20\" >0</td>\n",
       "                        <td id=\"T_3f421de6_da02_11ec_9fd0_d4d252ee7ca2row1_col21\" class=\"data row1 col21\" >0</td>\n",
       "                        <td id=\"T_3f421de6_da02_11ec_9fd0_d4d252ee7ca2row1_col22\" class=\"data row1 col22\" >0</td>\n",
       "                        <td id=\"T_3f421de6_da02_11ec_9fd0_d4d252ee7ca2row1_col23\" class=\"data row1 col23\" >0</td>\n",
       "                        <td id=\"T_3f421de6_da02_11ec_9fd0_d4d252ee7ca2row1_col24\" class=\"data row1 col24\" >0</td>\n",
       "                        <td id=\"T_3f421de6_da02_11ec_9fd0_d4d252ee7ca2row1_col25\" class=\"data row1 col25\" >0</td>\n",
       "                        <td id=\"T_3f421de6_da02_11ec_9fd0_d4d252ee7ca2row1_col26\" class=\"data row1 col26\" >1</td>\n",
       "                        <td id=\"T_3f421de6_da02_11ec_9fd0_d4d252ee7ca2row1_col27\" class=\"data row1 col27\" >0</td>\n",
       "                        <td id=\"T_3f421de6_da02_11ec_9fd0_d4d252ee7ca2row1_col28\" class=\"data row1 col28\" >1</td>\n",
       "                        <td id=\"T_3f421de6_da02_11ec_9fd0_d4d252ee7ca2row1_col29\" class=\"data row1 col29\" >0</td>\n",
       "                        <td id=\"T_3f421de6_da02_11ec_9fd0_d4d252ee7ca2row1_col30\" class=\"data row1 col30\" >0</td>\n",
       "                        <td id=\"T_3f421de6_da02_11ec_9fd0_d4d252ee7ca2row1_col31\" class=\"data row1 col31\" >0</td>\n",
       "                        <td id=\"T_3f421de6_da02_11ec_9fd0_d4d252ee7ca2row1_col32\" class=\"data row1 col32\" >0</td>\n",
       "            </tr>\n",
       "            <tr>\n",
       "                        <th id=\"T_3f421de6_da02_11ec_9fd0_d4d252ee7ca2level0_row2\" class=\"row_heading level0 row2\" >Bombing/Explosion</th>\n",
       "                        <td id=\"T_3f421de6_da02_11ec_9fd0_d4d252ee7ca2row2_col0\" class=\"data row2 col0\" >35</td>\n",
       "                        <td id=\"T_3f421de6_da02_11ec_9fd0_d4d252ee7ca2row2_col1\" class=\"data row2 col1\" >12</td>\n",
       "                        <td id=\"T_3f421de6_da02_11ec_9fd0_d4d252ee7ca2row2_col2\" class=\"data row2 col2\" >15</td>\n",
       "                        <td id=\"T_3f421de6_da02_11ec_9fd0_d4d252ee7ca2row2_col3\" class=\"data row2 col3\" >28</td>\n",
       "                        <td id=\"T_3f421de6_da02_11ec_9fd0_d4d252ee7ca2row2_col4\" class=\"data row2 col4\" >26</td>\n",
       "                        <td id=\"T_3f421de6_da02_11ec_9fd0_d4d252ee7ca2row2_col5\" class=\"data row2 col5\" >12</td>\n",
       "                        <td id=\"T_3f421de6_da02_11ec_9fd0_d4d252ee7ca2row2_col6\" class=\"data row2 col6\" >11</td>\n",
       "                        <td id=\"T_3f421de6_da02_11ec_9fd0_d4d252ee7ca2row2_col7\" class=\"data row2 col7\" >11</td>\n",
       "                        <td id=\"T_3f421de6_da02_11ec_9fd0_d4d252ee7ca2row2_col8\" class=\"data row2 col8\" >6</td>\n",
       "                        <td id=\"T_3f421de6_da02_11ec_9fd0_d4d252ee7ca2row2_col9\" class=\"data row2 col9\" >10</td>\n",
       "                        <td id=\"T_3f421de6_da02_11ec_9fd0_d4d252ee7ca2row2_col10\" class=\"data row2 col10\" >6</td>\n",
       "                        <td id=\"T_3f421de6_da02_11ec_9fd0_d4d252ee7ca2row2_col11\" class=\"data row2 col11\" >10</td>\n",
       "                        <td id=\"T_3f421de6_da02_11ec_9fd0_d4d252ee7ca2row2_col12\" class=\"data row2 col12\" >7</td>\n",
       "                        <td id=\"T_3f421de6_da02_11ec_9fd0_d4d252ee7ca2row2_col13\" class=\"data row2 col13\" >9</td>\n",
       "                        <td id=\"T_3f421de6_da02_11ec_9fd0_d4d252ee7ca2row2_col14\" class=\"data row2 col14\" >53</td>\n",
       "                        <td id=\"T_3f421de6_da02_11ec_9fd0_d4d252ee7ca2row2_col15\" class=\"data row2 col15\" >58</td>\n",
       "                        <td id=\"T_3f421de6_da02_11ec_9fd0_d4d252ee7ca2row2_col16\" class=\"data row2 col16\" >30</td>\n",
       "                        <td id=\"T_3f421de6_da02_11ec_9fd0_d4d252ee7ca2row2_col17\" class=\"data row2 col17\" >18</td>\n",
       "                        <td id=\"T_3f421de6_da02_11ec_9fd0_d4d252ee7ca2row2_col18\" class=\"data row2 col18\" >22</td>\n",
       "                        <td id=\"T_3f421de6_da02_11ec_9fd0_d4d252ee7ca2row2_col19\" class=\"data row2 col19\" >74</td>\n",
       "                        <td id=\"T_3f421de6_da02_11ec_9fd0_d4d252ee7ca2row2_col20\" class=\"data row2 col20\" >47</td>\n",
       "                        <td id=\"T_3f421de6_da02_11ec_9fd0_d4d252ee7ca2row2_col21\" class=\"data row2 col21\" >123</td>\n",
       "                        <td id=\"T_3f421de6_da02_11ec_9fd0_d4d252ee7ca2row2_col22\" class=\"data row2 col22\" >35</td>\n",
       "                        <td id=\"T_3f421de6_da02_11ec_9fd0_d4d252ee7ca2row2_col23\" class=\"data row2 col23\" >14</td>\n",
       "                        <td id=\"T_3f421de6_da02_11ec_9fd0_d4d252ee7ca2row2_col24\" class=\"data row2 col24\" >47</td>\n",
       "                        <td id=\"T_3f421de6_da02_11ec_9fd0_d4d252ee7ca2row2_col25\" class=\"data row2 col25\" >55</td>\n",
       "                        <td id=\"T_3f421de6_da02_11ec_9fd0_d4d252ee7ca2row2_col26\" class=\"data row2 col26\" >26</td>\n",
       "                        <td id=\"T_3f421de6_da02_11ec_9fd0_d4d252ee7ca2row2_col27\" class=\"data row2 col27\" >270</td>\n",
       "                        <td id=\"T_3f421de6_da02_11ec_9fd0_d4d252ee7ca2row2_col28\" class=\"data row2 col28\" >14</td>\n",
       "                        <td id=\"T_3f421de6_da02_11ec_9fd0_d4d252ee7ca2row2_col29\" class=\"data row2 col29\" >16</td>\n",
       "                        <td id=\"T_3f421de6_da02_11ec_9fd0_d4d252ee7ca2row2_col30\" class=\"data row2 col30\" >17</td>\n",
       "                        <td id=\"T_3f421de6_da02_11ec_9fd0_d4d252ee7ca2row2_col31\" class=\"data row2 col31\" >40</td>\n",
       "                        <td id=\"T_3f421de6_da02_11ec_9fd0_d4d252ee7ca2row2_col32\" class=\"data row2 col32\" >53</td>\n",
       "            </tr>\n",
       "            <tr>\n",
       "                        <th id=\"T_3f421de6_da02_11ec_9fd0_d4d252ee7ca2level0_row3\" class=\"row_heading level0 row3\" >Facility/Infrastructure Attack</th>\n",
       "                        <td id=\"T_3f421de6_da02_11ec_9fd0_d4d252ee7ca2row3_col0\" class=\"data row3 col0\" >1</td>\n",
       "                        <td id=\"T_3f421de6_da02_11ec_9fd0_d4d252ee7ca2row3_col1\" class=\"data row3 col1\" >2</td>\n",
       "                        <td id=\"T_3f421de6_da02_11ec_9fd0_d4d252ee7ca2row3_col2\" class=\"data row3 col2\" >7</td>\n",
       "                        <td id=\"T_3f421de6_da02_11ec_9fd0_d4d252ee7ca2row3_col3\" class=\"data row3 col3\" >8</td>\n",
       "                        <td id=\"T_3f421de6_da02_11ec_9fd0_d4d252ee7ca2row3_col4\" class=\"data row3 col4\" >6</td>\n",
       "                        <td id=\"T_3f421de6_da02_11ec_9fd0_d4d252ee7ca2row3_col5\" class=\"data row3 col5\" >5</td>\n",
       "                        <td id=\"T_3f421de6_da02_11ec_9fd0_d4d252ee7ca2row3_col6\" class=\"data row3 col6\" >4</td>\n",
       "                        <td id=\"T_3f421de6_da02_11ec_9fd0_d4d252ee7ca2row3_col7\" class=\"data row3 col7\" >1</td>\n",
       "                        <td id=\"T_3f421de6_da02_11ec_9fd0_d4d252ee7ca2row3_col8\" class=\"data row3 col8\" >0</td>\n",
       "                        <td id=\"T_3f421de6_da02_11ec_9fd0_d4d252ee7ca2row3_col9\" class=\"data row3 col9\" >0</td>\n",
       "                        <td id=\"T_3f421de6_da02_11ec_9fd0_d4d252ee7ca2row3_col10\" class=\"data row3 col10\" >0</td>\n",
       "                        <td id=\"T_3f421de6_da02_11ec_9fd0_d4d252ee7ca2row3_col11\" class=\"data row3 col11\" >0</td>\n",
       "                        <td id=\"T_3f421de6_da02_11ec_9fd0_d4d252ee7ca2row3_col12\" class=\"data row3 col12\" >0</td>\n",
       "                        <td id=\"T_3f421de6_da02_11ec_9fd0_d4d252ee7ca2row3_col13\" class=\"data row3 col13\" >3</td>\n",
       "                        <td id=\"T_3f421de6_da02_11ec_9fd0_d4d252ee7ca2row3_col14\" class=\"data row3 col14\" >1</td>\n",
       "                        <td id=\"T_3f421de6_da02_11ec_9fd0_d4d252ee7ca2row3_col15\" class=\"data row3 col15\" >0</td>\n",
       "                        <td id=\"T_3f421de6_da02_11ec_9fd0_d4d252ee7ca2row3_col16\" class=\"data row3 col16\" >0</td>\n",
       "                        <td id=\"T_3f421de6_da02_11ec_9fd0_d4d252ee7ca2row3_col17\" class=\"data row3 col17\" >0</td>\n",
       "                        <td id=\"T_3f421de6_da02_11ec_9fd0_d4d252ee7ca2row3_col18\" class=\"data row3 col18\" >0</td>\n",
       "                        <td id=\"T_3f421de6_da02_11ec_9fd0_d4d252ee7ca2row3_col19\" class=\"data row3 col19\" >0</td>\n",
       "                        <td id=\"T_3f421de6_da02_11ec_9fd0_d4d252ee7ca2row3_col20\" class=\"data row3 col20\" >0</td>\n",
       "                        <td id=\"T_3f421de6_da02_11ec_9fd0_d4d252ee7ca2row3_col21\" class=\"data row3 col21\" >0</td>\n",
       "                        <td id=\"T_3f421de6_da02_11ec_9fd0_d4d252ee7ca2row3_col22\" class=\"data row3 col22\" >0</td>\n",
       "                        <td id=\"T_3f421de6_da02_11ec_9fd0_d4d252ee7ca2row3_col23\" class=\"data row3 col23\" >0</td>\n",
       "                        <td id=\"T_3f421de6_da02_11ec_9fd0_d4d252ee7ca2row3_col24\" class=\"data row3 col24\" >1</td>\n",
       "                        <td id=\"T_3f421de6_da02_11ec_9fd0_d4d252ee7ca2row3_col25\" class=\"data row3 col25\" >1</td>\n",
       "                        <td id=\"T_3f421de6_da02_11ec_9fd0_d4d252ee7ca2row3_col26\" class=\"data row3 col26\" >5</td>\n",
       "                        <td id=\"T_3f421de6_da02_11ec_9fd0_d4d252ee7ca2row3_col27\" class=\"data row3 col27\" >4</td>\n",
       "                        <td id=\"T_3f421de6_da02_11ec_9fd0_d4d252ee7ca2row3_col28\" class=\"data row3 col28\" >2</td>\n",
       "                        <td id=\"T_3f421de6_da02_11ec_9fd0_d4d252ee7ca2row3_col29\" class=\"data row3 col29\" >9</td>\n",
       "                        <td id=\"T_3f421de6_da02_11ec_9fd0_d4d252ee7ca2row3_col30\" class=\"data row3 col30\" >1</td>\n",
       "                        <td id=\"T_3f421de6_da02_11ec_9fd0_d4d252ee7ca2row3_col31\" class=\"data row3 col31\" >8</td>\n",
       "                        <td id=\"T_3f421de6_da02_11ec_9fd0_d4d252ee7ca2row3_col32\" class=\"data row3 col32\" >5</td>\n",
       "            </tr>\n",
       "            <tr>\n",
       "                        <th id=\"T_3f421de6_da02_11ec_9fd0_d4d252ee7ca2level0_row4\" class=\"row_heading level0 row4\" >Hijacking</th>\n",
       "                        <td id=\"T_3f421de6_da02_11ec_9fd0_d4d252ee7ca2row4_col0\" class=\"data row4 col0\" >0</td>\n",
       "                        <td id=\"T_3f421de6_da02_11ec_9fd0_d4d252ee7ca2row4_col1\" class=\"data row4 col1\" >0</td>\n",
       "                        <td id=\"T_3f421de6_da02_11ec_9fd0_d4d252ee7ca2row4_col2\" class=\"data row4 col2\" >1</td>\n",
       "                        <td id=\"T_3f421de6_da02_11ec_9fd0_d4d252ee7ca2row4_col3\" class=\"data row4 col3\" >0</td>\n",
       "                        <td id=\"T_3f421de6_da02_11ec_9fd0_d4d252ee7ca2row4_col4\" class=\"data row4 col4\" >0</td>\n",
       "                        <td id=\"T_3f421de6_da02_11ec_9fd0_d4d252ee7ca2row4_col5\" class=\"data row4 col5\" >1</td>\n",
       "                        <td id=\"T_3f421de6_da02_11ec_9fd0_d4d252ee7ca2row4_col6\" class=\"data row4 col6\" >0</td>\n",
       "                        <td id=\"T_3f421de6_da02_11ec_9fd0_d4d252ee7ca2row4_col7\" class=\"data row4 col7\" >0</td>\n",
       "                        <td id=\"T_3f421de6_da02_11ec_9fd0_d4d252ee7ca2row4_col8\" class=\"data row4 col8\" >0</td>\n",
       "                        <td id=\"T_3f421de6_da02_11ec_9fd0_d4d252ee7ca2row4_col9\" class=\"data row4 col9\" >0</td>\n",
       "                        <td id=\"T_3f421de6_da02_11ec_9fd0_d4d252ee7ca2row4_col10\" class=\"data row4 col10\" >0</td>\n",
       "                        <td id=\"T_3f421de6_da02_11ec_9fd0_d4d252ee7ca2row4_col11\" class=\"data row4 col11\" >0</td>\n",
       "                        <td id=\"T_3f421de6_da02_11ec_9fd0_d4d252ee7ca2row4_col12\" class=\"data row4 col12\" >0</td>\n",
       "                        <td id=\"T_3f421de6_da02_11ec_9fd0_d4d252ee7ca2row4_col13\" class=\"data row4 col13\" >0</td>\n",
       "                        <td id=\"T_3f421de6_da02_11ec_9fd0_d4d252ee7ca2row4_col14\" class=\"data row4 col14\" >0</td>\n",
       "                        <td id=\"T_3f421de6_da02_11ec_9fd0_d4d252ee7ca2row4_col15\" class=\"data row4 col15\" >1</td>\n",
       "                        <td id=\"T_3f421de6_da02_11ec_9fd0_d4d252ee7ca2row4_col16\" class=\"data row4 col16\" >0</td>\n",
       "                        <td id=\"T_3f421de6_da02_11ec_9fd0_d4d252ee7ca2row4_col17\" class=\"data row4 col17\" >0</td>\n",
       "                        <td id=\"T_3f421de6_da02_11ec_9fd0_d4d252ee7ca2row4_col18\" class=\"data row4 col18\" >0</td>\n",
       "                        <td id=\"T_3f421de6_da02_11ec_9fd0_d4d252ee7ca2row4_col19\" class=\"data row4 col19\" >0</td>\n",
       "                        <td id=\"T_3f421de6_da02_11ec_9fd0_d4d252ee7ca2row4_col20\" class=\"data row4 col20\" >0</td>\n",
       "                        <td id=\"T_3f421de6_da02_11ec_9fd0_d4d252ee7ca2row4_col21\" class=\"data row4 col21\" >0</td>\n",
       "                        <td id=\"T_3f421de6_da02_11ec_9fd0_d4d252ee7ca2row4_col22\" class=\"data row4 col22\" >0</td>\n",
       "                        <td id=\"T_3f421de6_da02_11ec_9fd0_d4d252ee7ca2row4_col23\" class=\"data row4 col23\" >0</td>\n",
       "                        <td id=\"T_3f421de6_da02_11ec_9fd0_d4d252ee7ca2row4_col24\" class=\"data row4 col24\" >0</td>\n",
       "                        <td id=\"T_3f421de6_da02_11ec_9fd0_d4d252ee7ca2row4_col25\" class=\"data row4 col25\" >0</td>\n",
       "                        <td id=\"T_3f421de6_da02_11ec_9fd0_d4d252ee7ca2row4_col26\" class=\"data row4 col26\" >0</td>\n",
       "                        <td id=\"T_3f421de6_da02_11ec_9fd0_d4d252ee7ca2row4_col27\" class=\"data row4 col27\" >0</td>\n",
       "                        <td id=\"T_3f421de6_da02_11ec_9fd0_d4d252ee7ca2row4_col28\" class=\"data row4 col28\" >0</td>\n",
       "                        <td id=\"T_3f421de6_da02_11ec_9fd0_d4d252ee7ca2row4_col29\" class=\"data row4 col29\" >0</td>\n",
       "                        <td id=\"T_3f421de6_da02_11ec_9fd0_d4d252ee7ca2row4_col30\" class=\"data row4 col30\" >0</td>\n",
       "                        <td id=\"T_3f421de6_da02_11ec_9fd0_d4d252ee7ca2row4_col31\" class=\"data row4 col31\" >0</td>\n",
       "                        <td id=\"T_3f421de6_da02_11ec_9fd0_d4d252ee7ca2row4_col32\" class=\"data row4 col32\" >0</td>\n",
       "            </tr>\n",
       "            <tr>\n",
       "                        <th id=\"T_3f421de6_da02_11ec_9fd0_d4d252ee7ca2level0_row5\" class=\"row_heading level0 row5\" >Hostage Taking (Kidnapping)</th>\n",
       "                        <td id=\"T_3f421de6_da02_11ec_9fd0_d4d252ee7ca2row5_col0\" class=\"data row5 col0\" >0</td>\n",
       "                        <td id=\"T_3f421de6_da02_11ec_9fd0_d4d252ee7ca2row5_col1\" class=\"data row5 col1\" >0</td>\n",
       "                        <td id=\"T_3f421de6_da02_11ec_9fd0_d4d252ee7ca2row5_col2\" class=\"data row5 col2\" >0</td>\n",
       "                        <td id=\"T_3f421de6_da02_11ec_9fd0_d4d252ee7ca2row5_col3\" class=\"data row5 col3\" >2</td>\n",
       "                        <td id=\"T_3f421de6_da02_11ec_9fd0_d4d252ee7ca2row5_col4\" class=\"data row5 col4\" >1</td>\n",
       "                        <td id=\"T_3f421de6_da02_11ec_9fd0_d4d252ee7ca2row5_col5\" class=\"data row5 col5\" >1</td>\n",
       "                        <td id=\"T_3f421de6_da02_11ec_9fd0_d4d252ee7ca2row5_col6\" class=\"data row5 col6\" >1</td>\n",
       "                        <td id=\"T_3f421de6_da02_11ec_9fd0_d4d252ee7ca2row5_col7\" class=\"data row5 col7\" >1</td>\n",
       "                        <td id=\"T_3f421de6_da02_11ec_9fd0_d4d252ee7ca2row5_col8\" class=\"data row5 col8\" >0</td>\n",
       "                        <td id=\"T_3f421de6_da02_11ec_9fd0_d4d252ee7ca2row5_col9\" class=\"data row5 col9\" >1</td>\n",
       "                        <td id=\"T_3f421de6_da02_11ec_9fd0_d4d252ee7ca2row5_col10\" class=\"data row5 col10\" >0</td>\n",
       "                        <td id=\"T_3f421de6_da02_11ec_9fd0_d4d252ee7ca2row5_col11\" class=\"data row5 col11\" >0</td>\n",
       "                        <td id=\"T_3f421de6_da02_11ec_9fd0_d4d252ee7ca2row5_col12\" class=\"data row5 col12\" >0</td>\n",
       "                        <td id=\"T_3f421de6_da02_11ec_9fd0_d4d252ee7ca2row5_col13\" class=\"data row5 col13\" >0</td>\n",
       "                        <td id=\"T_3f421de6_da02_11ec_9fd0_d4d252ee7ca2row5_col14\" class=\"data row5 col14\" >0</td>\n",
       "                        <td id=\"T_3f421de6_da02_11ec_9fd0_d4d252ee7ca2row5_col15\" class=\"data row5 col15\" >0</td>\n",
       "                        <td id=\"T_3f421de6_da02_11ec_9fd0_d4d252ee7ca2row5_col16\" class=\"data row5 col16\" >0</td>\n",
       "                        <td id=\"T_3f421de6_da02_11ec_9fd0_d4d252ee7ca2row5_col17\" class=\"data row5 col17\" >0</td>\n",
       "                        <td id=\"T_3f421de6_da02_11ec_9fd0_d4d252ee7ca2row5_col18\" class=\"data row5 col18\" >0</td>\n",
       "                        <td id=\"T_3f421de6_da02_11ec_9fd0_d4d252ee7ca2row5_col19\" class=\"data row5 col19\" >2</td>\n",
       "                        <td id=\"T_3f421de6_da02_11ec_9fd0_d4d252ee7ca2row5_col20\" class=\"data row5 col20\" >1</td>\n",
       "                        <td id=\"T_3f421de6_da02_11ec_9fd0_d4d252ee7ca2row5_col21\" class=\"data row5 col21\" >0</td>\n",
       "                        <td id=\"T_3f421de6_da02_11ec_9fd0_d4d252ee7ca2row5_col22\" class=\"data row5 col22\" >0</td>\n",
       "                        <td id=\"T_3f421de6_da02_11ec_9fd0_d4d252ee7ca2row5_col23\" class=\"data row5 col23\" >0</td>\n",
       "                        <td id=\"T_3f421de6_da02_11ec_9fd0_d4d252ee7ca2row5_col24\" class=\"data row5 col24\" >0</td>\n",
       "                        <td id=\"T_3f421de6_da02_11ec_9fd0_d4d252ee7ca2row5_col25\" class=\"data row5 col25\" >0</td>\n",
       "                        <td id=\"T_3f421de6_da02_11ec_9fd0_d4d252ee7ca2row5_col26\" class=\"data row5 col26\" >0</td>\n",
       "                        <td id=\"T_3f421de6_da02_11ec_9fd0_d4d252ee7ca2row5_col27\" class=\"data row5 col27\" >1</td>\n",
       "                        <td id=\"T_3f421de6_da02_11ec_9fd0_d4d252ee7ca2row5_col28\" class=\"data row5 col28\" >0</td>\n",
       "                        <td id=\"T_3f421de6_da02_11ec_9fd0_d4d252ee7ca2row5_col29\" class=\"data row5 col29\" >1</td>\n",
       "                        <td id=\"T_3f421de6_da02_11ec_9fd0_d4d252ee7ca2row5_col30\" class=\"data row5 col30\" >0</td>\n",
       "                        <td id=\"T_3f421de6_da02_11ec_9fd0_d4d252ee7ca2row5_col31\" class=\"data row5 col31\" >0</td>\n",
       "                        <td id=\"T_3f421de6_da02_11ec_9fd0_d4d252ee7ca2row5_col32\" class=\"data row5 col32\" >0</td>\n",
       "            </tr>\n",
       "            <tr>\n",
       "                        <th id=\"T_3f421de6_da02_11ec_9fd0_d4d252ee7ca2level0_row6\" class=\"row_heading level0 row6\" >Unarmed Assault</th>\n",
       "                        <td id=\"T_3f421de6_da02_11ec_9fd0_d4d252ee7ca2row6_col0\" class=\"data row6 col0\" >0</td>\n",
       "                        <td id=\"T_3f421de6_da02_11ec_9fd0_d4d252ee7ca2row6_col1\" class=\"data row6 col1\" >0</td>\n",
       "                        <td id=\"T_3f421de6_da02_11ec_9fd0_d4d252ee7ca2row6_col2\" class=\"data row6 col2\" >0</td>\n",
       "                        <td id=\"T_3f421de6_da02_11ec_9fd0_d4d252ee7ca2row6_col3\" class=\"data row6 col3\" >2</td>\n",
       "                        <td id=\"T_3f421de6_da02_11ec_9fd0_d4d252ee7ca2row6_col4\" class=\"data row6 col4\" >2</td>\n",
       "                        <td id=\"T_3f421de6_da02_11ec_9fd0_d4d252ee7ca2row6_col5\" class=\"data row6 col5\" >1</td>\n",
       "                        <td id=\"T_3f421de6_da02_11ec_9fd0_d4d252ee7ca2row6_col6\" class=\"data row6 col6\" >6</td>\n",
       "                        <td id=\"T_3f421de6_da02_11ec_9fd0_d4d252ee7ca2row6_col7\" class=\"data row6 col7\" >1</td>\n",
       "                        <td id=\"T_3f421de6_da02_11ec_9fd0_d4d252ee7ca2row6_col8\" class=\"data row6 col8\" >0</td>\n",
       "                        <td id=\"T_3f421de6_da02_11ec_9fd0_d4d252ee7ca2row6_col9\" class=\"data row6 col9\" >1</td>\n",
       "                        <td id=\"T_3f421de6_da02_11ec_9fd0_d4d252ee7ca2row6_col10\" class=\"data row6 col10\" >0</td>\n",
       "                        <td id=\"T_3f421de6_da02_11ec_9fd0_d4d252ee7ca2row6_col11\" class=\"data row6 col11\" >0</td>\n",
       "                        <td id=\"T_3f421de6_da02_11ec_9fd0_d4d252ee7ca2row6_col12\" class=\"data row6 col12\" >0</td>\n",
       "                        <td id=\"T_3f421de6_da02_11ec_9fd0_d4d252ee7ca2row6_col13\" class=\"data row6 col13\" >1</td>\n",
       "                        <td id=\"T_3f421de6_da02_11ec_9fd0_d4d252ee7ca2row6_col14\" class=\"data row6 col14\" >1</td>\n",
       "                        <td id=\"T_3f421de6_da02_11ec_9fd0_d4d252ee7ca2row6_col15\" class=\"data row6 col15\" >0</td>\n",
       "                        <td id=\"T_3f421de6_da02_11ec_9fd0_d4d252ee7ca2row6_col16\" class=\"data row6 col16\" >0</td>\n",
       "                        <td id=\"T_3f421de6_da02_11ec_9fd0_d4d252ee7ca2row6_col17\" class=\"data row6 col17\" >0</td>\n",
       "                        <td id=\"T_3f421de6_da02_11ec_9fd0_d4d252ee7ca2row6_col18\" class=\"data row6 col18\" >0</td>\n",
       "                        <td id=\"T_3f421de6_da02_11ec_9fd0_d4d252ee7ca2row6_col19\" class=\"data row6 col19\" >0</td>\n",
       "                        <td id=\"T_3f421de6_da02_11ec_9fd0_d4d252ee7ca2row6_col20\" class=\"data row6 col20\" >0</td>\n",
       "                        <td id=\"T_3f421de6_da02_11ec_9fd0_d4d252ee7ca2row6_col21\" class=\"data row6 col21\" >1</td>\n",
       "                        <td id=\"T_3f421de6_da02_11ec_9fd0_d4d252ee7ca2row6_col22\" class=\"data row6 col22\" >1</td>\n",
       "                        <td id=\"T_3f421de6_da02_11ec_9fd0_d4d252ee7ca2row6_col23\" class=\"data row6 col23\" >0</td>\n",
       "                        <td id=\"T_3f421de6_da02_11ec_9fd0_d4d252ee7ca2row6_col24\" class=\"data row6 col24\" >0</td>\n",
       "                        <td id=\"T_3f421de6_da02_11ec_9fd0_d4d252ee7ca2row6_col25\" class=\"data row6 col25\" >0</td>\n",
       "                        <td id=\"T_3f421de6_da02_11ec_9fd0_d4d252ee7ca2row6_col26\" class=\"data row6 col26\" >0</td>\n",
       "                        <td id=\"T_3f421de6_da02_11ec_9fd0_d4d252ee7ca2row6_col27\" class=\"data row6 col27\" >2</td>\n",
       "                        <td id=\"T_3f421de6_da02_11ec_9fd0_d4d252ee7ca2row6_col28\" class=\"data row6 col28\" >4</td>\n",
       "                        <td id=\"T_3f421de6_da02_11ec_9fd0_d4d252ee7ca2row6_col29\" class=\"data row6 col29\" >0</td>\n",
       "                        <td id=\"T_3f421de6_da02_11ec_9fd0_d4d252ee7ca2row6_col30\" class=\"data row6 col30\" >0</td>\n",
       "                        <td id=\"T_3f421de6_da02_11ec_9fd0_d4d252ee7ca2row6_col31\" class=\"data row6 col31\" >4</td>\n",
       "                        <td id=\"T_3f421de6_da02_11ec_9fd0_d4d252ee7ca2row6_col32\" class=\"data row6 col32\" >0</td>\n",
       "            </tr>\n",
       "    </tbody></table>"
      ],
      "text/plain": [
       "<pandas.io.formats.style.Styler at 0x1f8161164e0>"
      ]
     },
     "execution_count": 24,
     "metadata": {},
     "output_type": "execute_result"
    }
   ],
   "source": [
    "israel_attack_type_pivot = df_israel.pivot_table(values = 'index', index = 'attack_type', columns = 'year', aggfunc = np.size)\n",
    "israel_attack_type_pivot = israel_attack_type_pivot.fillna(0).astype('int')# we have no 0 in the original so there is no problem to change nan to 0\n",
    "israel_attack_type_styler = israel_attack_type_pivot.style.highlight_max(color = 'pink', axis = 0)\n",
    "israel_attack_type_styler"
   ]
  },
  {
   "cell_type": "markdown",
   "id": "8288efc1-b3f4-46db-af91-daa67bd743a9",
   "metadata": {},
   "source": [
    "#### <span style=\"color:purple\">We can see clearly that the most common attack type is <span style=\"color:red\">'Bombing/Explosion'</span> in almost every year in **Israel**.</span>"
   ]
  },
  {
   "cell_type": "markdown",
   "id": "77f254db-a80e-41b7-ab27-858a0463cf72",
   "metadata": {},
   "source": [
    "> ##### To see the total significant of the attack types we needed to find the total number of every <span style=\"color:red\">attack type</span> in <span style=\"color:blue\">Israel</span>:"
   ]
  },
  {
   "cell_type": "code",
   "execution_count": 25,
   "id": "af0ee60b-d27d-4858-a667-33ec6c954a5a",
   "metadata": {},
   "outputs": [
    {
     "data": {
      "text/html": [
       "<div>\n",
       "<style scoped>\n",
       "    .dataframe tbody tr th:only-of-type {\n",
       "        vertical-align: middle;\n",
       "    }\n",
       "\n",
       "    .dataframe tbody tr th {\n",
       "        vertical-align: top;\n",
       "    }\n",
       "\n",
       "    .dataframe thead th {\n",
       "        text-align: right;\n",
       "    }\n",
       "</style>\n",
       "<table border=\"1\" class=\"dataframe\">\n",
       "  <thead>\n",
       "    <tr style=\"text-align: right;\">\n",
       "      <th></th>\n",
       "      <th>attack_type</th>\n",
       "      <th>occations</th>\n",
       "    </tr>\n",
       "  </thead>\n",
       "  <tbody>\n",
       "    <tr>\n",
       "      <th>2</th>\n",
       "      <td>Bombing/Explosion</td>\n",
       "      <td>1210</td>\n",
       "    </tr>\n",
       "    <tr>\n",
       "      <th>0</th>\n",
       "      <td>Armed Assault</td>\n",
       "      <td>236</td>\n",
       "    </tr>\n",
       "    <tr>\n",
       "      <th>1</th>\n",
       "      <td>Assassination</td>\n",
       "      <td>143</td>\n",
       "    </tr>\n",
       "    <tr>\n",
       "      <th>3</th>\n",
       "      <td>Facility/Infrastructure Attack</td>\n",
       "      <td>74</td>\n",
       "    </tr>\n",
       "    <tr>\n",
       "      <th>6</th>\n",
       "      <td>Unarmed Assault</td>\n",
       "      <td>27</td>\n",
       "    </tr>\n",
       "    <tr>\n",
       "      <th>5</th>\n",
       "      <td>Hostage Taking (Kidnapping)</td>\n",
       "      <td>12</td>\n",
       "    </tr>\n",
       "    <tr>\n",
       "      <th>4</th>\n",
       "      <td>Hijacking</td>\n",
       "      <td>3</td>\n",
       "    </tr>\n",
       "  </tbody>\n",
       "</table>\n",
       "</div>"
      ],
      "text/plain": [
       "                      attack_type  occations\n",
       "2               Bombing/Explosion       1210\n",
       "0                   Armed Assault        236\n",
       "1                   Assassination        143\n",
       "3  Facility/Infrastructure Attack         74\n",
       "6                 Unarmed Assault         27\n",
       "5     Hostage Taking (Kidnapping)         12\n",
       "4                       Hijacking          3"
      ]
     },
     "execution_count": 25,
     "metadata": {},
     "output_type": "execute_result"
    }
   ],
   "source": [
    "df_israel_attack_type = df_israel.pivot_table(values = 'index', index = 'attack_type', aggfunc = np.size)\n",
    "df_israel_attack_type = df_israel_attack_type.fillna(0).astype('int')\n",
    "df_israel_attack_type = df_israel_attack_type.reset_index().sort_values(by = ['index'], ascending = False)\n",
    "df_israel_attack_type.rename(columns = {'index':'occations'}, inplace = True)\n",
    "df_israel_attack_type"
   ]
  },
  {
   "cell_type": "markdown",
   "id": "b49fffff-4108-4352-b049-f617516329d1",
   "metadata": {},
   "source": [
    "> ##### Let's see those result by a <span style=\"color:red\">graph</span>:"
   ]
  },
  {
   "cell_type": "code",
   "execution_count": 26,
   "id": "7d94fd5e-4656-4893-a697-22289e672125",
   "metadata": {},
   "outputs": [
    {
     "data": {
      "image/png": "[encoded data removed]",
      "text/plain": [
       "<Figure size 1440x432 with 1 Axes>"
      ]
     },
     "metadata": {
      "needs_background": "light"
     },
     "output_type": "display_data"
    }
   ],
   "source": [
    "plt.subplots(figsize=(20,6))\n",
    "ax = sns.barplot(data = df_israel_attack_type, x = 'attack_type', y = 'occations')"
   ]
  },
  {
   "cell_type": "markdown",
   "id": "d582e40e-2756-45c7-9d7a-e21430f4fc8e",
   "metadata": {},
   "source": [
    "#### <span style=\"color:purple\">Well then, those results are breathtaking. 'Bombing/Explosion' is the favorite attack type on the terrorists in Israel without a doubt. But, is it the cause of the number of injured?</span>\n",
    "#### <span style=\"color:purple\">Keep holding your breath, we are almost there...</span>"
   ]
  },
  {
   "cell_type": "markdown",
   "id": "ff5a0df2-9af5-4b8e-8991-5b3915eac771",
   "metadata": {},
   "source": [
    "***\n",
    "# <span style=\"color:green\">_lethality_</span>\n",
    "<img src=\"https://user-images.githubusercontent.com/103241195/169337108-b2e85bd0-e566-499d-9e06-deffd841a51d.png\" height=\"100px\" width=\"100px\">\n",
    "\n",
    "***"
   ]
  },
  {
   "cell_type": "markdown",
   "id": "532851f0-5fb0-4201-9fa5-eeca78c28288",
   "metadata": {},
   "source": [
    "### <span style=\"color:purple\">Hang tight, this chapter is going to **stunning** you, but not from the good and kind meaning of this word.</span>"
   ]
  },
  {
   "cell_type": "markdown",
   "id": "3e05a811-e355-429c-87a5-305d727987b1",
   "metadata": {},
   "source": [
    "> ##### We have sorted the **regions** by the <span style=\"color:red\">most lethal</span> region to the <span style=\"color:red\">least lethal</span>:\n",
    "> ###### * Lethal region is a region with the highest <span style=\"color:red\">terror occations</span>."
   ]
  },
  {
   "cell_type": "code",
   "execution_count": 27,
   "id": "d2422498-a8bd-4287-b6f4-b803f25d40b0",
   "metadata": {},
   "outputs": [
    {
     "data": {
      "text/html": [
       "<div>\n",
       "<style scoped>\n",
       "    .dataframe tbody tr th:only-of-type {\n",
       "        vertical-align: middle;\n",
       "    }\n",
       "\n",
       "    .dataframe tbody tr th {\n",
       "        vertical-align: top;\n",
       "    }\n",
       "\n",
       "    .dataframe thead th {\n",
       "        text-align: right;\n",
       "    }\n",
       "</style>\n",
       "<table border=\"1\" class=\"dataframe\">\n",
       "  <thead>\n",
       "    <tr style=\"text-align: right;\">\n",
       "      <th></th>\n",
       "      <th>region</th>\n",
       "      <th>occations</th>\n",
       "    </tr>\n",
       "  </thead>\n",
       "  <tbody>\n",
       "    <tr>\n",
       "      <th>0</th>\n",
       "      <td>Middle East &amp; North Africa</td>\n",
       "      <td>53550</td>\n",
       "    </tr>\n",
       "    <tr>\n",
       "      <th>1</th>\n",
       "      <td>South Asia</td>\n",
       "      <td>50727</td>\n",
       "    </tr>\n",
       "    <tr>\n",
       "      <th>2</th>\n",
       "      <td>Sub-Saharan Africa</td>\n",
       "      <td>20911</td>\n",
       "    </tr>\n",
       "    <tr>\n",
       "      <th>3</th>\n",
       "      <td>South America</td>\n",
       "      <td>13740</td>\n",
       "    </tr>\n",
       "    <tr>\n",
       "      <th>4</th>\n",
       "      <td>Southeast Asia</td>\n",
       "      <td>13509</td>\n",
       "    </tr>\n",
       "    <tr>\n",
       "      <th>5</th>\n",
       "      <td>Western Europe</td>\n",
       "      <td>9377</td>\n",
       "    </tr>\n",
       "    <tr>\n",
       "      <th>6</th>\n",
       "      <td>Eastern Europe</td>\n",
       "      <td>5221</td>\n",
       "    </tr>\n",
       "    <tr>\n",
       "      <th>7</th>\n",
       "      <td>Central America &amp; Caribbean</td>\n",
       "      <td>3923</td>\n",
       "    </tr>\n",
       "    <tr>\n",
       "      <th>8</th>\n",
       "      <td>North America</td>\n",
       "      <td>1707</td>\n",
       "    </tr>\n",
       "    <tr>\n",
       "      <th>9</th>\n",
       "      <td>East Asia</td>\n",
       "      <td>701</td>\n",
       "    </tr>\n",
       "    <tr>\n",
       "      <th>10</th>\n",
       "      <td>Central Asia</td>\n",
       "      <td>574</td>\n",
       "    </tr>\n",
       "    <tr>\n",
       "      <th>11</th>\n",
       "      <td>Australasia &amp; Oceania</td>\n",
       "      <td>259</td>\n",
       "    </tr>\n",
       "  </tbody>\n",
       "</table>\n",
       "</div>"
      ],
      "text/plain": [
       "                         region  occations\n",
       "0    Middle East & North Africa      53550\n",
       "1                    South Asia      50727\n",
       "2            Sub-Saharan Africa      20911\n",
       "3                 South America      13740\n",
       "4                Southeast Asia      13509\n",
       "5                Western Europe       9377\n",
       "6                Eastern Europe       5221\n",
       "7   Central America & Caribbean       3923\n",
       "8                 North America       1707\n",
       "9                     East Asia        701\n",
       "10                 Central Asia        574\n",
       "11        Australasia & Oceania        259"
      ]
     },
     "execution_count": 27,
     "metadata": {},
     "output_type": "execute_result"
    }
   ],
   "source": [
    "df_region = df.groupby('region')['index'].count().sort_values('index', ascending = False).reset_index()\n",
    "df_region.rename(columns = {'index':'occations'}, inplace = True)\n",
    "df_region"
   ]
  },
  {
   "cell_type": "markdown",
   "id": "c89612f6-4219-4f85-b306-08a5021fae65",
   "metadata": {},
   "source": [
    "> ##### We have found that the most lethal region is the **Israel's** region- <span style=\"color:red\">'Middle East & North Africa'</span>.\n",
    "> ##### Intresting... let's see the <span style=\"color:red\">weight of Israel</span> on this region:"
   ]
  },
  {
   "cell_type": "code",
   "execution_count": 28,
   "id": "35dc7780-1a55-4947-b9c7-76639929e039",
   "metadata": {},
   "outputs": [
    {
     "name": "stdout",
     "output_type": "stream",
     "text": [
      "The percent of terrorism occations in Israel of \"Middle East & North Africa\" region : 3.21%\n"
     ]
    }
   ],
   "source": [
    "num_region = df_region.iloc[0,1]\n",
    "percent_terr_israel_vs_region = num_terr_israel / num_region          # The percent of terror occations in Israel of the global occations\n",
    "print(f'The percent of terrorism occations in Israel of \"Middle East & North Africa\" region : {((percent_terr_israel_vs_region)*100).round(2)}%')"
   ]
  },
  {
   "cell_type": "markdown",
   "id": "056e05aa-7545-4cc3-bc98-d5c21ac8d323",
   "metadata": {},
   "source": [
    "##### <span style=\"color:purple\">* An another mark which may be worrisome...</span>.\n",
    "### <span style=\"color:purple\">We can see that the numbers of **Israel terror occations** are having over **three percents** of all the region terror occations!</span>"
   ]
  },
  {
   "cell_type": "markdown",
   "id": "f37bf68b-cf09-48b2-bbfd-0d1e5af707e4",
   "metadata": {},
   "source": [
    "<img src=\"https://user-images.githubusercontent.com/103241195/169562750-175c757b-d4d3-4f31-a540-cd75956b0445.png\" height=\"200px\" width=\"200px\">"
   ]
  },
  {
   "cell_type": "markdown",
   "id": "ccb3e4b5-dbd8-4ff6-8f25-a3e6a9f91299",
   "metadata": {},
   "source": [
    "#### <span style=\"color:purple\">We have found that **Israel** is a **lethal** country. By that, we wanted to research the situation better, so we digged in.</span>"
   ]
  },
  {
   "cell_type": "markdown",
   "id": "19a3a198-4626-4763-9907-4c260f2d2c8e",
   "metadata": {},
   "source": [
    "> ##### We have found the most <span style=\"color:red\">lethal years</span> in **israel**:\n",
    "> ###### * Lethal year is a year with high rates of one of the following: <span style=\"color:red\">occations\\wounded\\killed</span>."
   ]
  },
  {
   "cell_type": "code",
   "execution_count": 29,
   "id": "911e816b-060f-42f2-a900-1e0c9a0ca1fe",
   "metadata": {},
   "outputs": [
    {
     "data": {
      "text/html": [
       "<style  type=\"text/css\" >\n",
       "#T_3f6ce006_da02_11ec_bbbc_d4d252ee7ca2row15_col2,#T_3f6ce006_da02_11ec_bbbc_d4d252ee7ca2row15_col3,#T_3f6ce006_da02_11ec_bbbc_d4d252ee7ca2row27_col1{\n",
       "            background-color:  pink;\n",
       "        }</style><table id=\"T_3f6ce006_da02_11ec_bbbc_d4d252ee7ca2\" ><thead>    <tr>        <th class=\"blank level0\" ></th>        <th class=\"col_heading level0 col0\" >year</th>        <th class=\"col_heading level0 col1\" >occations</th>        <th class=\"col_heading level0 col2\" >wounded</th>        <th class=\"col_heading level0 col3\" >killed</th>    </tr></thead><tbody>\n",
       "                <tr>\n",
       "                        <th id=\"T_3f6ce006_da02_11ec_bbbc_d4d252ee7ca2level0_row0\" class=\"row_heading level0 row0\" >0</th>\n",
       "                        <td id=\"T_3f6ce006_da02_11ec_bbbc_d4d252ee7ca2row0_col0\" class=\"data row0 col0\" >1986</td>\n",
       "                        <td id=\"T_3f6ce006_da02_11ec_bbbc_d4d252ee7ca2row0_col1\" class=\"data row0 col1\" >47</td>\n",
       "                        <td id=\"T_3f6ce006_da02_11ec_bbbc_d4d252ee7ca2row0_col2\" class=\"data row0 col2\" >144</td>\n",
       "                        <td id=\"T_3f6ce006_da02_11ec_bbbc_d4d252ee7ca2row0_col3\" class=\"data row0 col3\" >8</td>\n",
       "            </tr>\n",
       "            <tr>\n",
       "                        <th id=\"T_3f6ce006_da02_11ec_bbbc_d4d252ee7ca2level0_row1\" class=\"row_heading level0 row1\" >1</th>\n",
       "                        <td id=\"T_3f6ce006_da02_11ec_bbbc_d4d252ee7ca2row1_col0\" class=\"data row1 col0\" >1987</td>\n",
       "                        <td id=\"T_3f6ce006_da02_11ec_bbbc_d4d252ee7ca2row1_col1\" class=\"data row1 col1\" >20</td>\n",
       "                        <td id=\"T_3f6ce006_da02_11ec_bbbc_d4d252ee7ca2row1_col2\" class=\"data row1 col2\" >45</td>\n",
       "                        <td id=\"T_3f6ce006_da02_11ec_bbbc_d4d252ee7ca2row1_col3\" class=\"data row1 col3\" >11</td>\n",
       "            </tr>\n",
       "            <tr>\n",
       "                        <th id=\"T_3f6ce006_da02_11ec_bbbc_d4d252ee7ca2level0_row2\" class=\"row_heading level0 row2\" >2</th>\n",
       "                        <td id=\"T_3f6ce006_da02_11ec_bbbc_d4d252ee7ca2row2_col0\" class=\"data row2 col0\" >1988</td>\n",
       "                        <td id=\"T_3f6ce006_da02_11ec_bbbc_d4d252ee7ca2row2_col1\" class=\"data row2 col1\" >32</td>\n",
       "                        <td id=\"T_3f6ce006_da02_11ec_bbbc_d4d252ee7ca2row2_col2\" class=\"data row2 col2\" >43</td>\n",
       "                        <td id=\"T_3f6ce006_da02_11ec_bbbc_d4d252ee7ca2row2_col3\" class=\"data row2 col3\" >12</td>\n",
       "            </tr>\n",
       "            <tr>\n",
       "                        <th id=\"T_3f6ce006_da02_11ec_bbbc_d4d252ee7ca2level0_row3\" class=\"row_heading level0 row3\" >3</th>\n",
       "                        <td id=\"T_3f6ce006_da02_11ec_bbbc_d4d252ee7ca2row3_col0\" class=\"data row3 col0\" >1989</td>\n",
       "                        <td id=\"T_3f6ce006_da02_11ec_bbbc_d4d252ee7ca2row3_col1\" class=\"data row3 col1\" >73</td>\n",
       "                        <td id=\"T_3f6ce006_da02_11ec_bbbc_d4d252ee7ca2row3_col2\" class=\"data row3 col2\" >71</td>\n",
       "                        <td id=\"T_3f6ce006_da02_11ec_bbbc_d4d252ee7ca2row3_col3\" class=\"data row3 col3\" >35</td>\n",
       "            </tr>\n",
       "            <tr>\n",
       "                        <th id=\"T_3f6ce006_da02_11ec_bbbc_d4d252ee7ca2level0_row4\" class=\"row_heading level0 row4\" >4</th>\n",
       "                        <td id=\"T_3f6ce006_da02_11ec_bbbc_d4d252ee7ca2row4_col0\" class=\"data row4 col0\" >1990</td>\n",
       "                        <td id=\"T_3f6ce006_da02_11ec_bbbc_d4d252ee7ca2row4_col1\" class=\"data row4 col1\" >81</td>\n",
       "                        <td id=\"T_3f6ce006_da02_11ec_bbbc_d4d252ee7ca2row4_col2\" class=\"data row4 col2\" >184</td>\n",
       "                        <td id=\"T_3f6ce006_da02_11ec_bbbc_d4d252ee7ca2row4_col3\" class=\"data row4 col3\" >45</td>\n",
       "            </tr>\n",
       "            <tr>\n",
       "                        <th id=\"T_3f6ce006_da02_11ec_bbbc_d4d252ee7ca2level0_row5\" class=\"row_heading level0 row5\" >5</th>\n",
       "                        <td id=\"T_3f6ce006_da02_11ec_bbbc_d4d252ee7ca2row5_col0\" class=\"data row5 col0\" >1991</td>\n",
       "                        <td id=\"T_3f6ce006_da02_11ec_bbbc_d4d252ee7ca2row5_col1\" class=\"data row5 col1\" >53</td>\n",
       "                        <td id=\"T_3f6ce006_da02_11ec_bbbc_d4d252ee7ca2row5_col2\" class=\"data row5 col2\" >34</td>\n",
       "                        <td id=\"T_3f6ce006_da02_11ec_bbbc_d4d252ee7ca2row5_col3\" class=\"data row5 col3\" >24</td>\n",
       "            </tr>\n",
       "            <tr>\n",
       "                        <th id=\"T_3f6ce006_da02_11ec_bbbc_d4d252ee7ca2level0_row6\" class=\"row_heading level0 row6\" >6</th>\n",
       "                        <td id=\"T_3f6ce006_da02_11ec_bbbc_d4d252ee7ca2row6_col0\" class=\"data row6 col0\" >1992</td>\n",
       "                        <td id=\"T_3f6ce006_da02_11ec_bbbc_d4d252ee7ca2row6_col1\" class=\"data row6 col1\" >58</td>\n",
       "                        <td id=\"T_3f6ce006_da02_11ec_bbbc_d4d252ee7ca2row6_col2\" class=\"data row6 col2\" >80</td>\n",
       "                        <td id=\"T_3f6ce006_da02_11ec_bbbc_d4d252ee7ca2row6_col3\" class=\"data row6 col3\" >28</td>\n",
       "            </tr>\n",
       "            <tr>\n",
       "                        <th id=\"T_3f6ce006_da02_11ec_bbbc_d4d252ee7ca2level0_row7\" class=\"row_heading level0 row7\" >7</th>\n",
       "                        <td id=\"T_3f6ce006_da02_11ec_bbbc_d4d252ee7ca2row7_col0\" class=\"data row7 col0\" >1994</td>\n",
       "                        <td id=\"T_3f6ce006_da02_11ec_bbbc_d4d252ee7ca2row7_col1\" class=\"data row7 col1\" >41</td>\n",
       "                        <td id=\"T_3f6ce006_da02_11ec_bbbc_d4d252ee7ca2row7_col2\" class=\"data row7 col2\" >169</td>\n",
       "                        <td id=\"T_3f6ce006_da02_11ec_bbbc_d4d252ee7ca2row7_col3\" class=\"data row7 col3\" >54</td>\n",
       "            </tr>\n",
       "            <tr>\n",
       "                        <th id=\"T_3f6ce006_da02_11ec_bbbc_d4d252ee7ca2level0_row8\" class=\"row_heading level0 row8\" >8</th>\n",
       "                        <td id=\"T_3f6ce006_da02_11ec_bbbc_d4d252ee7ca2row8_col0\" class=\"data row8 col0\" >1995</td>\n",
       "                        <td id=\"T_3f6ce006_da02_11ec_bbbc_d4d252ee7ca2row8_col1\" class=\"data row8 col1\" >12</td>\n",
       "                        <td id=\"T_3f6ce006_da02_11ec_bbbc_d4d252ee7ca2row8_col2\" class=\"data row8 col2\" >147</td>\n",
       "                        <td id=\"T_3f6ce006_da02_11ec_bbbc_d4d252ee7ca2row8_col3\" class=\"data row8 col3\" >17</td>\n",
       "            </tr>\n",
       "            <tr>\n",
       "                        <th id=\"T_3f6ce006_da02_11ec_bbbc_d4d252ee7ca2level0_row9\" class=\"row_heading level0 row9\" >9</th>\n",
       "                        <td id=\"T_3f6ce006_da02_11ec_bbbc_d4d252ee7ca2row9_col0\" class=\"data row9 col0\" >1996</td>\n",
       "                        <td id=\"T_3f6ce006_da02_11ec_bbbc_d4d252ee7ca2row9_col1\" class=\"data row9 col1\" >18</td>\n",
       "                        <td id=\"T_3f6ce006_da02_11ec_bbbc_d4d252ee7ca2row9_col2\" class=\"data row9 col2\" >224</td>\n",
       "                        <td id=\"T_3f6ce006_da02_11ec_bbbc_d4d252ee7ca2row9_col3\" class=\"data row9 col3\" >70</td>\n",
       "            </tr>\n",
       "            <tr>\n",
       "                        <th id=\"T_3f6ce006_da02_11ec_bbbc_d4d252ee7ca2level0_row10\" class=\"row_heading level0 row10\" >10</th>\n",
       "                        <td id=\"T_3f6ce006_da02_11ec_bbbc_d4d252ee7ca2row10_col0\" class=\"data row10 col0\" >1997</td>\n",
       "                        <td id=\"T_3f6ce006_da02_11ec_bbbc_d4d252ee7ca2row10_col1\" class=\"data row10 col1\" >12</td>\n",
       "                        <td id=\"T_3f6ce006_da02_11ec_bbbc_d4d252ee7ca2row10_col2\" class=\"data row10 col2\" >448</td>\n",
       "                        <td id=\"T_3f6ce006_da02_11ec_bbbc_d4d252ee7ca2row10_col3\" class=\"data row10 col3\" >31</td>\n",
       "            </tr>\n",
       "            <tr>\n",
       "                        <th id=\"T_3f6ce006_da02_11ec_bbbc_d4d252ee7ca2level0_row11\" class=\"row_heading level0 row11\" >11</th>\n",
       "                        <td id=\"T_3f6ce006_da02_11ec_bbbc_d4d252ee7ca2row11_col0\" class=\"data row11 col0\" >1998</td>\n",
       "                        <td id=\"T_3f6ce006_da02_11ec_bbbc_d4d252ee7ca2row11_col1\" class=\"data row11 col1\" >12</td>\n",
       "                        <td id=\"T_3f6ce006_da02_11ec_bbbc_d4d252ee7ca2row11_col2\" class=\"data row11 col2\" >120</td>\n",
       "                        <td id=\"T_3f6ce006_da02_11ec_bbbc_d4d252ee7ca2row11_col3\" class=\"data row11 col3\" >17</td>\n",
       "            </tr>\n",
       "            <tr>\n",
       "                        <th id=\"T_3f6ce006_da02_11ec_bbbc_d4d252ee7ca2level0_row12\" class=\"row_heading level0 row12\" >12</th>\n",
       "                        <td id=\"T_3f6ce006_da02_11ec_bbbc_d4d252ee7ca2row12_col0\" class=\"data row12 col0\" >1999</td>\n",
       "                        <td id=\"T_3f6ce006_da02_11ec_bbbc_d4d252ee7ca2row12_col1\" class=\"data row12 col1\" >8</td>\n",
       "                        <td id=\"T_3f6ce006_da02_11ec_bbbc_d4d252ee7ca2row12_col2\" class=\"data row12 col2\" >53</td>\n",
       "                        <td id=\"T_3f6ce006_da02_11ec_bbbc_d4d252ee7ca2row12_col3\" class=\"data row12 col3\" >6</td>\n",
       "            </tr>\n",
       "            <tr>\n",
       "                        <th id=\"T_3f6ce006_da02_11ec_bbbc_d4d252ee7ca2level0_row13\" class=\"row_heading level0 row13\" >13</th>\n",
       "                        <td id=\"T_3f6ce006_da02_11ec_bbbc_d4d252ee7ca2row13_col0\" class=\"data row13 col0\" >2000</td>\n",
       "                        <td id=\"T_3f6ce006_da02_11ec_bbbc_d4d252ee7ca2row13_col1\" class=\"data row13 col1\" >13</td>\n",
       "                        <td id=\"T_3f6ce006_da02_11ec_bbbc_d4d252ee7ca2row13_col2\" class=\"data row13 col2\" >118</td>\n",
       "                        <td id=\"T_3f6ce006_da02_11ec_bbbc_d4d252ee7ca2row13_col3\" class=\"data row13 col3\" >11</td>\n",
       "            </tr>\n",
       "            <tr>\n",
       "                        <th id=\"T_3f6ce006_da02_11ec_bbbc_d4d252ee7ca2level0_row14\" class=\"row_heading level0 row14\" >14</th>\n",
       "                        <td id=\"T_3f6ce006_da02_11ec_bbbc_d4d252ee7ca2row14_col0\" class=\"data row14 col0\" >2001</td>\n",
       "                        <td id=\"T_3f6ce006_da02_11ec_bbbc_d4d252ee7ca2row14_col1\" class=\"data row14 col1\" >70</td>\n",
       "                        <td id=\"T_3f6ce006_da02_11ec_bbbc_d4d252ee7ca2row14_col2\" class=\"data row14 col2\" >870</td>\n",
       "                        <td id=\"T_3f6ce006_da02_11ec_bbbc_d4d252ee7ca2row14_col3\" class=\"data row14 col3\" >135</td>\n",
       "            </tr>\n",
       "            <tr>\n",
       "                        <th id=\"T_3f6ce006_da02_11ec_bbbc_d4d252ee7ca2level0_row15\" class=\"row_heading level0 row15\" >15</th>\n",
       "                        <td id=\"T_3f6ce006_da02_11ec_bbbc_d4d252ee7ca2row15_col0\" class=\"data row15 col0\" >2002</td>\n",
       "                        <td id=\"T_3f6ce006_da02_11ec_bbbc_d4d252ee7ca2row15_col1\" class=\"data row15 col1\" >71</td>\n",
       "                        <td id=\"T_3f6ce006_da02_11ec_bbbc_d4d252ee7ca2row15_col2\" class=\"data row15 col2\" >1438</td>\n",
       "                        <td id=\"T_3f6ce006_da02_11ec_bbbc_d4d252ee7ca2row15_col3\" class=\"data row15 col3\" >326</td>\n",
       "            </tr>\n",
       "            <tr>\n",
       "                        <th id=\"T_3f6ce006_da02_11ec_bbbc_d4d252ee7ca2level0_row16\" class=\"row_heading level0 row16\" >16</th>\n",
       "                        <td id=\"T_3f6ce006_da02_11ec_bbbc_d4d252ee7ca2row16_col0\" class=\"data row16 col0\" >2003</td>\n",
       "                        <td id=\"T_3f6ce006_da02_11ec_bbbc_d4d252ee7ca2row16_col1\" class=\"data row16 col1\" >34</td>\n",
       "                        <td id=\"T_3f6ce006_da02_11ec_bbbc_d4d252ee7ca2row16_col2\" class=\"data row16 col2\" >563</td>\n",
       "                        <td id=\"T_3f6ce006_da02_11ec_bbbc_d4d252ee7ca2row16_col3\" class=\"data row16 col3\" >150</td>\n",
       "            </tr>\n",
       "            <tr>\n",
       "                        <th id=\"T_3f6ce006_da02_11ec_bbbc_d4d252ee7ca2level0_row17\" class=\"row_heading level0 row17\" >17</th>\n",
       "                        <td id=\"T_3f6ce006_da02_11ec_bbbc_d4d252ee7ca2row17_col0\" class=\"data row17 col0\" >2004</td>\n",
       "                        <td id=\"T_3f6ce006_da02_11ec_bbbc_d4d252ee7ca2row17_col1\" class=\"data row17 col1\" >18</td>\n",
       "                        <td id=\"T_3f6ce006_da02_11ec_bbbc_d4d252ee7ca2row17_col2\" class=\"data row17 col2\" >232</td>\n",
       "                        <td id=\"T_3f6ce006_da02_11ec_bbbc_d4d252ee7ca2row17_col3\" class=\"data row17 col3\" >57</td>\n",
       "            </tr>\n",
       "            <tr>\n",
       "                        <th id=\"T_3f6ce006_da02_11ec_bbbc_d4d252ee7ca2level0_row18\" class=\"row_heading level0 row18\" >18</th>\n",
       "                        <td id=\"T_3f6ce006_da02_11ec_bbbc_d4d252ee7ca2row18_col0\" class=\"data row18 col0\" >2005</td>\n",
       "                        <td id=\"T_3f6ce006_da02_11ec_bbbc_d4d252ee7ca2row18_col1\" class=\"data row18 col1\" >28</td>\n",
       "                        <td id=\"T_3f6ce006_da02_11ec_bbbc_d4d252ee7ca2row18_col2\" class=\"data row18 col2\" >244</td>\n",
       "                        <td id=\"T_3f6ce006_da02_11ec_bbbc_d4d252ee7ca2row18_col3\" class=\"data row18 col3\" >41</td>\n",
       "            </tr>\n",
       "            <tr>\n",
       "                        <th id=\"T_3f6ce006_da02_11ec_bbbc_d4d252ee7ca2level0_row19\" class=\"row_heading level0 row19\" >19</th>\n",
       "                        <td id=\"T_3f6ce006_da02_11ec_bbbc_d4d252ee7ca2row19_col0\" class=\"data row19 col0\" >2006</td>\n",
       "                        <td id=\"T_3f6ce006_da02_11ec_bbbc_d4d252ee7ca2row19_col1\" class=\"data row19 col1\" >79</td>\n",
       "                        <td id=\"T_3f6ce006_da02_11ec_bbbc_d4d252ee7ca2row19_col2\" class=\"data row19 col2\" >158</td>\n",
       "                        <td id=\"T_3f6ce006_da02_11ec_bbbc_d4d252ee7ca2row19_col3\" class=\"data row19 col3\" >56</td>\n",
       "            </tr>\n",
       "            <tr>\n",
       "                        <th id=\"T_3f6ce006_da02_11ec_bbbc_d4d252ee7ca2level0_row20\" class=\"row_heading level0 row20\" >20</th>\n",
       "                        <td id=\"T_3f6ce006_da02_11ec_bbbc_d4d252ee7ca2row20_col0\" class=\"data row20 col0\" >2007</td>\n",
       "                        <td id=\"T_3f6ce006_da02_11ec_bbbc_d4d252ee7ca2row20_col1\" class=\"data row20 col1\" >49</td>\n",
       "                        <td id=\"T_3f6ce006_da02_11ec_bbbc_d4d252ee7ca2row20_col2\" class=\"data row20 col2\" >10</td>\n",
       "                        <td id=\"T_3f6ce006_da02_11ec_bbbc_d4d252ee7ca2row20_col3\" class=\"data row20 col3\" >10</td>\n",
       "            </tr>\n",
       "            <tr>\n",
       "                        <th id=\"T_3f6ce006_da02_11ec_bbbc_d4d252ee7ca2level0_row21\" class=\"row_heading level0 row21\" >21</th>\n",
       "                        <td id=\"T_3f6ce006_da02_11ec_bbbc_d4d252ee7ca2row21_col0\" class=\"data row21 col0\" >2008</td>\n",
       "                        <td id=\"T_3f6ce006_da02_11ec_bbbc_d4d252ee7ca2row21_col1\" class=\"data row21 col1\" >129</td>\n",
       "                        <td id=\"T_3f6ce006_da02_11ec_bbbc_d4d252ee7ca2row21_col2\" class=\"data row21 col2\" >234</td>\n",
       "                        <td id=\"T_3f6ce006_da02_11ec_bbbc_d4d252ee7ca2row21_col3\" class=\"data row21 col3\" >31</td>\n",
       "            </tr>\n",
       "            <tr>\n",
       "                        <th id=\"T_3f6ce006_da02_11ec_bbbc_d4d252ee7ca2level0_row22\" class=\"row_heading level0 row22\" >22</th>\n",
       "                        <td id=\"T_3f6ce006_da02_11ec_bbbc_d4d252ee7ca2row22_col0\" class=\"data row22 col0\" >2009</td>\n",
       "                        <td id=\"T_3f6ce006_da02_11ec_bbbc_d4d252ee7ca2row22_col1\" class=\"data row22 col1\" >36</td>\n",
       "                        <td id=\"T_3f6ce006_da02_11ec_bbbc_d4d252ee7ca2row22_col2\" class=\"data row22 col2\" >40</td>\n",
       "                        <td id=\"T_3f6ce006_da02_11ec_bbbc_d4d252ee7ca2row22_col3\" class=\"data row22 col3\" >1</td>\n",
       "            </tr>\n",
       "            <tr>\n",
       "                        <th id=\"T_3f6ce006_da02_11ec_bbbc_d4d252ee7ca2level0_row23\" class=\"row_heading level0 row23\" >23</th>\n",
       "                        <td id=\"T_3f6ce006_da02_11ec_bbbc_d4d252ee7ca2row23_col0\" class=\"data row23 col0\" >2010</td>\n",
       "                        <td id=\"T_3f6ce006_da02_11ec_bbbc_d4d252ee7ca2row23_col1\" class=\"data row23 col1\" >14</td>\n",
       "                        <td id=\"T_3f6ce006_da02_11ec_bbbc_d4d252ee7ca2row23_col2\" class=\"data row23 col2\" >17</td>\n",
       "                        <td id=\"T_3f6ce006_da02_11ec_bbbc_d4d252ee7ca2row23_col3\" class=\"data row23 col3\" >4</td>\n",
       "            </tr>\n",
       "            <tr>\n",
       "                        <th id=\"T_3f6ce006_da02_11ec_bbbc_d4d252ee7ca2level0_row24\" class=\"row_heading level0 row24\" >24</th>\n",
       "                        <td id=\"T_3f6ce006_da02_11ec_bbbc_d4d252ee7ca2row24_col0\" class=\"data row24 col0\" >2011</td>\n",
       "                        <td id=\"T_3f6ce006_da02_11ec_bbbc_d4d252ee7ca2row24_col1\" class=\"data row24 col1\" >51</td>\n",
       "                        <td id=\"T_3f6ce006_da02_11ec_bbbc_d4d252ee7ca2row24_col2\" class=\"data row24 col2\" >77</td>\n",
       "                        <td id=\"T_3f6ce006_da02_11ec_bbbc_d4d252ee7ca2row24_col3\" class=\"data row24 col3\" >21</td>\n",
       "            </tr>\n",
       "            <tr>\n",
       "                        <th id=\"T_3f6ce006_da02_11ec_bbbc_d4d252ee7ca2level0_row25\" class=\"row_heading level0 row25\" >25</th>\n",
       "                        <td id=\"T_3f6ce006_da02_11ec_bbbc_d4d252ee7ca2row25_col0\" class=\"data row25 col0\" >2012</td>\n",
       "                        <td id=\"T_3f6ce006_da02_11ec_bbbc_d4d252ee7ca2row25_col1\" class=\"data row25 col1\" >59</td>\n",
       "                        <td id=\"T_3f6ce006_da02_11ec_bbbc_d4d252ee7ca2row25_col2\" class=\"data row25 col2\" >89</td>\n",
       "                        <td id=\"T_3f6ce006_da02_11ec_bbbc_d4d252ee7ca2row25_col3\" class=\"data row25 col3\" >14</td>\n",
       "            </tr>\n",
       "            <tr>\n",
       "                        <th id=\"T_3f6ce006_da02_11ec_bbbc_d4d252ee7ca2level0_row26\" class=\"row_heading level0 row26\" >26</th>\n",
       "                        <td id=\"T_3f6ce006_da02_11ec_bbbc_d4d252ee7ca2row26_col0\" class=\"data row26 col0\" >2013</td>\n",
       "                        <td id=\"T_3f6ce006_da02_11ec_bbbc_d4d252ee7ca2row26_col1\" class=\"data row26 col1\" >37</td>\n",
       "                        <td id=\"T_3f6ce006_da02_11ec_bbbc_d4d252ee7ca2row26_col2\" class=\"data row26 col2\" >8</td>\n",
       "                        <td id=\"T_3f6ce006_da02_11ec_bbbc_d4d252ee7ca2row26_col3\" class=\"data row26 col3\" >2</td>\n",
       "            </tr>\n",
       "            <tr>\n",
       "                        <th id=\"T_3f6ce006_da02_11ec_bbbc_d4d252ee7ca2level0_row27\" class=\"row_heading level0 row27\" >27</th>\n",
       "                        <td id=\"T_3f6ce006_da02_11ec_bbbc_d4d252ee7ca2row27_col0\" class=\"data row27 col0\" >2014</td>\n",
       "                        <td id=\"T_3f6ce006_da02_11ec_bbbc_d4d252ee7ca2row27_col1\" class=\"data row27 col1\" >293</td>\n",
       "                        <td id=\"T_3f6ce006_da02_11ec_bbbc_d4d252ee7ca2row27_col2\" class=\"data row27 col2\" >152</td>\n",
       "                        <td id=\"T_3f6ce006_da02_11ec_bbbc_d4d252ee7ca2row27_col3\" class=\"data row27 col3\" >49</td>\n",
       "            </tr>\n",
       "            <tr>\n",
       "                        <th id=\"T_3f6ce006_da02_11ec_bbbc_d4d252ee7ca2level0_row28\" class=\"row_heading level0 row28\" >28</th>\n",
       "                        <td id=\"T_3f6ce006_da02_11ec_bbbc_d4d252ee7ca2row28_col0\" class=\"data row28 col0\" >2015</td>\n",
       "                        <td id=\"T_3f6ce006_da02_11ec_bbbc_d4d252ee7ca2row28_col1\" class=\"data row28 col1\" >58</td>\n",
       "                        <td id=\"T_3f6ce006_da02_11ec_bbbc_d4d252ee7ca2row28_col2\" class=\"data row28 col2\" >118</td>\n",
       "                        <td id=\"T_3f6ce006_da02_11ec_bbbc_d4d252ee7ca2row28_col3\" class=\"data row28 col3\" >20</td>\n",
       "            </tr>\n",
       "            <tr>\n",
       "                        <th id=\"T_3f6ce006_da02_11ec_bbbc_d4d252ee7ca2level0_row29\" class=\"row_heading level0 row29\" >29</th>\n",
       "                        <td id=\"T_3f6ce006_da02_11ec_bbbc_d4d252ee7ca2row29_col0\" class=\"data row29 col0\" >2016</td>\n",
       "                        <td id=\"T_3f6ce006_da02_11ec_bbbc_d4d252ee7ca2row29_col1\" class=\"data row29 col1\" >50</td>\n",
       "                        <td id=\"T_3f6ce006_da02_11ec_bbbc_d4d252ee7ca2row29_col2\" class=\"data row29 col2\" >175</td>\n",
       "                        <td id=\"T_3f6ce006_da02_11ec_bbbc_d4d252ee7ca2row29_col3\" class=\"data row29 col3\" >16</td>\n",
       "            </tr>\n",
       "            <tr>\n",
       "                        <th id=\"T_3f6ce006_da02_11ec_bbbc_d4d252ee7ca2level0_row30\" class=\"row_heading level0 row30\" >30</th>\n",
       "                        <td id=\"T_3f6ce006_da02_11ec_bbbc_d4d252ee7ca2row30_col0\" class=\"data row30 col0\" >2017</td>\n",
       "                        <td id=\"T_3f6ce006_da02_11ec_bbbc_d4d252ee7ca2row30_col1\" class=\"data row30 col1\" >34</td>\n",
       "                        <td id=\"T_3f6ce006_da02_11ec_bbbc_d4d252ee7ca2row30_col2\" class=\"data row30 col2\" >16</td>\n",
       "                        <td id=\"T_3f6ce006_da02_11ec_bbbc_d4d252ee7ca2row30_col3\" class=\"data row30 col3\" >4</td>\n",
       "            </tr>\n",
       "            <tr>\n",
       "                        <th id=\"T_3f6ce006_da02_11ec_bbbc_d4d252ee7ca2level0_row31\" class=\"row_heading level0 row31\" >31</th>\n",
       "                        <td id=\"T_3f6ce006_da02_11ec_bbbc_d4d252ee7ca2row31_col0\" class=\"data row31 col0\" >2018</td>\n",
       "                        <td id=\"T_3f6ce006_da02_11ec_bbbc_d4d252ee7ca2row31_col1\" class=\"data row31 col1\" >63</td>\n",
       "                        <td id=\"T_3f6ce006_da02_11ec_bbbc_d4d252ee7ca2row31_col2\" class=\"data row31 col2\" >46</td>\n",
       "                        <td id=\"T_3f6ce006_da02_11ec_bbbc_d4d252ee7ca2row31_col3\" class=\"data row31 col3\" >9</td>\n",
       "            </tr>\n",
       "            <tr>\n",
       "                        <th id=\"T_3f6ce006_da02_11ec_bbbc_d4d252ee7ca2level0_row32\" class=\"row_heading level0 row32\" >32</th>\n",
       "                        <td id=\"T_3f6ce006_da02_11ec_bbbc_d4d252ee7ca2row32_col0\" class=\"data row32 col0\" >2019</td>\n",
       "                        <td id=\"T_3f6ce006_da02_11ec_bbbc_d4d252ee7ca2row32_col1\" class=\"data row32 col1\" >65</td>\n",
       "                        <td id=\"T_3f6ce006_da02_11ec_bbbc_d4d252ee7ca2row32_col2\" class=\"data row32 col2\" >35</td>\n",
       "                        <td id=\"T_3f6ce006_da02_11ec_bbbc_d4d252ee7ca2row32_col3\" class=\"data row32 col3\" >9</td>\n",
       "            </tr>\n",
       "    </tbody></table>"
      ],
      "text/plain": [
       "<pandas.io.formats.style.Styler at 0x1f814fa07f0>"
      ]
     },
     "execution_count": 29,
     "metadata": {},
     "output_type": "execute_result"
    }
   ],
   "source": [
    "df_years_israel = df_israel.groupby('year').agg({'index':'count', 'wounded':'sum', 'killed':'sum'}).reset_index().astype(int)\n",
    "df_years_israel.rename(columns = {'index':'occations'}, inplace = True)\n",
    "df_israel_style = df_years_israel.style.highlight_max(subset = df_years_israel.columns[1:], color = 'pink', axis = 0)\n",
    "df_israel_style"
   ]
  },
  {
   "cell_type": "markdown",
   "id": "a4ed98dc-9fc3-4394-9d5c-0c04c1ea79d4",
   "metadata": {},
   "source": [
    "> ##### We can see that the **most lethal years** are <span style=\"color:red\">2002</span> (highest wounded and killed) and <span style=\"color:red\">2014</span> (highest occations number).\n",
    "> ##### Let's see those result by a <span style=\"color:red\">graph</span>:"
   ]
  },
  {
   "cell_type": "code",
   "execution_count": 30,
   "id": "4c10c312-e5e0-46b3-9f45-85df0cc032f5",
   "metadata": {},
   "outputs": [],
   "source": [
    "lethal_israel = df_years_israel.loc[(df_years_israel.year == 2002) | (df_years_israel.year == 2014)]\n",
    "m_df = pd.melt(lethal_israel, id_vars = 'year', value_vars = ['occations', 'wounded', 'killed'])"
   ]
  },
  {
   "cell_type": "code",
   "execution_count": 31,
   "id": "2d6d0e72-ccf9-4b85-9ac4-77a494d7639b",
   "metadata": {},
   "outputs": [
    {
     "data": {
      "image/png": "[encoded data removed]",
      "text/plain": [
       "<Figure size 1080x360 with 1 Axes>"
      ]
     },
     "metadata": {
      "needs_background": "light"
     },
     "output_type": "display_data"
    }
   ],
   "source": [
    "plt.subplots(figsize=(15,5))\n",
    "ax = sns.barplot(x='year', y='value', hue='variable', data = m_df)\n",
    "ax.set_title(\"Lethal Years\")\n",
    "plt.show()"
   ]
  },
  {
   "cell_type": "markdown",
   "id": "dda81ec6-ff32-498d-b589-17e965f547d9",
   "metadata": {},
   "source": [
    "> ###### * From this graph we can see better the <span style=\"color:red\">non-correlation</span> that we have searched before."
   ]
  },
  {
   "cell_type": "markdown",
   "id": "0776a545-5670-474e-aadc-8e54d38a7070",
   "metadata": {},
   "source": [
    "> ##### We wanted to see the weight of those lethal years on the total numbers in Israel."
   ]
  },
  {
   "cell_type": "markdown",
   "id": "da353e3c-3306-4cbc-ab9f-77982ba2c697",
   "metadata": {},
   "source": [
    "> ##### First, we have found the number of <span style=\"color:red\">injured</span> of <span style=\"color:red\">2002</span>- the most lethal year of injured in Israel:"
   ]
  },
  {
   "cell_type": "code",
   "execution_count": 32,
   "id": "098575e4-fab8-45c3-88ac-ea2657be1d0c",
   "metadata": {},
   "outputs": [
    {
     "data": {
      "text/plain": [
       "1764"
      ]
     },
     "execution_count": 32,
     "metadata": {},
     "output_type": "execute_result"
    }
   ],
   "source": [
    "df_years_israel['total wounded & killed'] = df_years_israel['wounded'] + df_years_israel['killed']\n",
    "total_occ_2002 = df_years_israel.loc[(df_years_israel.year == 2002)]['total wounded & killed'].sum()\n",
    "total_occ_2002"
   ]
  },
  {
   "cell_type": "markdown",
   "id": "d82e5373-583a-4b13-9856-886c7b531917",
   "metadata": {},
   "source": [
    "> ##### Second, we have found the <span style=\"color:red\">total injured</span> numbers in Israel:"
   ]
  },
  {
   "cell_type": "code",
   "execution_count": 33,
   "id": "79675574-66cc-4dd6-b3eb-f006c367419f",
   "metadata": {},
   "outputs": [
    {
     "data": {
      "text/plain": [
       "7726"
      ]
     },
     "execution_count": 33,
     "metadata": {},
     "output_type": "execute_result"
    }
   ],
   "source": [
    "total_occ_israel = df_years_israel['total wounded & killed'].sum()\n",
    "total_occ_israel"
   ]
  },
  {
   "cell_type": "markdown",
   "id": "5ae82c13-589c-4a7a-b1c1-648f48195361",
   "metadata": {},
   "source": [
    "> ##### Then, we have found the <span style=\"color:red\">weight</span> of <span style=\"color:red\">2002</span>:"
   ]
  },
  {
   "cell_type": "code",
   "execution_count": 34,
   "id": "f6415f81-4628-49a9-a2d7-55434213a2d4",
   "metadata": {},
   "outputs": [
    {
     "data": {
      "text/plain": [
       "0.2283199585814134"
      ]
     },
     "execution_count": 34,
     "metadata": {},
     "output_type": "execute_result"
    }
   ],
   "source": [
    "total_occ_2002 / total_occ_israel"
   ]
  },
  {
   "cell_type": "markdown",
   "id": "472585bb-9b85-439e-9abc-b8ea36e80637",
   "metadata": {},
   "source": [
    "### <span style=\"color:purple\">That is shocking! Over **fifth** of all injured in Israel were in year **2002**- the year of the second Intifada!</span>"
   ]
  },
  {
   "cell_type": "markdown",
   "id": "8b0e1229-62e1-4a8e-abdf-3970aa15fb8b",
   "metadata": {},
   "source": [
    "> ##### Now, let's focus on year <span style=\"color:red\">2014</span>- the most lethal year of number of occations in Israel.\n",
    "> ##### We have found the number of occations in 2014:"
   ]
  },
  {
   "cell_type": "code",
   "execution_count": 35,
   "id": "7543c489-9c11-4a59-84a2-bd3169e8f7eb",
   "metadata": {},
   "outputs": [
    {
     "data": {
      "text/plain": [
       "293"
      ]
     },
     "execution_count": 35,
     "metadata": {},
     "output_type": "execute_result"
    }
   ],
   "source": [
    "total_occ_2014 = df_years_israel.loc[(df_years_israel.year == 2014)]['occations'].sum()\n",
    "total_occ_2014"
   ]
  },
  {
   "cell_type": "markdown",
   "id": "1a3181e6-c58b-4535-ad86-fcfca2ca7a69",
   "metadata": {},
   "source": [
    "> ##### Let's see the <span style=\"color:red\">weight</span> of <span style=\"color:red\">2014</span> of the number of occations that we have found earlier in this project:"
   ]
  },
  {
   "cell_type": "code",
   "execution_count": 36,
   "id": "171b0d92-e555-4a17-8cef-62cb98f05209",
   "metadata": {},
   "outputs": [
    {
     "data": {
      "text/plain": [
       "0.17054714784633296"
      ]
     },
     "execution_count": 36,
     "metadata": {},
     "output_type": "execute_result"
    }
   ],
   "source": [
    "total_occ_2014 / num_terr_israel"
   ]
  },
  {
   "cell_type": "markdown",
   "id": "7942edc0-693b-41d4-8695-c0929ace6cc4",
   "metadata": {},
   "source": [
    "### <span style=\"color:purple\">Unbelievable! Almost **fifth** of all occations in Israel were in year **2014**- the year of \"Zok-Eitan\" opperation!</span>"
   ]
  },
  {
   "cell_type": "markdown",
   "id": "d06eae90-796b-40bc-93c1-fd7c54639713",
   "metadata": {
    "tags": []
   },
   "source": [
    "***\n",
    "# <span style=\"color:green\">_Causes to Death and Wound Numbers_</span>\n",
    "<img src=\"https://user-images.githubusercontent.com/103241195/169339539-2d031f4d-405d-4b55-b937-b53e13d2e84a.png\" height=\"100px\" width=\"100px\">\n",
    "\n",
    "***"
   ]
  },
  {
   "cell_type": "markdown",
   "id": "0bf53bd5-9609-47c2-80d3-c2146cf0ab63",
   "metadata": {},
   "source": [
    "### <span style=\"color:purple\">We have not got yet the answer to our second part of our research question.</span>\n",
    "### <span style=\"color:purple\">So: What is the cause of the number of injured from terror occations in Israel?</span>\n",
    "### <span style=\"color:purple\">In this part of the project we have focused on the cause.</span>"
   ]
  },
  {
   "cell_type": "markdown",
   "id": "15ecdd9f-d465-40c0-b138-7bdd4b7ddca4",
   "metadata": {},
   "source": [
    "> ##### We have started with finding the <span style=\"color:red\">number of injures</span> in Israel (wounded and killed) for **each year**:"
   ]
  },
  {
   "cell_type": "code",
   "execution_count": 37,
   "id": "7a719d8e-a7fe-4c08-a135-27c645f3c295",
   "metadata": {},
   "outputs": [],
   "source": [
    "df_years_israel['total wounded & killed'] = df_years_israel['wounded'] + df_years_israel['killed']"
   ]
  },
  {
   "cell_type": "markdown",
   "id": "bb1da6af-bd56-48bc-ab9a-101114e42e7a",
   "metadata": {},
   "source": [
    "> ##### Afterwords, we have found the <span style=\"color:red\">number of suicide occations</span> in Israel for **each year**:"
   ]
  },
  {
   "cell_type": "code",
   "execution_count": 38,
   "id": "d3c290b2-f389-4e25-b9e4-9925ca35e164",
   "metadata": {},
   "outputs": [],
   "source": [
    "df_israel_suicide = df_israel.groupby('year')['is_suicide'].sum().reset_index()\n",
    "df_years_israel['num of suicides'] = df_israel_suicide['is_suicide']"
   ]
  },
  {
   "cell_type": "code",
   "execution_count": 39,
   "id": "83849562-51e2-41bc-a754-a06b36460e64",
   "metadata": {},
   "outputs": [],
   "source": [
    "df_israel_attack_type = israel_attack_type_pivot.reset_index()\n",
    "years_values = df_israel_attack_type.iloc[:,1:].astype(float)"
   ]
  },
  {
   "cell_type": "markdown",
   "id": "21c7c73b-2069-41bb-92cf-a5bc7dd0addf",
   "metadata": {},
   "source": [
    "> ##### Then, we have found the <span style=\"color:red\">most common attack type</span> in Israel for **each year**:"
   ]
  },
  {
   "cell_type": "code",
   "execution_count": 40,
   "id": "9cca8222-85c6-42b1-b602-16cf54f2729e",
   "metadata": {},
   "outputs": [],
   "source": [
    "israel_attack_type_pivot = df_israel.pivot_table( values ='index', index = 'attack_type', columns = 'year', aggfunc = np.size)\n",
    "israel_max_attack = israel_attack_type_pivot.idxmax().reset_index()"
   ]
  },
  {
   "cell_type": "markdown",
   "id": "015ec6b2-2c8c-426e-a13f-7d17a74fc820",
   "metadata": {},
   "source": [
    "> ##### We have found also the <span style=\"color:red\">number of every most common attack type</span> in Israel for **each year**:"
   ]
  },
  {
   "cell_type": "code",
   "execution_count": 41,
   "id": "acb4d75f-d396-4189-81f8-5e677924e3bc",
   "metadata": {},
   "outputs": [],
   "source": [
    "df_israel_max = df_israel_attack_type.max().reset_index()\n",
    "df_israel_max.rename(columns={0:'max_value'}, inplace = True)\n",
    "df_israel_max = df_israel_max.drop(labels=0, axis=0).reset_index()"
   ]
  },
  {
   "cell_type": "code",
   "execution_count": 42,
   "id": "6d3824d8-4088-481e-b2b8-d197bfb014b3",
   "metadata": {},
   "outputs": [],
   "source": [
    "df_years_israel['max_value'] = df_israel_max['max_value']\n",
    "df_years_israel['max_attack'] = israel_max_attack[0]"
   ]
  },
  {
   "cell_type": "markdown",
   "id": "f0ed8ef4-aace-437e-8c57-8e9e455efdc9",
   "metadata": {},
   "source": [
    "> ##### Let's see those outcomes that we have found in this chapter yet in an <span style=\"color:red\">assembled table</span>:"
   ]
  },
  {
   "cell_type": "code",
   "execution_count": 43,
   "id": "aaa34531-1123-4338-b426-ab9c773bd05e",
   "metadata": {},
   "outputs": [
    {
     "data": {
      "text/html": [
       "<style  type=\"text/css\" >\n",
       "#T_3fab44e8_da02_11ec_87bf_d4d252ee7ca2row15_col2,#T_3fab44e8_da02_11ec_87bf_d4d252ee7ca2row15_col3,#T_3fab44e8_da02_11ec_87bf_d4d252ee7ca2row15_col4,#T_3fab44e8_da02_11ec_87bf_d4d252ee7ca2row15_col5,#T_3fab44e8_da02_11ec_87bf_d4d252ee7ca2row27_col1,#T_3fab44e8_da02_11ec_87bf_d4d252ee7ca2row27_col6{\n",
       "            background-color:  pink;\n",
       "        }</style><table id=\"T_3fab44e8_da02_11ec_87bf_d4d252ee7ca2\" ><thead>    <tr>        <th class=\"blank level0\" ></th>        <th class=\"col_heading level0 col0\" >year</th>        <th class=\"col_heading level0 col1\" >occations</th>        <th class=\"col_heading level0 col2\" >wounded</th>        <th class=\"col_heading level0 col3\" >killed</th>        <th class=\"col_heading level0 col4\" >total wounded & killed</th>        <th class=\"col_heading level0 col5\" >num of suicides</th>        <th class=\"col_heading level0 col6\" >max_value</th>        <th class=\"col_heading level0 col7\" >max_attack</th>    </tr></thead><tbody>\n",
       "                <tr>\n",
       "                        <th id=\"T_3fab44e8_da02_11ec_87bf_d4d252ee7ca2level0_row0\" class=\"row_heading level0 row0\" >0</th>\n",
       "                        <td id=\"T_3fab44e8_da02_11ec_87bf_d4d252ee7ca2row0_col0\" class=\"data row0 col0\" >1986</td>\n",
       "                        <td id=\"T_3fab44e8_da02_11ec_87bf_d4d252ee7ca2row0_col1\" class=\"data row0 col1\" >47</td>\n",
       "                        <td id=\"T_3fab44e8_da02_11ec_87bf_d4d252ee7ca2row0_col2\" class=\"data row0 col2\" >144</td>\n",
       "                        <td id=\"T_3fab44e8_da02_11ec_87bf_d4d252ee7ca2row0_col3\" class=\"data row0 col3\" >8</td>\n",
       "                        <td id=\"T_3fab44e8_da02_11ec_87bf_d4d252ee7ca2row0_col4\" class=\"data row0 col4\" >152</td>\n",
       "                        <td id=\"T_3fab44e8_da02_11ec_87bf_d4d252ee7ca2row0_col5\" class=\"data row0 col5\" >0</td>\n",
       "                        <td id=\"T_3fab44e8_da02_11ec_87bf_d4d252ee7ca2row0_col6\" class=\"data row0 col6\" >35</td>\n",
       "                        <td id=\"T_3fab44e8_da02_11ec_87bf_d4d252ee7ca2row0_col7\" class=\"data row0 col7\" >Bombing/Explosion</td>\n",
       "            </tr>\n",
       "            <tr>\n",
       "                        <th id=\"T_3fab44e8_da02_11ec_87bf_d4d252ee7ca2level0_row1\" class=\"row_heading level0 row1\" >1</th>\n",
       "                        <td id=\"T_3fab44e8_da02_11ec_87bf_d4d252ee7ca2row1_col0\" class=\"data row1 col0\" >1987</td>\n",
       "                        <td id=\"T_3fab44e8_da02_11ec_87bf_d4d252ee7ca2row1_col1\" class=\"data row1 col1\" >20</td>\n",
       "                        <td id=\"T_3fab44e8_da02_11ec_87bf_d4d252ee7ca2row1_col2\" class=\"data row1 col2\" >45</td>\n",
       "                        <td id=\"T_3fab44e8_da02_11ec_87bf_d4d252ee7ca2row1_col3\" class=\"data row1 col3\" >11</td>\n",
       "                        <td id=\"T_3fab44e8_da02_11ec_87bf_d4d252ee7ca2row1_col4\" class=\"data row1 col4\" >56</td>\n",
       "                        <td id=\"T_3fab44e8_da02_11ec_87bf_d4d252ee7ca2row1_col5\" class=\"data row1 col5\" >0</td>\n",
       "                        <td id=\"T_3fab44e8_da02_11ec_87bf_d4d252ee7ca2row1_col6\" class=\"data row1 col6\" >12</td>\n",
       "                        <td id=\"T_3fab44e8_da02_11ec_87bf_d4d252ee7ca2row1_col7\" class=\"data row1 col7\" >Bombing/Explosion</td>\n",
       "            </tr>\n",
       "            <tr>\n",
       "                        <th id=\"T_3fab44e8_da02_11ec_87bf_d4d252ee7ca2level0_row2\" class=\"row_heading level0 row2\" >2</th>\n",
       "                        <td id=\"T_3fab44e8_da02_11ec_87bf_d4d252ee7ca2row2_col0\" class=\"data row2 col0\" >1988</td>\n",
       "                        <td id=\"T_3fab44e8_da02_11ec_87bf_d4d252ee7ca2row2_col1\" class=\"data row2 col1\" >32</td>\n",
       "                        <td id=\"T_3fab44e8_da02_11ec_87bf_d4d252ee7ca2row2_col2\" class=\"data row2 col2\" >43</td>\n",
       "                        <td id=\"T_3fab44e8_da02_11ec_87bf_d4d252ee7ca2row2_col3\" class=\"data row2 col3\" >12</td>\n",
       "                        <td id=\"T_3fab44e8_da02_11ec_87bf_d4d252ee7ca2row2_col4\" class=\"data row2 col4\" >55</td>\n",
       "                        <td id=\"T_3fab44e8_da02_11ec_87bf_d4d252ee7ca2row2_col5\" class=\"data row2 col5\" >0</td>\n",
       "                        <td id=\"T_3fab44e8_da02_11ec_87bf_d4d252ee7ca2row2_col6\" class=\"data row2 col6\" >15</td>\n",
       "                        <td id=\"T_3fab44e8_da02_11ec_87bf_d4d252ee7ca2row2_col7\" class=\"data row2 col7\" >Bombing/Explosion</td>\n",
       "            </tr>\n",
       "            <tr>\n",
       "                        <th id=\"T_3fab44e8_da02_11ec_87bf_d4d252ee7ca2level0_row3\" class=\"row_heading level0 row3\" >3</th>\n",
       "                        <td id=\"T_3fab44e8_da02_11ec_87bf_d4d252ee7ca2row3_col0\" class=\"data row3 col0\" >1989</td>\n",
       "                        <td id=\"T_3fab44e8_da02_11ec_87bf_d4d252ee7ca2row3_col1\" class=\"data row3 col1\" >73</td>\n",
       "                        <td id=\"T_3fab44e8_da02_11ec_87bf_d4d252ee7ca2row3_col2\" class=\"data row3 col2\" >71</td>\n",
       "                        <td id=\"T_3fab44e8_da02_11ec_87bf_d4d252ee7ca2row3_col3\" class=\"data row3 col3\" >35</td>\n",
       "                        <td id=\"T_3fab44e8_da02_11ec_87bf_d4d252ee7ca2row3_col4\" class=\"data row3 col4\" >106</td>\n",
       "                        <td id=\"T_3fab44e8_da02_11ec_87bf_d4d252ee7ca2row3_col5\" class=\"data row3 col5\" >0</td>\n",
       "                        <td id=\"T_3fab44e8_da02_11ec_87bf_d4d252ee7ca2row3_col6\" class=\"data row3 col6\" >28</td>\n",
       "                        <td id=\"T_3fab44e8_da02_11ec_87bf_d4d252ee7ca2row3_col7\" class=\"data row3 col7\" >Bombing/Explosion</td>\n",
       "            </tr>\n",
       "            <tr>\n",
       "                        <th id=\"T_3fab44e8_da02_11ec_87bf_d4d252ee7ca2level0_row4\" class=\"row_heading level0 row4\" >4</th>\n",
       "                        <td id=\"T_3fab44e8_da02_11ec_87bf_d4d252ee7ca2row4_col0\" class=\"data row4 col0\" >1990</td>\n",
       "                        <td id=\"T_3fab44e8_da02_11ec_87bf_d4d252ee7ca2row4_col1\" class=\"data row4 col1\" >81</td>\n",
       "                        <td id=\"T_3fab44e8_da02_11ec_87bf_d4d252ee7ca2row4_col2\" class=\"data row4 col2\" >184</td>\n",
       "                        <td id=\"T_3fab44e8_da02_11ec_87bf_d4d252ee7ca2row4_col3\" class=\"data row4 col3\" >45</td>\n",
       "                        <td id=\"T_3fab44e8_da02_11ec_87bf_d4d252ee7ca2row4_col4\" class=\"data row4 col4\" >229</td>\n",
       "                        <td id=\"T_3fab44e8_da02_11ec_87bf_d4d252ee7ca2row4_col5\" class=\"data row4 col5\" >0</td>\n",
       "                        <td id=\"T_3fab44e8_da02_11ec_87bf_d4d252ee7ca2row4_col6\" class=\"data row4 col6\" >32</td>\n",
       "                        <td id=\"T_3fab44e8_da02_11ec_87bf_d4d252ee7ca2row4_col7\" class=\"data row4 col7\" >Assassination</td>\n",
       "            </tr>\n",
       "            <tr>\n",
       "                        <th id=\"T_3fab44e8_da02_11ec_87bf_d4d252ee7ca2level0_row5\" class=\"row_heading level0 row5\" >5</th>\n",
       "                        <td id=\"T_3fab44e8_da02_11ec_87bf_d4d252ee7ca2row5_col0\" class=\"data row5 col0\" >1991</td>\n",
       "                        <td id=\"T_3fab44e8_da02_11ec_87bf_d4d252ee7ca2row5_col1\" class=\"data row5 col1\" >53</td>\n",
       "                        <td id=\"T_3fab44e8_da02_11ec_87bf_d4d252ee7ca2row5_col2\" class=\"data row5 col2\" >34</td>\n",
       "                        <td id=\"T_3fab44e8_da02_11ec_87bf_d4d252ee7ca2row5_col3\" class=\"data row5 col3\" >24</td>\n",
       "                        <td id=\"T_3fab44e8_da02_11ec_87bf_d4d252ee7ca2row5_col4\" class=\"data row5 col4\" >58</td>\n",
       "                        <td id=\"T_3fab44e8_da02_11ec_87bf_d4d252ee7ca2row5_col5\" class=\"data row5 col5\" >0</td>\n",
       "                        <td id=\"T_3fab44e8_da02_11ec_87bf_d4d252ee7ca2row5_col6\" class=\"data row5 col6\" >23</td>\n",
       "                        <td id=\"T_3fab44e8_da02_11ec_87bf_d4d252ee7ca2row5_col7\" class=\"data row5 col7\" >Assassination</td>\n",
       "            </tr>\n",
       "            <tr>\n",
       "                        <th id=\"T_3fab44e8_da02_11ec_87bf_d4d252ee7ca2level0_row6\" class=\"row_heading level0 row6\" >6</th>\n",
       "                        <td id=\"T_3fab44e8_da02_11ec_87bf_d4d252ee7ca2row6_col0\" class=\"data row6 col0\" >1992</td>\n",
       "                        <td id=\"T_3fab44e8_da02_11ec_87bf_d4d252ee7ca2row6_col1\" class=\"data row6 col1\" >58</td>\n",
       "                        <td id=\"T_3fab44e8_da02_11ec_87bf_d4d252ee7ca2row6_col2\" class=\"data row6 col2\" >80</td>\n",
       "                        <td id=\"T_3fab44e8_da02_11ec_87bf_d4d252ee7ca2row6_col3\" class=\"data row6 col3\" >28</td>\n",
       "                        <td id=\"T_3fab44e8_da02_11ec_87bf_d4d252ee7ca2row6_col4\" class=\"data row6 col4\" >108</td>\n",
       "                        <td id=\"T_3fab44e8_da02_11ec_87bf_d4d252ee7ca2row6_col5\" class=\"data row6 col5\" >0</td>\n",
       "                        <td id=\"T_3fab44e8_da02_11ec_87bf_d4d252ee7ca2row6_col6\" class=\"data row6 col6\" >28</td>\n",
       "                        <td id=\"T_3fab44e8_da02_11ec_87bf_d4d252ee7ca2row6_col7\" class=\"data row6 col7\" >Assassination</td>\n",
       "            </tr>\n",
       "            <tr>\n",
       "                        <th id=\"T_3fab44e8_da02_11ec_87bf_d4d252ee7ca2level0_row7\" class=\"row_heading level0 row7\" >7</th>\n",
       "                        <td id=\"T_3fab44e8_da02_11ec_87bf_d4d252ee7ca2row7_col0\" class=\"data row7 col0\" >1994</td>\n",
       "                        <td id=\"T_3fab44e8_da02_11ec_87bf_d4d252ee7ca2row7_col1\" class=\"data row7 col1\" >41</td>\n",
       "                        <td id=\"T_3fab44e8_da02_11ec_87bf_d4d252ee7ca2row7_col2\" class=\"data row7 col2\" >169</td>\n",
       "                        <td id=\"T_3fab44e8_da02_11ec_87bf_d4d252ee7ca2row7_col3\" class=\"data row7 col3\" >54</td>\n",
       "                        <td id=\"T_3fab44e8_da02_11ec_87bf_d4d252ee7ca2row7_col4\" class=\"data row7 col4\" >223</td>\n",
       "                        <td id=\"T_3fab44e8_da02_11ec_87bf_d4d252ee7ca2row7_col5\" class=\"data row7 col5\" >4</td>\n",
       "                        <td id=\"T_3fab44e8_da02_11ec_87bf_d4d252ee7ca2row7_col6\" class=\"data row7 col6\" >17</td>\n",
       "                        <td id=\"T_3fab44e8_da02_11ec_87bf_d4d252ee7ca2row7_col7\" class=\"data row7 col7\" >Assassination</td>\n",
       "            </tr>\n",
       "            <tr>\n",
       "                        <th id=\"T_3fab44e8_da02_11ec_87bf_d4d252ee7ca2level0_row8\" class=\"row_heading level0 row8\" >8</th>\n",
       "                        <td id=\"T_3fab44e8_da02_11ec_87bf_d4d252ee7ca2row8_col0\" class=\"data row8 col0\" >1995</td>\n",
       "                        <td id=\"T_3fab44e8_da02_11ec_87bf_d4d252ee7ca2row8_col1\" class=\"data row8 col1\" >12</td>\n",
       "                        <td id=\"T_3fab44e8_da02_11ec_87bf_d4d252ee7ca2row8_col2\" class=\"data row8 col2\" >147</td>\n",
       "                        <td id=\"T_3fab44e8_da02_11ec_87bf_d4d252ee7ca2row8_col3\" class=\"data row8 col3\" >17</td>\n",
       "                        <td id=\"T_3fab44e8_da02_11ec_87bf_d4d252ee7ca2row8_col4\" class=\"data row8 col4\" >164</td>\n",
       "                        <td id=\"T_3fab44e8_da02_11ec_87bf_d4d252ee7ca2row8_col5\" class=\"data row8 col5\" >2</td>\n",
       "                        <td id=\"T_3fab44e8_da02_11ec_87bf_d4d252ee7ca2row8_col6\" class=\"data row8 col6\" >6</td>\n",
       "                        <td id=\"T_3fab44e8_da02_11ec_87bf_d4d252ee7ca2row8_col7\" class=\"data row8 col7\" >Bombing/Explosion</td>\n",
       "            </tr>\n",
       "            <tr>\n",
       "                        <th id=\"T_3fab44e8_da02_11ec_87bf_d4d252ee7ca2level0_row9\" class=\"row_heading level0 row9\" >9</th>\n",
       "                        <td id=\"T_3fab44e8_da02_11ec_87bf_d4d252ee7ca2row9_col0\" class=\"data row9 col0\" >1996</td>\n",
       "                        <td id=\"T_3fab44e8_da02_11ec_87bf_d4d252ee7ca2row9_col1\" class=\"data row9 col1\" >18</td>\n",
       "                        <td id=\"T_3fab44e8_da02_11ec_87bf_d4d252ee7ca2row9_col2\" class=\"data row9 col2\" >224</td>\n",
       "                        <td id=\"T_3fab44e8_da02_11ec_87bf_d4d252ee7ca2row9_col3\" class=\"data row9 col3\" >70</td>\n",
       "                        <td id=\"T_3fab44e8_da02_11ec_87bf_d4d252ee7ca2row9_col4\" class=\"data row9 col4\" >294</td>\n",
       "                        <td id=\"T_3fab44e8_da02_11ec_87bf_d4d252ee7ca2row9_col5\" class=\"data row9 col5\" >5</td>\n",
       "                        <td id=\"T_3fab44e8_da02_11ec_87bf_d4d252ee7ca2row9_col6\" class=\"data row9 col6\" >10</td>\n",
       "                        <td id=\"T_3fab44e8_da02_11ec_87bf_d4d252ee7ca2row9_col7\" class=\"data row9 col7\" >Bombing/Explosion</td>\n",
       "            </tr>\n",
       "            <tr>\n",
       "                        <th id=\"T_3fab44e8_da02_11ec_87bf_d4d252ee7ca2level0_row10\" class=\"row_heading level0 row10\" >10</th>\n",
       "                        <td id=\"T_3fab44e8_da02_11ec_87bf_d4d252ee7ca2row10_col0\" class=\"data row10 col0\" >1997</td>\n",
       "                        <td id=\"T_3fab44e8_da02_11ec_87bf_d4d252ee7ca2row10_col1\" class=\"data row10 col1\" >12</td>\n",
       "                        <td id=\"T_3fab44e8_da02_11ec_87bf_d4d252ee7ca2row10_col2\" class=\"data row10 col2\" >448</td>\n",
       "                        <td id=\"T_3fab44e8_da02_11ec_87bf_d4d252ee7ca2row10_col3\" class=\"data row10 col3\" >31</td>\n",
       "                        <td id=\"T_3fab44e8_da02_11ec_87bf_d4d252ee7ca2row10_col4\" class=\"data row10 col4\" >479</td>\n",
       "                        <td id=\"T_3fab44e8_da02_11ec_87bf_d4d252ee7ca2row10_col5\" class=\"data row10 col5\" >2</td>\n",
       "                        <td id=\"T_3fab44e8_da02_11ec_87bf_d4d252ee7ca2row10_col6\" class=\"data row10 col6\" >6</td>\n",
       "                        <td id=\"T_3fab44e8_da02_11ec_87bf_d4d252ee7ca2row10_col7\" class=\"data row10 col7\" >Bombing/Explosion</td>\n",
       "            </tr>\n",
       "            <tr>\n",
       "                        <th id=\"T_3fab44e8_da02_11ec_87bf_d4d252ee7ca2level0_row11\" class=\"row_heading level0 row11\" >11</th>\n",
       "                        <td id=\"T_3fab44e8_da02_11ec_87bf_d4d252ee7ca2row11_col0\" class=\"data row11 col0\" >1998</td>\n",
       "                        <td id=\"T_3fab44e8_da02_11ec_87bf_d4d252ee7ca2row11_col1\" class=\"data row11 col1\" >12</td>\n",
       "                        <td id=\"T_3fab44e8_da02_11ec_87bf_d4d252ee7ca2row11_col2\" class=\"data row11 col2\" >120</td>\n",
       "                        <td id=\"T_3fab44e8_da02_11ec_87bf_d4d252ee7ca2row11_col3\" class=\"data row11 col3\" >17</td>\n",
       "                        <td id=\"T_3fab44e8_da02_11ec_87bf_d4d252ee7ca2row11_col4\" class=\"data row11 col4\" >137</td>\n",
       "                        <td id=\"T_3fab44e8_da02_11ec_87bf_d4d252ee7ca2row11_col5\" class=\"data row11 col5\" >1</td>\n",
       "                        <td id=\"T_3fab44e8_da02_11ec_87bf_d4d252ee7ca2row11_col6\" class=\"data row11 col6\" >10</td>\n",
       "                        <td id=\"T_3fab44e8_da02_11ec_87bf_d4d252ee7ca2row11_col7\" class=\"data row11 col7\" >Bombing/Explosion</td>\n",
       "            </tr>\n",
       "            <tr>\n",
       "                        <th id=\"T_3fab44e8_da02_11ec_87bf_d4d252ee7ca2level0_row12\" class=\"row_heading level0 row12\" >12</th>\n",
       "                        <td id=\"T_3fab44e8_da02_11ec_87bf_d4d252ee7ca2row12_col0\" class=\"data row12 col0\" >1999</td>\n",
       "                        <td id=\"T_3fab44e8_da02_11ec_87bf_d4d252ee7ca2row12_col1\" class=\"data row12 col1\" >8</td>\n",
       "                        <td id=\"T_3fab44e8_da02_11ec_87bf_d4d252ee7ca2row12_col2\" class=\"data row12 col2\" >53</td>\n",
       "                        <td id=\"T_3fab44e8_da02_11ec_87bf_d4d252ee7ca2row12_col3\" class=\"data row12 col3\" >6</td>\n",
       "                        <td id=\"T_3fab44e8_da02_11ec_87bf_d4d252ee7ca2row12_col4\" class=\"data row12 col4\" >59</td>\n",
       "                        <td id=\"T_3fab44e8_da02_11ec_87bf_d4d252ee7ca2row12_col5\" class=\"data row12 col5\" >2</td>\n",
       "                        <td id=\"T_3fab44e8_da02_11ec_87bf_d4d252ee7ca2row12_col6\" class=\"data row12 col6\" >7</td>\n",
       "                        <td id=\"T_3fab44e8_da02_11ec_87bf_d4d252ee7ca2row12_col7\" class=\"data row12 col7\" >Bombing/Explosion</td>\n",
       "            </tr>\n",
       "            <tr>\n",
       "                        <th id=\"T_3fab44e8_da02_11ec_87bf_d4d252ee7ca2level0_row13\" class=\"row_heading level0 row13\" >13</th>\n",
       "                        <td id=\"T_3fab44e8_da02_11ec_87bf_d4d252ee7ca2row13_col0\" class=\"data row13 col0\" >2000</td>\n",
       "                        <td id=\"T_3fab44e8_da02_11ec_87bf_d4d252ee7ca2row13_col1\" class=\"data row13 col1\" >13</td>\n",
       "                        <td id=\"T_3fab44e8_da02_11ec_87bf_d4d252ee7ca2row13_col2\" class=\"data row13 col2\" >118</td>\n",
       "                        <td id=\"T_3fab44e8_da02_11ec_87bf_d4d252ee7ca2row13_col3\" class=\"data row13 col3\" >11</td>\n",
       "                        <td id=\"T_3fab44e8_da02_11ec_87bf_d4d252ee7ca2row13_col4\" class=\"data row13 col4\" >129</td>\n",
       "                        <td id=\"T_3fab44e8_da02_11ec_87bf_d4d252ee7ca2row13_col5\" class=\"data row13 col5\" >0</td>\n",
       "                        <td id=\"T_3fab44e8_da02_11ec_87bf_d4d252ee7ca2row13_col6\" class=\"data row13 col6\" >9</td>\n",
       "                        <td id=\"T_3fab44e8_da02_11ec_87bf_d4d252ee7ca2row13_col7\" class=\"data row13 col7\" >Bombing/Explosion</td>\n",
       "            </tr>\n",
       "            <tr>\n",
       "                        <th id=\"T_3fab44e8_da02_11ec_87bf_d4d252ee7ca2level0_row14\" class=\"row_heading level0 row14\" >14</th>\n",
       "                        <td id=\"T_3fab44e8_da02_11ec_87bf_d4d252ee7ca2row14_col0\" class=\"data row14 col0\" >2001</td>\n",
       "                        <td id=\"T_3fab44e8_da02_11ec_87bf_d4d252ee7ca2row14_col1\" class=\"data row14 col1\" >70</td>\n",
       "                        <td id=\"T_3fab44e8_da02_11ec_87bf_d4d252ee7ca2row14_col2\" class=\"data row14 col2\" >870</td>\n",
       "                        <td id=\"T_3fab44e8_da02_11ec_87bf_d4d252ee7ca2row14_col3\" class=\"data row14 col3\" >135</td>\n",
       "                        <td id=\"T_3fab44e8_da02_11ec_87bf_d4d252ee7ca2row14_col4\" class=\"data row14 col4\" >1005</td>\n",
       "                        <td id=\"T_3fab44e8_da02_11ec_87bf_d4d252ee7ca2row14_col5\" class=\"data row14 col5\" >24</td>\n",
       "                        <td id=\"T_3fab44e8_da02_11ec_87bf_d4d252ee7ca2row14_col6\" class=\"data row14 col6\" >53</td>\n",
       "                        <td id=\"T_3fab44e8_da02_11ec_87bf_d4d252ee7ca2row14_col7\" class=\"data row14 col7\" >Bombing/Explosion</td>\n",
       "            </tr>\n",
       "            <tr>\n",
       "                        <th id=\"T_3fab44e8_da02_11ec_87bf_d4d252ee7ca2level0_row15\" class=\"row_heading level0 row15\" >15</th>\n",
       "                        <td id=\"T_3fab44e8_da02_11ec_87bf_d4d252ee7ca2row15_col0\" class=\"data row15 col0\" >2002</td>\n",
       "                        <td id=\"T_3fab44e8_da02_11ec_87bf_d4d252ee7ca2row15_col1\" class=\"data row15 col1\" >71</td>\n",
       "                        <td id=\"T_3fab44e8_da02_11ec_87bf_d4d252ee7ca2row15_col2\" class=\"data row15 col2\" >1438</td>\n",
       "                        <td id=\"T_3fab44e8_da02_11ec_87bf_d4d252ee7ca2row15_col3\" class=\"data row15 col3\" >326</td>\n",
       "                        <td id=\"T_3fab44e8_da02_11ec_87bf_d4d252ee7ca2row15_col4\" class=\"data row15 col4\" >1764</td>\n",
       "                        <td id=\"T_3fab44e8_da02_11ec_87bf_d4d252ee7ca2row15_col5\" class=\"data row15 col5\" >43</td>\n",
       "                        <td id=\"T_3fab44e8_da02_11ec_87bf_d4d252ee7ca2row15_col6\" class=\"data row15 col6\" >58</td>\n",
       "                        <td id=\"T_3fab44e8_da02_11ec_87bf_d4d252ee7ca2row15_col7\" class=\"data row15 col7\" >Bombing/Explosion</td>\n",
       "            </tr>\n",
       "            <tr>\n",
       "                        <th id=\"T_3fab44e8_da02_11ec_87bf_d4d252ee7ca2level0_row16\" class=\"row_heading level0 row16\" >16</th>\n",
       "                        <td id=\"T_3fab44e8_da02_11ec_87bf_d4d252ee7ca2row16_col0\" class=\"data row16 col0\" >2003</td>\n",
       "                        <td id=\"T_3fab44e8_da02_11ec_87bf_d4d252ee7ca2row16_col1\" class=\"data row16 col1\" >34</td>\n",
       "                        <td id=\"T_3fab44e8_da02_11ec_87bf_d4d252ee7ca2row16_col2\" class=\"data row16 col2\" >563</td>\n",
       "                        <td id=\"T_3fab44e8_da02_11ec_87bf_d4d252ee7ca2row16_col3\" class=\"data row16 col3\" >150</td>\n",
       "                        <td id=\"T_3fab44e8_da02_11ec_87bf_d4d252ee7ca2row16_col4\" class=\"data row16 col4\" >713</td>\n",
       "                        <td id=\"T_3fab44e8_da02_11ec_87bf_d4d252ee7ca2row16_col5\" class=\"data row16 col5\" >17</td>\n",
       "                        <td id=\"T_3fab44e8_da02_11ec_87bf_d4d252ee7ca2row16_col6\" class=\"data row16 col6\" >30</td>\n",
       "                        <td id=\"T_3fab44e8_da02_11ec_87bf_d4d252ee7ca2row16_col7\" class=\"data row16 col7\" >Bombing/Explosion</td>\n",
       "            </tr>\n",
       "            <tr>\n",
       "                        <th id=\"T_3fab44e8_da02_11ec_87bf_d4d252ee7ca2level0_row17\" class=\"row_heading level0 row17\" >17</th>\n",
       "                        <td id=\"T_3fab44e8_da02_11ec_87bf_d4d252ee7ca2row17_col0\" class=\"data row17 col0\" >2004</td>\n",
       "                        <td id=\"T_3fab44e8_da02_11ec_87bf_d4d252ee7ca2row17_col1\" class=\"data row17 col1\" >18</td>\n",
       "                        <td id=\"T_3fab44e8_da02_11ec_87bf_d4d252ee7ca2row17_col2\" class=\"data row17 col2\" >232</td>\n",
       "                        <td id=\"T_3fab44e8_da02_11ec_87bf_d4d252ee7ca2row17_col3\" class=\"data row17 col3\" >57</td>\n",
       "                        <td id=\"T_3fab44e8_da02_11ec_87bf_d4d252ee7ca2row17_col4\" class=\"data row17 col4\" >289</td>\n",
       "                        <td id=\"T_3fab44e8_da02_11ec_87bf_d4d252ee7ca2row17_col5\" class=\"data row17 col5\" >7</td>\n",
       "                        <td id=\"T_3fab44e8_da02_11ec_87bf_d4d252ee7ca2row17_col6\" class=\"data row17 col6\" >18</td>\n",
       "                        <td id=\"T_3fab44e8_da02_11ec_87bf_d4d252ee7ca2row17_col7\" class=\"data row17 col7\" >Bombing/Explosion</td>\n",
       "            </tr>\n",
       "            <tr>\n",
       "                        <th id=\"T_3fab44e8_da02_11ec_87bf_d4d252ee7ca2level0_row18\" class=\"row_heading level0 row18\" >18</th>\n",
       "                        <td id=\"T_3fab44e8_da02_11ec_87bf_d4d252ee7ca2row18_col0\" class=\"data row18 col0\" >2005</td>\n",
       "                        <td id=\"T_3fab44e8_da02_11ec_87bf_d4d252ee7ca2row18_col1\" class=\"data row18 col1\" >28</td>\n",
       "                        <td id=\"T_3fab44e8_da02_11ec_87bf_d4d252ee7ca2row18_col2\" class=\"data row18 col2\" >244</td>\n",
       "                        <td id=\"T_3fab44e8_da02_11ec_87bf_d4d252ee7ca2row18_col3\" class=\"data row18 col3\" >41</td>\n",
       "                        <td id=\"T_3fab44e8_da02_11ec_87bf_d4d252ee7ca2row18_col4\" class=\"data row18 col4\" >285</td>\n",
       "                        <td id=\"T_3fab44e8_da02_11ec_87bf_d4d252ee7ca2row18_col5\" class=\"data row18 col5\" >5</td>\n",
       "                        <td id=\"T_3fab44e8_da02_11ec_87bf_d4d252ee7ca2row18_col6\" class=\"data row18 col6\" >22</td>\n",
       "                        <td id=\"T_3fab44e8_da02_11ec_87bf_d4d252ee7ca2row18_col7\" class=\"data row18 col7\" >Bombing/Explosion</td>\n",
       "            </tr>\n",
       "            <tr>\n",
       "                        <th id=\"T_3fab44e8_da02_11ec_87bf_d4d252ee7ca2level0_row19\" class=\"row_heading level0 row19\" >19</th>\n",
       "                        <td id=\"T_3fab44e8_da02_11ec_87bf_d4d252ee7ca2row19_col0\" class=\"data row19 col0\" >2006</td>\n",
       "                        <td id=\"T_3fab44e8_da02_11ec_87bf_d4d252ee7ca2row19_col1\" class=\"data row19 col1\" >79</td>\n",
       "                        <td id=\"T_3fab44e8_da02_11ec_87bf_d4d252ee7ca2row19_col2\" class=\"data row19 col2\" >158</td>\n",
       "                        <td id=\"T_3fab44e8_da02_11ec_87bf_d4d252ee7ca2row19_col3\" class=\"data row19 col3\" >56</td>\n",
       "                        <td id=\"T_3fab44e8_da02_11ec_87bf_d4d252ee7ca2row19_col4\" class=\"data row19 col4\" >214</td>\n",
       "                        <td id=\"T_3fab44e8_da02_11ec_87bf_d4d252ee7ca2row19_col5\" class=\"data row19 col5\" >3</td>\n",
       "                        <td id=\"T_3fab44e8_da02_11ec_87bf_d4d252ee7ca2row19_col6\" class=\"data row19 col6\" >74</td>\n",
       "                        <td id=\"T_3fab44e8_da02_11ec_87bf_d4d252ee7ca2row19_col7\" class=\"data row19 col7\" >Bombing/Explosion</td>\n",
       "            </tr>\n",
       "            <tr>\n",
       "                        <th id=\"T_3fab44e8_da02_11ec_87bf_d4d252ee7ca2level0_row20\" class=\"row_heading level0 row20\" >20</th>\n",
       "                        <td id=\"T_3fab44e8_da02_11ec_87bf_d4d252ee7ca2row20_col0\" class=\"data row20 col0\" >2007</td>\n",
       "                        <td id=\"T_3fab44e8_da02_11ec_87bf_d4d252ee7ca2row20_col1\" class=\"data row20 col1\" >49</td>\n",
       "                        <td id=\"T_3fab44e8_da02_11ec_87bf_d4d252ee7ca2row20_col2\" class=\"data row20 col2\" >10</td>\n",
       "                        <td id=\"T_3fab44e8_da02_11ec_87bf_d4d252ee7ca2row20_col3\" class=\"data row20 col3\" >10</td>\n",
       "                        <td id=\"T_3fab44e8_da02_11ec_87bf_d4d252ee7ca2row20_col4\" class=\"data row20 col4\" >20</td>\n",
       "                        <td id=\"T_3fab44e8_da02_11ec_87bf_d4d252ee7ca2row20_col5\" class=\"data row20 col5\" >1</td>\n",
       "                        <td id=\"T_3fab44e8_da02_11ec_87bf_d4d252ee7ca2row20_col6\" class=\"data row20 col6\" >47</td>\n",
       "                        <td id=\"T_3fab44e8_da02_11ec_87bf_d4d252ee7ca2row20_col7\" class=\"data row20 col7\" >Bombing/Explosion</td>\n",
       "            </tr>\n",
       "            <tr>\n",
       "                        <th id=\"T_3fab44e8_da02_11ec_87bf_d4d252ee7ca2level0_row21\" class=\"row_heading level0 row21\" >21</th>\n",
       "                        <td id=\"T_3fab44e8_da02_11ec_87bf_d4d252ee7ca2row21_col0\" class=\"data row21 col0\" >2008</td>\n",
       "                        <td id=\"T_3fab44e8_da02_11ec_87bf_d4d252ee7ca2row21_col1\" class=\"data row21 col1\" >129</td>\n",
       "                        <td id=\"T_3fab44e8_da02_11ec_87bf_d4d252ee7ca2row21_col2\" class=\"data row21 col2\" >234</td>\n",
       "                        <td id=\"T_3fab44e8_da02_11ec_87bf_d4d252ee7ca2row21_col3\" class=\"data row21 col3\" >31</td>\n",
       "                        <td id=\"T_3fab44e8_da02_11ec_87bf_d4d252ee7ca2row21_col4\" class=\"data row21 col4\" >265</td>\n",
       "                        <td id=\"T_3fab44e8_da02_11ec_87bf_d4d252ee7ca2row21_col5\" class=\"data row21 col5\" >3</td>\n",
       "                        <td id=\"T_3fab44e8_da02_11ec_87bf_d4d252ee7ca2row21_col6\" class=\"data row21 col6\" >123</td>\n",
       "                        <td id=\"T_3fab44e8_da02_11ec_87bf_d4d252ee7ca2row21_col7\" class=\"data row21 col7\" >Bombing/Explosion</td>\n",
       "            </tr>\n",
       "            <tr>\n",
       "                        <th id=\"T_3fab44e8_da02_11ec_87bf_d4d252ee7ca2level0_row22\" class=\"row_heading level0 row22\" >22</th>\n",
       "                        <td id=\"T_3fab44e8_da02_11ec_87bf_d4d252ee7ca2row22_col0\" class=\"data row22 col0\" >2009</td>\n",
       "                        <td id=\"T_3fab44e8_da02_11ec_87bf_d4d252ee7ca2row22_col1\" class=\"data row22 col1\" >36</td>\n",
       "                        <td id=\"T_3fab44e8_da02_11ec_87bf_d4d252ee7ca2row22_col2\" class=\"data row22 col2\" >40</td>\n",
       "                        <td id=\"T_3fab44e8_da02_11ec_87bf_d4d252ee7ca2row22_col3\" class=\"data row22 col3\" >1</td>\n",
       "                        <td id=\"T_3fab44e8_da02_11ec_87bf_d4d252ee7ca2row22_col4\" class=\"data row22 col4\" >41</td>\n",
       "                        <td id=\"T_3fab44e8_da02_11ec_87bf_d4d252ee7ca2row22_col5\" class=\"data row22 col5\" >0</td>\n",
       "                        <td id=\"T_3fab44e8_da02_11ec_87bf_d4d252ee7ca2row22_col6\" class=\"data row22 col6\" >35</td>\n",
       "                        <td id=\"T_3fab44e8_da02_11ec_87bf_d4d252ee7ca2row22_col7\" class=\"data row22 col7\" >Bombing/Explosion</td>\n",
       "            </tr>\n",
       "            <tr>\n",
       "                        <th id=\"T_3fab44e8_da02_11ec_87bf_d4d252ee7ca2level0_row23\" class=\"row_heading level0 row23\" >23</th>\n",
       "                        <td id=\"T_3fab44e8_da02_11ec_87bf_d4d252ee7ca2row23_col0\" class=\"data row23 col0\" >2010</td>\n",
       "                        <td id=\"T_3fab44e8_da02_11ec_87bf_d4d252ee7ca2row23_col1\" class=\"data row23 col1\" >14</td>\n",
       "                        <td id=\"T_3fab44e8_da02_11ec_87bf_d4d252ee7ca2row23_col2\" class=\"data row23 col2\" >17</td>\n",
       "                        <td id=\"T_3fab44e8_da02_11ec_87bf_d4d252ee7ca2row23_col3\" class=\"data row23 col3\" >4</td>\n",
       "                        <td id=\"T_3fab44e8_da02_11ec_87bf_d4d252ee7ca2row23_col4\" class=\"data row23 col4\" >21</td>\n",
       "                        <td id=\"T_3fab44e8_da02_11ec_87bf_d4d252ee7ca2row23_col5\" class=\"data row23 col5\" >1</td>\n",
       "                        <td id=\"T_3fab44e8_da02_11ec_87bf_d4d252ee7ca2row23_col6\" class=\"data row23 col6\" >14</td>\n",
       "                        <td id=\"T_3fab44e8_da02_11ec_87bf_d4d252ee7ca2row23_col7\" class=\"data row23 col7\" >Bombing/Explosion</td>\n",
       "            </tr>\n",
       "            <tr>\n",
       "                        <th id=\"T_3fab44e8_da02_11ec_87bf_d4d252ee7ca2level0_row24\" class=\"row_heading level0 row24\" >24</th>\n",
       "                        <td id=\"T_3fab44e8_da02_11ec_87bf_d4d252ee7ca2row24_col0\" class=\"data row24 col0\" >2011</td>\n",
       "                        <td id=\"T_3fab44e8_da02_11ec_87bf_d4d252ee7ca2row24_col1\" class=\"data row24 col1\" >51</td>\n",
       "                        <td id=\"T_3fab44e8_da02_11ec_87bf_d4d252ee7ca2row24_col2\" class=\"data row24 col2\" >77</td>\n",
       "                        <td id=\"T_3fab44e8_da02_11ec_87bf_d4d252ee7ca2row24_col3\" class=\"data row24 col3\" >21</td>\n",
       "                        <td id=\"T_3fab44e8_da02_11ec_87bf_d4d252ee7ca2row24_col4\" class=\"data row24 col4\" >98</td>\n",
       "                        <td id=\"T_3fab44e8_da02_11ec_87bf_d4d252ee7ca2row24_col5\" class=\"data row24 col5\" >1</td>\n",
       "                        <td id=\"T_3fab44e8_da02_11ec_87bf_d4d252ee7ca2row24_col6\" class=\"data row24 col6\" >47</td>\n",
       "                        <td id=\"T_3fab44e8_da02_11ec_87bf_d4d252ee7ca2row24_col7\" class=\"data row24 col7\" >Bombing/Explosion</td>\n",
       "            </tr>\n",
       "            <tr>\n",
       "                        <th id=\"T_3fab44e8_da02_11ec_87bf_d4d252ee7ca2level0_row25\" class=\"row_heading level0 row25\" >25</th>\n",
       "                        <td id=\"T_3fab44e8_da02_11ec_87bf_d4d252ee7ca2row25_col0\" class=\"data row25 col0\" >2012</td>\n",
       "                        <td id=\"T_3fab44e8_da02_11ec_87bf_d4d252ee7ca2row25_col1\" class=\"data row25 col1\" >59</td>\n",
       "                        <td id=\"T_3fab44e8_da02_11ec_87bf_d4d252ee7ca2row25_col2\" class=\"data row25 col2\" >89</td>\n",
       "                        <td id=\"T_3fab44e8_da02_11ec_87bf_d4d252ee7ca2row25_col3\" class=\"data row25 col3\" >14</td>\n",
       "                        <td id=\"T_3fab44e8_da02_11ec_87bf_d4d252ee7ca2row25_col4\" class=\"data row25 col4\" >103</td>\n",
       "                        <td id=\"T_3fab44e8_da02_11ec_87bf_d4d252ee7ca2row25_col5\" class=\"data row25 col5\" >1</td>\n",
       "                        <td id=\"T_3fab44e8_da02_11ec_87bf_d4d252ee7ca2row25_col6\" class=\"data row25 col6\" >55</td>\n",
       "                        <td id=\"T_3fab44e8_da02_11ec_87bf_d4d252ee7ca2row25_col7\" class=\"data row25 col7\" >Bombing/Explosion</td>\n",
       "            </tr>\n",
       "            <tr>\n",
       "                        <th id=\"T_3fab44e8_da02_11ec_87bf_d4d252ee7ca2level0_row26\" class=\"row_heading level0 row26\" >26</th>\n",
       "                        <td id=\"T_3fab44e8_da02_11ec_87bf_d4d252ee7ca2row26_col0\" class=\"data row26 col0\" >2013</td>\n",
       "                        <td id=\"T_3fab44e8_da02_11ec_87bf_d4d252ee7ca2row26_col1\" class=\"data row26 col1\" >37</td>\n",
       "                        <td id=\"T_3fab44e8_da02_11ec_87bf_d4d252ee7ca2row26_col2\" class=\"data row26 col2\" >8</td>\n",
       "                        <td id=\"T_3fab44e8_da02_11ec_87bf_d4d252ee7ca2row26_col3\" class=\"data row26 col3\" >2</td>\n",
       "                        <td id=\"T_3fab44e8_da02_11ec_87bf_d4d252ee7ca2row26_col4\" class=\"data row26 col4\" >10</td>\n",
       "                        <td id=\"T_3fab44e8_da02_11ec_87bf_d4d252ee7ca2row26_col5\" class=\"data row26 col5\" >0</td>\n",
       "                        <td id=\"T_3fab44e8_da02_11ec_87bf_d4d252ee7ca2row26_col6\" class=\"data row26 col6\" >26</td>\n",
       "                        <td id=\"T_3fab44e8_da02_11ec_87bf_d4d252ee7ca2row26_col7\" class=\"data row26 col7\" >Bombing/Explosion</td>\n",
       "            </tr>\n",
       "            <tr>\n",
       "                        <th id=\"T_3fab44e8_da02_11ec_87bf_d4d252ee7ca2level0_row27\" class=\"row_heading level0 row27\" >27</th>\n",
       "                        <td id=\"T_3fab44e8_da02_11ec_87bf_d4d252ee7ca2row27_col0\" class=\"data row27 col0\" >2014</td>\n",
       "                        <td id=\"T_3fab44e8_da02_11ec_87bf_d4d252ee7ca2row27_col1\" class=\"data row27 col1\" >293</td>\n",
       "                        <td id=\"T_3fab44e8_da02_11ec_87bf_d4d252ee7ca2row27_col2\" class=\"data row27 col2\" >152</td>\n",
       "                        <td id=\"T_3fab44e8_da02_11ec_87bf_d4d252ee7ca2row27_col3\" class=\"data row27 col3\" >49</td>\n",
       "                        <td id=\"T_3fab44e8_da02_11ec_87bf_d4d252ee7ca2row27_col4\" class=\"data row27 col4\" >201</td>\n",
       "                        <td id=\"T_3fab44e8_da02_11ec_87bf_d4d252ee7ca2row27_col5\" class=\"data row27 col5\" >0</td>\n",
       "                        <td id=\"T_3fab44e8_da02_11ec_87bf_d4d252ee7ca2row27_col6\" class=\"data row27 col6\" >270</td>\n",
       "                        <td id=\"T_3fab44e8_da02_11ec_87bf_d4d252ee7ca2row27_col7\" class=\"data row27 col7\" >Bombing/Explosion</td>\n",
       "            </tr>\n",
       "            <tr>\n",
       "                        <th id=\"T_3fab44e8_da02_11ec_87bf_d4d252ee7ca2level0_row28\" class=\"row_heading level0 row28\" >28</th>\n",
       "                        <td id=\"T_3fab44e8_da02_11ec_87bf_d4d252ee7ca2row28_col0\" class=\"data row28 col0\" >2015</td>\n",
       "                        <td id=\"T_3fab44e8_da02_11ec_87bf_d4d252ee7ca2row28_col1\" class=\"data row28 col1\" >58</td>\n",
       "                        <td id=\"T_3fab44e8_da02_11ec_87bf_d4d252ee7ca2row28_col2\" class=\"data row28 col2\" >118</td>\n",
       "                        <td id=\"T_3fab44e8_da02_11ec_87bf_d4d252ee7ca2row28_col3\" class=\"data row28 col3\" >20</td>\n",
       "                        <td id=\"T_3fab44e8_da02_11ec_87bf_d4d252ee7ca2row28_col4\" class=\"data row28 col4\" >138</td>\n",
       "                        <td id=\"T_3fab44e8_da02_11ec_87bf_d4d252ee7ca2row28_col5\" class=\"data row28 col5\" >0</td>\n",
       "                        <td id=\"T_3fab44e8_da02_11ec_87bf_d4d252ee7ca2row28_col6\" class=\"data row28 col6\" >35</td>\n",
       "                        <td id=\"T_3fab44e8_da02_11ec_87bf_d4d252ee7ca2row28_col7\" class=\"data row28 col7\" >Armed Assault</td>\n",
       "            </tr>\n",
       "            <tr>\n",
       "                        <th id=\"T_3fab44e8_da02_11ec_87bf_d4d252ee7ca2level0_row29\" class=\"row_heading level0 row29\" >29</th>\n",
       "                        <td id=\"T_3fab44e8_da02_11ec_87bf_d4d252ee7ca2row29_col0\" class=\"data row29 col0\" >2016</td>\n",
       "                        <td id=\"T_3fab44e8_da02_11ec_87bf_d4d252ee7ca2row29_col1\" class=\"data row29 col1\" >50</td>\n",
       "                        <td id=\"T_3fab44e8_da02_11ec_87bf_d4d252ee7ca2row29_col2\" class=\"data row29 col2\" >175</td>\n",
       "                        <td id=\"T_3fab44e8_da02_11ec_87bf_d4d252ee7ca2row29_col3\" class=\"data row29 col3\" >16</td>\n",
       "                        <td id=\"T_3fab44e8_da02_11ec_87bf_d4d252ee7ca2row29_col4\" class=\"data row29 col4\" >191</td>\n",
       "                        <td id=\"T_3fab44e8_da02_11ec_87bf_d4d252ee7ca2row29_col5\" class=\"data row29 col5\" >1</td>\n",
       "                        <td id=\"T_3fab44e8_da02_11ec_87bf_d4d252ee7ca2row29_col6\" class=\"data row29 col6\" >24</td>\n",
       "                        <td id=\"T_3fab44e8_da02_11ec_87bf_d4d252ee7ca2row29_col7\" class=\"data row29 col7\" >Armed Assault</td>\n",
       "            </tr>\n",
       "            <tr>\n",
       "                        <th id=\"T_3fab44e8_da02_11ec_87bf_d4d252ee7ca2level0_row30\" class=\"row_heading level0 row30\" >30</th>\n",
       "                        <td id=\"T_3fab44e8_da02_11ec_87bf_d4d252ee7ca2row30_col0\" class=\"data row30 col0\" >2017</td>\n",
       "                        <td id=\"T_3fab44e8_da02_11ec_87bf_d4d252ee7ca2row30_col1\" class=\"data row30 col1\" >34</td>\n",
       "                        <td id=\"T_3fab44e8_da02_11ec_87bf_d4d252ee7ca2row30_col2\" class=\"data row30 col2\" >16</td>\n",
       "                        <td id=\"T_3fab44e8_da02_11ec_87bf_d4d252ee7ca2row30_col3\" class=\"data row30 col3\" >4</td>\n",
       "                        <td id=\"T_3fab44e8_da02_11ec_87bf_d4d252ee7ca2row30_col4\" class=\"data row30 col4\" >20</td>\n",
       "                        <td id=\"T_3fab44e8_da02_11ec_87bf_d4d252ee7ca2row30_col5\" class=\"data row30 col5\" >0</td>\n",
       "                        <td id=\"T_3fab44e8_da02_11ec_87bf_d4d252ee7ca2row30_col6\" class=\"data row30 col6\" >17</td>\n",
       "                        <td id=\"T_3fab44e8_da02_11ec_87bf_d4d252ee7ca2row30_col7\" class=\"data row30 col7\" >Bombing/Explosion</td>\n",
       "            </tr>\n",
       "            <tr>\n",
       "                        <th id=\"T_3fab44e8_da02_11ec_87bf_d4d252ee7ca2level0_row31\" class=\"row_heading level0 row31\" >31</th>\n",
       "                        <td id=\"T_3fab44e8_da02_11ec_87bf_d4d252ee7ca2row31_col0\" class=\"data row31 col0\" >2018</td>\n",
       "                        <td id=\"T_3fab44e8_da02_11ec_87bf_d4d252ee7ca2row31_col1\" class=\"data row31 col1\" >63</td>\n",
       "                        <td id=\"T_3fab44e8_da02_11ec_87bf_d4d252ee7ca2row31_col2\" class=\"data row31 col2\" >46</td>\n",
       "                        <td id=\"T_3fab44e8_da02_11ec_87bf_d4d252ee7ca2row31_col3\" class=\"data row31 col3\" >9</td>\n",
       "                        <td id=\"T_3fab44e8_da02_11ec_87bf_d4d252ee7ca2row31_col4\" class=\"data row31 col4\" >55</td>\n",
       "                        <td id=\"T_3fab44e8_da02_11ec_87bf_d4d252ee7ca2row31_col5\" class=\"data row31 col5\" >0</td>\n",
       "                        <td id=\"T_3fab44e8_da02_11ec_87bf_d4d252ee7ca2row31_col6\" class=\"data row31 col6\" >40</td>\n",
       "                        <td id=\"T_3fab44e8_da02_11ec_87bf_d4d252ee7ca2row31_col7\" class=\"data row31 col7\" >Bombing/Explosion</td>\n",
       "            </tr>\n",
       "            <tr>\n",
       "                        <th id=\"T_3fab44e8_da02_11ec_87bf_d4d252ee7ca2level0_row32\" class=\"row_heading level0 row32\" >32</th>\n",
       "                        <td id=\"T_3fab44e8_da02_11ec_87bf_d4d252ee7ca2row32_col0\" class=\"data row32 col0\" >2019</td>\n",
       "                        <td id=\"T_3fab44e8_da02_11ec_87bf_d4d252ee7ca2row32_col1\" class=\"data row32 col1\" >65</td>\n",
       "                        <td id=\"T_3fab44e8_da02_11ec_87bf_d4d252ee7ca2row32_col2\" class=\"data row32 col2\" >35</td>\n",
       "                        <td id=\"T_3fab44e8_da02_11ec_87bf_d4d252ee7ca2row32_col3\" class=\"data row32 col3\" >9</td>\n",
       "                        <td id=\"T_3fab44e8_da02_11ec_87bf_d4d252ee7ca2row32_col4\" class=\"data row32 col4\" >44</td>\n",
       "                        <td id=\"T_3fab44e8_da02_11ec_87bf_d4d252ee7ca2row32_col5\" class=\"data row32 col5\" >0</td>\n",
       "                        <td id=\"T_3fab44e8_da02_11ec_87bf_d4d252ee7ca2row32_col6\" class=\"data row32 col6\" >53</td>\n",
       "                        <td id=\"T_3fab44e8_da02_11ec_87bf_d4d252ee7ca2row32_col7\" class=\"data row32 col7\" >Bombing/Explosion</td>\n",
       "            </tr>\n",
       "    </tbody></table>"
      ],
      "text/plain": [
       "<pandas.io.formats.style.Styler at 0x1f815779748>"
      ]
     },
     "execution_count": 43,
     "metadata": {},
     "output_type": "execute_result"
    }
   ],
   "source": [
    "df_years_israel_styler = df_years_israel.style.highlight_max(subset = df_years_israel.columns[1:-1], color = 'pink', axis = 0)\n",
    "df_years_israel_styler"
   ]
  },
  {
   "cell_type": "markdown",
   "id": "8c677b8c-9bc9-4050-babb-fd8930fdb08a",
   "metadata": {},
   "source": [
    "### <span style=\"color:purple\">From this table we can see clearly that the lethal years that we saw before are still \"performing\" a leading role.</span>\n",
    "##### <span style=\"color:purple\">* The outcomes of total injured, number of suicide and most common attack type.</span>"
   ]
  },
  {
   "cell_type": "markdown",
   "id": "f184cad1-7f70-48fb-be15-2bf5c06e4b6c",
   "metadata": {},
   "source": [
    "> ##### We have created a data frame of the **most common attack type** in Israel- <span style=\"color:red\">'Bombing/Explosion'</span> for **each year**.\n",
    "> ##### In this data frame we have found the <span style=\"color:red\">weight</span> of the **'Bombing/Explosion'** attack.\n",
    "> ###### * The weight assembled from **Bombing/Explosion injured** _devided by_ **total injured**."
   ]
  },
  {
   "cell_type": "code",
   "execution_count": 44,
   "id": "6a498d4c-fc13-4560-920b-df6d27942f77",
   "metadata": {},
   "outputs": [
    {
     "data": {
      "text/html": [
       "<style  type=\"text/css\" >\n",
       "#T_3fb3f182_da02_11ec_9bc5_d4d252ee7ca2row15_col2,#T_3fb3f182_da02_11ec_9bc5_d4d252ee7ca2row15_col3,#T_3fb3f182_da02_11ec_9bc5_d4d252ee7ca2row15_col4,#T_3fb3f182_da02_11ec_9bc5_d4d252ee7ca2row17_col5,#T_3fb3f182_da02_11ec_9bc5_d4d252ee7ca2row23_col5,#T_3fb3f182_da02_11ec_9bc5_d4d252ee7ca2row27_col1{\n",
       "            background-color:  pink;\n",
       "        }</style><table id=\"T_3fb3f182_da02_11ec_9bc5_d4d252ee7ca2\" ><thead>    <tr>        <th class=\"blank level0\" ></th>        <th class=\"col_heading level0 col0\" >year</th>        <th class=\"col_heading level0 col1\" >Bombing/Explosion occations</th>        <th class=\"col_heading level0 col2\" >is_suicide</th>        <th class=\"col_heading level0 col3\" >occation's injured</th>        <th class=\"col_heading level0 col4\" >total injured</th>        <th class=\"col_heading level0 col5\" >weight Bombing/Explosion</th>    </tr></thead><tbody>\n",
       "                <tr>\n",
       "                        <th id=\"T_3fb3f182_da02_11ec_9bc5_d4d252ee7ca2level0_row0\" class=\"row_heading level0 row0\" >0</th>\n",
       "                        <td id=\"T_3fb3f182_da02_11ec_9bc5_d4d252ee7ca2row0_col0\" class=\"data row0 col0\" >1986</td>\n",
       "                        <td id=\"T_3fb3f182_da02_11ec_9bc5_d4d252ee7ca2row0_col1\" class=\"data row0 col1\" >35</td>\n",
       "                        <td id=\"T_3fb3f182_da02_11ec_9bc5_d4d252ee7ca2row0_col2\" class=\"data row0 col2\" >0</td>\n",
       "                        <td id=\"T_3fb3f182_da02_11ec_9bc5_d4d252ee7ca2row0_col3\" class=\"data row0 col3\" >129</td>\n",
       "                        <td id=\"T_3fb3f182_da02_11ec_9bc5_d4d252ee7ca2row0_col4\" class=\"data row0 col4\" >152</td>\n",
       "                        <td id=\"T_3fb3f182_da02_11ec_9bc5_d4d252ee7ca2row0_col5\" class=\"data row0 col5\" >0.848684</td>\n",
       "            </tr>\n",
       "            <tr>\n",
       "                        <th id=\"T_3fb3f182_da02_11ec_9bc5_d4d252ee7ca2level0_row1\" class=\"row_heading level0 row1\" >1</th>\n",
       "                        <td id=\"T_3fb3f182_da02_11ec_9bc5_d4d252ee7ca2row1_col0\" class=\"data row1 col0\" >1987</td>\n",
       "                        <td id=\"T_3fb3f182_da02_11ec_9bc5_d4d252ee7ca2row1_col1\" class=\"data row1 col1\" >12</td>\n",
       "                        <td id=\"T_3fb3f182_da02_11ec_9bc5_d4d252ee7ca2row1_col2\" class=\"data row1 col2\" >0</td>\n",
       "                        <td id=\"T_3fb3f182_da02_11ec_9bc5_d4d252ee7ca2row1_col3\" class=\"data row1 col3\" >39</td>\n",
       "                        <td id=\"T_3fb3f182_da02_11ec_9bc5_d4d252ee7ca2row1_col4\" class=\"data row1 col4\" >56</td>\n",
       "                        <td id=\"T_3fb3f182_da02_11ec_9bc5_d4d252ee7ca2row1_col5\" class=\"data row1 col5\" >0.696429</td>\n",
       "            </tr>\n",
       "            <tr>\n",
       "                        <th id=\"T_3fb3f182_da02_11ec_9bc5_d4d252ee7ca2level0_row2\" class=\"row_heading level0 row2\" >2</th>\n",
       "                        <td id=\"T_3fb3f182_da02_11ec_9bc5_d4d252ee7ca2row2_col0\" class=\"data row2 col0\" >1988</td>\n",
       "                        <td id=\"T_3fb3f182_da02_11ec_9bc5_d4d252ee7ca2row2_col1\" class=\"data row2 col1\" >15</td>\n",
       "                        <td id=\"T_3fb3f182_da02_11ec_9bc5_d4d252ee7ca2row2_col2\" class=\"data row2 col2\" >0</td>\n",
       "                        <td id=\"T_3fb3f182_da02_11ec_9bc5_d4d252ee7ca2row2_col3\" class=\"data row2 col3\" >34</td>\n",
       "                        <td id=\"T_3fb3f182_da02_11ec_9bc5_d4d252ee7ca2row2_col4\" class=\"data row2 col4\" >55</td>\n",
       "                        <td id=\"T_3fb3f182_da02_11ec_9bc5_d4d252ee7ca2row2_col5\" class=\"data row2 col5\" >0.618182</td>\n",
       "            </tr>\n",
       "            <tr>\n",
       "                        <th id=\"T_3fb3f182_da02_11ec_9bc5_d4d252ee7ca2level0_row3\" class=\"row_heading level0 row3\" >3</th>\n",
       "                        <td id=\"T_3fb3f182_da02_11ec_9bc5_d4d252ee7ca2row3_col0\" class=\"data row3 col0\" >1989</td>\n",
       "                        <td id=\"T_3fb3f182_da02_11ec_9bc5_d4d252ee7ca2row3_col1\" class=\"data row3 col1\" >28</td>\n",
       "                        <td id=\"T_3fb3f182_da02_11ec_9bc5_d4d252ee7ca2row3_col2\" class=\"data row3 col2\" >0</td>\n",
       "                        <td id=\"T_3fb3f182_da02_11ec_9bc5_d4d252ee7ca2row3_col3\" class=\"data row3 col3\" >10</td>\n",
       "                        <td id=\"T_3fb3f182_da02_11ec_9bc5_d4d252ee7ca2row3_col4\" class=\"data row3 col4\" >106</td>\n",
       "                        <td id=\"T_3fb3f182_da02_11ec_9bc5_d4d252ee7ca2row3_col5\" class=\"data row3 col5\" >0.094340</td>\n",
       "            </tr>\n",
       "            <tr>\n",
       "                        <th id=\"T_3fb3f182_da02_11ec_9bc5_d4d252ee7ca2level0_row4\" class=\"row_heading level0 row4\" >4</th>\n",
       "                        <td id=\"T_3fb3f182_da02_11ec_9bc5_d4d252ee7ca2row4_col0\" class=\"data row4 col0\" >1990</td>\n",
       "                        <td id=\"T_3fb3f182_da02_11ec_9bc5_d4d252ee7ca2row4_col1\" class=\"data row4 col1\" >26</td>\n",
       "                        <td id=\"T_3fb3f182_da02_11ec_9bc5_d4d252ee7ca2row4_col2\" class=\"data row4 col2\" >0</td>\n",
       "                        <td id=\"T_3fb3f182_da02_11ec_9bc5_d4d252ee7ca2row4_col3\" class=\"data row4 col3\" >42</td>\n",
       "                        <td id=\"T_3fb3f182_da02_11ec_9bc5_d4d252ee7ca2row4_col4\" class=\"data row4 col4\" >229</td>\n",
       "                        <td id=\"T_3fb3f182_da02_11ec_9bc5_d4d252ee7ca2row4_col5\" class=\"data row4 col5\" >0.183406</td>\n",
       "            </tr>\n",
       "            <tr>\n",
       "                        <th id=\"T_3fb3f182_da02_11ec_9bc5_d4d252ee7ca2level0_row5\" class=\"row_heading level0 row5\" >5</th>\n",
       "                        <td id=\"T_3fb3f182_da02_11ec_9bc5_d4d252ee7ca2row5_col0\" class=\"data row5 col0\" >1991</td>\n",
       "                        <td id=\"T_3fb3f182_da02_11ec_9bc5_d4d252ee7ca2row5_col1\" class=\"data row5 col1\" >12</td>\n",
       "                        <td id=\"T_3fb3f182_da02_11ec_9bc5_d4d252ee7ca2row5_col2\" class=\"data row5 col2\" >0</td>\n",
       "                        <td id=\"T_3fb3f182_da02_11ec_9bc5_d4d252ee7ca2row5_col3\" class=\"data row5 col3\" >7</td>\n",
       "                        <td id=\"T_3fb3f182_da02_11ec_9bc5_d4d252ee7ca2row5_col4\" class=\"data row5 col4\" >58</td>\n",
       "                        <td id=\"T_3fb3f182_da02_11ec_9bc5_d4d252ee7ca2row5_col5\" class=\"data row5 col5\" >0.120690</td>\n",
       "            </tr>\n",
       "            <tr>\n",
       "                        <th id=\"T_3fb3f182_da02_11ec_9bc5_d4d252ee7ca2level0_row6\" class=\"row_heading level0 row6\" >6</th>\n",
       "                        <td id=\"T_3fb3f182_da02_11ec_9bc5_d4d252ee7ca2row6_col0\" class=\"data row6 col0\" >1992</td>\n",
       "                        <td id=\"T_3fb3f182_da02_11ec_9bc5_d4d252ee7ca2row6_col1\" class=\"data row6 col1\" >11</td>\n",
       "                        <td id=\"T_3fb3f182_da02_11ec_9bc5_d4d252ee7ca2row6_col2\" class=\"data row6 col2\" >0</td>\n",
       "                        <td id=\"T_3fb3f182_da02_11ec_9bc5_d4d252ee7ca2row6_col3\" class=\"data row6 col3\" >25</td>\n",
       "                        <td id=\"T_3fb3f182_da02_11ec_9bc5_d4d252ee7ca2row6_col4\" class=\"data row6 col4\" >108</td>\n",
       "                        <td id=\"T_3fb3f182_da02_11ec_9bc5_d4d252ee7ca2row6_col5\" class=\"data row6 col5\" >0.231481</td>\n",
       "            </tr>\n",
       "            <tr>\n",
       "                        <th id=\"T_3fb3f182_da02_11ec_9bc5_d4d252ee7ca2level0_row7\" class=\"row_heading level0 row7\" >7</th>\n",
       "                        <td id=\"T_3fb3f182_da02_11ec_9bc5_d4d252ee7ca2row7_col0\" class=\"data row7 col0\" >1994</td>\n",
       "                        <td id=\"T_3fb3f182_da02_11ec_9bc5_d4d252ee7ca2row7_col1\" class=\"data row7 col1\" >11</td>\n",
       "                        <td id=\"T_3fb3f182_da02_11ec_9bc5_d4d252ee7ca2row7_col2\" class=\"data row7 col2\" >4</td>\n",
       "                        <td id=\"T_3fb3f182_da02_11ec_9bc5_d4d252ee7ca2row7_col3\" class=\"data row7 col3\" >164</td>\n",
       "                        <td id=\"T_3fb3f182_da02_11ec_9bc5_d4d252ee7ca2row7_col4\" class=\"data row7 col4\" >223</td>\n",
       "                        <td id=\"T_3fb3f182_da02_11ec_9bc5_d4d252ee7ca2row7_col5\" class=\"data row7 col5\" >0.735426</td>\n",
       "            </tr>\n",
       "            <tr>\n",
       "                        <th id=\"T_3fb3f182_da02_11ec_9bc5_d4d252ee7ca2level0_row8\" class=\"row_heading level0 row8\" >8</th>\n",
       "                        <td id=\"T_3fb3f182_da02_11ec_9bc5_d4d252ee7ca2row8_col0\" class=\"data row8 col0\" >1995</td>\n",
       "                        <td id=\"T_3fb3f182_da02_11ec_9bc5_d4d252ee7ca2row8_col1\" class=\"data row8 col1\" >6</td>\n",
       "                        <td id=\"T_3fb3f182_da02_11ec_9bc5_d4d252ee7ca2row8_col2\" class=\"data row8 col2\" >2</td>\n",
       "                        <td id=\"T_3fb3f182_da02_11ec_9bc5_d4d252ee7ca2row8_col3\" class=\"data row8 col3\" >159</td>\n",
       "                        <td id=\"T_3fb3f182_da02_11ec_9bc5_d4d252ee7ca2row8_col4\" class=\"data row8 col4\" >164</td>\n",
       "                        <td id=\"T_3fb3f182_da02_11ec_9bc5_d4d252ee7ca2row8_col5\" class=\"data row8 col5\" >0.969512</td>\n",
       "            </tr>\n",
       "            <tr>\n",
       "                        <th id=\"T_3fb3f182_da02_11ec_9bc5_d4d252ee7ca2level0_row9\" class=\"row_heading level0 row9\" >9</th>\n",
       "                        <td id=\"T_3fb3f182_da02_11ec_9bc5_d4d252ee7ca2row9_col0\" class=\"data row9 col0\" >1996</td>\n",
       "                        <td id=\"T_3fb3f182_da02_11ec_9bc5_d4d252ee7ca2row9_col1\" class=\"data row9 col1\" >10</td>\n",
       "                        <td id=\"T_3fb3f182_da02_11ec_9bc5_d4d252ee7ca2row9_col2\" class=\"data row9 col2\" >5</td>\n",
       "                        <td id=\"T_3fb3f182_da02_11ec_9bc5_d4d252ee7ca2row9_col3\" class=\"data row9 col3\" >275</td>\n",
       "                        <td id=\"T_3fb3f182_da02_11ec_9bc5_d4d252ee7ca2row9_col4\" class=\"data row9 col4\" >294</td>\n",
       "                        <td id=\"T_3fb3f182_da02_11ec_9bc5_d4d252ee7ca2row9_col5\" class=\"data row9 col5\" >0.935374</td>\n",
       "            </tr>\n",
       "            <tr>\n",
       "                        <th id=\"T_3fb3f182_da02_11ec_9bc5_d4d252ee7ca2level0_row10\" class=\"row_heading level0 row10\" >10</th>\n",
       "                        <td id=\"T_3fb3f182_da02_11ec_9bc5_d4d252ee7ca2row10_col0\" class=\"data row10 col0\" >1997</td>\n",
       "                        <td id=\"T_3fb3f182_da02_11ec_9bc5_d4d252ee7ca2row10_col1\" class=\"data row10 col1\" >6</td>\n",
       "                        <td id=\"T_3fb3f182_da02_11ec_9bc5_d4d252ee7ca2row10_col2\" class=\"data row10 col2\" >2</td>\n",
       "                        <td id=\"T_3fb3f182_da02_11ec_9bc5_d4d252ee7ca2row10_col3\" class=\"data row10 col3\" >447</td>\n",
       "                        <td id=\"T_3fb3f182_da02_11ec_9bc5_d4d252ee7ca2row10_col4\" class=\"data row10 col4\" >479</td>\n",
       "                        <td id=\"T_3fb3f182_da02_11ec_9bc5_d4d252ee7ca2row10_col5\" class=\"data row10 col5\" >0.933194</td>\n",
       "            </tr>\n",
       "            <tr>\n",
       "                        <th id=\"T_3fb3f182_da02_11ec_9bc5_d4d252ee7ca2level0_row11\" class=\"row_heading level0 row11\" >11</th>\n",
       "                        <td id=\"T_3fb3f182_da02_11ec_9bc5_d4d252ee7ca2row11_col0\" class=\"data row11 col0\" >1998</td>\n",
       "                        <td id=\"T_3fb3f182_da02_11ec_9bc5_d4d252ee7ca2row11_col1\" class=\"data row11 col1\" >10</td>\n",
       "                        <td id=\"T_3fb3f182_da02_11ec_9bc5_d4d252ee7ca2row11_col2\" class=\"data row11 col2\" >1</td>\n",
       "                        <td id=\"T_3fb3f182_da02_11ec_9bc5_d4d252ee7ca2row11_col3\" class=\"data row11 col3\" >134</td>\n",
       "                        <td id=\"T_3fb3f182_da02_11ec_9bc5_d4d252ee7ca2row11_col4\" class=\"data row11 col4\" >137</td>\n",
       "                        <td id=\"T_3fb3f182_da02_11ec_9bc5_d4d252ee7ca2row11_col5\" class=\"data row11 col5\" >0.978102</td>\n",
       "            </tr>\n",
       "            <tr>\n",
       "                        <th id=\"T_3fb3f182_da02_11ec_9bc5_d4d252ee7ca2level0_row12\" class=\"row_heading level0 row12\" >12</th>\n",
       "                        <td id=\"T_3fb3f182_da02_11ec_9bc5_d4d252ee7ca2row12_col0\" class=\"data row12 col0\" >1999</td>\n",
       "                        <td id=\"T_3fb3f182_da02_11ec_9bc5_d4d252ee7ca2row12_col1\" class=\"data row12 col1\" >7</td>\n",
       "                        <td id=\"T_3fb3f182_da02_11ec_9bc5_d4d252ee7ca2row12_col2\" class=\"data row12 col2\" >2</td>\n",
       "                        <td id=\"T_3fb3f182_da02_11ec_9bc5_d4d252ee7ca2row12_col3\" class=\"data row12 col3\" >52</td>\n",
       "                        <td id=\"T_3fb3f182_da02_11ec_9bc5_d4d252ee7ca2row12_col4\" class=\"data row12 col4\" >59</td>\n",
       "                        <td id=\"T_3fb3f182_da02_11ec_9bc5_d4d252ee7ca2row12_col5\" class=\"data row12 col5\" >0.881356</td>\n",
       "            </tr>\n",
       "            <tr>\n",
       "                        <th id=\"T_3fb3f182_da02_11ec_9bc5_d4d252ee7ca2level0_row13\" class=\"row_heading level0 row13\" >13</th>\n",
       "                        <td id=\"T_3fb3f182_da02_11ec_9bc5_d4d252ee7ca2row13_col0\" class=\"data row13 col0\" >2000</td>\n",
       "                        <td id=\"T_3fb3f182_da02_11ec_9bc5_d4d252ee7ca2row13_col1\" class=\"data row13 col1\" >9</td>\n",
       "                        <td id=\"T_3fb3f182_da02_11ec_9bc5_d4d252ee7ca2row13_col2\" class=\"data row13 col2\" >0</td>\n",
       "                        <td id=\"T_3fb3f182_da02_11ec_9bc5_d4d252ee7ca2row13_col3\" class=\"data row13 col3\" >123</td>\n",
       "                        <td id=\"T_3fb3f182_da02_11ec_9bc5_d4d252ee7ca2row13_col4\" class=\"data row13 col4\" >129</td>\n",
       "                        <td id=\"T_3fb3f182_da02_11ec_9bc5_d4d252ee7ca2row13_col5\" class=\"data row13 col5\" >0.953488</td>\n",
       "            </tr>\n",
       "            <tr>\n",
       "                        <th id=\"T_3fb3f182_da02_11ec_9bc5_d4d252ee7ca2level0_row14\" class=\"row_heading level0 row14\" >14</th>\n",
       "                        <td id=\"T_3fb3f182_da02_11ec_9bc5_d4d252ee7ca2row14_col0\" class=\"data row14 col0\" >2001</td>\n",
       "                        <td id=\"T_3fb3f182_da02_11ec_9bc5_d4d252ee7ca2row14_col1\" class=\"data row14 col1\" >53</td>\n",
       "                        <td id=\"T_3fb3f182_da02_11ec_9bc5_d4d252ee7ca2row14_col2\" class=\"data row14 col2\" >24</td>\n",
       "                        <td id=\"T_3fb3f182_da02_11ec_9bc5_d4d252ee7ca2row14_col3\" class=\"data row14 col3\" >897</td>\n",
       "                        <td id=\"T_3fb3f182_da02_11ec_9bc5_d4d252ee7ca2row14_col4\" class=\"data row14 col4\" >1005</td>\n",
       "                        <td id=\"T_3fb3f182_da02_11ec_9bc5_d4d252ee7ca2row14_col5\" class=\"data row14 col5\" >0.892537</td>\n",
       "            </tr>\n",
       "            <tr>\n",
       "                        <th id=\"T_3fb3f182_da02_11ec_9bc5_d4d252ee7ca2level0_row15\" class=\"row_heading level0 row15\" >15</th>\n",
       "                        <td id=\"T_3fb3f182_da02_11ec_9bc5_d4d252ee7ca2row15_col0\" class=\"data row15 col0\" >2002</td>\n",
       "                        <td id=\"T_3fb3f182_da02_11ec_9bc5_d4d252ee7ca2row15_col1\" class=\"data row15 col1\" >58</td>\n",
       "                        <td id=\"T_3fb3f182_da02_11ec_9bc5_d4d252ee7ca2row15_col2\" class=\"data row15 col2\" >43</td>\n",
       "                        <td id=\"T_3fb3f182_da02_11ec_9bc5_d4d252ee7ca2row15_col3\" class=\"data row15 col3\" >1558</td>\n",
       "                        <td id=\"T_3fb3f182_da02_11ec_9bc5_d4d252ee7ca2row15_col4\" class=\"data row15 col4\" >1764</td>\n",
       "                        <td id=\"T_3fb3f182_da02_11ec_9bc5_d4d252ee7ca2row15_col5\" class=\"data row15 col5\" >0.883220</td>\n",
       "            </tr>\n",
       "            <tr>\n",
       "                        <th id=\"T_3fb3f182_da02_11ec_9bc5_d4d252ee7ca2level0_row16\" class=\"row_heading level0 row16\" >16</th>\n",
       "                        <td id=\"T_3fb3f182_da02_11ec_9bc5_d4d252ee7ca2row16_col0\" class=\"data row16 col0\" >2003</td>\n",
       "                        <td id=\"T_3fb3f182_da02_11ec_9bc5_d4d252ee7ca2row16_col1\" class=\"data row16 col1\" >30</td>\n",
       "                        <td id=\"T_3fb3f182_da02_11ec_9bc5_d4d252ee7ca2row16_col2\" class=\"data row16 col2\" >17</td>\n",
       "                        <td id=\"T_3fb3f182_da02_11ec_9bc5_d4d252ee7ca2row16_col3\" class=\"data row16 col3\" >699</td>\n",
       "                        <td id=\"T_3fb3f182_da02_11ec_9bc5_d4d252ee7ca2row16_col4\" class=\"data row16 col4\" >713</td>\n",
       "                        <td id=\"T_3fb3f182_da02_11ec_9bc5_d4d252ee7ca2row16_col5\" class=\"data row16 col5\" >0.980365</td>\n",
       "            </tr>\n",
       "            <tr>\n",
       "                        <th id=\"T_3fb3f182_da02_11ec_9bc5_d4d252ee7ca2level0_row17\" class=\"row_heading level0 row17\" >17</th>\n",
       "                        <td id=\"T_3fb3f182_da02_11ec_9bc5_d4d252ee7ca2row17_col0\" class=\"data row17 col0\" >2004</td>\n",
       "                        <td id=\"T_3fb3f182_da02_11ec_9bc5_d4d252ee7ca2row17_col1\" class=\"data row17 col1\" >18</td>\n",
       "                        <td id=\"T_3fb3f182_da02_11ec_9bc5_d4d252ee7ca2row17_col2\" class=\"data row17 col2\" >7</td>\n",
       "                        <td id=\"T_3fb3f182_da02_11ec_9bc5_d4d252ee7ca2row17_col3\" class=\"data row17 col3\" >289</td>\n",
       "                        <td id=\"T_3fb3f182_da02_11ec_9bc5_d4d252ee7ca2row17_col4\" class=\"data row17 col4\" >289</td>\n",
       "                        <td id=\"T_3fb3f182_da02_11ec_9bc5_d4d252ee7ca2row17_col5\" class=\"data row17 col5\" >1.000000</td>\n",
       "            </tr>\n",
       "            <tr>\n",
       "                        <th id=\"T_3fb3f182_da02_11ec_9bc5_d4d252ee7ca2level0_row18\" class=\"row_heading level0 row18\" >18</th>\n",
       "                        <td id=\"T_3fb3f182_da02_11ec_9bc5_d4d252ee7ca2row18_col0\" class=\"data row18 col0\" >2005</td>\n",
       "                        <td id=\"T_3fb3f182_da02_11ec_9bc5_d4d252ee7ca2row18_col1\" class=\"data row18 col1\" >22</td>\n",
       "                        <td id=\"T_3fb3f182_da02_11ec_9bc5_d4d252ee7ca2row18_col2\" class=\"data row18 col2\" >5</td>\n",
       "                        <td id=\"T_3fb3f182_da02_11ec_9bc5_d4d252ee7ca2row18_col3\" class=\"data row18 col3\" >249</td>\n",
       "                        <td id=\"T_3fb3f182_da02_11ec_9bc5_d4d252ee7ca2row18_col4\" class=\"data row18 col4\" >285</td>\n",
       "                        <td id=\"T_3fb3f182_da02_11ec_9bc5_d4d252ee7ca2row18_col5\" class=\"data row18 col5\" >0.873684</td>\n",
       "            </tr>\n",
       "            <tr>\n",
       "                        <th id=\"T_3fb3f182_da02_11ec_9bc5_d4d252ee7ca2level0_row19\" class=\"row_heading level0 row19\" >19</th>\n",
       "                        <td id=\"T_3fb3f182_da02_11ec_9bc5_d4d252ee7ca2row19_col0\" class=\"data row19 col0\" >2006</td>\n",
       "                        <td id=\"T_3fb3f182_da02_11ec_9bc5_d4d252ee7ca2row19_col1\" class=\"data row19 col1\" >74</td>\n",
       "                        <td id=\"T_3fb3f182_da02_11ec_9bc5_d4d252ee7ca2row19_col2\" class=\"data row19 col2\" >3</td>\n",
       "                        <td id=\"T_3fb3f182_da02_11ec_9bc5_d4d252ee7ca2row19_col3\" class=\"data row19 col3\" >191</td>\n",
       "                        <td id=\"T_3fb3f182_da02_11ec_9bc5_d4d252ee7ca2row19_col4\" class=\"data row19 col4\" >214</td>\n",
       "                        <td id=\"T_3fb3f182_da02_11ec_9bc5_d4d252ee7ca2row19_col5\" class=\"data row19 col5\" >0.892523</td>\n",
       "            </tr>\n",
       "            <tr>\n",
       "                        <th id=\"T_3fb3f182_da02_11ec_9bc5_d4d252ee7ca2level0_row20\" class=\"row_heading level0 row20\" >20</th>\n",
       "                        <td id=\"T_3fb3f182_da02_11ec_9bc5_d4d252ee7ca2row20_col0\" class=\"data row20 col0\" >2007</td>\n",
       "                        <td id=\"T_3fb3f182_da02_11ec_9bc5_d4d252ee7ca2row20_col1\" class=\"data row20 col1\" >47</td>\n",
       "                        <td id=\"T_3fb3f182_da02_11ec_9bc5_d4d252ee7ca2row20_col2\" class=\"data row20 col2\" >1</td>\n",
       "                        <td id=\"T_3fb3f182_da02_11ec_9bc5_d4d252ee7ca2row20_col3\" class=\"data row20 col3\" >16</td>\n",
       "                        <td id=\"T_3fb3f182_da02_11ec_9bc5_d4d252ee7ca2row20_col4\" class=\"data row20 col4\" >20</td>\n",
       "                        <td id=\"T_3fb3f182_da02_11ec_9bc5_d4d252ee7ca2row20_col5\" class=\"data row20 col5\" >0.800000</td>\n",
       "            </tr>\n",
       "            <tr>\n",
       "                        <th id=\"T_3fb3f182_da02_11ec_9bc5_d4d252ee7ca2level0_row21\" class=\"row_heading level0 row21\" >21</th>\n",
       "                        <td id=\"T_3fb3f182_da02_11ec_9bc5_d4d252ee7ca2row21_col0\" class=\"data row21 col0\" >2008</td>\n",
       "                        <td id=\"T_3fb3f182_da02_11ec_9bc5_d4d252ee7ca2row21_col1\" class=\"data row21 col1\" >123</td>\n",
       "                        <td id=\"T_3fb3f182_da02_11ec_9bc5_d4d252ee7ca2row21_col2\" class=\"data row21 col2\" >2</td>\n",
       "                        <td id=\"T_3fb3f182_da02_11ec_9bc5_d4d252ee7ca2row21_col3\" class=\"data row21 col3\" >188</td>\n",
       "                        <td id=\"T_3fb3f182_da02_11ec_9bc5_d4d252ee7ca2row21_col4\" class=\"data row21 col4\" >265</td>\n",
       "                        <td id=\"T_3fb3f182_da02_11ec_9bc5_d4d252ee7ca2row21_col5\" class=\"data row21 col5\" >0.709434</td>\n",
       "            </tr>\n",
       "            <tr>\n",
       "                        <th id=\"T_3fb3f182_da02_11ec_9bc5_d4d252ee7ca2level0_row22\" class=\"row_heading level0 row22\" >22</th>\n",
       "                        <td id=\"T_3fb3f182_da02_11ec_9bc5_d4d252ee7ca2row22_col0\" class=\"data row22 col0\" >2009</td>\n",
       "                        <td id=\"T_3fb3f182_da02_11ec_9bc5_d4d252ee7ca2row22_col1\" class=\"data row22 col1\" >35</td>\n",
       "                        <td id=\"T_3fb3f182_da02_11ec_9bc5_d4d252ee7ca2row22_col2\" class=\"data row22 col2\" >0</td>\n",
       "                        <td id=\"T_3fb3f182_da02_11ec_9bc5_d4d252ee7ca2row22_col3\" class=\"data row22 col3\" >38</td>\n",
       "                        <td id=\"T_3fb3f182_da02_11ec_9bc5_d4d252ee7ca2row22_col4\" class=\"data row22 col4\" >41</td>\n",
       "                        <td id=\"T_3fb3f182_da02_11ec_9bc5_d4d252ee7ca2row22_col5\" class=\"data row22 col5\" >0.926829</td>\n",
       "            </tr>\n",
       "            <tr>\n",
       "                        <th id=\"T_3fb3f182_da02_11ec_9bc5_d4d252ee7ca2level0_row23\" class=\"row_heading level0 row23\" >23</th>\n",
       "                        <td id=\"T_3fb3f182_da02_11ec_9bc5_d4d252ee7ca2row23_col0\" class=\"data row23 col0\" >2010</td>\n",
       "                        <td id=\"T_3fb3f182_da02_11ec_9bc5_d4d252ee7ca2row23_col1\" class=\"data row23 col1\" >14</td>\n",
       "                        <td id=\"T_3fb3f182_da02_11ec_9bc5_d4d252ee7ca2row23_col2\" class=\"data row23 col2\" >1</td>\n",
       "                        <td id=\"T_3fb3f182_da02_11ec_9bc5_d4d252ee7ca2row23_col3\" class=\"data row23 col3\" >21</td>\n",
       "                        <td id=\"T_3fb3f182_da02_11ec_9bc5_d4d252ee7ca2row23_col4\" class=\"data row23 col4\" >21</td>\n",
       "                        <td id=\"T_3fb3f182_da02_11ec_9bc5_d4d252ee7ca2row23_col5\" class=\"data row23 col5\" >1.000000</td>\n",
       "            </tr>\n",
       "            <tr>\n",
       "                        <th id=\"T_3fb3f182_da02_11ec_9bc5_d4d252ee7ca2level0_row24\" class=\"row_heading level0 row24\" >24</th>\n",
       "                        <td id=\"T_3fb3f182_da02_11ec_9bc5_d4d252ee7ca2row24_col0\" class=\"data row24 col0\" >2011</td>\n",
       "                        <td id=\"T_3fb3f182_da02_11ec_9bc5_d4d252ee7ca2row24_col1\" class=\"data row24 col1\" >47</td>\n",
       "                        <td id=\"T_3fb3f182_da02_11ec_9bc5_d4d252ee7ca2row24_col2\" class=\"data row24 col2\" >1</td>\n",
       "                        <td id=\"T_3fb3f182_da02_11ec_9bc5_d4d252ee7ca2row24_col3\" class=\"data row24 col3\" >78</td>\n",
       "                        <td id=\"T_3fb3f182_da02_11ec_9bc5_d4d252ee7ca2row24_col4\" class=\"data row24 col4\" >98</td>\n",
       "                        <td id=\"T_3fb3f182_da02_11ec_9bc5_d4d252ee7ca2row24_col5\" class=\"data row24 col5\" >0.795918</td>\n",
       "            </tr>\n",
       "            <tr>\n",
       "                        <th id=\"T_3fb3f182_da02_11ec_9bc5_d4d252ee7ca2level0_row25\" class=\"row_heading level0 row25\" >25</th>\n",
       "                        <td id=\"T_3fb3f182_da02_11ec_9bc5_d4d252ee7ca2row25_col0\" class=\"data row25 col0\" >2012</td>\n",
       "                        <td id=\"T_3fb3f182_da02_11ec_9bc5_d4d252ee7ca2row25_col1\" class=\"data row25 col1\" >55</td>\n",
       "                        <td id=\"T_3fb3f182_da02_11ec_9bc5_d4d252ee7ca2row25_col2\" class=\"data row25 col2\" >1</td>\n",
       "                        <td id=\"T_3fb3f182_da02_11ec_9bc5_d4d252ee7ca2row25_col3\" class=\"data row25 col3\" >95</td>\n",
       "                        <td id=\"T_3fb3f182_da02_11ec_9bc5_d4d252ee7ca2row25_col4\" class=\"data row25 col4\" >103</td>\n",
       "                        <td id=\"T_3fb3f182_da02_11ec_9bc5_d4d252ee7ca2row25_col5\" class=\"data row25 col5\" >0.922330</td>\n",
       "            </tr>\n",
       "            <tr>\n",
       "                        <th id=\"T_3fb3f182_da02_11ec_9bc5_d4d252ee7ca2level0_row26\" class=\"row_heading level0 row26\" >26</th>\n",
       "                        <td id=\"T_3fb3f182_da02_11ec_9bc5_d4d252ee7ca2row26_col0\" class=\"data row26 col0\" >2013</td>\n",
       "                        <td id=\"T_3fb3f182_da02_11ec_9bc5_d4d252ee7ca2row26_col1\" class=\"data row26 col1\" >26</td>\n",
       "                        <td id=\"T_3fb3f182_da02_11ec_9bc5_d4d252ee7ca2row26_col2\" class=\"data row26 col2\" >0</td>\n",
       "                        <td id=\"T_3fb3f182_da02_11ec_9bc5_d4d252ee7ca2row26_col3\" class=\"data row26 col3\" >6</td>\n",
       "                        <td id=\"T_3fb3f182_da02_11ec_9bc5_d4d252ee7ca2row26_col4\" class=\"data row26 col4\" >10</td>\n",
       "                        <td id=\"T_3fb3f182_da02_11ec_9bc5_d4d252ee7ca2row26_col5\" class=\"data row26 col5\" >0.600000</td>\n",
       "            </tr>\n",
       "            <tr>\n",
       "                        <th id=\"T_3fb3f182_da02_11ec_9bc5_d4d252ee7ca2level0_row27\" class=\"row_heading level0 row27\" >27</th>\n",
       "                        <td id=\"T_3fb3f182_da02_11ec_9bc5_d4d252ee7ca2row27_col0\" class=\"data row27 col0\" >2014</td>\n",
       "                        <td id=\"T_3fb3f182_da02_11ec_9bc5_d4d252ee7ca2row27_col1\" class=\"data row27 col1\" >270</td>\n",
       "                        <td id=\"T_3fb3f182_da02_11ec_9bc5_d4d252ee7ca2row27_col2\" class=\"data row27 col2\" >0</td>\n",
       "                        <td id=\"T_3fb3f182_da02_11ec_9bc5_d4d252ee7ca2row27_col3\" class=\"data row27 col3\" >134</td>\n",
       "                        <td id=\"T_3fb3f182_da02_11ec_9bc5_d4d252ee7ca2row27_col4\" class=\"data row27 col4\" >201</td>\n",
       "                        <td id=\"T_3fb3f182_da02_11ec_9bc5_d4d252ee7ca2row27_col5\" class=\"data row27 col5\" >0.666667</td>\n",
       "            </tr>\n",
       "            <tr>\n",
       "                        <th id=\"T_3fb3f182_da02_11ec_9bc5_d4d252ee7ca2level0_row28\" class=\"row_heading level0 row28\" >28</th>\n",
       "                        <td id=\"T_3fb3f182_da02_11ec_9bc5_d4d252ee7ca2row28_col0\" class=\"data row28 col0\" >2015</td>\n",
       "                        <td id=\"T_3fb3f182_da02_11ec_9bc5_d4d252ee7ca2row28_col1\" class=\"data row28 col1\" >14</td>\n",
       "                        <td id=\"T_3fb3f182_da02_11ec_9bc5_d4d252ee7ca2row28_col2\" class=\"data row28 col2\" >0</td>\n",
       "                        <td id=\"T_3fb3f182_da02_11ec_9bc5_d4d252ee7ca2row28_col3\" class=\"data row28 col3\" >16</td>\n",
       "                        <td id=\"T_3fb3f182_da02_11ec_9bc5_d4d252ee7ca2row28_col4\" class=\"data row28 col4\" >138</td>\n",
       "                        <td id=\"T_3fb3f182_da02_11ec_9bc5_d4d252ee7ca2row28_col5\" class=\"data row28 col5\" >0.115942</td>\n",
       "            </tr>\n",
       "            <tr>\n",
       "                        <th id=\"T_3fb3f182_da02_11ec_9bc5_d4d252ee7ca2level0_row29\" class=\"row_heading level0 row29\" >29</th>\n",
       "                        <td id=\"T_3fb3f182_da02_11ec_9bc5_d4d252ee7ca2row29_col0\" class=\"data row29 col0\" >2016</td>\n",
       "                        <td id=\"T_3fb3f182_da02_11ec_9bc5_d4d252ee7ca2row29_col1\" class=\"data row29 col1\" >16</td>\n",
       "                        <td id=\"T_3fb3f182_da02_11ec_9bc5_d4d252ee7ca2row29_col2\" class=\"data row29 col2\" >1</td>\n",
       "                        <td id=\"T_3fb3f182_da02_11ec_9bc5_d4d252ee7ca2row29_col3\" class=\"data row29 col3\" >22</td>\n",
       "                        <td id=\"T_3fb3f182_da02_11ec_9bc5_d4d252ee7ca2row29_col4\" class=\"data row29 col4\" >191</td>\n",
       "                        <td id=\"T_3fb3f182_da02_11ec_9bc5_d4d252ee7ca2row29_col5\" class=\"data row29 col5\" >0.115183</td>\n",
       "            </tr>\n",
       "            <tr>\n",
       "                        <th id=\"T_3fb3f182_da02_11ec_9bc5_d4d252ee7ca2level0_row30\" class=\"row_heading level0 row30\" >30</th>\n",
       "                        <td id=\"T_3fb3f182_da02_11ec_9bc5_d4d252ee7ca2row30_col0\" class=\"data row30 col0\" >2017</td>\n",
       "                        <td id=\"T_3fb3f182_da02_11ec_9bc5_d4d252ee7ca2row30_col1\" class=\"data row30 col1\" >17</td>\n",
       "                        <td id=\"T_3fb3f182_da02_11ec_9bc5_d4d252ee7ca2row30_col2\" class=\"data row30 col2\" >0</td>\n",
       "                        <td id=\"T_3fb3f182_da02_11ec_9bc5_d4d252ee7ca2row30_col3\" class=\"data row30 col3\" >0</td>\n",
       "                        <td id=\"T_3fb3f182_da02_11ec_9bc5_d4d252ee7ca2row30_col4\" class=\"data row30 col4\" >20</td>\n",
       "                        <td id=\"T_3fb3f182_da02_11ec_9bc5_d4d252ee7ca2row30_col5\" class=\"data row30 col5\" >0.000000</td>\n",
       "            </tr>\n",
       "            <tr>\n",
       "                        <th id=\"T_3fb3f182_da02_11ec_9bc5_d4d252ee7ca2level0_row31\" class=\"row_heading level0 row31\" >31</th>\n",
       "                        <td id=\"T_3fb3f182_da02_11ec_9bc5_d4d252ee7ca2row31_col0\" class=\"data row31 col0\" >2018</td>\n",
       "                        <td id=\"T_3fb3f182_da02_11ec_9bc5_d4d252ee7ca2row31_col1\" class=\"data row31 col1\" >40</td>\n",
       "                        <td id=\"T_3fb3f182_da02_11ec_9bc5_d4d252ee7ca2row31_col2\" class=\"data row31 col2\" >0</td>\n",
       "                        <td id=\"T_3fb3f182_da02_11ec_9bc5_d4d252ee7ca2row31_col3\" class=\"data row31 col3\" >34</td>\n",
       "                        <td id=\"T_3fb3f182_da02_11ec_9bc5_d4d252ee7ca2row31_col4\" class=\"data row31 col4\" >55</td>\n",
       "                        <td id=\"T_3fb3f182_da02_11ec_9bc5_d4d252ee7ca2row31_col5\" class=\"data row31 col5\" >0.618182</td>\n",
       "            </tr>\n",
       "            <tr>\n",
       "                        <th id=\"T_3fb3f182_da02_11ec_9bc5_d4d252ee7ca2level0_row32\" class=\"row_heading level0 row32\" >32</th>\n",
       "                        <td id=\"T_3fb3f182_da02_11ec_9bc5_d4d252ee7ca2row32_col0\" class=\"data row32 col0\" >2019</td>\n",
       "                        <td id=\"T_3fb3f182_da02_11ec_9bc5_d4d252ee7ca2row32_col1\" class=\"data row32 col1\" >53</td>\n",
       "                        <td id=\"T_3fb3f182_da02_11ec_9bc5_d4d252ee7ca2row32_col2\" class=\"data row32 col2\" >0</td>\n",
       "                        <td id=\"T_3fb3f182_da02_11ec_9bc5_d4d252ee7ca2row32_col3\" class=\"data row32 col3\" >24</td>\n",
       "                        <td id=\"T_3fb3f182_da02_11ec_9bc5_d4d252ee7ca2row32_col4\" class=\"data row32 col4\" >44</td>\n",
       "                        <td id=\"T_3fb3f182_da02_11ec_9bc5_d4d252ee7ca2row32_col5\" class=\"data row32 col5\" >0.545455</td>\n",
       "            </tr>\n",
       "    </tbody></table>"
      ],
      "text/plain": [
       "<pandas.io.formats.style.Styler at 0x1f815a0d550>"
      ]
     },
     "execution_count": 44,
     "metadata": {},
     "output_type": "execute_result"
    }
   ],
   "source": [
    "df_bombing_explosion = df_israel.loc[df_israel[\"attack_type\"] == 'Bombing/Explosion']\n",
    "df_years_bombing_explosion = df_bombing_explosion.groupby('year').agg({'index':'count', 'wounded':'sum', 'killed':'sum', 'is_suicide':'sum'}).reset_index().astype(int)\n",
    "df_years_bombing_explosion.rename(columns = {'index':'Bombing/Explosion occations'}, inplace = True)\n",
    "df_years_bombing_explosion['occation\\'s injured'] = df_years_bombing_explosion['wounded'] + df_years_bombing_explosion['killed']\n",
    "df_years_bombing_explosion.drop(['wounded', 'killed'], inplace = True, axis = 1)\n",
    "df_years_bombing_explosion['total injured'] = df_years_israel['total wounded & killed']\n",
    "df_years_bombing_explosion['weight Bombing/Explosion'] = df_years_bombing_explosion['occation\\'s injured'] / df_years_bombing_explosion['total injured']\n",
    "df_years_bombing_explosion_styler = df_years_bombing_explosion.style.highlight_max(subset = df_years_bombing_explosion.columns[1:], color = 'pink', axis = 0)\n",
    "df_years_bombing_explosion_styler"
   ]
  },
  {
   "cell_type": "markdown",
   "id": "413932f2-f5c7-42cc-bab6-62b6b7fb76be",
   "metadata": {},
   "source": [
    "### <span style=\"color:purple\">From this table we can see clearly that the weight of the **Bombing/Explosion** in Israel is **enormous**.</span>"
   ]
  },
  {
   "cell_type": "markdown",
   "id": "eb97ec9d-8a53-400f-b315-3bb89578fbfb",
   "metadata": {},
   "source": [
    "> ##### Let's see those finding visualicly by a <span style=\"color:red\">graph</span>:"
   ]
  },
  {
   "cell_type": "code",
   "execution_count": 45,
   "id": "085bf7d0-8a7b-4616-800a-bba65fb97a5a",
   "metadata": {},
   "outputs": [
    {
     "data": {
      "image/png": "[encoded data removed]",
      "text/plain": [
       "<Figure size 864x432 with 1 Axes>"
      ]
     },
     "metadata": {
      "needs_background": "light"
     },
     "output_type": "display_data"
    }
   ],
   "source": [
    "plt.figure(figsize=(12,6))\n",
    "ax = sns.lineplot(data = df_years_bombing_explosion, x = 'year', y = 'weight Bombing/Explosion')\n",
    "plt.title('Weight of injured from Bombing/Explosion occation by years:')\n",
    "plt.show()"
   ]
  },
  {
   "cell_type": "markdown",
   "id": "27759d5e-6b0b-43d1-a38a-4f1421b77497",
   "metadata": {},
   "source": [
    "***\n",
    "# <span style=\"color:green\">_Lethal Occations_</span>\n",
    "<img src=\"https://user-images.githubusercontent.com/103241195/169382338-4a6a27c1-19cd-4f3e-93a7-de66c011c8c1.png\" height=\"100px\" width=\"300px\">\n",
    "\n",
    "***"
   ]
  },
  {
   "cell_type": "markdown",
   "id": "311650d4-fe60-4d4d-954f-fafd037bde14",
   "metadata": {},
   "source": [
    "###### <span style=\"color:purple\">* All of those lethality finding made us very intrested...</span>\n",
    "### <span style=\"color:purple\">At last, we were intrested of the most lethal terror occations.</span>"
   ]
  },
  {
   "cell_type": "markdown",
   "id": "5299d3ef-941d-4058-956e-44f9b1eb1d74",
   "metadata": {},
   "source": [
    "### <span style=\"color:blue\">_Worldwide_</span>: \n",
    "<img src=\"https://user-images.githubusercontent.com/103241195/169509214-25fae14e-4877-49e8-a128-b9d95160a3a9.png\" height=\"50px\" width=\"50px\">"
   ]
  },
  {
   "cell_type": "markdown",
   "id": "88ac208f-779b-4f63-8579-2a8933edd8c6",
   "metadata": {},
   "source": [
    "##### <span style=\"color:dark\">**_Wounded_**</span>: "
   ]
  },
  {
   "cell_type": "markdown",
   "id": "50b6711f-5ef8-48ef-a9f9-9be624a61f91",
   "metadata": {},
   "source": [
    "> ##### We have found the biggest numbers of **worldwide** <span style=\"color:red\">wounded</span>:"
   ]
  },
  {
   "cell_type": "code",
   "execution_count": 46,
   "id": "97630a6f-5777-48d8-902d-f284d46a0bb3",
   "metadata": {},
   "outputs": [
    {
     "data": {
      "text/plain": [
       "10878.0"
      ]
     },
     "execution_count": 46,
     "metadata": {},
     "output_type": "execute_result"
    }
   ],
   "source": [
    "df['wounded'].max()"
   ]
  },
  {
   "cell_type": "markdown",
   "id": "771bdff3-aaca-4304-81bb-4cf1e1e64fff",
   "metadata": {},
   "source": [
    "> ##### Then, we have found the <span style=\"color:red\">matched</span> **worldwide** terror occation:"
   ]
  },
  {
   "cell_type": "code",
   "execution_count": 47,
   "id": "159f7a88-94b6-412a-b591-5286feaf0c22",
   "metadata": {},
   "outputs": [
    {
     "data": {
      "text/html": [
       "<div>\n",
       "<style scoped>\n",
       "    .dataframe tbody tr th:only-of-type {\n",
       "        vertical-align: middle;\n",
       "    }\n",
       "\n",
       "    .dataframe tbody tr th {\n",
       "        vertical-align: top;\n",
       "    }\n",
       "\n",
       "    .dataframe thead th {\n",
       "        text-align: right;\n",
       "    }\n",
       "</style>\n",
       "<table border=\"1\" class=\"dataframe\">\n",
       "  <thead>\n",
       "    <tr style=\"text-align: right;\">\n",
       "      <th></th>\n",
       "      <th>index</th>\n",
       "      <th>46149</th>\n",
       "    </tr>\n",
       "  </thead>\n",
       "  <tbody>\n",
       "    <tr>\n",
       "      <th>0</th>\n",
       "      <td>index</td>\n",
       "      <td>46150</td>\n",
       "    </tr>\n",
       "    <tr>\n",
       "      <th>1</th>\n",
       "      <td>year</td>\n",
       "      <td>2001</td>\n",
       "    </tr>\n",
       "    <tr>\n",
       "      <th>2</th>\n",
       "      <td>date</td>\n",
       "      <td>2001-11-09 00:00:00</td>\n",
       "    </tr>\n",
       "    <tr>\n",
       "      <th>3</th>\n",
       "      <td>country</td>\n",
       "      <td>United States</td>\n",
       "    </tr>\n",
       "    <tr>\n",
       "      <th>4</th>\n",
       "      <td>city</td>\n",
       "      <td>New York City</td>\n",
       "    </tr>\n",
       "    <tr>\n",
       "      <th>5</th>\n",
       "      <td>region</td>\n",
       "      <td>North America</td>\n",
       "    </tr>\n",
       "    <tr>\n",
       "      <th>6</th>\n",
       "      <td>is_suicide</td>\n",
       "      <td>1</td>\n",
       "    </tr>\n",
       "    <tr>\n",
       "      <th>7</th>\n",
       "      <td>attack_type</td>\n",
       "      <td>Hijacking</td>\n",
       "    </tr>\n",
       "    <tr>\n",
       "      <th>8</th>\n",
       "      <td>target_type</td>\n",
       "      <td>Private Citizens &amp; Property</td>\n",
       "    </tr>\n",
       "    <tr>\n",
       "      <th>9</th>\n",
       "      <td>target_subtype</td>\n",
       "      <td>Unnamed Civilian/Unspecified</td>\n",
       "    </tr>\n",
       "    <tr>\n",
       "      <th>10</th>\n",
       "      <td>motive</td>\n",
       "      <td>NaN</td>\n",
       "    </tr>\n",
       "    <tr>\n",
       "      <th>11</th>\n",
       "      <td>weapon_type</td>\n",
       "      <td>Vehicle (not to include vehicle-borne explosiv...</td>\n",
       "    </tr>\n",
       "    <tr>\n",
       "      <th>12</th>\n",
       "      <td>wounded</td>\n",
       "      <td>10878</td>\n",
       "    </tr>\n",
       "    <tr>\n",
       "      <th>13</th>\n",
       "      <td>killed</td>\n",
       "      <td>1385</td>\n",
       "    </tr>\n",
       "  </tbody>\n",
       "</table>\n",
       "</div>"
      ],
      "text/plain": [
       "             index                                              46149\n",
       "0            index                                              46150\n",
       "1             year                                               2001\n",
       "2             date                                2001-11-09 00:00:00\n",
       "3          country                                      United States\n",
       "4             city                                      New York City\n",
       "5           region                                      North America\n",
       "6       is_suicide                                                  1\n",
       "7      attack_type                                          Hijacking\n",
       "8      target_type                        Private Citizens & Property\n",
       "9   target_subtype                       Unnamed Civilian/Unspecified\n",
       "10          motive                                                NaN\n",
       "11     weapon_type  Vehicle (not to include vehicle-borne explosiv...\n",
       "12         wounded                                              10878\n",
       "13          killed                                               1385"
      ]
     },
     "execution_count": 47,
     "metadata": {},
     "output_type": "execute_result"
    }
   ],
   "source": [
    "max_wounded = df['wounded'].idxmax()\n",
    "df.iloc[max_wounded].reset_index()"
   ]
  },
  {
   "cell_type": "markdown",
   "id": "7c62db6d-8969-479e-b538-988f2e781adc",
   "metadata": {},
   "source": [
    "<img src=\"https://user-images.githubusercontent.com/103241195/169687608-12b2d04a-9c32-422f-bcc9-53a918cf1914.png\" height=\"100px\" width=\"300px\">"
   ]
  },
  {
   "cell_type": "markdown",
   "id": "96369c15-dab8-42b5-8b75-544dbf4f9119",
   "metadata": {},
   "source": [
    "##### The occation description:\n",
    "##### Nineteen terrorists hijacked four commercial airliners mid-flight. The hijackers successfully crashed the first two planes into the North and South Towers of the World Trade Center in New York City, and the third plane into the Pentagon in Arlington, Virginia. The fourth plane was intended to hit a federal government building[d] in Washington, D.C., but instead crashed down in a field.\n",
    "***"
   ]
  },
  {
   "cell_type": "markdown",
   "id": "69173bad-0d56-4452-b353-6cd749589292",
   "metadata": {},
   "source": [
    "##### <span style=\"color:dark\">**_Killed_**</span>: "
   ]
  },
  {
   "cell_type": "markdown",
   "id": "3d900d2d-515a-4451-aeb4-46e0a47e122d",
   "metadata": {},
   "source": [
    "> ##### We have found the biggest numbers of **worldwide** <span style=\"color:red\">killed</span>:"
   ]
  },
  {
   "cell_type": "code",
   "execution_count": 48,
   "id": "2c1575b4-7891-4e89-938e-51b78b9bec15",
   "metadata": {},
   "outputs": [
    {
     "data": {
      "text/plain": [
       "1570.0"
      ]
     },
     "execution_count": 48,
     "metadata": {},
     "output_type": "execute_result"
    }
   ],
   "source": [
    "df['killed'].max()"
   ]
  },
  {
   "cell_type": "markdown",
   "id": "5053cbb9-1189-4b64-acbf-f64a89263e88",
   "metadata": {},
   "source": [
    "> ##### Then, we have found the <span style=\"color:red\">matched</span> **worldwide** terror occation:"
   ]
  },
  {
   "cell_type": "code",
   "execution_count": 49,
   "id": "3bb064b7-7347-44ce-83e5-c556b4e720d0",
   "metadata": {},
   "outputs": [
    {
     "data": {
      "text/html": [
       "<div>\n",
       "<style scoped>\n",
       "    .dataframe tbody tr th:only-of-type {\n",
       "        vertical-align: middle;\n",
       "    }\n",
       "\n",
       "    .dataframe tbody tr th {\n",
       "        vertical-align: top;\n",
       "    }\n",
       "\n",
       "    .dataframe thead th {\n",
       "        text-align: right;\n",
       "    }\n",
       "</style>\n",
       "<table border=\"1\" class=\"dataframe\">\n",
       "  <thead>\n",
       "    <tr style=\"text-align: right;\">\n",
       "      <th></th>\n",
       "      <th>index</th>\n",
       "      <th>106559</th>\n",
       "    </tr>\n",
       "  </thead>\n",
       "  <tbody>\n",
       "    <tr>\n",
       "      <th>0</th>\n",
       "      <td>index</td>\n",
       "      <td>106560</td>\n",
       "    </tr>\n",
       "    <tr>\n",
       "      <th>1</th>\n",
       "      <td>year</td>\n",
       "      <td>2014</td>\n",
       "    </tr>\n",
       "    <tr>\n",
       "      <th>2</th>\n",
       "      <td>date</td>\n",
       "      <td>2014-12-06 00:00:00</td>\n",
       "    </tr>\n",
       "    <tr>\n",
       "      <th>3</th>\n",
       "      <td>country</td>\n",
       "      <td>Iraq</td>\n",
       "    </tr>\n",
       "    <tr>\n",
       "      <th>4</th>\n",
       "      <td>city</td>\n",
       "      <td>Tikrit</td>\n",
       "    </tr>\n",
       "    <tr>\n",
       "      <th>5</th>\n",
       "      <td>region</td>\n",
       "      <td>Middle East &amp; North Africa</td>\n",
       "    </tr>\n",
       "    <tr>\n",
       "      <th>6</th>\n",
       "      <td>is_suicide</td>\n",
       "      <td>0</td>\n",
       "    </tr>\n",
       "    <tr>\n",
       "      <th>7</th>\n",
       "      <td>attack_type</td>\n",
       "      <td>Hostage Taking (Kidnapping)</td>\n",
       "    </tr>\n",
       "    <tr>\n",
       "      <th>8</th>\n",
       "      <td>target_type</td>\n",
       "      <td>Military</td>\n",
       "    </tr>\n",
       "    <tr>\n",
       "      <th>9</th>\n",
       "      <td>target_subtype</td>\n",
       "      <td>Military Personnel (soldiers, troops, officers...</td>\n",
       "    </tr>\n",
       "    <tr>\n",
       "      <th>10</th>\n",
       "      <td>motive</td>\n",
       "      <td>The Islamic State of Iraq and the Levant (ISIL...</td>\n",
       "    </tr>\n",
       "    <tr>\n",
       "      <th>11</th>\n",
       "      <td>weapon_type</td>\n",
       "      <td>Firearms</td>\n",
       "    </tr>\n",
       "    <tr>\n",
       "      <th>12</th>\n",
       "      <td>wounded</td>\n",
       "      <td>NaN</td>\n",
       "    </tr>\n",
       "    <tr>\n",
       "      <th>13</th>\n",
       "      <td>killed</td>\n",
       "      <td>1570</td>\n",
       "    </tr>\n",
       "  </tbody>\n",
       "</table>\n",
       "</div>"
      ],
      "text/plain": [
       "             index                                             106559\n",
       "0            index                                             106560\n",
       "1             year                                               2014\n",
       "2             date                                2014-12-06 00:00:00\n",
       "3          country                                               Iraq\n",
       "4             city                                             Tikrit\n",
       "5           region                         Middle East & North Africa\n",
       "6       is_suicide                                                  0\n",
       "7      attack_type                        Hostage Taking (Kidnapping)\n",
       "8      target_type                                           Military\n",
       "9   target_subtype  Military Personnel (soldiers, troops, officers...\n",
       "10          motive  The Islamic State of Iraq and the Levant (ISIL...\n",
       "11     weapon_type                                           Firearms\n",
       "12         wounded                                                NaN\n",
       "13          killed                                               1570"
      ]
     },
     "execution_count": 49,
     "metadata": {},
     "output_type": "execute_result"
    }
   ],
   "source": [
    "max_killed = df['killed'].idxmax()\n",
    "df.iloc[max_killed].reset_index()"
   ]
  },
  {
   "cell_type": "markdown",
   "id": "de8ac1a5-a09c-4392-acbd-0c427c3c196c",
   "metadata": {},
   "source": [
    "<img src=\"https://user-images.githubusercontent.com/103241195/169687750-69b5ce9d-4471-407e-8fcf-719e7f84dd4f.png\" height=\"100px\" width=\"300px\">"
   ]
  },
  {
   "cell_type": "markdown",
   "id": "de16c2ab-2fc2-4f09-a956-26fca6deb73c",
   "metadata": {},
   "source": [
    "##### The occation description:\n",
    "##### The Camp Speicher massacre occurred when the Islamic State of Iraq and the Levant (ISIL) killed Iraqi people in an attack on Camp Speicher in Tikrit, Iraq. At the time of the massacre, there were between 5,000 and 10,000 unarmed cadets in the camp, and ISIL fighters selected the Shias and non-Muslims for execution. It is the second deadliest act of terrorism in history, only surpassed by the September 11 attacks.\n",
    "***"
   ]
  },
  {
   "cell_type": "markdown",
   "id": "82d60ff8-0147-4625-a70a-54c0a9ba8307",
   "metadata": {},
   "source": [
    "> ##### The occation's motive:"
   ]
  },
  {
   "cell_type": "code",
   "execution_count": 50,
   "id": "36f1860e-ae4d-4314-980f-b3c42248f464",
   "metadata": {},
   "outputs": [
    {
     "name": "stdout",
     "output_type": "stream",
     "text": [
      "The Islamic State of Iraq and the Levant (ISIL) claimed responsibility and stated that the attacks were in revenge for the killing of ISIL leader Abdul-Rahman al-Beilawy.\n"
     ]
    }
   ],
   "source": [
    "print(df.loc[max_killed, 'motive'])"
   ]
  },
  {
   "cell_type": "markdown",
   "id": "118b5d8e-234b-499d-a0c2-1a775d44ac2e",
   "metadata": {},
   "source": [
    "#####\n",
    "***"
   ]
  },
  {
   "cell_type": "markdown",
   "id": "e8755007-296d-4df8-abf9-ca08530b6194",
   "metadata": {},
   "source": [
    "### <span style=\"color:blue\">_Israel_</span>:\n",
    "<img src=\"https://user-images.githubusercontent.com/103241195/169508890-c97c6d08-f647-412b-89b7-a3a0de0ee991.png\" height=\"50px\" width=\"50px\">"
   ]
  },
  {
   "cell_type": "markdown",
   "id": "1f522725-02e1-49ea-9a65-adc97be0dca2",
   "metadata": {},
   "source": [
    "##### <span style=\"color:dark\">**_Wounded_**</span>: "
   ]
  },
  {
   "cell_type": "markdown",
   "id": "6be2e761-861e-48ad-9f5f-ffa41ad485e7",
   "metadata": {},
   "source": [
    "> ##### We have found the biggest numbers of **Israel** <span style=\"color:red\">wounded</span>:"
   ]
  },
  {
   "cell_type": "code",
   "execution_count": 51,
   "id": "71c40ef2-1776-4977-91b7-f09071bb8c03",
   "metadata": {},
   "outputs": [
    {
     "data": {
      "text/plain": [
       "192.0"
      ]
     },
     "execution_count": 51,
     "metadata": {},
     "output_type": "execute_result"
    }
   ],
   "source": [
    "df_israel['wounded'].max()"
   ]
  },
  {
   "cell_type": "markdown",
   "id": "bd5ee5a9-fda7-49f2-985e-7fe54a58027f",
   "metadata": {},
   "source": [
    "> ##### Then, we have found the <span style=\"color:red\">matched</span> **Israel** terror occation:"
   ]
  },
  {
   "cell_type": "code",
   "execution_count": 52,
   "id": "b0f5278b-0551-483d-943a-81bd806e10b7",
   "metadata": {},
   "outputs": [
    {
     "data": {
      "text/html": [
       "<div>\n",
       "<style scoped>\n",
       "    .dataframe tbody tr th:only-of-type {\n",
       "        vertical-align: middle;\n",
       "    }\n",
       "\n",
       "    .dataframe tbody tr th {\n",
       "        vertical-align: top;\n",
       "    }\n",
       "\n",
       "    .dataframe thead th {\n",
       "        text-align: right;\n",
       "    }\n",
       "</style>\n",
       "<table border=\"1\" class=\"dataframe\">\n",
       "  <thead>\n",
       "    <tr style=\"text-align: right;\">\n",
       "      <th></th>\n",
       "      <th>index</th>\n",
       "      <th>39521</th>\n",
       "    </tr>\n",
       "  </thead>\n",
       "  <tbody>\n",
       "    <tr>\n",
       "      <th>0</th>\n",
       "      <td>index</td>\n",
       "      <td>39522</td>\n",
       "    </tr>\n",
       "    <tr>\n",
       "      <th>1</th>\n",
       "      <td>year</td>\n",
       "      <td>1997</td>\n",
       "    </tr>\n",
       "    <tr>\n",
       "      <th>2</th>\n",
       "      <td>date</td>\n",
       "      <td>1997-04-09 00:00:00</td>\n",
       "    </tr>\n",
       "    <tr>\n",
       "      <th>3</th>\n",
       "      <td>country</td>\n",
       "      <td>Israel</td>\n",
       "    </tr>\n",
       "    <tr>\n",
       "      <th>4</th>\n",
       "      <td>city</td>\n",
       "      <td>Jerusalem</td>\n",
       "    </tr>\n",
       "    <tr>\n",
       "      <th>5</th>\n",
       "      <td>region</td>\n",
       "      <td>Middle East &amp; North Africa</td>\n",
       "    </tr>\n",
       "    <tr>\n",
       "      <th>6</th>\n",
       "      <td>is_suicide</td>\n",
       "      <td>1</td>\n",
       "    </tr>\n",
       "    <tr>\n",
       "      <th>7</th>\n",
       "      <td>attack_type</td>\n",
       "      <td>Bombing/Explosion</td>\n",
       "    </tr>\n",
       "    <tr>\n",
       "      <th>8</th>\n",
       "      <td>target_type</td>\n",
       "      <td>Private Citizens &amp; Property</td>\n",
       "    </tr>\n",
       "    <tr>\n",
       "      <th>9</th>\n",
       "      <td>target_subtype</td>\n",
       "      <td>Marketplace/Plaza/Square</td>\n",
       "    </tr>\n",
       "    <tr>\n",
       "      <th>10</th>\n",
       "      <td>motive</td>\n",
       "      <td>NaN</td>\n",
       "    </tr>\n",
       "    <tr>\n",
       "      <th>11</th>\n",
       "      <td>weapon_type</td>\n",
       "      <td>Explosives</td>\n",
       "    </tr>\n",
       "    <tr>\n",
       "      <th>12</th>\n",
       "      <td>wounded</td>\n",
       "      <td>192</td>\n",
       "    </tr>\n",
       "    <tr>\n",
       "      <th>13</th>\n",
       "      <td>killed</td>\n",
       "      <td>7</td>\n",
       "    </tr>\n",
       "  </tbody>\n",
       "</table>\n",
       "</div>"
      ],
      "text/plain": [
       "             index                        39521\n",
       "0            index                        39522\n",
       "1             year                         1997\n",
       "2             date          1997-04-09 00:00:00\n",
       "3          country                       Israel\n",
       "4             city                    Jerusalem\n",
       "5           region   Middle East & North Africa\n",
       "6       is_suicide                            1\n",
       "7      attack_type            Bombing/Explosion\n",
       "8      target_type  Private Citizens & Property\n",
       "9   target_subtype     Marketplace/Plaza/Square\n",
       "10          motive                          NaN\n",
       "11     weapon_type                   Explosives\n",
       "12         wounded                          192\n",
       "13          killed                            7"
      ]
     },
     "execution_count": 52,
     "metadata": {},
     "output_type": "execute_result"
    }
   ],
   "source": [
    "max_wounded_israel = df_israel['wounded'].idxmax()\n",
    "df.iloc[max_wounded_israel].reset_index()"
   ]
  },
  {
   "cell_type": "markdown",
   "id": "b3c14568-8ddb-41d9-8d23-ce8700a437ff",
   "metadata": {},
   "source": [
    "<img src=\"https://user-images.githubusercontent.com/103241195/169687846-be42c0d0-f4e9-4121-b76a-49bba560dbcd.png\" height=\"100px\" width=\"300px\">"
   ]
  },
  {
   "cell_type": "markdown",
   "id": "68d27510-b5a7-4ab7-98fa-95d58154fc78",
   "metadata": {
    "tags": []
   },
   "source": [
    "##### The occation description:\n",
    "##### Two palestinian terrorists entered to 'Machne Yehuda' market dressed-up as ultra-orthodox Jews. by a distance of 45 meters from each other they have bombed themselves with nail-laden bombs.\n",
    "***"
   ]
  },
  {
   "cell_type": "markdown",
   "id": "b517b5b9-857c-4e90-bdea-2e410540e2e6",
   "metadata": {},
   "source": [
    "##### <span style=\"color:dark\">**_Killed_**</span>: "
   ]
  },
  {
   "cell_type": "markdown",
   "id": "6ba589b4-4733-4cc5-8c09-a47830614118",
   "metadata": {},
   "source": [
    "> ##### We have found the biggest numbers of **worldwide** <span style=\"color:red\">killed</span>:"
   ]
  },
  {
   "cell_type": "code",
   "execution_count": 53,
   "id": "af2ad397-5bcc-4f0f-bfae-4df3e6d0ff6a",
   "metadata": {},
   "outputs": [
    {
     "data": {
      "text/plain": [
       "31.0"
      ]
     },
     "execution_count": 53,
     "metadata": {},
     "output_type": "execute_result"
    }
   ],
   "source": [
    "df_israel['killed'].max()"
   ]
  },
  {
   "cell_type": "markdown",
   "id": "98372d9c-1d90-4fe3-ace1-7d8c187049ea",
   "metadata": {},
   "source": [
    "> ##### Then, we have found the <span style=\"color:red\">matched</span> **Israel** terror occation:"
   ]
  },
  {
   "cell_type": "code",
   "execution_count": 54,
   "id": "d9f9425a-67df-47cd-9117-11bbaad1db4f",
   "metadata": {},
   "outputs": [
    {
     "data": {
      "text/html": [
       "<div>\n",
       "<style scoped>\n",
       "    .dataframe tbody tr th:only-of-type {\n",
       "        vertical-align: middle;\n",
       "    }\n",
       "\n",
       "    .dataframe tbody tr th {\n",
       "        vertical-align: top;\n",
       "    }\n",
       "\n",
       "    .dataframe thead th {\n",
       "        text-align: right;\n",
       "    }\n",
       "</style>\n",
       "<table border=\"1\" class=\"dataframe\">\n",
       "  <thead>\n",
       "    <tr style=\"text-align: right;\">\n",
       "      <th></th>\n",
       "      <th>index</th>\n",
       "      <th>46933</th>\n",
       "    </tr>\n",
       "  </thead>\n",
       "  <tbody>\n",
       "    <tr>\n",
       "      <th>0</th>\n",
       "      <td>index</td>\n",
       "      <td>46934</td>\n",
       "    </tr>\n",
       "    <tr>\n",
       "      <th>1</th>\n",
       "      <td>year</td>\n",
       "      <td>2002</td>\n",
       "    </tr>\n",
       "    <tr>\n",
       "      <th>2</th>\n",
       "      <td>date</td>\n",
       "      <td>2002-03-27 00:00:00</td>\n",
       "    </tr>\n",
       "    <tr>\n",
       "      <th>3</th>\n",
       "      <td>country</td>\n",
       "      <td>Israel</td>\n",
       "    </tr>\n",
       "    <tr>\n",
       "      <th>4</th>\n",
       "      <td>city</td>\n",
       "      <td>Netanya</td>\n",
       "    </tr>\n",
       "    <tr>\n",
       "      <th>5</th>\n",
       "      <td>region</td>\n",
       "      <td>Middle East &amp; North Africa</td>\n",
       "    </tr>\n",
       "    <tr>\n",
       "      <th>6</th>\n",
       "      <td>is_suicide</td>\n",
       "      <td>1</td>\n",
       "    </tr>\n",
       "    <tr>\n",
       "      <th>7</th>\n",
       "      <td>attack_type</td>\n",
       "      <td>Bombing/Explosion</td>\n",
       "    </tr>\n",
       "    <tr>\n",
       "      <th>8</th>\n",
       "      <td>target_type</td>\n",
       "      <td>Business</td>\n",
       "    </tr>\n",
       "    <tr>\n",
       "      <th>9</th>\n",
       "      <td>target_subtype</td>\n",
       "      <td>NaN</td>\n",
       "    </tr>\n",
       "    <tr>\n",
       "      <th>10</th>\n",
       "      <td>motive</td>\n",
       "      <td>Sheik Ahmed Yassin, the spiritual leader of HA...</td>\n",
       "    </tr>\n",
       "    <tr>\n",
       "      <th>11</th>\n",
       "      <td>weapon_type</td>\n",
       "      <td>Explosives</td>\n",
       "    </tr>\n",
       "    <tr>\n",
       "      <th>12</th>\n",
       "      <td>wounded</td>\n",
       "      <td>140</td>\n",
       "    </tr>\n",
       "    <tr>\n",
       "      <th>13</th>\n",
       "      <td>killed</td>\n",
       "      <td>31</td>\n",
       "    </tr>\n",
       "  </tbody>\n",
       "</table>\n",
       "</div>"
      ],
      "text/plain": [
       "             index                                              46933\n",
       "0            index                                              46934\n",
       "1             year                                               2002\n",
       "2             date                                2002-03-27 00:00:00\n",
       "3          country                                             Israel\n",
       "4             city                                            Netanya\n",
       "5           region                         Middle East & North Africa\n",
       "6       is_suicide                                                  1\n",
       "7      attack_type                                  Bombing/Explosion\n",
       "8      target_type                                           Business\n",
       "9   target_subtype                                                NaN\n",
       "10          motive  Sheik Ahmed Yassin, the spiritual leader of HA...\n",
       "11     weapon_type                                         Explosives\n",
       "12         wounded                                                140\n",
       "13          killed                                                 31"
      ]
     },
     "execution_count": 54,
     "metadata": {},
     "output_type": "execute_result"
    }
   ],
   "source": [
    "max_killed_israel = df_israel['killed'].idxmax()\n",
    "df.iloc[max_killed_israel].reset_index()"
   ]
  },
  {
   "cell_type": "markdown",
   "id": "71f5125b-551c-4175-90e3-c65ae16ac610",
   "metadata": {},
   "source": [
    "<img src=\"https://user-images.githubusercontent.com/103241195/169687868-c0595697-4a1a-47d7-a04d-b6c8960aaa9b.png\" height=\"80px\" width=\"200px\">"
   ]
  },
  {
   "cell_type": "markdown",
   "id": "52e5fe1b-4a61-462a-85f2-6417f7d3b1f0",
   "metadata": {},
   "source": [
    "##### The occation description:\n",
    "##### The Passover massacre was a suicide bombing carried out by Hamas at the Park Hotel in Netanya, during a Passover seder. It was the deadliest attack against Israelis during the Second Intifada."
   ]
  },
  {
   "cell_type": "markdown",
   "id": "0b7832a3-cda6-4428-90fe-a481f892adf4",
   "metadata": {},
   "source": [
    "> ##### The occation's motive:"
   ]
  },
  {
   "cell_type": "code",
   "execution_count": 55,
   "id": "881b0f17-8a2f-4a5f-b762-cb2a81c424e0",
   "metadata": {},
   "outputs": [
    {
     "name": "stdout",
     "output_type": "stream",
     "text": [
      "Sheik Ahmed Yassin, the spiritual leader of HAMAS, stated that the attack was intended to send a message to the Arab summit members that the group was resolute in its efforts to strike at Israel.\n"
     ]
    }
   ],
   "source": [
    "print(df.loc[max_killed_israel, 'motive'])"
   ]
  },
  {
   "cell_type": "markdown",
   "id": "3728f1c8-73f3-4eac-9454-a76bbcda1e0a",
   "metadata": {},
   "source": [
    "***\n",
    "# <span style=\"color:green\">_Conclusion_</span>\n",
    "<img src=\"https://user-images.githubusercontent.com/103241195/169384167-d0043398-03f3-4eef-8f08-de1645fc513f.png\" height=\"100px\" width=\"200px\">\n",
    "\n",
    "***"
   ]
  },
  {
   "cell_type": "markdown",
   "id": "5310872b-60e6-4d92-bc12-1966c80563cb",
   "metadata": {},
   "source": [
    "#### <span style=\"color:purple\">To summary up, we have found some conclusions:</span>\n",
    "#### <span style=\"color:purple\">1. The number of **terror occations in Israel** are having **big weight** of the worldwide terror occations!</span>\n",
    "#### <span style=\"color:purple\">2. The number of **suicide** terror occations in Israel are having **even bigger weight** of the worldwide findings!</span>\n",
    "#### <span style=\"color:purple\">3. There is **strong _worldwide_ correlations** between **number of occations-wounded** and **number of occations-killed**! (As opposed to Israel)</span>\n",
    "#### <span style=\"color:purple\">4. The **most common type attack** in Israel is **'Bombing/Explosion'**!</span>\n",
    "#### <span style=\"color:purple\">5. The **most lethal region** is **'Middle East & North Africa'** while **Israel** is having a **huge weight** on the number of occations in this region!</span>\n",
    "#### <span style=\"color:purple\">6.A.The **most lethal years** in Israel are **2002** (second Intifada) and **2014** (Zuk Eitan)!</span>\n",
    "#### <span style=\"color:purple\">6.B. Year **2002** is having **enormous weight** of the **total injured** in Israel!</span>\n",
    "#### <span style=\"color:purple\">6.C. Year **2014** is having **unbearable weight** of the **total occations number** in Israel!</span>\n",
    "## <span style=\"color:red\">7. The attack type- **'Bombing/Explosion'** is the main cause of the number of injured!</span>\n",
    "***"
   ]
  },
  {
   "cell_type": "markdown",
   "id": "dc83b112-bf9b-4862-b10b-34202ff34283",
   "metadata": {},
   "source": [
    "### <span style=\"color:blue\">We hope that our project will enhance the awarness on the terrorism- In the word in general and in Israel in particular.</span>\n",
    "### <span style=\"color:blue\">We hope that this project will lead to the minimum terror ocations- **0**, so we will may leave in peace and tranquility, and do not forget- We have a great country!</span>"
   ]
  },
  {
   "cell_type": "markdown",
   "id": "34cb6070-dfaf-470a-a7d8-4e6baffd3d14",
   "metadata": {},
   "source": [
    "![Alt Text](https://camo.githubusercontent.com/f87481b28e012a69dd2723713bb2bfe391ddb7da41fb22207bafa85d565a179f/68747470733a2f2f312e62702e626c6f6773706f742e636f6d2f2d47322d41764c68624343732f594466497272454a5033492f41414141414141413451342f66765f5866373737374538794e6a4867733441544b6a324b3768704742676e5f51434c63424741735948512f73302f466c61675f6f665f49737261656c2e676966)"
   ]
  },
  {
   "cell_type": "code",
   "execution_count": null,
   "id": "a9fc23fd-9e3d-4e59-9f53-cb288536ed1e",
   "metadata": {},
   "outputs": [],
   "source": []
  }
 ],
 "metadata": {
  "kernelspec": {
   "display_name": "Python 3 (ipykernel)",
   "language": "python",
   "name": "python3"
  },
  "language_info": {
   "codemirror_mode": {
    "name": "ipython",
    "version": 3
   },
   "file_extension": ".py",
   "mimetype": "text/x-python",
   "name": "python",
   "nbconvert_exporter": "python",
   "pygments_lexer": "ipython3",
   "version": "3.6.2"
  }
 },
 "nbformat": 4,
 "nbformat_minor": 5
}
