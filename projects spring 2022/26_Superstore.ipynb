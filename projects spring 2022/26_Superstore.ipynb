{
 "cells": [
  {
   "cell_type": "markdown",
   "id": "67ea76c4-28e0-4401-a16a-e126175fcec8",
   "metadata": {},
   "source": [
    "\n",
    "# 26. Superstore Dataset "
   ]
  },
  {
   "cell_type": "markdown",
   "id": "c3ab2d5f-d67e-4558-8264-08ca57f5ff13",
   "metadata": {},
   "source": [
    "##### Raz Elbaz\n",
    "##### Yuval Elias\n",
    "##### Boaz Matitya\n",
    "##### Maayan Aharon"
   ]
  },
  {
   "cell_type": "markdown",
   "id": "c8247b7b-843c-49df-bc5d-2ced49496710",
   "metadata": {},
   "source": [
    "\n",
    "<div>\n",
    "<img src=\"https://github.com/Razelbaz1/my-project/blob/main/Big-data-analytics-solutions.jpg?raw=true\"  height = \"20\"/>\n",
    "</div>\n"
   ]
  },
  {
   "cell_type": "markdown",
   "id": "053593f8-bc8f-4966-bc66-1f964373f09a",
   "metadata": {
    "jp-MarkdownHeadingCollapsed": true,
    "tags": []
   },
   "source": [
    "# <b> </b> <b style='color:#F05454'>Contents</b>\n",
    "#  <b id=\"Top\"> </b>  \n",
    "\n",
    "[**1.Introduction & Basic EDA.**](#introductions)\n",
    "\n",
    "[**2.Discounts & Sales**](#Discounts&Sales)\n",
    "\n",
    "[**3.Pareto principle.**](#Pareto-principle)\n",
    "\n",
    "[**4.Prediction model.**](#Prediction-model)\n",
    "\n",
    "[**5.Summary.**](#Summary.)\n"
   ]
  },
  {
   "cell_type": "markdown",
   "id": "fce1eb59-68b6-4b21-bf32-0b6c50327d43",
   "metadata": {},
   "source": [
    "___\n",
    "#  <b id=\"introductions\"> </b> <b style='color:black'>Introduction </b> <b> &  Basic <b style='color:#F05454'>EDA. </b>  \n",
    "\n",
    "## <b>Importing </b> <b style='color:#F05454'>Libraries.</b>\n",
    "\n"
   ]
  },
  {
   "cell_type": "code",
   "execution_count": 1,
   "id": "5fa7ed3d-7fd0-4ace-bca1-48930b0ac6ee",
   "metadata": {},
   "outputs": [],
   "source": [
    "import numpy as np\n",
    "import pandas as pd\n",
    "import seaborn as sns\n",
    "import matplotlib.pyplot as plt\n",
    "import csv\n",
    "\n",
    "# sklearn\n",
    "import sklearn as sk # SciKit learn package\n",
    "from sklearn.linear_model import LinearRegression, ElasticNet\n",
    "from sklearn.model_selection import train_test_split\n",
    "from sklearn.preprocessing import StandardScaler\n",
    "\n",
    "plt.style.use('fivethirtyeight')\n",
    "\n",
    "from sklearn.ensemble import RandomForestRegressor "
   ]
  },
  {
   "cell_type": "markdown",
   "id": "94fc51a0-9bc2-4bbe-866c-b432aa47ed53",
   "metadata": {},
   "source": [
    "## <b id='Read-data'>Read </b> <b style='color:#F05454'>Data.</b>"
   ]
  },
  {
   "cell_type": "code",
   "execution_count": 2,
   "id": "4775d4c4-3319-442f-9967-bf3dab4b8ce2",
   "metadata": {},
   "outputs": [],
   "source": [
    "url = 'https://raw.githubusercontent.com/Razelbaz1/my-project/main/Sample%20-%20Superstore.csv'\n",
    "super_df = pd.read_csv(url,encoding='latin1')"
   ]
  },
  {
   "cell_type": "code",
   "execution_count": 3,
   "id": "44c72cd6-5d47-4116-a204-c0162b5219a9",
   "metadata": {},
   "outputs": [
    {
     "data": {
      "text/plain": [
       "Index(['Row ID', 'Order ID', 'Order Date', 'Ship Date', 'Ship Mode',\n",
       "       'Customer ID', 'Customer Name', 'Segment', 'Country', 'City', 'State',\n",
       "       'Postal Code', 'Region', 'Product ID', 'Category', 'Sub-Category',\n",
       "       'Product Name', 'Sales', 'Quantity', 'Discount', 'Profit'],\n",
       "      dtype='object')"
      ]
     },
     "execution_count": 3,
     "metadata": {},
     "output_type": "execute_result"
    }
   ],
   "source": [
    "super_df.columns"
   ]
  },
  {
   "cell_type": "markdown",
   "id": "c0843c58-70e2-4833-b983-4fac382c1b2e",
   "metadata": {},
   "source": [
    "## </b> <b> Examine the </b> <b style='color:#F05454'>  correlation </b> <b> between </b> <b style='color:#F05454'> sales, discounts and profits. </b>___\n",
    "# <b id = 'Discounts&Sales' > </b> <b style='color:#F05454'>Discounts </b> <b>  lead to sales </b> <b style='color:#F05454'> growth ? </b> <b></b>     "
   ]
  },
  {
   "cell_type": "markdown",
   "id": "41974628-ec06-41be-b50a-35029cb40402",
   "metadata": {},
   "source": [
    "## </b> <b> Examine the </b> <b style='color:#F05454'>  correlation </b> <b> between </b> <b style='color:#F05454'> sales, discounts and profits. </b>"
   ]
  },
  {
   "cell_type": "code",
   "execution_count": 4,
   "id": "42d85502-720a-4b93-8f70-cf57e686b39f",
   "metadata": {},
   "outputs": [
    {
     "data": {
      "image/png": "[encoded data removed]",
      "text/plain": [
       "<Figure size 432x288 with 2 Axes>"
      ]
     },
     "metadata": {},
     "output_type": "display_data"
    }
   ],
   "source": [
    "corr = super_df[['Sales','Discount','Profit']].corr(method='spearman')\n",
    "sns.heatmap(corr, annot = True, cmap='Blues',vmin = -1,vmax = 1,\n",
    "           annot_kws = {\n",
    "                   'fontsize' : 12,\n",
    "                   'fontweight' : 'bold'\n",
    "                       })\n",
    "plt.yticks(rotation = 0);"
   ]
  },
  {
   "cell_type": "markdown",
   "id": "f27ff06d-6a8c-4174-a87f-726d965344db",
   "metadata": {},
   "source": [
    "#  שני איורים אשר מראים על התפלגות של רווחים ומכירות עם וללא הנחה לפי מדינות"
   ]
  },
  {
   "cell_type": "code",
   "execution_count": 5,
   "id": "30f669e6-de55-4b79-99a1-7e9b71461bac",
   "metadata": {},
   "outputs": [],
   "source": [
    "neg_profit = super_df.groupby(\"State\")[['Sales' ,\"Discount\" , \"Profit\"]].mean().reset_index()\n",
    "with_discount = neg_profit[neg_profit['Discount'] > 0]\n",
    "without_discount = neg_profit[neg_profit['Discount'] == 0]"
   ]
  },
  {
   "cell_type": "code",
   "execution_count": 6,
   "id": "40f9c1fc-947d-4265-8dea-09b12bfa1f0e",
   "metadata": {},
   "outputs": [],
   "source": [
    "with_discount= with_discount.round({'Sales':0})\n",
    "without_discount= without_discount.round({'Sales':0})"
   ]
  },
  {
   "cell_type": "code",
   "execution_count": 7,
   "id": "33b50d0e-6e97-482b-8b66-42463221ca72",
   "metadata": {},
   "outputs": [
    {
     "data": {
      "image/png": "[encoded data removed]",
      "text/plain": [
       "<Figure size 1440x360 with 2 Axes>"
      ]
     },
     "metadata": {},
     "output_type": "display_data"
    }
   ],
   "source": [
    "fig, axes = plt.subplots(figsize=(20, 5), ncols=2)\n",
    "sns.barplot(ax = axes[0] , x = \"Sales\" ,\n",
    "            ci = None, y = \"Profit\" , data = without_discount,  palette = 'summer')\n",
    "axes[0].set_title(' Without discount')\n",
    "\n",
    "sns.barplot(ax = axes[1] ,ci= None,  x = \"Sales\" , y = \"Profit\" , data = with_discount, palette = 'summer' )\n",
    "axes[1].set_title('With discount')\n",
    "\n",
    "axes[0].tick_params(axis='x', rotation=60)\n",
    "axes[1].tick_params(axis='x', rotation=60)\n"
   ]
  },
  {
   "cell_type": "markdown",
   "id": "a8dd2f8f-18a4-4121-9420-c91a8324d637",
   "metadata": {},
   "source": [
    "### ניתן לראות בבירור כי כאשר לא ניתנת הנחה הרווחים גדלים בצורה עקבית אל מול המכירות"
   ]
  },
  {
   "cell_type": "markdown",
   "id": "a9a8e476-5ed2-4183-aa41-6db2ecd2d130",
   "metadata": {},
   "source": [
    "## </b> <b>  </b> <b style='color:#F05454'> Pay  attention </b> <b>  to the relationship between the categories. </b> "
   ]
  },
  {
   "cell_type": "code",
   "execution_count": 8,
   "id": "430081fe-7944-4249-98b4-62b2964b3056",
   "metadata": {},
   "outputs": [],
   "source": [
    "category_d = pd.DataFrame(super_df.groupby('Category')[['Quantity','Sales','Profit']].sum()).round().copy()"
   ]
  },
  {
   "cell_type": "code",
   "execution_count": 9,
   "id": "3c8edcc5-a077-4d37-aaf5-78807cc249ae",
   "metadata": {},
   "outputs": [
    {
     "data": {
      "text/html": [
       "<style type=\"text/css\">\n",
       "#T_151ca_row0_col0, #T_151ca_row0_col1, #T_151ca_row1_col0, #T_151ca_row1_col1, #T_151ca_row2_col0, #T_151ca_row2_col1 {\n",
       "  background-color: ;\n",
       "}\n",
       "#T_151ca_row0_col2 {\n",
       "  background-color: red;\n",
       "}\n",
       "#T_151ca_row1_col2, #T_151ca_row2_col2 {\n",
       "  background-color: lime;\n",
       "}\n",
       "</style>\n",
       "<table id=\"T_151ca\">\n",
       "  <thead>\n",
       "    <tr>\n",
       "      <th class=\"blank level0\" >&nbsp;</th>\n",
       "      <th id=\"T_151ca_level0_col0\" class=\"col_heading level0 col0\" >Quantity</th>\n",
       "      <th id=\"T_151ca_level0_col1\" class=\"col_heading level0 col1\" >Sales</th>\n",
       "      <th id=\"T_151ca_level0_col2\" class=\"col_heading level0 col2\" >Profit</th>\n",
       "    </tr>\n",
       "    <tr>\n",
       "      <th class=\"index_name level0\" >Category</th>\n",
       "      <th class=\"blank col0\" >&nbsp;</th>\n",
       "      <th class=\"blank col1\" >&nbsp;</th>\n",
       "      <th class=\"blank col2\" >&nbsp;</th>\n",
       "    </tr>\n",
       "  </thead>\n",
       "  <tbody>\n",
       "    <tr>\n",
       "      <th id=\"T_151ca_level0_row0\" class=\"row_heading level0 row0\" >Furniture</th>\n",
       "      <td id=\"T_151ca_row0_col0\" class=\"data row0 col0\" >8028</td>\n",
       "      <td id=\"T_151ca_row0_col1\" class=\"data row0 col1\" >742000.000000</td>\n",
       "      <td id=\"T_151ca_row0_col2\" class=\"data row0 col2\" >18451.000000</td>\n",
       "    </tr>\n",
       "    <tr>\n",
       "      <th id=\"T_151ca_level0_row1\" class=\"row_heading level0 row1\" >Office Supplies</th>\n",
       "      <td id=\"T_151ca_row1_col0\" class=\"data row1 col0\" >22906</td>\n",
       "      <td id=\"T_151ca_row1_col1\" class=\"data row1 col1\" >719047.000000</td>\n",
       "      <td id=\"T_151ca_row1_col2\" class=\"data row1 col2\" >122491.000000</td>\n",
       "    </tr>\n",
       "    <tr>\n",
       "      <th id=\"T_151ca_level0_row2\" class=\"row_heading level0 row2\" >Technology</th>\n",
       "      <td id=\"T_151ca_row2_col0\" class=\"data row2 col0\" >6939</td>\n",
       "      <td id=\"T_151ca_row2_col1\" class=\"data row2 col1\" >836154.000000</td>\n",
       "      <td id=\"T_151ca_row2_col2\" class=\"data row2 col2\" >145455.000000</td>\n",
       "    </tr>\n",
       "  </tbody>\n",
       "</table>\n"
      ],
      "text/plain": [
       "<pandas.io.formats.style.Styler at 0x15d30e9e8c0>"
      ]
     },
     "execution_count": 9,
     "metadata": {},
     "output_type": "execute_result"
    }
   ],
   "source": [
    "def create_colors(x):\n",
    "    #copy df to new - original data are not changed\n",
    "    df1 = x.copy().round()\n",
    "    #select all values to default value - no color\n",
    "    df1.loc[:,:] = 'background-color: '\n",
    "    #overwrite values with green and red color\n",
    "    df1.loc['Technology', 'Profit'] = 'background-color: lime'\n",
    "    df1.loc['Office Supplies', 'Profit'] = 'background-color: lime'\n",
    "    df1.loc['Furniture', 'Profit'] = 'background-color: red'\n",
    "    #df1.loc['Maine', 'armored'] = 'background-color: red'\n",
    "    #return color df\n",
    "    return df1.round()      \n",
    "\n",
    "category_d.style.apply(create_colors, axis=None)"
   ]
  },
  {
   "cell_type": "markdown",
   "id": "96d3ca42-c820-4690-aaca-9eec43147aab",
   "metadata": {},
   "source": [
    "##### קטגוריית הטכנולוגיה מוכרת 1000 יחידות פחות מהריהוט ועדיין מרוויחה כמעט פי 8 יותר .\n",
    "#####  קטגוריית ציוד משרדי מוכרת פי 3 יותר מהטכנולוגיה ומרוויחה 30 אלף פחות "
   ]
  },
  {
   "cell_type": "markdown",
   "id": "1a326014-b91d-4acc-a1b3-749f67538040",
   "metadata": {},
   "source": [
    "##  נציג את ההבדלים ברווחים לפי קטגוריות ותתי קטגוריות"
   ]
  },
  {
   "cell_type": "markdown",
   "id": "d556f6c5-77a8-40a5-ab31-5c0262096be4",
   "metadata": {},
   "source": [
    "נסווג לעם הנחה ובלי הנחה לקטגוריות  "
   ]
  },
  {
   "cell_type": "code",
   "execution_count": 10,
   "id": "c8943baf-5266-4cbc-aef6-93d4078ad286",
   "metadata": {},
   "outputs": [],
   "source": [
    "with_d= super_df.loc[(super_df[\"Discount\"] > 0)]"
   ]
  },
  {
   "cell_type": "markdown",
   "id": "48f7e890-7ea8-4920-a72d-e697d2c9917b",
   "metadata": {},
   "source": [
    "הגדרת משתנה לרהיטים"
   ]
  },
  {
   "cell_type": "code",
   "execution_count": 11,
   "id": "cf4f3493-896b-4322-b562-b774d64928b9",
   "metadata": {},
   "outputs": [],
   "source": [
    "furniture= super_df.loc[(super_df[\"Category\"] == 'Furniture')]"
   ]
  },
  {
   "cell_type": "markdown",
   "id": "83012035-8ab8-493b-810f-853b563fbbda",
   "metadata": {},
   "source": [
    "סיווג לעם הנחה ובלי הנחה לרהיטים "
   ]
  },
  {
   "cell_type": "code",
   "execution_count": 12,
   "id": "1d61ca26-9b40-481c-87bf-af410f974daf",
   "metadata": {},
   "outputs": [],
   "source": [
    "with_d_F= furniture.loc[(furniture[\"Discount\"] > 0)]"
   ]
  },
  {
   "cell_type": "markdown",
   "id": "14bc8ec8-029e-4196-b125-9922dcb1c0eb",
   "metadata": {},
   "source": [
    "יצירת גרפים "
   ]
  },
  {
   "cell_type": "code",
   "execution_count": 13,
   "id": "be642ccb-0060-4eb7-9370-fa52b4420e41",
   "metadata": {},
   "outputs": [
    {
     "data": {
      "image/png": "[encoded data removed]",
      "text/plain": [
       "<Figure size 1080x504 with 2 Axes>"
      ]
     },
     "metadata": {},
     "output_type": "display_data"
    }
   ],
   "source": [
    "fig, axes = plt.subplots(1 ,2 ,figsize = (15,7) ,sharex = False, sharey = False)\n",
    "\n",
    "fig.suptitle('Discount Influence ',fontsize = 30,fontweight = 'bold')\n",
    "\n",
    "plt.subplots_adjust(wspace = 0.4)\n",
    "\n",
    "\n",
    "sns.barplot( x = \"Category\" , y = \"Profit\" , data = with_d, ci=False, ax=axes[0]);\n",
    "axes[0].set_title('Category with discount')\n",
    "\n",
    "sns.barplot( x = \"Sub-Category\" , y = \"Profit\" , data =with_d_F, ci=False,ax=axes[1], palette = 'Blues');\n",
    "axes[1].set_title('sub-Category in furniture with discount') ;\n",
    "\n",
    "plt.show()"
   ]
  },
  {
   "cell_type": "markdown",
   "id": "f94ceb9a-4abb-47f3-b94d-5f8022204f33",
   "metadata": {},
   "source": [
    "##  נציג את ההבדלים ברווחים במוצר מתוך תת הקטגוריה"
   ]
  },
  {
   "cell_type": "code",
   "execution_count": 14,
   "id": "1d57136a-2938-4c8e-b032-be591b456096",
   "metadata": {
    "tags": []
   },
   "outputs": [],
   "source": [
    "tables= super_df.loc[(super_df[\"Sub-Category\"] =='Tables')]\n",
    "tables.groupby(\"State\")[[ \"Sales\" , \"Profit\"]].mean().reset_index().sort_values(by= 'Profit');"
   ]
  },
  {
   "cell_type": "markdown",
   "id": "a2383ab1-7b6b-497e-a62e-1d001d918ca4",
   "metadata": {},
   "source": [
    "סיווג לשולחנות ברווח ובהפסד"
   ]
  },
  {
   "cell_type": "code",
   "execution_count": 15,
   "id": "3ddb45e6-9e83-4459-b6f7-d6a3572cbe2e",
   "metadata": {},
   "outputs": [],
   "source": [
    "tables_positive = tables.loc[(tables[\"Profit\"] > 0)]\n",
    "tables_negative = tables.loc[(tables[\"Profit\"]< 0)]"
   ]
  },
  {
   "cell_type": "code",
   "execution_count": 16,
   "id": "eb00c6e5-8307-4e1f-93d4-48075588a8e9",
   "metadata": {},
   "outputs": [],
   "source": [
    "tp = tables_positive .groupby(\"State\")[[\"Profit\"]].sum().reset_index()"
   ]
  },
  {
   "cell_type": "code",
   "execution_count": 17,
   "id": "65c8ab1c-7c63-44e4-8507-379e0149b833",
   "metadata": {},
   "outputs": [],
   "source": [
    "tn = tables_negative.groupby(\"State\")[[\"Profit\"]].sum().reset_index()"
   ]
  },
  {
   "cell_type": "markdown",
   "id": "1a5832af-206f-4dbd-938e-dcacb5b17d34",
   "metadata": {},
   "source": [
    "איחוד השולחנות"
   ]
  },
  {
   "cell_type": "code",
   "execution_count": 18,
   "id": "738dec1e-49bd-4401-9fb0-440d771a090d",
   "metadata": {},
   "outputs": [],
   "source": [
    "df_new3 = pd.concat([tn, tp]).reset_index()"
   ]
  },
  {
   "cell_type": "markdown",
   "id": "adcdf5ef-7d74-4976-b05e-6712809098e3",
   "metadata": {},
   "source": [
    "סיווג לקבוצות"
   ]
  },
  {
   "cell_type": "code",
   "execution_count": 19,
   "id": "14c32a1a-c607-48bc-82f4-2344d92c0ebb",
   "metadata": {},
   "outputs": [],
   "source": [
    "temp = pd.DataFrame(columns=['n/p'], index=range(41))\n",
    "temp.at[0, 'n/p'] = \"n\"\n",
    "temp.at[20, 'n/p'] = \"p\"\n",
    "temp2 = temp[['n/p']].fillna(method='ffill')"
   ]
  },
  {
   "cell_type": "code",
   "execution_count": 20,
   "id": "4320e7cf-4fba-4d32-a2b7-eb4a4dfb13c5",
   "metadata": {},
   "outputs": [],
   "source": [
    "dfnew4 = df_new3.join(temp2)\n",
    "dfnew5 = dfnew4['Profit'].abs()\n",
    "dfnew5\n",
    "dfnew4['Profit(Abs)'] = dfnew5"
   ]
  },
  {
   "cell_type": "code",
   "execution_count": 21,
   "id": "05f3f6e1-937c-46be-be74-25ade0728268",
   "metadata": {},
   "outputs": [],
   "source": [
    "to_pie = dfnew4.groupby(['n/p']).sum().round().reset_index()"
   ]
  },
  {
   "cell_type": "markdown",
   "id": "a3ba8e12-8573-4845-8cc8-3ca32c2e85c3",
   "metadata": {},
   "source": [
    "הצגת איור "
   ]
  },
  {
   "cell_type": "code",
   "execution_count": 22,
   "id": "7020787e-fb81-4e66-a097-40fecccbae65",
   "metadata": {},
   "outputs": [
    {
     "data": {
      "image/png": "[encoded data removed]",
      "text/plain": [
       "<Figure size 1008x432 with 1 Axes>"
      ]
     },
     "metadata": {},
     "output_type": "display_data"
    }
   ],
   "source": [
    "colors= ['darkred','seagreen']\n",
    "plt.figure(figsize=(14, 6))\n",
    "arg = ['-32,412','14,687']\n",
    "\n",
    "plt.pie(to_pie['Profit(Abs)'], labels = arg, colors = colors, \n",
    "        wedgeprops = dict(alpha = 0.8, edgecolor = 'darkred'), autopct = '%.2f%%');\n",
    "plt.title('Profit Vs. Loss according to table products');"
   ]
  },
  {
   "cell_type": "markdown",
   "id": "7c3ebefb-103f-467c-bef3-ab6c69733a20",
   "metadata": {},
   "source": [
    "### כפי שניתן לראות רק 31 אחוז מן השולחנות הניבו רווח, ואילו 69 אחוז מן השולחנות הובילו לרווח שלילי"
   ]
  },
  {
   "cell_type": "markdown",
   "id": "a92192be-3be4-426e-a0aa-3e93a216a9ed",
   "metadata": {},
   "source": [
    "### [▲](#Top)"
   ]
  },
  {
   "cell_type": "markdown",
   "id": "37839892-39a6-40bd-96f0-ede6e0fb1d14",
   "metadata": {
    "tags": []
   },
   "source": [
    "___\n",
    "#  <b id=\"Pareto-principle\"> </b> <b style='color:#F05454'>Pareto principle </b> <b>to customers and Sales.</b> "
   ]
  },
  {
   "cell_type": "markdown",
   "id": "a9ef1ef7-3308-46b5-8925-faa25ec57a6f",
   "metadata": {},
   "source": [
    "###### חלוקת מכירות לפי לקוח"
   ]
  },
  {
   "cell_type": "code",
   "execution_count": 23,
   "id": "250cc355-de6f-4c50-9c21-bb25ff5a634e",
   "metadata": {},
   "outputs": [
    {
     "data": {
      "text/html": [
       "<div>\n",
       "<style scoped>\n",
       "    .dataframe tbody tr th:only-of-type {\n",
       "        vertical-align: middle;\n",
       "    }\n",
       "\n",
       "    .dataframe tbody tr th {\n",
       "        vertical-align: top;\n",
       "    }\n",
       "\n",
       "    .dataframe thead th {\n",
       "        text-align: right;\n",
       "    }\n",
       "</style>\n",
       "<table border=\"1\" class=\"dataframe\">\n",
       "  <thead>\n",
       "    <tr style=\"text-align: right;\">\n",
       "      <th></th>\n",
       "      <th>Sales</th>\n",
       "    </tr>\n",
       "    <tr>\n",
       "      <th>Customer Name</th>\n",
       "      <th></th>\n",
       "    </tr>\n",
       "  </thead>\n",
       "  <tbody>\n",
       "    <tr>\n",
       "      <th>Sean Miller</th>\n",
       "      <td>25043.050</td>\n",
       "    </tr>\n",
       "    <tr>\n",
       "      <th>Tamara Chand</th>\n",
       "      <td>19052.218</td>\n",
       "    </tr>\n",
       "    <tr>\n",
       "      <th>Raymond Buch</th>\n",
       "      <td>15117.339</td>\n",
       "    </tr>\n",
       "    <tr>\n",
       "      <th>Tom Ashbrook</th>\n",
       "      <td>14595.620</td>\n",
       "    </tr>\n",
       "    <tr>\n",
       "      <th>Adrian Barton</th>\n",
       "      <td>14473.571</td>\n",
       "    </tr>\n",
       "    <tr>\n",
       "      <th>...</th>\n",
       "      <td>...</td>\n",
       "    </tr>\n",
       "    <tr>\n",
       "      <th>Roy Skaria</th>\n",
       "      <td>22.328</td>\n",
       "    </tr>\n",
       "    <tr>\n",
       "      <th>Mitch Gastineau</th>\n",
       "      <td>16.739</td>\n",
       "    </tr>\n",
       "    <tr>\n",
       "      <th>Carl Jackson</th>\n",
       "      <td>16.520</td>\n",
       "    </tr>\n",
       "    <tr>\n",
       "      <th>Lela Donovan</th>\n",
       "      <td>5.304</td>\n",
       "    </tr>\n",
       "    <tr>\n",
       "      <th>Thais Sissman</th>\n",
       "      <td>4.833</td>\n",
       "    </tr>\n",
       "  </tbody>\n",
       "</table>\n",
       "<p>793 rows × 1 columns</p>\n",
       "</div>"
      ],
      "text/plain": [
       "                     Sales\n",
       "Customer Name             \n",
       "Sean Miller      25043.050\n",
       "Tamara Chand     19052.218\n",
       "Raymond Buch     15117.339\n",
       "Tom Ashbrook     14595.620\n",
       "Adrian Barton    14473.571\n",
       "...                    ...\n",
       "Roy Skaria          22.328\n",
       "Mitch Gastineau     16.739\n",
       "Carl Jackson        16.520\n",
       "Lela Donovan         5.304\n",
       "Thais Sissman        4.833\n",
       "\n",
       "[793 rows x 1 columns]"
      ]
     },
     "execution_count": 23,
     "metadata": {},
     "output_type": "execute_result"
    }
   ],
   "source": [
    "df1=pd.DataFrame(super_df.groupby('Customer Name')['Sales'].sum().sort_values(ascending=False))\n",
    "df1"
   ]
  },
  {
   "cell_type": "code",
   "execution_count": 24,
   "id": "37bdb3ea-96a5-497d-be09-c6aa8a3f1073",
   "metadata": {},
   "outputs": [
    {
     "data": {
      "text/html": [
       "<div>\n",
       "<style scoped>\n",
       "    .dataframe tbody tr th:only-of-type {\n",
       "        vertical-align: middle;\n",
       "    }\n",
       "\n",
       "    .dataframe tbody tr th {\n",
       "        vertical-align: top;\n",
       "    }\n",
       "\n",
       "    .dataframe thead th {\n",
       "        text-align: right;\n",
       "    }\n",
       "</style>\n",
       "<table border=\"1\" class=\"dataframe\">\n",
       "  <thead>\n",
       "    <tr style=\"text-align: right;\">\n",
       "      <th></th>\n",
       "      <th>Sales</th>\n",
       "      <th>cumpercentage</th>\n",
       "    </tr>\n",
       "    <tr>\n",
       "      <th>Customer Name</th>\n",
       "      <th></th>\n",
       "      <th></th>\n",
       "    </tr>\n",
       "  </thead>\n",
       "  <tbody>\n",
       "    <tr>\n",
       "      <th>Sean Miller</th>\n",
       "      <td>25043.0500</td>\n",
       "      <td>1.090155</td>\n",
       "    </tr>\n",
       "    <tr>\n",
       "      <th>Tamara Chand</th>\n",
       "      <td>19052.2180</td>\n",
       "      <td>1.919522</td>\n",
       "    </tr>\n",
       "    <tr>\n",
       "      <th>Raymond Buch</th>\n",
       "      <td>15117.3390</td>\n",
       "      <td>2.577598</td>\n",
       "    </tr>\n",
       "    <tr>\n",
       "      <th>Tom Ashbrook</th>\n",
       "      <td>14595.6200</td>\n",
       "      <td>3.212964</td>\n",
       "    </tr>\n",
       "    <tr>\n",
       "      <th>Adrian Barton</th>\n",
       "      <td>14473.5710</td>\n",
       "      <td>3.843016</td>\n",
       "    </tr>\n",
       "    <tr>\n",
       "      <th>...</th>\n",
       "      <td>...</td>\n",
       "      <td>...</td>\n",
       "    </tr>\n",
       "    <tr>\n",
       "      <th>Corinna Mitchell</th>\n",
       "      <td>6339.5576</td>\n",
       "      <td>28.198454</td>\n",
       "    </tr>\n",
       "    <tr>\n",
       "      <th>Max Jones</th>\n",
       "      <td>6320.7460</td>\n",
       "      <td>28.473604</td>\n",
       "    </tr>\n",
       "    <tr>\n",
       "      <th>Brosina Hoffman</th>\n",
       "      <td>6255.3510</td>\n",
       "      <td>28.745907</td>\n",
       "    </tr>\n",
       "    <tr>\n",
       "      <th>Rob Lucas</th>\n",
       "      <td>6234.9100</td>\n",
       "      <td>29.017320</td>\n",
       "    </tr>\n",
       "    <tr>\n",
       "      <th>William Brown</th>\n",
       "      <td>6160.1020</td>\n",
       "      <td>29.285477</td>\n",
       "    </tr>\n",
       "  </tbody>\n",
       "</table>\n",
       "<p>74 rows × 2 columns</p>\n",
       "</div>"
      ],
      "text/plain": [
       "                       Sales  cumpercentage\n",
       "Customer Name                              \n",
       "Sean Miller       25043.0500       1.090155\n",
       "Tamara Chand      19052.2180       1.919522\n",
       "Raymond Buch      15117.3390       2.577598\n",
       "Tom Ashbrook      14595.6200       3.212964\n",
       "Adrian Barton     14473.5710       3.843016\n",
       "...                      ...            ...\n",
       "Corinna Mitchell   6339.5576      28.198454\n",
       "Max Jones          6320.7460      28.473604\n",
       "Brosina Hoffman    6255.3510      28.745907\n",
       "Rob Lucas          6234.9100      29.017320\n",
       "William Brown      6160.1020      29.285477\n",
       "\n",
       "[74 rows x 2 columns]"
      ]
     },
     "execution_count": 24,
     "metadata": {},
     "output_type": "execute_result"
    }
   ],
   "source": [
    "df1[\"cumpercentage\"]  = df1[\"Sales\"].cumsum()/df1['Sales'].sum()*100\n",
    "df1.head(74)"
   ]
  },
  {
   "cell_type": "markdown",
   "id": "b530fa5f-b0b8-4441-b1ad-68540a042f4d",
   "metadata": {},
   "source": [
    "### Group classification."
   ]
  },
  {
   "cell_type": "code",
   "execution_count": 25,
   "id": "7b3ec53c-f9b4-4479-b614-9739a3292999",
   "metadata": {},
   "outputs": [],
   "source": [
    "df2 = df1.copy().reset_index()"
   ]
  },
  {
   "cell_type": "code",
   "execution_count": 26,
   "id": "b5efeefb-10ff-48f4-855e-edb543a971bb",
   "metadata": {},
   "outputs": [],
   "source": [
    "temp = pd.DataFrame(columns=['A/B'], index=range(793))\n",
    "temp.at[0, 'A/B'] = \"A\"\n",
    "temp.at[76, 'A/B'] = \"B\""
   ]
  },
  {
   "cell_type": "code",
   "execution_count": 27,
   "id": "dd1c0276-b1e1-43d6-9a4a-fcc1bceb948a",
   "metadata": {},
   "outputs": [],
   "source": [
    "temp2 = temp[['A/B']].fillna(method='ffill')"
   ]
  },
  {
   "cell_type": "markdown",
   "id": "3689a555-bd0e-4504-b939-5248cea9b72d",
   "metadata": {},
   "source": [
    "##### אחוז מכירות מצטבר פר לקוח "
   ]
  },
  {
   "cell_type": "code",
   "execution_count": 28,
   "id": "dbb7ffde-9b12-41c8-bf68-f0ea10fc819f",
   "metadata": {},
   "outputs": [
    {
     "data": {
      "text/html": [
       "<div>\n",
       "<style scoped>\n",
       "    .dataframe tbody tr th:only-of-type {\n",
       "        vertical-align: middle;\n",
       "    }\n",
       "\n",
       "    .dataframe tbody tr th {\n",
       "        vertical-align: top;\n",
       "    }\n",
       "\n",
       "    .dataframe thead th {\n",
       "        text-align: right;\n",
       "    }\n",
       "</style>\n",
       "<table border=\"1\" class=\"dataframe\">\n",
       "  <thead>\n",
       "    <tr style=\"text-align: right;\">\n",
       "      <th></th>\n",
       "      <th>Customer Name</th>\n",
       "      <th>Sales</th>\n",
       "      <th>cumpercentage</th>\n",
       "      <th>A/B</th>\n",
       "    </tr>\n",
       "  </thead>\n",
       "  <tbody>\n",
       "    <tr>\n",
       "      <th>0</th>\n",
       "      <td>Sean Miller</td>\n",
       "      <td>25043.050</td>\n",
       "      <td>1.090155</td>\n",
       "      <td>A</td>\n",
       "    </tr>\n",
       "    <tr>\n",
       "      <th>1</th>\n",
       "      <td>Tamara Chand</td>\n",
       "      <td>19052.218</td>\n",
       "      <td>1.919522</td>\n",
       "      <td>A</td>\n",
       "    </tr>\n",
       "    <tr>\n",
       "      <th>2</th>\n",
       "      <td>Raymond Buch</td>\n",
       "      <td>15117.339</td>\n",
       "      <td>2.577598</td>\n",
       "      <td>A</td>\n",
       "    </tr>\n",
       "    <tr>\n",
       "      <th>3</th>\n",
       "      <td>Tom Ashbrook</td>\n",
       "      <td>14595.620</td>\n",
       "      <td>3.212964</td>\n",
       "      <td>A</td>\n",
       "    </tr>\n",
       "    <tr>\n",
       "      <th>4</th>\n",
       "      <td>Adrian Barton</td>\n",
       "      <td>14473.571</td>\n",
       "      <td>3.843016</td>\n",
       "      <td>A</td>\n",
       "    </tr>\n",
       "    <tr>\n",
       "      <th>...</th>\n",
       "      <td>...</td>\n",
       "      <td>...</td>\n",
       "      <td>...</td>\n",
       "      <td>...</td>\n",
       "    </tr>\n",
       "    <tr>\n",
       "      <th>788</th>\n",
       "      <td>Roy Skaria</td>\n",
       "      <td>22.328</td>\n",
       "      <td>99.998111</td>\n",
       "      <td>B</td>\n",
       "    </tr>\n",
       "    <tr>\n",
       "      <th>789</th>\n",
       "      <td>Mitch Gastineau</td>\n",
       "      <td>16.739</td>\n",
       "      <td>99.998840</td>\n",
       "      <td>B</td>\n",
       "    </tr>\n",
       "    <tr>\n",
       "      <th>790</th>\n",
       "      <td>Carl Jackson</td>\n",
       "      <td>16.520</td>\n",
       "      <td>99.999559</td>\n",
       "      <td>B</td>\n",
       "    </tr>\n",
       "    <tr>\n",
       "      <th>791</th>\n",
       "      <td>Lela Donovan</td>\n",
       "      <td>5.304</td>\n",
       "      <td>99.999790</td>\n",
       "      <td>B</td>\n",
       "    </tr>\n",
       "    <tr>\n",
       "      <th>792</th>\n",
       "      <td>Thais Sissman</td>\n",
       "      <td>4.833</td>\n",
       "      <td>100.000000</td>\n",
       "      <td>B</td>\n",
       "    </tr>\n",
       "  </tbody>\n",
       "</table>\n",
       "<p>793 rows × 4 columns</p>\n",
       "</div>"
      ],
      "text/plain": [
       "       Customer Name      Sales  cumpercentage A/B\n",
       "0        Sean Miller  25043.050       1.090155   A\n",
       "1       Tamara Chand  19052.218       1.919522   A\n",
       "2       Raymond Buch  15117.339       2.577598   A\n",
       "3       Tom Ashbrook  14595.620       3.212964   A\n",
       "4      Adrian Barton  14473.571       3.843016   A\n",
       "..               ...        ...            ...  ..\n",
       "788       Roy Skaria     22.328      99.998111   B\n",
       "789  Mitch Gastineau     16.739      99.998840   B\n",
       "790     Carl Jackson     16.520      99.999559   B\n",
       "791     Lela Donovan      5.304      99.999790   B\n",
       "792    Thais Sissman      4.833     100.000000   B\n",
       "\n",
       "[793 rows x 4 columns]"
      ]
     },
     "execution_count": 28,
     "metadata": {},
     "output_type": "execute_result"
    }
   ],
   "source": [
    "dfnew = df2.join(temp2)\n",
    "dfnew"
   ]
  },
  {
   "cell_type": "code",
   "execution_count": 29,
   "id": "c42639dc-7e11-4bed-a47f-9cc9fce8c9e3",
   "metadata": {},
   "outputs": [
    {
     "name": "stderr",
     "output_type": "stream",
     "text": [
      "posx and posy should be finite values\n",
      "posx and posy should be finite values\n",
      "posx and posy should be finite values\n",
      "posx and posy should be finite values\n"
     ]
    },
    {
     "data": {
      "image/png": "[encoded data removed]",
      "text/plain": [
       "<Figure size 1296x720 with 2 Axes>"
      ]
     },
     "metadata": {},
     "output_type": "display_data"
    }
   ],
   "source": [
    "# --- Colors and Labels (Null Values Dropped) ---\n",
    "colors= ['#597dbf','#d98b5f']\n",
    "df_pie = dfnew[['A/B','Sales']]\n",
    "df_pie = df_pie.groupby(['A/B']).sum().reset_index()\n",
    "\n",
    "# --- Size for Both Figures ---\n",
    "plt.figure(figsize=(18, 10))\n",
    "\n",
    "# --- Pie Chart ---\n",
    "plt.subplot(1, 2, 1)\n",
    "explode = (0.1, 0)\n",
    "plt.title('Composition of customer  for Sales', fontweight = 'bold', fontsize = 20, fontfamily = 'sans-serif', \n",
    "          color = 'black')\n",
    "plt.pie(df_pie['Sales'], labels = df_pie['A/B'], colors = colors, \n",
    "        wedgeprops = dict(alpha = 1, edgecolor = 'white'), autopct = '%.2f%%',explode = explode)\n",
    "##############\n",
    "# Taking a subset of data (To keep things simple)\n",
    "df_stackb = dfnew[['A/B','Sales']]\n",
    "# taking a groupby on category and then ship mode...\n",
    "df_stackb = df_stackb.groupby(['A/B']).sum().reset_index()\n",
    "######\n",
    "\n",
    "plt.subplot(1, 2, 2)\n",
    "ax = sns.countplot(data = dfnew ,x = 'A/B' , hue = 'A/B' , palette = 'muted')\n",
    "for rect in ax.patches:\n",
    "    ax.text (rect.get_x()+rect.get_width()/2, rect.get_height()+0.75,rect.get_height(), horizontalalignment = 'center', \n",
    "             fontsize = 11, fontweight = 'bold')\n",
    "plt.title('Customer', fontweight = 'bold', fontsize = 15, fontfamily = 'sans-serif', color = 'black')\n",
    "plt.xlabel('', fontweight = 'bold', fontsize = 15, fontfamily = 'sans-serif', color = 'black')\n",
    "plt.ylabel('Count', fontweight = 'bold', fontsize = 15, fontfamily = 'sans-serif', color = 'black')\n",
    "plt.grid(axis = 'y', alpha = 0.4)\n",
    "\n",
    "\n"
   ]
  },
  {
   "cell_type": "markdown",
   "id": "def63f15-9daf-4570-a6a8-bdff8ee5d163",
   "metadata": {},
   "source": [
    "# </b> <b style='color:#F05454'>1% </b> <b> of customer occupy </b> <b style='color:#F05454'> 30% of sales! </b>"
   ]
  },
  {
   "cell_type": "markdown",
   "id": "0ea670be-72cb-4eee-9014-750421c63c1a",
   "metadata": {},
   "source": [
    "### [▲](#Top)"
   ]
  },
  {
   "cell_type": "markdown",
   "id": "038bba42-dfe9-49bb-b399-89e38ed605a8",
   "metadata": {
    "tags": []
   },
   "source": [
    "___\n",
    "#  <b id=\"Prediction-model\"> </b> <b style='color:#F05454'>Prediction </b> <b> model.</b> "
   ]
  },
  {
   "cell_type": "markdown",
   "id": "2374eef5-b2a0-461a-a7d7-af02282bffbf",
   "metadata": {},
   "source": [
    "\n",
    "## <b id=\"Preparation of data for prediction.\"> Preparation of data for </b> <b style='color:#F05454'>prediction.</b>"
   ]
  },
  {
   "cell_type": "code",
   "execution_count": 30,
   "id": "d6eb8a18-3ca9-4624-9804-312ef4ae137a",
   "metadata": {},
   "outputs": [
    {
     "data": {
      "text/html": [
       "<div>\n",
       "<style scoped>\n",
       "    .dataframe tbody tr th:only-of-type {\n",
       "        vertical-align: middle;\n",
       "    }\n",
       "\n",
       "    .dataframe tbody tr th {\n",
       "        vertical-align: top;\n",
       "    }\n",
       "\n",
       "    .dataframe thead th {\n",
       "        text-align: right;\n",
       "    }\n",
       "</style>\n",
       "<table border=\"1\" class=\"dataframe\">\n",
       "  <thead>\n",
       "    <tr style=\"text-align: right;\">\n",
       "      <th></th>\n",
       "      <th>Row ID</th>\n",
       "      <th>Order ID</th>\n",
       "      <th>Order Date</th>\n",
       "      <th>Ship Date</th>\n",
       "      <th>Ship Mode</th>\n",
       "      <th>Customer ID</th>\n",
       "      <th>Customer Name</th>\n",
       "      <th>Segment</th>\n",
       "      <th>City</th>\n",
       "      <th>State</th>\n",
       "      <th>Postal Code</th>\n",
       "      <th>Region</th>\n",
       "      <th>Product ID</th>\n",
       "      <th>Category</th>\n",
       "      <th>Sub-Category</th>\n",
       "      <th>Product Name</th>\n",
       "      <th>Sales</th>\n",
       "      <th>Quantity</th>\n",
       "      <th>Discount</th>\n",
       "      <th>Profit</th>\n",
       "    </tr>\n",
       "  </thead>\n",
       "  <tbody>\n",
       "    <tr>\n",
       "      <th>0</th>\n",
       "      <td>1</td>\n",
       "      <td>CA-2016-152156</td>\n",
       "      <td>11/8/2016</td>\n",
       "      <td>11/11/2016</td>\n",
       "      <td>Second Class</td>\n",
       "      <td>CG-12520</td>\n",
       "      <td>Claire Gute</td>\n",
       "      <td>Consumer</td>\n",
       "      <td>Henderson</td>\n",
       "      <td>Kentucky</td>\n",
       "      <td>42420</td>\n",
       "      <td>South</td>\n",
       "      <td>FUR-BO-10001798</td>\n",
       "      <td>Furniture</td>\n",
       "      <td>Bookcases</td>\n",
       "      <td>Bush Somerset Collection Bookcase</td>\n",
       "      <td>261.9600</td>\n",
       "      <td>2</td>\n",
       "      <td>0.00</td>\n",
       "      <td>41.9136</td>\n",
       "    </tr>\n",
       "    <tr>\n",
       "      <th>1</th>\n",
       "      <td>2</td>\n",
       "      <td>CA-2016-152156</td>\n",
       "      <td>11/8/2016</td>\n",
       "      <td>11/11/2016</td>\n",
       "      <td>Second Class</td>\n",
       "      <td>CG-12520</td>\n",
       "      <td>Claire Gute</td>\n",
       "      <td>Consumer</td>\n",
       "      <td>Henderson</td>\n",
       "      <td>Kentucky</td>\n",
       "      <td>42420</td>\n",
       "      <td>South</td>\n",
       "      <td>FUR-CH-10000454</td>\n",
       "      <td>Furniture</td>\n",
       "      <td>Chairs</td>\n",
       "      <td>Hon Deluxe Fabric Upholstered Stacking Chairs,...</td>\n",
       "      <td>731.9400</td>\n",
       "      <td>3</td>\n",
       "      <td>0.00</td>\n",
       "      <td>219.5820</td>\n",
       "    </tr>\n",
       "    <tr>\n",
       "      <th>2</th>\n",
       "      <td>3</td>\n",
       "      <td>CA-2016-138688</td>\n",
       "      <td>6/12/2016</td>\n",
       "      <td>6/16/2016</td>\n",
       "      <td>Second Class</td>\n",
       "      <td>DV-13045</td>\n",
       "      <td>Darrin Van Huff</td>\n",
       "      <td>Corporate</td>\n",
       "      <td>Los Angeles</td>\n",
       "      <td>California</td>\n",
       "      <td>90036</td>\n",
       "      <td>West</td>\n",
       "      <td>OFF-LA-10000240</td>\n",
       "      <td>Office Supplies</td>\n",
       "      <td>Labels</td>\n",
       "      <td>Self-Adhesive Address Labels for Typewriters b...</td>\n",
       "      <td>14.6200</td>\n",
       "      <td>2</td>\n",
       "      <td>0.00</td>\n",
       "      <td>6.8714</td>\n",
       "    </tr>\n",
       "    <tr>\n",
       "      <th>3</th>\n",
       "      <td>4</td>\n",
       "      <td>US-2015-108966</td>\n",
       "      <td>10/11/2015</td>\n",
       "      <td>10/18/2015</td>\n",
       "      <td>Standard Class</td>\n",
       "      <td>SO-20335</td>\n",
       "      <td>Sean O'Donnell</td>\n",
       "      <td>Consumer</td>\n",
       "      <td>Fort Lauderdale</td>\n",
       "      <td>Florida</td>\n",
       "      <td>33311</td>\n",
       "      <td>South</td>\n",
       "      <td>FUR-TA-10000577</td>\n",
       "      <td>Furniture</td>\n",
       "      <td>Tables</td>\n",
       "      <td>Bretford CR4500 Series Slim Rectangular Table</td>\n",
       "      <td>957.5775</td>\n",
       "      <td>5</td>\n",
       "      <td>0.45</td>\n",
       "      <td>-383.0310</td>\n",
       "    </tr>\n",
       "    <tr>\n",
       "      <th>4</th>\n",
       "      <td>5</td>\n",
       "      <td>US-2015-108966</td>\n",
       "      <td>10/11/2015</td>\n",
       "      <td>10/18/2015</td>\n",
       "      <td>Standard Class</td>\n",
       "      <td>SO-20335</td>\n",
       "      <td>Sean O'Donnell</td>\n",
       "      <td>Consumer</td>\n",
       "      <td>Fort Lauderdale</td>\n",
       "      <td>Florida</td>\n",
       "      <td>33311</td>\n",
       "      <td>South</td>\n",
       "      <td>OFF-ST-10000760</td>\n",
       "      <td>Office Supplies</td>\n",
       "      <td>Storage</td>\n",
       "      <td>Eldon Fold 'N Roll Cart System</td>\n",
       "      <td>22.3680</td>\n",
       "      <td>2</td>\n",
       "      <td>0.20</td>\n",
       "      <td>2.5164</td>\n",
       "    </tr>\n",
       "  </tbody>\n",
       "</table>\n",
       "</div>"
      ],
      "text/plain": [
       "   Row ID        Order ID  Order Date   Ship Date       Ship Mode Customer ID  \\\n",
       "0       1  CA-2016-152156   11/8/2016  11/11/2016    Second Class    CG-12520   \n",
       "1       2  CA-2016-152156   11/8/2016  11/11/2016    Second Class    CG-12520   \n",
       "2       3  CA-2016-138688   6/12/2016   6/16/2016    Second Class    DV-13045   \n",
       "3       4  US-2015-108966  10/11/2015  10/18/2015  Standard Class    SO-20335   \n",
       "4       5  US-2015-108966  10/11/2015  10/18/2015  Standard Class    SO-20335   \n",
       "\n",
       "     Customer Name    Segment             City       State  Postal Code  \\\n",
       "0      Claire Gute   Consumer        Henderson    Kentucky        42420   \n",
       "1      Claire Gute   Consumer        Henderson    Kentucky        42420   \n",
       "2  Darrin Van Huff  Corporate      Los Angeles  California        90036   \n",
       "3   Sean O'Donnell   Consumer  Fort Lauderdale     Florida        33311   \n",
       "4   Sean O'Donnell   Consumer  Fort Lauderdale     Florida        33311   \n",
       "\n",
       "  Region       Product ID         Category Sub-Category  \\\n",
       "0  South  FUR-BO-10001798        Furniture    Bookcases   \n",
       "1  South  FUR-CH-10000454        Furniture       Chairs   \n",
       "2   West  OFF-LA-10000240  Office Supplies       Labels   \n",
       "3  South  FUR-TA-10000577        Furniture       Tables   \n",
       "4  South  OFF-ST-10000760  Office Supplies      Storage   \n",
       "\n",
       "                                        Product Name     Sales  Quantity  \\\n",
       "0                  Bush Somerset Collection Bookcase  261.9600         2   \n",
       "1  Hon Deluxe Fabric Upholstered Stacking Chairs,...  731.9400         3   \n",
       "2  Self-Adhesive Address Labels for Typewriters b...   14.6200         2   \n",
       "3      Bretford CR4500 Series Slim Rectangular Table  957.5775         5   \n",
       "4                     Eldon Fold 'N Roll Cart System   22.3680         2   \n",
       "\n",
       "   Discount    Profit  \n",
       "0      0.00   41.9136  \n",
       "1      0.00  219.5820  \n",
       "2      0.00    6.8714  \n",
       "3      0.45 -383.0310  \n",
       "4      0.20    2.5164  "
      ]
     },
     "execution_count": 30,
     "metadata": {},
     "output_type": "execute_result"
    }
   ],
   "source": [
    "model_df = super_df.copy()\n",
    "model_df.drop(columns='Country', inplace=True) #All records are from the United States, therefore it would not provide\n",
    "#importance for a model\n",
    "model_df.head()"
   ]
  },
  {
   "cell_type": "code",
   "execution_count": 31,
   "id": "549eff26-7a51-4289-bee0-6ffcfe02f874",
   "metadata": {},
   "outputs": [
    {
     "data": {
      "text/plain": [
       "1850"
      ]
     },
     "execution_count": 31,
     "metadata": {},
     "output_type": "execute_result"
    }
   ],
   "source": [
    "# FOR EXAMPLE\n",
    "model_df['Product Name'].nunique() #Very high cardinality column, we can drop this column."
   ]
  },
  {
   "cell_type": "code",
   "execution_count": 32,
   "id": "fd7fb02d-646f-4de8-9368-d34bdde5eb76",
   "metadata": {},
   "outputs": [],
   "source": [
    "model_df.drop(columns='Product Name', inplace=True)"
   ]
  },
  {
   "cell_type": "code",
   "execution_count": 33,
   "id": "2c8ae5ff-d072-4a30-a3e7-4306685ce588",
   "metadata": {},
   "outputs": [],
   "source": [
    "#sub category can stay, it only has got 17 unique vals."
   ]
  },
  {
   "cell_type": "markdown",
   "id": "f749ac9b-3cef-4be0-9503-06222495a4f2",
   "metadata": {},
   "source": [
    "## <b id=\"Ect columns with extreme cardinality don't contribute to predictions.\">Etc for columns with extreme cardinality that  </b> <b style='color:#F05454'>don't </b> <b>contribute to predictions.</b> "
   ]
  },
  {
   "cell_type": "code",
   "execution_count": 34,
   "id": "e3e73f17-016a-4f34-be46-c4991c0fea7f",
   "metadata": {},
   "outputs": [],
   "source": [
    "model_df.drop(columns=['Order ID', 'Order Date', 'Ship Date', 'Customer ID', 'Customer Name', 'Postal Code', 'Product ID'], inplace=True)"
   ]
  },
  {
   "cell_type": "code",
   "execution_count": 35,
   "id": "5885fb23-d76d-407a-b414-e4bbe46d670e",
   "metadata": {},
   "outputs": [],
   "source": [
    "model_df.drop(columns='Row ID', inplace=True)"
   ]
  },
  {
   "cell_type": "code",
   "execution_count": 36,
   "id": "c53eac03-f483-49d7-b8ab-b0d8ff332823",
   "metadata": {},
   "outputs": [
    {
     "data": {
      "text/html": [
       "<div>\n",
       "<style scoped>\n",
       "    .dataframe tbody tr th:only-of-type {\n",
       "        vertical-align: middle;\n",
       "    }\n",
       "\n",
       "    .dataframe tbody tr th {\n",
       "        vertical-align: top;\n",
       "    }\n",
       "\n",
       "    .dataframe thead th {\n",
       "        text-align: right;\n",
       "    }\n",
       "</style>\n",
       "<table border=\"1\" class=\"dataframe\">\n",
       "  <thead>\n",
       "    <tr style=\"text-align: right;\">\n",
       "      <th></th>\n",
       "      <th>Ship Mode</th>\n",
       "      <th>Segment</th>\n",
       "      <th>City</th>\n",
       "      <th>State</th>\n",
       "      <th>Region</th>\n",
       "      <th>Category</th>\n",
       "      <th>Sub-Category</th>\n",
       "      <th>Sales</th>\n",
       "      <th>Quantity</th>\n",
       "      <th>Discount</th>\n",
       "      <th>Profit</th>\n",
       "    </tr>\n",
       "  </thead>\n",
       "  <tbody>\n",
       "    <tr>\n",
       "      <th>0</th>\n",
       "      <td>Second Class</td>\n",
       "      <td>Consumer</td>\n",
       "      <td>Henderson</td>\n",
       "      <td>Kentucky</td>\n",
       "      <td>South</td>\n",
       "      <td>Furniture</td>\n",
       "      <td>Bookcases</td>\n",
       "      <td>261.9600</td>\n",
       "      <td>2</td>\n",
       "      <td>0.00</td>\n",
       "      <td>41.9136</td>\n",
       "    </tr>\n",
       "    <tr>\n",
       "      <th>1</th>\n",
       "      <td>Second Class</td>\n",
       "      <td>Consumer</td>\n",
       "      <td>Henderson</td>\n",
       "      <td>Kentucky</td>\n",
       "      <td>South</td>\n",
       "      <td>Furniture</td>\n",
       "      <td>Chairs</td>\n",
       "      <td>731.9400</td>\n",
       "      <td>3</td>\n",
       "      <td>0.00</td>\n",
       "      <td>219.5820</td>\n",
       "    </tr>\n",
       "    <tr>\n",
       "      <th>2</th>\n",
       "      <td>Second Class</td>\n",
       "      <td>Corporate</td>\n",
       "      <td>Los Angeles</td>\n",
       "      <td>California</td>\n",
       "      <td>West</td>\n",
       "      <td>Office Supplies</td>\n",
       "      <td>Labels</td>\n",
       "      <td>14.6200</td>\n",
       "      <td>2</td>\n",
       "      <td>0.00</td>\n",
       "      <td>6.8714</td>\n",
       "    </tr>\n",
       "    <tr>\n",
       "      <th>3</th>\n",
       "      <td>Standard Class</td>\n",
       "      <td>Consumer</td>\n",
       "      <td>Fort Lauderdale</td>\n",
       "      <td>Florida</td>\n",
       "      <td>South</td>\n",
       "      <td>Furniture</td>\n",
       "      <td>Tables</td>\n",
       "      <td>957.5775</td>\n",
       "      <td>5</td>\n",
       "      <td>0.45</td>\n",
       "      <td>-383.0310</td>\n",
       "    </tr>\n",
       "    <tr>\n",
       "      <th>4</th>\n",
       "      <td>Standard Class</td>\n",
       "      <td>Consumer</td>\n",
       "      <td>Fort Lauderdale</td>\n",
       "      <td>Florida</td>\n",
       "      <td>South</td>\n",
       "      <td>Office Supplies</td>\n",
       "      <td>Storage</td>\n",
       "      <td>22.3680</td>\n",
       "      <td>2</td>\n",
       "      <td>0.20</td>\n",
       "      <td>2.5164</td>\n",
       "    </tr>\n",
       "  </tbody>\n",
       "</table>\n",
       "</div>"
      ],
      "text/plain": [
       "        Ship Mode    Segment             City       State Region  \\\n",
       "0    Second Class   Consumer        Henderson    Kentucky  South   \n",
       "1    Second Class   Consumer        Henderson    Kentucky  South   \n",
       "2    Second Class  Corporate      Los Angeles  California   West   \n",
       "3  Standard Class   Consumer  Fort Lauderdale     Florida  South   \n",
       "4  Standard Class   Consumer  Fort Lauderdale     Florida  South   \n",
       "\n",
       "          Category Sub-Category     Sales  Quantity  Discount    Profit  \n",
       "0        Furniture    Bookcases  261.9600         2      0.00   41.9136  \n",
       "1        Furniture       Chairs  731.9400         3      0.00  219.5820  \n",
       "2  Office Supplies       Labels   14.6200         2      0.00    6.8714  \n",
       "3        Furniture       Tables  957.5775         5      0.45 -383.0310  \n",
       "4  Office Supplies      Storage   22.3680         2      0.20    2.5164  "
      ]
     },
     "execution_count": 36,
     "metadata": {},
     "output_type": "execute_result"
    }
   ],
   "source": [
    "model_df.head() "
   ]
  },
  {
   "cell_type": "code",
   "execution_count": 37,
   "id": "e8ea199b-1bbe-43a1-ba2b-6db2174eace2",
   "metadata": {},
   "outputs": [],
   "source": [
    "from sklearn.preprocessing import LabelEncoder\n",
    "label_encoder = LabelEncoder()\n",
    "\n",
    "cities = model_df['City']\n",
    "label_encoder.fit(cities)\n",
    "model_df['City'] = label_encoder.transform(model_df['City'])\n",
    "\n",
    "\n",
    "states = model_df['State']\n",
    "label_encoder.fit(states)\n",
    "model_df['State'] = label_encoder.transform(model_df['State'])"
   ]
  },
  {
   "cell_type": "markdown",
   "id": "b6182771-8e3f-4e6e-9f74-0fcbe1a1c578",
   "metadata": {},
   "source": [
    "## The data is ready."
   ]
  },
  {
   "cell_type": "code",
   "execution_count": 38,
   "id": "6667edee-d8c0-4e8a-958c-a9583e6ad45c",
   "metadata": {},
   "outputs": [],
   "source": [
    "# final Dataframe \n",
    "new_cols = ['Ship Mode', 'Segment', 'City', 'State', 'Region', 'Category', 'Sub-Category', 'Quantity', 'Discount', 'Profit', 'Sales']\n",
    "model_df_ra = model_df[new_cols].copy() # Clean model \n",
    "\n"
   ]
  },
  {
   "cell_type": "markdown",
   "id": "8be56e07-77ed-400d-b599-1d7ec31d8d83",
   "metadata": {},
   "source": [
    "### Turning values into categories enocoded categories:"
   ]
  },
  {
   "cell_type": "code",
   "execution_count": 39,
   "id": "e80167f7-82ad-4308-9949-7aab7f5ea773",
   "metadata": {},
   "outputs": [],
   "source": [
    "model_df_ra['Segment'] = model_df_ra['Segment'].astype('category').cat.codes\n",
    "model_df_ra['Region'] =  model_df_ra['Region'].astype('category').cat.codes\n",
    "model_df_ra['Category'] =  model_df_ra['Category'].astype('category').cat.codes\n",
    "model_df_ra['Sub-Category'] =  model_df_ra['Sub-Category'].astype('category').cat.codes\n",
    "model_df_ra['Ship Mode'] =  model_df_ra['Ship Mode'].astype('category').cat.codes"
   ]
  },
  {
   "cell_type": "markdown",
   "id": "2592dfbe-287f-48b7-aa5a-3830b4ec2402",
   "metadata": {},
   "source": [
    "# </b> <b style='color:#F05454'>Define </b> <b> a target column. </b> "
   ]
  },
  {
   "cell_type": "markdown",
   "id": "98899f3a-49a4-463b-8f37-0304e03c65e0",
   "metadata": {},
   "source": [
    "### split to train and test data"
   ]
  },
  {
   "cell_type": "code",
   "execution_count": 40,
   "id": "b026484f-1cee-4111-9bc0-097061f9b71d",
   "metadata": {},
   "outputs": [],
   "source": [
    "features = ['Ship Mode', 'Segment', 'City', 'State', 'Region', 'Quantity', 'Discount', 'Sales']\n",
    "pred_label = ['Profit'] "
   ]
  },
  {
   "cell_type": "markdown",
   "id": "b6fcb50c-5700-495b-9374-4b37d0e7d1b6",
   "metadata": {
    "tags": []
   },
   "source": [
    "# </b> <b style='color:#F05454'>Fit. </b>"
   ]
  },
  {
   "cell_type": "code",
   "execution_count": 41,
   "id": "17effc1b-7a41-46bb-a0c1-e94ffbefd4fa",
   "metadata": {},
   "outputs": [],
   "source": [
    "sc = StandardScaler()  # Normalize the data\n",
    "X = model_df_ra[features] \n",
    "y = model_df_ra[pred_label]\n",
    "X_train,X_test,y_train,y_test = train_test_split(X,y,test_size=0.2,random_state=42)  # Setup data for train&test\n",
    "X = sc.fit_transform(X)"
   ]
  },
  {
   "cell_type": "markdown",
   "id": "05688a39-30df-4d3e-83e4-358d3f82a9b9",
   "metadata": {
    "tags": []
   },
   "source": [
    "# </b> <b style='color:#F05454'>Predict. </b>"
   ]
  },
  {
   "cell_type": "code",
   "execution_count": 42,
   "id": "24893186-71f7-4545-802e-e43ea7ad21e1",
   "metadata": {},
   "outputs": [
    {
     "data": {
      "text/plain": [
       "LinearRegression()"
      ]
     },
     "execution_count": 42,
     "metadata": {},
     "output_type": "execute_result"
    }
   ],
   "source": [
    "from sklearn.preprocessing import PolynomialFeatures\n",
    "\n",
    "poly = PolynomialFeatures(degree = 2) # Setting rank \n",
    "X_poly = poly.fit_transform(X_train) # transform X to PolynomialFeatures.\n",
    " \n",
    "poly.fit(X_poly, y) # fit the algo\n",
    "lin2 = LinearRegression()\n",
    "lin2.fit(X_poly, y_train) # fit LinearRegression\n",
    "\n"
   ]
  },
  {
   "cell_type": "markdown",
   "id": "59687a26-b080-4394-815d-b205f37a51ea",
   "metadata": {
    "tags": []
   },
   "source": [
    "# </b> <b style='color:#F05454'>Evaluate. </b>"
   ]
  },
  {
   "cell_type": "code",
   "execution_count": 43,
   "id": "650c497a-8113-4407-bc0b-04717c3454c5",
   "metadata": {
    "tags": []
   },
   "outputs": [
    {
     "name": "stdout",
     "output_type": "stream",
     "text": [
      "MSE: 119.251\n"
     ]
    }
   ],
   "source": [
    "from sklearn.metrics import mean_squared_error as mse\n",
    "pred = lin2.predict(poly.fit_transform(X_test)) # Define pred var\n",
    "print(\"MSE: {:.3f}\".format(mse(pred,y_test,squared=False)))   # note for CDR cat units, since CDR is ordered there is logic in MSE\n",
    "a = pd.DataFrame(pred).reset_index() # predict var\n",
    "b = pd.DataFrame(y_test).reset_index() # 20% from the real data\n",
    "a.drop(columns='index', inplace=True)\n",
    "b.drop(columns='index', inplace=True)\n",
    "a.rename(columns = {0: 'Pred'},inplace = True)\n",
    "c = a.join(b)  "
   ]
  },
  {
   "cell_type": "code",
   "execution_count": 44,
   "id": "c2971ece-8ba6-40ab-91bc-6c3152088c21",
   "metadata": {
    "tags": []
   },
   "outputs": [
    {
     "data": {
      "image/png": "[encoded data removed]",
      "text/plain": [
       "<Figure size 1080x576 with 2 Axes>"
      ]
     },
     "metadata": {},
     "output_type": "display_data"
    }
   ],
   "source": [
    "sns.set_style(\"darkgrid\") # set theme\n",
    "\n",
    "\n",
    "fig, ax1 = plt.subplots(figsize=(15,8)) \n",
    "\n",
    "ax1.set_title('Evaluation of prediction.', fontweight='bold', fontsize=20)\n",
    "ax1.plot(a,linewidth=2)\n",
    "ax1.set_ylabel('Pred', rotation = 0)\n",
    "ax1.set_ylabel('Pred', color='#0290d5', fontweight='bold', fontsize=14)\n",
    "ax1.tick_params(axis='y', labelcolor='#0290d5', labelsize=14)\n",
    "\n",
    "\n",
    "ax2 = ax1.twinx()\n",
    "\n",
    "ax2.plot(b, color='#F05454', linewidth=1)\n",
    "ax2.set_ylabel('Test', rotation = 0);\n",
    "ax2.set_ylabel('Test', color='#F05454', fontweight='bold', fontsize=14)\n",
    "ax2.tick_params(axis='y', labelcolor='#F05454', labelsize=14)\n",
    "ax2.grid(False)\n"
   ]
  },
  {
   "cell_type": "markdown",
   "id": "1fd8a167-2181-4e42-b143-a247cc5a12d9",
   "metadata": {},
   "source": [
    "## סיכום חיזוי\n",
    "### כשאין דבר שיכול להבטיח את ההכנסה הבאה של הארגון במאה אחוז נאמר שמודל החיזוי בעל אחוזי ההצלחה הגבוהים ביותר הוא מודל מספיק טוב לקבלת תמונת מצב של הארגון שלנו. \n"
   ]
  },
  {
   "cell_type": "markdown",
   "id": "b3933cdb-cbbb-4098-9dfa-43862be00086",
   "metadata": {},
   "source": [
    "# </b> <b style='color:#F05454'>Business Understanding : </b> <b> why LinearRegression ? </b>"
   ]
  },
  {
   "cell_type": "markdown",
   "id": "10ad5ca7-8bda-4a2b-ae3d-eb81d02bd2b4",
   "metadata": {},
   "source": [
    "###   בחרנו בשיטת רגרסיה לינארית על מנת שנוכל לשלוט בנתונים העתידיים של החברה, כלומר בהינתן אינפורמציה של הדרג הניהולי כגון מיתון שמתקרב, חברות מתחרות חדשות בשוק, תביעות, שינויים תפעוליים אחרים ועוד...\n",
    "### נוכל לתת משקל לתחזית הרווח בהתאם - מעלת הפולינום תרד ותעלה בהתאמה לאחר שיקלול האינפורמציה שתתקבל\n",
    "### ככלל, נשאף להעמסות חסר\n",
    "\n",
    "---"
   ]
  },
  {
   "cell_type": "markdown",
   "id": "545c0f15-62d0-4d7e-96a6-f82cc8d28215",
   "metadata": {},
   "source": [
    "### [▲](#Top)"
   ]
  },
  {
   "cell_type": "markdown",
   "id": "1356000d-fff9-4c12-859e-dac11768248e",
   "metadata": {},
   "source": [
    "#  <b id=\"Summary.\"> <b style='color:#F05454'>Summary. </b>"
   ]
  },
  {
   "cell_type": "markdown",
   "id": "bf789a78-05bb-4e92-b6fc-b5432878fe97",
   "metadata": {},
   "source": [
    "## </b> <b style='color:#F05454'> \"לא החזק ביותר, או האינטיליגנטי ביותר הוא זה ששורד, אלא זה המגיב בדרך הטובה יותר לשינוי\" </b>\n",
    "#### יש למישהו מושג מי הגה משפט זה?\n",
    "####  אבי תורת האבולוציה צ'ארלס דרווין, כנראה לא ידע מה זה ניתוח נתונים, אבל במשפט אחד   הצליח לתמצת בצורה הטובה ביותר את הדרך להשגת התכלית של data science\n",
    "###  </b> <b style='color:#F05454'> בפרויקט שלנו ניסינו להיצמד למשפט זה. לקחנו דאטה של סופר על בחברה אמריקאית וניסינו לפענח אותו. ממש כמו כתב קוד. התחלנו מהמאקרו בהבנה של ניתוח עולם המכירות והרווחים  בדפוסים של הנחה. הבנו כי יש לצמצם את הראייה והחשיבה לעולמות של המיקרו. זאת עשינו  ע\"י הדיוק והירידה לפרטים אשר הובילה אותנו לאבחנה מדויקת ליעילות של המכירות והרווחים של החברה. </b>\n",
    "###  </b> <b style='color:#004caf'> לאחר מכן ניסינו לזהות את \"פניני היהלום\" שיש בתוך המידע. הנתונים האלה שמתחבאים מאחורי המספרים, כמו כתב סתרים שאם תפענח אותו תבין את גודל הפוטנציאל שיש לחברה  שלך.                                                                                                                                      הם יהיו נתונים מיוחדים, שוברי מערכה בתחרות בשוק הגדול. חשבנו על מה מייחד את הדאטה  שלנו, והבנו כי השוק האמריקאי הינו שוק קפטיליסטי מובהק שמונע על ידי כוחם של האנשים ולא של הקבוצה.  ובכך מצאנו את פנינת היהלום שלנו – השקעה באנשים ולא באיזור, מדינה,  מוצר ועוד...                                                                                                                        ולבסוף היישום. היכולת שדרווין דיבר עליה – \" אלא זה המגיב בדרך הטובה יותר לשינוי</b> \".\n",
    "### עיקר המטרה שלשמה התכנסנו – החיזוי. \n",
    "### מצאנו את הדרך שבה החיזוי יהיה מדויק, ישים ואידיאלי. חיזוי שיוביל לאסטרטגיה חדשה   בחברה, ומכאן לדאטה שתראה על התקדמות רווחית."
   ]
  },
  {
   "cell_type": "markdown",
   "id": "36f59058-8994-44d9-b39d-4a0512b49e1e",
   "metadata": {},
   "source": [
    "<div>\n",
    "<center><img src=\"https://github.com/Razelbaz1/my-project/blob/main/pics/RMBY2.jpeg?raw=true\"  width = \"500\"/>\n",
    "</div>"
   ]
  }
 ],
 "metadata": {
  "kernelspec": {
   "display_name": "Python 3 (ipykernel)",
   "language": "python",
   "name": "python3"
  },
  "language_info": {
   "codemirror_mode": {
    "name": "ipython",
    "version": 3
   },
   "file_extension": ".py",
   "mimetype": "text/x-python",
   "name": "python",
   "nbconvert_exporter": "python",
   "pygments_lexer": "ipython3",
   "version": "3.9.6"
  }
 },
 "nbformat": 4,
 "nbformat_minor": 5
}
