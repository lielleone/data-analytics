{
 "cells": [
  {
   "cell_type": "markdown",
   "metadata": {},
   "source": [
    "# Unit 2 - Reading files and basic selection and description\n",
    "---\n",
    "\n",
    "\n",
    "\n",
    "\n",
    "1. [Introducing Pandas](#section1)\n",
    "2. [Reading files](#section2)\n",
    "3. [Selecting data](#section3)\n",
    "4. [Describe the data](#section4)\n",
    "\n",
    "\n",
    "\n",
    "\n",
    "\n",
    "\n",
    "\n",
    "\n"
   ]
  },
  {
   "cell_type": "markdown",
   "metadata": {},
   "source": [
    "<a id='section1'></a>"
   ]
  },
  {
   "cell_type": "markdown",
   "metadata": {
    "jp-MarkdownHeadingCollapsed": true,
    "tags": []
   },
   "source": [
    "## 1. Introducing Pandas\n",
    "---\n",
    "\n",
    "<div>\n",
    "<img src=\"images/pandas.JPG\" width=\"400\"/>\n",
    "</div>\n",
    "\n",
    "\n",
    "\n",
    "[Panda's documentation](https://pandas.pydata.org/pandas-docs/stable/)\n",
    "\n"
   ]
  },
  {
   "cell_type": "markdown",
   "metadata": {},
   "source": [
    "To begin we need to import pandas\n",
    "When you see pd, know it is referring to pandas"
   ]
  },
  {
   "cell_type": "code",
   "execution_count": 1,
   "metadata": {},
   "outputs": [],
   "source": [
    "import numpy as np\n",
    "import pandas as pd"
   ]
  },
  {
   "cell_type": "markdown",
   "metadata": {},
   "source": [
    "Pandas is a popular Python library used for working in tabular data (similar to the data stored in a spreadsheet).\n",
    "\n",
    "There are two main data structure used by pandas\n",
    "- Series: like (but not exactly) a vector, list, or numpy array\n",
    "- Dataframe: like a table. \n",
    "\n",
    "\n"
   ]
  },
  {
   "cell_type": "markdown",
   "metadata": {
    "tags": []
   },
   "source": [
    "#### Creating a dataframe from lists:"
   ]
  },
  {
   "cell_type": "code",
   "execution_count": 2,
   "metadata": {},
   "outputs": [
    {
     "data": {
      "text/html": [
       "<div>\n",
       "<style scoped>\n",
       "    .dataframe tbody tr th:only-of-type {\n",
       "        vertical-align: middle;\n",
       "    }\n",
       "\n",
       "    .dataframe tbody tr th {\n",
       "        vertical-align: top;\n",
       "    }\n",
       "\n",
       "    .dataframe thead th {\n",
       "        text-align: right;\n",
       "    }\n",
       "</style>\n",
       "<table border=\"1\" class=\"dataframe\">\n",
       "  <thead>\n",
       "    <tr style=\"text-align: right;\">\n",
       "      <th></th>\n",
       "      <th>age</th>\n",
       "      <th>name</th>\n",
       "      <th>uni</th>\n",
       "    </tr>\n",
       "  </thead>\n",
       "  <tbody>\n",
       "    <tr>\n",
       "      <th>0</th>\n",
       "      <td>18</td>\n",
       "      <td>Jack</td>\n",
       "      <td>Ariel</td>\n",
       "    </tr>\n",
       "    <tr>\n",
       "      <th>1</th>\n",
       "      <td>19</td>\n",
       "      <td>Krish</td>\n",
       "      <td>TAU</td>\n",
       "    </tr>\n",
       "    <tr>\n",
       "      <th>2</th>\n",
       "      <td>21</td>\n",
       "      <td>Nick</td>\n",
       "      <td>BGU</td>\n",
       "    </tr>\n",
       "    <tr>\n",
       "      <th>3</th>\n",
       "      <td>20</td>\n",
       "      <td>Tom</td>\n",
       "      <td>Ariel</td>\n",
       "    </tr>\n",
       "  </tbody>\n",
       "</table>\n",
       "</div>"
      ],
      "text/plain": [
       "   age   name    uni\n",
       "0   18   Jack  Ariel\n",
       "1   19  Krish    TAU\n",
       "2   21   Nick    BGU\n",
       "3   20    Tom  Ariel"
      ]
     },
     "execution_count": 2,
     "metadata": {},
     "output_type": "execute_result"
    }
   ],
   "source": [
    "name_lst = ['Jack', 'Krish', 'Nick', 'Tom']\n",
    "age_lst = [18, 19, 21, 20]\n",
    "uni_lst = ['Ariel','TAU','BGU','Ariel']\n",
    "df = pd.DataFrame({'age': age_lst, 'name': name_lst, 'uni':uni_lst})\n",
    "df"
   ]
  },
  {
   "cell_type": "markdown",
   "metadata": {
    "tags": []
   },
   "source": [
    "#### Creating a dataframe from a dictionary:"
   ]
  },
  {
   "cell_type": "code",
   "execution_count": 3,
   "metadata": {},
   "outputs": [],
   "source": [
    "age_dict = {'Tom':20, 'Nick':21, 'Krish':19, 'Jack':18} \n",
    "uni_dict = {'Tom': 'Ariel', 'Nick':'TAU', 'Krish':'BGU'}"
   ]
  },
  {
   "cell_type": "code",
   "execution_count": 4,
   "metadata": {},
   "outputs": [
    {
     "data": {
      "text/html": [
       "<div>\n",
       "<style scoped>\n",
       "    .dataframe tbody tr th:only-of-type {\n",
       "        vertical-align: middle;\n",
       "    }\n",
       "\n",
       "    .dataframe tbody tr th {\n",
       "        vertical-align: top;\n",
       "    }\n",
       "\n",
       "    .dataframe thead th {\n",
       "        text-align: right;\n",
       "    }\n",
       "</style>\n",
       "<table border=\"1\" class=\"dataframe\">\n",
       "  <thead>\n",
       "    <tr style=\"text-align: right;\">\n",
       "      <th></th>\n",
       "      <th>age</th>\n",
       "      <th>university</th>\n",
       "    </tr>\n",
       "  </thead>\n",
       "  <tbody>\n",
       "    <tr>\n",
       "      <th>Tom</th>\n",
       "      <td>Ariel</td>\n",
       "      <td>20</td>\n",
       "    </tr>\n",
       "    <tr>\n",
       "      <th>Nick</th>\n",
       "      <td>TAU</td>\n",
       "      <td>21</td>\n",
       "    </tr>\n",
       "    <tr>\n",
       "      <th>Krish</th>\n",
       "      <td>BGU</td>\n",
       "      <td>19</td>\n",
       "    </tr>\n",
       "    <tr>\n",
       "      <th>Jack</th>\n",
       "      <td>NaN</td>\n",
       "      <td>18</td>\n",
       "    </tr>\n",
       "  </tbody>\n",
       "</table>\n",
       "</div>"
      ],
      "text/plain": [
       "         age  university\n",
       "Tom    Ariel          20\n",
       "Nick     TAU          21\n",
       "Krish    BGU          19\n",
       "Jack     NaN          18"
      ]
     },
     "execution_count": 4,
     "metadata": {},
     "output_type": "execute_result"
    }
   ],
   "source": [
    "df = pd.DataFrame({'age': uni_dict, 'university': age_dict})\n",
    "df"
   ]
  },
  {
   "cell_type": "markdown",
   "metadata": {},
   "source": [
    "Note: \n",
    "- In this dataframe, the index is not numeric\n",
    "- Where did the `NaN` come from?"
   ]
  },
  {
   "cell_type": "markdown",
   "metadata": {
    "tags": []
   },
   "source": [
    "#### Creating a dataframe from series\n",
    "Let's change the dictionaries to series:"
   ]
  },
  {
   "cell_type": "code",
   "execution_count": 5,
   "metadata": {},
   "outputs": [
    {
     "data": {
      "text/plain": [
       "Tom      20\n",
       "Nick     21\n",
       "Krish    19\n",
       "Jack     18\n",
       "dtype: int64"
      ]
     },
     "execution_count": 5,
     "metadata": {},
     "output_type": "execute_result"
    }
   ],
   "source": [
    "age_s=pd.Series(age_dict)\n",
    "age_s"
   ]
  },
  {
   "cell_type": "markdown",
   "metadata": {},
   "source": [
    "another one:"
   ]
  },
  {
   "cell_type": "code",
   "execution_count": 6,
   "metadata": {},
   "outputs": [
    {
     "data": {
      "text/plain": [
       "Tom      Ariel\n",
       "Nick       TAU\n",
       "Krish      BGU\n",
       "dtype: object"
      ]
     },
     "execution_count": 6,
     "metadata": {},
     "output_type": "execute_result"
    }
   ],
   "source": [
    "uni_s = pd.Series(uni_dict)\n",
    "uni_s"
   ]
  },
  {
   "cell_type": "markdown",
   "metadata": {},
   "source": [
    "<a id='section2'></a>\n"
   ]
  },
  {
   "cell_type": "markdown",
   "metadata": {},
   "source": [
    "A data frame from two series:"
   ]
  },
  {
   "cell_type": "code",
   "execution_count": 7,
   "metadata": {},
   "outputs": [
    {
     "data": {
      "text/html": [
       "<div>\n",
       "<style scoped>\n",
       "    .dataframe tbody tr th:only-of-type {\n",
       "        vertical-align: middle;\n",
       "    }\n",
       "\n",
       "    .dataframe tbody tr th {\n",
       "        vertical-align: top;\n",
       "    }\n",
       "\n",
       "    .dataframe thead th {\n",
       "        text-align: right;\n",
       "    }\n",
       "</style>\n",
       "<table border=\"1\" class=\"dataframe\">\n",
       "  <thead>\n",
       "    <tr style=\"text-align: right;\">\n",
       "      <th></th>\n",
       "      <th>age</th>\n",
       "      <th>university</th>\n",
       "    </tr>\n",
       "  </thead>\n",
       "  <tbody>\n",
       "    <tr>\n",
       "      <th>Jack</th>\n",
       "      <td>18</td>\n",
       "      <td>NaN</td>\n",
       "    </tr>\n",
       "    <tr>\n",
       "      <th>Krish</th>\n",
       "      <td>19</td>\n",
       "      <td>BGU</td>\n",
       "    </tr>\n",
       "    <tr>\n",
       "      <th>Nick</th>\n",
       "      <td>21</td>\n",
       "      <td>TAU</td>\n",
       "    </tr>\n",
       "    <tr>\n",
       "      <th>Tom</th>\n",
       "      <td>20</td>\n",
       "      <td>Ariel</td>\n",
       "    </tr>\n",
       "  </tbody>\n",
       "</table>\n",
       "</div>"
      ],
      "text/plain": [
       "       age university\n",
       "Jack    18        NaN\n",
       "Krish   19        BGU\n",
       "Nick    21        TAU\n",
       "Tom     20      Ariel"
      ]
     },
     "execution_count": 7,
     "metadata": {},
     "output_type": "execute_result"
    }
   ],
   "source": [
    "df = pd.DataFrame({'age': age_s, 'university': uni_s})\n",
    "df"
   ]
  },
  {
   "cell_type": "code",
   "execution_count": 8,
   "metadata": {},
   "outputs": [
    {
     "data": {
      "text/plain": [
       "Jack     18\n",
       "Krish    19\n",
       "Nick     21\n",
       "Tom      20\n",
       "Name: age, dtype: int64"
      ]
     },
     "execution_count": 8,
     "metadata": {},
     "output_type": "execute_result"
    }
   ],
   "source": [
    "df['age']"
   ]
  },
  {
   "cell_type": "code",
   "execution_count": 9,
   "metadata": {},
   "outputs": [
    {
     "data": {
      "text/plain": [
       "Index(['Jack', 'Krish', 'Nick', 'Tom'], dtype='object')"
      ]
     },
     "execution_count": 9,
     "metadata": {},
     "output_type": "execute_result"
    }
   ],
   "source": [
    "df.index"
   ]
  },
  {
   "cell_type": "code",
   "execution_count": 10,
   "metadata": {},
   "outputs": [
    {
     "data": {
      "text/plain": [
       "Index(['age', 'university'], dtype='object')"
      ]
     },
     "execution_count": 10,
     "metadata": {},
     "output_type": "execute_result"
    }
   ],
   "source": [
    "df.columns"
   ]
  },
  {
   "cell_type": "markdown",
   "metadata": {},
   "source": [
    "So: each column in a pandas Dataframe is a pandas Series data structure.\\\n",
    "But usually we will create a Pandas Dataframe by reading a file"
   ]
  },
  {
   "cell_type": "markdown",
   "metadata": {
    "jp-MarkdownHeadingCollapsed": true,
    "tags": []
   },
   "source": [
    "## 2. Reading files\n",
    "---\n",
    "\n",
    "<div>\n",
    "<img src=\"images/reading.PNG\" width=\"400\"/>\n",
    "</div>\n",
    "\n",
    "\n",
    "We will read the whole file at once using Pandas.\n",
    "Sometimes you might want to read the file line by line, and process each line. Thats possible of course. See for example [here.](https://www.geeksforgeeks.org/read-a-file-line-by-line-in-python/)\n",
    "\n",
    "We will read data on [COVID-19 vaccinations](https://github.com/owid/covid-19-data/tree/master/public/data/vaccinations)\n",
    "\n",
    "In order to do that, I retrieved the raw data's url\n",
    "\n",
    "Press on raw either here:\n",
    "\n",
    "<div>\n",
    "<img src=\"images/raw.png\" width=\"800\"/>\n",
    "</div>\n",
    "\n",
    "or here:\n",
    "\n",
    "<div>\n",
    "<img src=\"images/unit1_raw2.jpg\" width=\"800\"/>\n",
    "</div>\n",
    "\n",
    "and retrieve the link:\n",
    "\n",
    "<div>\n",
    "<img src=\"images/unit1_raw3.jpg\" width=\"800\"/>\n",
    "</div>\n",
    "\n"
   ]
  },
  {
   "cell_type": "code",
   "execution_count": 11,
   "metadata": {},
   "outputs": [],
   "source": [
    "url = 'https://raw.githubusercontent.com/owid/covid-19-data/master/public/data/vaccinations/vaccinations.csv'\n",
    "vacc_df = pd.read_csv(url)"
   ]
  },
  {
   "cell_type": "markdown",
   "metadata": {},
   "source": [
    "read_csv has about 30 different options. See the \n",
    "[documentation](https://pandas.pydata.org/pandasdocs/stable/reference/api/pandas.read_csv.html#pandas.read_csv)\n",
    "\n",
    "For example, sep='\\t' is used for tab delimited files and 'usecol' reads only specific columns. "
   ]
  },
  {
   "cell_type": "code",
   "execution_count": 12,
   "metadata": {},
   "outputs": [
    {
     "data": {
      "text/plain": [
       "pandas.core.frame.DataFrame"
      ]
     },
     "execution_count": 12,
     "metadata": {},
     "output_type": "execute_result"
    }
   ],
   "source": [
    "type(vacc_df)"
   ]
  },
  {
   "cell_type": "markdown",
   "metadata": {},
   "source": [
    "view the shape of the dataframe:"
   ]
  },
  {
   "cell_type": "code",
   "execution_count": 13,
   "metadata": {},
   "outputs": [
    {
     "data": {
      "text/plain": [
       "(157996, 16)"
      ]
     },
     "execution_count": 13,
     "metadata": {},
     "output_type": "execute_result"
    }
   ],
   "source": [
    "vacc_df.shape"
   ]
  },
  {
   "cell_type": "markdown",
   "metadata": {},
   "source": [
    "view basic information:"
   ]
  },
  {
   "cell_type": "code",
   "execution_count": 14,
   "metadata": {},
   "outputs": [
    {
     "name": "stdout",
     "output_type": "stream",
     "text": [
      "<class 'pandas.core.frame.DataFrame'>\n",
      "RangeIndex: 157996 entries, 0 to 157995\n",
      "Data columns (total 16 columns):\n",
      " #   Column                               Non-Null Count   Dtype  \n",
      "---  ------                               --------------   -----  \n",
      " 0   location                             157996 non-null  object \n",
      " 1   iso_code                             157996 non-null  object \n",
      " 2   date                                 157996 non-null  object \n",
      " 3   total_vaccinations                   72870 non-null   float64\n",
      " 4   people_vaccinated                    69773 non-null   float64\n",
      " 5   people_fully_vaccinated              67114 non-null   float64\n",
      " 6   total_boosters                       41598 non-null   float64\n",
      " 7   daily_vaccinations_raw               60447 non-null   float64\n",
      " 8   daily_vaccinations                   156880 non-null  float64\n",
      " 9   total_vaccinations_per_hundred       72870 non-null   float64\n",
      " 10  people_vaccinated_per_hundred        69773 non-null   float64\n",
      " 11  people_fully_vaccinated_per_hundred  67114 non-null   float64\n",
      " 12  total_boosters_per_hundred           41598 non-null   float64\n",
      " 13  daily_vaccinations_per_million       156880 non-null  float64\n",
      " 14  daily_people_vaccinated              156802 non-null  float64\n",
      " 15  daily_people_vaccinated_per_hundred  156802 non-null  float64\n",
      "dtypes: float64(13), object(3)\n",
      "memory usage: 19.3+ MB\n"
     ]
    }
   ],
   "source": [
    "vacc_df.info()"
   ]
  },
  {
   "cell_type": "code",
   "execution_count": 15,
   "metadata": {},
   "outputs": [
    {
     "data": {
      "text/plain": [
       "Index(['location', 'iso_code', 'date', 'total_vaccinations',\n",
       "       'people_vaccinated', 'people_fully_vaccinated', 'total_boosters',\n",
       "       'daily_vaccinations_raw', 'daily_vaccinations',\n",
       "       'total_vaccinations_per_hundred', 'people_vaccinated_per_hundred',\n",
       "       'people_fully_vaccinated_per_hundred', 'total_boosters_per_hundred',\n",
       "       'daily_vaccinations_per_million', 'daily_people_vaccinated',\n",
       "       'daily_people_vaccinated_per_hundred'],\n",
       "      dtype='object')"
      ]
     },
     "execution_count": 15,
     "metadata": {},
     "output_type": "execute_result"
    }
   ],
   "source": [
    "vacc_df.columns"
   ]
  },
  {
   "cell_type": "markdown",
   "metadata": {},
   "source": [
    "We can view unique values:"
   ]
  },
  {
   "cell_type": "code",
   "execution_count": 16,
   "metadata": {},
   "outputs": [
    {
     "data": {
      "text/plain": [
       "array(['Afghanistan', 'Africa', 'Albania', 'Algeria', 'Andorra', 'Angola',\n",
       "       'Anguilla', 'Antigua and Barbuda', 'Argentina', 'Armenia', 'Aruba',\n",
       "       'Asia', 'Australia', 'Austria', 'Azerbaijan', 'Bahamas', 'Bahrain',\n",
       "       'Bangladesh', 'Barbados', 'Belarus', 'Belgium', 'Belize', 'Benin',\n",
       "       'Bermuda', 'Bhutan', 'Bolivia', 'Bonaire Sint Eustatius and Saba',\n",
       "       'Bosnia and Herzegovina', 'Botswana', 'Brazil',\n",
       "       'British Virgin Islands', 'Brunei', 'Bulgaria', 'Burkina Faso',\n",
       "       'Burundi', 'Cambodia', 'Cameroon', 'Canada', 'Cape Verde',\n",
       "       'Cayman Islands', 'Central African Republic', 'Chad', 'Chile',\n",
       "       'China', 'Colombia', 'Comoros', 'Congo', 'Cook Islands',\n",
       "       'Costa Rica', \"Cote d'Ivoire\", 'Croatia', 'Cuba', 'Curacao',\n",
       "       'Cyprus', 'Czechia', 'Democratic Republic of Congo', 'Denmark',\n",
       "       'Djibouti', 'Dominica', 'Dominican Republic', 'Ecuador', 'Egypt',\n",
       "       'El Salvador', 'England', 'Equatorial Guinea', 'Estonia',\n",
       "       'Eswatini', 'Ethiopia', 'Europe', 'European Union',\n",
       "       'Faeroe Islands', 'Falkland Islands', 'Fiji', 'Finland', 'France',\n",
       "       'French Polynesia', 'Gabon', 'Gambia', 'Georgia', 'Germany',\n",
       "       'Ghana', 'Gibraltar', 'Greece', 'Greenland', 'Grenada',\n",
       "       'Guatemala', 'Guernsey', 'Guinea', 'Guinea-Bissau', 'Guyana',\n",
       "       'Haiti', 'High income', 'Honduras', 'Hong Kong', 'Hungary',\n",
       "       'Iceland', 'India', 'Indonesia', 'Iran', 'Iraq', 'Ireland',\n",
       "       'Isle of Man', 'Israel', 'Italy', 'Jamaica', 'Japan', 'Jersey',\n",
       "       'Jordan', 'Kazakhstan', 'Kenya', 'Kiribati', 'Kosovo', 'Kuwait',\n",
       "       'Kyrgyzstan', 'Laos', 'Latvia', 'Lebanon', 'Lesotho', 'Liberia',\n",
       "       'Libya', 'Liechtenstein', 'Lithuania', 'Low income',\n",
       "       'Lower middle income', 'Luxembourg', 'Macao', 'Madagascar',\n",
       "       'Malawi', 'Malaysia', 'Maldives', 'Mali', 'Malta', 'Mauritania',\n",
       "       'Mauritius', 'Mexico', 'Moldova', 'Monaco', 'Mongolia',\n",
       "       'Montenegro', 'Montserrat', 'Morocco', 'Mozambique', 'Myanmar',\n",
       "       'Namibia', 'Nauru', 'Nepal', 'Netherlands', 'New Caledonia',\n",
       "       'New Zealand', 'Nicaragua', 'Niger', 'Nigeria', 'Niue',\n",
       "       'North America', 'North Macedonia', 'Northern Cyprus',\n",
       "       'Northern Ireland', 'Norway', 'Oceania', 'Oman', 'Pakistan',\n",
       "       'Palestine', 'Panama', 'Papua New Guinea', 'Paraguay', 'Peru',\n",
       "       'Philippines', 'Pitcairn', 'Poland', 'Portugal', 'Qatar',\n",
       "       'Romania', 'Russia', 'Rwanda', 'Saint Helena',\n",
       "       'Saint Kitts and Nevis', 'Saint Lucia',\n",
       "       'Saint Vincent and the Grenadines', 'Samoa', 'San Marino',\n",
       "       'Sao Tome and Principe', 'Saudi Arabia', 'Scotland', 'Senegal',\n",
       "       'Serbia', 'Seychelles', 'Sierra Leone', 'Singapore',\n",
       "       'Sint Maarten (Dutch part)', 'Slovakia', 'Slovenia',\n",
       "       'Solomon Islands', 'Somalia', 'South Africa', 'South America',\n",
       "       'South Korea', 'South Sudan', 'Spain', 'Sri Lanka', 'Sudan',\n",
       "       'Suriname', 'Sweden', 'Switzerland', 'Syria', 'Taiwan',\n",
       "       'Tajikistan', 'Tanzania', 'Thailand', 'Timor', 'Togo', 'Tokelau',\n",
       "       'Tonga', 'Trinidad and Tobago', 'Tunisia', 'Turkey',\n",
       "       'Turkmenistan', 'Turks and Caicos Islands', 'Tuvalu', 'Uganda',\n",
       "       'Ukraine', 'United Arab Emirates', 'United Kingdom',\n",
       "       'United States', 'Upper middle income', 'Uruguay', 'Uzbekistan',\n",
       "       'Vanuatu', 'Venezuela', 'Vietnam', 'Wales', 'Wallis and Futuna',\n",
       "       'World', 'Yemen', 'Zambia', 'Zimbabwe'], dtype=object)"
      ]
     },
     "execution_count": 16,
     "metadata": {},
     "output_type": "execute_result"
    }
   ],
   "source": [
    "vacc_df['location'].unique()"
   ]
  },
  {
   "cell_type": "markdown",
   "metadata": {},
   "source": [
    "View the first few rows:"
   ]
  },
  {
   "cell_type": "code",
   "execution_count": 17,
   "metadata": {},
   "outputs": [
    {
     "data": {
      "text/html": [
       "<div>\n",
       "<style scoped>\n",
       "    .dataframe tbody tr th:only-of-type {\n",
       "        vertical-align: middle;\n",
       "    }\n",
       "\n",
       "    .dataframe tbody tr th {\n",
       "        vertical-align: top;\n",
       "    }\n",
       "\n",
       "    .dataframe thead th {\n",
       "        text-align: right;\n",
       "    }\n",
       "</style>\n",
       "<table border=\"1\" class=\"dataframe\">\n",
       "  <thead>\n",
       "    <tr style=\"text-align: right;\">\n",
       "      <th></th>\n",
       "      <th>location</th>\n",
       "      <th>iso_code</th>\n",
       "      <th>date</th>\n",
       "      <th>total_vaccinations</th>\n",
       "      <th>people_vaccinated</th>\n",
       "      <th>people_fully_vaccinated</th>\n",
       "      <th>total_boosters</th>\n",
       "      <th>daily_vaccinations_raw</th>\n",
       "      <th>daily_vaccinations</th>\n",
       "      <th>total_vaccinations_per_hundred</th>\n",
       "      <th>people_vaccinated_per_hundred</th>\n",
       "      <th>people_fully_vaccinated_per_hundred</th>\n",
       "      <th>total_boosters_per_hundred</th>\n",
       "      <th>daily_vaccinations_per_million</th>\n",
       "      <th>daily_people_vaccinated</th>\n",
       "      <th>daily_people_vaccinated_per_hundred</th>\n",
       "    </tr>\n",
       "  </thead>\n",
       "  <tbody>\n",
       "    <tr>\n",
       "      <th>0</th>\n",
       "      <td>Afghanistan</td>\n",
       "      <td>AFG</td>\n",
       "      <td>2021-02-22</td>\n",
       "      <td>0.0</td>\n",
       "      <td>0.0</td>\n",
       "      <td>NaN</td>\n",
       "      <td>NaN</td>\n",
       "      <td>NaN</td>\n",
       "      <td>NaN</td>\n",
       "      <td>0.0</td>\n",
       "      <td>0.0</td>\n",
       "      <td>NaN</td>\n",
       "      <td>NaN</td>\n",
       "      <td>NaN</td>\n",
       "      <td>NaN</td>\n",
       "      <td>NaN</td>\n",
       "    </tr>\n",
       "    <tr>\n",
       "      <th>1</th>\n",
       "      <td>Afghanistan</td>\n",
       "      <td>AFG</td>\n",
       "      <td>2021-02-23</td>\n",
       "      <td>NaN</td>\n",
       "      <td>NaN</td>\n",
       "      <td>NaN</td>\n",
       "      <td>NaN</td>\n",
       "      <td>NaN</td>\n",
       "      <td>1367.0</td>\n",
       "      <td>NaN</td>\n",
       "      <td>NaN</td>\n",
       "      <td>NaN</td>\n",
       "      <td>NaN</td>\n",
       "      <td>33.0</td>\n",
       "      <td>1367.0</td>\n",
       "      <td>0.003</td>\n",
       "    </tr>\n",
       "    <tr>\n",
       "      <th>2</th>\n",
       "      <td>Afghanistan</td>\n",
       "      <td>AFG</td>\n",
       "      <td>2021-02-24</td>\n",
       "      <td>NaN</td>\n",
       "      <td>NaN</td>\n",
       "      <td>NaN</td>\n",
       "      <td>NaN</td>\n",
       "      <td>NaN</td>\n",
       "      <td>1367.0</td>\n",
       "      <td>NaN</td>\n",
       "      <td>NaN</td>\n",
       "      <td>NaN</td>\n",
       "      <td>NaN</td>\n",
       "      <td>33.0</td>\n",
       "      <td>1367.0</td>\n",
       "      <td>0.003</td>\n",
       "    </tr>\n",
       "    <tr>\n",
       "      <th>3</th>\n",
       "      <td>Afghanistan</td>\n",
       "      <td>AFG</td>\n",
       "      <td>2021-02-25</td>\n",
       "      <td>NaN</td>\n",
       "      <td>NaN</td>\n",
       "      <td>NaN</td>\n",
       "      <td>NaN</td>\n",
       "      <td>NaN</td>\n",
       "      <td>1367.0</td>\n",
       "      <td>NaN</td>\n",
       "      <td>NaN</td>\n",
       "      <td>NaN</td>\n",
       "      <td>NaN</td>\n",
       "      <td>33.0</td>\n",
       "      <td>1367.0</td>\n",
       "      <td>0.003</td>\n",
       "    </tr>\n",
       "    <tr>\n",
       "      <th>4</th>\n",
       "      <td>Afghanistan</td>\n",
       "      <td>AFG</td>\n",
       "      <td>2021-02-26</td>\n",
       "      <td>NaN</td>\n",
       "      <td>NaN</td>\n",
       "      <td>NaN</td>\n",
       "      <td>NaN</td>\n",
       "      <td>NaN</td>\n",
       "      <td>1367.0</td>\n",
       "      <td>NaN</td>\n",
       "      <td>NaN</td>\n",
       "      <td>NaN</td>\n",
       "      <td>NaN</td>\n",
       "      <td>33.0</td>\n",
       "      <td>1367.0</td>\n",
       "      <td>0.003</td>\n",
       "    </tr>\n",
       "  </tbody>\n",
       "</table>\n",
       "</div>"
      ],
      "text/plain": [
       "      location iso_code        date  total_vaccinations  people_vaccinated  \\\n",
       "0  Afghanistan      AFG  2021-02-22                 0.0                0.0   \n",
       "1  Afghanistan      AFG  2021-02-23                 NaN                NaN   \n",
       "2  Afghanistan      AFG  2021-02-24                 NaN                NaN   \n",
       "3  Afghanistan      AFG  2021-02-25                 NaN                NaN   \n",
       "4  Afghanistan      AFG  2021-02-26                 NaN                NaN   \n",
       "\n",
       "   people_fully_vaccinated  total_boosters  daily_vaccinations_raw  \\\n",
       "0                      NaN             NaN                     NaN   \n",
       "1                      NaN             NaN                     NaN   \n",
       "2                      NaN             NaN                     NaN   \n",
       "3                      NaN             NaN                     NaN   \n",
       "4                      NaN             NaN                     NaN   \n",
       "\n",
       "   daily_vaccinations  total_vaccinations_per_hundred  \\\n",
       "0                 NaN                             0.0   \n",
       "1              1367.0                             NaN   \n",
       "2              1367.0                             NaN   \n",
       "3              1367.0                             NaN   \n",
       "4              1367.0                             NaN   \n",
       "\n",
       "   people_vaccinated_per_hundred  people_fully_vaccinated_per_hundred  \\\n",
       "0                            0.0                                  NaN   \n",
       "1                            NaN                                  NaN   \n",
       "2                            NaN                                  NaN   \n",
       "3                            NaN                                  NaN   \n",
       "4                            NaN                                  NaN   \n",
       "\n",
       "   total_boosters_per_hundred  daily_vaccinations_per_million  \\\n",
       "0                         NaN                             NaN   \n",
       "1                         NaN                            33.0   \n",
       "2                         NaN                            33.0   \n",
       "3                         NaN                            33.0   \n",
       "4                         NaN                            33.0   \n",
       "\n",
       "   daily_people_vaccinated  daily_people_vaccinated_per_hundred  \n",
       "0                      NaN                                  NaN  \n",
       "1                   1367.0                                0.003  \n",
       "2                   1367.0                                0.003  \n",
       "3                   1367.0                                0.003  \n",
       "4                   1367.0                                0.003  "
      ]
     },
     "execution_count": 17,
     "metadata": {},
     "output_type": "execute_result"
    }
   ],
   "source": [
    "vacc_df.head()"
   ]
  },
  {
   "cell_type": "markdown",
   "metadata": {},
   "source": [
    "### <span style=\"color:blue\"> Exercise:</span>\n",
    " >What do you think that the 'tail' command does? Try it out!\n",
    ">\n",
    ">What happens if we just type vacc_df, without a head or a tail?"
   ]
  },
  {
   "cell_type": "code",
   "execution_count": null,
   "metadata": {},
   "outputs": [],
   "source": []
  },
  {
   "cell_type": "code",
   "execution_count": null,
   "metadata": {},
   "outputs": [],
   "source": []
  },
  {
   "cell_type": "markdown",
   "metadata": {},
   "source": [
    "---\n",
    "A summary of the functions so far:\n",
    "\n",
    ">* `pd.read_csv` - Read data from a CSV file into a Pandas `DataFrame` object\n",
    ">* `.info()` - View basic infomation about rows, columns & data types\n",
    ">* `.columns` - Get the list of column names\n",
    ">* `.shape` - Get the number of rows & columns as a tuple\n",
    ">* `.head()`, `.tail()` - View the beginning/end of the file\n",
    ">* `.unique()` - view the unique entries in a series (not a dataframe) object\n"
   ]
  },
  {
   "cell_type": "markdown",
   "metadata": {},
   "source": [
    "<a id='section3'></a>"
   ]
  },
  {
   "cell_type": "markdown",
   "metadata": {
    "tags": []
   },
   "source": [
    "---\n",
    "## 3. Selecting data\n",
    "\n",
    "This is a dataframe:\n",
    "\n",
    "<a href=\"https://i.imgur.com/zfxLzEv.png\">\n",
    "  <img src=\"https://i.imgur.com/zfxLzEv.png\" width=\"800\" />\n",
    "</a>\n",
    "\n",
    "\n",
    "\n"
   ]
  },
  {
   "cell_type": "code",
   "execution_count": 18,
   "metadata": {},
   "outputs": [
    {
     "data": {
      "text/html": [
       "<div>\n",
       "<style scoped>\n",
       "    .dataframe tbody tr th:only-of-type {\n",
       "        vertical-align: middle;\n",
       "    }\n",
       "\n",
       "    .dataframe tbody tr th {\n",
       "        vertical-align: top;\n",
       "    }\n",
       "\n",
       "    .dataframe thead th {\n",
       "        text-align: right;\n",
       "    }\n",
       "</style>\n",
       "<table border=\"1\" class=\"dataframe\">\n",
       "  <thead>\n",
       "    <tr style=\"text-align: right;\">\n",
       "      <th></th>\n",
       "      <th>location</th>\n",
       "      <th>iso_code</th>\n",
       "      <th>date</th>\n",
       "      <th>total_vaccinations</th>\n",
       "      <th>people_vaccinated</th>\n",
       "      <th>people_fully_vaccinated</th>\n",
       "      <th>total_boosters</th>\n",
       "      <th>daily_vaccinations_raw</th>\n",
       "      <th>daily_vaccinations</th>\n",
       "      <th>total_vaccinations_per_hundred</th>\n",
       "      <th>people_vaccinated_per_hundred</th>\n",
       "      <th>people_fully_vaccinated_per_hundred</th>\n",
       "      <th>total_boosters_per_hundred</th>\n",
       "      <th>daily_vaccinations_per_million</th>\n",
       "      <th>daily_people_vaccinated</th>\n",
       "      <th>daily_people_vaccinated_per_hundred</th>\n",
       "    </tr>\n",
       "  </thead>\n",
       "  <tbody>\n",
       "    <tr>\n",
       "      <th>0</th>\n",
       "      <td>Afghanistan</td>\n",
       "      <td>AFG</td>\n",
       "      <td>2021-02-22</td>\n",
       "      <td>0.0</td>\n",
       "      <td>0.0</td>\n",
       "      <td>NaN</td>\n",
       "      <td>NaN</td>\n",
       "      <td>NaN</td>\n",
       "      <td>NaN</td>\n",
       "      <td>0.0</td>\n",
       "      <td>0.0</td>\n",
       "      <td>NaN</td>\n",
       "      <td>NaN</td>\n",
       "      <td>NaN</td>\n",
       "      <td>NaN</td>\n",
       "      <td>NaN</td>\n",
       "    </tr>\n",
       "    <tr>\n",
       "      <th>1</th>\n",
       "      <td>Afghanistan</td>\n",
       "      <td>AFG</td>\n",
       "      <td>2021-02-23</td>\n",
       "      <td>NaN</td>\n",
       "      <td>NaN</td>\n",
       "      <td>NaN</td>\n",
       "      <td>NaN</td>\n",
       "      <td>NaN</td>\n",
       "      <td>1367.0</td>\n",
       "      <td>NaN</td>\n",
       "      <td>NaN</td>\n",
       "      <td>NaN</td>\n",
       "      <td>NaN</td>\n",
       "      <td>33.0</td>\n",
       "      <td>1367.0</td>\n",
       "      <td>0.003</td>\n",
       "    </tr>\n",
       "    <tr>\n",
       "      <th>2</th>\n",
       "      <td>Afghanistan</td>\n",
       "      <td>AFG</td>\n",
       "      <td>2021-02-24</td>\n",
       "      <td>NaN</td>\n",
       "      <td>NaN</td>\n",
       "      <td>NaN</td>\n",
       "      <td>NaN</td>\n",
       "      <td>NaN</td>\n",
       "      <td>1367.0</td>\n",
       "      <td>NaN</td>\n",
       "      <td>NaN</td>\n",
       "      <td>NaN</td>\n",
       "      <td>NaN</td>\n",
       "      <td>33.0</td>\n",
       "      <td>1367.0</td>\n",
       "      <td>0.003</td>\n",
       "    </tr>\n",
       "    <tr>\n",
       "      <th>3</th>\n",
       "      <td>Afghanistan</td>\n",
       "      <td>AFG</td>\n",
       "      <td>2021-02-25</td>\n",
       "      <td>NaN</td>\n",
       "      <td>NaN</td>\n",
       "      <td>NaN</td>\n",
       "      <td>NaN</td>\n",
       "      <td>NaN</td>\n",
       "      <td>1367.0</td>\n",
       "      <td>NaN</td>\n",
       "      <td>NaN</td>\n",
       "      <td>NaN</td>\n",
       "      <td>NaN</td>\n",
       "      <td>33.0</td>\n",
       "      <td>1367.0</td>\n",
       "      <td>0.003</td>\n",
       "    </tr>\n",
       "    <tr>\n",
       "      <th>4</th>\n",
       "      <td>Afghanistan</td>\n",
       "      <td>AFG</td>\n",
       "      <td>2021-02-26</td>\n",
       "      <td>NaN</td>\n",
       "      <td>NaN</td>\n",
       "      <td>NaN</td>\n",
       "      <td>NaN</td>\n",
       "      <td>NaN</td>\n",
       "      <td>1367.0</td>\n",
       "      <td>NaN</td>\n",
       "      <td>NaN</td>\n",
       "      <td>NaN</td>\n",
       "      <td>NaN</td>\n",
       "      <td>33.0</td>\n",
       "      <td>1367.0</td>\n",
       "      <td>0.003</td>\n",
       "    </tr>\n",
       "  </tbody>\n",
       "</table>\n",
       "</div>"
      ],
      "text/plain": [
       "      location iso_code        date  total_vaccinations  people_vaccinated  \\\n",
       "0  Afghanistan      AFG  2021-02-22                 0.0                0.0   \n",
       "1  Afghanistan      AFG  2021-02-23                 NaN                NaN   \n",
       "2  Afghanistan      AFG  2021-02-24                 NaN                NaN   \n",
       "3  Afghanistan      AFG  2021-02-25                 NaN                NaN   \n",
       "4  Afghanistan      AFG  2021-02-26                 NaN                NaN   \n",
       "\n",
       "   people_fully_vaccinated  total_boosters  daily_vaccinations_raw  \\\n",
       "0                      NaN             NaN                     NaN   \n",
       "1                      NaN             NaN                     NaN   \n",
       "2                      NaN             NaN                     NaN   \n",
       "3                      NaN             NaN                     NaN   \n",
       "4                      NaN             NaN                     NaN   \n",
       "\n",
       "   daily_vaccinations  total_vaccinations_per_hundred  \\\n",
       "0                 NaN                             0.0   \n",
       "1              1367.0                             NaN   \n",
       "2              1367.0                             NaN   \n",
       "3              1367.0                             NaN   \n",
       "4              1367.0                             NaN   \n",
       "\n",
       "   people_vaccinated_per_hundred  people_fully_vaccinated_per_hundred  \\\n",
       "0                            0.0                                  NaN   \n",
       "1                            NaN                                  NaN   \n",
       "2                            NaN                                  NaN   \n",
       "3                            NaN                                  NaN   \n",
       "4                            NaN                                  NaN   \n",
       "\n",
       "   total_boosters_per_hundred  daily_vaccinations_per_million  \\\n",
       "0                         NaN                             NaN   \n",
       "1                         NaN                            33.0   \n",
       "2                         NaN                            33.0   \n",
       "3                         NaN                            33.0   \n",
       "4                         NaN                            33.0   \n",
       "\n",
       "   daily_people_vaccinated  daily_people_vaccinated_per_hundred  \n",
       "0                      NaN                                  NaN  \n",
       "1                   1367.0                                0.003  \n",
       "2                   1367.0                                0.003  \n",
       "3                   1367.0                                0.003  \n",
       "4                   1367.0                                0.003  "
      ]
     },
     "execution_count": 18,
     "metadata": {},
     "output_type": "execute_result"
    }
   ],
   "source": [
    "vacc_df.head()"
   ]
  },
  {
   "cell_type": "markdown",
   "metadata": {
    "jp-MarkdownHeadingCollapsed": true,
    "tags": []
   },
   "source": [
    "#### Selecting a single column:"
   ]
  },
  {
   "cell_type": "markdown",
   "metadata": {},
   "source": [
    "**return a single column as a series:**"
   ]
  },
  {
   "cell_type": "code",
   "execution_count": 19,
   "metadata": {},
   "outputs": [
    {
     "data": {
      "text/plain": [
       "0    Afghanistan\n",
       "1    Afghanistan\n",
       "2    Afghanistan\n",
       "3    Afghanistan\n",
       "4    Afghanistan\n",
       "Name: location, dtype: object"
      ]
     },
     "execution_count": 19,
     "metadata": {},
     "output_type": "execute_result"
    }
   ],
   "source": [
    "vacc_df.location.head()\n",
    "vacc_df['location'].head()"
   ]
  },
  {
   "cell_type": "markdown",
   "metadata": {},
   "source": [
    "note: using the `.` notation is possible only for columns whose names do not contain spaces or special characters. "
   ]
  },
  {
   "cell_type": "markdown",
   "metadata": {},
   "source": [
    "**return a single column as a dataframe:**"
   ]
  },
  {
   "cell_type": "code",
   "execution_count": 20,
   "metadata": {},
   "outputs": [
    {
     "data": {
      "text/html": [
       "<div>\n",
       "<style scoped>\n",
       "    .dataframe tbody tr th:only-of-type {\n",
       "        vertical-align: middle;\n",
       "    }\n",
       "\n",
       "    .dataframe tbody tr th {\n",
       "        vertical-align: top;\n",
       "    }\n",
       "\n",
       "    .dataframe thead th {\n",
       "        text-align: right;\n",
       "    }\n",
       "</style>\n",
       "<table border=\"1\" class=\"dataframe\">\n",
       "  <thead>\n",
       "    <tr style=\"text-align: right;\">\n",
       "      <th></th>\n",
       "      <th>location</th>\n",
       "    </tr>\n",
       "  </thead>\n",
       "  <tbody>\n",
       "    <tr>\n",
       "      <th>0</th>\n",
       "      <td>Afghanistan</td>\n",
       "    </tr>\n",
       "    <tr>\n",
       "      <th>1</th>\n",
       "      <td>Afghanistan</td>\n",
       "    </tr>\n",
       "    <tr>\n",
       "      <th>2</th>\n",
       "      <td>Afghanistan</td>\n",
       "    </tr>\n",
       "    <tr>\n",
       "      <th>3</th>\n",
       "      <td>Afghanistan</td>\n",
       "    </tr>\n",
       "    <tr>\n",
       "      <th>4</th>\n",
       "      <td>Afghanistan</td>\n",
       "    </tr>\n",
       "  </tbody>\n",
       "</table>\n",
       "</div>"
      ],
      "text/plain": [
       "      location\n",
       "0  Afghanistan\n",
       "1  Afghanistan\n",
       "2  Afghanistan\n",
       "3  Afghanistan\n",
       "4  Afghanistan"
      ]
     },
     "execution_count": 20,
     "metadata": {},
     "output_type": "execute_result"
    }
   ],
   "source": [
    "vacc_df[['location']].head()"
   ]
  },
  {
   "cell_type": "markdown",
   "metadata": {
    "jp-MarkdownHeadingCollapsed": true,
    "tags": []
   },
   "source": [
    "#### Selecting a few columns "
   ]
  },
  {
   "cell_type": "code",
   "execution_count": 21,
   "metadata": {},
   "outputs": [
    {
     "data": {
      "text/html": [
       "<div>\n",
       "<style scoped>\n",
       "    .dataframe tbody tr th:only-of-type {\n",
       "        vertical-align: middle;\n",
       "    }\n",
       "\n",
       "    .dataframe tbody tr th {\n",
       "        vertical-align: top;\n",
       "    }\n",
       "\n",
       "    .dataframe thead th {\n",
       "        text-align: right;\n",
       "    }\n",
       "</style>\n",
       "<table border=\"1\" class=\"dataframe\">\n",
       "  <thead>\n",
       "    <tr style=\"text-align: right;\">\n",
       "      <th></th>\n",
       "      <th>location</th>\n",
       "      <th>date</th>\n",
       "    </tr>\n",
       "  </thead>\n",
       "  <tbody>\n",
       "    <tr>\n",
       "      <th>0</th>\n",
       "      <td>Afghanistan</td>\n",
       "      <td>2021-02-22</td>\n",
       "    </tr>\n",
       "    <tr>\n",
       "      <th>1</th>\n",
       "      <td>Afghanistan</td>\n",
       "      <td>2021-02-23</td>\n",
       "    </tr>\n",
       "  </tbody>\n",
       "</table>\n",
       "</div>"
      ],
      "text/plain": [
       "      location        date\n",
       "0  Afghanistan  2021-02-22\n",
       "1  Afghanistan  2021-02-23"
      ]
     },
     "execution_count": 21,
     "metadata": {},
     "output_type": "execute_result"
    }
   ],
   "source": [
    "vacc_df[['location','date']].head(2)"
   ]
  },
  {
   "cell_type": "markdown",
   "metadata": {
    "jp-MarkdownHeadingCollapsed": true,
    "tags": []
   },
   "source": [
    "#### Select a specific cell: \n"
   ]
  },
  {
   "cell_type": "code",
   "execution_count": 22,
   "metadata": {},
   "outputs": [
    {
     "data": {
      "text/plain": [
       "'Afghanistan'"
      ]
     },
     "execution_count": 22,
     "metadata": {},
     "output_type": "execute_result"
    }
   ],
   "source": [
    "vacc_df.location[600]"
   ]
  },
  {
   "cell_type": "markdown",
   "metadata": {},
   "source": [
    "---\n",
    "### <span style=\"color:blue\"> Exercise:</span>\n",
    "> Now you:\n",
    ">\n",
    "> (1) Select the `iso_code` column from the `vacc_df` dataframe\n",
    ">\n",
    "> (2) Select only the `iso_code` at index 3\n",
    ">\n",
    "> (3) What is the difference between `vacc_df[['location']]` and `vacc_df['location']` and `vacc_df.location` ?  Use `type` to find out\n"
   ]
  },
  {
   "cell_type": "code",
   "execution_count": null,
   "metadata": {},
   "outputs": [],
   "source": []
  },
  {
   "cell_type": "code",
   "execution_count": null,
   "metadata": {},
   "outputs": [],
   "source": []
  },
  {
   "cell_type": "code",
   "execution_count": null,
   "metadata": {},
   "outputs": [],
   "source": []
  },
  {
   "cell_type": "code",
   "execution_count": null,
   "metadata": {},
   "outputs": [],
   "source": []
  },
  {
   "cell_type": "code",
   "execution_count": null,
   "metadata": {},
   "outputs": [],
   "source": []
  },
  {
   "cell_type": "markdown",
   "metadata": {},
   "source": [
    "---"
   ]
  },
  {
   "cell_type": "markdown",
   "metadata": {
    "tags": []
   },
   "source": [
    "### Seletcting subsets of rows and columns\n",
    "\n",
    "One way to do that is iloc. \n",
    "\n",
    "`.iloc` - selects subsets of rows and columns by integer location only"
   ]
  },
  {
   "cell_type": "code",
   "execution_count": 23,
   "metadata": {},
   "outputs": [
    {
     "data": {
      "text/html": [
       "<div>\n",
       "<style scoped>\n",
       "    .dataframe tbody tr th:only-of-type {\n",
       "        vertical-align: middle;\n",
       "    }\n",
       "\n",
       "    .dataframe tbody tr th {\n",
       "        vertical-align: top;\n",
       "    }\n",
       "\n",
       "    .dataframe thead th {\n",
       "        text-align: right;\n",
       "    }\n",
       "</style>\n",
       "<table border=\"1\" class=\"dataframe\">\n",
       "  <thead>\n",
       "    <tr style=\"text-align: right;\">\n",
       "      <th></th>\n",
       "      <th>location</th>\n",
       "      <th>iso_code</th>\n",
       "      <th>date</th>\n",
       "      <th>total_vaccinations</th>\n",
       "      <th>people_vaccinated</th>\n",
       "      <th>people_fully_vaccinated</th>\n",
       "      <th>total_boosters</th>\n",
       "      <th>daily_vaccinations_raw</th>\n",
       "      <th>daily_vaccinations</th>\n",
       "      <th>total_vaccinations_per_hundred</th>\n",
       "      <th>people_vaccinated_per_hundred</th>\n",
       "      <th>people_fully_vaccinated_per_hundred</th>\n",
       "      <th>total_boosters_per_hundred</th>\n",
       "      <th>daily_vaccinations_per_million</th>\n",
       "      <th>daily_people_vaccinated</th>\n",
       "      <th>daily_people_vaccinated_per_hundred</th>\n",
       "    </tr>\n",
       "  </thead>\n",
       "  <tbody>\n",
       "    <tr>\n",
       "      <th>157995</th>\n",
       "      <td>Zimbabwe</td>\n",
       "      <td>ZWE</td>\n",
       "      <td>2022-10-09</td>\n",
       "      <td>12222754.0</td>\n",
       "      <td>6437808.0</td>\n",
       "      <td>4751270.0</td>\n",
       "      <td>1033676.0</td>\n",
       "      <td>NaN</td>\n",
       "      <td>1126.0</td>\n",
       "      <td>74.89</td>\n",
       "      <td>39.45</td>\n",
       "      <td>29.11</td>\n",
       "      <td>6.33</td>\n",
       "      <td>69.0</td>\n",
       "      <td>332.0</td>\n",
       "      <td>0.002</td>\n",
       "    </tr>\n",
       "  </tbody>\n",
       "</table>\n",
       "</div>"
      ],
      "text/plain": [
       "        location iso_code        date  total_vaccinations  people_vaccinated  \\\n",
       "157995  Zimbabwe      ZWE  2022-10-09          12222754.0          6437808.0   \n",
       "\n",
       "        people_fully_vaccinated  total_boosters  daily_vaccinations_raw  \\\n",
       "157995                4751270.0       1033676.0                     NaN   \n",
       "\n",
       "        daily_vaccinations  total_vaccinations_per_hundred  \\\n",
       "157995              1126.0                           74.89   \n",
       "\n",
       "        people_vaccinated_per_hundred  people_fully_vaccinated_per_hundred  \\\n",
       "157995                          39.45                                29.11   \n",
       "\n",
       "        total_boosters_per_hundred  daily_vaccinations_per_million  \\\n",
       "157995                        6.33                            69.0   \n",
       "\n",
       "        daily_people_vaccinated  daily_people_vaccinated_per_hundred  \n",
       "157995                    332.0                                0.002  "
      ]
     },
     "execution_count": 23,
     "metadata": {},
     "output_type": "execute_result"
    }
   ],
   "source": [
    "vacc_df.iloc[0]  #first row as a series\n",
    "vacc_df.iloc[0:1]  #first row as a dataframe\n",
    "vacc_df.iloc[-1] #last row as a series\n",
    "vacc_df.iloc[-1:] #last row as a dataframe"
   ]
  },
  {
   "cell_type": "markdown",
   "metadata": {},
   "source": [
    "The : operator \n",
    "\n",
    " - when used alone it means \"everything\"\n",
    "\n",
    "- also used to indicate a ***slice*** of values\n"
   ]
  },
  {
   "cell_type": "code",
   "execution_count": 24,
   "metadata": {},
   "outputs": [
    {
     "data": {
      "text/html": [
       "<div>\n",
       "<style scoped>\n",
       "    .dataframe tbody tr th:only-of-type {\n",
       "        vertical-align: middle;\n",
       "    }\n",
       "\n",
       "    .dataframe tbody tr th {\n",
       "        vertical-align: top;\n",
       "    }\n",
       "\n",
       "    .dataframe thead th {\n",
       "        text-align: right;\n",
       "    }\n",
       "</style>\n",
       "<table border=\"1\" class=\"dataframe\">\n",
       "  <thead>\n",
       "    <tr style=\"text-align: right;\">\n",
       "      <th></th>\n",
       "      <th>location</th>\n",
       "      <th>people_fully_vaccinated</th>\n",
       "      <th>total_boosters</th>\n",
       "    </tr>\n",
       "  </thead>\n",
       "  <tbody>\n",
       "    <tr>\n",
       "      <th>0</th>\n",
       "      <td>Afghanistan</td>\n",
       "      <td>NaN</td>\n",
       "      <td>NaN</td>\n",
       "    </tr>\n",
       "    <tr>\n",
       "      <th>3</th>\n",
       "      <td>Afghanistan</td>\n",
       "      <td>NaN</td>\n",
       "      <td>NaN</td>\n",
       "    </tr>\n",
       "    <tr>\n",
       "      <th>6</th>\n",
       "      <td>Afghanistan</td>\n",
       "      <td>NaN</td>\n",
       "      <td>NaN</td>\n",
       "    </tr>\n",
       "    <tr>\n",
       "      <th>24</th>\n",
       "      <td>Afghanistan</td>\n",
       "      <td>NaN</td>\n",
       "      <td>NaN</td>\n",
       "    </tr>\n",
       "  </tbody>\n",
       "</table>\n",
       "</div>"
      ],
      "text/plain": [
       "       location  people_fully_vaccinated  total_boosters\n",
       "0   Afghanistan                      NaN             NaN\n",
       "3   Afghanistan                      NaN             NaN\n",
       "6   Afghanistan                      NaN             NaN\n",
       "24  Afghanistan                      NaN             NaN"
      ]
     },
     "execution_count": 24,
     "metadata": {},
     "output_type": "execute_result"
    }
   ],
   "source": [
    "vacc_df.iloc[2:4] # second and third row\n",
    "vacc_df.iloc[[-1,2,22]] #a few specific rows\n",
    "\n",
    "# Columns:\n",
    "vacc_df.iloc[:,0] # first column of data frame  \n",
    "vacc_df.iloc[:,1] # second column of data frame  \n",
    "vacc_df.iloc[:,-1] # last column of data frame\n",
    "\n",
    "#Rows and columns\n",
    "vacc_df.iloc[0:5] # first five rows of dataframe\n",
    "vacc_df.iloc[4:6, 0:2] # first two columns of data frame with all rows\n",
    "vacc_df.iloc[[0,3,6,24], [0,5,6]] # 1st, 4th, 7th, 25th row + 1st 6th 7th columns."
   ]
  },
  {
   "cell_type": "markdown",
   "metadata": {},
   "source": [
    "What if I want to select the 'daily_vaccinations' column, but I don't remember the column number?"
   ]
  },
  {
   "cell_type": "markdown",
   "metadata": {},
   "source": [
    "Use `.loc`\n",
    "\n",
    "`.loc` - selects subsets of rows and columns by label only. Allowed inputs are:\n",
    "\n",
    "- A single label, e.g. 5 or 'a', (note that 5 is interpreted as a label of the index, and never as an integer position along the index).\n",
    "\n",
    "- A list or array of labels, e.g. ['a', 'b', 'c'].\n",
    "\n",
    "- A slice object with labels, e.g. 'a':'f'."
   ]
  },
  {
   "cell_type": "code",
   "execution_count": 25,
   "metadata": {},
   "outputs": [
    {
     "data": {
      "text/html": [
       "<div>\n",
       "<style scoped>\n",
       "    .dataframe tbody tr th:only-of-type {\n",
       "        vertical-align: middle;\n",
       "    }\n",
       "\n",
       "    .dataframe tbody tr th {\n",
       "        vertical-align: top;\n",
       "    }\n",
       "\n",
       "    .dataframe thead th {\n",
       "        text-align: right;\n",
       "    }\n",
       "</style>\n",
       "<table border=\"1\" class=\"dataframe\">\n",
       "  <thead>\n",
       "    <tr style=\"text-align: right;\">\n",
       "      <th></th>\n",
       "      <th>daily_vaccinations</th>\n",
       "      <th>date</th>\n",
       "    </tr>\n",
       "  </thead>\n",
       "  <tbody>\n",
       "    <tr>\n",
       "      <th>2</th>\n",
       "      <td>1367.0</td>\n",
       "      <td>2021-02-24</td>\n",
       "    </tr>\n",
       "    <tr>\n",
       "      <th>3</th>\n",
       "      <td>1367.0</td>\n",
       "      <td>2021-02-25</td>\n",
       "    </tr>\n",
       "  </tbody>\n",
       "</table>\n",
       "</div>"
      ],
      "text/plain": [
       "   daily_vaccinations        date\n",
       "2              1367.0  2021-02-24\n",
       "3              1367.0  2021-02-25"
      ]
     },
     "execution_count": 25,
     "metadata": {},
     "output_type": "execute_result"
    }
   ],
   "source": [
    "vacc_df.loc[2:3,['daily_vaccinations','date']]"
   ]
  },
  {
   "cell_type": "markdown",
   "metadata": {},
   "source": [
    "I'm missing the location. Let's add it. "
   ]
  },
  {
   "cell_type": "code",
   "execution_count": 26,
   "metadata": {},
   "outputs": [
    {
     "data": {
      "text/html": [
       "<div>\n",
       "<style scoped>\n",
       "    .dataframe tbody tr th:only-of-type {\n",
       "        vertical-align: middle;\n",
       "    }\n",
       "\n",
       "    .dataframe tbody tr th {\n",
       "        vertical-align: top;\n",
       "    }\n",
       "\n",
       "    .dataframe thead th {\n",
       "        text-align: right;\n",
       "    }\n",
       "</style>\n",
       "<table border=\"1\" class=\"dataframe\">\n",
       "  <thead>\n",
       "    <tr style=\"text-align: right;\">\n",
       "      <th></th>\n",
       "      <th>location</th>\n",
       "      <th>daily_vaccinations</th>\n",
       "      <th>date</th>\n",
       "    </tr>\n",
       "  </thead>\n",
       "  <tbody>\n",
       "    <tr>\n",
       "      <th>0</th>\n",
       "      <td>Afghanistan</td>\n",
       "      <td>NaN</td>\n",
       "      <td>2021-02-22</td>\n",
       "    </tr>\n",
       "    <tr>\n",
       "      <th>1</th>\n",
       "      <td>Afghanistan</td>\n",
       "      <td>1367.0</td>\n",
       "      <td>2021-02-23</td>\n",
       "    </tr>\n",
       "    <tr>\n",
       "      <th>2</th>\n",
       "      <td>Afghanistan</td>\n",
       "      <td>1367.0</td>\n",
       "      <td>2021-02-24</td>\n",
       "    </tr>\n",
       "    <tr>\n",
       "      <th>3</th>\n",
       "      <td>Afghanistan</td>\n",
       "      <td>1367.0</td>\n",
       "      <td>2021-02-25</td>\n",
       "    </tr>\n",
       "  </tbody>\n",
       "</table>\n",
       "</div>"
      ],
      "text/plain": [
       "      location  daily_vaccinations        date\n",
       "0  Afghanistan                 NaN  2021-02-22\n",
       "1  Afghanistan              1367.0  2021-02-23\n",
       "2  Afghanistan              1367.0  2021-02-24\n",
       "3  Afghanistan              1367.0  2021-02-25"
      ]
     },
     "execution_count": 26,
     "metadata": {},
     "output_type": "execute_result"
    }
   ],
   "source": [
    "vacc_df.loc[0:3,['location','daily_vaccinations','date']]"
   ]
  },
  {
   "cell_type": "markdown",
   "metadata": {},
   "source": [
    "Semantics are similar to iloc. But note:\n",
    "\n",
    "- `iloc` excludes the last element.  `df.iloc[0:1000]` will return entries 0...999\n",
    "- `loc`, includes the last element.  `df.loc[0:1000]` will return entries 0...1000\n",
    "\n",
    "you try it! What is the difference between:\n",
    "\n",
    "> vacc_df.iloc[0:5]\n",
    "\n",
    "> vacc_df.loc[0:5]"
   ]
  },
  {
   "cell_type": "code",
   "execution_count": null,
   "metadata": {},
   "outputs": [],
   "source": []
  },
  {
   "cell_type": "code",
   "execution_count": null,
   "metadata": {},
   "outputs": [],
   "source": []
  },
  {
   "cell_type": "markdown",
   "metadata": {},
   "source": [
    "---\n",
    "### <span style=\"color:blue\"> Exercise:</span>\n",
    ">Now you: \n",
    ">\n",
    ">what do you do to select:\n",
    ">\n",
    ">a. first five rows?\n",
    ">\n",
    ">b. first two columns, all rows?\n",
    ">\n",
    ">c. 1st and 3rd row and 2nd and 4th column?\n",
    "\n",
    "---\n"
   ]
  },
  {
   "cell_type": "code",
   "execution_count": null,
   "metadata": {},
   "outputs": [],
   "source": []
  },
  {
   "cell_type": "code",
   "execution_count": null,
   "metadata": {},
   "outputs": [],
   "source": []
  },
  {
   "cell_type": "code",
   "execution_count": null,
   "metadata": {},
   "outputs": [],
   "source": []
  },
  {
   "cell_type": "code",
   "execution_count": null,
   "metadata": {},
   "outputs": [],
   "source": []
  },
  {
   "cell_type": "markdown",
   "metadata": {},
   "source": [
    "---\n",
    "A summary of the functions in this unit:\n",
    "\n",
    ">* `.iloc` - selects rows and columns by integer location\n",
    ">* `.loc` - selects rows and columns by label location\n",
    "\n"
   ]
  },
  {
   "cell_type": "markdown",
   "metadata": {},
   "source": [
    "Note: indexing operators as the ones working on dictionaries, will also work in pandas. But for more advanced operations, better get used to loc and iloc.\n",
    "\n",
    "---"
   ]
  },
  {
   "cell_type": "markdown",
   "metadata": {},
   "source": [
    "<a id='section4'></a>"
   ]
  },
  {
   "cell_type": "markdown",
   "metadata": {
    "tags": []
   },
   "source": [
    "<a id='section4'></a>"
   ]
  },
  {
   "cell_type": "markdown",
   "metadata": {
    "tags": []
   },
   "source": [
    "## 4. Describe the data:"
   ]
  },
  {
   "cell_type": "markdown",
   "metadata": {},
   "source": [
    "Describe the data"
   ]
  },
  {
   "cell_type": "code",
   "execution_count": 27,
   "metadata": {},
   "outputs": [
    {
     "data": {
      "text/html": [
       "<div>\n",
       "<style scoped>\n",
       "    .dataframe tbody tr th:only-of-type {\n",
       "        vertical-align: middle;\n",
       "    }\n",
       "\n",
       "    .dataframe tbody tr th {\n",
       "        vertical-align: top;\n",
       "    }\n",
       "\n",
       "    .dataframe thead th {\n",
       "        text-align: right;\n",
       "    }\n",
       "</style>\n",
       "<table border=\"1\" class=\"dataframe\">\n",
       "  <thead>\n",
       "    <tr style=\"text-align: right;\">\n",
       "      <th></th>\n",
       "      <th>total_vaccinations</th>\n",
       "      <th>people_vaccinated</th>\n",
       "      <th>people_fully_vaccinated</th>\n",
       "      <th>total_boosters</th>\n",
       "      <th>daily_vaccinations_raw</th>\n",
       "      <th>daily_vaccinations</th>\n",
       "      <th>total_vaccinations_per_hundred</th>\n",
       "      <th>people_vaccinated_per_hundred</th>\n",
       "      <th>people_fully_vaccinated_per_hundred</th>\n",
       "      <th>total_boosters_per_hundred</th>\n",
       "      <th>daily_vaccinations_per_million</th>\n",
       "      <th>daily_people_vaccinated</th>\n",
       "      <th>daily_people_vaccinated_per_hundred</th>\n",
       "    </tr>\n",
       "  </thead>\n",
       "  <tbody>\n",
       "    <tr>\n",
       "      <th>count</th>\n",
       "      <td>7.287000e+04</td>\n",
       "      <td>6.977300e+04</td>\n",
       "      <td>6.711400e+04</td>\n",
       "      <td>4.159800e+04</td>\n",
       "      <td>6.044700e+04</td>\n",
       "      <td>1.568800e+05</td>\n",
       "      <td>72870.000000</td>\n",
       "      <td>69773.000000</td>\n",
       "      <td>67114.000000</td>\n",
       "      <td>41598.000000</td>\n",
       "      <td>156880.000000</td>\n",
       "      <td>1.568020e+05</td>\n",
       "      <td>156802.000000</td>\n",
       "    </tr>\n",
       "    <tr>\n",
       "      <th>mean</th>\n",
       "      <td>3.398028e+08</td>\n",
       "      <td>1.523225e+08</td>\n",
       "      <td>1.348679e+08</td>\n",
       "      <td>7.929824e+07</td>\n",
       "      <td>8.554187e+05</td>\n",
       "      <td>3.461992e+05</td>\n",
       "      <td>111.638479</td>\n",
       "      <td>50.030986</td>\n",
       "      <td>44.990197</td>\n",
       "      <td>30.772319</td>\n",
       "      <td>2231.019971</td>\n",
       "      <td>1.281494e+05</td>\n",
       "      <td>0.090765</td>\n",
       "    </tr>\n",
       "    <tr>\n",
       "      <th>std</th>\n",
       "      <td>1.328235e+09</td>\n",
       "      <td>5.952441e+08</td>\n",
       "      <td>5.388349e+08</td>\n",
       "      <td>2.927462e+08</td>\n",
       "      <td>3.433034e+06</td>\n",
       "      <td>2.136716e+06</td>\n",
       "      <td>82.818443</td>\n",
       "      <td>29.988264</td>\n",
       "      <td>29.578417</td>\n",
       "      <td>28.545447</td>\n",
       "      <td>3329.157677</td>\n",
       "      <td>8.693271e+05</td>\n",
       "      <td>0.191469</td>\n",
       "    </tr>\n",
       "    <tr>\n",
       "      <th>min</th>\n",
       "      <td>0.000000e+00</td>\n",
       "      <td>0.000000e+00</td>\n",
       "      <td>1.000000e+00</td>\n",
       "      <td>1.000000e+00</td>\n",
       "      <td>0.000000e+00</td>\n",
       "      <td>0.000000e+00</td>\n",
       "      <td>0.000000</td>\n",
       "      <td>0.000000</td>\n",
       "      <td>0.000000</td>\n",
       "      <td>0.000000</td>\n",
       "      <td>0.000000</td>\n",
       "      <td>0.000000e+00</td>\n",
       "      <td>0.000000</td>\n",
       "    </tr>\n",
       "    <tr>\n",
       "      <th>25%</th>\n",
       "      <td>1.389011e+06</td>\n",
       "      <td>8.114520e+05</td>\n",
       "      <td>6.975100e+05</td>\n",
       "      <td>2.255080e+05</td>\n",
       "      <td>3.461000e+03</td>\n",
       "      <td>4.610000e+02</td>\n",
       "      <td>32.550000</td>\n",
       "      <td>22.030000</td>\n",
       "      <td>15.210000</td>\n",
       "      <td>2.560000</td>\n",
       "      <td>227.000000</td>\n",
       "      <td>8.800000e+01</td>\n",
       "      <td>0.004000</td>\n",
       "    </tr>\n",
       "    <tr>\n",
       "      <th>50%</th>\n",
       "      <td>1.058416e+07</td>\n",
       "      <td>5.113508e+06</td>\n",
       "      <td>4.523844e+06</td>\n",
       "      <td>3.350936e+06</td>\n",
       "      <td>2.853000e+04</td>\n",
       "      <td>5.274000e+03</td>\n",
       "      <td>109.335000</td>\n",
       "      <td>57.650000</td>\n",
       "      <td>51.370000</td>\n",
       "      <td>26.990000</td>\n",
       "      <td>978.000000</td>\n",
       "      <td>1.310000e+03</td>\n",
       "      <td>0.024000</td>\n",
       "    </tr>\n",
       "    <tr>\n",
       "      <th>75%</th>\n",
       "      <td>7.218017e+07</td>\n",
       "      <td>3.352442e+07</td>\n",
       "      <td>2.848087e+07</td>\n",
       "      <td>2.310950e+07</td>\n",
       "      <td>2.259140e+05</td>\n",
       "      <td>4.042775e+04</td>\n",
       "      <td>179.300000</td>\n",
       "      <td>76.310000</td>\n",
       "      <td>71.590000</td>\n",
       "      <td>54.170000</td>\n",
       "      <td>2994.000000</td>\n",
       "      <td>1.332000e+04</td>\n",
       "      <td>0.100000</td>\n",
       "    </tr>\n",
       "    <tr>\n",
       "      <th>max</th>\n",
       "      <td>1.331296e+10</td>\n",
       "      <td>5.556363e+09</td>\n",
       "      <td>5.107791e+09</td>\n",
       "      <td>2.739484e+09</td>\n",
       "      <td>4.967828e+07</td>\n",
       "      <td>4.369139e+07</td>\n",
       "      <td>406.430000</td>\n",
       "      <td>129.070000</td>\n",
       "      <td>126.890000</td>\n",
       "      <td>150.470000</td>\n",
       "      <td>117113.000000</td>\n",
       "      <td>2.107134e+07</td>\n",
       "      <td>11.711000</td>\n",
       "    </tr>\n",
       "  </tbody>\n",
       "</table>\n",
       "</div>"
      ],
      "text/plain": [
       "       total_vaccinations  people_vaccinated  people_fully_vaccinated  \\\n",
       "count        7.287000e+04       6.977300e+04             6.711400e+04   \n",
       "mean         3.398028e+08       1.523225e+08             1.348679e+08   \n",
       "std          1.328235e+09       5.952441e+08             5.388349e+08   \n",
       "min          0.000000e+00       0.000000e+00             1.000000e+00   \n",
       "25%          1.389011e+06       8.114520e+05             6.975100e+05   \n",
       "50%          1.058416e+07       5.113508e+06             4.523844e+06   \n",
       "75%          7.218017e+07       3.352442e+07             2.848087e+07   \n",
       "max          1.331296e+10       5.556363e+09             5.107791e+09   \n",
       "\n",
       "       total_boosters  daily_vaccinations_raw  daily_vaccinations  \\\n",
       "count    4.159800e+04            6.044700e+04        1.568800e+05   \n",
       "mean     7.929824e+07            8.554187e+05        3.461992e+05   \n",
       "std      2.927462e+08            3.433034e+06        2.136716e+06   \n",
       "min      1.000000e+00            0.000000e+00        0.000000e+00   \n",
       "25%      2.255080e+05            3.461000e+03        4.610000e+02   \n",
       "50%      3.350936e+06            2.853000e+04        5.274000e+03   \n",
       "75%      2.310950e+07            2.259140e+05        4.042775e+04   \n",
       "max      2.739484e+09            4.967828e+07        4.369139e+07   \n",
       "\n",
       "       total_vaccinations_per_hundred  people_vaccinated_per_hundred  \\\n",
       "count                    72870.000000                   69773.000000   \n",
       "mean                       111.638479                      50.030986   \n",
       "std                         82.818443                      29.988264   \n",
       "min                          0.000000                       0.000000   \n",
       "25%                         32.550000                      22.030000   \n",
       "50%                        109.335000                      57.650000   \n",
       "75%                        179.300000                      76.310000   \n",
       "max                        406.430000                     129.070000   \n",
       "\n",
       "       people_fully_vaccinated_per_hundred  total_boosters_per_hundred  \\\n",
       "count                         67114.000000                41598.000000   \n",
       "mean                             44.990197                   30.772319   \n",
       "std                              29.578417                   28.545447   \n",
       "min                               0.000000                    0.000000   \n",
       "25%                              15.210000                    2.560000   \n",
       "50%                              51.370000                   26.990000   \n",
       "75%                              71.590000                   54.170000   \n",
       "max                             126.890000                  150.470000   \n",
       "\n",
       "       daily_vaccinations_per_million  daily_people_vaccinated  \\\n",
       "count                   156880.000000             1.568020e+05   \n",
       "mean                      2231.019971             1.281494e+05   \n",
       "std                       3329.157677             8.693271e+05   \n",
       "min                          0.000000             0.000000e+00   \n",
       "25%                        227.000000             8.800000e+01   \n",
       "50%                        978.000000             1.310000e+03   \n",
       "75%                       2994.000000             1.332000e+04   \n",
       "max                     117113.000000             2.107134e+07   \n",
       "\n",
       "       daily_people_vaccinated_per_hundred  \n",
       "count                        156802.000000  \n",
       "mean                              0.090765  \n",
       "std                               0.191469  \n",
       "min                               0.000000  \n",
       "25%                               0.004000  \n",
       "50%                               0.024000  \n",
       "75%                               0.100000  \n",
       "max                              11.711000  "
      ]
     },
     "execution_count": 27,
     "metadata": {},
     "output_type": "execute_result"
    }
   ],
   "source": [
    "vacc_df.describe()"
   ]
  },
  {
   "cell_type": "markdown",
   "metadata": {},
   "source": [
    "a note on e: e stands for exponent of 10, and it's always followed by another number, which is the value of the exponent\n",
    "\n",
    "10e + 1 = 100\n",
    "\n",
    "10e + 2 = 1000"
   ]
  },
  {
   "cell_type": "markdown",
   "metadata": {},
   "source": [
    "describe categorical data:"
   ]
  },
  {
   "cell_type": "code",
   "execution_count": 28,
   "metadata": {},
   "outputs": [
    {
     "data": {
      "text/html": [
       "<div>\n",
       "<style scoped>\n",
       "    .dataframe tbody tr th:only-of-type {\n",
       "        vertical-align: middle;\n",
       "    }\n",
       "\n",
       "    .dataframe tbody tr th {\n",
       "        vertical-align: top;\n",
       "    }\n",
       "\n",
       "    .dataframe thead th {\n",
       "        text-align: right;\n",
       "    }\n",
       "</style>\n",
       "<table border=\"1\" class=\"dataframe\">\n",
       "  <thead>\n",
       "    <tr style=\"text-align: right;\">\n",
       "      <th></th>\n",
       "      <th>location</th>\n",
       "    </tr>\n",
       "  </thead>\n",
       "  <tbody>\n",
       "    <tr>\n",
       "      <th>count</th>\n",
       "      <td>157996</td>\n",
       "    </tr>\n",
       "    <tr>\n",
       "      <th>unique</th>\n",
       "      <td>235</td>\n",
       "    </tr>\n",
       "    <tr>\n",
       "      <th>top</th>\n",
       "      <td>World</td>\n",
       "    </tr>\n",
       "    <tr>\n",
       "      <th>freq</th>\n",
       "      <td>819</td>\n",
       "    </tr>\n",
       "  </tbody>\n",
       "</table>\n",
       "</div>"
      ],
      "text/plain": [
       "       location\n",
       "count    157996\n",
       "unique      235\n",
       "top       World\n",
       "freq        819"
      ]
     },
     "execution_count": 28,
     "metadata": {},
     "output_type": "execute_result"
    }
   ],
   "source": [
    "vacc_df[['location']].describe()"
   ]
  },
  {
   "cell_type": "markdown",
   "metadata": {},
   "source": [
    "Note that in this dataset, some of the locations are not countries. For example: `High income`,`Africa`, `World`."
   ]
  },
  {
   "cell_type": "markdown",
   "metadata": {},
   "source": [
    "Count how many times each location is mentioned in the dataset"
   ]
  },
  {
   "cell_type": "code",
   "execution_count": 29,
   "metadata": {},
   "outputs": [
    {
     "data": {
      "text/plain": [
       "location                       \n",
       "World                              819\n",
       "High income                        819\n",
       "Europe                             819\n",
       "European Union                     817\n",
       "Denmark                            812\n",
       "                                  ... \n",
       "Monaco                             357\n",
       "Bosnia and Herzegovina             353\n",
       "Bonaire Sint Eustatius and Saba    146\n",
       "Saint Helena                        92\n",
       "Falkland Islands                    67\n",
       "Length: 235, dtype: int64"
      ]
     },
     "execution_count": 29,
     "metadata": {},
     "output_type": "execute_result"
    }
   ],
   "source": [
    "vacc_df[['location']].value_counts()"
   ]
  },
  {
   "cell_type": "markdown",
   "metadata": {
    "tags": []
   },
   "source": [
    "---\n",
    "## Summary of the functions in this unit:\n",
    "\n",
    ">* `.describe()` - View statistical information about the data\n",
    ">* `value_counts` - counts how many times a certain value appears in a column \n",
    "\n"
   ]
  },
  {
   "cell_type": "code",
   "execution_count": null,
   "metadata": {},
   "outputs": [],
   "source": []
  }
 ],
 "metadata": {
  "kernelspec": {
   "display_name": "Python 3 (ipykernel)",
   "language": "python",
   "name": "python3"
  },
  "language_info": {
   "codemirror_mode": {
    "name": "ipython",
    "version": 3
   },
   "file_extension": ".py",
   "mimetype": "text/x-python",
   "name": "python",
   "nbconvert_exporter": "python",
   "pygments_lexer": "ipython3",
   "version": "3.9.13"
  }
 },
 "nbformat": 4,
 "nbformat_minor": 4
}
